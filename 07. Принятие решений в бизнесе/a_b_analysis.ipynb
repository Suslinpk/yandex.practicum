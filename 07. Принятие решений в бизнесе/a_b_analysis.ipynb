{
 "cells": [
  {
   "cell_type": "markdown",
   "metadata": {},
   "source": [
    "# Приоритизация гипотез,  A/B-тест и анализ результатов"
   ]
  },
  {
   "cell_type": "markdown",
   "metadata": {},
   "source": [
    "**Суть проекта:**\n",
    "Интернет-магазину необходимо проанализировать гипотизы для увеличения выручки, провести их приоритизацию, запустить А/В-тест и проанализировать результаты.\n",
    "\n",
    "Проект состоит из двух частей:\n",
    "\n",
    "1) Приоритизация гипотез. 9 гипотез по увеличению выручки интернет-магазина с указанными параметрами Reach, Impact, Confidence, Effort.\n",
    "\n",
    "2) Анализ А/В-теста. Мы провели А/В-тест и получили результаты. Необходимо:\n",
    "- Построить график кумулятивной выручки по группам. Сделать выводы и предположения.\n",
    "- Построить график кумулятивного среднего чека по группам. Сделать выводы и предположения.\n",
    "- Построить график относительного изменения кумулятивного среднего чека группы B к группе A. Сделать выводы и предположения.\n",
    "- Построить график кумулятивной конверсии по группам. Сделать выводы и предположения.\n",
    "- Построить график относительного изменения кумулятивной конверсии группы B к группе A. Сделать выводы и предположения.\n",
    "- Построить точечный график количества заказов по пользователям. Сделать выводы и предположения.\n",
    "- Построить 95-й и 99-й перцентили количества заказов на пользователя. Выбрать границу для определения аномальных пользователей.\n",
    "- Построить точечный график стоимостей заказов. Сделать выводы и предположения.\n",
    "- Посчитать 95-й и 99-й перцентили стоимости заказов. Выберать границу для определения аномальных заказов.\n",
    "- Посчитать статистическую значимость различий в конверсии между группами по «сырым» данным. Сделать выводы и предположения.\n",
    "- Посчитать статистическую значимость различий в среднем чеке заказа между группами по «сырым» данным. Сделать выводы и предположения.\n",
    "- Посчитать статистическую значимость различий в конверсии между группами по «очищенным» данным. Сделайте выводы и предположения.\n",
    "- Посчитать статистическую значимость различий в среднем чеке заказа между группами по «очищенным» данным. Сделать выводы и предположения.\n",
    "- Принять решение по результатам теста и объясните его. Варианты решений: 1. Остановить тест, зафиксировать победу одной из групп. 2. Остановить тест, зафиксировать отсутствие различий между группами. 3. Продолжить тест.\n",
    "\n",
    "Короче работы немерено =) поехали!"
   ]
  },
  {
   "cell_type": "markdown",
   "metadata": {},
   "source": [
    "## Приоритизация гипотез"
   ]
  },
  {
   "cell_type": "markdown",
   "metadata": {},
   "source": [
    "### Загрузка данных"
   ]
  },
  {
   "cell_type": "code",
   "execution_count": 1,
   "metadata": {},
   "outputs": [],
   "source": [
    "import pandas as pd\n",
    "from scipy import stats as st\n",
    "import numpy as np\n",
    "import math as mth\n",
    "import datetime as dt\n",
    "import matplotlib.pyplot as plt\n",
    "from pandas.plotting import register_matplotlib_converters\n",
    "import warnings\n",
    "register_matplotlib_converters()"
   ]
  },
  {
   "cell_type": "code",
   "execution_count": 2,
   "metadata": {},
   "outputs": [],
   "source": [
    "# Сброс ограничений на количество выводимых рядов\n",
    "pd.set_option('display.max_rows', None)\n",
    " \n",
    "# Сброс ограничений на число столбцов\n",
    "pd.set_option('display.max_columns', None)\n",
    " \n",
    "# Сброс ограничений на количество символов в записи\n",
    "pd.set_option('display.max_colwidth', None)"
   ]
  },
  {
   "cell_type": "code",
   "execution_count": 3,
   "metadata": {},
   "outputs": [
    {
     "data": {
      "text/html": [
       "<div>\n",
       "<style scoped>\n",
       "    .dataframe tbody tr th:only-of-type {\n",
       "        vertical-align: middle;\n",
       "    }\n",
       "\n",
       "    .dataframe tbody tr th {\n",
       "        vertical-align: top;\n",
       "    }\n",
       "\n",
       "    .dataframe thead th {\n",
       "        text-align: right;\n",
       "    }\n",
       "</style>\n",
       "<table border=\"1\" class=\"dataframe\">\n",
       "  <thead>\n",
       "    <tr style=\"text-align: right;\">\n",
       "      <th></th>\n",
       "      <th>hypothesis</th>\n",
       "      <th>reach</th>\n",
       "      <th>impact</th>\n",
       "      <th>confidence</th>\n",
       "      <th>efforts</th>\n",
       "    </tr>\n",
       "  </thead>\n",
       "  <tbody>\n",
       "    <tr>\n",
       "      <th>0</th>\n",
       "      <td>Добавить два новых канала привлечения трафика, что позволит привлекать на 30% больше пользователей</td>\n",
       "      <td>3</td>\n",
       "      <td>10</td>\n",
       "      <td>8</td>\n",
       "      <td>6</td>\n",
       "    </tr>\n",
       "    <tr>\n",
       "      <th>1</th>\n",
       "      <td>Запустить собственную службу доставки, что сократит срок доставки заказов</td>\n",
       "      <td>2</td>\n",
       "      <td>5</td>\n",
       "      <td>4</td>\n",
       "      <td>10</td>\n",
       "    </tr>\n",
       "    <tr>\n",
       "      <th>2</th>\n",
       "      <td>Добавить блоки рекомендаций товаров на сайт интернет магазина, чтобы повысить конверсию и средний чек заказа</td>\n",
       "      <td>8</td>\n",
       "      <td>3</td>\n",
       "      <td>7</td>\n",
       "      <td>3</td>\n",
       "    </tr>\n",
       "    <tr>\n",
       "      <th>3</th>\n",
       "      <td>Изменить структура категорий, что увеличит конверсию, т.к. пользователи быстрее найдут нужный товар</td>\n",
       "      <td>8</td>\n",
       "      <td>3</td>\n",
       "      <td>3</td>\n",
       "      <td>8</td>\n",
       "    </tr>\n",
       "    <tr>\n",
       "      <th>4</th>\n",
       "      <td>Изменить цвет фона главной страницы, чтобы увеличить вовлеченность пользователей</td>\n",
       "      <td>3</td>\n",
       "      <td>1</td>\n",
       "      <td>1</td>\n",
       "      <td>1</td>\n",
       "    </tr>\n",
       "    <tr>\n",
       "      <th>5</th>\n",
       "      <td>Добавить страницу отзывов клиентов о магазине, что позволит увеличить количество заказов</td>\n",
       "      <td>3</td>\n",
       "      <td>2</td>\n",
       "      <td>2</td>\n",
       "      <td>3</td>\n",
       "    </tr>\n",
       "    <tr>\n",
       "      <th>6</th>\n",
       "      <td>Показать на главной странице баннеры с актуальными акциями и распродажами, чтобы увеличить конверсию</td>\n",
       "      <td>5</td>\n",
       "      <td>3</td>\n",
       "      <td>8</td>\n",
       "      <td>3</td>\n",
       "    </tr>\n",
       "    <tr>\n",
       "      <th>7</th>\n",
       "      <td>Добавить форму подписки на все основные страницы, чтобы собрать базу клиентов для email-рассылок</td>\n",
       "      <td>10</td>\n",
       "      <td>7</td>\n",
       "      <td>8</td>\n",
       "      <td>5</td>\n",
       "    </tr>\n",
       "    <tr>\n",
       "      <th>8</th>\n",
       "      <td>Запустить акцию, дающую скидку на товар в день рождения</td>\n",
       "      <td>1</td>\n",
       "      <td>9</td>\n",
       "      <td>9</td>\n",
       "      <td>5</td>\n",
       "    </tr>\n",
       "  </tbody>\n",
       "</table>\n",
       "</div>"
      ],
      "text/plain": [
       "                                                                                                     hypothesis  \\\n",
       "0            Добавить два новых канала привлечения трафика, что позволит привлекать на 30% больше пользователей   \n",
       "1                                     Запустить собственную службу доставки, что сократит срок доставки заказов   \n",
       "2  Добавить блоки рекомендаций товаров на сайт интернет магазина, чтобы повысить конверсию и средний чек заказа   \n",
       "3           Изменить структура категорий, что увеличит конверсию, т.к. пользователи быстрее найдут нужный товар   \n",
       "4                              Изменить цвет фона главной страницы, чтобы увеличить вовлеченность пользователей   \n",
       "5                      Добавить страницу отзывов клиентов о магазине, что позволит увеличить количество заказов   \n",
       "6          Показать на главной странице баннеры с актуальными акциями и распродажами, чтобы увеличить конверсию   \n",
       "7              Добавить форму подписки на все основные страницы, чтобы собрать базу клиентов для email-рассылок   \n",
       "8                                                       Запустить акцию, дающую скидку на товар в день рождения   \n",
       "\n",
       "   reach  impact  confidence  efforts  \n",
       "0      3      10           8        6  \n",
       "1      2       5           4       10  \n",
       "2      8       3           7        3  \n",
       "3      8       3           3        8  \n",
       "4      3       1           1        1  \n",
       "5      3       2           2        3  \n",
       "6      5       3           8        3  \n",
       "7     10       7           8        5  \n",
       "8      1       9           9        5  "
      ]
     },
     "execution_count": 3,
     "metadata": {},
     "output_type": "execute_result"
    }
   ],
   "source": [
    "hypotheses = pd.read_csv('/datasets/hypothesis.csv', sep=',')\n",
    "\n",
    "hypotheses.columns = hypotheses.columns.str.lower() #наведем порядок в названиях колонок\n",
    "\n",
    "hypotheses"
   ]
  },
  {
   "cell_type": "markdown",
   "metadata": {},
   "source": [
    "Данные загружены и подготовлены, можно приступать к приоритизации гипотиз и проведению анализа. \n",
    "\n",
    "Судя по всему, в компании принято выставлять оценки параметров reach, impact, confidence, efforts по десятибальной шкале."
   ]
  },
  {
   "cell_type": "markdown",
   "metadata": {},
   "source": [
    "### Фреймворк ICE"
   ]
  },
  {
   "cell_type": "markdown",
   "metadata": {},
   "source": [
    "Фреймворк ICE основан на параметрах влияние, уверенность, усилия."
   ]
  },
  {
   "cell_type": "code",
   "execution_count": 4,
   "metadata": {},
   "outputs": [
    {
     "data": {
      "text/html": [
       "<div>\n",
       "<style scoped>\n",
       "    .dataframe tbody tr th:only-of-type {\n",
       "        vertical-align: middle;\n",
       "    }\n",
       "\n",
       "    .dataframe tbody tr th {\n",
       "        vertical-align: top;\n",
       "    }\n",
       "\n",
       "    .dataframe thead th {\n",
       "        text-align: right;\n",
       "    }\n",
       "</style>\n",
       "<table border=\"1\" class=\"dataframe\">\n",
       "  <thead>\n",
       "    <tr style=\"text-align: right;\">\n",
       "      <th></th>\n",
       "      <th>hypothesis</th>\n",
       "      <th>ICE</th>\n",
       "    </tr>\n",
       "  </thead>\n",
       "  <tbody>\n",
       "    <tr>\n",
       "      <th>8</th>\n",
       "      <td>Запустить акцию, дающую скидку на товар в день рождения</td>\n",
       "      <td>16.20</td>\n",
       "    </tr>\n",
       "    <tr>\n",
       "      <th>0</th>\n",
       "      <td>Добавить два новых канала привлечения трафика, что позволит привлекать на 30% больше пользователей</td>\n",
       "      <td>13.33</td>\n",
       "    </tr>\n",
       "    <tr>\n",
       "      <th>7</th>\n",
       "      <td>Добавить форму подписки на все основные страницы, чтобы собрать базу клиентов для email-рассылок</td>\n",
       "      <td>11.20</td>\n",
       "    </tr>\n",
       "    <tr>\n",
       "      <th>6</th>\n",
       "      <td>Показать на главной странице баннеры с актуальными акциями и распродажами, чтобы увеличить конверсию</td>\n",
       "      <td>8.00</td>\n",
       "    </tr>\n",
       "    <tr>\n",
       "      <th>2</th>\n",
       "      <td>Добавить блоки рекомендаций товаров на сайт интернет магазина, чтобы повысить конверсию и средний чек заказа</td>\n",
       "      <td>7.00</td>\n",
       "    </tr>\n",
       "    <tr>\n",
       "      <th>1</th>\n",
       "      <td>Запустить собственную службу доставки, что сократит срок доставки заказов</td>\n",
       "      <td>2.00</td>\n",
       "    </tr>\n",
       "    <tr>\n",
       "      <th>5</th>\n",
       "      <td>Добавить страницу отзывов клиентов о магазине, что позволит увеличить количество заказов</td>\n",
       "      <td>1.33</td>\n",
       "    </tr>\n",
       "    <tr>\n",
       "      <th>3</th>\n",
       "      <td>Изменить структура категорий, что увеличит конверсию, т.к. пользователи быстрее найдут нужный товар</td>\n",
       "      <td>1.12</td>\n",
       "    </tr>\n",
       "    <tr>\n",
       "      <th>4</th>\n",
       "      <td>Изменить цвет фона главной страницы, чтобы увеличить вовлеченность пользователей</td>\n",
       "      <td>1.00</td>\n",
       "    </tr>\n",
       "  </tbody>\n",
       "</table>\n",
       "</div>"
      ],
      "text/plain": [
       "                                                                                                     hypothesis  \\\n",
       "8                                                       Запустить акцию, дающую скидку на товар в день рождения   \n",
       "0            Добавить два новых канала привлечения трафика, что позволит привлекать на 30% больше пользователей   \n",
       "7              Добавить форму подписки на все основные страницы, чтобы собрать базу клиентов для email-рассылок   \n",
       "6          Показать на главной странице баннеры с актуальными акциями и распродажами, чтобы увеличить конверсию   \n",
       "2  Добавить блоки рекомендаций товаров на сайт интернет магазина, чтобы повысить конверсию и средний чек заказа   \n",
       "1                                     Запустить собственную службу доставки, что сократит срок доставки заказов   \n",
       "5                      Добавить страницу отзывов клиентов о магазине, что позволит увеличить количество заказов   \n",
       "3           Изменить структура категорий, что увеличит конверсию, т.к. пользователи быстрее найдут нужный товар   \n",
       "4                              Изменить цвет фона главной страницы, чтобы увеличить вовлеченность пользователей   \n",
       "\n",
       "     ICE  \n",
       "8  16.20  \n",
       "0  13.33  \n",
       "7  11.20  \n",
       "6   8.00  \n",
       "2   7.00  \n",
       "1   2.00  \n",
       "5   1.33  \n",
       "3   1.12  \n",
       "4   1.00  "
      ]
     },
     "metadata": {},
     "output_type": "display_data"
    }
   ],
   "source": [
    "hypotheses['ICE'] = round(hypotheses['impact'] * hypotheses['confidence'] / hypotheses['efforts'],2) #Расчет ICE\n",
    "\n",
    "display(hypotheses[['hypothesis','ICE']].sort_values(by='ICE', ascending=False))"
   ]
  },
  {
   "cell_type": "markdown",
   "metadata": {},
   "source": [
    "Согласно расчетов ICE, приоритетными являются гипотезы:\n",
    " 1) Запустить акцию, дающую скидку на товар в день рождения\n",
    " \n",
    " 2) Добавить два новых канала привлечения трафика, что позволит привлекать на 30% больше пользователей\n",
    " \n",
    " 3) Добавить форму подписки на все основные страницы, чтобы собрать базу клиентов для email-рассылок\n",
    "    \n",
    "У данных гипотез высокие значения параметров влияния и уверенности, относительно не высокая сложность внедрения.\n",
    "    \n",
    "Такие сложные задачи как изменение структуры категорий для увеличения конверсии или запуск собственной службы доставки упали в середину и конец списка по причине высокой сложности реализации (параметр `efforts`). \n",
    "\n",
    "Ну а менеджеры, отвечающие за формирование списка гипотез и их оценивание, не верят в необходимость и значимость изменений фона главной страницы или добавление отзывов о магазине. Параметры `impact` и `confidence` данных гипотез находятся на низком уровне, что не позволяет им подняться в списке фреймворка ICE выше."
   ]
  },
  {
   "cell_type": "markdown",
   "metadata": {},
   "source": [
    "### Фреймворк RICE"
   ]
  },
  {
   "cell_type": "code",
   "execution_count": 5,
   "metadata": {},
   "outputs": [
    {
     "data": {
      "text/html": [
       "<div>\n",
       "<style scoped>\n",
       "    .dataframe tbody tr th:only-of-type {\n",
       "        vertical-align: middle;\n",
       "    }\n",
       "\n",
       "    .dataframe tbody tr th {\n",
       "        vertical-align: top;\n",
       "    }\n",
       "\n",
       "    .dataframe thead th {\n",
       "        text-align: right;\n",
       "    }\n",
       "</style>\n",
       "<table border=\"1\" class=\"dataframe\">\n",
       "  <thead>\n",
       "    <tr style=\"text-align: right;\">\n",
       "      <th></th>\n",
       "      <th>hypothesis</th>\n",
       "      <th>RICE</th>\n",
       "    </tr>\n",
       "  </thead>\n",
       "  <tbody>\n",
       "    <tr>\n",
       "      <th>7</th>\n",
       "      <td>Добавить форму подписки на все основные страницы, чтобы собрать базу клиентов для email-рассылок</td>\n",
       "      <td>112.0</td>\n",
       "    </tr>\n",
       "    <tr>\n",
       "      <th>2</th>\n",
       "      <td>Добавить блоки рекомендаций товаров на сайт интернет магазина, чтобы повысить конверсию и средний чек заказа</td>\n",
       "      <td>56.0</td>\n",
       "    </tr>\n",
       "    <tr>\n",
       "      <th>0</th>\n",
       "      <td>Добавить два новых канала привлечения трафика, что позволит привлекать на 30% больше пользователей</td>\n",
       "      <td>40.0</td>\n",
       "    </tr>\n",
       "    <tr>\n",
       "      <th>6</th>\n",
       "      <td>Показать на главной странице баннеры с актуальными акциями и распродажами, чтобы увеличить конверсию</td>\n",
       "      <td>40.0</td>\n",
       "    </tr>\n",
       "    <tr>\n",
       "      <th>8</th>\n",
       "      <td>Запустить акцию, дающую скидку на товар в день рождения</td>\n",
       "      <td>16.2</td>\n",
       "    </tr>\n",
       "    <tr>\n",
       "      <th>3</th>\n",
       "      <td>Изменить структура категорий, что увеличит конверсию, т.к. пользователи быстрее найдут нужный товар</td>\n",
       "      <td>9.0</td>\n",
       "    </tr>\n",
       "    <tr>\n",
       "      <th>1</th>\n",
       "      <td>Запустить собственную службу доставки, что сократит срок доставки заказов</td>\n",
       "      <td>4.0</td>\n",
       "    </tr>\n",
       "    <tr>\n",
       "      <th>5</th>\n",
       "      <td>Добавить страницу отзывов клиентов о магазине, что позволит увеличить количество заказов</td>\n",
       "      <td>4.0</td>\n",
       "    </tr>\n",
       "    <tr>\n",
       "      <th>4</th>\n",
       "      <td>Изменить цвет фона главной страницы, чтобы увеличить вовлеченность пользователей</td>\n",
       "      <td>3.0</td>\n",
       "    </tr>\n",
       "  </tbody>\n",
       "</table>\n",
       "</div>"
      ],
      "text/plain": [
       "                                                                                                     hypothesis  \\\n",
       "7              Добавить форму подписки на все основные страницы, чтобы собрать базу клиентов для email-рассылок   \n",
       "2  Добавить блоки рекомендаций товаров на сайт интернет магазина, чтобы повысить конверсию и средний чек заказа   \n",
       "0            Добавить два новых канала привлечения трафика, что позволит привлекать на 30% больше пользователей   \n",
       "6          Показать на главной странице баннеры с актуальными акциями и распродажами, чтобы увеличить конверсию   \n",
       "8                                                       Запустить акцию, дающую скидку на товар в день рождения   \n",
       "3           Изменить структура категорий, что увеличит конверсию, т.к. пользователи быстрее найдут нужный товар   \n",
       "1                                     Запустить собственную службу доставки, что сократит срок доставки заказов   \n",
       "5                      Добавить страницу отзывов клиентов о магазине, что позволит увеличить количество заказов   \n",
       "4                              Изменить цвет фона главной страницы, чтобы увеличить вовлеченность пользователей   \n",
       "\n",
       "    RICE  \n",
       "7  112.0  \n",
       "2   56.0  \n",
       "0   40.0  \n",
       "6   40.0  \n",
       "8   16.2  \n",
       "3    9.0  \n",
       "1    4.0  \n",
       "5    4.0  \n",
       "4    3.0  "
      ]
     },
     "metadata": {},
     "output_type": "display_data"
    }
   ],
   "source": [
    "# Расчет RICE\n",
    "hypotheses['RICE'] = hypotheses['reach'] * hypotheses['impact'] * hypotheses['confidence'] / hypotheses['efforts']\n",
    "\n",
    "display(hypotheses[['hypothesis', 'RICE']].sort_values(by = 'RICE', ascending =False))"
   ]
  },
  {
   "cell_type": "markdown",
   "metadata": {},
   "source": [
    "В формировании фреймворка RICE добавляется параметр охвата (`reach`).\n",
    "\n",
    "Согласно расчётам по RICE, приоритетными являются гипотезы:\n",
    "\n",
    "1) Добавить форму подписки на все основные страницы, чтобы собрать базу клиентов для email-рассылок\n",
    "\n",
    "2) Добавить блоки рекомендаций товаров на сайт интернет магазина, чтобы повысить конверсию и средний чек заказа\n",
    "\n",
    "3) Добавить два новых канала привлечения трафика, что позволит привлекать на 30% больше пользователей\n",
    "\n",
    "3) Показать на главной странице баннеры с актуальными акциями и распродажами, чтобы увеличить конверсию\n",
    "\n",
    "Гипотеза о запуске акции, дающей скидку на день рождения выбыла из топ-3 по сравнению с ICE по причине маленького значения `reach`, всего 1 балл.\n",
    "\n",
    "Что тут скажешь, все так. Ведь как пел Крокодил Гена: \"К сожаленью, день рожденья только раз в году!\" "
   ]
  },
  {
   "cell_type": "markdown",
   "metadata": {},
   "source": [
    "### Вывод"
   ]
  },
  {
   "cell_type": "markdown",
   "metadata": {},
   "source": [
    "Проведенный анализ гипотез по фреймворкам ICE и RICE показал, что приоритетными для реализации являются следующие гипотезы:\n",
    "    \n",
    "**По ICE:** \n",
    "1) Запустить акцию, дающую скидку на товар в день рождения\n",
    "\n",
    "2) Добавить два новых канала привлечения трафика, что позволит привлекать на 30% больше пользователей\n",
    "\n",
    "3) Добавить форму подписки на все основные страницы, чтобы собрать базу клиентов для email-рассылок\n",
    "\n",
    "**По RICE:**\n",
    "1) Добавить форму подписки на все основные страницы, чтобы собрать базу клиентов для email-рассылок\n",
    "\n",
    "2) Добавить блоки рекомендаций товаров на сайт интернет магазина, чтобы повысить конверсию и средний чек заказа\n",
    "\n",
    "3) Добавить два новых канала привлечения трафика, что позволит привлекать на 30% больше пользователей\n",
    "\n",
    "3) Показать на главной странице баннеры с актуальными акциями и распродажами, чтобы увеличить конверсию\n",
    "\n",
    "**На мой взгляд компании необходимо обратить внимание на приоритизацию по RICE, так как в данном расчете фреймворка участвует большее число параметров, а значит и он является более объективным.**\n"
   ]
  },
  {
   "cell_type": "markdown",
   "metadata": {},
   "source": [
    "## A/B-тест"
   ]
  },
  {
   "cell_type": "markdown",
   "metadata": {},
   "source": [
    "### Загрузка данных"
   ]
  },
  {
   "cell_type": "code",
   "execution_count": 6,
   "metadata": {},
   "outputs": [
    {
     "name": "stdout",
     "output_type": "stream",
     "text": [
      "<class 'pandas.core.frame.DataFrame'>\n",
      "RangeIndex: 1197 entries, 0 to 1196\n",
      "Data columns (total 5 columns):\n",
      " #   Column         Non-Null Count  Dtype \n",
      "---  ------         --------------  ----- \n",
      " 0   transactionId  1197 non-null   int64 \n",
      " 1   visitorId      1197 non-null   int64 \n",
      " 2   date           1197 non-null   object\n",
      " 3   revenue        1197 non-null   int64 \n",
      " 4   group          1197 non-null   object\n",
      "dtypes: int64(3), object(2)\n",
      "memory usage: 46.9+ KB\n"
     ]
    },
    {
     "data": {
      "text/html": [
       "<div>\n",
       "<style scoped>\n",
       "    .dataframe tbody tr th:only-of-type {\n",
       "        vertical-align: middle;\n",
       "    }\n",
       "\n",
       "    .dataframe tbody tr th {\n",
       "        vertical-align: top;\n",
       "    }\n",
       "\n",
       "    .dataframe thead th {\n",
       "        text-align: right;\n",
       "    }\n",
       "</style>\n",
       "<table border=\"1\" class=\"dataframe\">\n",
       "  <thead>\n",
       "    <tr style=\"text-align: right;\">\n",
       "      <th></th>\n",
       "      <th>orderId</th>\n",
       "      <th>userId</th>\n",
       "      <th>date</th>\n",
       "      <th>revenue</th>\n",
       "      <th>group</th>\n",
       "    </tr>\n",
       "  </thead>\n",
       "  <tbody>\n",
       "    <tr>\n",
       "      <th>0</th>\n",
       "      <td>3667963787</td>\n",
       "      <td>3312258926</td>\n",
       "      <td>2019-08-15</td>\n",
       "      <td>1650</td>\n",
       "      <td>B</td>\n",
       "    </tr>\n",
       "    <tr>\n",
       "      <th>1</th>\n",
       "      <td>2804400009</td>\n",
       "      <td>3642806036</td>\n",
       "      <td>2019-08-15</td>\n",
       "      <td>730</td>\n",
       "      <td>B</td>\n",
       "    </tr>\n",
       "    <tr>\n",
       "      <th>2</th>\n",
       "      <td>2961555356</td>\n",
       "      <td>4069496402</td>\n",
       "      <td>2019-08-15</td>\n",
       "      <td>400</td>\n",
       "      <td>A</td>\n",
       "    </tr>\n",
       "    <tr>\n",
       "      <th>3</th>\n",
       "      <td>3797467345</td>\n",
       "      <td>1196621759</td>\n",
       "      <td>2019-08-15</td>\n",
       "      <td>9759</td>\n",
       "      <td>B</td>\n",
       "    </tr>\n",
       "    <tr>\n",
       "      <th>4</th>\n",
       "      <td>2282983706</td>\n",
       "      <td>2322279887</td>\n",
       "      <td>2019-08-15</td>\n",
       "      <td>2308</td>\n",
       "      <td>B</td>\n",
       "    </tr>\n",
       "  </tbody>\n",
       "</table>\n",
       "</div>"
      ],
      "text/plain": [
       "      orderId      userId       date  revenue group\n",
       "0  3667963787  3312258926 2019-08-15     1650     B\n",
       "1  2804400009  3642806036 2019-08-15      730     B\n",
       "2  2961555356  4069496402 2019-08-15      400     A\n",
       "3  3797467345  1196621759 2019-08-15     9759     B\n",
       "4  2282983706  2322279887 2019-08-15     2308     B"
      ]
     },
     "execution_count": 6,
     "metadata": {},
     "output_type": "execute_result"
    }
   ],
   "source": [
    "orders = pd.read_csv('/datasets/orders.csv', sep=',')\n",
    "\n",
    "orders.info()\n",
    "\n",
    "orders['date'] = orders['date'].map(lambda x: dt.datetime.strptime(x, '%Y-%m-%d'))\n",
    "\n",
    "orders.rename(columns={'transactionId': 'orderId', 'visitorId': 'userId'}, inplace=True)\n",
    "\n",
    "orders.head()"
   ]
  },
  {
   "cell_type": "code",
   "execution_count": 7,
   "metadata": {},
   "outputs": [
    {
     "data": {
      "text/html": [
       "<div>\n",
       "<style scoped>\n",
       "    .dataframe tbody tr th:only-of-type {\n",
       "        vertical-align: middle;\n",
       "    }\n",
       "\n",
       "    .dataframe tbody tr th {\n",
       "        vertical-align: top;\n",
       "    }\n",
       "\n",
       "    .dataframe thead th {\n",
       "        text-align: right;\n",
       "    }\n",
       "</style>\n",
       "<table border=\"1\" class=\"dataframe\">\n",
       "  <thead>\n",
       "    <tr style=\"text-align: right;\">\n",
       "      <th></th>\n",
       "      <th>date</th>\n",
       "      <th>group</th>\n",
       "      <th>visitors</th>\n",
       "    </tr>\n",
       "  </thead>\n",
       "  <tbody>\n",
       "    <tr>\n",
       "      <th>0</th>\n",
       "      <td>2019-08-01</td>\n",
       "      <td>A</td>\n",
       "      <td>719</td>\n",
       "    </tr>\n",
       "    <tr>\n",
       "      <th>1</th>\n",
       "      <td>2019-08-02</td>\n",
       "      <td>A</td>\n",
       "      <td>619</td>\n",
       "    </tr>\n",
       "    <tr>\n",
       "      <th>2</th>\n",
       "      <td>2019-08-03</td>\n",
       "      <td>A</td>\n",
       "      <td>507</td>\n",
       "    </tr>\n",
       "    <tr>\n",
       "      <th>3</th>\n",
       "      <td>2019-08-04</td>\n",
       "      <td>A</td>\n",
       "      <td>717</td>\n",
       "    </tr>\n",
       "    <tr>\n",
       "      <th>4</th>\n",
       "      <td>2019-08-05</td>\n",
       "      <td>A</td>\n",
       "      <td>756</td>\n",
       "    </tr>\n",
       "  </tbody>\n",
       "</table>\n",
       "</div>"
      ],
      "text/plain": [
       "        date group  visitors\n",
       "0 2019-08-01     A       719\n",
       "1 2019-08-02     A       619\n",
       "2 2019-08-03     A       507\n",
       "3 2019-08-04     A       717\n",
       "4 2019-08-05     A       756"
      ]
     },
     "metadata": {},
     "output_type": "display_data"
    },
    {
     "data": {
      "text/plain": [
       "37652"
      ]
     },
     "metadata": {},
     "output_type": "display_data"
    },
    {
     "data": {
      "text/plain": [
       "group\n",
       "A    18736\n",
       "B    18916\n",
       "Name: visitors, dtype: int64"
      ]
     },
     "metadata": {},
     "output_type": "display_data"
    }
   ],
   "source": [
    "visitors = pd.read_csv('/datasets/visitors.csv', sep=',')\n",
    "\n",
    "#visitors.info()\n",
    "\n",
    "visitors['date'] = visitors['date'].map(lambda x: dt.datetime.strptime(x, '%Y-%m-%d'))\n",
    "\n",
    "display(visitors.head(5))\n",
    "display(visitors['visitors'].sum())\n",
    "\n",
    "display(visitors.groupby('group')['visitors'].sum())\n"
   ]
  },
  {
   "cell_type": "markdown",
   "metadata": {},
   "source": [
    "Датасеты с результатами А/В-теста загружены, типы данных и наименование колонок приведены в соответствие, можно начинать наш анализ. \n",
    "\n",
    "Всего в выборку попали 37652 посещения нашего сайта в период с 01.08.2019 г. по 31.08.2019 г.  Пользователи практически поровну разделены между группами А и В: 50,2% и 49,8% соответственно. Не думаю, что это критическое отклонение.\n",
    "\n",
    "Достаточная ли такого в целом количества наблюдений для проведения А/В теста увы не понятно, так как у нас нет данных на входе сути самого исследования, и его заданных параметров (время, что исследуем, какими инструментами и т.д.), уровня статистической значимости, мощности. По-умолчанию примем вариант, что количество наблюдений у нас является исчерпывающим, наш эксперимент направлен на улучшении конверсии на 10% по сравнению с контрольной группой. \n",
    "\n",
    "Калькуляторы размеров выборок выдают более или менее похожие цифры по продолжительности и размерам выборки в этом случае хD"
   ]
  },
  {
   "cell_type": "code",
   "execution_count": 8,
   "metadata": {},
   "outputs": [
    {
     "name": "stdout",
     "output_type": "stream",
     "text": [
      "Количество явных дубликатов в датасете с заказами равно 0\n",
      "Количество явных дубликатов в датасете со статистикой посещений сайта равно 0\n"
     ]
    }
   ],
   "source": [
    "print ('Количество явных дубликатов в датасете с заказами равно', orders.duplicated().sum())\n",
    "print ('Количество явных дубликатов в датасете со статистикой посещений сайта равно', visitors.duplicated().sum())"
   ]
  },
  {
   "cell_type": "code",
   "execution_count": 9,
   "metadata": {},
   "outputs": [
    {
     "name": "stdout",
     "output_type": "stream",
     "text": [
      "Отсутсвуют пересечение пользователей между группами А и В -  True\n"
     ]
    }
   ],
   "source": [
    "group_test = orders.query('group == \"A\"')['userId'].unique() is not  orders.query('group == \"B\"')['userId'].unique()\n",
    "print('Отсутсвуют пересечение пользователей между группами А и В - ', group_test)"
   ]
  },
  {
   "cell_type": "markdown",
   "metadata": {},
   "source": [
    "### Построение графика кумулятивной выручки по группам"
   ]
  },
  {
   "cell_type": "code",
   "execution_count": 10,
   "metadata": {},
   "outputs": [
    {
     "data": {
      "image/png": "[encoded data removed]",
      "text/plain": [
       "<Figure size 1080x720 with 1 Axes>"
      ]
     },
     "metadata": {
      "needs_background": "light"
     },
     "output_type": "display_data"
    }
   ],
   "source": [
    "# формируем список дат и групп нашего А/В-теста\n",
    "datesGroups = orders[['date', 'group']].drop_duplicates()\n",
    "\n",
    "# формируем кумулятивные данные о покупках и количестве визитов на сайт за период А/В-теста\n",
    "ordersAggregated = datesGroups.apply(\n",
    "    lambda x: orders[\n",
    "        np.logical_and(\n",
    "            orders['date'] <= x['date'], orders['group'] == x['group']\n",
    "        )\n",
    "    ].agg(\n",
    "        {\n",
    "            'date': 'max',\n",
    "            'group': 'max',\n",
    "            'orderId': 'nunique',\n",
    "            'userId': 'nunique',\n",
    "            'revenue': 'sum',\n",
    "        }\n",
    "    ),\n",
    "    axis=1,\n",
    ").sort_values(by=['date', 'group'])\n",
    "\n",
    "visitorsAggregated = datesGroups.apply(\n",
    "    lambda x: visitors[\n",
    "        np.logical_and(\n",
    "            visitors['date'] <= x['date'], visitors['group'] == x['group']\n",
    "        )\n",
    "    ].agg({'date': 'max', 'group': 'max', 'visitors': 'sum'}),\n",
    "    axis=1,\n",
    ").sort_values(by=['date', 'group'])\n",
    "\n",
    "# Объединяем кумулятивные датасеты\n",
    "cumulativeData = ordersAggregated.merge(\n",
    "    visitorsAggregated, left_on=['date', 'group'], right_on=['date', 'group']\n",
    ")\n",
    "cumulativeData.columns = [\n",
    "    'date',\n",
    "    'group',\n",
    "    'orders',\n",
    "    'buyers',\n",
    "    'revenue',\n",
    "    'visitors',\n",
    "] \n",
    "\n",
    "# датафрейм с кумулятивным количеством заказов и кумулятивной выручкой по дням в группе А\n",
    "cumulativeRevenueA = cumulativeData[cumulativeData['group']=='A'][['date','revenue', 'orders']]\n",
    "\n",
    "# датафрейм с кумулятивным количеством заказов и кумулятивной выручкой по дням в группе B\n",
    "cumulativeRevenueB = cumulativeData[cumulativeData['group']=='B'][['date','revenue', 'orders']]\n",
    "\n",
    "# Параметры графика\n",
    "plt.figure(figsize=(15, 10))\n",
    "\n",
    "# Строим график выручки группы А\n",
    "plt.plot(cumulativeRevenueA['date'], cumulativeRevenueA['revenue'], label='A')\n",
    "\n",
    "# Строим график выручки группы B\n",
    "plt.plot(cumulativeRevenueB['date'], cumulativeRevenueB['revenue'], label='B')\n",
    "\n",
    "plt.xlabel('Дата привлечения')\n",
    "plt.ylabel('Сумма выручки')\n",
    "plt.title('Динамика кумулятивной выручки по группам')\n",
    "plt.legend() \n",
    "plt.show()\n"
   ]
  },
  {
   "cell_type": "markdown",
   "metadata": {},
   "source": [
    "График кумулятивной выручки по группам показывает рост выручки в течении всего теста. Выручка группы В выше группы А, причем в группе В имеется точка резкого роста, что сигнализирует нам о  всплесках числа заказов, либо о появлении очень дорогих заказов в выборке. Такие выбросы необходимо будет учесть при анализе."
   ]
  },
  {
   "cell_type": "markdown",
   "metadata": {},
   "source": [
    "### Построение графика кумулятивного среднего чека по группам"
   ]
  },
  {
   "cell_type": "code",
   "execution_count": 11,
   "metadata": {},
   "outputs": [
    {
     "data": {
      "image/png": "[encoded data removed]",
      "text/plain": [
       "<Figure size 1080x720 with 1 Axes>"
      ]
     },
     "metadata": {
      "needs_background": "light"
     },
     "output_type": "display_data"
    }
   ],
   "source": [
    "plt.figure(figsize=(15, 10))\n",
    "\n",
    "plt.plot(cumulativeRevenueA['date'], cumulativeRevenueA['revenue']/cumulativeRevenueA['orders'], label='A')\n",
    "plt.plot(cumulativeRevenueB['date'], cumulativeRevenueB['revenue']/cumulativeRevenueB['orders'], label='B')\n",
    "\n",
    "plt.xlabel('Дата привлечения')\n",
    "plt.ylabel('Сумма среднего чека')\n",
    "plt.title('Динамика кумулятивной среднего чека по группам')\n",
    "plt.legend() \n",
    "plt.show()"
   ]
  },
  {
   "cell_type": "markdown",
   "metadata": {},
   "source": [
    "Построим графики среднего чека по группам путем деления кумулятивной выручки на кумулятивное число заказов.\n",
    "\n",
    "На графике видно, что в группе А за период теста средний чек имел несколько трендов: нисходящий с 6000 рублей до 4500 рублей в период с 1 августа по 6 августа, далее рост с 7 по 13 августа до уровня 7500 рублей, после чего произошла незначительная коррекция до уровня 7000 рублей и на графике видно горизонтальный тренд. В период с 11 по 14 августа средний чек группы А был выше, чем в группе В. Скачки графика в первой половине теста группы А так же говорят нам, что в период с 7 по 13 число в группе было совершено несколько крупных покупок.\n",
    "\n",
    "В группе В о среднем чеке за период эксперимента можно сказать, что он имел устойчивый рост на протяжении всего эксперимента, незначительные просадки по графикам связаны с коррекциями после крупных покупок. Стоит отметить, что таких пар \"рост-снижение\" у нас насчиталось три. Таким образом, в группу В в рассматриваемый период так же попали заказы с крупными средними чеками. Так же можно отметить, что первоначальный средний чек в группе В был ниже, чем в группе А."
   ]
  },
  {
   "cell_type": "markdown",
   "metadata": {},
   "source": [
    "### Построение графика относительного изменения кумулятивного среднего чека группы B к группе A"
   ]
  },
  {
   "cell_type": "code",
   "execution_count": 12,
   "metadata": {},
   "outputs": [
    {
     "data": {
      "image/png": "[encoded data removed]",
      "text/plain": [
       "<Figure size 1080x720 with 1 Axes>"
      ]
     },
     "metadata": {
      "needs_background": "light"
     },
     "output_type": "display_data"
    }
   ],
   "source": [
    "# собираем данные в одном датафрейме\n",
    "mergedCumulativeRevenue = cumulativeRevenueA.merge(cumulativeRevenueB, left_on='date', right_on='date', how='left', suffixes=['A', 'B'])\n",
    "\n",
    "plt.figure(figsize=(15, 10))\n",
    "\n",
    "# cтроим отношение средних чеков\n",
    "plt.plot(mergedCumulativeRevenue['date'], (mergedCumulativeRevenue['revenueB']/mergedCumulativeRevenue['ordersB'])/(mergedCumulativeRevenue['revenueA']/mergedCumulativeRevenue['ordersA'])-1)\n",
    "\n",
    "# добавляем ось X\n",
    "plt.axhline(y=0, color='black', linestyle='--') \n",
    "\n",
    "plt.xlabel('Дата привлечения')\n",
    "plt.ylabel('Отношение среднего чека группы В к группе А')\n",
    "plt.title('Динамика относительного изменения кумулятивного среднего чека группы В к группе А')\n",
    "plt.show()"
   ]
  },
  {
   "cell_type": "markdown",
   "metadata": {},
   "source": [
    "В течении эксперимента, выручка группы В в целом была больше, чем в группе А, причем разрыв доходил до 50%. В нескольких точках график различия между сегментами резко меняет направление. Точно в группе В имеются крупные заказы и выбросы!"
   ]
  },
  {
   "cell_type": "markdown",
   "metadata": {},
   "source": [
    "### Построение графика кумулятивной конверсии по группам"
   ]
  },
  {
   "cell_type": "code",
   "execution_count": 13,
   "metadata": {},
   "outputs": [
    {
     "data": {
      "image/png": "[encoded data removed]",
      "text/plain": [
       "<Figure size 1080x720 with 1 Axes>"
      ]
     },
     "metadata": {
      "needs_background": "light"
     },
     "output_type": "display_data"
    }
   ],
   "source": [
    "# считаем кумулятивную конверсию\n",
    "cumulativeData['conversion'] = cumulativeData['orders']/cumulativeData['visitors']\n",
    "\n",
    "# отделяем данные по группе A\n",
    "cumulativeDataA = cumulativeData[cumulativeData['group']=='A']\n",
    "\n",
    "# отделяем данные по группе B\n",
    "cumulativeDataB = cumulativeData[cumulativeData['group']=='B']\n",
    "\n",
    "# строим графики\n",
    "plt.figure(figsize=(15, 10))\n",
    "\n",
    "plt.plot(cumulativeDataA['date'], cumulativeDataA['conversion'], label='A')\n",
    "plt.plot(cumulativeDataB['date'], cumulativeDataB['conversion'], label='B')\n",
    "\n",
    "plt.xlabel('Дата привлечения')\n",
    "plt.ylabel('Конверсия')\n",
    "plt.title('Динамика кумулятивной конверсии по группам')\n",
    "plt.legend()\n",
    "plt.show()"
   ]
  },
  {
   "cell_type": "markdown",
   "metadata": {},
   "source": [
    "Не считая начала теста, когда конверсия в обеих группах росла, можно сказать что на графике присутствует некая симметрия. Конверсии групп В и А симметрично колеблются в районе 3 - 3,5% для каждой группы. В целом конверсия группы В в течении эксперимента была выше в среднем ориентировочно на 0,5 процентных пункт."
   ]
  },
  {
   "cell_type": "markdown",
   "metadata": {},
   "source": [
    "### Построение графика относительного изменения кумулятивной конверсии группы B к группе A"
   ]
  },
  {
   "cell_type": "code",
   "execution_count": 14,
   "metadata": {},
   "outputs": [
    {
     "data": {
      "text/plain": [
       "(18109.0, 18139.0, -0.15, 0.25)"
      ]
     },
     "execution_count": 14,
     "metadata": {},
     "output_type": "execute_result"
    },
    {
     "data": {
      "image/png": "[encoded data removed]",
      "text/plain": [
       "<Figure size 1080x720 with 1 Axes>"
      ]
     },
     "metadata": {
      "needs_background": "light"
     },
     "output_type": "display_data"
    }
   ],
   "source": [
    "mergedCumulativeConversions = cumulativeDataA[\n",
    "    ['date','conversion']\n",
    "].merge(\n",
    "    cumulativeDataB[['date','conversion']],\n",
    "    left_on='date',\n",
    "    right_on='date',\n",
    "    how='left',\n",
    "    suffixes=['A', 'B']\n",
    ")\n",
    "\n",
    "\n",
    "plt.figure(figsize=(15, 10))\n",
    "\n",
    "plt.plot(mergedCumulativeConversions['date'],\n",
    "         mergedCumulativeConversions['conversionB']/mergedCumulativeConversions['conversionA']-1,\n",
    "         label=\"Относительный прирост конверсии группы B относительно группы A\")\n",
    "\n",
    "plt.xlabel('Дата привлечения')\n",
    "plt.ylabel('Отношение конверсии группы В к группе А')\n",
    "plt.title('Динамика относительноого прироста конверсии группы В по сравнению с группой А')\n",
    "plt.legend()\n",
    "plt.axhline(y=0, color='black', linestyle='--')\n",
    "plt.axis([\"2019-08-01\", '2019-08-31', -0.15, 0.25])"
   ]
  },
  {
   "cell_type": "markdown",
   "metadata": {},
   "source": [
    "В начале теста группа B значительно проигрывала группе A, затем начиная с 06.08.2019 г. вырвалась вперёд. В целом можно сказать, что конверсия группы В относительно группы А была выше на 15-20% начиная с 09.08.2019 г., т.е. большую часть эксперимента. Это хороший относительный рот показателя конверсии, но пока рано говорить о каких-либо окончательных результатах, необходимо провести анализ аномальных значений числа покупок и сумм заказов по группам. Этот анализ может быстро скорректировать результаты тестирования."
   ]
  },
  {
   "cell_type": "markdown",
   "metadata": {},
   "source": [
    "### Построение точечного графика количества заказов по пользователям"
   ]
  },
  {
   "cell_type": "code",
   "execution_count": 15,
   "metadata": {},
   "outputs": [
    {
     "data": {
      "image/png": "[encoded data removed]",
      "text/plain": [
       "<Figure size 1080x720 with 1 Axes>"
      ]
     },
     "metadata": {
      "needs_background": "light"
     },
     "output_type": "display_data"
    }
   ],
   "source": [
    "#сгруппириуем заказы по пользователям и посмотрим на их активность.\n",
    "ordersByUsers = (\n",
    "    orders.groupby('userId', as_index=False)\n",
    "    .agg({'orderId': 'nunique'})\n",
    ")\n",
    "\n",
    "ordersByUsers.columns = ['userId', 'orders']\n",
    "\n",
    "x_values = pd.Series(range(0,len(ordersByUsers)))\n",
    "\n",
    "plt.figure(figsize=(15, 10))\n",
    "plt.scatter(x_values, ordersByUsers['orders'])\n",
    "\n",
    "plt.xlabel('Порядковый номер покупателя в течении А/В теста')\n",
    "plt.ylabel('Количество заказов')\n",
    "plt.title('Количество заказов по покупателям в течении А/В-теста')\n",
    "plt.show()"
   ]
  },
  {
   "cell_type": "markdown",
   "metadata": {},
   "source": [
    "График показывает, что большинство пользователей делают 1-2 заказа. 3 и более заказов выглядят как выбросы. В течении эксперимента, попадались несколько покупателей, сделавшие 8,9,11 заказов. Вот это я понимаю, активность :) всем бы таких покупателей и побольше :)\n",
    "Убедимся в выводах, сделанным на графике, расчитав 95-й и 99-й перцентили количества заказов на пользователя."
   ]
  },
  {
   "cell_type": "markdown",
   "metadata": {},
   "source": [
    "### Расчет 95-й и 99-й перцентили количества заказов на пользователя"
   ]
  },
  {
   "cell_type": "code",
   "execution_count": 16,
   "metadata": {},
   "outputs": [
    {
     "name": "stdout",
     "output_type": "stream",
     "text": [
      "[2. 4.]\n"
     ]
    }
   ],
   "source": [
    "print(np.percentile(ordersByUsers['orders'], [95, 99]))"
   ]
  },
  {
   "cell_type": "markdown",
   "metadata": {},
   "source": [
    "Перцентили говорят нам, что нее более 5% пользователей оформляли больше чем 2 заказов, и только 1% пользователей — больше 4 раз И 10% пользователей заказывали более трёх раз.\n",
    "Разумно выбрать 2 или 3 заказов на одного пользователя за нижнюю границу числа заказов, и отсеять аномальных пользователей по ней. Таким образом, мы лишимся от 1 до 5% данных, а наш датасет - выбросов по количеству сделанных заказов пользователями внутри групп."
   ]
  },
  {
   "cell_type": "markdown",
   "metadata": {},
   "source": [
    "### Построение точечного графика стоимостей заказов"
   ]
  },
  {
   "cell_type": "code",
   "execution_count": 17,
   "metadata": {},
   "outputs": [
    {
     "data": {
      "image/png": "[encoded data removed]",
      "text/plain": [
       "<Figure size 1080x720 with 1 Axes>"
      ]
     },
     "metadata": {
      "needs_background": "light"
     },
     "output_type": "display_data"
    }
   ],
   "source": [
    "x_values = pd.Series(range(0,len(orders['revenue'])))\n",
    "\n",
    "plt.figure(figsize=(15, 10))\n",
    "plt.scatter(x_values, orders['revenue'])\n",
    "plt.xlabel('Покупатель')\n",
    "plt.ylabel('Сумма чека')\n",
    "plt.title('График стоимостей заказов по покупателям')\n",
    "plt.show()"
   ]
  },
  {
   "cell_type": "markdown",
   "metadata": {},
   "source": [
    "На графике стоимостей заказов видно, что практически все заказы укладываются в область до 50000 рублей, хоть и есть впечатляющие выбросы по данному параметру, вплоть до 1,2 млн рублей. Перестроим график с другим масштабом, убедимся в правильности первоначальных выводов."
   ]
  },
  {
   "cell_type": "code",
   "execution_count": 18,
   "metadata": {},
   "outputs": [
    {
     "data": {
      "image/png": "[encoded data removed]",
      "text/plain": [
       "<Figure size 1080x720 with 1 Axes>"
      ]
     },
     "metadata": {
      "needs_background": "light"
     },
     "output_type": "display_data"
    }
   ],
   "source": [
    "plt.figure(figsize=(15, 10))\n",
    "plt.scatter(x_values, orders['revenue'])\n",
    "plt.ylim (0, 70000)\n",
    "plt.xlabel('Покупатель')\n",
    "plt.ylabel('Сумма заказа')\n",
    "plt.title('График стоимостей заказов по покупателям')\n",
    "plt.show()"
   ]
  },
  {
   "cell_type": "markdown",
   "metadata": {},
   "source": [
    "На уточненном графике видно, что наибольшая плотность у заказов стоимстью до 5 тысяч рублей, далее идут группы заказов стоимостью до 10000, 20000 тысяч. Тоже весьма плотные результаты. По графику сложно точно сказать, где у нас будет 95% перцентиль, чтобы отсеять аномалии. Расчитаем ее далее. "
   ]
  },
  {
   "cell_type": "markdown",
   "metadata": {},
   "source": [
    "### Расчет 95-й и 99-й перцентили стоимости заказов"
   ]
  },
  {
   "cell_type": "code",
   "execution_count": 19,
   "metadata": {},
   "outputs": [
    {
     "name": "stdout",
     "output_type": "stream",
     "text": [
      "[28000.  58233.2]\n"
     ]
    }
   ],
   "source": [
    "print(np.percentile(orders['revenue'], [95, 99]))"
   ]
  },
  {
   "cell_type": "markdown",
   "metadata": {},
   "source": [
    "Ну вот, графики говорят одно, но более точно нам все могут сказать только цифры. Имеем не более 5% заказов дороже 28000 рублей и не более 1% дороже 58000 рублей. Учтем эту информацию при отсеивании аномалий."
   ]
  },
  {
   "cell_type": "markdown",
   "metadata": {},
   "source": [
    "### Расчет статистической значимости различий в конверсии между группами по «сырым» данным "
   ]
  },
  {
   "cell_type": "markdown",
   "metadata": {},
   "source": [
    "При расчете статистической значимости различий сначала обозначим, что принимаем  пороговый уровень статистической значимости Альфа равный 5% или 0,05.\n",
    "\n",
    "Зная, что мы имеем неоднородный массив данных о покупках внутри групп, а так же предполагая, что имеются существенные различия между группами (т.е. выбросы), применение параметрических тестов для поиска статистической значимости нашего теста будет не корректно. Для определения статистической значимости в данном примере корректнее всего применить непараметрический тест непараметрический тест Уилкоксона-Манна-Уитни, основанный на идеи проранжировать две выборки по порядку от меньшего к большему и сравнении рангов одних и тех же значений, попавших в обе выборки.\n",
    "\n",
    "На этом этапе сформируем нулевую и альтернативную гипотезы:\n",
    "- Нулевая гипотеза Н0: Конверсия внутри групп А и В одинаковы.\n",
    "- Альтернативная гипотеза Н1: Конверсия внутри групп А и В не равны между собой."
   ]
  },
  {
   "cell_type": "code",
   "execution_count": 20,
   "metadata": {},
   "outputs": [
    {
     "data": {
      "text/html": [
       "<div>\n",
       "<style scoped>\n",
       "    .dataframe tbody tr th:only-of-type {\n",
       "        vertical-align: middle;\n",
       "    }\n",
       "\n",
       "    .dataframe tbody tr th {\n",
       "        vertical-align: top;\n",
       "    }\n",
       "\n",
       "    .dataframe thead th {\n",
       "        text-align: right;\n",
       "    }\n",
       "</style>\n",
       "<table border=\"1\" class=\"dataframe\">\n",
       "  <thead>\n",
       "    <tr style=\"text-align: right;\">\n",
       "      <th></th>\n",
       "      <th>date</th>\n",
       "      <th>ordersPerDateA</th>\n",
       "      <th>revenuePerDateA</th>\n",
       "      <th>ordersPerDateB</th>\n",
       "      <th>revenuePerDateB</th>\n",
       "      <th>ordersCummulativeA</th>\n",
       "      <th>revenueCummulativeA</th>\n",
       "      <th>ordersCummulativeB</th>\n",
       "      <th>revenueCummulativeB</th>\n",
       "      <th>visitorsPerDateA</th>\n",
       "      <th>visitorsPerDateB</th>\n",
       "      <th>visitorsCummulativeA</th>\n",
       "      <th>visitorsCummulativeB</th>\n",
       "    </tr>\n",
       "  </thead>\n",
       "  <tbody>\n",
       "    <tr>\n",
       "      <th>0</th>\n",
       "      <td>2019-08-01</td>\n",
       "      <td>24</td>\n",
       "      <td>148579</td>\n",
       "      <td>21</td>\n",
       "      <td>101217</td>\n",
       "      <td>24</td>\n",
       "      <td>148579</td>\n",
       "      <td>21</td>\n",
       "      <td>101217</td>\n",
       "      <td>719</td>\n",
       "      <td>713</td>\n",
       "      <td>719</td>\n",
       "      <td>713</td>\n",
       "    </tr>\n",
       "    <tr>\n",
       "      <th>1</th>\n",
       "      <td>2019-08-02</td>\n",
       "      <td>20</td>\n",
       "      <td>93822</td>\n",
       "      <td>24</td>\n",
       "      <td>165531</td>\n",
       "      <td>44</td>\n",
       "      <td>242401</td>\n",
       "      <td>45</td>\n",
       "      <td>266748</td>\n",
       "      <td>619</td>\n",
       "      <td>581</td>\n",
       "      <td>1338</td>\n",
       "      <td>1294</td>\n",
       "    </tr>\n",
       "    <tr>\n",
       "      <th>2</th>\n",
       "      <td>2019-08-03</td>\n",
       "      <td>24</td>\n",
       "      <td>112473</td>\n",
       "      <td>16</td>\n",
       "      <td>114248</td>\n",
       "      <td>68</td>\n",
       "      <td>354874</td>\n",
       "      <td>61</td>\n",
       "      <td>380996</td>\n",
       "      <td>507</td>\n",
       "      <td>509</td>\n",
       "      <td>1845</td>\n",
       "      <td>1803</td>\n",
       "    </tr>\n",
       "    <tr>\n",
       "      <th>3</th>\n",
       "      <td>2019-08-04</td>\n",
       "      <td>16</td>\n",
       "      <td>70825</td>\n",
       "      <td>17</td>\n",
       "      <td>108571</td>\n",
       "      <td>84</td>\n",
       "      <td>425699</td>\n",
       "      <td>78</td>\n",
       "      <td>489567</td>\n",
       "      <td>717</td>\n",
       "      <td>770</td>\n",
       "      <td>2562</td>\n",
       "      <td>2573</td>\n",
       "    </tr>\n",
       "    <tr>\n",
       "      <th>4</th>\n",
       "      <td>2019-08-05</td>\n",
       "      <td>25</td>\n",
       "      <td>124218</td>\n",
       "      <td>23</td>\n",
       "      <td>92428</td>\n",
       "      <td>109</td>\n",
       "      <td>549917</td>\n",
       "      <td>101</td>\n",
       "      <td>581995</td>\n",
       "      <td>756</td>\n",
       "      <td>707</td>\n",
       "      <td>3318</td>\n",
       "      <td>3280</td>\n",
       "    </tr>\n",
       "  </tbody>\n",
       "</table>\n",
       "</div>"
      ],
      "text/plain": [
       "        date  ordersPerDateA  revenuePerDateA  ordersPerDateB  \\\n",
       "0 2019-08-01              24           148579              21   \n",
       "1 2019-08-02              20            93822              24   \n",
       "2 2019-08-03              24           112473              16   \n",
       "3 2019-08-04              16            70825              17   \n",
       "4 2019-08-05              25           124218              23   \n",
       "\n",
       "   revenuePerDateB  ordersCummulativeA  revenueCummulativeA  \\\n",
       "0           101217                  24               148579   \n",
       "1           165531                  44               242401   \n",
       "2           114248                  68               354874   \n",
       "3           108571                  84               425699   \n",
       "4            92428                 109               549917   \n",
       "\n",
       "   ordersCummulativeB  revenueCummulativeB  visitorsPerDateA  \\\n",
       "0                  21               101217               719   \n",
       "1                  45               266748               619   \n",
       "2                  61               380996               507   \n",
       "3                  78               489567               717   \n",
       "4                 101               581995               756   \n",
       "\n",
       "   visitorsPerDateB  visitorsCummulativeA  visitorsCummulativeB  \n",
       "0               713                   719                   713  \n",
       "1               581                  1338                  1294  \n",
       "2               509                  1845                  1803  \n",
       "3               770                  2562                  2573  \n",
       "4               707                  3318                  3280  "
      ]
     },
     "metadata": {},
     "output_type": "display_data"
    }
   ],
   "source": [
    "# соберем датасет, содержаший в себе информацию о кумулятивном посещении пользователями различных групп, а так же выручке\n",
    "\n",
    "visitorsADaily = visitors[visitors['group'] == 'A'][['date', 'visitors']]\n",
    "visitorsADaily.columns = ['date', 'visitorsPerDateA']\n",
    "\n",
    "visitorsACummulative = visitorsADaily.apply(\n",
    "    lambda x: visitorsADaily[visitorsADaily['date'] <= x['date']].agg(\n",
    "        {'date': 'max', 'visitorsPerDateA': 'sum'}\n",
    "    ),\n",
    "    axis=1,\n",
    ")\n",
    "visitorsACummulative.columns = ['date', 'visitorsCummulativeA']\n",
    "\n",
    "visitorsBDaily = visitors[visitors['group'] == 'B'][['date', 'visitors']]\n",
    "visitorsBDaily.columns = ['date', 'visitorsPerDateB']\n",
    "\n",
    "visitorsBCummulative = visitorsBDaily.apply(\n",
    "    lambda x: visitorsBDaily[visitorsBDaily['date'] <= x['date']].agg(\n",
    "        {'date': 'max', 'visitorsPerDateB': 'sum'}\n",
    "    ),\n",
    "    axis=1,\n",
    ")\n",
    "visitorsBCummulative.columns = ['date', 'visitorsCummulativeB']\n",
    "\n",
    "ordersADaily = (\n",
    "    orders[orders['group'] == 'A'][['date', 'orderId', 'userId', 'revenue']]\n",
    "    .groupby('date', as_index=False)\n",
    "    .agg({'orderId': pd.Series.nunique, 'revenue': 'sum'})\n",
    ")\n",
    "ordersADaily.columns = ['date', 'ordersPerDateA', 'revenuePerDateA']\n",
    "\n",
    "ordersACummulative = ordersADaily.apply(\n",
    "    lambda x: ordersADaily[ordersADaily['date'] <= x['date']].agg(\n",
    "        {'date': 'max', 'ordersPerDateA': 'sum', 'revenuePerDateA': 'sum'}\n",
    "    ),\n",
    "    axis=1,\n",
    ").sort_values(by=['date'])\n",
    "ordersACummulative.columns = [\n",
    "    'date',\n",
    "    'ordersCummulativeA',\n",
    "    'revenueCummulativeA',\n",
    "]\n",
    "\n",
    "ordersBDaily = (\n",
    "    orders[orders['group'] == 'B'][['date', 'orderId', 'userId', 'revenue']]\n",
    "    .groupby('date', as_index=False)\n",
    "    .agg({'orderId': pd.Series.nunique, 'revenue': 'sum'})\n",
    ")\n",
    "ordersBDaily.columns = ['date', 'ordersPerDateB', 'revenuePerDateB']\n",
    "\n",
    "ordersBCummulative = ordersBDaily.apply(\n",
    "    lambda x: ordersBDaily[ordersBDaily['date'] <= x['date']].agg(\n",
    "        {'date': 'max', 'ordersPerDateB': 'sum', 'revenuePerDateB': 'sum'}\n",
    "    ),\n",
    "    axis=1,\n",
    ").sort_values(by=['date'])\n",
    "ordersBCummulative.columns = [\n",
    "    'date',\n",
    "    'ordersCummulativeB',\n",
    "    'revenueCummulativeB',\n",
    "]\n",
    "\n",
    "data = (\n",
    "    ordersADaily.merge(\n",
    "        ordersBDaily, left_on='date', right_on='date', how='left'\n",
    "    )\n",
    "    .merge(ordersACummulative, left_on='date', right_on='date', how='left')\n",
    "    .merge(ordersBCummulative, left_on='date', right_on='date', how='left')\n",
    "    .merge(visitorsADaily, left_on='date', right_on='date', how='left')\n",
    "    .merge(visitorsBDaily, left_on='date', right_on='date', how='left')\n",
    "    .merge(visitorsACummulative, left_on='date', right_on='date', how='left')\n",
    "    .merge(visitorsBCummulative, left_on='date', right_on='date', how='left')\n",
    ")\n",
    "\n",
    "display(data.head(5))"
   ]
  },
  {
   "cell_type": "markdown",
   "metadata": {},
   "source": [
    "Создадим переменные ordersByUsersA и ordersByUsersB со столбцами ['userId', 'orders']. В них для пользователей, которые заказывали хотя бы 1 раз, укажем число совершённых заказов."
   ]
  },
  {
   "cell_type": "code",
   "execution_count": 21,
   "metadata": {},
   "outputs": [],
   "source": [
    "ordersByUsersA = (\n",
    "    orders[orders['group'] == 'A']\n",
    "    .groupby('userId', as_index=False)\n",
    "    .agg({'orderId': pd.Series.nunique})\n",
    ")\n",
    "ordersByUsersA.columns = ['userId', 'orders']\n",
    "\n",
    "ordersByUsersB = (\n",
    "    orders[orders['group'] == 'B']\n",
    "    .groupby('userId', as_index=False)\n",
    "    .agg({'orderId': pd.Series.nunique})\n",
    ")\n",
    "ordersByUsersB.columns = ['userId', 'orders']"
   ]
  },
  {
   "cell_type": "markdown",
   "metadata": {},
   "source": [
    "Объявим переменные sampleA и sampleB, в которых пользователям из разных групп будет соответствовать количество заказов. Тем, кто ничего не заказал, будут соответствовать нули."
   ]
  },
  {
   "cell_type": "code",
   "execution_count": 22,
   "metadata": {},
   "outputs": [
    {
     "name": "stdout",
     "output_type": "stream",
     "text": [
      "p-значение:  0.017\n",
      "Отвергаем нулевую гипотезу: разница статистически значима\n",
      "Относительный прирост конверсии группы B: 0.138\n"
     ]
    }
   ],
   "source": [
    "ordersByUsersA = (\n",
    "    orders[orders['group'] == 'A']\n",
    "    .groupby('userId', as_index=False)\n",
    "    .agg({'orderId': pd.Series.nunique})\n",
    ")\n",
    "ordersByUsersA.columns = ['userId', 'orders']\n",
    "\n",
    "ordersByUsersB = (\n",
    "    orders[orders['group'] == 'B']\n",
    "    .groupby('userId', as_index=False)\n",
    "    .agg({'orderId': pd.Series.nunique})\n",
    ")\n",
    "ordersByUsersB.columns = ['userId', 'orders']\n",
    "\n",
    "sampleA = pd.concat(\n",
    "    [\n",
    "        ordersByUsersA['orders'],\n",
    "        pd.Series(\n",
    "            0,\n",
    "            index=np.arange(\n",
    "                data['visitorsPerDateA'].sum() - len(ordersByUsersA['orders'])\n",
    "            ),\n",
    "            name='orders',\n",
    "        ),\n",
    "    ],\n",
    "    axis=0,\n",
    ")\n",
    "\n",
    "sampleB = pd.concat(\n",
    "    [\n",
    "        ordersByUsersB['orders'],\n",
    "        pd.Series(\n",
    "            0,\n",
    "            index=np.arange(\n",
    "                data['visitorsPerDateB'].sum() - len(ordersByUsersB['orders'])\n",
    "            ),\n",
    "            name='orders',\n",
    "        ),\n",
    "    ],\n",
    "    axis=0,\n",
    ")\n",
    "\n",
    "# Проведем проверку статистической значимости критерием Манна-Уитни.\n",
    "\n",
    "alpha = 0.05\n",
    "\n",
    "results = st.mannwhitneyu(sampleA, sampleB) \n",
    "\n",
    "print('p-значение: ', \"{0:.3f}\".format(results.pvalue))\n",
    "\n",
    "if results.pvalue < alpha:\n",
    "    print('Отвергаем нулевую гипотезу: разница статистически значима')\n",
    "else:\n",
    "    print('Не получилось отвергнуть нулевую гипотезу, вывод о различии сделать нельзя') \n",
    "print(\"Относительный прирост конверсии группы B:\",\"{0:.3f}\".format(sampleB.mean() / sampleA.mean() - 1))"
   ]
  },
  {
   "cell_type": "markdown",
   "metadata": {},
   "source": [
    "По \"сырым\" данным получаем p-value = 0.017, что меньше заданного уровня статистической значимости 0,05. Это говорит нам, что мы можем отвергнуть нулевую гипотезу и  утверждать, что в течении А/В-теста конверсия внутри групп была различна.\n",
    "Относительный прирост конверсии внутри группы В по сравнению с группой А составил 13,8%. Это значительный прирост."
   ]
  },
  {
   "cell_type": "markdown",
   "metadata": {},
   "source": [
    "### Расчет статистической значимости различий в среднем чеке заказа между группами по «сырым» данным."
   ]
  },
  {
   "cell_type": "markdown",
   "metadata": {},
   "source": [
    "Теперь по \"сырым\" данным проверим статистическую значимость различий в среднем чеке между сегментами:\n",
    "\n",
    "- Нулевая гипотеза: различий в среднем чеке между группами нет. \n",
    "- Альтернативная гипотеза: различия в среднем чеке между группами есть.\n",
    "\n",
    "Так же найдём относительные различия в среднем чеке между группами."
   ]
  },
  {
   "cell_type": "code",
   "execution_count": 23,
   "metadata": {},
   "outputs": [
    {
     "name": "stdout",
     "output_type": "stream",
     "text": [
      "p-значение:  0.729\n",
      "Не получилось отвергнуть нулевую гипотезу, вывод о различии сделать нельзя\n",
      "Относительный прирост среднего чека группы B: 0.259\n"
     ]
    }
   ],
   "source": [
    "results = st.mannwhitneyu(orders[orders['group']=='A']['revenue'], orders[orders['group']=='B']['revenue']) \n",
    "\n",
    "print('p-значение: ', \"{0:.3f}\".format(results.pvalue))\n",
    "\n",
    "if results.pvalue < alpha:\n",
    "    print('Отвергаем нулевую гипотезу: разница статистически значима')\n",
    "else:\n",
    "    print('Не получилось отвергнуть нулевую гипотезу, вывод о различии сделать нельзя')\n",
    "    \n",
    "print(\"Относительный прирост среднего чека группы B:\",\"{0:.3f}\".format(\n",
    "    orders[orders['group']=='B']['revenue'].mean()/orders[orders['group']=='A']['revenue'].mean()-1)\n",
    "     )"
   ]
  },
  {
   "cell_type": "markdown",
   "metadata": {},
   "source": [
    "P-value значительно больше 0.05. Значит, причин отвергать нулевую гипотезу и считать, что в среднем чеке есть различия, нет. В то же время показатель относительного прироста среднего чека группы В к группе А говорит нам о значительном росте в 25,9% процента. В данный показатель наверняка вмешались аномально высокие значения чеков некоторых покупок, убедимся в этом. "
   ]
  },
  {
   "cell_type": "markdown",
   "metadata": {},
   "source": [
    "### Расчет статистической значимости различий в конверсии между группами по «очищенным» данным. "
   ]
  },
  {
   "cell_type": "markdown",
   "metadata": {},
   "source": [
    "Напомню, что найденные в прошлых уроках 95-й и 99-й перцентили средних чеков равны 28000 и 58233,2 рублям. А 95-й и 99-й перцентили количества заказов на одного пользователя равны 2 и 4 заказа на пользователя.\n",
    "Примем за аномальных пользователей тех, кто совершил от 2 заказов или совершил заказ дороже 40 000 рублей. Так мы уберём 5% пользователей с наибольшим числом заказов и от 1% до 5% пользователей с дорогими заказами. \n"
   ]
  },
  {
   "cell_type": "code",
   "execution_count": 24,
   "metadata": {},
   "outputs": [
    {
     "name": "stdout",
     "output_type": "stream",
     "text": [
      "45\n"
     ]
    }
   ],
   "source": [
    "#Сделаем срезы пользователей с числом заказов больше 2 — usersWithManyOrders \n",
    "# и пользователей, совершивших заказы дороже 4 000 — usersWithExpensiveOrders. \n",
    "# Объединим их в таблице abnormalUsers.\n",
    "\n",
    "usersWithManyOrders = pd.concat(\n",
    "    [\n",
    "        ordersByUsersA[ordersByUsersA['orders'] > 2]['userId'],\n",
    "        ordersByUsersB[ordersByUsersB['orders'] > 2]['userId'],\n",
    "    ],\n",
    "    axis=0,\n",
    ")\n",
    "usersWithExpensiveOrders = orders[orders['revenue'] > 40000]['userId']\n",
    "abnormalUsers = (\n",
    "    pd.concat([usersWithManyOrders, usersWithExpensiveOrders], axis=0)\n",
    "    .drop_duplicates()\n",
    "    .sort_values()\n",
    ")\n",
    "\n",
    "print(abnormalUsers.shape[0]) # Число аномальных пользователей"
   ]
  },
  {
   "cell_type": "markdown",
   "metadata": {},
   "source": [
    "Всего 45 аномальных пользователей.\n",
    "Узнаем, как их действия повлияли на результаты теста. Посчитаем статистическую значимость различий в конверсии между группами теста по \"очищенным\" данным. "
   ]
  },
  {
   "cell_type": "code",
   "execution_count": 25,
   "metadata": {},
   "outputs": [],
   "source": [
    "# Подготовим выборки количества заказов по пользователям по группам теста\n",
    "\n",
    "sampleAFiltered = pd.concat(\n",
    "    [\n",
    "        ordersByUsersA[\n",
    "            np.logical_not(ordersByUsersA['userId'].isin(abnormalUsers))\n",
    "        ]['orders'],\n",
    "        pd.Series(\n",
    "            0,\n",
    "            index=np.arange(\n",
    "                data['visitorsPerDateA'].sum() - len(ordersByUsersA['orders'])\n",
    "            ),\n",
    "            name='orders',\n",
    "        ),\n",
    "    ],\n",
    "    axis=0,\n",
    ")\n",
    "\n",
    "sampleBFiltered = pd.concat(\n",
    "    [\n",
    "        ordersByUsersB[\n",
    "            np.logical_not(ordersByUsersB['userId'].isin(abnormalUsers))\n",
    "        ]['orders'],\n",
    "        pd.Series(\n",
    "            0,\n",
    "            index=np.arange(\n",
    "                data['visitorsPerDateB'].sum() - len(ordersByUsersB['orders'])\n",
    "            ),\n",
    "            name='orders',\n",
    "        ),\n",
    "    ],\n",
    "    axis=0,\n",
    ")"
   ]
  },
  {
   "cell_type": "markdown",
   "metadata": {},
   "source": [
    "Применим статистический критерий Манна-Уитни к полученным выборкам."
   ]
  },
  {
   "cell_type": "code",
   "execution_count": 26,
   "metadata": {},
   "outputs": [
    {
     "name": "stdout",
     "output_type": "stream",
     "text": [
      "p-значение:  0.007\n",
      "Отвергаем нулевую гипотезу: разница статистически значима\n",
      "Относительный прирост конверсии группы B: 0.188\n"
     ]
    }
   ],
   "source": [
    "results = st.mannwhitneyu(sampleAFiltered, sampleBFiltered) \n",
    "\n",
    "print('p-значение: ', \"{0:.3f}\".format(results.pvalue))\n",
    "\n",
    "if results.pvalue < alpha:\n",
    "    print('Отвергаем нулевую гипотезу: разница статистически значима')\n",
    "else:\n",
    "    print('Не получилось отвергнуть нулевую гипотезу, вывод о различии сделать нельзя')\n",
    "    \n",
    "print(\"Относительный прирост конверсии группы B:\",\"{0:.3f}\".format(sampleBFiltered.mean()/sampleAFiltered.mean()-1))"
   ]
  },
  {
   "cell_type": "markdown",
   "metadata": {},
   "source": [
    "Как и при анализе \"сырых\" данным, получаем p-value меньше заданного уровня статистической значимости 0,05. Это говорит нам о том, что мы можем окончательно отвергнуть нулевую гипотезу и  утверждать, что в течении А/В-теста конверсия внутри групп была различна.\n",
    "Относительный прирост конверсии внутри группы В по \"очищенным\" данным по сравнению с группой А вырос и составил 18,8% против 13,8% при \"сыром\" расчете. Это значительный прирост."
   ]
  },
  {
   "cell_type": "markdown",
   "metadata": {},
   "source": [
    "### Расчет статистической значимости различий в среднем чеке заказа между группами по «очищенным» данным"
   ]
  },
  {
   "cell_type": "code",
   "execution_count": 27,
   "metadata": {},
   "outputs": [
    {
     "name": "stdout",
     "output_type": "stream",
     "text": [
      "p-значение:  0.944\n",
      "Не получилось отвергнуть нулевую гипотезу, вывод о различии сделать нельзя\n",
      "Относительный прирост среднего чека группы B: 0.058\n"
     ]
    }
   ],
   "source": [
    "results = st.mannwhitneyu(\n",
    "    orders[np.logical_and(orders['group'] == 'A', np.logical_not(orders['userId'].isin(abnormalUsers)),)]['revenue'],\n",
    "    orders[np.logical_and(orders['group'] == 'B', np.logical_not(orders['userId'].isin(abnormalUsers)),)]['revenue']\n",
    ") \n",
    "\n",
    "print('p-значение: ', \"{0:.3f}\".format(results.pvalue))\n",
    "\n",
    "if results.pvalue < alpha:\n",
    "    print('Отвергаем нулевую гипотезу: разница статистически значима')\n",
    "else:\n",
    "    print('Не получилось отвергнуть нулевую гипотезу, вывод о различии сделать нельзя')\n",
    "    \n",
    "print(\"Относительный прирост среднего чека группы B:\", \"{0:.3f}\".format(\n",
    "    orders[\n",
    "            np.logical_and(\n",
    "                orders['group'] == 'B',\n",
    "                np.logical_not(orders['userId'].isin(abnormalUsers)),\n",
    "            )\n",
    "        ]['revenue'].mean()\n",
    "        / orders[\n",
    "            np.logical_and(\n",
    "                orders['group'] == 'A',\n",
    "                np.logical_not(orders['userId'].isin(abnormalUsers)),\n",
    "            )\n",
    "        ]['revenue'].mean()\n",
    "        - 1\n",
    "    )\n",
    ")"
   ]
  },
  {
   "cell_type": "markdown",
   "metadata": {},
   "source": [
    "P-value еще больше увеличился по сравнению с уровнем статистической значимости, говорить о статистической значимости различий в значениях средних чеков нельзя, оставляем нулевую гипотезу.\n",
    "Разница между средними чеками сократилась с 25.9% при \"сырых\" данных до 5.8%.\n",
    "Хотя общие выводы по результатам теста значений средних чеков не изменились, данный пример хорошо показывает, как сильно аномалии могут влиять на результаты A/B-теста."
   ]
  },
  {
   "cell_type": "markdown",
   "metadata": {},
   "source": [
    "### Принятие решения по результатам теста. Вывод"
   ]
  },
  {
   "cell_type": "markdown",
   "metadata": {},
   "source": [
    "Итак, подытожим. \n",
    "1) У нас имеется факт принятия статистической значимости различия конверсии между группами как по \"сырым\", так и по \"обработанным\" данным. \n",
    "\n",
    "2)  Нет статистически значимого различия по среднему чеку между группами ни по «сырым», ни по данным после фильтрации аномалий.\n",
    "\n",
    "3) График различия конверсии между группами сообщает, что результаты группы B лучше группы A и нет значительной тенденции к какой-то его коррекции. Относительная конверсия группы В  по сравнению с группой А улучшилась на 18,8%.\n",
    "\n",
    "Исходя из обнаруженных фактов, и сделав оговорку что мы верно сделали допуск о целях теста и его параметрах (ввиду их отсутствия в ТЗ), считаю что можно остановить тест, зафиксировать победу группы В. Изменения в работе сайта действительно имели положительное влияние на конверсию."
   ]
  },
  {
   "cell_type": "markdown",
   "metadata": {},
   "source": [
    "## Общий вывод"
   ]
  },
  {
   "cell_type": "markdown",
   "metadata": {},
   "source": [
    "В ходе анализа проведена приоритизация имеющихся гипотез и рассмотрены результаты А/В-тестирования.\n",
    "\n",
    "Все имеющиеся гипотезы удовлетворительно сформированы и не противоречат общим правилам формирования гипотез в бизнесе.\n",
    "\n",
    "Проведенный анализ гипотез по фреймворкам ICE и RICE показал, что приоритетными для реализации являются следующие гипотезы:\n",
    "    \n",
    "**По ICE:** \n",
    "1) Запустить акцию, дающую скидку на товар в день рождения\n",
    "\n",
    "2) Добавить два новых канала привлечения трафика, что позволит привлекать на 30% больше пользователей\n",
    "\n",
    "3) Добавить форму подписки на все основные страницы, чтобы собрать базу клиентов для email-рассылок\n",
    "\n",
    "**По RICE:**\n",
    "1) Добавить форму подписки на все основные страницы, чтобы собрать базу клиентов для email-рассылок\n",
    "\n",
    "2) Добавить блоки рекомендаций товаров на сайт интернет магазина, чтобы повысить конверсию и средний чек заказа\n",
    "\n",
    "3) Добавить два новых канала привлечения трафика, что позволит привлекать на 30% больше пользователей\n",
    "\n",
    "3) Показать на главной странице баннеры с актуальными акциями и распродажами, чтобы увеличить конверсию\n",
    "\n",
    "**На мой взгляд компании необходимо обратить внимание на приоритизацию по RICE, так как в данном расчете фреймворка участвует большее число параметров, а значит и он является более объективным.**\n",
    "\n",
    "\n",
    "\n",
    "\n",
    "**Проведенный А/В-тест с оговоркой на нехватку первоначальных данных можно считать успешным:**\n",
    "\n",
    "1) Имеется факт принятия статистической значимости различия конверсии между группами как по \"сырым\", так и по \"обработанным\" данным. \n",
    "\n",
    "2)  Нет статистически значимого различия по среднему чеку между группами ни по «сырым», ни по данным после фильтрации аномалий.\n",
    "\n",
    "3) График различия конверсии между группами сообщает, что результаты группы B лучше группы A и нет значительной тенденции к какой-то его коррекции. Относительная конверсия группы В  по сравнению с группой А улучшилась на 18,8%.\n",
    "\n",
    "Исходя из обнаруженных фактов, и сделав оговорку что мы верно сделали допуск о целях теста и его параметрах (ввиду их отсутствия в ТЗ), **считаю, что можно остановить тест, зафиксировать победу группы В. Изменения в работе сайта действительно имели положительное влияние на конверсию.**\n"
   ]
  }
 ],
 "metadata": {
  "ExecuteTimeLog": [
   {
    "duration": 819,
    "start_time": "2022-06-01T14:42:50.418Z"
   },
   {
    "duration": 2,
    "start_time": "2022-06-01T14:43:08.777Z"
   },
   {
    "duration": 64,
    "start_time": "2022-06-01T14:45:41.261Z"
   },
   {
    "duration": 46,
    "start_time": "2022-06-01T14:45:46.997Z"
   },
   {
    "duration": 36,
    "start_time": "2022-06-01T14:46:36.246Z"
   },
   {
    "duration": 29,
    "start_time": "2022-06-01T14:49:30.845Z"
   },
   {
    "duration": 35,
    "start_time": "2022-06-01T14:49:43.699Z"
   },
   {
    "duration": 211,
    "start_time": "2022-06-01T14:51:25.996Z"
   },
   {
    "duration": 13,
    "start_time": "2022-06-01T14:51:31.936Z"
   },
   {
    "duration": 22,
    "start_time": "2022-06-01T14:52:24.222Z"
   },
   {
    "duration": 9,
    "start_time": "2022-06-01T14:52:51.148Z"
   },
   {
    "duration": 11,
    "start_time": "2022-06-01T14:53:02.088Z"
   },
   {
    "duration": 59,
    "start_time": "2022-06-01T16:41:11.010Z"
   },
   {
    "duration": 403,
    "start_time": "2022-06-01T16:41:19.270Z"
   },
   {
    "duration": 84,
    "start_time": "2022-06-01T16:41:19.991Z"
   },
   {
    "duration": 56,
    "start_time": "2022-06-01T16:41:23.032Z"
   },
   {
    "duration": 12,
    "start_time": "2022-06-01T16:41:35.997Z"
   },
   {
    "duration": 8,
    "start_time": "2022-06-01T16:41:45.191Z"
   },
   {
    "duration": 3,
    "start_time": "2022-06-01T16:45:57.750Z"
   },
   {
    "duration": 3,
    "start_time": "2022-06-01T16:45:58.138Z"
   },
   {
    "duration": 32,
    "start_time": "2022-06-01T16:45:58.872Z"
   },
   {
    "duration": 12,
    "start_time": "2022-06-01T16:46:15.937Z"
   },
   {
    "duration": 8,
    "start_time": "2022-06-01T16:47:32.478Z"
   },
   {
    "duration": 13,
    "start_time": "2022-06-01T16:47:39.469Z"
   },
   {
    "duration": 745,
    "start_time": "2022-06-01T17:51:12.996Z"
   },
   {
    "duration": 656,
    "start_time": "2022-06-01T17:56:27.700Z"
   },
   {
    "duration": 9,
    "start_time": "2022-06-01T17:57:53.760Z"
   },
   {
    "duration": 96,
    "start_time": "2022-06-01T17:58:41.978Z"
   },
   {
    "duration": 193,
    "start_time": "2022-06-01T17:58:57.488Z"
   },
   {
    "duration": 55,
    "start_time": "2022-06-01T17:59:24.960Z"
   },
   {
    "duration": 193,
    "start_time": "2022-06-01T18:00:27.784Z"
   },
   {
    "duration": 202,
    "start_time": "2022-06-01T18:03:48.936Z"
   },
   {
    "duration": 70,
    "start_time": "2022-06-01T18:04:05.819Z"
   },
   {
    "duration": 176,
    "start_time": "2022-06-01T18:05:25.243Z"
   },
   {
    "duration": 47,
    "start_time": "2022-06-01T18:05:34.394Z"
   },
   {
    "duration": 39,
    "start_time": "2022-06-01T18:06:52.716Z"
   },
   {
    "duration": 71,
    "start_time": "2022-06-01T18:07:29.931Z"
   },
   {
    "duration": 32,
    "start_time": "2022-06-01T18:11:21.406Z"
   },
   {
    "duration": 81,
    "start_time": "2022-06-01T18:17:07.150Z"
   },
   {
    "duration": 71,
    "start_time": "2022-06-01T18:17:32.058Z"
   },
   {
    "duration": 1367,
    "start_time": "2022-06-01T18:18:11.574Z"
   },
   {
    "duration": 707,
    "start_time": "2022-06-01T18:18:55.447Z"
   },
   {
    "duration": 757,
    "start_time": "2022-06-01T18:19:08.835Z"
   },
   {
    "duration": 659,
    "start_time": "2022-06-01T18:19:46.238Z"
   },
   {
    "duration": 679,
    "start_time": "2022-06-01T18:20:06.095Z"
   },
   {
    "duration": 628,
    "start_time": "2022-06-01T18:20:57.516Z"
   },
   {
    "duration": 697,
    "start_time": "2022-06-01T18:21:12.346Z"
   },
   {
    "duration": 616,
    "start_time": "2022-06-01T18:21:33.331Z"
   },
   {
    "duration": 317,
    "start_time": "2022-06-01T18:22:10.212Z"
   },
   {
    "duration": 601,
    "start_time": "2022-06-01T18:22:46.696Z"
   },
   {
    "duration": 698,
    "start_time": "2022-06-01T18:26:12.010Z"
   },
   {
    "duration": 490,
    "start_time": "2022-06-01T18:29:52.313Z"
   },
   {
    "duration": 478,
    "start_time": "2022-06-01T18:30:15.369Z"
   },
   {
    "duration": 588,
    "start_time": "2022-06-01T18:30:29.890Z"
   },
   {
    "duration": 545,
    "start_time": "2022-06-01T18:30:41.625Z"
   },
   {
    "duration": 550,
    "start_time": "2022-06-01T18:31:26.108Z"
   },
   {
    "duration": 443,
    "start_time": "2022-06-01T18:32:41.022Z"
   },
   {
    "duration": 541,
    "start_time": "2022-06-01T18:33:26.964Z"
   },
   {
    "duration": 492,
    "start_time": "2022-06-01T18:34:45.373Z"
   },
   {
    "duration": 225,
    "start_time": "2022-06-01T18:36:38.086Z"
   },
   {
    "duration": 354,
    "start_time": "2022-06-01T18:37:53.090Z"
   },
   {
    "duration": 336,
    "start_time": "2022-06-01T18:38:13.729Z"
   },
   {
    "duration": 194,
    "start_time": "2022-06-01T18:39:53.257Z"
   },
   {
    "duration": 254,
    "start_time": "2022-06-01T18:41:18.726Z"
   },
   {
    "duration": 135,
    "start_time": "2022-06-01T18:44:50.042Z"
   },
   {
    "duration": 149,
    "start_time": "2022-06-01T18:45:29.324Z"
   },
   {
    "duration": 9,
    "start_time": "2022-06-01T18:45:53.930Z"
   },
   {
    "duration": 118,
    "start_time": "2022-06-01T18:46:57.932Z"
   },
   {
    "duration": 5,
    "start_time": "2022-06-01T18:48:08.134Z"
   },
   {
    "duration": 11,
    "start_time": "2022-06-01T19:10:22.927Z"
   },
   {
    "duration": 4,
    "start_time": "2022-06-01T19:10:32.070Z"
   },
   {
    "duration": 152,
    "start_time": "2022-06-01T19:16:04.489Z"
   },
   {
    "duration": 14,
    "start_time": "2022-06-01T19:17:55.879Z"
   },
   {
    "duration": 236,
    "start_time": "2022-06-01T19:25:27.912Z"
   },
   {
    "duration": 223,
    "start_time": "2022-06-01T19:25:42.496Z"
   },
   {
    "duration": 102,
    "start_time": "2022-06-01T19:25:53.535Z"
   },
   {
    "duration": 157,
    "start_time": "2022-06-01T19:27:49.501Z"
   },
   {
    "duration": 6,
    "start_time": "2022-06-01T19:28:29.213Z"
   },
   {
    "duration": 160,
    "start_time": "2022-06-01T19:30:30.386Z"
   },
   {
    "duration": 154,
    "start_time": "2022-06-01T19:31:20.408Z"
   },
   {
    "duration": 12,
    "start_time": "2022-06-01T19:33:49.889Z"
   },
   {
    "duration": 10,
    "start_time": "2022-06-01T19:35:24.964Z"
   },
   {
    "duration": 8,
    "start_time": "2022-06-01T19:40:11.908Z"
   },
   {
    "duration": 9,
    "start_time": "2022-06-01T19:40:28.962Z"
   },
   {
    "duration": 8,
    "start_time": "2022-06-01T19:43:06.862Z"
   },
   {
    "duration": 8,
    "start_time": "2022-06-01T19:44:14.167Z"
   },
   {
    "duration": 40,
    "start_time": "2022-06-01T19:45:01.731Z"
   },
   {
    "duration": 17,
    "start_time": "2022-06-01T19:47:06.228Z"
   },
   {
    "duration": 14,
    "start_time": "2022-06-01T19:47:36.717Z"
   },
   {
    "duration": 26,
    "start_time": "2022-06-01T19:49:10.765Z"
   },
   {
    "duration": 51,
    "start_time": "2022-06-02T04:45:16.941Z"
   },
   {
    "duration": 1195,
    "start_time": "2022-06-02T04:45:24.390Z"
   },
   {
    "duration": 5,
    "start_time": "2022-06-02T04:45:25.587Z"
   },
   {
    "duration": 70,
    "start_time": "2022-06-02T04:45:25.593Z"
   },
   {
    "duration": 10,
    "start_time": "2022-06-02T04:45:25.665Z"
   },
   {
    "duration": 10,
    "start_time": "2022-06-02T04:45:25.676Z"
   },
   {
    "duration": 97,
    "start_time": "2022-06-02T04:45:25.687Z"
   },
   {
    "duration": 60,
    "start_time": "2022-06-02T04:45:25.786Z"
   },
   {
    "duration": 543,
    "start_time": "2022-06-02T04:45:25.847Z"
   },
   {
    "duration": 261,
    "start_time": "2022-06-02T04:45:26.392Z"
   },
   {
    "duration": 387,
    "start_time": "2022-06-02T04:45:26.656Z"
   },
   {
    "duration": 236,
    "start_time": "2022-06-02T04:45:27.045Z"
   },
   {
    "duration": 323,
    "start_time": "2022-06-02T04:45:27.283Z"
   },
   {
    "duration": 106,
    "start_time": "2022-06-02T04:45:27.607Z"
   },
   {
    "duration": 3,
    "start_time": "2022-06-02T04:45:27.715Z"
   },
   {
    "duration": 125,
    "start_time": "2022-06-02T04:45:27.720Z"
   },
   {
    "duration": 4,
    "start_time": "2022-06-02T04:45:27.846Z"
   },
   {
    "duration": 210,
    "start_time": "2022-06-02T04:45:27.851Z"
   },
   {
    "duration": 129,
    "start_time": "2022-06-02T04:45:28.063Z"
   },
   {
    "duration": 180,
    "start_time": "2022-06-02T04:45:28.193Z"
   },
   {
    "duration": 22,
    "start_time": "2022-06-02T04:45:28.374Z"
   },
   {
    "duration": 8,
    "start_time": "2022-06-02T04:45:28.397Z"
   },
   {
    "duration": 7,
    "start_time": "2022-06-02T04:45:28.407Z"
   },
   {
    "duration": 25,
    "start_time": "2022-06-02T04:45:28.415Z"
   },
   {
    "duration": 12,
    "start_time": "2022-06-02T04:45:28.441Z"
   },
   {
    "duration": 27,
    "start_time": "2022-06-02T04:48:29.204Z"
   },
   {
    "duration": 30,
    "start_time": "2022-06-02T05:17:21.705Z"
   },
   {
    "duration": 58,
    "start_time": "2022-06-02T05:25:44.404Z"
   },
   {
    "duration": 20,
    "start_time": "2022-06-02T05:25:44.923Z"
   },
   {
    "duration": 449,
    "start_time": "2022-06-02T05:31:31.766Z"
   },
   {
    "duration": 413,
    "start_time": "2022-06-02T05:31:48.734Z"
   },
   {
    "duration": 197,
    "start_time": "2022-06-02T05:53:39.142Z"
   },
   {
    "duration": 202,
    "start_time": "2022-06-02T06:08:28.164Z"
   },
   {
    "duration": 324,
    "start_time": "2022-06-02T06:08:44.474Z"
   },
   {
    "duration": 97,
    "start_time": "2022-06-02T06:32:03.102Z"
   },
   {
    "duration": 185,
    "start_time": "2022-06-02T06:32:35.315Z"
   },
   {
    "duration": 140,
    "start_time": "2022-06-02T06:36:53.490Z"
   },
   {
    "duration": 171,
    "start_time": "2022-06-02T06:37:17.297Z"
   },
   {
    "duration": 312,
    "start_time": "2022-06-02T06:42:46.113Z"
   },
   {
    "duration": 165,
    "start_time": "2022-06-02T06:46:24.172Z"
   },
   {
    "duration": 182,
    "start_time": "2022-06-02T07:29:28.451Z"
   },
   {
    "duration": 221,
    "start_time": "2022-06-02T07:42:41.579Z"
   },
   {
    "duration": 123,
    "start_time": "2022-06-02T07:42:43.340Z"
   },
   {
    "duration": 168,
    "start_time": "2022-06-02T07:42:45.549Z"
   },
   {
    "duration": 155,
    "start_time": "2022-06-02T07:44:59.362Z"
   },
   {
    "duration": 169,
    "start_time": "2022-06-02T07:46:43.787Z"
   },
   {
    "duration": 205,
    "start_time": "2022-06-02T07:51:26.421Z"
   },
   {
    "duration": 131,
    "start_time": "2022-06-02T07:51:30.240Z"
   },
   {
    "duration": 153,
    "start_time": "2022-06-02T07:51:31.670Z"
   },
   {
    "duration": 10,
    "start_time": "2022-06-02T08:14:27.709Z"
   },
   {
    "duration": 11,
    "start_time": "2022-06-02T08:14:51.592Z"
   },
   {
    "duration": 33,
    "start_time": "2022-06-02T08:29:53.015Z"
   },
   {
    "duration": 8,
    "start_time": "2022-06-02T08:30:03.669Z"
   },
   {
    "duration": 47,
    "start_time": "2022-06-02T08:39:44.390Z"
   },
   {
    "duration": 26,
    "start_time": "2022-06-02T08:41:44.101Z"
   },
   {
    "duration": 65,
    "start_time": "2022-06-02T08:50:11.385Z"
   },
   {
    "duration": 28,
    "start_time": "2022-06-02T08:51:01.646Z"
   },
   {
    "duration": 29,
    "start_time": "2022-06-02T08:51:14.948Z"
   },
   {
    "duration": 32,
    "start_time": "2022-06-02T08:51:40.895Z"
   },
   {
    "duration": 43,
    "start_time": "2022-06-02T08:59:34.765Z"
   },
   {
    "duration": 24,
    "start_time": "2022-06-02T08:59:39.525Z"
   },
   {
    "duration": 35,
    "start_time": "2022-06-02T08:59:44.297Z"
   },
   {
    "duration": 442,
    "start_time": "2022-06-02T09:12:49.275Z"
   },
   {
    "duration": 201,
    "start_time": "2022-06-02T09:12:49.993Z"
   },
   {
    "duration": 287,
    "start_time": "2022-06-02T09:12:50.653Z"
   },
   {
    "duration": 207,
    "start_time": "2022-06-02T09:12:51.548Z"
   },
   {
    "duration": 321,
    "start_time": "2022-06-02T09:12:52.490Z"
   },
   {
    "duration": 139,
    "start_time": "2022-06-02T09:12:52.813Z"
   },
   {
    "duration": 3,
    "start_time": "2022-06-02T09:12:52.954Z"
   },
   {
    "duration": 162,
    "start_time": "2022-06-02T09:12:52.959Z"
   },
   {
    "duration": 163,
    "start_time": "2022-06-02T09:12:53.123Z"
   },
   {
    "duration": 6,
    "start_time": "2022-06-02T09:12:53.287Z"
   },
   {
    "duration": 196,
    "start_time": "2022-06-02T09:12:54.250Z"
   },
   {
    "duration": 169,
    "start_time": "2022-06-02T09:12:55.143Z"
   },
   {
    "duration": 145,
    "start_time": "2022-06-02T09:12:56.399Z"
   },
   {
    "duration": 10,
    "start_time": "2022-06-02T09:13:00.406Z"
   },
   {
    "duration": 23,
    "start_time": "2022-06-02T09:19:12.262Z"
   },
   {
    "duration": 75,
    "start_time": "2022-06-02T09:20:52.765Z"
   },
   {
    "duration": 26,
    "start_time": "2022-06-02T09:21:35.546Z"
   },
   {
    "duration": 29,
    "start_time": "2022-06-02T09:21:44.766Z"
   },
   {
    "duration": 30,
    "start_time": "2022-06-02T09:22:01.335Z"
   },
   {
    "duration": 23,
    "start_time": "2022-06-02T09:23:58.038Z"
   },
   {
    "duration": 18,
    "start_time": "2022-06-02T09:26:51.957Z"
   },
   {
    "duration": 5,
    "start_time": "2022-06-02T09:29:15.822Z"
   },
   {
    "duration": 15,
    "start_time": "2022-06-02T09:29:48.318Z"
   },
   {
    "duration": 148,
    "start_time": "2022-06-02T09:30:50.107Z"
   },
   {
    "duration": 10,
    "start_time": "2022-06-02T09:30:57.048Z"
   },
   {
    "duration": 9,
    "start_time": "2022-06-02T09:31:02.187Z"
   },
   {
    "duration": 8,
    "start_time": "2022-06-02T09:31:04.998Z"
   },
   {
    "duration": 14,
    "start_time": "2022-06-02T09:31:47.160Z"
   },
   {
    "duration": 25,
    "start_time": "2022-06-02T09:42:17.944Z"
   },
   {
    "duration": 10,
    "start_time": "2022-06-02T10:01:02.730Z"
   },
   {
    "duration": 11,
    "start_time": "2022-06-02T10:01:39.420Z"
   },
   {
    "duration": 67,
    "start_time": "2022-06-02T10:03:01.610Z"
   },
   {
    "duration": 35,
    "start_time": "2022-06-02T10:03:02.954Z"
   },
   {
    "duration": 66,
    "start_time": "2022-06-02T10:03:16.075Z"
   },
   {
    "duration": 25,
    "start_time": "2022-06-02T10:03:16.725Z"
   },
   {
    "duration": 557,
    "start_time": "2022-06-02T10:04:21.746Z"
   },
   {
    "duration": 459,
    "start_time": "2022-06-02T10:04:32.480Z"
   },
   {
    "duration": 212,
    "start_time": "2022-06-02T10:05:14.042Z"
   },
   {
    "duration": 276,
    "start_time": "2022-06-02T10:05:58.822Z"
   },
   {
    "duration": 308,
    "start_time": "2022-06-02T10:07:51.907Z"
   },
   {
    "duration": 126,
    "start_time": "2022-06-02T10:08:11.450Z"
   },
   {
    "duration": 126,
    "start_time": "2022-06-02T10:08:18.421Z"
   },
   {
    "duration": 4,
    "start_time": "2022-06-02T10:08:52.214Z"
   },
   {
    "duration": 154,
    "start_time": "2022-06-02T10:09:32.207Z"
   },
   {
    "duration": 157,
    "start_time": "2022-06-02T10:09:34.669Z"
   },
   {
    "duration": 197,
    "start_time": "2022-06-02T10:11:36.907Z"
   },
   {
    "duration": 141,
    "start_time": "2022-06-02T10:11:42.879Z"
   },
   {
    "duration": 176,
    "start_time": "2022-06-02T10:11:45.669Z"
   },
   {
    "duration": 9,
    "start_time": "2022-06-02T10:13:57.064Z"
   },
   {
    "duration": 8,
    "start_time": "2022-06-02T10:14:10.771Z"
   },
   {
    "duration": 8,
    "start_time": "2022-06-02T10:14:18.228Z"
   },
   {
    "duration": 38,
    "start_time": "2022-06-02T10:14:23.117Z"
   },
   {
    "duration": 15,
    "start_time": "2022-06-02T10:14:36.637Z"
   },
   {
    "duration": 459,
    "start_time": "2022-06-02T10:18:35.501Z"
   },
   {
    "duration": 465,
    "start_time": "2022-06-02T10:18:46.498Z"
   },
   {
    "duration": 206,
    "start_time": "2022-06-02T10:19:47.064Z"
   },
   {
    "duration": 326,
    "start_time": "2022-06-02T10:21:18.390Z"
   },
   {
    "duration": 351,
    "start_time": "2022-06-02T10:22:25.107Z"
   },
   {
    "duration": 339,
    "start_time": "2022-06-02T10:23:51.741Z"
   },
   {
    "duration": 158,
    "start_time": "2022-06-02T10:25:49.833Z"
   },
   {
    "duration": 4,
    "start_time": "2022-06-02T10:26:00.543Z"
   },
   {
    "duration": 162,
    "start_time": "2022-06-02T10:27:02.328Z"
   },
   {
    "duration": 173,
    "start_time": "2022-06-02T10:28:08.368Z"
   },
   {
    "duration": 4,
    "start_time": "2022-06-02T10:28:10.829Z"
   },
   {
    "duration": 195,
    "start_time": "2022-06-02T10:28:14.319Z"
   },
   {
    "duration": 128,
    "start_time": "2022-06-02T10:28:16.197Z"
   },
   {
    "duration": 154,
    "start_time": "2022-06-02T10:28:18.411Z"
   },
   {
    "duration": 12,
    "start_time": "2022-06-02T10:28:23.687Z"
   },
   {
    "duration": 9,
    "start_time": "2022-06-02T10:28:25.433Z"
   },
   {
    "duration": 7,
    "start_time": "2022-06-02T10:28:26.262Z"
   },
   {
    "duration": 26,
    "start_time": "2022-06-02T10:28:27.162Z"
   },
   {
    "duration": 14,
    "start_time": "2022-06-02T10:28:28.540Z"
   },
   {
    "duration": 1055,
    "start_time": "2022-06-02T10:28:52.862Z"
   },
   {
    "duration": 3,
    "start_time": "2022-06-02T10:28:53.918Z"
   },
   {
    "duration": 39,
    "start_time": "2022-06-02T10:28:53.922Z"
   },
   {
    "duration": 12,
    "start_time": "2022-06-02T10:28:53.962Z"
   },
   {
    "duration": 13,
    "start_time": "2022-06-02T10:28:53.976Z"
   },
   {
    "duration": 56,
    "start_time": "2022-06-02T10:28:53.991Z"
   },
   {
    "duration": 24,
    "start_time": "2022-06-02T10:28:54.048Z"
   },
   {
    "duration": 595,
    "start_time": "2022-06-02T10:28:54.073Z"
   },
   {
    "duration": 307,
    "start_time": "2022-06-02T10:28:54.669Z"
   },
   {
    "duration": 361,
    "start_time": "2022-06-02T10:28:54.978Z"
   },
   {
    "duration": 258,
    "start_time": "2022-06-02T10:28:55.341Z"
   },
   {
    "duration": 345,
    "start_time": "2022-06-02T10:28:55.601Z"
   },
   {
    "duration": 161,
    "start_time": "2022-06-02T10:28:55.947Z"
   },
   {
    "duration": 4,
    "start_time": "2022-06-02T10:28:56.110Z"
   },
   {
    "duration": 169,
    "start_time": "2022-06-02T10:28:56.116Z"
   },
   {
    "duration": 176,
    "start_time": "2022-06-02T10:28:56.287Z"
   },
   {
    "duration": 4,
    "start_time": "2022-06-02T10:28:56.464Z"
   },
   {
    "duration": 219,
    "start_time": "2022-06-02T10:28:56.469Z"
   },
   {
    "duration": 140,
    "start_time": "2022-06-02T10:28:56.692Z"
   },
   {
    "duration": 150,
    "start_time": "2022-06-02T10:28:56.834Z"
   },
   {
    "duration": 9,
    "start_time": "2022-06-02T10:28:56.991Z"
   },
   {
    "duration": 8,
    "start_time": "2022-06-02T10:28:57.001Z"
   },
   {
    "duration": 7,
    "start_time": "2022-06-02T10:28:57.010Z"
   },
   {
    "duration": 25,
    "start_time": "2022-06-02T10:28:57.019Z"
   },
   {
    "duration": 12,
    "start_time": "2022-06-02T10:28:57.046Z"
   },
   {
    "duration": 1412,
    "start_time": "2022-06-02T15:24:02.436Z"
   },
   {
    "duration": 3,
    "start_time": "2022-06-02T15:24:03.851Z"
   },
   {
    "duration": 78,
    "start_time": "2022-06-02T15:24:03.857Z"
   },
   {
    "duration": 11,
    "start_time": "2022-06-02T15:24:03.937Z"
   },
   {
    "duration": 9,
    "start_time": "2022-06-02T15:24:03.950Z"
   },
   {
    "duration": 111,
    "start_time": "2022-06-02T15:24:03.960Z"
   },
   {
    "duration": 63,
    "start_time": "2022-06-02T15:24:04.073Z"
   },
   {
    "duration": 629,
    "start_time": "2022-06-02T15:24:04.138Z"
   },
   {
    "duration": 321,
    "start_time": "2022-06-02T15:24:04.769Z"
   },
   {
    "duration": 421,
    "start_time": "2022-06-02T15:24:05.091Z"
   },
   {
    "duration": 281,
    "start_time": "2022-06-02T15:24:05.513Z"
   },
   {
    "duration": 352,
    "start_time": "2022-06-02T15:24:05.796Z"
   },
   {
    "duration": 191,
    "start_time": "2022-06-02T15:24:06.150Z"
   },
   {
    "duration": 6,
    "start_time": "2022-06-02T15:24:06.346Z"
   },
   {
    "duration": 236,
    "start_time": "2022-06-02T15:24:06.353Z"
   },
   {
    "duration": 205,
    "start_time": "2022-06-02T15:24:06.591Z"
   },
   {
    "duration": 5,
    "start_time": "2022-06-02T15:24:06.798Z"
   },
   {
    "duration": 243,
    "start_time": "2022-06-02T15:24:06.805Z"
   },
   {
    "duration": 153,
    "start_time": "2022-06-02T15:24:07.050Z"
   },
   {
    "duration": 183,
    "start_time": "2022-06-02T15:24:07.204Z"
   },
   {
    "duration": 11,
    "start_time": "2022-06-02T15:24:07.389Z"
   },
   {
    "duration": 13,
    "start_time": "2022-06-02T15:24:07.401Z"
   },
   {
    "duration": 8,
    "start_time": "2022-06-02T15:24:07.427Z"
   },
   {
    "duration": 33,
    "start_time": "2022-06-02T15:24:07.436Z"
   },
   {
    "duration": 14,
    "start_time": "2022-06-02T15:24:07.470Z"
   },
   {
    "duration": 141,
    "start_time": "2022-06-02T16:48:59.047Z"
   },
   {
    "duration": 68,
    "start_time": "2022-06-03T11:03:55.626Z"
   },
   {
    "duration": 1371,
    "start_time": "2022-06-03T11:04:12.941Z"
   },
   {
    "duration": 3,
    "start_time": "2022-06-03T11:04:14.315Z"
   },
   {
    "duration": 113,
    "start_time": "2022-06-03T11:04:14.319Z"
   },
   {
    "duration": 13,
    "start_time": "2022-06-03T11:04:20.206Z"
   },
   {
    "duration": 63,
    "start_time": "2022-06-03T11:04:36.727Z"
   },
   {
    "duration": 11,
    "start_time": "2022-06-03T11:04:43.813Z"
   },
   {
    "duration": 109,
    "start_time": "2022-06-03T11:04:48.930Z"
   },
   {
    "duration": 61,
    "start_time": "2022-06-03T11:04:49.639Z"
   },
   {
    "duration": 10,
    "start_time": "2022-06-03T11:06:31.981Z"
   },
   {
    "duration": 8,
    "start_time": "2022-06-03T11:07:35.233Z"
   },
   {
    "duration": 78,
    "start_time": "2022-06-03T11:07:45.221Z"
   },
   {
    "duration": 6,
    "start_time": "2022-06-03T11:07:49.253Z"
   },
   {
    "duration": 49,
    "start_time": "2022-06-03T11:07:56.032Z"
   },
   {
    "duration": 9,
    "start_time": "2022-06-03T11:08:12.166Z"
   },
   {
    "duration": 8,
    "start_time": "2022-06-03T11:08:31.039Z"
   },
   {
    "duration": 9,
    "start_time": "2022-06-03T11:11:41.613Z"
   },
   {
    "duration": 517,
    "start_time": "2022-06-03T11:11:47.488Z"
   },
   {
    "duration": 33,
    "start_time": "2022-06-03T11:12:09.951Z"
   },
   {
    "duration": 38,
    "start_time": "2022-06-03T11:12:21.937Z"
   },
   {
    "duration": 29,
    "start_time": "2022-06-03T11:12:38.408Z"
   },
   {
    "duration": 26,
    "start_time": "2022-06-03T11:13:04.651Z"
   },
   {
    "duration": 27,
    "start_time": "2022-06-03T11:13:48.159Z"
   },
   {
    "duration": 35,
    "start_time": "2022-06-03T11:14:07.377Z"
   },
   {
    "duration": 17,
    "start_time": "2022-06-03T11:14:17.258Z"
   },
   {
    "duration": 17,
    "start_time": "2022-06-03T11:15:28.045Z"
   },
   {
    "duration": 19,
    "start_time": "2022-06-03T11:16:18.137Z"
   },
   {
    "duration": 20,
    "start_time": "2022-06-03T11:16:28.175Z"
   },
   {
    "duration": 42,
    "start_time": "2022-06-03T11:16:34.680Z"
   },
   {
    "duration": 100,
    "start_time": "2022-06-03T11:16:42.490Z"
   },
   {
    "duration": 11,
    "start_time": "2022-06-03T11:17:12.717Z"
   },
   {
    "duration": 67,
    "start_time": "2022-06-03T11:17:33.829Z"
   },
   {
    "duration": 10,
    "start_time": "2022-06-03T11:17:42.216Z"
   },
   {
    "duration": 11,
    "start_time": "2022-06-03T11:17:48.716Z"
   },
   {
    "duration": 10,
    "start_time": "2022-06-03T11:18:22.121Z"
   },
   {
    "duration": 9,
    "start_time": "2022-06-03T11:22:29.641Z"
   },
   {
    "duration": 1195,
    "start_time": "2022-06-03T11:49:54.728Z"
   },
   {
    "duration": 4,
    "start_time": "2022-06-03T11:49:55.924Z"
   },
   {
    "duration": 89,
    "start_time": "2022-06-03T11:49:55.929Z"
   },
   {
    "duration": 29,
    "start_time": "2022-06-03T11:49:56.020Z"
   },
   {
    "duration": 15,
    "start_time": "2022-06-03T11:49:56.051Z"
   },
   {
    "duration": 91,
    "start_time": "2022-06-03T11:49:56.068Z"
   },
   {
    "duration": 59,
    "start_time": "2022-06-03T11:49:56.161Z"
   },
   {
    "duration": 10,
    "start_time": "2022-06-03T11:49:56.222Z"
   },
   {
    "duration": 38,
    "start_time": "2022-06-03T11:49:56.234Z"
   },
   {
    "duration": 714,
    "start_time": "2022-06-03T11:49:56.275Z"
   },
   {
    "duration": 344,
    "start_time": "2022-06-03T11:49:56.990Z"
   },
   {
    "duration": 423,
    "start_time": "2022-06-03T11:49:57.336Z"
   },
   {
    "duration": 315,
    "start_time": "2022-06-03T11:49:57.761Z"
   },
   {
    "duration": 375,
    "start_time": "2022-06-03T11:49:58.078Z"
   },
   {
    "duration": 205,
    "start_time": "2022-06-03T11:49:58.455Z"
   },
   {
    "duration": 5,
    "start_time": "2022-06-03T11:49:58.662Z"
   },
   {
    "duration": 217,
    "start_time": "2022-06-03T11:49:58.669Z"
   },
   {
    "duration": 218,
    "start_time": "2022-06-03T11:49:58.889Z"
   },
   {
    "duration": 5,
    "start_time": "2022-06-03T11:49:59.109Z"
   },
   {
    "duration": 272,
    "start_time": "2022-06-03T11:49:59.116Z"
   },
   {
    "duration": 175,
    "start_time": "2022-06-03T11:49:59.389Z"
   },
   {
    "duration": 192,
    "start_time": "2022-06-03T11:49:59.566Z"
   },
   {
    "duration": 13,
    "start_time": "2022-06-03T11:49:59.760Z"
   },
   {
    "duration": 14,
    "start_time": "2022-06-03T11:49:59.774Z"
   },
   {
    "duration": 12,
    "start_time": "2022-06-03T11:49:59.790Z"
   },
   {
    "duration": 62,
    "start_time": "2022-06-03T11:49:59.804Z"
   },
   {
    "duration": 21,
    "start_time": "2022-06-03T11:49:59.868Z"
   }
  ],
  "kernelspec": {
   "display_name": "Python 3 (ipykernel)",
   "language": "python",
   "name": "python3"
  },
  "language_info": {
   "codemirror_mode": {
    "name": "ipython",
    "version": 3
   },
   "file_extension": ".py",
   "mimetype": "text/x-python",
   "name": "python",
   "nbconvert_exporter": "python",
   "pygments_lexer": "ipython3",
   "version": "3.9.7"
  },
  "toc": {
   "base_numbering": 1,
   "nav_menu": {},
   "number_sections": true,
   "sideBar": true,
   "skip_h1_title": true,
   "title_cell": "Table of Contents",
   "title_sidebar": "Contents",
   "toc_cell": false,
   "toc_position": {
    "height": "471.2px",
    "left": "28px",
    "top": "290.125px",
    "width": "165px"
   },
   "toc_section_display": true,
   "toc_window_display": true
  }
 },
 "nbformat": 4,
 "nbformat_minor": 2
}
