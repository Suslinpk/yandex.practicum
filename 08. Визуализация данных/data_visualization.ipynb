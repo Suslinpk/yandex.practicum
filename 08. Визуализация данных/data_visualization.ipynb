{
 "cells": [
  {
   "cell_type": "markdown",
   "metadata": {},
   "source": [
    "# Анализ рынка заведений общественного питания Москвы"
   ]
  },
  {
   "cell_type": "markdown",
   "metadata": {},
   "source": [
    "*Цель проекта* - провести исследование рынка общественного питания города Москвы и рассмотреть возможность открытия оригинального кафе, где гостей обслуживают роботы. В связи с тем, что проект многообещающий, но дорогой, было решено обратиться к инвесторам. Инвесторов интересует текущее положение дел на рынке — сможет ли наше кафе снискать популярность на долгое время, когда все зеваки насмотрятся на роботов-официантов.\n",
    "\n",
    "*Основные задачи проекта:*\n",
    "- Исследовать соотношение видов объектов общественного питания по количеству. Построить график.\n",
    "- Исследовать соотношение сетевых и несетевых заведений по количеству. Построить график.\n",
    "- Ответить на вопрос, для какого вида объекта общественного питания характерно сетевое распространение?\n",
    "- Ответить на вопрос, что характерно для сетевых заведений: много заведений с небольшим числом посадочных мест в каждом или мало заведений с большим количеством посадочных мест?\n",
    "- Для каждого вида объекта общественного питания описать среднее количество посадочных мест. Какой вид предоставляет в среднем самое большое количество посадочных мест? Построить соответсвующие графики.\n",
    "- Выделить в датафрейме отдельный столбец с информацией об улице из столбца address .\n",
    "- Построить график топ-10 улиц по количеству объектов общественного питания. С помощью  внешней информации  ответить на вопрос — в каких районах Москвы находятся эти улицы?\n",
    "- Найти число улиц с одним объектом общественного питания. С помощью  внешней информации  ответить на вопрос — в каких районах Москвы находятся эти улицы?\n",
    "- Сделать общий вывод и дать рекомендации о виде заведения, количестве посадочных мест, а также районе расположения. Прокомментируйте возможность развития сети.\n",
    "\n",
    "*Результаты исследования необходимо оформить в виде презентации для потенциальных инвстровов.*"
   ]
  },
  {
   "cell_type": "markdown",
   "metadata": {},
   "source": [
    "## Загрузка и предобработка данных"
   ]
  },
  {
   "cell_type": "code",
   "execution_count": 1,
   "metadata": {},
   "outputs": [],
   "source": [
    "import pandas as pd\n",
    "import numpy as np\n",
    "from matplotlib import pyplot as plt\n",
    "import seaborn as sns\n",
    "from matplotlib import cm\n",
    "import plotly.express as px\n",
    "from plotly import graph_objects as go\n",
    "\n",
    "import warnings\n",
    "warnings.filterwarnings(\"ignore\")\n",
    "\n",
    "plt.style.use('seaborn-whitegrid')\n",
    "sns.set_style('whitegrid')\n",
    "sns.set_palette(palette='tab10')\n",
    "sns.set(style='whitegrid')\n",
    "sns.color_palette('tab10')\n",
    "\n",
    "# Сброс ограничений на количество выводимых рядов\n",
    "pd.set_option('display.max_rows', None)\n",
    " \n",
    "# Сброс ограничений на число столбцов\n",
    "pd.set_option('display.max_columns', None)\n",
    " \n",
    "# Сброс ограничений на количество символов в записи\n",
    "pd.set_option('display.max_colwidth', None)"
   ]
  },
  {
   "cell_type": "code",
   "execution_count": 2,
   "metadata": {},
   "outputs": [],
   "source": [
    "df = pd.read_csv('/datasets/rest_data.csv')"
   ]
  },
  {
   "cell_type": "code",
   "execution_count": 3,
   "metadata": {},
   "outputs": [
    {
     "name": "stdout",
     "output_type": "stream",
     "text": [
      "<class 'pandas.core.frame.DataFrame'>\n",
      "RangeIndex: 15366 entries, 0 to 15365\n",
      "Data columns (total 6 columns):\n",
      " #   Column       Non-Null Count  Dtype \n",
      "---  ------       --------------  ----- \n",
      " 0   id           15366 non-null  int64 \n",
      " 1   object_name  15366 non-null  object\n",
      " 2   chain        15366 non-null  object\n",
      " 3   object_type  15366 non-null  object\n",
      " 4   address      15366 non-null  object\n",
      " 5   number       15366 non-null  int64 \n",
      "dtypes: int64(2), object(4)\n",
      "memory usage: 720.4+ KB\n",
      "\n",
      "Количество явных дубликатов в датасете  0\n",
      "\n",
      "Проверка на пропуски:\n"
     ]
    },
    {
     "data": {
      "text/plain": [
       "id             0\n",
       "object_name    0\n",
       "chain          0\n",
       "object_type    0\n",
       "address        0\n",
       "number         0\n",
       "dtype: int64"
      ]
     },
     "metadata": {},
     "output_type": "display_data"
    },
    {
     "data": {
      "text/html": [
       "<div>\n",
       "<style scoped>\n",
       "    .dataframe tbody tr th:only-of-type {\n",
       "        vertical-align: middle;\n",
       "    }\n",
       "\n",
       "    .dataframe tbody tr th {\n",
       "        vertical-align: top;\n",
       "    }\n",
       "\n",
       "    .dataframe thead th {\n",
       "        text-align: right;\n",
       "    }\n",
       "</style>\n",
       "<table border=\"1\" class=\"dataframe\">\n",
       "  <thead>\n",
       "    <tr style=\"text-align: right;\">\n",
       "      <th></th>\n",
       "      <th>id</th>\n",
       "      <th>object_name</th>\n",
       "      <th>chain</th>\n",
       "      <th>object_type</th>\n",
       "      <th>address</th>\n",
       "      <th>number</th>\n",
       "    </tr>\n",
       "  </thead>\n",
       "  <tbody>\n",
       "    <tr>\n",
       "      <th>0</th>\n",
       "      <td>151635</td>\n",
       "      <td>СМЕТАНА</td>\n",
       "      <td>нет</td>\n",
       "      <td>кафе</td>\n",
       "      <td>город Москва, улица Егора Абакумова, дом 9</td>\n",
       "      <td>48</td>\n",
       "    </tr>\n",
       "    <tr>\n",
       "      <th>1</th>\n",
       "      <td>77874</td>\n",
       "      <td>Родник</td>\n",
       "      <td>нет</td>\n",
       "      <td>кафе</td>\n",
       "      <td>город Москва, улица Талалихина, дом 2/1, корпус 1</td>\n",
       "      <td>35</td>\n",
       "    </tr>\n",
       "    <tr>\n",
       "      <th>2</th>\n",
       "      <td>24309</td>\n",
       "      <td>Кафе «Академия»</td>\n",
       "      <td>нет</td>\n",
       "      <td>кафе</td>\n",
       "      <td>город Москва, Абельмановская улица, дом 6</td>\n",
       "      <td>95</td>\n",
       "    </tr>\n",
       "    <tr>\n",
       "      <th>3</th>\n",
       "      <td>21894</td>\n",
       "      <td>ПИЦЦЕТОРИЯ</td>\n",
       "      <td>да</td>\n",
       "      <td>кафе</td>\n",
       "      <td>город Москва, Абрамцевская улица, дом 1</td>\n",
       "      <td>40</td>\n",
       "    </tr>\n",
       "    <tr>\n",
       "      <th>4</th>\n",
       "      <td>119365</td>\n",
       "      <td>Кафе «Вишневая метель»</td>\n",
       "      <td>нет</td>\n",
       "      <td>кафе</td>\n",
       "      <td>город Москва, Абрамцевская улица, дом 9, корпус 1</td>\n",
       "      <td>50</td>\n",
       "    </tr>\n",
       "  </tbody>\n",
       "</table>\n",
       "</div>"
      ],
      "text/plain": [
       "       id             object_name chain object_type  \\\n",
       "0  151635                 СМЕТАНА   нет        кафе   \n",
       "1   77874                  Родник   нет        кафе   \n",
       "2   24309         Кафе «Академия»   нет        кафе   \n",
       "3   21894              ПИЦЦЕТОРИЯ    да        кафе   \n",
       "4  119365  Кафе «Вишневая метель»   нет        кафе   \n",
       "\n",
       "                                             address  number  \n",
       "0         город Москва, улица Егора Абакумова, дом 9      48  \n",
       "1  город Москва, улица Талалихина, дом 2/1, корпус 1      35  \n",
       "2          город Москва, Абельмановская улица, дом 6      95  \n",
       "3            город Москва, Абрамцевская улица, дом 1      40  \n",
       "4  город Москва, Абрамцевская улица, дом 9, корпус 1      50  "
      ]
     },
     "execution_count": 3,
     "metadata": {},
     "output_type": "execute_result"
    }
   ],
   "source": [
    "df.info()\n",
    "print()\n",
    "print('Количество явных дубликатов в датасете ', df.duplicated().sum())\n",
    "print()\n",
    "print('Проверка на пропуски:')\n",
    "display(df.isna().sum())\n",
    "df.head()"
   ]
  },
  {
   "cell_type": "code",
   "execution_count": 4,
   "metadata": {},
   "outputs": [
    {
     "data": {
      "text/plain": [
       "кафе                                 6099\n",
       "столовая                             2587\n",
       "ресторан                             2285\n",
       "предприятие быстрого обслуживания    1923\n",
       "бар                                   856\n",
       "буфет                                 585\n",
       "кафетерий                             398\n",
       "закусочная                            360\n",
       "магазин (отдел кулинарии)             273\n",
       "Name: object_type, dtype: int64"
      ]
     },
     "execution_count": 4,
     "metadata": {},
     "output_type": "execute_result"
    }
   ],
   "source": [
    "df['object_type'].value_counts()"
   ]
  },
  {
   "cell_type": "markdown",
   "metadata": {},
   "source": [
    "Всего имеем данные о 15366  предприятий общественного питания в г.Москва.\n",
    "\n",
    "Хорошо, в исходном датасете нет пропущенных значений, отсутсвуют явные дубликаты.\n",
    "\n",
    "Есть необходимость исправить значения столбца `chain` на более уместные логические, переименовать столбец  `number` в более понятное название, а так же сделать наименования типов заведения  `предприятие быстрого обслуживания` и `магазин (отдел кулинарии)` более короткими для лучшего их отображения на графиках."
   ]
  },
  {
   "cell_type": "code",
   "execution_count": 5,
   "metadata": {},
   "outputs": [],
   "source": [
    "df = df.rename(columns ={'number': 'seats'}) #замена названия столбца \n",
    "\n",
    "df['chain'] = df['chain'].replace(['да', 'нет'], [True, False]) #замена на логические значения \n",
    "\n",
    "# сократим названия\n",
    "df['object_type'] = df['object_type'].replace(\n",
    "    ['предприятие быстрого обслуживания', 'магазин (отдел кулинарии)'], \n",
    "    ['фаст-фуд','кулинария']\n",
    ")"
   ]
  },
  {
   "cell_type": "code",
   "execution_count": 6,
   "metadata": {},
   "outputs": [
    {
     "data": {
      "text/html": [
       "<div>\n",
       "<style scoped>\n",
       "    .dataframe tbody tr th:only-of-type {\n",
       "        vertical-align: middle;\n",
       "    }\n",
       "\n",
       "    .dataframe tbody tr th {\n",
       "        vertical-align: top;\n",
       "    }\n",
       "\n",
       "    .dataframe thead th {\n",
       "        text-align: right;\n",
       "    }\n",
       "</style>\n",
       "<table border=\"1\" class=\"dataframe\">\n",
       "  <thead>\n",
       "    <tr style=\"text-align: right;\">\n",
       "      <th></th>\n",
       "      <th>id</th>\n",
       "      <th>object_name</th>\n",
       "      <th>chain</th>\n",
       "      <th>object_type</th>\n",
       "      <th>address</th>\n",
       "      <th>seats</th>\n",
       "    </tr>\n",
       "  </thead>\n",
       "  <tbody>\n",
       "    <tr>\n",
       "      <th>0</th>\n",
       "      <td>151635</td>\n",
       "      <td>СМЕТАНА</td>\n",
       "      <td>False</td>\n",
       "      <td>кафе</td>\n",
       "      <td>город Москва, улица Егора Абакумова, дом 9</td>\n",
       "      <td>48</td>\n",
       "    </tr>\n",
       "    <tr>\n",
       "      <th>1</th>\n",
       "      <td>77874</td>\n",
       "      <td>Родник</td>\n",
       "      <td>False</td>\n",
       "      <td>кафе</td>\n",
       "      <td>город Москва, улица Талалихина, дом 2/1, корпус 1</td>\n",
       "      <td>35</td>\n",
       "    </tr>\n",
       "    <tr>\n",
       "      <th>2</th>\n",
       "      <td>24309</td>\n",
       "      <td>Кафе «Академия»</td>\n",
       "      <td>False</td>\n",
       "      <td>кафе</td>\n",
       "      <td>город Москва, Абельмановская улица, дом 6</td>\n",
       "      <td>95</td>\n",
       "    </tr>\n",
       "    <tr>\n",
       "      <th>3</th>\n",
       "      <td>21894</td>\n",
       "      <td>ПИЦЦЕТОРИЯ</td>\n",
       "      <td>True</td>\n",
       "      <td>кафе</td>\n",
       "      <td>город Москва, Абрамцевская улица, дом 1</td>\n",
       "      <td>40</td>\n",
       "    </tr>\n",
       "    <tr>\n",
       "      <th>4</th>\n",
       "      <td>119365</td>\n",
       "      <td>Кафе «Вишневая метель»</td>\n",
       "      <td>False</td>\n",
       "      <td>кафе</td>\n",
       "      <td>город Москва, Абрамцевская улица, дом 9, корпус 1</td>\n",
       "      <td>50</td>\n",
       "    </tr>\n",
       "  </tbody>\n",
       "</table>\n",
       "</div>"
      ],
      "text/plain": [
       "       id             object_name  chain object_type  \\\n",
       "0  151635                 СМЕТАНА  False        кафе   \n",
       "1   77874                  Родник  False        кафе   \n",
       "2   24309         Кафе «Академия»  False        кафе   \n",
       "3   21894              ПИЦЦЕТОРИЯ   True        кафе   \n",
       "4  119365  Кафе «Вишневая метель»  False        кафе   \n",
       "\n",
       "                                             address  seats  \n",
       "0         город Москва, улица Егора Абакумова, дом 9     48  \n",
       "1  город Москва, улица Талалихина, дом 2/1, корпус 1     35  \n",
       "2          город Москва, Абельмановская улица, дом 6     95  \n",
       "3            город Москва, Абрамцевская улица, дом 1     40  \n",
       "4  город Москва, Абрамцевская улица, дом 9, корпус 1     50  "
      ]
     },
     "execution_count": 6,
     "metadata": {},
     "output_type": "execute_result"
    }
   ],
   "source": [
    "df.head()"
   ]
  },
  {
   "cell_type": "markdown",
   "metadata": {},
   "source": [
    "Имеются \"ошибки\" в наименованиях заведений, например кафе Шоколадница записано под разными наименованиям: ШОКОЛАДНИЦА, Шоколадница, Кафе «Шоколадница» и т.д. Пока не ясно, насколько это скажется для целей нашего исследования и как повлияет на результаты, но пока оставим в данном виде.\n",
    "\n",
    "\n",
    "Предобработка данных завершена, переходим к основным вопросам исследования.\n"
   ]
  },
  {
   "cell_type": "code",
   "execution_count": 7,
   "metadata": {},
   "outputs": [
    {
     "name": "stdout",
     "output_type": "stream",
     "text": [
      "Количество дубликатов после исключения столбца id из рассмотрения 82\n",
      "Количество строк в датафрейме после удаления дубликатов 15284\n"
     ]
    }
   ],
   "source": [
    "print('Количество дубликатов после исключения столбца id из рассмотрения', df[['object_name', 'chain', 'object_type', 'address', 'seats']].duplicated().sum())\n",
    "\n",
    "index_for_drop = df[df[['object_name', 'chain', 'object_type', 'address', 'seats']].duplicated()].index\n",
    "\n",
    "df = df.drop(index = index_for_drop).reset_index(drop=True)\n",
    "\n",
    "print('Количество строк в датафрейме после удаления дубликатов', df.shape[0])"
   ]
  },
  {
   "cell_type": "code",
   "execution_count": 8,
   "metadata": {},
   "outputs": [
    {
     "data": {
      "text/html": [
       "<div>\n",
       "<style scoped>\n",
       "    .dataframe tbody tr th:only-of-type {\n",
       "        vertical-align: middle;\n",
       "    }\n",
       "\n",
       "    .dataframe tbody tr th {\n",
       "        vertical-align: top;\n",
       "    }\n",
       "\n",
       "    .dataframe thead th {\n",
       "        text-align: right;\n",
       "    }\n",
       "</style>\n",
       "<table border=\"1\" class=\"dataframe\">\n",
       "  <thead>\n",
       "    <tr style=\"text-align: right;\">\n",
       "      <th></th>\n",
       "      <th>id</th>\n",
       "      <th>object_name</th>\n",
       "      <th>chain</th>\n",
       "      <th>object_type</th>\n",
       "      <th>address</th>\n",
       "      <th>seats</th>\n",
       "    </tr>\n",
       "  </thead>\n",
       "  <tbody>\n",
       "    <tr>\n",
       "      <th>0</th>\n",
       "      <td>151635</td>\n",
       "      <td>СМЕТАНА</td>\n",
       "      <td>False</td>\n",
       "      <td>кафе</td>\n",
       "      <td>город Москва, улица Егора Абакумова, дом 9</td>\n",
       "      <td>48</td>\n",
       "    </tr>\n",
       "    <tr>\n",
       "      <th>1</th>\n",
       "      <td>77874</td>\n",
       "      <td>Родник</td>\n",
       "      <td>False</td>\n",
       "      <td>кафе</td>\n",
       "      <td>город Москва, улица Талалихина, дом 2/1, корпус 1</td>\n",
       "      <td>35</td>\n",
       "    </tr>\n",
       "    <tr>\n",
       "      <th>2</th>\n",
       "      <td>24309</td>\n",
       "      <td>Кафе «Академия»</td>\n",
       "      <td>False</td>\n",
       "      <td>кафе</td>\n",
       "      <td>город Москва, Абельмановская улица, дом 6</td>\n",
       "      <td>95</td>\n",
       "    </tr>\n",
       "    <tr>\n",
       "      <th>3</th>\n",
       "      <td>21894</td>\n",
       "      <td>ПИЦЦЕТОРИЯ</td>\n",
       "      <td>True</td>\n",
       "      <td>кафе</td>\n",
       "      <td>город Москва, Абрамцевская улица, дом 1</td>\n",
       "      <td>40</td>\n",
       "    </tr>\n",
       "    <tr>\n",
       "      <th>4</th>\n",
       "      <td>119365</td>\n",
       "      <td>Кафе «Вишневая метель»</td>\n",
       "      <td>False</td>\n",
       "      <td>кафе</td>\n",
       "      <td>город Москва, Абрамцевская улица, дом 9, корпус 1</td>\n",
       "      <td>50</td>\n",
       "    </tr>\n",
       "  </tbody>\n",
       "</table>\n",
       "</div>"
      ],
      "text/plain": [
       "       id             object_name  chain object_type  \\\n",
       "0  151635                 СМЕТАНА  False        кафе   \n",
       "1   77874                  Родник  False        кафе   \n",
       "2   24309         Кафе «Академия»  False        кафе   \n",
       "3   21894              ПИЦЦЕТОРИЯ   True        кафе   \n",
       "4  119365  Кафе «Вишневая метель»  False        кафе   \n",
       "\n",
       "                                             address  seats  \n",
       "0         город Москва, улица Егора Абакумова, дом 9     48  \n",
       "1  город Москва, улица Талалихина, дом 2/1, корпус 1     35  \n",
       "2          город Москва, Абельмановская улица, дом 6     95  \n",
       "3            город Москва, Абрамцевская улица, дом 1     40  \n",
       "4  город Москва, Абрамцевская улица, дом 9, корпус 1     50  "
      ]
     },
     "execution_count": 8,
     "metadata": {},
     "output_type": "execute_result"
    }
   ],
   "source": [
    "df.head()"
   ]
  },
  {
   "cell_type": "markdown",
   "metadata": {},
   "source": [
    "## Исследование соотношения видов объектов общественного питания по количеству"
   ]
  },
  {
   "cell_type": "code",
   "execution_count": 9,
   "metadata": {},
   "outputs": [
    {
     "data": {
      "text/plain": [
       "кафе          6071\n",
       "столовая      2584\n",
       "ресторан      2282\n",
       "фаст-фуд      1898\n",
       "бар            855\n",
       "буфет          577\n",
       "кафетерий      395\n",
       "закусочная     349\n",
       "кулинария      273\n",
       "Name: object_type, dtype: int64"
      ]
     },
     "execution_count": 9,
     "metadata": {},
     "output_type": "execute_result"
    }
   ],
   "source": [
    "object_type = df['object_type'].value_counts()\n",
    "object_type"
   ]
  },
  {
   "cell_type": "code",
   "execution_count": 10,
   "metadata": {},
   "outputs": [
    {
     "data": {
      "image/png": "[encoded data removed]",
      "text/plain": [
       "<Figure size 1080x432 with 2 Axes>"
      ]
     },
     "metadata": {},
     "output_type": "display_data"
    }
   ],
   "source": [
    "ax1 = plt.subplot(1, 2, 1)\n",
    "object_type.plot(\n",
    "    kind=\"pie\",\n",
    "    autopct='%.0f%%',\n",
    "    #colors=colors,\n",
    "    title = 'Cоотношения видов объектов общественного питания по количеству',\n",
    "    label =' ',\n",
    "    ax = ax1)\n",
    "\n",
    "ax2 = plt.subplot(1, 2, 2)\n",
    "object_type.plot(\n",
    "    kind=\"bar\",\n",
    "    title = 'Количество объектов общественного питания',\n",
    "    grid= True,\n",
    "    ax = ax2,\n",
    "    figsize=(15, 6))\n",
    "plt.xlabel('Вид объекта')\n",
    "plt.ylabel('Количество, шт.')\n",
    "plt.xticks(rotation=45)\n",
    "\n",
    "plt.tight_layout()\n",
    "plt.show()"
   ]
  },
  {
   "cell_type": "markdown",
   "metadata": {},
   "source": [
    "Самые популярные форматы заведений: \n",
    " 1) Кафе (40% от доли рынка, 6071 заведений);\n",
    " \n",
    " 2) Столовые (17% от доли рынка, 2584 заведений);\n",
    " \n",
    " 3) Рестораны (2282 заведений или 15% от доли рынка);\n",
    " \n",
    " 4) Предприятия быстрого питания (1898 заведений / 13% доли рынка). \n",
    "    \n",
    "    \n",
    "На долю баров, буфетов кафетерий, закусочных и кулинарий в совокупности приходится 17% от рынка, но процент каждого из данных видов заведений на рынке не велик."
   ]
  },
  {
   "cell_type": "markdown",
   "metadata": {},
   "source": [
    "## Исследование соотношения сетевых и несетевых заведений по количеству"
   ]
  },
  {
   "cell_type": "code",
   "execution_count": 11,
   "metadata": {},
   "outputs": [
    {
     "name": "stdout",
     "output_type": "stream",
     "text": [
      "Соотношение сетевых и несетевых заведений по количеству:\n"
     ]
    },
    {
     "data": {
      "text/html": [
       "<div>\n",
       "<style scoped>\n",
       "    .dataframe tbody tr th:only-of-type {\n",
       "        vertical-align: middle;\n",
       "    }\n",
       "\n",
       "    .dataframe tbody tr th {\n",
       "        vertical-align: top;\n",
       "    }\n",
       "\n",
       "    .dataframe thead th {\n",
       "        text-align: right;\n",
       "    }\n",
       "</style>\n",
       "<table border=\"1\" class=\"dataframe\">\n",
       "  <thead>\n",
       "    <tr style=\"text-align: right;\">\n",
       "      <th></th>\n",
       "      <th>index</th>\n",
       "      <th>chain</th>\n",
       "    </tr>\n",
       "  </thead>\n",
       "  <tbody>\n",
       "    <tr>\n",
       "      <th>0</th>\n",
       "      <td>False</td>\n",
       "      <td>0.806072</td>\n",
       "    </tr>\n",
       "    <tr>\n",
       "      <th>1</th>\n",
       "      <td>True</td>\n",
       "      <td>0.193928</td>\n",
       "    </tr>\n",
       "  </tbody>\n",
       "</table>\n",
       "</div>"
      ],
      "text/plain": [
       "   index     chain\n",
       "0  False  0.806072\n",
       "1   True  0.193928"
      ]
     },
     "metadata": {},
     "output_type": "display_data"
    },
    {
     "data": {
      "image/png": "[encoded data removed]",
      "text/plain": [
       "<Figure size 720x504 with 1 Axes>"
      ]
     },
     "metadata": {},
     "output_type": "display_data"
    }
   ],
   "source": [
    "print(\"Соотношение сетевых и несетевых заведений по количеству:\")\n",
    "display (df['chain'].value_counts(normalize=True).reset_index())\n",
    "\n",
    "plt.figure(figsize=(10,7))\n",
    "plt.title (\"Количество сетевых и несетевых заведений\", fontsize=14)\n",
    "sns.countplot(df['chain'])\n",
    "plt.xlabel('Наличие признака \"сетевой\" у заведения')\n",
    "plt.ylabel('Количество, шт.')\n",
    "plt.tight_layout()\n",
    "plt.show()"
   ]
  },
  {
   "cell_type": "markdown",
   "metadata": {},
   "source": [
    "Большинство предприятий на рынке - несетевые, 80% от общего числа. Сетевых предприятий на рынке общественного питания в 5 раз меньше, чем несетевых."
   ]
  },
  {
   "cell_type": "markdown",
   "metadata": {},
   "source": [
    "## Для какого вида объектов общественного питания характерно сетевое распространение?"
   ]
  },
  {
   "cell_type": "code",
   "execution_count": 12,
   "metadata": {},
   "outputs": [
    {
     "data": {
      "text/html": [
       "<div>\n",
       "<style scoped>\n",
       "    .dataframe tbody tr th:only-of-type {\n",
       "        vertical-align: middle;\n",
       "    }\n",
       "\n",
       "    .dataframe tbody tr th {\n",
       "        vertical-align: top;\n",
       "    }\n",
       "\n",
       "    .dataframe thead th {\n",
       "        text-align: right;\n",
       "    }\n",
       "</style>\n",
       "<table border=\"1\" class=\"dataframe\">\n",
       "  <thead>\n",
       "    <tr style=\"text-align: right;\">\n",
       "      <th></th>\n",
       "      <th>object_type</th>\n",
       "      <th>share_of_chain</th>\n",
       "    </tr>\n",
       "  </thead>\n",
       "  <tbody>\n",
       "    <tr>\n",
       "      <th>0</th>\n",
       "      <td>фаст-фуд</td>\n",
       "      <td>41.52</td>\n",
       "    </tr>\n",
       "    <tr>\n",
       "      <th>1</th>\n",
       "      <td>кулинария</td>\n",
       "      <td>28.57</td>\n",
       "    </tr>\n",
       "    <tr>\n",
       "      <th>2</th>\n",
       "      <td>ресторан</td>\n",
       "      <td>23.79</td>\n",
       "    </tr>\n",
       "    <tr>\n",
       "      <th>3</th>\n",
       "      <td>кафе</td>\n",
       "      <td>22.99</td>\n",
       "    </tr>\n",
       "    <tr>\n",
       "      <th>4</th>\n",
       "      <td>закусочная</td>\n",
       "      <td>16.05</td>\n",
       "    </tr>\n",
       "    <tr>\n",
       "      <th>5</th>\n",
       "      <td>кафетерий</td>\n",
       "      <td>13.16</td>\n",
       "    </tr>\n",
       "    <tr>\n",
       "      <th>6</th>\n",
       "      <td>бар</td>\n",
       "      <td>4.33</td>\n",
       "    </tr>\n",
       "    <tr>\n",
       "      <th>7</th>\n",
       "      <td>буфет</td>\n",
       "      <td>1.91</td>\n",
       "    </tr>\n",
       "    <tr>\n",
       "      <th>8</th>\n",
       "      <td>столовая</td>\n",
       "      <td>0.12</td>\n",
       "    </tr>\n",
       "  </tbody>\n",
       "</table>\n",
       "</div>"
      ],
      "text/plain": [
       "  object_type  share_of_chain\n",
       "0    фаст-фуд           41.52\n",
       "1   кулинария           28.57\n",
       "2    ресторан           23.79\n",
       "3        кафе           22.99\n",
       "4  закусочная           16.05\n",
       "5   кафетерий           13.16\n",
       "6         бар            4.33\n",
       "7       буфет            1.91\n",
       "8    столовая            0.12"
      ]
     },
     "execution_count": 12,
     "metadata": {},
     "output_type": "execute_result"
    }
   ],
   "source": [
    "chain_table = df.pivot_table(\n",
    "    index = 'object_type',\n",
    "    values ='chain',\n",
    "    aggfunc = 'mean' \n",
    ").sort_values(\n",
    "    by ='chain',\n",
    "    ascending =False\n",
    ").reset_index()\n",
    "\n",
    "chain_table.columns =['object_type', 'share_of_chain']\n",
    "chain_table['share_of_chain'] = round(chain_table['share_of_chain']*100, 2)\n",
    "\n",
    "chain_table"
   ]
  },
  {
   "cell_type": "code",
   "execution_count": 13,
   "metadata": {},
   "outputs": [
    {
     "data": {
      "image/png": "[encoded data removed]",
      "text/plain": [
       "<Figure size 1080x720 with 1 Axes>"
      ]
     },
     "metadata": {},
     "output_type": "display_data"
    }
   ],
   "source": [
    "plt.figure(figsize=(15,10))\n",
    "sns.barplot(data = chain_table, x = 'object_type', y = 'share_of_chain' )\n",
    "\n",
    "plt.title (\"Количество сетевых заведений различного типа\", fontsize=14)\n",
    "plt.xlabel('Вид объекта')\n",
    "plt.ylabel('% сетевых объектов \\nот общего числа')\n",
    "plt.xticks(rotation=45)\n",
    "plt.tight_layout()\n",
    "plt.show()"
   ]
  },
  {
   "cell_type": "markdown",
   "metadata": {},
   "source": [
    "Исследование рынка сетевых объектов общественного питания показали, что наибольшее число сетевых заведений имеют предприятия фаст-фуда или иначе быстрого питания - 41% от общего числа заведений данного типа. Далее следуют кулинарии с 28 % числа сетевых заведений, рестораны и кафе с приблизительно 23% сетевых заведений от общего числа заведений данного типа. Практически нет сетевого развития у баров и буфетов - менее 5%. А встретить сетевую столовую огромная редкость - всего лишь 0,12% столовых являются сетевыми. "
   ]
  },
  {
   "cell_type": "markdown",
   "metadata": {},
   "source": [
    "## Что характерно для сетевых заведений: много заведений с небольшим числом посадочных мест в каждом или мало заведений с большим количеством посадочных мест?\n"
   ]
  },
  {
   "cell_type": "code",
   "execution_count": 14,
   "metadata": {},
   "outputs": [
    {
     "data": {
      "text/plain": [
       "count    2964.000000\n",
       "mean       52.981107\n",
       "std        57.152817\n",
       "min         0.000000\n",
       "25%        15.000000\n",
       "50%        40.000000\n",
       "75%        72.000000\n",
       "max       580.000000\n",
       "Name: seats, dtype: float64"
      ]
     },
     "execution_count": 14,
     "metadata": {},
     "output_type": "execute_result"
    }
   ],
   "source": [
    "chain_df=df.query('chain == True')\n",
    "\n",
    "chain_df.describe()['seats']\n"
   ]
  },
  {
   "cell_type": "markdown",
   "metadata": {},
   "source": [
    "Медианное значение мест в сетевых заведений равно 40, среднее - 53 места. Видим большое максимальное значение посадочных мест - 580 шт и высокое значение стандартного среднеквадратичного отклонения количества мест внутри выборки - 57,14. Последний параметр говорит нам о большом разбросе рассматриваемого параметра и как следствие. Отобразим распределение количества мест в заведениях Москвы на гистограмме."
   ]
  },
  {
   "cell_type": "code",
   "execution_count": 15,
   "metadata": {},
   "outputs": [
    {
     "data": {
      "image/png": "[encoded data removed]",
      "text/plain": [
       "<Figure size 1080x720 with 1 Axes>"
      ]
     },
     "metadata": {},
     "output_type": "display_data"
    }
   ],
   "source": [
    "plt.figure(figsize=(15,10))\n",
    "sns.histplot(chain_df['seats'])\n",
    "plt.title (\"Распределение количества мест в заведениях\", fontsize=14)\n",
    "plt.xlabel('Количество мест')\n",
    "plt.ylabel('Индекс встречаемости')\n",
    "plt.tight_layout()\n",
    "plt.show()"
   ]
  },
  {
   "cell_type": "markdown",
   "metadata": {},
   "source": [
    "Самая большая группа заведений - без посадочных мест, почти 450 наблюдений. Очевидно, что это предприятия формата еды на вынос- фудтраки, ларьки и т.д. \n",
    "\n",
    "Хорошо виден всплеск числа заведений с 40-50 числом посадочных мест, около 1000 наблюдений у данной совокупности.\n",
    "На гистограмме хорошо видно, как сильно снижается количество предприятий общественного питания после 100 посадочных мест, а после 200 график начинает нести в себе стихийный характер распределения и свидетельствует о \"выбросах\" в данных. Убедимся в наших предположениях о размере статистически значимом размере числа мест в заведениях Москвы на диаграмме размаха. "
   ]
  },
  {
   "cell_type": "code",
   "execution_count": 16,
   "metadata": {},
   "outputs": [
    {
     "data": {
      "image/png": "[encoded data removed]",
      "text/plain": [
       "<Figure size 360x576 with 1 Axes>"
      ]
     },
     "metadata": {},
     "output_type": "display_data"
    }
   ],
   "source": [
    "plt.figure(figsize=(5,8))\n",
    "sns.boxplot(data = chain_df, y ='seats')\n",
    "plt.title (\"Диаграмма размаха количества мест в заведениях\", fontsize=14)\n",
    "plt.ylabel('Количество мест')\n",
    "plt.xlabel('Места')\n",
    "plt.tight_layout()\n",
    "plt.show()\n"
   ]
  },
  {
   "cell_type": "markdown",
   "metadata": {},
   "source": [
    "Как и предполагалось ранее,  края статистически значимой выборки находятся в диапазоне от 0 до 150 посадочных мест, далее плотным рядом идут выбросы данных. 25,75,50 персентили отмеченные ранее  в начале исследования - на своих местах. Еще раз отметим, что среднее медианное значение количества мест в рассматриваемых данных - 40."
   ]
  },
  {
   "cell_type": "code",
   "execution_count": 17,
   "metadata": {},
   "outputs": [
    {
     "data": {
      "image/png": "[encoded data removed]",
      "text/plain": [
       "<Figure size 720x720 with 1 Axes>"
      ]
     },
     "metadata": {},
     "output_type": "display_data"
    }
   ],
   "source": [
    "chain_objects = chain_df.groupby('object_name').agg({'object_name':'count', 'seats':'median'})\n",
    "chain_objects.columns = ['objects', 'median_number']\n",
    "plt.figure(figsize=(10,10))\n",
    "sns.scatterplot(chain_objects['median_number'], chain_objects['objects'])\n",
    "plt.xlabel('Медианное кол-во посадочных мест')\n",
    "plt.ylabel('Кол-во объектов в сети')\n",
    "plt.title('Совместное распределение количества сетевых заведений \\nи их медианного количества посадочных мест', fontsize=13)\n",
    "plt.axhline(np.percentile(chain_objects['objects'], 90), linestyle='--', color='black')\n",
    "plt.axvline(np.percentile(chain_objects['median_number'], 90), linestyle='--', color='black')\n",
    "plt.text(390,7, '90% заведений ниже этой линии')\n",
    "plt.text(135,100, '90% заведений левее этой линии')\n",
    "plt.show()"
   ]
  },
  {
   "cell_type": "code",
   "execution_count": 18,
   "metadata": {},
   "outputs": [
    {
     "name": "stdout",
     "output_type": "stream",
     "text": [
      "В 90% сетей не больше 130 посадочных мест и 6 заведений в среднем\n"
     ]
    }
   ],
   "source": [
    "print('В 90% сетей не больше {} посадочных мест и {} заведений в среднем'.format(int(np.percentile(chain_objects['median_number'], 90)) , int(np.percentile(chain_objects['objects'], 90))))\n"
   ]
  },
  {
   "cell_type": "markdown",
   "metadata": {},
   "source": [
    "Итак, общий однозначный вывод по данному разделу сделать сложно. Средние значения числа мест в сетевых заведениях (40) должно подталкивать на мысль, что в Москве более характерно открытие многих сетевых заведений с небольшим числом посадочных мест в каждом.\n",
    "\n",
    "Однако, если присмотреться к диаграмме рассеивания повнимательней, то можно сделать вывод о том, что в, что 90% сетей укладываются в 6 заведений в среднем, что тоже, согласитесь, не много. \n",
    "\n",
    "Поэтому сделаю следующий вывод: среднее количество мест в сетевых заведениях будет зависеть от типа заведений сети, а не от наличия статуса \"сетевой\". Но в любом случае маленькие \"сетки\" более распространены."
   ]
  },
  {
   "cell_type": "markdown",
   "metadata": {},
   "source": [
    "## Исследование среднего количества посадочных мест в зависимости от вида заведения"
   ]
  },
  {
   "cell_type": "code",
   "execution_count": 19,
   "metadata": {},
   "outputs": [
    {
     "data": {
      "text/html": [
       "<div>\n",
       "<style scoped>\n",
       "    .dataframe tbody tr th:only-of-type {\n",
       "        vertical-align: middle;\n",
       "    }\n",
       "\n",
       "    .dataframe tbody tr th {\n",
       "        vertical-align: top;\n",
       "    }\n",
       "\n",
       "    .dataframe thead th {\n",
       "        text-align: right;\n",
       "    }\n",
       "</style>\n",
       "<table border=\"1\" class=\"dataframe\">\n",
       "  <thead>\n",
       "    <tr style=\"text-align: right;\">\n",
       "      <th></th>\n",
       "      <th>object_type</th>\n",
       "      <th>type_sum</th>\n",
       "      <th>median_of_seats</th>\n",
       "      <th>sum_of_seats</th>\n",
       "    </tr>\n",
       "  </thead>\n",
       "  <tbody>\n",
       "    <tr>\n",
       "      <th>7</th>\n",
       "      <td>столовая</td>\n",
       "      <td>2584</td>\n",
       "      <td>103</td>\n",
       "      <td>336793</td>\n",
       "    </tr>\n",
       "    <tr>\n",
       "      <th>6</th>\n",
       "      <td>ресторан</td>\n",
       "      <td>2282</td>\n",
       "      <td>80</td>\n",
       "      <td>221091</td>\n",
       "    </tr>\n",
       "    <tr>\n",
       "      <th>0</th>\n",
       "      <td>бар</td>\n",
       "      <td>855</td>\n",
       "      <td>35</td>\n",
       "      <td>37221</td>\n",
       "    </tr>\n",
       "    <tr>\n",
       "      <th>1</th>\n",
       "      <td>буфет</td>\n",
       "      <td>577</td>\n",
       "      <td>32</td>\n",
       "      <td>29721</td>\n",
       "    </tr>\n",
       "    <tr>\n",
       "      <th>3</th>\n",
       "      <td>кафе</td>\n",
       "      <td>6071</td>\n",
       "      <td>30</td>\n",
       "      <td>241539</td>\n",
       "    </tr>\n",
       "    <tr>\n",
       "      <th>4</th>\n",
       "      <td>кафетерий</td>\n",
       "      <td>395</td>\n",
       "      <td>6</td>\n",
       "      <td>3628</td>\n",
       "    </tr>\n",
       "    <tr>\n",
       "      <th>8</th>\n",
       "      <td>фаст-фуд</td>\n",
       "      <td>1898</td>\n",
       "      <td>6</td>\n",
       "      <td>39494</td>\n",
       "    </tr>\n",
       "    <tr>\n",
       "      <th>2</th>\n",
       "      <td>закусочная</td>\n",
       "      <td>349</td>\n",
       "      <td>0</td>\n",
       "      <td>2731</td>\n",
       "    </tr>\n",
       "    <tr>\n",
       "      <th>5</th>\n",
       "      <td>кулинария</td>\n",
       "      <td>273</td>\n",
       "      <td>0</td>\n",
       "      <td>1526</td>\n",
       "    </tr>\n",
       "  </tbody>\n",
       "</table>\n",
       "</div>"
      ],
      "text/plain": [
       "  object_type  type_sum  median_of_seats  sum_of_seats\n",
       "7    столовая      2584              103        336793\n",
       "6    ресторан      2282               80        221091\n",
       "0         бар       855               35         37221\n",
       "1       буфет       577               32         29721\n",
       "3        кафе      6071               30        241539\n",
       "4   кафетерий       395                6          3628\n",
       "8    фаст-фуд      1898                6         39494\n",
       "2  закусочная       349                0          2731\n",
       "5   кулинария       273                0          1526"
      ]
     },
     "execution_count": 19,
     "metadata": {},
     "output_type": "execute_result"
    }
   ],
   "source": [
    "chain_pt= df.pivot_table (index = 'object_type',\n",
    "                      values = ['id','seats'],\n",
    "                      #columns = ['object_name', 'number'],\n",
    "                      aggfunc ={'id':'count', \n",
    "                               'seats':['sum','median']},\n",
    "                     #margins=True\n",
    "                     ).reset_index()\n",
    "chain_pt.columns = ['object_type','type_sum', 'median_of_seats', 'sum_of_seats']\n",
    "chain_pt = chain_pt.sort_values(by = 'median_of_seats', ascending = False)\n",
    "chain_pt"
   ]
  },
  {
   "cell_type": "code",
   "execution_count": 20,
   "metadata": {},
   "outputs": [
    {
     "data": {
      "image/png": "[encoded data removed]",
      "text/plain": [
       "<Figure size 1080x504 with 1 Axes>"
      ]
     },
     "metadata": {},
     "output_type": "display_data"
    }
   ],
   "source": [
    "plt.figure(figsize=(15,7))\n",
    "sns.boxplot(x='object_type', y='seats', data=df, hue = 'chain')\n",
    "plt.ylim((0, 500))\n",
    "plt.axhline(df['seats'].median(), linestyle='--', color='black')\n",
    "plt.text(8.8, df['seats'].median(), 'медианное количество мест в заведениях Москвы')\n",
    "plt.title ('Среднее количество посадочных мест в зависимости\\n от вида заведения и наличия признака \"Сетевой\"', fontsize=14)\n",
    "plt.xlabel('Вид объекта')\n",
    "plt.ylabel('Количество мест в заведении')\n",
    "plt.xticks(rotation=45)\n",
    "plt.tight_layout()"
   ]
  },
  {
   "cell_type": "markdown",
   "metadata": {},
   "source": [
    "Топ-3 видов заведений по среднему количеству мест (без учета на разделение на сетевые и несетевые заведения):\n",
    "\n",
    "1) Столовые, в среднем 103 посадочных места;\n",
    "\n",
    "2) Рестораны - 80 посадочных места;\n",
    "\n",
    "3) Бары - 35 посадочных места.\n",
    "    \n",
    "Впечатляет разрыв между 2 и 3 местом нашего рейтинга, более чем в 2 раза. \n",
    "\n",
    "Анализ среднего количества посадочных мест в зависимости от вида заведения и наличия признака \"Сетевой\" показал, что в сетевых кафе больше максимальное число посадочных мест и их среднее число на заведение, аналогичная ситуация в типах заведений закусочная, фаст-фуд, ресторан, кафетерий, кулинария. \n",
    "Очень примечатлен разрыв в максимальном числе мест и их медианном значении в секторе предприятий общественного питания \"фаст-фуд\", причем в несколько десятков раз. Очевидно, что это сказывается присутсвие таких сетей как Макдональдс, KFC и т.д. В этой категории им нет равных по данному показателю с прочими несетевыми объектами.\n",
    "Аналогичная ситуация и по медианному значению количества мест и их максимального числа в ресторанах. В сетевых ресторанах почти на 100 посадочных мест больше, а среднее значение на 10 выше.\n",
    "\n",
    "В группе \"столовые\" и \"буфеты\" ситуация диаметрально противоположна категории \"фаст-фуд\". Очевидно, что сетевые столовые и буфеты имеют строго определенный формат по количеству мест в заведениях, т.к. практически отсутствуют выбросы по количеству мест на заведение, и сам разброс числа мест выглядит более компактно и осмысленно. Однако отметим, что несетевые столовые и буфеты в 2,5-3 раза имеют выше максимальное количество мест. \n"
   ]
  },
  {
   "cell_type": "markdown",
   "metadata": {},
   "source": [
    "## Добавление в датасет информации об улице заведения и информации о районе"
   ]
  },
  {
   "cell_type": "code",
   "execution_count": 21,
   "metadata": {},
   "outputs": [
    {
     "name": "stdout",
     "output_type": "stream",
     "text": [
      "Количеcтсво заведений без явного названия улицы в адресе после приобразования: 381\n"
     ]
    },
    {
     "data": {
      "text/html": [
       "<div>\n",
       "<style scoped>\n",
       "    .dataframe tbody tr th:only-of-type {\n",
       "        vertical-align: middle;\n",
       "    }\n",
       "\n",
       "    .dataframe tbody tr th {\n",
       "        vertical-align: top;\n",
       "    }\n",
       "\n",
       "    .dataframe thead th {\n",
       "        text-align: right;\n",
       "    }\n",
       "</style>\n",
       "<table border=\"1\" class=\"dataframe\">\n",
       "  <thead>\n",
       "    <tr style=\"text-align: right;\">\n",
       "      <th></th>\n",
       "      <th>id</th>\n",
       "      <th>object_name</th>\n",
       "      <th>chain</th>\n",
       "      <th>object_type</th>\n",
       "      <th>address</th>\n",
       "      <th>seats</th>\n",
       "      <th>street</th>\n",
       "    </tr>\n",
       "  </thead>\n",
       "  <tbody>\n",
       "    <tr>\n",
       "      <th>1405</th>\n",
       "      <td>20199</td>\n",
       "      <td>ЭТО</td>\n",
       "      <td>False</td>\n",
       "      <td>кафе</td>\n",
       "      <td>город Москва, город Зеленоград, корпус 401</td>\n",
       "      <td>35</td>\n",
       "      <td>None</td>\n",
       "    </tr>\n",
       "    <tr>\n",
       "      <th>1406</th>\n",
       "      <td>68113</td>\n",
       "      <td>Френдс</td>\n",
       "      <td>False</td>\n",
       "      <td>кафе</td>\n",
       "      <td>город Москва, город Зеленоград, корпус 435</td>\n",
       "      <td>34</td>\n",
       "      <td>None</td>\n",
       "    </tr>\n",
       "    <tr>\n",
       "      <th>1407</th>\n",
       "      <td>20105</td>\n",
       "      <td>Кафе «Граф Монте-Кристо»</td>\n",
       "      <td>False</td>\n",
       "      <td>кафе</td>\n",
       "      <td>город Москва, город Зеленоград, корпус 436</td>\n",
       "      <td>40</td>\n",
       "      <td>None</td>\n",
       "    </tr>\n",
       "    <tr>\n",
       "      <th>1408</th>\n",
       "      <td>22982</td>\n",
       "      <td>Альфорно</td>\n",
       "      <td>False</td>\n",
       "      <td>кафе</td>\n",
       "      <td>город Москва, город Зеленоград, корпус 438</td>\n",
       "      <td>49</td>\n",
       "      <td>None</td>\n",
       "    </tr>\n",
       "    <tr>\n",
       "      <th>1409</th>\n",
       "      <td>151267</td>\n",
       "      <td>Альфорно</td>\n",
       "      <td>False</td>\n",
       "      <td>кафе</td>\n",
       "      <td>город Москва, город Зеленоград, корпус 438</td>\n",
       "      <td>45</td>\n",
       "      <td>None</td>\n",
       "    </tr>\n",
       "  </tbody>\n",
       "</table>\n",
       "</div>"
      ],
      "text/plain": [
       "          id               object_name  chain object_type  \\\n",
       "1405   20199                       ЭТО  False        кафе   \n",
       "1406   68113                    Френдс  False        кафе   \n",
       "1407   20105  Кафе «Граф Монте-Кристо»  False        кафе   \n",
       "1408   22982                  Альфорно  False        кафе   \n",
       "1409  151267                  Альфорно  False        кафе   \n",
       "\n",
       "                                         address  seats street  \n",
       "1405  город Москва, город Зеленоград, корпус 401     35   None  \n",
       "1406  город Москва, город Зеленоград, корпус 435     34   None  \n",
       "1407  город Москва, город Зеленоград, корпус 436     40   None  \n",
       "1408  город Москва, город Зеленоград, корпус 438     49   None  \n",
       "1409  город Москва, город Зеленоград, корпус 438     45   None  "
      ]
     },
     "metadata": {},
     "output_type": "display_data"
    }
   ],
   "source": [
    "# соберем список типовых названий улиц\n",
    "street_types=['улица','бульвар','проезд','шоссе','переулок','проспект',\n",
    "     'площадь','квартал', 'набережная','Автодороги','линия','аллея','тупик']\n",
    "\n",
    "# c помощью функции сплит и поиска внутри строк найдем по ключевым словам совпаденя и сохраним их\n",
    "def street_from_address(address):\n",
    "    for part_of_address in address.split(', '):\n",
    "        for street_type in street_types:\n",
    "            if part_of_address.lower().find(street_type)!= -1:\n",
    "                return part_of_address\n",
    "\n",
    "df['street'] = df['address'].apply(street_from_address)\n",
    "\n",
    "print(\"Количеcтсво заведений без явного названия улицы в адресе после приобразования:\", df['street'].isna().sum())\n",
    "\n",
    "display(df[df['street'].isna()].head())\n",
    "\n",
    "df = df.dropna(subset=['street'])\n"
   ]
  },
  {
   "cell_type": "markdown",
   "metadata": {},
   "source": [
    "Не удалось указать адрес для 381 предприятия общественного питания, что составляет 2,5% от начального датасета. Это заведения, в адресах которых явно не указаны наименования адресов, например в г. Зеленограде ряд кафе имеет только корпус в столбце адрес. Т.к. доля таких заведений не существенна в нашем исследовании, строки с подобными данными можно удалить."
   ]
  },
  {
   "cell_type": "markdown",
   "metadata": {},
   "source": [
    "## Топ-10 улиц по количеству объектов общественного питания"
   ]
  },
  {
   "cell_type": "code",
   "execution_count": 22,
   "metadata": {},
   "outputs": [
    {
     "data": {
      "text/html": [
       "<div>\n",
       "<style scoped>\n",
       "    .dataframe tbody tr th:only-of-type {\n",
       "        vertical-align: middle;\n",
       "    }\n",
       "\n",
       "    .dataframe tbody tr th {\n",
       "        vertical-align: top;\n",
       "    }\n",
       "\n",
       "    .dataframe thead th {\n",
       "        text-align: right;\n",
       "    }\n",
       "</style>\n",
       "<table border=\"1\" class=\"dataframe\">\n",
       "  <thead>\n",
       "    <tr style=\"text-align: right;\">\n",
       "      <th></th>\n",
       "      <th>streetname</th>\n",
       "      <th>areaid</th>\n",
       "      <th>okrug</th>\n",
       "      <th>area</th>\n",
       "    </tr>\n",
       "  </thead>\n",
       "  <tbody>\n",
       "    <tr>\n",
       "      <th>0</th>\n",
       "      <td>Выставочный переулок</td>\n",
       "      <td>17</td>\n",
       "      <td>ЦАО</td>\n",
       "      <td>Пресненский район</td>\n",
       "    </tr>\n",
       "    <tr>\n",
       "      <th>1</th>\n",
       "      <td>улица Гашека</td>\n",
       "      <td>17</td>\n",
       "      <td>ЦАО</td>\n",
       "      <td>Пресненский район</td>\n",
       "    </tr>\n",
       "    <tr>\n",
       "      <th>2</th>\n",
       "      <td>Большая Никитская улица</td>\n",
       "      <td>17</td>\n",
       "      <td>ЦАО</td>\n",
       "      <td>Пресненский район</td>\n",
       "    </tr>\n",
       "    <tr>\n",
       "      <th>3</th>\n",
       "      <td>Глубокий переулок</td>\n",
       "      <td>17</td>\n",
       "      <td>ЦАО</td>\n",
       "      <td>Пресненский район</td>\n",
       "    </tr>\n",
       "    <tr>\n",
       "      <th>4</th>\n",
       "      <td>Большой Гнездниковский переулок</td>\n",
       "      <td>17</td>\n",
       "      <td>ЦАО</td>\n",
       "      <td>Пресненский район</td>\n",
       "    </tr>\n",
       "    <tr>\n",
       "      <th>5</th>\n",
       "      <td>Малый Гнездниковский переулок</td>\n",
       "      <td>17</td>\n",
       "      <td>ЦАО</td>\n",
       "      <td>Пресненский район</td>\n",
       "    </tr>\n",
       "    <tr>\n",
       "      <th>6</th>\n",
       "      <td>Большая Грузинская улица</td>\n",
       "      <td>17</td>\n",
       "      <td>ЦАО</td>\n",
       "      <td>Пресненский район</td>\n",
       "    </tr>\n",
       "    <tr>\n",
       "      <th>7</th>\n",
       "      <td>Малая Грузинская улица</td>\n",
       "      <td>17</td>\n",
       "      <td>ЦАО</td>\n",
       "      <td>Пресненский район</td>\n",
       "    </tr>\n",
       "    <tr>\n",
       "      <th>8</th>\n",
       "      <td>Грузинская площадь</td>\n",
       "      <td>17</td>\n",
       "      <td>ЦАО</td>\n",
       "      <td>Пресненский район</td>\n",
       "    </tr>\n",
       "    <tr>\n",
       "      <th>9</th>\n",
       "      <td>улица Грузинский Вал</td>\n",
       "      <td>17</td>\n",
       "      <td>ЦАО</td>\n",
       "      <td>Пресненский район</td>\n",
       "    </tr>\n",
       "  </tbody>\n",
       "</table>\n",
       "</div>"
      ],
      "text/plain": [
       "                        streetname  areaid okrug               area\n",
       "0             Выставочный переулок      17   ЦАО  Пресненский район\n",
       "1                     улица Гашека      17   ЦАО  Пресненский район\n",
       "2          Большая Никитская улица      17   ЦАО  Пресненский район\n",
       "3                Глубокий переулок      17   ЦАО  Пресненский район\n",
       "4  Большой Гнездниковский переулок      17   ЦАО  Пресненский район\n",
       "5    Малый Гнездниковский переулок      17   ЦАО  Пресненский район\n",
       "6         Большая Грузинская улица      17   ЦАО  Пресненский район\n",
       "7           Малая Грузинская улица      17   ЦАО  Пресненский район\n",
       "8               Грузинская площадь      17   ЦАО  Пресненский район\n",
       "9             улица Грузинский Вал      17   ЦАО  Пресненский район"
      ]
     },
     "execution_count": 22,
     "metadata": {},
     "output_type": "execute_result"
    }
   ],
   "source": [
    "# Подгрузим наше исследование дополнительные данные о соответсвии адресов им районов с сайта Мосгаза\n",
    "from io import BytesIO\n",
    "import requests\n",
    "\n",
    "spreadsheet_id = '13m6TnAblptrMSfKgY0gICCDI6K5cxUg355lmbQhI68M'\n",
    "file_name = 'https://docs.google.com/spreadsheets/d/{}/export?format=csv'.format(spreadsheet_id)\n",
    "r = requests.get(file_name)\n",
    "\n",
    "data_street= pd.read_csv(BytesIO(r.content))\n",
    "data_street.head(10)\n"
   ]
  },
  {
   "cell_type": "markdown",
   "metadata": {},
   "source": [
    "Имеется проблема - крупные улицы проходят по нескольким районам. Сгруппируем улицы и добавим им сгруппированные значения администратиных округов и районов"
   ]
  },
  {
   "cell_type": "code",
   "execution_count": 23,
   "metadata": {},
   "outputs": [],
   "source": [
    "street_group = (data_street.groupby('streetname')\n",
    "         [['okrug','area']]\n",
    "         .apply(lambda x: tuple(x.values))\n",
    "         .reset_index(name='area'))\n",
    "street_group.columns=['street', 'area']"
   ]
  },
  {
   "cell_type": "code",
   "execution_count": 24,
   "metadata": {},
   "outputs": [
    {
     "data": {
      "text/html": [
       "<div>\n",
       "<style scoped>\n",
       "    .dataframe tbody tr th:only-of-type {\n",
       "        vertical-align: middle;\n",
       "    }\n",
       "\n",
       "    .dataframe tbody tr th {\n",
       "        vertical-align: top;\n",
       "    }\n",
       "\n",
       "    .dataframe thead th {\n",
       "        text-align: right;\n",
       "    }\n",
       "</style>\n",
       "<table border=\"1\" class=\"dataframe\">\n",
       "  <thead>\n",
       "    <tr style=\"text-align: right;\">\n",
       "      <th></th>\n",
       "      <th>street</th>\n",
       "      <th>area</th>\n",
       "    </tr>\n",
       "  </thead>\n",
       "  <tbody>\n",
       "    <tr>\n",
       "      <th>0</th>\n",
       "      <td>1-й Автозаводский проезд</td>\n",
       "      <td>([ЮАО, Даниловский район],)</td>\n",
       "    </tr>\n",
       "    <tr>\n",
       "      <th>1</th>\n",
       "      <td>1-й Амбулаторный проезд</td>\n",
       "      <td>([САО, Район Аэропорт],)</td>\n",
       "    </tr>\n",
       "    <tr>\n",
       "      <th>2</th>\n",
       "      <td>1-й Архивный переулок</td>\n",
       "      <td>([ЦАО, Район Хамовники],)</td>\n",
       "    </tr>\n",
       "    <tr>\n",
       "      <th>3</th>\n",
       "      <td>1-й Бабьегородский переулок</td>\n",
       "      <td>([ЦАО, Район Якиманка],)</td>\n",
       "    </tr>\n",
       "    <tr>\n",
       "      <th>4</th>\n",
       "      <td>1-й Балтийский переулок</td>\n",
       "      <td>([САО, Район Аэропорт],)</td>\n",
       "    </tr>\n",
       "    <tr>\n",
       "      <th>5</th>\n",
       "      <td>1-й Басманный переулок</td>\n",
       "      <td>([ЦАО, Басманный район], [ЦАО, Красносельский район])</td>\n",
       "    </tr>\n",
       "    <tr>\n",
       "      <th>6</th>\n",
       "      <td>1-й Белокаменный проезд</td>\n",
       "      <td>([ВАО, Район Богородское],)</td>\n",
       "    </tr>\n",
       "    <tr>\n",
       "      <th>7</th>\n",
       "      <td>1-й Богучарский переулок</td>\n",
       "      <td>([ЮЗАО, Район Южное Бутово],)</td>\n",
       "    </tr>\n",
       "    <tr>\n",
       "      <th>8</th>\n",
       "      <td>1-й Ботанический проезд</td>\n",
       "      <td>([СВАО, Район Свиблово],)</td>\n",
       "    </tr>\n",
       "    <tr>\n",
       "      <th>9</th>\n",
       "      <td>1-й Боткинский проезд</td>\n",
       "      <td>([САО, Район Беговой],)</td>\n",
       "    </tr>\n",
       "  </tbody>\n",
       "</table>\n",
       "</div>"
      ],
      "text/plain": [
       "                        street  \\\n",
       "0     1-й Автозаводский проезд   \n",
       "1      1-й Амбулаторный проезд   \n",
       "2        1-й Архивный переулок   \n",
       "3  1-й Бабьегородский переулок   \n",
       "4      1-й Балтийский переулок   \n",
       "5       1-й Басманный переулок   \n",
       "6      1-й Белокаменный проезд   \n",
       "7     1-й Богучарский переулок   \n",
       "8      1-й Ботанический проезд   \n",
       "9        1-й Боткинский проезд   \n",
       "\n",
       "                                                    area  \n",
       "0                            ([ЮАО, Даниловский район],)  \n",
       "1                               ([САО, Район Аэропорт],)  \n",
       "2                              ([ЦАО, Район Хамовники],)  \n",
       "3                               ([ЦАО, Район Якиманка],)  \n",
       "4                               ([САО, Район Аэропорт],)  \n",
       "5  ([ЦАО, Басманный район], [ЦАО, Красносельский район])  \n",
       "6                            ([ВАО, Район Богородское],)  \n",
       "7                          ([ЮЗАО, Район Южное Бутово],)  \n",
       "8                              ([СВАО, Район Свиблово],)  \n",
       "9                                ([САО, Район Беговой],)  "
      ]
     },
     "execution_count": 24,
     "metadata": {},
     "output_type": "execute_result"
    }
   ],
   "source": [
    "street_group.head(10)"
   ]
  },
  {
   "cell_type": "code",
   "execution_count": 25,
   "metadata": {},
   "outputs": [],
   "source": [
    "df = df.merge(street_group, on='street', how = \"left\")"
   ]
  },
  {
   "cell_type": "code",
   "execution_count": 26,
   "metadata": {},
   "outputs": [
    {
     "name": "stdout",
     "output_type": "stream",
     "text": [
      "Количеcтсво заведений для которых не удалось определить район - 408\n"
     ]
    },
    {
     "data": {
      "text/html": [
       "<div>\n",
       "<style scoped>\n",
       "    .dataframe tbody tr th:only-of-type {\n",
       "        vertical-align: middle;\n",
       "    }\n",
       "\n",
       "    .dataframe tbody tr th {\n",
       "        vertical-align: top;\n",
       "    }\n",
       "\n",
       "    .dataframe thead th {\n",
       "        text-align: right;\n",
       "    }\n",
       "</style>\n",
       "<table border=\"1\" class=\"dataframe\">\n",
       "  <thead>\n",
       "    <tr style=\"text-align: right;\">\n",
       "      <th></th>\n",
       "      <th>id</th>\n",
       "      <th>object_name</th>\n",
       "      <th>chain</th>\n",
       "      <th>object_type</th>\n",
       "      <th>address</th>\n",
       "      <th>seats</th>\n",
       "      <th>street</th>\n",
       "      <th>area</th>\n",
       "    </tr>\n",
       "  </thead>\n",
       "  <tbody>\n",
       "    <tr>\n",
       "      <th>0</th>\n",
       "      <td>151635</td>\n",
       "      <td>СМЕТАНА</td>\n",
       "      <td>False</td>\n",
       "      <td>кафе</td>\n",
       "      <td>город Москва, улица Егора Абакумова, дом 9</td>\n",
       "      <td>48</td>\n",
       "      <td>улица Егора Абакумова</td>\n",
       "      <td>([СВАО, Ярославский Район],)</td>\n",
       "    </tr>\n",
       "    <tr>\n",
       "      <th>1</th>\n",
       "      <td>77874</td>\n",
       "      <td>Родник</td>\n",
       "      <td>False</td>\n",
       "      <td>кафе</td>\n",
       "      <td>город Москва, улица Талалихина, дом 2/1, корпус 1</td>\n",
       "      <td>35</td>\n",
       "      <td>улица Талалихина</td>\n",
       "      <td>([ЦАО, Таганский район], [ЮВАО, Нижегородский район], [ЮЗАО, Район Южное Бутово])</td>\n",
       "    </tr>\n",
       "    <tr>\n",
       "      <th>2</th>\n",
       "      <td>24309</td>\n",
       "      <td>Кафе «Академия»</td>\n",
       "      <td>False</td>\n",
       "      <td>кафе</td>\n",
       "      <td>город Москва, Абельмановская улица, дом 6</td>\n",
       "      <td>95</td>\n",
       "      <td>Абельмановская улица</td>\n",
       "      <td>([ЦАО, Таганский район],)</td>\n",
       "    </tr>\n",
       "    <tr>\n",
       "      <th>3</th>\n",
       "      <td>21894</td>\n",
       "      <td>ПИЦЦЕТОРИЯ</td>\n",
       "      <td>True</td>\n",
       "      <td>кафе</td>\n",
       "      <td>город Москва, Абрамцевская улица, дом 1</td>\n",
       "      <td>40</td>\n",
       "      <td>Абрамцевская улица</td>\n",
       "      <td>([СВАО, Район Лианозово],)</td>\n",
       "    </tr>\n",
       "    <tr>\n",
       "      <th>4</th>\n",
       "      <td>119365</td>\n",
       "      <td>Кафе «Вишневая метель»</td>\n",
       "      <td>False</td>\n",
       "      <td>кафе</td>\n",
       "      <td>город Москва, Абрамцевская улица, дом 9, корпус 1</td>\n",
       "      <td>50</td>\n",
       "      <td>Абрамцевская улица</td>\n",
       "      <td>([СВАО, Район Лианозово],)</td>\n",
       "    </tr>\n",
       "  </tbody>\n",
       "</table>\n",
       "</div>"
      ],
      "text/plain": [
       "       id             object_name  chain object_type  \\\n",
       "0  151635                 СМЕТАНА  False        кафе   \n",
       "1   77874                  Родник  False        кафе   \n",
       "2   24309         Кафе «Академия»  False        кафе   \n",
       "3   21894              ПИЦЦЕТОРИЯ   True        кафе   \n",
       "4  119365  Кафе «Вишневая метель»  False        кафе   \n",
       "\n",
       "                                             address  seats  \\\n",
       "0         город Москва, улица Егора Абакумова, дом 9     48   \n",
       "1  город Москва, улица Талалихина, дом 2/1, корпус 1     35   \n",
       "2          город Москва, Абельмановская улица, дом 6     95   \n",
       "3            город Москва, Абрамцевская улица, дом 1     40   \n",
       "4  город Москва, Абрамцевская улица, дом 9, корпус 1     50   \n",
       "\n",
       "                  street  \\\n",
       "0  улица Егора Абакумова   \n",
       "1       улица Талалихина   \n",
       "2   Абельмановская улица   \n",
       "3     Абрамцевская улица   \n",
       "4     Абрамцевская улица   \n",
       "\n",
       "                                                                                area  \n",
       "0                                                       ([СВАО, Ярославский Район],)  \n",
       "1  ([ЦАО, Таганский район], [ЮВАО, Нижегородский район], [ЮЗАО, Район Южное Бутово])  \n",
       "2                                                          ([ЦАО, Таганский район],)  \n",
       "3                                                         ([СВАО, Район Лианозово],)  \n",
       "4                                                         ([СВАО, Район Лианозово],)  "
      ]
     },
     "execution_count": 26,
     "metadata": {},
     "output_type": "execute_result"
    }
   ],
   "source": [
    "print(\"Количеcтсво заведений для которых не удалось определить район -\", df['area'].isna().sum())\n",
    "\n",
    "df.head()"
   ]
  },
  {
   "cell_type": "markdown",
   "metadata": {},
   "source": [
    "Для 408 улиц не удалось подгрузить значения района. Посмотрим внимательнее на данные строки."
   ]
  },
  {
   "cell_type": "code",
   "execution_count": 27,
   "metadata": {},
   "outputs": [
    {
     "data": {
      "text/html": [
       "<div>\n",
       "<style scoped>\n",
       "    .dataframe tbody tr th:only-of-type {\n",
       "        vertical-align: middle;\n",
       "    }\n",
       "\n",
       "    .dataframe tbody tr th {\n",
       "        vertical-align: top;\n",
       "    }\n",
       "\n",
       "    .dataframe thead th {\n",
       "        text-align: right;\n",
       "    }\n",
       "</style>\n",
       "<table border=\"1\" class=\"dataframe\">\n",
       "  <thead>\n",
       "    <tr style=\"text-align: right;\">\n",
       "      <th></th>\n",
       "      <th>id</th>\n",
       "      <th>object_name</th>\n",
       "      <th>chain</th>\n",
       "      <th>object_type</th>\n",
       "      <th>address</th>\n",
       "      <th>seats</th>\n",
       "      <th>street</th>\n",
       "      <th>area</th>\n",
       "    </tr>\n",
       "  </thead>\n",
       "  <tbody>\n",
       "    <tr>\n",
       "      <th>1451</th>\n",
       "      <td>106204</td>\n",
       "      <td>КАФЕ «ШАШЛЫЧОК»</td>\n",
       "      <td>False</td>\n",
       "      <td>кафе</td>\n",
       "      <td>город Москва, 3-й Митинский переулок, дом 1</td>\n",
       "      <td>44</td>\n",
       "      <td>3-й Митинский переулок</td>\n",
       "      <td>NaN</td>\n",
       "    </tr>\n",
       "    <tr>\n",
       "      <th>1654</th>\n",
       "      <td>25308</td>\n",
       "      <td>Ани</td>\n",
       "      <td>False</td>\n",
       "      <td>кафе</td>\n",
       "      <td>город Москва, улица Руднёвка, дом 14</td>\n",
       "      <td>32</td>\n",
       "      <td>улица Руднёвка</td>\n",
       "      <td>NaN</td>\n",
       "    </tr>\n",
       "    <tr>\n",
       "      <th>1679</th>\n",
       "      <td>156219</td>\n",
       "      <td>Пицца лэнд</td>\n",
       "      <td>False</td>\n",
       "      <td>фаст-фуд</td>\n",
       "      <td>город Москва, проспект Защитников Москвы, дом 14</td>\n",
       "      <td>20</td>\n",
       "      <td>проспект Защитников Москвы</td>\n",
       "      <td>NaN</td>\n",
       "    </tr>\n",
       "    <tr>\n",
       "      <th>1726</th>\n",
       "      <td>69842</td>\n",
       "      <td>Чайхона №1</td>\n",
       "      <td>True</td>\n",
       "      <td>ресторан</td>\n",
       "      <td>город Москва, улица Мичуринский Проспект, Олимпийская Деревня, дом 1, корпус 1</td>\n",
       "      <td>94</td>\n",
       "      <td>улица Мичуринский Проспект</td>\n",
       "      <td>NaN</td>\n",
       "    </tr>\n",
       "    <tr>\n",
       "      <th>1831</th>\n",
       "      <td>128021</td>\n",
       "      <td>Кафе «Мама МИА»</td>\n",
       "      <td>False</td>\n",
       "      <td>кафе</td>\n",
       "      <td>город Москва, поселение Внуковское, улица Лётчика Ульянина, дом 2</td>\n",
       "      <td>12</td>\n",
       "      <td>улица Лётчика Ульянина</td>\n",
       "      <td>NaN</td>\n",
       "    </tr>\n",
       "  </tbody>\n",
       "</table>\n",
       "</div>"
      ],
      "text/plain": [
       "          id      object_name  chain object_type  \\\n",
       "1451  106204  КАФЕ «ШАШЛЫЧОК»  False        кафе   \n",
       "1654   25308              Ани  False        кафе   \n",
       "1679  156219       Пицца лэнд  False    фаст-фуд   \n",
       "1726   69842       Чайхона №1   True    ресторан   \n",
       "1831  128021  Кафе «Мама МИА»  False        кафе   \n",
       "\n",
       "                                                                             address  \\\n",
       "1451                                     город Москва, 3-й Митинский переулок, дом 1   \n",
       "1654                                            город Москва, улица Руднёвка, дом 14   \n",
       "1679                                город Москва, проспект Защитников Москвы, дом 14   \n",
       "1726  город Москва, улица Мичуринский Проспект, Олимпийская Деревня, дом 1, корпус 1   \n",
       "1831               город Москва, поселение Внуковское, улица Лётчика Ульянина, дом 2   \n",
       "\n",
       "      seats                      street area  \n",
       "1451     44      3-й Митинский переулок  NaN  \n",
       "1654     32              улица Руднёвка  NaN  \n",
       "1679     20  проспект Защитников Москвы  NaN  \n",
       "1726     94  улица Мичуринский Проспект  NaN  \n",
       "1831     12      улица Лётчика Ульянина  NaN  "
      ]
     },
     "metadata": {},
     "output_type": "display_data"
    }
   ],
   "source": [
    "display(df[df['area'].isna()].head())"
   ]
  },
  {
   "cell_type": "code",
   "execution_count": 28,
   "metadata": {},
   "outputs": [
    {
     "data": {
      "text/html": [
       "<div>\n",
       "<style scoped>\n",
       "    .dataframe tbody tr th:only-of-type {\n",
       "        vertical-align: middle;\n",
       "    }\n",
       "\n",
       "    .dataframe tbody tr th {\n",
       "        vertical-align: top;\n",
       "    }\n",
       "\n",
       "    .dataframe thead th {\n",
       "        text-align: right;\n",
       "    }\n",
       "</style>\n",
       "<table border=\"1\" class=\"dataframe\">\n",
       "  <thead>\n",
       "    <tr style=\"text-align: right;\">\n",
       "      <th></th>\n",
       "      <th>street</th>\n",
       "      <th>area</th>\n",
       "    </tr>\n",
       "  </thead>\n",
       "  <tbody>\n",
       "    <tr>\n",
       "      <th>68</th>\n",
       "      <td>1-й Митинский переулок</td>\n",
       "      <td>([СЗАО, Район Митино],)</td>\n",
       "    </tr>\n",
       "    <tr>\n",
       "      <th>286</th>\n",
       "      <td>2-й Митинский переулок</td>\n",
       "      <td>([СЗАО, Район Митино],)</td>\n",
       "    </tr>\n",
       "    <tr>\n",
       "      <th>441</th>\n",
       "      <td>3-й Митинский проезд</td>\n",
       "      <td>([СЗАО, Район Митино],)</td>\n",
       "    </tr>\n",
       "  </tbody>\n",
       "</table>\n",
       "</div>"
      ],
      "text/plain": [
       "                     street                     area\n",
       "68   1-й Митинский переулок  ([СЗАО, Район Митино],)\n",
       "286  2-й Митинский переулок  ([СЗАО, Район Митино],)\n",
       "441    3-й Митинский проезд  ([СЗАО, Район Митино],)"
      ]
     },
     "metadata": {},
     "output_type": "display_data"
    },
    {
     "data": {
      "text/html": [
       "<div>\n",
       "<style scoped>\n",
       "    .dataframe tbody tr th:only-of-type {\n",
       "        vertical-align: middle;\n",
       "    }\n",
       "\n",
       "    .dataframe tbody tr th {\n",
       "        vertical-align: top;\n",
       "    }\n",
       "\n",
       "    .dataframe thead th {\n",
       "        text-align: right;\n",
       "    }\n",
       "</style>\n",
       "<table border=\"1\" class=\"dataframe\">\n",
       "  <thead>\n",
       "    <tr style=\"text-align: right;\">\n",
       "      <th></th>\n",
       "      <th>street</th>\n",
       "      <th>area</th>\n",
       "    </tr>\n",
       "  </thead>\n",
       "  <tbody>\n",
       "    <tr>\n",
       "      <th>2869</th>\n",
       "      <td>площадь Защитников Неба</td>\n",
       "      <td>([ЗАО, Район Крылатское],)</td>\n",
       "    </tr>\n",
       "  </tbody>\n",
       "</table>\n",
       "</div>"
      ],
      "text/plain": [
       "                       street                        area\n",
       "2869  площадь Защитников Неба  ([ЗАО, Район Крылатское],)"
      ]
     },
     "metadata": {},
     "output_type": "display_data"
    },
    {
     "data": {
      "text/html": [
       "<div>\n",
       "<style scoped>\n",
       "    .dataframe tbody tr th:only-of-type {\n",
       "        vertical-align: middle;\n",
       "    }\n",
       "\n",
       "    .dataframe tbody tr th {\n",
       "        vertical-align: top;\n",
       "    }\n",
       "\n",
       "    .dataframe thead th {\n",
       "        text-align: right;\n",
       "    }\n",
       "</style>\n",
       "<table border=\"1\" class=\"dataframe\">\n",
       "  <thead>\n",
       "    <tr style=\"text-align: right;\">\n",
       "      <th></th>\n",
       "      <th>street</th>\n",
       "      <th>area</th>\n",
       "    </tr>\n",
       "  </thead>\n",
       "  <tbody>\n",
       "  </tbody>\n",
       "</table>\n",
       "</div>"
      ],
      "text/plain": [
       "Empty DataFrame\n",
       "Columns: [street, area]\n",
       "Index: []"
      ]
     },
     "metadata": {},
     "output_type": "display_data"
    }
   ],
   "source": [
    "display(street_group[street_group['street'].str.contains(\"Митинский\")])\n",
    "display(street_group[street_group['street'].str.contains(\"Защитников\")])\n",
    "display(street_group[street_group['street'].str.contains(\"Руднёвка\")])"
   ]
  },
  {
   "cell_type": "markdown",
   "metadata": {},
   "source": [
    "Очевидно, что данные, которые имеются в отрытом доступе, например на сайте Мосгаза, не содержат в себе исчерпывающий перечень адресов.   3-й Митинский переулок есть в списке кафе, но его нет у Мосгаза, есть только 3-й Митинский проезд. Вместо проспект Защитников Москвы есть только площадь Защитников Неба. Данные о улице Рудневка вообще отсутствуют. Однако, более качественный источник данных о улицах и районах Москвы в открытом доступе найти не удалось. Посмотрим, как повлияют пропуски в последующем исследовании, возможно отсутствие данных будет не критично."
   ]
  },
  {
   "cell_type": "code",
   "execution_count": 29,
   "metadata": {},
   "outputs": [
    {
     "data": {
      "text/html": [
       "<div>\n",
       "<style scoped>\n",
       "    .dataframe tbody tr th:only-of-type {\n",
       "        vertical-align: middle;\n",
       "    }\n",
       "\n",
       "    .dataframe tbody tr th {\n",
       "        vertical-align: top;\n",
       "    }\n",
       "\n",
       "    .dataframe thead th {\n",
       "        text-align: right;\n",
       "    }\n",
       "</style>\n",
       "<table border=\"1\" class=\"dataframe\">\n",
       "  <thead>\n",
       "    <tr style=\"text-align: right;\">\n",
       "      <th></th>\n",
       "      <th>street</th>\n",
       "      <th>сatering_sum</th>\n",
       "      <th>area</th>\n",
       "    </tr>\n",
       "  </thead>\n",
       "  <tbody>\n",
       "    <tr>\n",
       "      <th>1425</th>\n",
       "      <td>проспект Мира</td>\n",
       "      <td>204</td>\n",
       "      <td>([СВАО, Алексеевский район], [СВАО, Ярославский Район], [СВАО, Район Марьина роща], [СВАО, Останкинский район], [СВАО, Район Ростокино], [СВАО, Район Свиблово], [ЦАО, Мещанский район])</td>\n",
       "    </tr>\n",
       "    <tr>\n",
       "      <th>1014</th>\n",
       "      <td>Профсоюзная улица</td>\n",
       "      <td>182</td>\n",
       "      <td>([ЮЗАО, Академический район], [ЮЗАО, Район Черемушки], [ЮЗАО, Район Ясенево], [ЮЗАО, Район Коньково], [ЮЗАО, Обручевский район], [ЮЗАО, Район Теплый Стан])</td>\n",
       "    </tr>\n",
       "    <tr>\n",
       "      <th>686</th>\n",
       "      <td>Ленинградский проспект</td>\n",
       "      <td>172</td>\n",
       "      <td>([САО, Район Аэропорт], [САО, Район Беговой], [САО, Хорошевский район], [САО, Район Сокол])</td>\n",
       "    </tr>\n",
       "    <tr>\n",
       "      <th>997</th>\n",
       "      <td>Пресненская набережная</td>\n",
       "      <td>167</td>\n",
       "      <td>([ЦАО, Пресненский район],)</td>\n",
       "    </tr>\n",
       "    <tr>\n",
       "      <th>399</th>\n",
       "      <td>Варшавское шоссе</td>\n",
       "      <td>165</td>\n",
       "      <td>([ЮАО, Район Чертаново Центральное], [ЮАО, Район Чертаново Северное], [ЮАО, Район Чертаново Южное], [ЮАО, Донской район], [ЮАО, Район Нагатино-Садовники], [ЮАО, Нагорный район], [ЮЗАО, Район Северное Бутово], [ЮЗАО, Район Южное Бутово])</td>\n",
       "    </tr>\n",
       "    <tr>\n",
       "      <th>689</th>\n",
       "      <td>Ленинский проспект</td>\n",
       "      <td>148</td>\n",
       "      <td>([ЗАО, Район Проспект Вернадского], [ЗАО, Район Тропарево-Никулино], [ЮАО, Донской район], [ЮЗАО, Район Гагаринский], [ЮЗАО, Ломоносовский район], [ЮЗАО, Обручевский район], [ЮЗАО, Район Теплый Стан], [ЦАО, Район Якиманка])</td>\n",
       "    </tr>\n",
       "    <tr>\n",
       "      <th>1421</th>\n",
       "      <td>проспект Вернадского</td>\n",
       "      <td>128</td>\n",
       "      <td>([ЗАО, Район Проспект Вернадского], [ЗАО, Район Раменки], [ЗАО, Район Тропарево-Никулино], [ЮЗАО, Район Гагаринский], [ЮЗАО, Ломоносовский район])</td>\n",
       "    </tr>\n",
       "    <tr>\n",
       "      <th>676</th>\n",
       "      <td>Кутузовский проспект</td>\n",
       "      <td>114</td>\n",
       "      <td>([ЗАО, Район Дорогомилово], [ЗАО, Район Фили-Давыдково])</td>\n",
       "    </tr>\n",
       "    <tr>\n",
       "      <th>599</th>\n",
       "      <td>Каширское шоссе</td>\n",
       "      <td>111</td>\n",
       "      <td>([ЮАО, Район Москворечье-Сабурово], [ЮАО, Район Нагатино-Садовники], [ЮАО, Район Орехово-Борисово Южное], [ЮАО, Район Орехово-Борисово Северное])</td>\n",
       "    </tr>\n",
       "    <tr>\n",
       "      <th>606</th>\n",
       "      <td>Кировоградская улица</td>\n",
       "      <td>108</td>\n",
       "      <td>([ЮАО, Район Чертаново Центральное], [ЮАО, Район Чертаново Северное], [ЮАО, Район Чертаново Южное])</td>\n",
       "    </tr>\n",
       "  </tbody>\n",
       "</table>\n",
       "</div>"
      ],
      "text/plain": [
       "                      street  сatering_sum  \\\n",
       "1425           проспект Мира           204   \n",
       "1014       Профсоюзная улица           182   \n",
       "686   Ленинградский проспект           172   \n",
       "997   Пресненская набережная           167   \n",
       "399         Варшавское шоссе           165   \n",
       "689       Ленинский проспект           148   \n",
       "1421    проспект Вернадского           128   \n",
       "676     Кутузовский проспект           114   \n",
       "599          Каширское шоссе           111   \n",
       "606     Кировоградская улица           108   \n",
       "\n",
       "                                                                                                                                                                                                                                              area  \n",
       "1425                                                      ([СВАО, Алексеевский район], [СВАО, Ярославский Район], [СВАО, Район Марьина роща], [СВАО, Останкинский район], [СВАО, Район Ростокино], [СВАО, Район Свиблово], [ЦАО, Мещанский район])  \n",
       "1014                                                                                   ([ЮЗАО, Академический район], [ЮЗАО, Район Черемушки], [ЮЗАО, Район Ясенево], [ЮЗАО, Район Коньково], [ЮЗАО, Обручевский район], [ЮЗАО, Район Теплый Стан])  \n",
       "686                                                                                                                                                    ([САО, Район Аэропорт], [САО, Район Беговой], [САО, Хорошевский район], [САО, Район Сокол])  \n",
       "997                                                                                                                                                                                                                    ([ЦАО, Пресненский район],)  \n",
       "399   ([ЮАО, Район Чертаново Центральное], [ЮАО, Район Чертаново Северное], [ЮАО, Район Чертаново Южное], [ЮАО, Донской район], [ЮАО, Район Нагатино-Садовники], [ЮАО, Нагорный район], [ЮЗАО, Район Северное Бутово], [ЮЗАО, Район Южное Бутово])  \n",
       "689                ([ЗАО, Район Проспект Вернадского], [ЗАО, Район Тропарево-Никулино], [ЮАО, Донской район], [ЮЗАО, Район Гагаринский], [ЮЗАО, Ломоносовский район], [ЮЗАО, Обручевский район], [ЮЗАО, Район Теплый Стан], [ЦАО, Район Якиманка])  \n",
       "1421                                                                                            ([ЗАО, Район Проспект Вернадского], [ЗАО, Район Раменки], [ЗАО, Район Тропарево-Никулино], [ЮЗАО, Район Гагаринский], [ЮЗАО, Ломоносовский район])  \n",
       "676                                                                                                                                                                                       ([ЗАО, Район Дорогомилово], [ЗАО, Район Фили-Давыдково])  \n",
       "599                                                                                              ([ЮАО, Район Москворечье-Сабурово], [ЮАО, Район Нагатино-Садовники], [ЮАО, Район Орехово-Борисово Южное], [ЮАО, Район Орехово-Борисово Северное])  \n",
       "606                                                                                                                                            ([ЮАО, Район Чертаново Центральное], [ЮАО, Район Чертаново Северное], [ЮАО, Район Чертаново Южное])  "
      ]
     },
     "execution_count": 29,
     "metadata": {},
     "output_type": "execute_result"
    }
   ],
   "source": [
    "top_10_street = df.groupby('street').agg({'street':'count','area':'first'})\n",
    "top_10_street.columns=['сatering_sum','area']\n",
    "top_10_street = top_10_street.reset_index()\n",
    "top_10_street = top_10_street.sort_values(by='сatering_sum', ascending = False).head(10)\n",
    "top_10_street"
   ]
  },
  {
   "cell_type": "code",
   "execution_count": 30,
   "metadata": {},
   "outputs": [
    {
     "data": {
      "image/png": "[encoded data removed]",
      "text/plain": [
       "<Figure size 1080x720 with 1 Axes>"
      ]
     },
     "metadata": {},
     "output_type": "display_data"
    }
   ],
   "source": [
    "plt.figure(figsize=(15,10))\n",
    "sns.barplot(data = top_10_street, y = 'сatering_sum', x = 'street' )\n",
    "plt.title (\"Топ-10 улиц по количеству объектов общественного питания\", fontsize=14)\n",
    "plt.ylabel('Количество заведений на улице')\n",
    "plt.xlabel('Улица')\n",
    "plt.xticks(rotation=90)\n",
    "plt.tight_layout()\n",
    "plt.show()"
   ]
  },
  {
   "cell_type": "markdown",
   "metadata": {},
   "source": [
    "Разрыв между первым и последним местом в топ-10 улиц по количеству заведений общественного питания почти составил 100 шт. \n",
    "\n",
    "Все улицы с топ-10 числом заведений имеют большой размер и расположились в нескольких районах Москвы, а некоторые даже в нескольких административных округах (кроме Пресненской набережной, она целиком уместилась в 1 районе).\n",
    "По количеству районов и административных округов, можно сделать вывод, о том что на юге и юго-западе Москвы больше расположено улиц с максимальным количеством объектов общественного питания.\n"
   ]
  },
  {
   "cell_type": "markdown",
   "metadata": {},
   "source": [
    "## Поиск улиц с одним объектом общественного питания"
   ]
  },
  {
   "cell_type": "markdown",
   "metadata": {},
   "source": [
    "Попробуем отойти от предыдущей сводной таблице с объединенными данными о улицах, районах и администратиных округах и немного сменим тактику. Соберем исходные данные об  улицах с одним объектом общественного питания и сгруппируем их по административным округам Москвы, воспользовавшись данными от Мосгаза, как словарем адресов."
   ]
  },
  {
   "cell_type": "code",
   "execution_count": 31,
   "metadata": {},
   "outputs": [
    {
     "data": {
      "text/html": [
       "<div>\n",
       "<style scoped>\n",
       "    .dataframe tbody tr th:only-of-type {\n",
       "        vertical-align: middle;\n",
       "    }\n",
       "\n",
       "    .dataframe tbody tr th {\n",
       "        vertical-align: top;\n",
       "    }\n",
       "\n",
       "    .dataframe thead th {\n",
       "        text-align: right;\n",
       "    }\n",
       "</style>\n",
       "<table border=\"1\" class=\"dataframe\">\n",
       "  <thead>\n",
       "    <tr style=\"text-align: right;\">\n",
       "      <th></th>\n",
       "      <th>street</th>\n",
       "      <th>сatering_sum</th>\n",
       "    </tr>\n",
       "  </thead>\n",
       "  <tbody>\n",
       "    <tr>\n",
       "      <th>0</th>\n",
       "      <td>1-й Балтийский переулок</td>\n",
       "      <td>1</td>\n",
       "    </tr>\n",
       "    <tr>\n",
       "      <th>1</th>\n",
       "      <td>1-й Басманный переулок</td>\n",
       "      <td>1</td>\n",
       "    </tr>\n",
       "    <tr>\n",
       "      <th>2</th>\n",
       "      <td>1-й Ботанический проезд</td>\n",
       "      <td>1</td>\n",
       "    </tr>\n",
       "    <tr>\n",
       "      <th>3</th>\n",
       "      <td>1-й Вешняковский проезд</td>\n",
       "      <td>1</td>\n",
       "    </tr>\n",
       "    <tr>\n",
       "      <th>4</th>\n",
       "      <td>1-й Голутвинский переулок</td>\n",
       "      <td>1</td>\n",
       "    </tr>\n",
       "  </tbody>\n",
       "</table>\n",
       "</div>"
      ],
      "text/plain": [
       "                      street  сatering_sum\n",
       "0    1-й Балтийский переулок             1\n",
       "1     1-й Басманный переулок             1\n",
       "2    1-й Ботанический проезд             1\n",
       "3    1-й Вешняковский проезд             1\n",
       "4  1-й Голутвинский переулок             1"
      ]
     },
     "execution_count": 31,
     "metadata": {},
     "output_type": "execute_result"
    }
   ],
   "source": [
    "only_1_object = df.groupby('street').agg({'street':'count'})\n",
    "only_1_object.columns=['сatering_sum']\n",
    "only_1_object = only_1_object.query('сatering_sum == 1')\n",
    "only_1_object = only_1_object.reset_index()\n",
    "only_1_object.head()"
   ]
  },
  {
   "cell_type": "code",
   "execution_count": 32,
   "metadata": {},
   "outputs": [
    {
     "name": "stdout",
     "output_type": "stream",
     "text": [
      "Количество улиц с одним объектом общественного питания - 551\n"
     ]
    }
   ],
   "source": [
    "print('Количество улиц с одним объектом общественного питания -', only_1_object.shape[0])"
   ]
  },
  {
   "cell_type": "code",
   "execution_count": 33,
   "metadata": {},
   "outputs": [
    {
     "data": {
      "text/html": [
       "<div>\n",
       "<style scoped>\n",
       "    .dataframe tbody tr th:only-of-type {\n",
       "        vertical-align: middle;\n",
       "    }\n",
       "\n",
       "    .dataframe tbody tr th {\n",
       "        vertical-align: top;\n",
       "    }\n",
       "\n",
       "    .dataframe thead th {\n",
       "        text-align: right;\n",
       "    }\n",
       "</style>\n",
       "<table border=\"1\" class=\"dataframe\">\n",
       "  <thead>\n",
       "    <tr style=\"text-align: right;\">\n",
       "      <th></th>\n",
       "      <th>street</th>\n",
       "      <th>сatering_sum</th>\n",
       "      <th>streetname</th>\n",
       "      <th>okrug</th>\n",
       "    </tr>\n",
       "  </thead>\n",
       "  <tbody>\n",
       "    <tr>\n",
       "      <th>0</th>\n",
       "      <td>1-й Балтийский переулок</td>\n",
       "      <td>1</td>\n",
       "      <td>1-й Балтийский переулок</td>\n",
       "      <td>САО</td>\n",
       "    </tr>\n",
       "    <tr>\n",
       "      <th>1</th>\n",
       "      <td>1-й Басманный переулок</td>\n",
       "      <td>1</td>\n",
       "      <td>1-й Басманный переулок</td>\n",
       "      <td>ЦАО</td>\n",
       "    </tr>\n",
       "    <tr>\n",
       "      <th>2</th>\n",
       "      <td>1-й Басманный переулок</td>\n",
       "      <td>1</td>\n",
       "      <td>1-й Басманный переулок</td>\n",
       "      <td>ЦАО</td>\n",
       "    </tr>\n",
       "    <tr>\n",
       "      <th>3</th>\n",
       "      <td>1-й Ботанический проезд</td>\n",
       "      <td>1</td>\n",
       "      <td>1-й Ботанический проезд</td>\n",
       "      <td>СВАО</td>\n",
       "    </tr>\n",
       "    <tr>\n",
       "      <th>4</th>\n",
       "      <td>1-й Вешняковский проезд</td>\n",
       "      <td>1</td>\n",
       "      <td>1-й Вешняковский проезд</td>\n",
       "      <td>ЮВАО</td>\n",
       "    </tr>\n",
       "    <tr>\n",
       "      <th>5</th>\n",
       "      <td>1-й Голутвинский переулок</td>\n",
       "      <td>1</td>\n",
       "      <td>1-й Голутвинский переулок</td>\n",
       "      <td>ЦАО</td>\n",
       "    </tr>\n",
       "    <tr>\n",
       "      <th>6</th>\n",
       "      <td>1-й Заречный переулок</td>\n",
       "      <td>1</td>\n",
       "      <td>NaN</td>\n",
       "      <td>NaN</td>\n",
       "    </tr>\n",
       "    <tr>\n",
       "      <th>7</th>\n",
       "      <td>1-й Зачатьевский переулок</td>\n",
       "      <td>1</td>\n",
       "      <td>1-й Зачатьевский переулок</td>\n",
       "      <td>ЦАО</td>\n",
       "    </tr>\n",
       "    <tr>\n",
       "      <th>8</th>\n",
       "      <td>1-й Кирпичный переулок</td>\n",
       "      <td>1</td>\n",
       "      <td>1-й Кирпичный переулок</td>\n",
       "      <td>ВАО</td>\n",
       "    </tr>\n",
       "    <tr>\n",
       "      <th>9</th>\n",
       "      <td>1-й Кожевнический переулок</td>\n",
       "      <td>1</td>\n",
       "      <td>1-й Кожевнический переулок</td>\n",
       "      <td>ЮАО</td>\n",
       "    </tr>\n",
       "  </tbody>\n",
       "</table>\n",
       "</div>"
      ],
      "text/plain": [
       "                       street  сatering_sum                  streetname okrug\n",
       "0     1-й Балтийский переулок             1     1-й Балтийский переулок   САО\n",
       "1      1-й Басманный переулок             1      1-й Басманный переулок   ЦАО\n",
       "2      1-й Басманный переулок             1      1-й Басманный переулок   ЦАО\n",
       "3     1-й Ботанический проезд             1     1-й Ботанический проезд  СВАО\n",
       "4     1-й Вешняковский проезд             1     1-й Вешняковский проезд  ЮВАО\n",
       "5   1-й Голутвинский переулок             1   1-й Голутвинский переулок   ЦАО\n",
       "6       1-й Заречный переулок             1                         NaN   NaN\n",
       "7   1-й Зачатьевский переулок             1   1-й Зачатьевский переулок   ЦАО\n",
       "8      1-й Кирпичный переулок             1      1-й Кирпичный переулок   ВАО\n",
       "9  1-й Кожевнический переулок             1  1-й Кожевнический переулок   ЮАО"
      ]
     },
     "execution_count": 33,
     "metadata": {},
     "output_type": "execute_result"
    }
   ],
   "source": [
    "only_1_object = only_1_object.merge(data_street[['streetname', 'okrug']], how = 'left', left_on='street', right_on='streetname')\n",
    "only_1_object.head(10)"
   ]
  },
  {
   "cell_type": "markdown",
   "metadata": {},
   "source": [
    "Опять пропуски в значениях. Определим, критично ли для нас."
   ]
  },
  {
   "cell_type": "code",
   "execution_count": 34,
   "metadata": {},
   "outputs": [
    {
     "name": "stdout",
     "output_type": "stream",
     "text": [
      "Количеcтсво улиц с 1 заведением, для которых не удалось определить административный округ - 35\n"
     ]
    }
   ],
   "source": [
    "print('Количеcтсво улиц с 1 заведением, для которых не удалось определить административный округ -', only_1_object['okrug'].isna().sum())"
   ]
  },
  {
   "cell_type": "markdown",
   "metadata": {},
   "source": [
    "Почти по 6% данным отсутствует информация об административным округам. В ручную будет проблематично и нерационально отыскать недостающую информацию. Согласимся и примем отсутствие данных и продолжим исследование."
   ]
  },
  {
   "cell_type": "code",
   "execution_count": 35,
   "metadata": {},
   "outputs": [
    {
     "data": {
      "text/html": [
       "<div>\n",
       "<style scoped>\n",
       "    .dataframe tbody tr th:only-of-type {\n",
       "        vertical-align: middle;\n",
       "    }\n",
       "\n",
       "    .dataframe tbody tr th {\n",
       "        vertical-align: top;\n",
       "    }\n",
       "\n",
       "    .dataframe thead th {\n",
       "        text-align: right;\n",
       "    }\n",
       "</style>\n",
       "<table border=\"1\" class=\"dataframe\">\n",
       "  <thead>\n",
       "    <tr style=\"text-align: right;\">\n",
       "      <th></th>\n",
       "      <th>okrug</th>\n",
       "      <th>сatering_sum</th>\n",
       "      <th>%</th>\n",
       "    </tr>\n",
       "  </thead>\n",
       "  <tbody>\n",
       "    <tr>\n",
       "      <th>0</th>\n",
       "      <td>ЦАО</td>\n",
       "      <td>186</td>\n",
       "      <td>33.10</td>\n",
       "    </tr>\n",
       "    <tr>\n",
       "      <th>1</th>\n",
       "      <td>ВАО</td>\n",
       "      <td>67</td>\n",
       "      <td>11.92</td>\n",
       "    </tr>\n",
       "    <tr>\n",
       "      <th>2</th>\n",
       "      <td>СВАО</td>\n",
       "      <td>66</td>\n",
       "      <td>11.74</td>\n",
       "    </tr>\n",
       "    <tr>\n",
       "      <th>3</th>\n",
       "      <td>САО</td>\n",
       "      <td>55</td>\n",
       "      <td>9.79</td>\n",
       "    </tr>\n",
       "    <tr>\n",
       "      <th>4</th>\n",
       "      <td>ЮВАО</td>\n",
       "      <td>55</td>\n",
       "      <td>9.79</td>\n",
       "    </tr>\n",
       "    <tr>\n",
       "      <th>5</th>\n",
       "      <td>ЗАО</td>\n",
       "      <td>45</td>\n",
       "      <td>8.01</td>\n",
       "    </tr>\n",
       "    <tr>\n",
       "      <th>6</th>\n",
       "      <td>ЮАО</td>\n",
       "      <td>29</td>\n",
       "      <td>5.16</td>\n",
       "    </tr>\n",
       "    <tr>\n",
       "      <th>7</th>\n",
       "      <td>СЗАО</td>\n",
       "      <td>27</td>\n",
       "      <td>4.80</td>\n",
       "    </tr>\n",
       "    <tr>\n",
       "      <th>8</th>\n",
       "      <td>ЮЗАО</td>\n",
       "      <td>27</td>\n",
       "      <td>4.80</td>\n",
       "    </tr>\n",
       "    <tr>\n",
       "      <th>9</th>\n",
       "      <td>Зеленоград</td>\n",
       "      <td>5</td>\n",
       "      <td>0.89</td>\n",
       "    </tr>\n",
       "  </tbody>\n",
       "</table>\n",
       "</div>"
      ],
      "text/plain": [
       "        okrug  сatering_sum      %\n",
       "0         ЦАО           186  33.10\n",
       "1         ВАО            67  11.92\n",
       "2        СВАО            66  11.74\n",
       "3         САО            55   9.79\n",
       "4        ЮВАО            55   9.79\n",
       "5         ЗАО            45   8.01\n",
       "6         ЮАО            29   5.16\n",
       "7        СЗАО            27   4.80\n",
       "8        ЮЗАО            27   4.80\n",
       "9  Зеленоград             5   0.89"
      ]
     },
     "execution_count": 35,
     "metadata": {},
     "output_type": "execute_result"
    }
   ],
   "source": [
    "only_1_object_table = only_1_object.groupby(\n",
    "    by='okrug',dropna=True\n",
    ")['сatering_sum'].sum().sort_values(ascending = False).reset_index()\n",
    "\n",
    "only_1_object_table['%']=round(only_1_object_table['сatering_sum']*100/only_1_object_table['сatering_sum'].sum(),2)\n",
    "only_1_object_table"
   ]
  },
  {
   "cell_type": "code",
   "execution_count": 36,
   "metadata": {},
   "outputs": [
    {
     "data": {
      "image/png": "[encoded data removed]",
      "text/plain": [
       "<Figure size 1080x720 with 1 Axes>"
      ]
     },
     "metadata": {},
     "output_type": "display_data"
    }
   ],
   "source": [
    "plt.figure(figsize=(15,10))\n",
    "sns.barplot(data = only_1_object_table,x = 'okrug', y = 'сatering_sum' )\n",
    "plt.title (\"Административные округа с 1 заведением на улицу\", fontsize=14)\n",
    "plt.ylabel('Количество улиц с 1 заведением')\n",
    "plt.xlabel('Административный округ')\n",
    "\n",
    "plt.tight_layout()\n",
    "plt.show()"
   ]
  },
  {
   "cell_type": "markdown",
   "metadata": {},
   "source": [
    "Количество улиц с одним объектом общественного питания - 551.\n",
    "\n",
    "\"Абсолютный\"  округ-рекортсмен по количеству улиц с 1 заведением ЦАО - 186 заведения или 33%. 2-3 место делят между собой административные округа ВАО и СВАО, по 67 и 66 улиц и почти 12% соответственно. 4-5 место у САО и ЮВАО - по 55 улиц у каждого и или почти 10%."
   ]
  },
  {
   "cell_type": "markdown",
   "metadata": {},
   "source": [
    "## Общий вывод и рекомендации"
   ]
  },
  {
   "cell_type": "markdown",
   "metadata": {},
   "source": [
    "Итак, подытожим наше исследование:\n",
    "\n",
    "**Самые популярные форматы заведений:**\n",
    "\n",
    " 1) Кафе (40% от доли рынка, 6071 заведений);\n",
    "\n",
    " 2) Столовые (17% от доли рынка, 2584 заведений);\n",
    "\n",
    " 3) Рестораны (2282 заведений или 15% от доли рынка);\n",
    "\n",
    " 4) Предприятия быстрого питания (1898 заведений / 13% доли рынка).\n",
    "    \n",
    "    \n",
    "На долю баров, буфетов кафетерий, закусочных и кулинарий в совокупности приходится 17% от рынка, но процент каждого из данных видов заведений на рынке не велик.\n",
    "\n",
    "\n",
    "**Большинство предприятий на рынке - несетевые**, 80% от общего числа. Сетевых предприятий на рынке общественного питания в 5 раз меньше, чем несетевых.\n",
    "\n",
    "\n",
    "**Исследование рынка сетевых объектов общественного питания** показали, что наибольшее число сетевых заведений имеют предприятия фаст-фуда или иначе быстрого питания - 41% от общего числа заведений данного типа. Далее следуют кулинарии с 28 % числа сетевых заведений, рестораны и кафе с приблизительно 23% сетевых заведений от общего числа заведений данного типа. Практически нет сетевого развития у баров и буфетов - менее 5%. А встретить сетевую столовую огромная редкость - всего лишь 0,12% столовых являются сетевыми. \n",
    "\n",
    "Медианное значение мест в сетевых заведениях равно 40, среднее - 53 места. Видим большое максимальное значение посадочных мест - 580 шт и высокое значение стандартного среднеквадратичного отклонения количества мест внутри выборки - 57,14. Последний параметр говорит нам о большом разбросе рассматриваемого параметра. \n",
    "\n",
    "Однозначный вывод о том, что более характерно для сетевых  заведений: много заведений с небольшим числом посадочных мест в каждом или мало заведений с большим количеством посадочных мест по имеющимся данным сделать сложно. Средние значения числа мест в сетевых заведениях (40) должно подталкивать на мысль, что в Москве более характерно открытие многих сетевых заведений с небольшим числом посадочных мест в каждом, в тоже время имеем данные, что 90% сетей укладываются в 6 заведений в среднем, что тоже, согласитесь, не много.\n",
    "\n",
    "**Поэтому сделаю следующий вывод: среднее количество мест в сетевых заведениях будет зависеть от типа заведений сети, а не от наличия статуса \"сетевой\". Но в любом случае маленькие \"сетки\" более распространены.**\n",
    "\n",
    "\n",
    "\n",
    "**Топ-10 улиц с наибольшим количеством заведений:**\n",
    "\n",
    "- проспект Мира, 204 заведения.\n",
    "- Профсоюзная улица, 183 заведения\n",
    "- Ленинградский проспект, 173 заведения\n",
    "- Пресненская набережная, 167 заведений\n",
    "- Варшавское шоссе, 165 заведений\n",
    "- Ленинский проспект, 148 заведений\n",
    "- проспект Вернадского, 132 заведения\n",
    "- Кутузовский проспект, 114 заведений\n",
    "- Каширское шоссе, 112 заведений\n",
    "- Кировоградская улица, 110 заведений\n",
    "\n",
    "Все улицы в топ-10 с числом заведений имеют большой размер и расположились в нескольких районах Москвы, а некоторые даже в нескольких административных округах (кроме Пресненской набережной, она целиком уместилась в 1 районе).\n",
    "По количеству районов и административных округов, можно сделать вывод, о том что на юге и юго-западе Москвы больше расположено улиц с максимальным количеством объектов общественного питания.\n",
    "\n",
    "**Количество улиц с одним объектом общественного питания - 551**\n",
    "\"Абсолютный\"  округ-рекортсмен по количеству улиц с 1 заведением ЦАО - 186 заведения или 33%. 2-3 место делят между собой административные округа ВАО и СВАО, по 67 и 66 улиц и почти 12% соответственно. 4-5 место у САО и ЮВАО - по 55 улиц у каждого и или почти 10%.\n"
   ]
  },
  {
   "cell_type": "markdown",
   "metadata": {},
   "source": [
    "Согласно проведенного исследования, сделать однозначные рекомендации о виде заведения, количестве посадочных мест, а также районе расположения и дать комментарии по  возможность развития сети нельзя. В любом случае необходимо отталкиваться от более глубоких исследований и желаний учредителей. Необходимо однозначно определиться со сроком окупаемости инвестиций, общей возможной суммы инвестиций, провести маркетинговые исследования портрета потребителей и.д. Рассмотреть зарубежный опыт открытия подобных заведений.\n",
    "\n",
    "Согласно проанализированным данным, наиболее перспективным видится открытие заведения в формате кафе с числом посадочных мест от 30 до 50 на одной из улиц из списка топ-10 по количеству заведений, так как логично предположить что на них хорошие показатели по проходимости. Такой подход позволит нам привлечь максимальный охват новых клиентов за счет новизны. Перспективы развития сети кафе данного формата мне видится, как маловероятная. Очевидно, что для того, чтобы составить конкуренцию имеющимся кафе, потребуются значительные капитальные вложения.\n",
    "\n",
    "В случае склонности инвесторов к меньшим затратам и возможно (?) более быстрой окупаемости, то имеется возможность выбора иной стратегии, а именно выбор типа заведения — буфет, предприятия быстрого питания, кафетерия, кулинарии - объектов с не столь большими вложениями по причине небольшого числа посадочных мест, и расположение заведения среди списка улиц с минимальным количеством заведений общественного питания. "
   ]
  },
  {
   "cell_type": "markdown",
   "metadata": {},
   "source": [
    "Презентация: <https://drive.google.com/file/d/1OVhDR8g2dOgMthIOtkZYhDTlaYVzVo7h/view?usp=sharing>  "
   ]
  }
 ],
 "metadata": {
  "ExecuteTimeLog": [
   {
    "duration": 1376,
    "start_time": "2022-06-04T14:14:59.989Z"
   },
   {
    "duration": 112,
    "start_time": "2022-06-04T14:15:09.389Z"
   },
   {
    "duration": 14,
    "start_time": "2022-06-04T14:15:14.905Z"
   },
   {
    "duration": 112,
    "start_time": "2022-06-04T14:15:44.735Z"
   },
   {
    "duration": 32,
    "start_time": "2022-06-04T14:16:11.985Z"
   },
   {
    "duration": 61,
    "start_time": "2022-06-04T14:19:02.597Z"
   },
   {
    "duration": 6,
    "start_time": "2022-06-04T14:21:40.229Z"
   },
   {
    "duration": 11,
    "start_time": "2022-06-04T14:24:03.547Z"
   },
   {
    "duration": 38,
    "start_time": "2022-06-04T14:24:30.004Z"
   },
   {
    "duration": 9,
    "start_time": "2022-06-04T14:24:36.857Z"
   },
   {
    "duration": 3,
    "start_time": "2022-06-04T14:30:32.601Z"
   },
   {
    "duration": 3,
    "start_time": "2022-06-04T14:31:48.053Z"
   },
   {
    "duration": 2,
    "start_time": "2022-06-04T14:35:05.800Z"
   },
   {
    "duration": 6,
    "start_time": "2022-06-04T14:37:17.647Z"
   },
   {
    "duration": 10,
    "start_time": "2022-06-04T14:37:23.361Z"
   },
   {
    "duration": 252,
    "start_time": "2022-06-04T14:45:01.569Z"
   },
   {
    "duration": 121,
    "start_time": "2022-06-04T14:46:33.557Z"
   },
   {
    "duration": 121,
    "start_time": "2022-06-04T14:46:40.046Z"
   },
   {
    "duration": 111,
    "start_time": "2022-06-04T14:47:01.002Z"
   },
   {
    "duration": 30,
    "start_time": "2022-06-04T14:47:43.806Z"
   },
   {
    "duration": 269,
    "start_time": "2022-06-04T14:47:47.598Z"
   },
   {
    "duration": 257,
    "start_time": "2022-06-04T14:48:13.520Z"
   },
   {
    "duration": 7,
    "start_time": "2022-06-04T14:48:24.822Z"
   },
   {
    "duration": 312,
    "start_time": "2022-06-04T14:48:30.824Z"
   },
   {
    "duration": 282,
    "start_time": "2022-06-04T14:48:51.290Z"
   },
   {
    "duration": 284,
    "start_time": "2022-06-04T14:49:33.709Z"
   },
   {
    "duration": 265,
    "start_time": "2022-06-04T14:49:40.356Z"
   },
   {
    "duration": 9,
    "start_time": "2022-06-04T14:50:51.611Z"
   },
   {
    "duration": 174,
    "start_time": "2022-06-04T14:50:54.744Z"
   },
   {
    "duration": 26,
    "start_time": "2022-06-04T14:51:40.013Z"
   },
   {
    "duration": 105,
    "start_time": "2022-06-04T14:51:46.693Z"
   },
   {
    "duration": 107,
    "start_time": "2022-06-04T14:51:57.253Z"
   },
   {
    "duration": 110,
    "start_time": "2022-06-04T14:53:28.509Z"
   },
   {
    "duration": 100,
    "start_time": "2022-06-04T14:53:41.219Z"
   },
   {
    "duration": 101,
    "start_time": "2022-06-04T14:53:45.708Z"
   },
   {
    "duration": 107,
    "start_time": "2022-06-04T14:55:11.317Z"
   },
   {
    "duration": 120,
    "start_time": "2022-06-04T14:55:31.125Z"
   },
   {
    "duration": 212,
    "start_time": "2022-06-04T14:57:00.900Z"
   },
   {
    "duration": 115,
    "start_time": "2022-06-04T14:58:18.200Z"
   },
   {
    "duration": 34,
    "start_time": "2022-06-04T14:58:39.351Z"
   },
   {
    "duration": 28,
    "start_time": "2022-06-04T14:58:46.056Z"
   },
   {
    "duration": 229,
    "start_time": "2022-06-04T14:58:49.951Z"
   },
   {
    "duration": 392,
    "start_time": "2022-06-04T14:59:04.416Z"
   },
   {
    "duration": 14,
    "start_time": "2022-06-04T14:59:17.116Z"
   },
   {
    "duration": 389,
    "start_time": "2022-06-04T14:59:18.267Z"
   },
   {
    "duration": 7,
    "start_time": "2022-06-04T14:59:30.628Z"
   },
   {
    "duration": 359,
    "start_time": "2022-06-04T14:59:34.132Z"
   },
   {
    "duration": 297,
    "start_time": "2022-06-04T15:00:39.034Z"
   },
   {
    "duration": 332,
    "start_time": "2022-06-04T15:00:50.813Z"
   },
   {
    "duration": 4,
    "start_time": "2022-06-04T15:03:31.823Z"
   },
   {
    "duration": 357,
    "start_time": "2022-06-04T15:03:35.408Z"
   },
   {
    "duration": 312,
    "start_time": "2022-06-04T15:04:10.305Z"
   },
   {
    "duration": 284,
    "start_time": "2022-06-04T15:04:35.156Z"
   },
   {
    "duration": 293,
    "start_time": "2022-06-04T15:05:04.597Z"
   },
   {
    "duration": 327,
    "start_time": "2022-06-04T15:05:25.492Z"
   },
   {
    "duration": 339,
    "start_time": "2022-06-04T15:08:07.797Z"
   },
   {
    "duration": 283,
    "start_time": "2022-06-04T15:08:13.085Z"
   },
   {
    "duration": 290,
    "start_time": "2022-06-04T15:08:23.525Z"
   },
   {
    "duration": 398,
    "start_time": "2022-06-04T15:08:54.897Z"
   },
   {
    "duration": 292,
    "start_time": "2022-06-04T15:08:57.897Z"
   },
   {
    "duration": 298,
    "start_time": "2022-06-04T15:09:00.477Z"
   },
   {
    "duration": 286,
    "start_time": "2022-06-04T15:09:08.529Z"
   },
   {
    "duration": 301,
    "start_time": "2022-06-04T15:09:11.457Z"
   },
   {
    "duration": 14,
    "start_time": "2022-06-04T15:10:00.739Z"
   },
   {
    "duration": 3,
    "start_time": "2022-06-04T15:10:08.424Z"
   },
   {
    "duration": 3,
    "start_time": "2022-06-04T15:10:33.593Z"
   },
   {
    "duration": 72,
    "start_time": "2022-06-04T15:10:34.205Z"
   },
   {
    "duration": 42,
    "start_time": "2022-06-04T15:10:34.797Z"
   },
   {
    "duration": 7,
    "start_time": "2022-06-04T15:10:35.085Z"
   },
   {
    "duration": 12,
    "start_time": "2022-06-04T15:10:35.497Z"
   },
   {
    "duration": 9,
    "start_time": "2022-06-04T15:10:35.689Z"
   },
   {
    "duration": 7,
    "start_time": "2022-06-04T15:10:36.285Z"
   },
   {
    "duration": 327,
    "start_time": "2022-06-04T15:10:37.005Z"
   },
   {
    "duration": 355,
    "start_time": "2022-06-04T15:11:01.753Z"
   },
   {
    "duration": 325,
    "start_time": "2022-06-04T15:11:08.854Z"
   },
   {
    "duration": 333,
    "start_time": "2022-06-04T15:11:24.686Z"
   },
   {
    "duration": 142,
    "start_time": "2022-06-04T15:16:47.053Z"
   },
   {
    "duration": 114,
    "start_time": "2022-06-04T15:17:23.481Z"
   },
   {
    "duration": 447,
    "start_time": "2022-06-04T15:38:55.914Z"
   },
   {
    "duration": 326,
    "start_time": "2022-06-04T15:39:05.575Z"
   },
   {
    "duration": 346,
    "start_time": "2022-06-04T15:39:12.343Z"
   },
   {
    "duration": 341,
    "start_time": "2022-06-04T15:39:42.315Z"
   },
   {
    "duration": 309,
    "start_time": "2022-06-04T15:44:46.083Z"
   },
   {
    "duration": 10,
    "start_time": "2022-06-04T15:45:30.394Z"
   },
   {
    "duration": 464,
    "start_time": "2022-06-04T15:45:36.315Z"
   },
   {
    "duration": 408,
    "start_time": "2022-06-04T15:45:48.628Z"
   },
   {
    "duration": 5,
    "start_time": "2022-06-04T15:48:58.283Z"
   },
   {
    "duration": 281,
    "start_time": "2022-06-04T15:49:20.275Z"
   },
   {
    "duration": 305,
    "start_time": "2022-06-04T15:50:00.600Z"
   },
   {
    "duration": 293,
    "start_time": "2022-06-04T15:50:19.991Z"
   },
   {
    "duration": 286,
    "start_time": "2022-06-04T15:50:28.171Z"
   },
   {
    "duration": 421,
    "start_time": "2022-06-04T15:50:33.583Z"
   },
   {
    "duration": 326,
    "start_time": "2022-06-04T15:52:30.491Z"
   },
   {
    "duration": 5,
    "start_time": "2022-06-04T15:52:41.723Z"
   },
   {
    "duration": 6,
    "start_time": "2022-06-04T15:52:47.693Z"
   },
   {
    "duration": 13,
    "start_time": "2022-06-04T15:53:01.071Z"
   },
   {
    "duration": 414,
    "start_time": "2022-06-04T15:53:10.399Z"
   },
   {
    "duration": 408,
    "start_time": "2022-06-04T15:53:20.284Z"
   },
   {
    "duration": 13,
    "start_time": "2022-06-04T15:53:42.612Z"
   },
   {
    "duration": 10,
    "start_time": "2022-06-04T15:53:51.485Z"
   },
   {
    "duration": 434,
    "start_time": "2022-06-04T15:54:25.300Z"
   },
   {
    "duration": 456,
    "start_time": "2022-06-04T15:55:14.608Z"
   },
   {
    "duration": 493,
    "start_time": "2022-06-04T15:55:24.483Z"
   },
   {
    "duration": 445,
    "start_time": "2022-06-04T15:55:45.538Z"
   },
   {
    "duration": 443,
    "start_time": "2022-06-04T15:55:58.171Z"
   },
   {
    "duration": 472,
    "start_time": "2022-06-04T15:57:45.479Z"
   },
   {
    "duration": 8,
    "start_time": "2022-06-04T15:59:39.021Z"
   },
   {
    "duration": 33,
    "start_time": "2022-06-04T16:00:10.600Z"
   },
   {
    "duration": 645,
    "start_time": "2022-06-04T16:00:15.178Z"
   },
   {
    "duration": 477,
    "start_time": "2022-06-04T16:01:06.105Z"
   },
   {
    "duration": 9,
    "start_time": "2022-06-04T16:03:10.002Z"
   },
   {
    "duration": 477,
    "start_time": "2022-06-04T16:03:15.703Z"
   },
   {
    "duration": 298,
    "start_time": "2022-06-04T16:03:49.478Z"
   },
   {
    "duration": 457,
    "start_time": "2022-06-04T16:03:53.029Z"
   },
   {
    "duration": 544,
    "start_time": "2022-06-04T16:09:57.383Z"
   },
   {
    "duration": 459,
    "start_time": "2022-06-04T16:11:00.415Z"
   },
   {
    "duration": 437,
    "start_time": "2022-06-04T16:11:15.702Z"
   },
   {
    "duration": 522,
    "start_time": "2022-06-04T16:16:10.402Z"
   },
   {
    "duration": 165,
    "start_time": "2022-06-04T16:16:52.398Z"
   },
   {
    "duration": 482,
    "start_time": "2022-06-04T16:18:49.594Z"
   },
   {
    "duration": 36,
    "start_time": "2022-06-04T16:19:04.002Z"
   },
   {
    "duration": 539,
    "start_time": "2022-06-04T16:19:07.402Z"
   },
   {
    "duration": 38,
    "start_time": "2022-06-04T16:27:13.537Z"
   },
   {
    "duration": 486,
    "start_time": "2022-06-04T16:27:17.998Z"
   },
   {
    "duration": 678,
    "start_time": "2022-06-04T16:27:46.906Z"
   },
   {
    "duration": 498,
    "start_time": "2022-06-04T16:27:58.266Z"
   },
   {
    "duration": 7,
    "start_time": "2022-06-04T16:28:13.802Z"
   },
   {
    "duration": 308,
    "start_time": "2022-06-04T16:28:17.016Z"
   },
   {
    "duration": 343,
    "start_time": "2022-06-04T16:28:21.618Z"
   },
   {
    "duration": 377,
    "start_time": "2022-06-04T16:35:14.501Z"
   },
   {
    "duration": 180,
    "start_time": "2022-06-04T16:38:50.426Z"
   },
   {
    "duration": 166,
    "start_time": "2022-06-04T16:38:59.649Z"
   },
   {
    "duration": 349,
    "start_time": "2022-06-04T16:52:19.513Z"
   },
   {
    "duration": 497,
    "start_time": "2022-06-04T16:52:31.949Z"
   },
   {
    "duration": 170,
    "start_time": "2022-06-04T16:53:08.156Z"
   },
   {
    "duration": 526,
    "start_time": "2022-06-04T16:53:14.893Z"
   },
   {
    "duration": 517,
    "start_time": "2022-06-04T16:53:45.605Z"
   },
   {
    "duration": 509,
    "start_time": "2022-06-04T16:53:51.318Z"
   },
   {
    "duration": 481,
    "start_time": "2022-06-04T16:54:02.725Z"
   },
   {
    "duration": 11,
    "start_time": "2022-06-04T17:19:51.138Z"
   },
   {
    "duration": 8,
    "start_time": "2022-06-04T17:20:19.125Z"
   },
   {
    "duration": 18,
    "start_time": "2022-06-04T17:21:00.715Z"
   },
   {
    "duration": 262,
    "start_time": "2022-06-04T17:21:20.514Z"
   },
   {
    "duration": 22,
    "start_time": "2022-06-04T17:40:27.620Z"
   },
   {
    "duration": 12,
    "start_time": "2022-06-04T17:41:25.316Z"
   },
   {
    "duration": 25,
    "start_time": "2022-06-04T17:42:36.064Z"
   },
   {
    "duration": 14,
    "start_time": "2022-06-04T17:42:57.311Z"
   },
   {
    "duration": 21,
    "start_time": "2022-06-04T17:43:02.960Z"
   },
   {
    "duration": 12,
    "start_time": "2022-06-04T17:43:23.895Z"
   },
   {
    "duration": 13,
    "start_time": "2022-06-04T17:43:35.903Z"
   },
   {
    "duration": 21,
    "start_time": "2022-06-04T17:43:47.620Z"
   },
   {
    "duration": 12,
    "start_time": "2022-06-04T17:43:54.603Z"
   },
   {
    "duration": 15,
    "start_time": "2022-06-04T17:44:05.507Z"
   },
   {
    "duration": 13,
    "start_time": "2022-06-04T17:44:23.207Z"
   },
   {
    "duration": 23,
    "start_time": "2022-06-04T17:46:47.363Z"
   },
   {
    "duration": 43,
    "start_time": "2022-06-04T17:50:55.802Z"
   },
   {
    "duration": 32,
    "start_time": "2022-06-04T17:50:59.198Z"
   },
   {
    "duration": 28,
    "start_time": "2022-06-04T17:51:17.959Z"
   },
   {
    "duration": 13,
    "start_time": "2022-06-04T17:51:23.802Z"
   },
   {
    "duration": 25,
    "start_time": "2022-06-04T17:51:24.263Z"
   },
   {
    "duration": 27,
    "start_time": "2022-06-04T17:51:29.256Z"
   },
   {
    "duration": 27,
    "start_time": "2022-06-04T17:51:37.895Z"
   },
   {
    "duration": 28,
    "start_time": "2022-06-04T17:59:32.107Z"
   },
   {
    "duration": 24,
    "start_time": "2022-06-04T17:59:45.916Z"
   },
   {
    "duration": 19,
    "start_time": "2022-06-04T18:24:48.911Z"
   },
   {
    "duration": 7,
    "start_time": "2022-06-04T18:25:23.502Z"
   },
   {
    "duration": 22,
    "start_time": "2022-06-04T18:25:37.231Z"
   },
   {
    "duration": 6,
    "start_time": "2022-06-04T18:25:38.603Z"
   },
   {
    "duration": 4,
    "start_time": "2022-06-04T18:25:54.954Z"
   },
   {
    "duration": 5,
    "start_time": "2022-06-04T18:26:26.604Z"
   },
   {
    "duration": 4,
    "start_time": "2022-06-04T18:26:41.054Z"
   },
   {
    "duration": 22,
    "start_time": "2022-06-04T18:27:04.559Z"
   },
   {
    "duration": 4,
    "start_time": "2022-06-04T18:27:05.117Z"
   },
   {
    "duration": 32,
    "start_time": "2022-06-04T18:27:50.263Z"
   },
   {
    "duration": 4,
    "start_time": "2022-06-04T18:28:01.055Z"
   },
   {
    "duration": 33,
    "start_time": "2022-06-04T18:37:32.519Z"
   },
   {
    "duration": 4,
    "start_time": "2022-06-04T18:39:41.637Z"
   },
   {
    "duration": 4,
    "start_time": "2022-06-04T18:39:47.436Z"
   },
   {
    "duration": 4,
    "start_time": "2022-06-04T18:39:53.263Z"
   },
   {
    "duration": 10,
    "start_time": "2022-06-04T18:45:57.040Z"
   },
   {
    "duration": 19,
    "start_time": "2022-06-04T18:46:06.448Z"
   },
   {
    "duration": 111,
    "start_time": "2022-06-04T18:52:13.350Z"
   },
   {
    "duration": 40,
    "start_time": "2022-06-04T18:53:08.305Z"
   },
   {
    "duration": 36,
    "start_time": "2022-06-04T18:53:13.257Z"
   },
   {
    "duration": 45,
    "start_time": "2022-06-04T18:53:17.175Z"
   },
   {
    "duration": 34,
    "start_time": "2022-06-04T18:59:21.848Z"
   },
   {
    "duration": 34,
    "start_time": "2022-06-04T18:59:26.882Z"
   },
   {
    "duration": 46,
    "start_time": "2022-06-04T18:59:38.544Z"
   },
   {
    "duration": 48,
    "start_time": "2022-06-04T18:59:54.929Z"
   },
   {
    "duration": 35,
    "start_time": "2022-06-04T19:03:00.929Z"
   },
   {
    "duration": 42,
    "start_time": "2022-06-04T19:03:07.546Z"
   },
   {
    "duration": 248,
    "start_time": "2022-06-04T19:03:20.528Z"
   },
   {
    "duration": 45,
    "start_time": "2022-06-04T19:08:26.495Z"
   },
   {
    "duration": 5,
    "start_time": "2022-06-04T19:08:39.153Z"
   },
   {
    "duration": 5,
    "start_time": "2022-06-04T19:09:11.846Z"
   },
   {
    "duration": 6,
    "start_time": "2022-06-04T19:10:04.228Z"
   },
   {
    "duration": 6,
    "start_time": "2022-06-04T19:10:11.892Z"
   },
   {
    "duration": 6,
    "start_time": "2022-06-04T19:10:26.859Z"
   },
   {
    "duration": 38,
    "start_time": "2022-06-04T19:10:51.202Z"
   },
   {
    "duration": 58,
    "start_time": "2022-06-04T19:11:37.996Z"
   },
   {
    "duration": 54,
    "start_time": "2022-06-04T19:12:46.706Z"
   },
   {
    "duration": 52,
    "start_time": "2022-06-04T19:13:14.811Z"
   },
   {
    "duration": 60,
    "start_time": "2022-06-04T19:16:56.498Z"
   },
   {
    "duration": 55,
    "start_time": "2022-06-04T19:17:22.204Z"
   },
   {
    "duration": 62,
    "start_time": "2022-06-04T19:17:34.550Z"
   },
   {
    "duration": 9,
    "start_time": "2022-06-04T19:18:15.086Z"
   },
   {
    "duration": 6,
    "start_time": "2022-06-04T19:18:36.177Z"
   },
   {
    "duration": 6,
    "start_time": "2022-06-04T19:18:45.700Z"
   },
   {
    "duration": 58,
    "start_time": "2022-06-04T19:19:47.357Z"
   },
   {
    "duration": 55,
    "start_time": "2022-06-05T06:24:14.958Z"
   },
   {
    "duration": 1274,
    "start_time": "2022-06-05T06:24:21.814Z"
   },
   {
    "duration": 233,
    "start_time": "2022-06-05T06:24:23.089Z"
   },
   {
    "duration": 39,
    "start_time": "2022-06-05T06:24:23.323Z"
   },
   {
    "duration": 6,
    "start_time": "2022-06-05T06:24:23.363Z"
   },
   {
    "duration": 10,
    "start_time": "2022-06-05T06:24:23.370Z"
   },
   {
    "duration": 14,
    "start_time": "2022-06-05T06:24:23.382Z"
   },
   {
    "duration": 8,
    "start_time": "2022-06-05T06:24:23.398Z"
   },
   {
    "duration": 426,
    "start_time": "2022-06-05T06:24:23.408Z"
   },
   {
    "duration": 0,
    "start_time": "2022-06-05T06:24:23.836Z"
   },
   {
    "duration": 0,
    "start_time": "2022-06-05T06:24:23.838Z"
   },
   {
    "duration": 0,
    "start_time": "2022-06-05T06:24:23.840Z"
   },
   {
    "duration": 0,
    "start_time": "2022-06-05T06:24:23.852Z"
   },
   {
    "duration": 0,
    "start_time": "2022-06-05T06:24:23.854Z"
   },
   {
    "duration": 0,
    "start_time": "2022-06-05T06:24:23.855Z"
   },
   {
    "duration": 0,
    "start_time": "2022-06-05T06:24:23.857Z"
   },
   {
    "duration": 381,
    "start_time": "2022-06-05T06:25:00.187Z"
   },
   {
    "duration": 285,
    "start_time": "2022-06-05T06:25:20.909Z"
   },
   {
    "duration": 317,
    "start_time": "2022-06-05T06:25:48.596Z"
   },
   {
    "duration": 312,
    "start_time": "2022-06-05T06:25:53.527Z"
   },
   {
    "duration": 303,
    "start_time": "2022-06-05T06:26:29.532Z"
   },
   {
    "duration": 750,
    "start_time": "2022-06-05T06:26:45.811Z"
   },
   {
    "duration": 494,
    "start_time": "2022-06-05T06:27:06.243Z"
   },
   {
    "duration": 52,
    "start_time": "2022-06-05T06:27:15.515Z"
   },
   {
    "duration": 129,
    "start_time": "2022-06-05T06:27:31.574Z"
   },
   {
    "duration": 53,
    "start_time": "2022-06-05T06:28:02.016Z"
   },
   {
    "duration": 6,
    "start_time": "2022-06-05T06:28:20.978Z"
   },
   {
    "duration": 10,
    "start_time": "2022-06-05T06:29:20.419Z"
   },
   {
    "duration": 11,
    "start_time": "2022-06-05T06:29:37.587Z"
   },
   {
    "duration": 68,
    "start_time": "2022-06-05T10:56:46.701Z"
   },
   {
    "duration": 1314,
    "start_time": "2022-06-05T10:56:55.765Z"
   },
   {
    "duration": 252,
    "start_time": "2022-06-05T10:56:57.081Z"
   },
   {
    "duration": 45,
    "start_time": "2022-06-05T10:56:57.334Z"
   },
   {
    "duration": 7,
    "start_time": "2022-06-05T10:56:57.382Z"
   },
   {
    "duration": 19,
    "start_time": "2022-06-05T10:56:57.391Z"
   },
   {
    "duration": 12,
    "start_time": "2022-06-05T10:56:57.426Z"
   },
   {
    "duration": 17,
    "start_time": "2022-06-05T10:56:57.441Z"
   },
   {
    "duration": 598,
    "start_time": "2022-06-05T10:56:57.459Z"
   },
   {
    "duration": 663,
    "start_time": "2022-06-05T10:56:58.060Z"
   },
   {
    "duration": 176,
    "start_time": "2022-06-05T10:56:58.725Z"
   },
   {
    "duration": 0,
    "start_time": "2022-06-05T10:56:58.903Z"
   },
   {
    "duration": 0,
    "start_time": "2022-06-05T10:56:58.905Z"
   },
   {
    "duration": 0,
    "start_time": "2022-06-05T10:56:58.907Z"
   },
   {
    "duration": 0,
    "start_time": "2022-06-05T10:56:58.909Z"
   },
   {
    "duration": 0,
    "start_time": "2022-06-05T10:56:58.910Z"
   },
   {
    "duration": 539,
    "start_time": "2022-06-05T10:57:28.994Z"
   },
   {
    "duration": 512,
    "start_time": "2022-06-05T10:57:41.890Z"
   },
   {
    "duration": 483,
    "start_time": "2022-06-05T10:58:12.068Z"
   },
   {
    "duration": 160,
    "start_time": "2022-06-05T10:58:47.837Z"
   },
   {
    "duration": 600,
    "start_time": "2022-06-05T10:58:53.158Z"
   },
   {
    "duration": 186,
    "start_time": "2022-06-05T11:00:09.151Z"
   },
   {
    "duration": 183,
    "start_time": "2022-06-05T11:00:15.512Z"
   },
   {
    "duration": 227,
    "start_time": "2022-06-05T11:00:51.544Z"
   },
   {
    "duration": 238,
    "start_time": "2022-06-05T11:01:13.246Z"
   },
   {
    "duration": 265,
    "start_time": "2022-06-05T11:01:39.558Z"
   },
   {
    "duration": 182,
    "start_time": "2022-06-05T11:02:05.038Z"
   },
   {
    "duration": 230,
    "start_time": "2022-06-05T11:02:26.375Z"
   },
   {
    "duration": 196,
    "start_time": "2022-06-05T11:03:52.672Z"
   },
   {
    "duration": 258,
    "start_time": "2022-06-05T11:04:03.898Z"
   },
   {
    "duration": 172,
    "start_time": "2022-06-05T11:04:14.223Z"
   },
   {
    "duration": 170,
    "start_time": "2022-06-05T11:04:22.007Z"
   },
   {
    "duration": 163,
    "start_time": "2022-06-05T11:04:29.750Z"
   },
   {
    "duration": 140,
    "start_time": "2022-06-05T11:20:26.674Z"
   },
   {
    "duration": 176,
    "start_time": "2022-06-05T11:22:03.443Z"
   },
   {
    "duration": 201,
    "start_time": "2022-06-05T11:22:27.700Z"
   },
   {
    "duration": 289,
    "start_time": "2022-06-05T11:22:39.061Z"
   },
   {
    "duration": 184,
    "start_time": "2022-06-05T11:27:20.158Z"
   },
   {
    "duration": 760,
    "start_time": "2022-06-05T11:27:24.513Z"
   },
   {
    "duration": 308,
    "start_time": "2022-06-05T12:27:28.684Z"
   },
   {
    "duration": 335,
    "start_time": "2022-06-05T12:27:56.418Z"
   },
   {
    "duration": 310,
    "start_time": "2022-06-05T12:28:15.883Z"
   },
   {
    "duration": 316,
    "start_time": "2022-06-05T12:28:31.019Z"
   },
   {
    "duration": 143,
    "start_time": "2022-06-05T12:28:53.084Z"
   },
   {
    "duration": 462,
    "start_time": "2022-06-05T12:29:18.006Z"
   },
   {
    "duration": 37,
    "start_time": "2022-06-05T12:32:25.386Z"
   },
   {
    "duration": 22,
    "start_time": "2022-06-05T12:32:48.761Z"
   },
   {
    "duration": 19,
    "start_time": "2022-06-05T12:32:52.691Z"
   },
   {
    "duration": 26,
    "start_time": "2022-06-05T12:32:57.087Z"
   },
   {
    "duration": 24,
    "start_time": "2022-06-05T12:33:20.308Z"
   },
   {
    "duration": 24,
    "start_time": "2022-06-05T12:33:36.259Z"
   },
   {
    "duration": 183,
    "start_time": "2022-06-05T12:34:03.356Z"
   },
   {
    "duration": 151,
    "start_time": "2022-06-05T12:34:22.963Z"
   },
   {
    "duration": 140,
    "start_time": "2022-06-05T12:34:28.323Z"
   },
   {
    "duration": 313,
    "start_time": "2022-06-05T12:37:46.782Z"
   },
   {
    "duration": 316,
    "start_time": "2022-06-05T12:37:58.084Z"
   },
   {
    "duration": 312,
    "start_time": "2022-06-05T12:38:06.841Z"
   },
   {
    "duration": 195,
    "start_time": "2022-06-05T12:45:31.756Z"
   },
   {
    "duration": 659,
    "start_time": "2022-06-05T12:46:19.494Z"
   },
   {
    "duration": 63,
    "start_time": "2022-06-05T12:46:40.748Z"
   },
   {
    "duration": 726,
    "start_time": "2022-06-05T12:46:47.783Z"
   },
   {
    "duration": 542,
    "start_time": "2022-06-05T12:47:05.718Z"
   },
   {
    "duration": 369,
    "start_time": "2022-06-05T12:47:34.161Z"
   },
   {
    "duration": 513,
    "start_time": "2022-06-05T12:47:51.177Z"
   },
   {
    "duration": 180,
    "start_time": "2022-06-05T12:47:58.301Z"
   },
   {
    "duration": 174,
    "start_time": "2022-06-05T12:48:03.894Z"
   },
   {
    "duration": 516,
    "start_time": "2022-06-05T12:48:07.854Z"
   },
   {
    "duration": 176,
    "start_time": "2022-06-05T12:52:16.622Z"
   },
   {
    "duration": 154,
    "start_time": "2022-06-05T12:52:20.240Z"
   },
   {
    "duration": 135,
    "start_time": "2022-06-05T12:52:31.006Z"
   },
   {
    "duration": 158,
    "start_time": "2022-06-05T12:52:36.720Z"
   },
   {
    "duration": 315,
    "start_time": "2022-06-05T12:52:40.582Z"
   },
   {
    "duration": 158,
    "start_time": "2022-06-05T12:52:49.055Z"
   },
   {
    "duration": 163,
    "start_time": "2022-06-05T12:53:07.143Z"
   },
   {
    "duration": 169,
    "start_time": "2022-06-05T12:53:19.078Z"
   },
   {
    "duration": 304,
    "start_time": "2022-06-05T12:53:49.041Z"
   },
   {
    "duration": 352,
    "start_time": "2022-06-05T12:56:04.540Z"
   },
   {
    "duration": 283,
    "start_time": "2022-06-05T12:56:28.807Z"
   },
   {
    "duration": 291,
    "start_time": "2022-06-05T12:58:21.520Z"
   },
   {
    "duration": 76,
    "start_time": "2022-06-05T13:01:24.528Z"
   },
   {
    "duration": 446,
    "start_time": "2022-06-05T13:01:28.870Z"
   },
   {
    "duration": 387,
    "start_time": "2022-06-05T13:04:51.225Z"
   },
   {
    "duration": 521,
    "start_time": "2022-06-05T13:05:00.794Z"
   },
   {
    "duration": 313,
    "start_time": "2022-06-05T13:05:23.472Z"
   },
   {
    "duration": 660,
    "start_time": "2022-06-05T13:07:26.545Z"
   },
   {
    "duration": 400,
    "start_time": "2022-06-05T13:07:43.920Z"
   },
   {
    "duration": 336,
    "start_time": "2022-06-05T13:08:29.842Z"
   },
   {
    "duration": 164,
    "start_time": "2022-06-05T13:08:39.856Z"
   },
   {
    "duration": 195,
    "start_time": "2022-06-05T13:15:25.693Z"
   },
   {
    "duration": 166,
    "start_time": "2022-06-05T13:27:49.878Z"
   },
   {
    "duration": 147,
    "start_time": "2022-06-05T13:28:26.045Z"
   },
   {
    "duration": 310,
    "start_time": "2022-06-05T13:28:39.486Z"
   },
   {
    "duration": 338,
    "start_time": "2022-06-05T13:28:48.518Z"
   },
   {
    "duration": 373,
    "start_time": "2022-06-05T13:28:59.472Z"
   },
   {
    "duration": 338,
    "start_time": "2022-06-05T13:29:14.005Z"
   },
   {
    "duration": 166,
    "start_time": "2022-06-05T13:29:20.485Z"
   },
   {
    "duration": 267,
    "start_time": "2022-06-05T13:29:24.966Z"
   },
   {
    "duration": 698,
    "start_time": "2022-06-05T13:29:30.589Z"
   },
   {
    "duration": 431,
    "start_time": "2022-06-05T13:29:40.647Z"
   },
   {
    "duration": 489,
    "start_time": "2022-06-05T13:30:20.639Z"
   },
   {
    "duration": 352,
    "start_time": "2022-06-05T13:30:30.846Z"
   },
   {
    "duration": 368,
    "start_time": "2022-06-05T13:30:38.646Z"
   },
   {
    "duration": 3,
    "start_time": "2022-06-05T13:56:01.872Z"
   },
   {
    "duration": 3,
    "start_time": "2022-06-05T13:56:12.743Z"
   },
   {
    "duration": 449,
    "start_time": "2022-06-05T13:56:49.047Z"
   },
   {
    "duration": 442,
    "start_time": "2022-06-05T14:04:41.448Z"
   },
   {
    "duration": 416,
    "start_time": "2022-06-05T14:05:00.350Z"
   },
   {
    "duration": 160,
    "start_time": "2022-06-05T14:05:07.661Z"
   },
   {
    "duration": 22,
    "start_time": "2022-06-05T14:05:44.988Z"
   },
   {
    "duration": 232,
    "start_time": "2022-06-05T14:05:58.938Z"
   },
   {
    "duration": 732,
    "start_time": "2022-06-05T14:12:36.491Z"
   },
   {
    "duration": 30,
    "start_time": "2022-06-05T14:13:40.156Z"
   },
   {
    "duration": 83,
    "start_time": "2022-06-05T14:13:48.517Z"
   },
   {
    "duration": 458,
    "start_time": "2022-06-05T14:13:58.310Z"
   },
   {
    "duration": 239,
    "start_time": "2022-06-05T14:14:08.221Z"
   },
   {
    "duration": 196,
    "start_time": "2022-06-05T14:16:53.558Z"
   },
   {
    "duration": 197,
    "start_time": "2022-06-05T14:17:04.696Z"
   },
   {
    "duration": 15,
    "start_time": "2022-06-05T14:17:25.559Z"
   },
   {
    "duration": 65,
    "start_time": "2022-06-05T14:17:56.305Z"
   },
   {
    "duration": 451,
    "start_time": "2022-06-05T14:18:00.455Z"
   },
   {
    "duration": 10,
    "start_time": "2022-06-05T14:56:00.053Z"
   },
   {
    "duration": 535,
    "start_time": "2022-06-05T15:20:22.525Z"
   },
   {
    "duration": 468,
    "start_time": "2022-06-05T15:21:20.195Z"
   },
   {
    "duration": 468,
    "start_time": "2022-06-05T15:21:41.106Z"
   },
   {
    "duration": 462,
    "start_time": "2022-06-05T15:22:13.858Z"
   },
   {
    "duration": 451,
    "start_time": "2022-06-05T15:22:23.483Z"
   },
   {
    "duration": 470,
    "start_time": "2022-06-05T15:22:31.869Z"
   },
   {
    "duration": 690,
    "start_time": "2022-06-05T15:34:07.501Z"
   },
   {
    "duration": 510,
    "start_time": "2022-06-05T15:34:32.580Z"
   },
   {
    "duration": 495,
    "start_time": "2022-06-05T15:37:16.941Z"
   },
   {
    "duration": 714,
    "start_time": "2022-06-05T16:05:44.301Z"
   },
   {
    "duration": 560,
    "start_time": "2022-06-05T16:05:55.118Z"
   },
   {
    "duration": 576,
    "start_time": "2022-06-05T16:06:25.088Z"
   },
   {
    "duration": 11,
    "start_time": "2022-06-05T16:18:54.577Z"
   },
   {
    "duration": 143,
    "start_time": "2022-06-05T17:20:13.106Z"
   },
   {
    "duration": 132,
    "start_time": "2022-06-05T17:21:06.691Z"
   },
   {
    "duration": 212,
    "start_time": "2022-06-05T17:21:15.858Z"
   },
   {
    "duration": 156,
    "start_time": "2022-06-05T17:23:03.755Z"
   },
   {
    "duration": 259,
    "start_time": "2022-06-05T17:23:10.922Z"
   },
   {
    "duration": 253,
    "start_time": "2022-06-05T17:23:55.713Z"
   },
   {
    "duration": 253,
    "start_time": "2022-06-05T17:24:13.818Z"
   },
   {
    "duration": 69,
    "start_time": "2022-06-05T17:24:43.009Z"
   },
   {
    "duration": 277,
    "start_time": "2022-06-05T17:24:53.969Z"
   },
   {
    "duration": 266,
    "start_time": "2022-06-05T17:25:07.719Z"
   },
   {
    "duration": 233,
    "start_time": "2022-06-05T17:25:33.057Z"
   },
   {
    "duration": 227,
    "start_time": "2022-06-05T17:26:43.841Z"
   },
   {
    "duration": 280,
    "start_time": "2022-06-05T17:26:56.193Z"
   },
   {
    "duration": 19,
    "start_time": "2022-06-05T17:29:26.928Z"
   },
   {
    "duration": 16,
    "start_time": "2022-06-05T17:29:38.104Z"
   },
   {
    "duration": 15,
    "start_time": "2022-06-05T17:30:11.625Z"
   },
   {
    "duration": 11,
    "start_time": "2022-06-05T17:31:47.449Z"
   },
   {
    "duration": 12,
    "start_time": "2022-06-05T17:31:49.712Z"
   },
   {
    "duration": 20,
    "start_time": "2022-06-05T17:32:14.825Z"
   },
   {
    "duration": 116,
    "start_time": "2022-06-05T17:34:23.256Z"
   },
   {
    "duration": 11,
    "start_time": "2022-06-05T17:34:34.130Z"
   },
   {
    "duration": 52,
    "start_time": "2022-06-05T17:35:05.272Z"
   },
   {
    "duration": 17,
    "start_time": "2022-06-05T17:35:10.703Z"
   },
   {
    "duration": 201,
    "start_time": "2022-06-05T17:36:11.665Z"
   },
   {
    "duration": 180,
    "start_time": "2022-06-05T17:36:35.705Z"
   },
   {
    "duration": 198,
    "start_time": "2022-06-05T17:37:47.946Z"
   },
   {
    "duration": 361,
    "start_time": "2022-06-05T17:38:52.091Z"
   },
   {
    "duration": 389,
    "start_time": "2022-06-05T17:39:05.594Z"
   },
   {
    "duration": 19,
    "start_time": "2022-06-05T17:39:54.921Z"
   },
   {
    "duration": 556,
    "start_time": "2022-06-05T17:40:04.194Z"
   },
   {
    "duration": 28,
    "start_time": "2022-06-05T17:40:29.929Z"
   },
   {
    "duration": 29,
    "start_time": "2022-06-05T17:40:47.027Z"
   },
   {
    "duration": 29,
    "start_time": "2022-06-05T17:41:19.730Z"
   },
   {
    "duration": 21,
    "start_time": "2022-06-05T17:41:43.200Z"
   },
   {
    "duration": 1524,
    "start_time": "2022-06-05T17:42:04.350Z"
   },
   {
    "duration": 258,
    "start_time": "2022-06-05T17:42:05.877Z"
   },
   {
    "duration": 53,
    "start_time": "2022-06-05T17:42:06.137Z"
   },
   {
    "duration": 11,
    "start_time": "2022-06-05T17:42:06.194Z"
   },
   {
    "duration": 33,
    "start_time": "2022-06-05T17:42:06.207Z"
   },
   {
    "duration": 15,
    "start_time": "2022-06-05T17:42:06.242Z"
   },
   {
    "duration": 14,
    "start_time": "2022-06-05T17:42:06.258Z"
   },
   {
    "duration": 737,
    "start_time": "2022-06-05T17:42:06.273Z"
   },
   {
    "duration": 264,
    "start_time": "2022-06-05T17:42:07.013Z"
   },
   {
    "duration": 24,
    "start_time": "2022-06-05T17:42:07.280Z"
   },
   {
    "duration": 276,
    "start_time": "2022-06-05T17:42:07.327Z"
   },
   {
    "duration": 202,
    "start_time": "2022-06-05T17:42:07.605Z"
   },
   {
    "duration": 1,
    "start_time": "2022-06-05T17:42:07.809Z"
   },
   {
    "duration": 0,
    "start_time": "2022-06-05T17:42:07.811Z"
   },
   {
    "duration": 0,
    "start_time": "2022-06-05T17:42:07.812Z"
   },
   {
    "duration": 0,
    "start_time": "2022-06-05T17:42:07.828Z"
   },
   {
    "duration": 0,
    "start_time": "2022-06-05T17:42:07.830Z"
   },
   {
    "duration": 29,
    "start_time": "2022-06-05T17:42:13.874Z"
   },
   {
    "duration": 197,
    "start_time": "2022-06-05T17:42:16.569Z"
   },
   {
    "duration": 231,
    "start_time": "2022-06-05T17:42:36.738Z"
   },
   {
    "duration": 383,
    "start_time": "2022-06-05T17:42:49.662Z"
   },
   {
    "duration": 34,
    "start_time": "2022-06-05T17:44:31.825Z"
   },
   {
    "duration": 327,
    "start_time": "2022-06-05T17:44:37.209Z"
   },
   {
    "duration": 7,
    "start_time": "2022-06-05T17:45:15.889Z"
   },
   {
    "duration": 31,
    "start_time": "2022-06-05T17:45:40.056Z"
   },
   {
    "duration": 38,
    "start_time": "2022-06-05T17:46:31.560Z"
   },
   {
    "duration": 34,
    "start_time": "2022-06-05T17:46:41.041Z"
   },
   {
    "duration": 16,
    "start_time": "2022-06-05T17:46:43.068Z"
   },
   {
    "duration": 23,
    "start_time": "2022-06-05T17:47:09.682Z"
   },
   {
    "duration": 44,
    "start_time": "2022-06-05T17:54:51.216Z"
   },
   {
    "duration": 45,
    "start_time": "2022-06-05T17:55:04.401Z"
   },
   {
    "duration": 23,
    "start_time": "2022-06-05T17:57:49.369Z"
   },
   {
    "duration": 33,
    "start_time": "2022-06-05T17:58:43.367Z"
   },
   {
    "duration": 23,
    "start_time": "2022-06-05T17:59:06.192Z"
   },
   {
    "duration": 31,
    "start_time": "2022-06-05T17:59:11.312Z"
   },
   {
    "duration": 583,
    "start_time": "2022-06-05T17:59:53.632Z"
   },
   {
    "duration": 577,
    "start_time": "2022-06-05T18:00:07.671Z"
   },
   {
    "duration": 10,
    "start_time": "2022-06-05T18:01:11.640Z"
   },
   {
    "duration": 297,
    "start_time": "2022-06-05T18:01:31.048Z"
   },
   {
    "duration": 58,
    "start_time": "2022-06-05T18:18:17.921Z"
   },
   {
    "duration": 3110,
    "start_time": "2022-06-05T18:18:35.058Z"
   },
   {
    "duration": 84,
    "start_time": "2022-06-05T18:56:50.923Z"
   },
   {
    "duration": 436,
    "start_time": "2022-06-05T18:57:28.580Z"
   },
   {
    "duration": 39,
    "start_time": "2022-06-05T18:58:07.302Z"
   },
   {
    "duration": 478,
    "start_time": "2022-06-05T19:00:02.230Z"
   },
   {
    "duration": 867,
    "start_time": "2022-06-05T19:00:10.723Z"
   },
   {
    "duration": 487,
    "start_time": "2022-06-05T19:00:30.491Z"
   },
   {
    "duration": 49,
    "start_time": "2022-06-05T19:01:06.763Z"
   },
   {
    "duration": 37,
    "start_time": "2022-06-05T19:02:26.062Z"
   },
   {
    "duration": 687,
    "start_time": "2022-06-05T19:02:37.764Z"
   },
   {
    "duration": 267,
    "start_time": "2022-06-05T19:03:31.754Z"
   },
   {
    "duration": 19,
    "start_time": "2022-06-05T19:04:22.524Z"
   },
   {
    "duration": 24,
    "start_time": "2022-06-05T19:04:57.002Z"
   },
   {
    "duration": 2931,
    "start_time": "2022-06-05T19:05:05.459Z"
   },
   {
    "duration": 20,
    "start_time": "2022-06-05T19:05:31.187Z"
   },
   {
    "duration": 1257,
    "start_time": "2022-06-05T19:05:53.275Z"
   },
   {
    "duration": 69,
    "start_time": "2022-06-05T19:07:42.853Z"
   },
   {
    "duration": 750,
    "start_time": "2022-06-05T19:07:48.251Z"
   },
   {
    "duration": 153,
    "start_time": "2022-06-05T19:10:58.300Z"
   },
   {
    "duration": 108,
    "start_time": "2022-06-05T19:11:02.486Z"
   },
   {
    "duration": 350,
    "start_time": "2022-06-05T19:12:25.651Z"
   },
   {
    "duration": 488,
    "start_time": "2022-06-05T19:13:11.485Z"
   },
   {
    "duration": 414,
    "start_time": "2022-06-05T19:13:15.219Z"
   },
   {
    "duration": 397,
    "start_time": "2022-06-05T19:13:28.995Z"
   },
   {
    "duration": 408,
    "start_time": "2022-06-05T19:13:32.595Z"
   },
   {
    "duration": 566,
    "start_time": "2022-06-05T19:13:52.387Z"
   },
   {
    "duration": 301,
    "start_time": "2022-06-05T19:18:46.845Z"
   },
   {
    "duration": 304,
    "start_time": "2022-06-05T19:19:44.157Z"
   },
   {
    "duration": 373,
    "start_time": "2022-06-05T19:21:04.958Z"
   },
   {
    "duration": 15,
    "start_time": "2022-06-05T19:21:31.220Z"
   },
   {
    "duration": 323,
    "start_time": "2022-06-05T19:21:59.518Z"
   },
   {
    "duration": 40,
    "start_time": "2022-06-05T19:23:27.785Z"
   },
   {
    "duration": 385,
    "start_time": "2022-06-05T19:23:39.190Z"
   },
   {
    "duration": 343,
    "start_time": "2022-06-05T19:23:49.844Z"
   },
   {
    "duration": 1598,
    "start_time": "2022-06-05T19:24:46.469Z"
   },
   {
    "duration": 448,
    "start_time": "2022-06-05T19:25:22.041Z"
   },
   {
    "duration": 456,
    "start_time": "2022-06-05T19:25:30.644Z"
   },
   {
    "duration": 367,
    "start_time": "2022-06-05T19:25:35.501Z"
   },
   {
    "duration": 367,
    "start_time": "2022-06-05T19:25:43.772Z"
   },
   {
    "duration": 409,
    "start_time": "2022-06-05T19:25:49.165Z"
   },
   {
    "duration": 412,
    "start_time": "2022-06-05T19:25:59.557Z"
   },
   {
    "duration": 366,
    "start_time": "2022-06-05T19:26:05.241Z"
   },
   {
    "duration": 403,
    "start_time": "2022-06-05T19:26:16.945Z"
   },
   {
    "duration": 414,
    "start_time": "2022-06-05T19:26:22.389Z"
   },
   {
    "duration": 375,
    "start_time": "2022-06-05T19:26:29.672Z"
   },
   {
    "duration": 358,
    "start_time": "2022-06-05T19:26:33.685Z"
   },
   {
    "duration": 682,
    "start_time": "2022-06-05T19:26:44.504Z"
   },
   {
    "duration": 401,
    "start_time": "2022-06-05T19:26:51.085Z"
   },
   {
    "duration": 485,
    "start_time": "2022-06-05T19:27:43.146Z"
   },
   {
    "duration": 522,
    "start_time": "2022-06-05T19:27:47.845Z"
   },
   {
    "duration": 497,
    "start_time": "2022-06-05T19:28:06.310Z"
   },
   {
    "duration": 522,
    "start_time": "2022-06-05T19:28:14.146Z"
   },
   {
    "duration": 497,
    "start_time": "2022-06-05T19:28:23.686Z"
   },
   {
    "duration": 525,
    "start_time": "2022-06-05T19:28:46.752Z"
   },
   {
    "duration": 597,
    "start_time": "2022-06-05T19:29:49.896Z"
   },
   {
    "duration": 651,
    "start_time": "2022-06-05T19:30:01.652Z"
   },
   {
    "duration": 489,
    "start_time": "2022-06-05T19:30:11.958Z"
   },
   {
    "duration": 559,
    "start_time": "2022-06-05T19:30:16.946Z"
   },
   {
    "duration": 528,
    "start_time": "2022-06-05T19:30:27.745Z"
   },
   {
    "duration": 13,
    "start_time": "2022-06-05T19:37:14.913Z"
   },
   {
    "duration": 97,
    "start_time": "2022-06-05T19:37:36.321Z"
   },
   {
    "duration": 114,
    "start_time": "2022-06-05T19:38:01.549Z"
   },
   {
    "duration": 166,
    "start_time": "2022-06-05T19:38:04.411Z"
   },
   {
    "duration": 36,
    "start_time": "2022-06-05T19:38:53.346Z"
   },
   {
    "duration": 48,
    "start_time": "2022-06-05T19:39:05.143Z"
   },
   {
    "duration": 107,
    "start_time": "2022-06-05T19:39:44.060Z"
   },
   {
    "duration": 123,
    "start_time": "2022-06-05T19:40:02.689Z"
   },
   {
    "duration": 105,
    "start_time": "2022-06-05T19:40:05.600Z"
   },
   {
    "duration": 198,
    "start_time": "2022-06-05T19:41:19.955Z"
   },
   {
    "duration": 192,
    "start_time": "2022-06-05T19:41:22.706Z"
   },
   {
    "duration": 9,
    "start_time": "2022-06-05T19:42:25.395Z"
   },
   {
    "duration": 273,
    "start_time": "2022-06-05T19:42:29.986Z"
   },
   {
    "duration": 173,
    "start_time": "2022-06-05T19:43:51.994Z"
   },
   {
    "duration": 149,
    "start_time": "2022-06-05T19:44:38.044Z"
   },
   {
    "duration": 190,
    "start_time": "2022-06-05T19:46:03.216Z"
   },
   {
    "duration": 155,
    "start_time": "2022-06-05T19:46:39.714Z"
   },
   {
    "duration": 218,
    "start_time": "2022-06-05T19:47:56.298Z"
   },
   {
    "duration": 161,
    "start_time": "2022-06-05T19:48:00.815Z"
   },
   {
    "duration": 101,
    "start_time": "2022-06-05T19:48:17.908Z"
   },
   {
    "duration": 179,
    "start_time": "2022-06-05T19:49:38.565Z"
   },
   {
    "duration": 177,
    "start_time": "2022-06-05T19:49:44.614Z"
   },
   {
    "duration": 704,
    "start_time": "2022-06-05T19:55:00.198Z"
   },
   {
    "duration": 3,
    "start_time": "2022-06-05T19:56:46.347Z"
   },
   {
    "duration": 1472,
    "start_time": "2022-06-05T20:17:08.847Z"
   },
   {
    "duration": 1727,
    "start_time": "2022-06-05T20:18:12.680Z"
   },
   {
    "duration": 52,
    "start_time": "2022-06-06T16:30:35.411Z"
   },
   {
    "duration": 1372,
    "start_time": "2022-06-06T16:30:49.171Z"
   },
   {
    "duration": 283,
    "start_time": "2022-06-06T16:30:50.545Z"
   },
   {
    "duration": 41,
    "start_time": "2022-06-06T16:30:50.829Z"
   },
   {
    "duration": 6,
    "start_time": "2022-06-06T16:30:50.872Z"
   },
   {
    "duration": 39,
    "start_time": "2022-06-06T16:30:50.880Z"
   },
   {
    "duration": 36,
    "start_time": "2022-06-06T16:30:50.920Z"
   },
   {
    "duration": 27,
    "start_time": "2022-06-06T16:30:50.957Z"
   },
   {
    "duration": 604,
    "start_time": "2022-06-06T16:30:50.986Z"
   },
   {
    "duration": 241,
    "start_time": "2022-06-06T16:30:51.592Z"
   },
   {
    "duration": 17,
    "start_time": "2022-06-06T16:30:51.835Z"
   },
   {
    "duration": 314,
    "start_time": "2022-06-06T16:30:51.853Z"
   },
   {
    "duration": 13,
    "start_time": "2022-06-06T16:30:52.169Z"
   },
   {
    "duration": 243,
    "start_time": "2022-06-06T16:30:52.184Z"
   },
   {
    "duration": 86,
    "start_time": "2022-06-06T16:30:52.428Z"
   },
   {
    "duration": 344,
    "start_time": "2022-06-06T16:30:52.515Z"
   },
   {
    "duration": 27,
    "start_time": "2022-06-06T16:30:52.861Z"
   },
   {
    "duration": 2,
    "start_time": "2022-06-06T16:30:52.890Z"
   },
   {
    "duration": 554,
    "start_time": "2022-06-06T16:30:52.894Z"
   },
   {
    "duration": 108,
    "start_time": "2022-06-06T16:30:53.450Z"
   },
   {
    "duration": 1472,
    "start_time": "2022-06-06T16:30:53.560Z"
   },
   {
    "duration": 36,
    "start_time": "2022-06-06T16:30:55.034Z"
   },
   {
    "duration": 829,
    "start_time": "2022-06-06T16:31:16.710Z"
   },
   {
    "duration": 1397,
    "start_time": "2022-06-06T16:31:29.254Z"
   },
   {
    "duration": 10,
    "start_time": "2022-06-06T16:32:40.088Z"
   },
   {
    "duration": 34,
    "start_time": "2022-06-06T16:32:47.355Z"
   },
   {
    "duration": 469,
    "start_time": "2022-06-06T16:34:53.642Z"
   },
   {
    "duration": 35,
    "start_time": "2022-06-06T16:35:52.457Z"
   },
   {
    "duration": 11,
    "start_time": "2022-06-06T16:35:55.172Z"
   },
   {
    "duration": 125,
    "start_time": "2022-06-06T16:37:40.105Z"
   },
   {
    "duration": 38,
    "start_time": "2022-06-06T16:38:50.774Z"
   },
   {
    "duration": 10,
    "start_time": "2022-06-06T16:38:53.371Z"
   },
   {
    "duration": 15,
    "start_time": "2022-06-06T16:38:58.055Z"
   },
   {
    "duration": 8478,
    "start_time": "2022-06-06T16:39:59.565Z"
   },
   {
    "duration": 14,
    "start_time": "2022-06-06T16:41:01.451Z"
   },
   {
    "duration": 10,
    "start_time": "2022-06-06T16:41:45.242Z"
   },
   {
    "duration": 148,
    "start_time": "2022-06-06T16:41:52.968Z"
   },
   {
    "duration": 5,
    "start_time": "2022-06-06T16:41:58.743Z"
   },
   {
    "duration": 408,
    "start_time": "2022-06-06T16:44:01.567Z"
   },
   {
    "duration": 5,
    "start_time": "2022-06-06T16:44:09.068Z"
   },
   {
    "duration": 13,
    "start_time": "2022-06-06T16:45:04.028Z"
   },
   {
    "duration": 81,
    "start_time": "2022-06-06T16:45:23.727Z"
   },
   {
    "duration": 84,
    "start_time": "2022-06-06T16:45:27.936Z"
   },
   {
    "duration": 1183,
    "start_time": "2022-06-06T16:45:38.432Z"
   },
   {
    "duration": 67,
    "start_time": "2022-06-06T16:45:39.617Z"
   },
   {
    "duration": 40,
    "start_time": "2022-06-06T16:45:39.685Z"
   },
   {
    "duration": 5,
    "start_time": "2022-06-06T16:45:39.727Z"
   },
   {
    "duration": 11,
    "start_time": "2022-06-06T16:45:39.734Z"
   },
   {
    "duration": 10,
    "start_time": "2022-06-06T16:45:39.747Z"
   },
   {
    "duration": 9,
    "start_time": "2022-06-06T16:45:39.758Z"
   },
   {
    "duration": 578,
    "start_time": "2022-06-06T16:45:39.768Z"
   },
   {
    "duration": 216,
    "start_time": "2022-06-06T16:45:40.348Z"
   },
   {
    "duration": 16,
    "start_time": "2022-06-06T16:45:40.567Z"
   },
   {
    "duration": 293,
    "start_time": "2022-06-06T16:45:40.584Z"
   },
   {
    "duration": 20,
    "start_time": "2022-06-06T16:45:40.879Z"
   },
   {
    "duration": 248,
    "start_time": "2022-06-06T16:45:40.901Z"
   },
   {
    "duration": 94,
    "start_time": "2022-06-06T16:45:41.151Z"
   },
   {
    "duration": 319,
    "start_time": "2022-06-06T16:45:41.247Z"
   },
   {
    "duration": 26,
    "start_time": "2022-06-06T16:45:41.568Z"
   },
   {
    "duration": 3,
    "start_time": "2022-06-06T16:45:41.596Z"
   },
   {
    "duration": 535,
    "start_time": "2022-06-06T16:45:41.600Z"
   },
   {
    "duration": 94,
    "start_time": "2022-06-06T16:45:42.136Z"
   },
   {
    "duration": 890,
    "start_time": "2022-06-06T16:45:42.231Z"
   },
   {
    "duration": 36,
    "start_time": "2022-06-06T16:45:43.123Z"
   },
   {
    "duration": 10,
    "start_time": "2022-06-06T16:45:43.161Z"
   },
   {
    "duration": 16,
    "start_time": "2022-06-06T16:45:43.173Z"
   },
   {
    "duration": 13,
    "start_time": "2022-06-06T16:45:43.191Z"
   },
   {
    "duration": 28,
    "start_time": "2022-06-06T16:45:43.205Z"
   },
   {
    "duration": 8,
    "start_time": "2022-06-06T16:46:09.905Z"
   },
   {
    "duration": 111,
    "start_time": "2022-06-06T16:46:54.266Z"
   },
   {
    "duration": 14,
    "start_time": "2022-06-06T16:46:57.956Z"
   },
   {
    "duration": 4,
    "start_time": "2022-06-06T16:47:05.258Z"
   },
   {
    "duration": 1234,
    "start_time": "2022-06-06T16:47:30.307Z"
   },
   {
    "duration": 69,
    "start_time": "2022-06-06T16:47:31.543Z"
   },
   {
    "duration": 42,
    "start_time": "2022-06-06T16:47:31.614Z"
   },
   {
    "duration": 6,
    "start_time": "2022-06-06T16:47:31.658Z"
   },
   {
    "duration": 19,
    "start_time": "2022-06-06T16:47:31.666Z"
   },
   {
    "duration": 9,
    "start_time": "2022-06-06T16:47:31.686Z"
   },
   {
    "duration": 12,
    "start_time": "2022-06-06T16:47:31.696Z"
   },
   {
    "duration": 616,
    "start_time": "2022-06-06T16:47:31.710Z"
   },
   {
    "duration": 220,
    "start_time": "2022-06-06T16:47:32.328Z"
   },
   {
    "duration": 17,
    "start_time": "2022-06-06T16:47:32.550Z"
   },
   {
    "duration": 312,
    "start_time": "2022-06-06T16:47:32.568Z"
   },
   {
    "duration": 14,
    "start_time": "2022-06-06T16:47:32.882Z"
   },
   {
    "duration": 257,
    "start_time": "2022-06-06T16:47:32.897Z"
   },
   {
    "duration": 94,
    "start_time": "2022-06-06T16:47:33.156Z"
   },
   {
    "duration": 317,
    "start_time": "2022-06-06T16:47:33.251Z"
   },
   {
    "duration": 27,
    "start_time": "2022-06-06T16:47:33.570Z"
   },
   {
    "duration": 3,
    "start_time": "2022-06-06T16:47:33.598Z"
   },
   {
    "duration": 544,
    "start_time": "2022-06-06T16:47:33.602Z"
   },
   {
    "duration": 101,
    "start_time": "2022-06-06T16:47:34.148Z"
   },
   {
    "duration": 3,
    "start_time": "2022-06-06T16:47:34.251Z"
   },
   {
    "duration": 1113,
    "start_time": "2022-06-06T16:47:34.255Z"
   },
   {
    "duration": 38,
    "start_time": "2022-06-06T16:47:35.370Z"
   },
   {
    "duration": 10,
    "start_time": "2022-06-06T16:47:35.410Z"
   },
   {
    "duration": 16,
    "start_time": "2022-06-06T16:47:35.421Z"
   },
   {
    "duration": 4,
    "start_time": "2022-06-06T16:47:35.438Z"
   },
   {
    "duration": 15,
    "start_time": "2022-06-06T16:47:35.443Z"
   },
   {
    "duration": 10,
    "start_time": "2022-06-06T16:47:35.459Z"
   },
   {
    "duration": 18,
    "start_time": "2022-06-06T16:48:03.866Z"
   },
   {
    "duration": 4,
    "start_time": "2022-06-06T16:48:06.842Z"
   },
   {
    "duration": 130,
    "start_time": "2022-06-06T16:48:08.092Z"
   },
   {
    "duration": 1123,
    "start_time": "2022-06-06T16:48:21.338Z"
   },
   {
    "duration": 73,
    "start_time": "2022-06-06T16:48:22.463Z"
   },
   {
    "duration": 39,
    "start_time": "2022-06-06T16:48:22.538Z"
   },
   {
    "duration": 6,
    "start_time": "2022-06-06T16:48:22.579Z"
   },
   {
    "duration": 14,
    "start_time": "2022-06-06T16:48:22.586Z"
   },
   {
    "duration": 8,
    "start_time": "2022-06-06T16:48:22.602Z"
   },
   {
    "duration": 6,
    "start_time": "2022-06-06T16:48:22.627Z"
   },
   {
    "duration": 663,
    "start_time": "2022-06-06T16:48:22.635Z"
   },
   {
    "duration": 249,
    "start_time": "2022-06-06T16:48:23.300Z"
   },
   {
    "duration": 17,
    "start_time": "2022-06-06T16:48:23.552Z"
   },
   {
    "duration": 332,
    "start_time": "2022-06-06T16:48:23.570Z"
   },
   {
    "duration": 25,
    "start_time": "2022-06-06T16:48:23.904Z"
   },
   {
    "duration": 232,
    "start_time": "2022-06-06T16:48:23.930Z"
   },
   {
    "duration": 96,
    "start_time": "2022-06-06T16:48:24.164Z"
   },
   {
    "duration": 327,
    "start_time": "2022-06-06T16:48:24.261Z"
   },
   {
    "duration": 38,
    "start_time": "2022-06-06T16:48:24.590Z"
   },
   {
    "duration": 2,
    "start_time": "2022-06-06T16:48:24.630Z"
   },
   {
    "duration": 514,
    "start_time": "2022-06-06T16:48:24.634Z"
   },
   {
    "duration": 107,
    "start_time": "2022-06-06T16:48:25.149Z"
   },
   {
    "duration": 4,
    "start_time": "2022-06-06T16:48:25.258Z"
   },
   {
    "duration": 1001,
    "start_time": "2022-06-06T16:48:25.264Z"
   },
   {
    "duration": 46,
    "start_time": "2022-06-06T16:48:26.267Z"
   },
   {
    "duration": 13,
    "start_time": "2022-06-06T16:48:26.315Z"
   },
   {
    "duration": 21,
    "start_time": "2022-06-06T16:48:26.329Z"
   },
   {
    "duration": 4,
    "start_time": "2022-06-06T16:48:26.352Z"
   },
   {
    "duration": 25,
    "start_time": "2022-06-06T16:48:26.358Z"
   },
   {
    "duration": 31,
    "start_time": "2022-06-06T16:48:26.385Z"
   },
   {
    "duration": 83,
    "start_time": "2022-06-06T16:56:43.426Z"
   },
   {
    "duration": 95,
    "start_time": "2022-06-06T16:56:59.251Z"
   },
   {
    "duration": 36,
    "start_time": "2022-06-06T16:57:15.739Z"
   },
   {
    "duration": 16,
    "start_time": "2022-06-06T16:57:21.419Z"
   },
   {
    "duration": 422,
    "start_time": "2022-06-06T16:57:24.268Z"
   },
   {
    "duration": 1087,
    "start_time": "2022-06-06T16:57:35.276Z"
   },
   {
    "duration": 72,
    "start_time": "2022-06-06T16:57:36.366Z"
   },
   {
    "duration": 40,
    "start_time": "2022-06-06T16:57:36.440Z"
   },
   {
    "duration": 6,
    "start_time": "2022-06-06T16:57:36.482Z"
   },
   {
    "duration": 12,
    "start_time": "2022-06-06T16:57:36.489Z"
   },
   {
    "duration": 26,
    "start_time": "2022-06-06T16:57:36.502Z"
   },
   {
    "duration": 6,
    "start_time": "2022-06-06T16:57:36.529Z"
   },
   {
    "duration": 529,
    "start_time": "2022-06-06T16:57:36.537Z"
   },
   {
    "duration": 205,
    "start_time": "2022-06-06T16:57:37.068Z"
   },
   {
    "duration": 68,
    "start_time": "2022-06-06T16:57:37.276Z"
   },
   {
    "duration": 291,
    "start_time": "2022-06-06T16:57:37.345Z"
   },
   {
    "duration": 14,
    "start_time": "2022-06-06T16:57:37.638Z"
   },
   {
    "duration": 240,
    "start_time": "2022-06-06T16:57:37.653Z"
   },
   {
    "duration": 96,
    "start_time": "2022-06-06T16:57:37.894Z"
   },
   {
    "duration": 350,
    "start_time": "2022-06-06T16:57:37.991Z"
   },
   {
    "duration": 30,
    "start_time": "2022-06-06T16:57:38.343Z"
   },
   {
    "duration": 2,
    "start_time": "2022-06-06T16:57:38.375Z"
   },
   {
    "duration": 544,
    "start_time": "2022-06-06T16:57:38.379Z"
   },
   {
    "duration": 103,
    "start_time": "2022-06-06T16:57:38.926Z"
   },
   {
    "duration": 3,
    "start_time": "2022-06-06T16:57:39.031Z"
   },
   {
    "duration": 999,
    "start_time": "2022-06-06T16:57:39.036Z"
   },
   {
    "duration": 36,
    "start_time": "2022-06-06T16:57:40.037Z"
   },
   {
    "duration": 9,
    "start_time": "2022-06-06T16:57:40.074Z"
   },
   {
    "duration": 19,
    "start_time": "2022-06-06T16:57:40.084Z"
   },
   {
    "duration": 3,
    "start_time": "2022-06-06T16:57:40.104Z"
   },
   {
    "duration": 28,
    "start_time": "2022-06-06T16:57:40.109Z"
   },
   {
    "duration": 10,
    "start_time": "2022-06-06T16:57:40.138Z"
   },
   {
    "duration": 11,
    "start_time": "2022-06-06T16:58:33.903Z"
   },
   {
    "duration": 14,
    "start_time": "2022-06-06T17:07:12.190Z"
   },
   {
    "duration": 12,
    "start_time": "2022-06-06T17:10:47.487Z"
   },
   {
    "duration": 132,
    "start_time": "2022-06-06T17:11:50.236Z"
   },
   {
    "duration": 16,
    "start_time": "2022-06-06T17:12:01.249Z"
   },
   {
    "duration": 26,
    "start_time": "2022-06-06T17:12:12.197Z"
   },
   {
    "duration": 22,
    "start_time": "2022-06-06T17:12:15.203Z"
   },
   {
    "duration": 4,
    "start_time": "2022-06-06T17:13:45.714Z"
   },
   {
    "duration": 19,
    "start_time": "2022-06-06T17:14:05.618Z"
   },
   {
    "duration": 22,
    "start_time": "2022-06-06T17:14:17.002Z"
   },
   {
    "duration": 23,
    "start_time": "2022-06-06T17:14:24.645Z"
   },
   {
    "duration": 18,
    "start_time": "2022-06-06T17:15:40.955Z"
   },
   {
    "duration": 15,
    "start_time": "2022-06-06T17:22:50.408Z"
   },
   {
    "duration": 12,
    "start_time": "2022-06-06T17:23:00.391Z"
   },
   {
    "duration": 10,
    "start_time": "2022-06-06T17:23:14.407Z"
   },
   {
    "duration": 13,
    "start_time": "2022-06-06T17:23:19.053Z"
   },
   {
    "duration": 14,
    "start_time": "2022-06-06T17:25:03.193Z"
   },
   {
    "duration": 256,
    "start_time": "2022-06-06T17:25:24.791Z"
   },
   {
    "duration": 19,
    "start_time": "2022-06-06T17:25:52.650Z"
   },
   {
    "duration": 250,
    "start_time": "2022-06-06T17:25:56.152Z"
   },
   {
    "duration": 16,
    "start_time": "2022-06-06T17:27:57.990Z"
   },
   {
    "duration": 12,
    "start_time": "2022-06-06T17:28:23.917Z"
   },
   {
    "duration": 286,
    "start_time": "2022-06-06T17:29:01.155Z"
   },
   {
    "duration": 19,
    "start_time": "2022-06-06T17:29:11.357Z"
   },
   {
    "duration": 22,
    "start_time": "2022-06-06T17:29:33.913Z"
   },
   {
    "duration": 19,
    "start_time": "2022-06-06T17:30:25.697Z"
   },
   {
    "duration": 24,
    "start_time": "2022-06-06T17:30:41.992Z"
   },
   {
    "duration": 20,
    "start_time": "2022-06-06T17:32:25.094Z"
   },
   {
    "duration": 18,
    "start_time": "2022-06-06T17:35:25.296Z"
   },
   {
    "duration": 11,
    "start_time": "2022-06-06T17:35:47.251Z"
   },
   {
    "duration": 746,
    "start_time": "2022-06-06T17:36:01.451Z"
   },
   {
    "duration": 21,
    "start_time": "2022-06-06T17:36:52.510Z"
   },
   {
    "duration": 710,
    "start_time": "2022-06-06T17:36:58.085Z"
   },
   {
    "duration": 13,
    "start_time": "2022-06-06T17:37:35.292Z"
   },
   {
    "duration": 12,
    "start_time": "2022-06-06T17:37:38.381Z"
   },
   {
    "duration": 24,
    "start_time": "2022-06-06T17:37:49.397Z"
   },
   {
    "duration": 342,
    "start_time": "2022-06-06T17:40:08.201Z"
   },
   {
    "duration": 13,
    "start_time": "2022-06-06T17:41:31.613Z"
   },
   {
    "duration": 29,
    "start_time": "2022-06-06T17:41:43.845Z"
   },
   {
    "duration": 396,
    "start_time": "2022-06-06T17:41:47.491Z"
   },
   {
    "duration": 319,
    "start_time": "2022-06-06T17:41:55.565Z"
   },
   {
    "duration": 360,
    "start_time": "2022-06-06T17:42:37.956Z"
   },
   {
    "duration": 374,
    "start_time": "2022-06-06T17:42:57.658Z"
   },
   {
    "duration": 393,
    "start_time": "2022-06-06T17:43:54.142Z"
   },
   {
    "duration": 386,
    "start_time": "2022-06-06T17:44:01.119Z"
   },
   {
    "duration": 368,
    "start_time": "2022-06-06T17:44:20.902Z"
   },
   {
    "duration": 12,
    "start_time": "2022-06-06T17:47:08.390Z"
   },
   {
    "duration": 678,
    "start_time": "2022-06-06T17:48:11.978Z"
   },
   {
    "duration": 15,
    "start_time": "2022-06-06T17:48:21.898Z"
   },
   {
    "duration": 200,
    "start_time": "2022-06-06T17:48:55.168Z"
   },
   {
    "duration": 15,
    "start_time": "2022-06-06T17:49:04.552Z"
   },
   {
    "duration": 16,
    "start_time": "2022-06-06T17:49:14.627Z"
   },
   {
    "duration": 15,
    "start_time": "2022-06-06T17:49:17.690Z"
   },
   {
    "duration": 9,
    "start_time": "2022-06-06T17:52:23.198Z"
   },
   {
    "duration": 9,
    "start_time": "2022-06-06T17:53:10.186Z"
   },
   {
    "duration": 4,
    "start_time": "2022-06-06T17:55:28.111Z"
   },
   {
    "duration": 4,
    "start_time": "2022-06-06T17:56:13.961Z"
   },
   {
    "duration": 419,
    "start_time": "2022-06-06T17:57:10.686Z"
   },
   {
    "duration": 20,
    "start_time": "2022-06-06T18:03:09.775Z"
   },
   {
    "duration": 5,
    "start_time": "2022-06-06T18:03:31.448Z"
   },
   {
    "duration": 19,
    "start_time": "2022-06-06T18:06:23.555Z"
   },
   {
    "duration": 21,
    "start_time": "2022-06-06T18:07:19.146Z"
   },
   {
    "duration": 16,
    "start_time": "2022-06-06T18:07:37.092Z"
   },
   {
    "duration": 491,
    "start_time": "2022-06-06T18:07:43.515Z"
   },
   {
    "duration": 512,
    "start_time": "2022-06-06T18:09:31.196Z"
   },
   {
    "duration": 4,
    "start_time": "2022-06-06T18:19:41.819Z"
   },
   {
    "duration": 39,
    "start_time": "2022-06-06T18:19:43.892Z"
   },
   {
    "duration": 3,
    "start_time": "2022-06-06T18:19:44.441Z"
   },
   {
    "duration": 4,
    "start_time": "2022-06-06T18:19:54.018Z"
   },
   {
    "duration": 10,
    "start_time": "2022-06-06T18:23:27.403Z"
   },
   {
    "duration": 314,
    "start_time": "2022-06-06T18:23:37.955Z"
   },
   {
    "duration": 21,
    "start_time": "2022-06-06T18:23:47.699Z"
   },
   {
    "duration": 7,
    "start_time": "2022-06-06T18:23:53.612Z"
   },
   {
    "duration": 69,
    "start_time": "2022-06-06T18:23:58.634Z"
   },
   {
    "duration": 12,
    "start_time": "2022-06-06T18:25:27.182Z"
   },
   {
    "duration": 6,
    "start_time": "2022-06-06T18:25:36.606Z"
   },
   {
    "duration": 7,
    "start_time": "2022-06-06T18:26:07.219Z"
   },
   {
    "duration": 11,
    "start_time": "2022-06-06T18:26:33.259Z"
   },
   {
    "duration": 647,
    "start_time": "2022-06-06T18:30:22.797Z"
   },
   {
    "duration": 536,
    "start_time": "2022-06-06T18:31:35.745Z"
   },
   {
    "duration": 538,
    "start_time": "2022-06-06T18:31:39.866Z"
   },
   {
    "duration": 18,
    "start_time": "2022-06-06T18:33:18.006Z"
   },
   {
    "duration": 679,
    "start_time": "2022-06-06T18:33:26.600Z"
   },
   {
    "duration": 13,
    "start_time": "2022-06-06T18:33:53.842Z"
   },
   {
    "duration": 541,
    "start_time": "2022-06-06T18:33:54.653Z"
   },
   {
    "duration": 13,
    "start_time": "2022-06-06T18:35:03.773Z"
   },
   {
    "duration": 320,
    "start_time": "2022-06-06T18:35:12.909Z"
   },
   {
    "duration": 380,
    "start_time": "2022-06-06T18:35:26.947Z"
   },
   {
    "duration": 12,
    "start_time": "2022-06-06T18:36:46.369Z"
   },
   {
    "duration": 12,
    "start_time": "2022-06-06T18:36:54.632Z"
   },
   {
    "duration": 15,
    "start_time": "2022-06-06T18:37:22.124Z"
   },
   {
    "duration": 12,
    "start_time": "2022-06-06T18:37:33.702Z"
   },
   {
    "duration": 13,
    "start_time": "2022-06-06T18:37:54.535Z"
   },
   {
    "duration": 7,
    "start_time": "2022-06-06T18:38:46.052Z"
   },
   {
    "duration": 98,
    "start_time": "2022-06-06T18:38:52.061Z"
   },
   {
    "duration": 1217,
    "start_time": "2022-06-06T18:39:15.258Z"
   },
   {
    "duration": 70,
    "start_time": "2022-06-06T18:39:16.478Z"
   },
   {
    "duration": 44,
    "start_time": "2022-06-06T18:39:16.550Z"
   },
   {
    "duration": 6,
    "start_time": "2022-06-06T18:39:16.596Z"
   },
   {
    "duration": 34,
    "start_time": "2022-06-06T18:39:16.604Z"
   },
   {
    "duration": 12,
    "start_time": "2022-06-06T18:39:16.640Z"
   },
   {
    "duration": 7,
    "start_time": "2022-06-06T18:39:16.654Z"
   },
   {
    "duration": 601,
    "start_time": "2022-06-06T18:39:16.662Z"
   },
   {
    "duration": 200,
    "start_time": "2022-06-06T18:39:17.264Z"
   },
   {
    "duration": 74,
    "start_time": "2022-06-06T18:39:17.467Z"
   },
   {
    "duration": 319,
    "start_time": "2022-06-06T18:39:17.543Z"
   },
   {
    "duration": 15,
    "start_time": "2022-06-06T18:39:17.863Z"
   },
   {
    "duration": 247,
    "start_time": "2022-06-06T18:39:17.880Z"
   },
   {
    "duration": 88,
    "start_time": "2022-06-06T18:39:18.128Z"
   },
   {
    "duration": 333,
    "start_time": "2022-06-06T18:39:18.226Z"
   },
   {
    "duration": 29,
    "start_time": "2022-06-06T18:39:18.561Z"
   },
   {
    "duration": 3,
    "start_time": "2022-06-06T18:39:18.591Z"
   },
   {
    "duration": 572,
    "start_time": "2022-06-06T18:39:18.596Z"
   },
   {
    "duration": 106,
    "start_time": "2022-06-06T18:39:19.169Z"
   },
   {
    "duration": 3,
    "start_time": "2022-06-06T18:39:19.277Z"
   },
   {
    "duration": 8,
    "start_time": "2022-06-06T18:39:19.282Z"
   },
   {
    "duration": 1019,
    "start_time": "2022-06-06T18:39:19.292Z"
   },
   {
    "duration": 37,
    "start_time": "2022-06-06T18:39:20.312Z"
   },
   {
    "duration": 9,
    "start_time": "2022-06-06T18:39:20.351Z"
   },
   {
    "duration": 17,
    "start_time": "2022-06-06T18:39:20.361Z"
   },
   {
    "duration": 5,
    "start_time": "2022-06-06T18:39:20.380Z"
   },
   {
    "duration": 16,
    "start_time": "2022-06-06T18:39:20.386Z"
   },
   {
    "duration": 32,
    "start_time": "2022-06-06T18:39:20.405Z"
   },
   {
    "duration": 20,
    "start_time": "2022-06-06T18:39:20.439Z"
   },
   {
    "duration": 25,
    "start_time": "2022-06-06T18:39:20.460Z"
   },
   {
    "duration": 397,
    "start_time": "2022-06-06T18:39:20.487Z"
   },
   {
    "duration": 14,
    "start_time": "2022-06-06T18:39:20.886Z"
   },
   {
    "duration": 6,
    "start_time": "2022-06-06T18:39:20.902Z"
   },
   {
    "duration": 150,
    "start_time": "2022-06-06T18:39:20.910Z"
   },
   {
    "duration": 0,
    "start_time": "2022-06-06T18:39:21.062Z"
   },
   {
    "duration": 0,
    "start_time": "2022-06-06T18:39:21.063Z"
   },
   {
    "duration": 0,
    "start_time": "2022-06-06T18:39:21.064Z"
   },
   {
    "duration": 0,
    "start_time": "2022-06-06T18:39:21.065Z"
   },
   {
    "duration": 0,
    "start_time": "2022-06-06T18:39:21.066Z"
   },
   {
    "duration": 16,
    "start_time": "2022-06-06T18:39:24.804Z"
   },
   {
    "duration": 4,
    "start_time": "2022-06-06T18:39:25.474Z"
   },
   {
    "duration": 66,
    "start_time": "2022-06-06T18:39:26.211Z"
   },
   {
    "duration": 10,
    "start_time": "2022-06-06T18:39:28.303Z"
   },
   {
    "duration": 483,
    "start_time": "2022-06-06T18:39:29.984Z"
   },
   {
    "duration": 12,
    "start_time": "2022-06-06T18:42:42.678Z"
   },
   {
    "duration": 12,
    "start_time": "2022-06-06T18:42:52.157Z"
   },
   {
    "duration": 402,
    "start_time": "2022-06-06T18:47:26.376Z"
   },
   {
    "duration": 372,
    "start_time": "2022-06-06T18:47:51.199Z"
   },
   {
    "duration": 342,
    "start_time": "2022-06-06T18:48:27.426Z"
   },
   {
    "duration": 338,
    "start_time": "2022-06-06T18:49:48.265Z"
   },
   {
    "duration": 3,
    "start_time": "2022-06-06T18:52:01.392Z"
   },
   {
    "duration": 386,
    "start_time": "2022-06-06T18:57:12.944Z"
   },
   {
    "duration": 368,
    "start_time": "2022-06-06T18:57:29.415Z"
   },
   {
    "duration": 492,
    "start_time": "2022-06-06T18:59:45.624Z"
   },
   {
    "duration": 366,
    "start_time": "2022-06-06T19:00:08.480Z"
   },
   {
    "duration": 379,
    "start_time": "2022-06-06T19:00:13.192Z"
   },
   {
    "duration": 570,
    "start_time": "2022-06-06T19:02:41.741Z"
   },
   {
    "duration": 408,
    "start_time": "2022-06-06T19:04:26.299Z"
   },
   {
    "duration": 314,
    "start_time": "2022-06-06T19:04:45.749Z"
   },
   {
    "duration": 362,
    "start_time": "2022-06-06T19:04:56.352Z"
   },
   {
    "duration": 327,
    "start_time": "2022-06-06T19:05:11.046Z"
   },
   {
    "duration": 256,
    "start_time": "2022-06-06T19:05:20.799Z"
   },
   {
    "duration": 37,
    "start_time": "2022-06-06T19:05:59.903Z"
   },
   {
    "duration": 417,
    "start_time": "2022-06-06T19:06:04.852Z"
   },
   {
    "duration": 34,
    "start_time": "2022-06-06T19:06:07.823Z"
   },
   {
    "duration": 5,
    "start_time": "2022-06-06T19:06:36.668Z"
   },
   {
    "duration": 375,
    "start_time": "2022-06-06T19:06:46.896Z"
   },
   {
    "duration": 5,
    "start_time": "2022-06-06T19:06:51.257Z"
   },
   {
    "duration": 3,
    "start_time": "2022-06-06T19:08:37.040Z"
   },
   {
    "duration": 4,
    "start_time": "2022-06-06T19:10:09.983Z"
   },
   {
    "duration": 14,
    "start_time": "2022-06-06T19:11:27.857Z"
   },
   {
    "duration": 4,
    "start_time": "2022-06-06T19:11:39.121Z"
   },
   {
    "duration": 4,
    "start_time": "2022-06-06T19:12:31.288Z"
   },
   {
    "duration": 4,
    "start_time": "2022-06-06T19:12:39.139Z"
   },
   {
    "duration": 379,
    "start_time": "2022-06-06T19:31:27.417Z"
   },
   {
    "duration": 399,
    "start_time": "2022-06-06T19:34:11.710Z"
   },
   {
    "duration": 363,
    "start_time": "2022-06-06T20:32:51.266Z"
   },
   {
    "duration": 40,
    "start_time": "2022-06-06T21:09:03.383Z"
   },
   {
    "duration": 1106,
    "start_time": "2022-06-06T21:09:26.195Z"
   },
   {
    "duration": 999,
    "start_time": "2022-06-06T21:22:17.060Z"
   },
   {
    "duration": 964,
    "start_time": "2022-06-06T21:22:24.580Z"
   },
   {
    "duration": 939,
    "start_time": "2022-06-06T21:22:30.821Z"
   },
   {
    "duration": 910,
    "start_time": "2022-06-06T21:22:37.043Z"
   },
   {
    "duration": 1131,
    "start_time": "2022-06-06T21:23:37.324Z"
   },
   {
    "duration": 921,
    "start_time": "2022-06-06T21:26:00.443Z"
   },
   {
    "duration": 918,
    "start_time": "2022-06-06T21:26:16.563Z"
   },
   {
    "duration": 24,
    "start_time": "2022-06-06T21:31:33.188Z"
   },
   {
    "duration": 27,
    "start_time": "2022-06-06T22:06:50.713Z"
   },
   {
    "duration": 18,
    "start_time": "2022-06-06T22:18:42.074Z"
   },
   {
    "duration": 15,
    "start_time": "2022-06-06T22:22:42.172Z"
   },
   {
    "duration": 20,
    "start_time": "2022-06-06T22:22:46.033Z"
   },
   {
    "duration": 44,
    "start_time": "2022-06-06T22:23:51.627Z"
   },
   {
    "duration": 1262,
    "start_time": "2022-06-06T23:21:43.059Z"
   },
   {
    "duration": 71,
    "start_time": "2022-06-06T23:21:44.323Z"
   },
   {
    "duration": 43,
    "start_time": "2022-06-06T23:21:44.395Z"
   },
   {
    "duration": 6,
    "start_time": "2022-06-06T23:21:44.440Z"
   },
   {
    "duration": 29,
    "start_time": "2022-06-06T23:21:44.448Z"
   },
   {
    "duration": 31,
    "start_time": "2022-06-06T23:21:44.479Z"
   },
   {
    "duration": 39,
    "start_time": "2022-06-06T23:21:44.512Z"
   },
   {
    "duration": 626,
    "start_time": "2022-06-06T23:21:44.553Z"
   },
   {
    "duration": 279,
    "start_time": "2022-06-06T23:21:45.181Z"
   },
   {
    "duration": 16,
    "start_time": "2022-06-06T23:21:45.463Z"
   },
   {
    "duration": 392,
    "start_time": "2022-06-06T23:21:45.481Z"
   },
   {
    "duration": 17,
    "start_time": "2022-06-06T23:21:45.874Z"
   },
   {
    "duration": 564,
    "start_time": "2022-06-06T23:21:45.892Z"
   },
   {
    "duration": 217,
    "start_time": "2022-06-06T23:21:46.458Z"
   },
   {
    "duration": 409,
    "start_time": "2022-06-06T23:21:46.676Z"
   },
   {
    "duration": 5,
    "start_time": "2022-06-06T23:21:47.087Z"
   },
   {
    "duration": 37,
    "start_time": "2022-06-06T23:21:47.093Z"
   },
   {
    "duration": 715,
    "start_time": "2022-06-06T23:21:47.131Z"
   },
   {
    "duration": 108,
    "start_time": "2022-06-06T23:21:47.848Z"
   },
   {
    "duration": 1266,
    "start_time": "2022-06-06T23:21:47.957Z"
   },
   {
    "duration": 42,
    "start_time": "2022-06-06T23:21:49.225Z"
   },
   {
    "duration": 11,
    "start_time": "2022-06-06T23:21:49.269Z"
   },
   {
    "duration": 30,
    "start_time": "2022-06-06T23:21:49.281Z"
   },
   {
    "duration": 20,
    "start_time": "2022-06-06T23:21:49.312Z"
   },
   {
    "duration": 29,
    "start_time": "2022-06-06T23:21:49.334Z"
   },
   {
    "duration": 21,
    "start_time": "2022-06-06T23:21:49.366Z"
   },
   {
    "duration": 54,
    "start_time": "2022-06-06T23:21:49.389Z"
   },
   {
    "duration": 442,
    "start_time": "2022-06-06T23:21:49.446Z"
   },
   {
    "duration": 16,
    "start_time": "2022-06-06T23:21:49.890Z"
   },
   {
    "duration": 20,
    "start_time": "2022-06-06T23:21:49.908Z"
   },
   {
    "duration": 12,
    "start_time": "2022-06-06T23:21:49.930Z"
   },
   {
    "duration": 16,
    "start_time": "2022-06-06T23:21:49.944Z"
   },
   {
    "duration": 27,
    "start_time": "2022-06-06T23:21:49.961Z"
   },
   {
    "duration": 478,
    "start_time": "2022-06-06T23:21:49.989Z"
   },
   {
    "duration": 29,
    "start_time": "2022-06-07T00:10:14.923Z"
   },
   {
    "duration": 53,
    "start_time": "2022-06-07T11:14:19.614Z"
   },
   {
    "duration": 1309,
    "start_time": "2022-06-07T11:14:27.125Z"
   },
   {
    "duration": 240,
    "start_time": "2022-06-07T11:14:28.436Z"
   },
   {
    "duration": 41,
    "start_time": "2022-06-07T11:14:28.678Z"
   },
   {
    "duration": 6,
    "start_time": "2022-06-07T11:14:28.721Z"
   },
   {
    "duration": 17,
    "start_time": "2022-06-07T11:14:28.729Z"
   },
   {
    "duration": 8,
    "start_time": "2022-06-07T11:14:28.748Z"
   },
   {
    "duration": 31,
    "start_time": "2022-06-07T11:14:28.758Z"
   },
   {
    "duration": 9,
    "start_time": "2022-06-07T11:14:28.791Z"
   },
   {
    "duration": 27,
    "start_time": "2022-06-07T11:14:28.802Z"
   },
   {
    "duration": 0,
    "start_time": "2022-06-07T11:14:28.831Z"
   },
   {
    "duration": 1,
    "start_time": "2022-06-07T11:14:28.832Z"
   },
   {
    "duration": 0,
    "start_time": "2022-06-07T11:14:28.834Z"
   },
   {
    "duration": 0,
    "start_time": "2022-06-07T11:14:28.835Z"
   },
   {
    "duration": 0,
    "start_time": "2022-06-07T11:14:28.836Z"
   },
   {
    "duration": 0,
    "start_time": "2022-06-07T11:14:28.837Z"
   },
   {
    "duration": 0,
    "start_time": "2022-06-07T11:14:28.839Z"
   },
   {
    "duration": 0,
    "start_time": "2022-06-07T11:14:28.840Z"
   },
   {
    "duration": 0,
    "start_time": "2022-06-07T11:14:28.841Z"
   },
   {
    "duration": 0,
    "start_time": "2022-06-07T11:14:28.843Z"
   },
   {
    "duration": 0,
    "start_time": "2022-06-07T11:14:28.844Z"
   },
   {
    "duration": 0,
    "start_time": "2022-06-07T11:14:28.845Z"
   },
   {
    "duration": 0,
    "start_time": "2022-06-07T11:14:28.846Z"
   },
   {
    "duration": 0,
    "start_time": "2022-06-07T11:14:28.847Z"
   },
   {
    "duration": 0,
    "start_time": "2022-06-07T11:14:28.848Z"
   },
   {
    "duration": 0,
    "start_time": "2022-06-07T11:14:28.849Z"
   },
   {
    "duration": 0,
    "start_time": "2022-06-07T11:14:28.850Z"
   },
   {
    "duration": 0,
    "start_time": "2022-06-07T11:14:28.851Z"
   },
   {
    "duration": 0,
    "start_time": "2022-06-07T11:14:28.853Z"
   },
   {
    "duration": 0,
    "start_time": "2022-06-07T11:14:28.854Z"
   },
   {
    "duration": 0,
    "start_time": "2022-06-07T11:14:28.855Z"
   },
   {
    "duration": 0,
    "start_time": "2022-06-07T11:14:28.856Z"
   },
   {
    "duration": 0,
    "start_time": "2022-06-07T11:14:28.857Z"
   },
   {
    "duration": 0,
    "start_time": "2022-06-07T11:14:28.858Z"
   },
   {
    "duration": 0,
    "start_time": "2022-06-07T11:14:28.859Z"
   },
   {
    "duration": 0,
    "start_time": "2022-06-07T11:14:28.860Z"
   },
   {
    "duration": 0,
    "start_time": "2022-06-07T11:14:28.862Z"
   },
   {
    "duration": 0,
    "start_time": "2022-06-07T11:14:28.862Z"
   },
   {
    "duration": 1231,
    "start_time": "2022-06-07T11:16:07.207Z"
   },
   {
    "duration": 65,
    "start_time": "2022-06-07T11:16:08.440Z"
   },
   {
    "duration": 41,
    "start_time": "2022-06-07T11:16:08.507Z"
   },
   {
    "duration": 14,
    "start_time": "2022-06-07T11:16:08.550Z"
   },
   {
    "duration": 23,
    "start_time": "2022-06-07T11:16:08.567Z"
   },
   {
    "duration": 11,
    "start_time": "2022-06-07T11:16:08.592Z"
   },
   {
    "duration": 33,
    "start_time": "2022-06-07T11:16:08.605Z"
   },
   {
    "duration": 9,
    "start_time": "2022-06-07T11:16:08.640Z"
   },
   {
    "duration": 16,
    "start_time": "2022-06-07T11:16:08.651Z"
   },
   {
    "duration": 612,
    "start_time": "2022-06-07T11:16:08.671Z"
   },
   {
    "duration": 273,
    "start_time": "2022-06-07T11:16:09.285Z"
   },
   {
    "duration": 15,
    "start_time": "2022-06-07T11:16:09.560Z"
   },
   {
    "duration": 376,
    "start_time": "2022-06-07T11:16:09.577Z"
   },
   {
    "duration": 16,
    "start_time": "2022-06-07T11:16:09.955Z"
   },
   {
    "duration": 440,
    "start_time": "2022-06-07T11:16:09.972Z"
   },
   {
    "duration": 261,
    "start_time": "2022-06-07T11:16:10.414Z"
   },
   {
    "duration": 406,
    "start_time": "2022-06-07T11:16:10.677Z"
   },
   {
    "duration": 6,
    "start_time": "2022-06-07T11:16:11.085Z"
   },
   {
    "duration": 47,
    "start_time": "2022-06-07T11:16:11.093Z"
   },
   {
    "duration": 688,
    "start_time": "2022-06-07T11:16:11.142Z"
   },
   {
    "duration": 115,
    "start_time": "2022-06-07T11:16:11.832Z"
   },
   {
    "duration": 1455,
    "start_time": "2022-06-07T11:16:11.951Z"
   },
   {
    "duration": 37,
    "start_time": "2022-06-07T11:16:13.407Z"
   },
   {
    "duration": 10,
    "start_time": "2022-06-07T11:16:13.446Z"
   },
   {
    "duration": 16,
    "start_time": "2022-06-07T11:16:13.457Z"
   },
   {
    "duration": 12,
    "start_time": "2022-06-07T11:16:13.475Z"
   },
   {
    "duration": 40,
    "start_time": "2022-06-07T11:16:13.489Z"
   },
   {
    "duration": 21,
    "start_time": "2022-06-07T11:16:13.532Z"
   },
   {
    "duration": 27,
    "start_time": "2022-06-07T11:16:13.554Z"
   },
   {
    "duration": 410,
    "start_time": "2022-06-07T11:16:13.582Z"
   },
   {
    "duration": 16,
    "start_time": "2022-06-07T11:16:13.994Z"
   },
   {
    "duration": 16,
    "start_time": "2022-06-07T11:16:14.011Z"
   },
   {
    "duration": 14,
    "start_time": "2022-06-07T11:16:14.029Z"
   },
   {
    "duration": 4,
    "start_time": "2022-06-07T11:16:14.044Z"
   },
   {
    "duration": 15,
    "start_time": "2022-06-07T11:16:14.050Z"
   },
   {
    "duration": 479,
    "start_time": "2022-06-07T11:16:14.067Z"
   },
   {
    "duration": 1181,
    "start_time": "2022-06-07T11:20:11.557Z"
   },
   {
    "duration": 68,
    "start_time": "2022-06-07T11:20:12.740Z"
   },
   {
    "duration": 40,
    "start_time": "2022-06-07T11:20:12.810Z"
   },
   {
    "duration": 7,
    "start_time": "2022-06-07T11:20:12.853Z"
   },
   {
    "duration": 19,
    "start_time": "2022-06-07T11:20:12.861Z"
   },
   {
    "duration": 12,
    "start_time": "2022-06-07T11:20:12.882Z"
   },
   {
    "duration": 50,
    "start_time": "2022-06-07T11:20:12.896Z"
   },
   {
    "duration": 9,
    "start_time": "2022-06-07T11:20:12.947Z"
   },
   {
    "duration": 13,
    "start_time": "2022-06-07T11:20:12.957Z"
   },
   {
    "duration": 625,
    "start_time": "2022-06-07T11:20:12.974Z"
   },
   {
    "duration": 300,
    "start_time": "2022-06-07T11:20:13.601Z"
   },
   {
    "duration": 31,
    "start_time": "2022-06-07T11:20:13.902Z"
   },
   {
    "duration": 430,
    "start_time": "2022-06-07T11:20:13.934Z"
   },
   {
    "duration": 16,
    "start_time": "2022-06-07T11:20:14.365Z"
   },
   {
    "duration": 479,
    "start_time": "2022-06-07T11:20:14.382Z"
   },
   {
    "duration": 209,
    "start_time": "2022-06-07T11:20:14.863Z"
   },
   {
    "duration": 397,
    "start_time": "2022-06-07T11:20:15.074Z"
   },
   {
    "duration": 5,
    "start_time": "2022-06-07T11:20:15.472Z"
   },
   {
    "duration": 26,
    "start_time": "2022-06-07T11:20:15.479Z"
   },
   {
    "duration": 763,
    "start_time": "2022-06-07T11:20:15.506Z"
   },
   {
    "duration": 133,
    "start_time": "2022-06-07T11:20:16.271Z"
   },
   {
    "duration": 1109,
    "start_time": "2022-06-07T11:20:16.407Z"
   },
   {
    "duration": 37,
    "start_time": "2022-06-07T11:20:17.518Z"
   },
   {
    "duration": 10,
    "start_time": "2022-06-07T11:20:17.557Z"
   },
   {
    "duration": 18,
    "start_time": "2022-06-07T11:20:17.569Z"
   },
   {
    "duration": 19,
    "start_time": "2022-06-07T11:20:17.589Z"
   },
   {
    "duration": 27,
    "start_time": "2022-06-07T11:20:17.610Z"
   },
   {
    "duration": 22,
    "start_time": "2022-06-07T11:20:17.640Z"
   },
   {
    "duration": 27,
    "start_time": "2022-06-07T11:20:17.663Z"
   },
   {
    "duration": 435,
    "start_time": "2022-06-07T11:20:17.692Z"
   },
   {
    "duration": 16,
    "start_time": "2022-06-07T11:20:18.129Z"
   },
   {
    "duration": 17,
    "start_time": "2022-06-07T11:20:18.147Z"
   },
   {
    "duration": 20,
    "start_time": "2022-06-07T11:20:18.166Z"
   },
   {
    "duration": 19,
    "start_time": "2022-06-07T11:20:18.188Z"
   },
   {
    "duration": 28,
    "start_time": "2022-06-07T11:20:18.209Z"
   },
   {
    "duration": 501,
    "start_time": "2022-06-07T11:20:18.239Z"
   },
   {
    "duration": 32,
    "start_time": "2022-06-07T11:22:39.550Z"
   },
   {
    "duration": 1259,
    "start_time": "2022-06-07T11:22:50.808Z"
   },
   {
    "duration": 69,
    "start_time": "2022-06-07T11:22:52.069Z"
   },
   {
    "duration": 58,
    "start_time": "2022-06-07T11:22:52.140Z"
   },
   {
    "duration": 9,
    "start_time": "2022-06-07T11:22:52.200Z"
   },
   {
    "duration": 19,
    "start_time": "2022-06-07T11:22:52.226Z"
   },
   {
    "duration": 20,
    "start_time": "2022-06-07T11:22:52.247Z"
   },
   {
    "duration": 40,
    "start_time": "2022-06-07T11:22:52.269Z"
   },
   {
    "duration": 18,
    "start_time": "2022-06-07T11:22:52.311Z"
   },
   {
    "duration": 22,
    "start_time": "2022-06-07T11:22:52.331Z"
   },
   {
    "duration": 615,
    "start_time": "2022-06-07T11:22:52.354Z"
   },
   {
    "duration": 282,
    "start_time": "2022-06-07T11:22:52.971Z"
   },
   {
    "duration": 28,
    "start_time": "2022-06-07T11:22:53.255Z"
   },
   {
    "duration": 378,
    "start_time": "2022-06-07T11:22:53.286Z"
   },
   {
    "duration": 15,
    "start_time": "2022-06-07T11:22:53.667Z"
   },
   {
    "duration": 457,
    "start_time": "2022-06-07T11:22:53.683Z"
   },
   {
    "duration": 224,
    "start_time": "2022-06-07T11:22:54.141Z"
   },
   {
    "duration": 394,
    "start_time": "2022-06-07T11:22:54.367Z"
   },
   {
    "duration": 6,
    "start_time": "2022-06-07T11:22:54.763Z"
   },
   {
    "duration": 28,
    "start_time": "2022-06-07T11:22:54.771Z"
   },
   {
    "duration": 735,
    "start_time": "2022-06-07T11:22:54.801Z"
   },
   {
    "duration": 106,
    "start_time": "2022-06-07T11:22:55.537Z"
   },
   {
    "duration": 1070,
    "start_time": "2022-06-07T11:22:55.645Z"
   },
   {
    "duration": 43,
    "start_time": "2022-06-07T11:22:56.717Z"
   },
   {
    "duration": 11,
    "start_time": "2022-06-07T11:22:56.761Z"
   },
   {
    "duration": 16,
    "start_time": "2022-06-07T11:22:56.774Z"
   },
   {
    "duration": 16,
    "start_time": "2022-06-07T11:22:56.792Z"
   },
   {
    "duration": 17,
    "start_time": "2022-06-07T11:22:56.828Z"
   },
   {
    "duration": 30,
    "start_time": "2022-06-07T11:22:56.847Z"
   },
   {
    "duration": 74,
    "start_time": "2022-06-07T11:22:56.880Z"
   },
   {
    "duration": 436,
    "start_time": "2022-06-07T11:22:56.956Z"
   },
   {
    "duration": 24,
    "start_time": "2022-06-07T11:22:57.394Z"
   },
   {
    "duration": 9,
    "start_time": "2022-06-07T11:22:57.421Z"
   },
   {
    "duration": 18,
    "start_time": "2022-06-07T11:22:57.432Z"
   },
   {
    "duration": 10,
    "start_time": "2022-06-07T11:22:57.451Z"
   },
   {
    "duration": 21,
    "start_time": "2022-06-07T11:22:57.463Z"
   },
   {
    "duration": 471,
    "start_time": "2022-06-07T11:22:57.486Z"
   }
  ],
  "kernelspec": {
   "display_name": "Python 3 (ipykernel)",
   "language": "python",
   "name": "python3"
  },
  "language_info": {
   "codemirror_mode": {
    "name": "ipython",
    "version": 3
   },
   "file_extension": ".py",
   "mimetype": "text/x-python",
   "name": "python",
   "nbconvert_exporter": "python",
   "pygments_lexer": "ipython3",
   "version": "3.9.7"
  },
  "toc": {
   "base_numbering": 1,
   "nav_menu": {},
   "number_sections": true,
   "sideBar": true,
   "skip_h1_title": true,
   "title_cell": "Table of Contents",
   "title_sidebar": "Contents",
   "toc_cell": false,
   "toc_position": {
    "height": "529.6px",
    "left": "29px",
    "top": "111.125px",
    "width": "165px"
   },
   "toc_section_display": true,
   "toc_window_display": true
  }
 },
 "nbformat": 4,
 "nbformat_minor": 2
}
