{
 "cells": [
  {
   "cell_type": "markdown",
   "metadata": {},
   "source": [
    "# Анализ оттока клиентов для сети финтнес-центров"
   ]
  },
  {
   "cell_type": "markdown",
   "metadata": {},
   "source": [
    "Сеть фитнес-центров «Культурист-датасаентист» разрабатывает стратегию взаимодействия с клиентами на основе аналитических данных.\n",
    "\n",
    "Распространённая проблема фитнес-клубов и других сервисов — отток клиентов. \n",
    "Для фитнес-центра можно считать, что клиент попал в отток, если за последний месяц ни разу не посетил спортзал. Конечно, не исключено, что он уехал на Бали и по приезде обязательно продолжит ходить на фитнес. Однако чаще бывает наоборот. Если клиент начал новую жизнь с понедельника, немного походил в спортзал, а потом пропал — скорее всего, он не вернётся.\n",
    "\n",
    "Чтобы бороться с оттоком, отдел по работе с клиентами «Культуриста-датасаентиста» перевёл в электронный вид множество клиентских анкет. Наша задача — провести анализ и подготовить план действий по удержанию клиентов.\n",
    "А именно:\n",
    "- научиться прогнозировать вероятность оттока (на уровне следующего месяца) для каждого клиента;\n",
    "- сформировать типичные портреты клиентов: выделить несколько наиболее ярких групп и охарактеризовать их основные свойства;\n",
    "- проанализировать основные признаки, наиболее сильно влияющие на отток;\n",
    "- сформулировать основные выводы и разработать рекомендации по повышению качества работы с клиентами:\n",
    "   - выделить целевые группы клиентов;   \n",
    "   - предложить меры по снижению оттока;   \n",
    "   - определить другие особенности взаимодействия с клиентами."
   ]
  },
  {
   "cell_type": "markdown",
   "metadata": {},
   "source": [
    "## Загрузка данных"
   ]
  },
  {
   "cell_type": "code",
   "execution_count": 1,
   "metadata": {},
   "outputs": [],
   "source": [
    "import pandas as pd\n",
    "import seaborn as sns\n",
    "import matplotlib.pyplot as plt\n",
    "\n",
    "from sklearn.model_selection import train_test_split\n",
    "from sklearn.linear_model import LogisticRegression\n",
    "from sklearn.ensemble import RandomForestClassifier\n",
    "from sklearn.preprocessing import StandardScaler\n",
    "from sklearn.metrics import accuracy_score, precision_score, recall_score, f1_score\n",
    "from sklearn.metrics import mean_absolute_error, mean_squared_error, r2_score, roc_auc_score\n",
    "from scipy.cluster.hierarchy import dendrogram, linkage\n",
    "from sklearn.cluster import KMeans\n",
    "\n",
    "import warnings\n",
    "warnings.filterwarnings(\"ignore\")"
   ]
  },
  {
   "cell_type": "code",
   "execution_count": 2,
   "metadata": {},
   "outputs": [],
   "source": [
    "# настроим графики и отображения чисел с плавающей запятой \n",
    "pd.options.display.float_format = '{:,.4f}'.format\n",
    "sns.set()"
   ]
  },
  {
   "cell_type": "code",
   "execution_count": 3,
   "metadata": {},
   "outputs": [
    {
     "name": "stdout",
     "output_type": "stream",
     "text": [
      "<class 'pandas.core.frame.DataFrame'>\n",
      "RangeIndex: 4000 entries, 0 to 3999\n",
      "Data columns (total 14 columns):\n",
      " #   Column                             Non-Null Count  Dtype  \n",
      "---  ------                             --------------  -----  \n",
      " 0   gender                             4000 non-null   int64  \n",
      " 1   Near_Location                      4000 non-null   int64  \n",
      " 2   Partner                            4000 non-null   int64  \n",
      " 3   Promo_friends                      4000 non-null   int64  \n",
      " 4   Phone                              4000 non-null   int64  \n",
      " 5   Contract_period                    4000 non-null   int64  \n",
      " 6   Group_visits                       4000 non-null   int64  \n",
      " 7   Age                                4000 non-null   int64  \n",
      " 8   Avg_additional_charges_total       4000 non-null   float64\n",
      " 9   Month_to_end_contract              4000 non-null   float64\n",
      " 10  Lifetime                           4000 non-null   int64  \n",
      " 11  Avg_class_frequency_total          4000 non-null   float64\n",
      " 12  Avg_class_frequency_current_month  4000 non-null   float64\n",
      " 13  Churn                              4000 non-null   int64  \n",
      "dtypes: float64(4), int64(10)\n",
      "memory usage: 437.6 KB\n"
     ]
    }
   ],
   "source": [
    "df = pd.read_csv('/datasets/gym_churn.csv')\n",
    "df.info()"
   ]
  },
  {
   "cell_type": "markdown",
   "metadata": {},
   "source": [
    "Видим, что отсуствуют пропуски данных. Поправим названия столбцов и тип данных для некоторых столбцов"
   ]
  },
  {
   "cell_type": "code",
   "execution_count": 4,
   "metadata": {},
   "outputs": [],
   "source": [
    "# приведем имена колонок к строчному виду\n",
    "df.columns = df.columns.str.lower()\n",
    "\n",
    "# исправим тип данных в столбце month_to_end_contract\n",
    "df['month_to_end_contract'] = df['month_to_end_contract'].astype('int64')"
   ]
  },
  {
   "cell_type": "code",
   "execution_count": 5,
   "metadata": {},
   "outputs": [
    {
     "name": "stdout",
     "output_type": "stream",
     "text": [
      "Кол-во дубликатов строк:  0\n"
     ]
    }
   ],
   "source": [
    "print('Кол-во дубликатов строк: ', df.duplicated().sum())"
   ]
  },
  {
   "cell_type": "code",
   "execution_count": 6,
   "metadata": {},
   "outputs": [
    {
     "data": {
      "text/html": [
       "<div>\n",
       "<style scoped>\n",
       "    .dataframe tbody tr th:only-of-type {\n",
       "        vertical-align: middle;\n",
       "    }\n",
       "\n",
       "    .dataframe tbody tr th {\n",
       "        vertical-align: top;\n",
       "    }\n",
       "\n",
       "    .dataframe thead th {\n",
       "        text-align: right;\n",
       "    }\n",
       "</style>\n",
       "<table border=\"1\" class=\"dataframe\">\n",
       "  <thead>\n",
       "    <tr style=\"text-align: right;\">\n",
       "      <th></th>\n",
       "      <th>gender</th>\n",
       "      <th>near_location</th>\n",
       "      <th>partner</th>\n",
       "      <th>promo_friends</th>\n",
       "      <th>phone</th>\n",
       "      <th>contract_period</th>\n",
       "      <th>group_visits</th>\n",
       "      <th>age</th>\n",
       "      <th>avg_additional_charges_total</th>\n",
       "      <th>month_to_end_contract</th>\n",
       "      <th>lifetime</th>\n",
       "      <th>avg_class_frequency_total</th>\n",
       "      <th>avg_class_frequency_current_month</th>\n",
       "      <th>churn</th>\n",
       "    </tr>\n",
       "  </thead>\n",
       "  <tbody>\n",
       "    <tr>\n",
       "      <th>0</th>\n",
       "      <td>1</td>\n",
       "      <td>1</td>\n",
       "      <td>1</td>\n",
       "      <td>1</td>\n",
       "      <td>0</td>\n",
       "      <td>6</td>\n",
       "      <td>1</td>\n",
       "      <td>29</td>\n",
       "      <td>14.2275</td>\n",
       "      <td>5</td>\n",
       "      <td>3</td>\n",
       "      <td>0.0204</td>\n",
       "      <td>0.0000</td>\n",
       "      <td>0</td>\n",
       "    </tr>\n",
       "    <tr>\n",
       "      <th>1</th>\n",
       "      <td>0</td>\n",
       "      <td>1</td>\n",
       "      <td>0</td>\n",
       "      <td>0</td>\n",
       "      <td>1</td>\n",
       "      <td>12</td>\n",
       "      <td>1</td>\n",
       "      <td>31</td>\n",
       "      <td>113.2029</td>\n",
       "      <td>12</td>\n",
       "      <td>7</td>\n",
       "      <td>1.9229</td>\n",
       "      <td>1.9102</td>\n",
       "      <td>0</td>\n",
       "    </tr>\n",
       "    <tr>\n",
       "      <th>2</th>\n",
       "      <td>0</td>\n",
       "      <td>1</td>\n",
       "      <td>1</td>\n",
       "      <td>0</td>\n",
       "      <td>1</td>\n",
       "      <td>1</td>\n",
       "      <td>0</td>\n",
       "      <td>28</td>\n",
       "      <td>129.4485</td>\n",
       "      <td>1</td>\n",
       "      <td>2</td>\n",
       "      <td>1.8591</td>\n",
       "      <td>1.7365</td>\n",
       "      <td>0</td>\n",
       "    </tr>\n",
       "    <tr>\n",
       "      <th>3</th>\n",
       "      <td>0</td>\n",
       "      <td>1</td>\n",
       "      <td>1</td>\n",
       "      <td>1</td>\n",
       "      <td>1</td>\n",
       "      <td>12</td>\n",
       "      <td>1</td>\n",
       "      <td>33</td>\n",
       "      <td>62.6699</td>\n",
       "      <td>12</td>\n",
       "      <td>2</td>\n",
       "      <td>3.2056</td>\n",
       "      <td>3.3572</td>\n",
       "      <td>0</td>\n",
       "    </tr>\n",
       "    <tr>\n",
       "      <th>4</th>\n",
       "      <td>1</td>\n",
       "      <td>1</td>\n",
       "      <td>1</td>\n",
       "      <td>1</td>\n",
       "      <td>1</td>\n",
       "      <td>1</td>\n",
       "      <td>0</td>\n",
       "      <td>26</td>\n",
       "      <td>198.3623</td>\n",
       "      <td>1</td>\n",
       "      <td>3</td>\n",
       "      <td>1.1139</td>\n",
       "      <td>1.1201</td>\n",
       "      <td>0</td>\n",
       "    </tr>\n",
       "  </tbody>\n",
       "</table>\n",
       "</div>"
      ],
      "text/plain": [
       "   gender  near_location  partner  promo_friends  phone  contract_period  \\\n",
       "0       1              1        1              1      0                6   \n",
       "1       0              1        0              0      1               12   \n",
       "2       0              1        1              0      1                1   \n",
       "3       0              1        1              1      1               12   \n",
       "4       1              1        1              1      1                1   \n",
       "\n",
       "   group_visits  age  avg_additional_charges_total  month_to_end_contract  \\\n",
       "0             1   29                       14.2275                      5   \n",
       "1             1   31                      113.2029                     12   \n",
       "2             0   28                      129.4485                      1   \n",
       "3             1   33                       62.6699                     12   \n",
       "4             0   26                      198.3623                      1   \n",
       "\n",
       "   lifetime  avg_class_frequency_total  avg_class_frequency_current_month  \\\n",
       "0         3                     0.0204                             0.0000   \n",
       "1         7                     1.9229                             1.9102   \n",
       "2         2                     1.8591                             1.7365   \n",
       "3         2                     3.2056                             3.3572   \n",
       "4         3                     1.1139                             1.1201   \n",
       "\n",
       "   churn  \n",
       "0      0  \n",
       "1      0  \n",
       "2      0  \n",
       "3      0  \n",
       "4      0  "
      ]
     },
     "execution_count": 6,
     "metadata": {},
     "output_type": "execute_result"
    }
   ],
   "source": [
    "df.head()"
   ]
  },
  {
   "cell_type": "markdown",
   "metadata": {},
   "source": [
    "Загрузка и предобработка данных произведена, можно приступать к анализу."
   ]
  },
  {
   "cell_type": "markdown",
   "metadata": {},
   "source": [
    "## Исследовательский анализ данных (EDA)"
   ]
  },
  {
   "cell_type": "markdown",
   "metadata": {},
   "source": [
    "### Изучение полноты данных, средних значений, стандартного отклонения"
   ]
  },
  {
   "cell_type": "code",
   "execution_count": 7,
   "metadata": {},
   "outputs": [
    {
     "data": {
      "text/html": [
       "<div>\n",
       "<style scoped>\n",
       "    .dataframe tbody tr th:only-of-type {\n",
       "        vertical-align: middle;\n",
       "    }\n",
       "\n",
       "    .dataframe tbody tr th {\n",
       "        vertical-align: top;\n",
       "    }\n",
       "\n",
       "    .dataframe thead th {\n",
       "        text-align: right;\n",
       "    }\n",
       "</style>\n",
       "<table border=\"1\" class=\"dataframe\">\n",
       "  <thead>\n",
       "    <tr style=\"text-align: right;\">\n",
       "      <th></th>\n",
       "      <th>gender</th>\n",
       "      <th>near_location</th>\n",
       "      <th>partner</th>\n",
       "      <th>promo_friends</th>\n",
       "      <th>phone</th>\n",
       "      <th>contract_period</th>\n",
       "      <th>group_visits</th>\n",
       "      <th>age</th>\n",
       "      <th>avg_additional_charges_total</th>\n",
       "      <th>month_to_end_contract</th>\n",
       "      <th>lifetime</th>\n",
       "      <th>avg_class_frequency_total</th>\n",
       "      <th>avg_class_frequency_current_month</th>\n",
       "      <th>churn</th>\n",
       "    </tr>\n",
       "  </thead>\n",
       "  <tbody>\n",
       "    <tr>\n",
       "      <th>count</th>\n",
       "      <td>4,000.0000</td>\n",
       "      <td>4,000.0000</td>\n",
       "      <td>4,000.0000</td>\n",
       "      <td>4,000.0000</td>\n",
       "      <td>4,000.0000</td>\n",
       "      <td>4,000.0000</td>\n",
       "      <td>4,000.0000</td>\n",
       "      <td>4,000.0000</td>\n",
       "      <td>4,000.0000</td>\n",
       "      <td>4,000.0000</td>\n",
       "      <td>4,000.0000</td>\n",
       "      <td>4,000.0000</td>\n",
       "      <td>4,000.0000</td>\n",
       "      <td>4,000.0000</td>\n",
       "    </tr>\n",
       "    <tr>\n",
       "      <th>mean</th>\n",
       "      <td>0.5102</td>\n",
       "      <td>0.8452</td>\n",
       "      <td>0.4868</td>\n",
       "      <td>0.3085</td>\n",
       "      <td>0.9035</td>\n",
       "      <td>4.6813</td>\n",
       "      <td>0.4123</td>\n",
       "      <td>29.1842</td>\n",
       "      <td>146.9437</td>\n",
       "      <td>4.3228</td>\n",
       "      <td>3.7247</td>\n",
       "      <td>1.8790</td>\n",
       "      <td>1.7671</td>\n",
       "      <td>0.2652</td>\n",
       "    </tr>\n",
       "    <tr>\n",
       "      <th>std</th>\n",
       "      <td>0.5000</td>\n",
       "      <td>0.3617</td>\n",
       "      <td>0.4999</td>\n",
       "      <td>0.4619</td>\n",
       "      <td>0.2953</td>\n",
       "      <td>4.5497</td>\n",
       "      <td>0.4923</td>\n",
       "      <td>3.2584</td>\n",
       "      <td>96.3556</td>\n",
       "      <td>4.1913</td>\n",
       "      <td>3.7493</td>\n",
       "      <td>0.9722</td>\n",
       "      <td>1.0529</td>\n",
       "      <td>0.4415</td>\n",
       "    </tr>\n",
       "    <tr>\n",
       "      <th>min</th>\n",
       "      <td>0.0000</td>\n",
       "      <td>0.0000</td>\n",
       "      <td>0.0000</td>\n",
       "      <td>0.0000</td>\n",
       "      <td>0.0000</td>\n",
       "      <td>1.0000</td>\n",
       "      <td>0.0000</td>\n",
       "      <td>18.0000</td>\n",
       "      <td>0.1482</td>\n",
       "      <td>1.0000</td>\n",
       "      <td>0.0000</td>\n",
       "      <td>0.0000</td>\n",
       "      <td>0.0000</td>\n",
       "      <td>0.0000</td>\n",
       "    </tr>\n",
       "    <tr>\n",
       "      <th>25%</th>\n",
       "      <td>0.0000</td>\n",
       "      <td>1.0000</td>\n",
       "      <td>0.0000</td>\n",
       "      <td>0.0000</td>\n",
       "      <td>1.0000</td>\n",
       "      <td>1.0000</td>\n",
       "      <td>0.0000</td>\n",
       "      <td>27.0000</td>\n",
       "      <td>68.8688</td>\n",
       "      <td>1.0000</td>\n",
       "      <td>1.0000</td>\n",
       "      <td>1.1809</td>\n",
       "      <td>0.9630</td>\n",
       "      <td>0.0000</td>\n",
       "    </tr>\n",
       "    <tr>\n",
       "      <th>50%</th>\n",
       "      <td>1.0000</td>\n",
       "      <td>1.0000</td>\n",
       "      <td>0.0000</td>\n",
       "      <td>0.0000</td>\n",
       "      <td>1.0000</td>\n",
       "      <td>1.0000</td>\n",
       "      <td>0.0000</td>\n",
       "      <td>29.0000</td>\n",
       "      <td>136.2202</td>\n",
       "      <td>1.0000</td>\n",
       "      <td>3.0000</td>\n",
       "      <td>1.8328</td>\n",
       "      <td>1.7196</td>\n",
       "      <td>0.0000</td>\n",
       "    </tr>\n",
       "    <tr>\n",
       "      <th>75%</th>\n",
       "      <td>1.0000</td>\n",
       "      <td>1.0000</td>\n",
       "      <td>1.0000</td>\n",
       "      <td>1.0000</td>\n",
       "      <td>1.0000</td>\n",
       "      <td>6.0000</td>\n",
       "      <td>1.0000</td>\n",
       "      <td>31.0000</td>\n",
       "      <td>210.9496</td>\n",
       "      <td>6.0000</td>\n",
       "      <td>5.0000</td>\n",
       "      <td>2.5361</td>\n",
       "      <td>2.5103</td>\n",
       "      <td>1.0000</td>\n",
       "    </tr>\n",
       "    <tr>\n",
       "      <th>max</th>\n",
       "      <td>1.0000</td>\n",
       "      <td>1.0000</td>\n",
       "      <td>1.0000</td>\n",
       "      <td>1.0000</td>\n",
       "      <td>1.0000</td>\n",
       "      <td>12.0000</td>\n",
       "      <td>1.0000</td>\n",
       "      <td>41.0000</td>\n",
       "      <td>552.5907</td>\n",
       "      <td>12.0000</td>\n",
       "      <td>31.0000</td>\n",
       "      <td>6.0237</td>\n",
       "      <td>6.1468</td>\n",
       "      <td>1.0000</td>\n",
       "    </tr>\n",
       "  </tbody>\n",
       "</table>\n",
       "</div>"
      ],
      "text/plain": [
       "          gender  near_location    partner  promo_friends      phone  \\\n",
       "count 4,000.0000     4,000.0000 4,000.0000     4,000.0000 4,000.0000   \n",
       "mean      0.5102         0.8452     0.4868         0.3085     0.9035   \n",
       "std       0.5000         0.3617     0.4999         0.4619     0.2953   \n",
       "min       0.0000         0.0000     0.0000         0.0000     0.0000   \n",
       "25%       0.0000         1.0000     0.0000         0.0000     1.0000   \n",
       "50%       1.0000         1.0000     0.0000         0.0000     1.0000   \n",
       "75%       1.0000         1.0000     1.0000         1.0000     1.0000   \n",
       "max       1.0000         1.0000     1.0000         1.0000     1.0000   \n",
       "\n",
       "       contract_period  group_visits        age  avg_additional_charges_total  \\\n",
       "count       4,000.0000    4,000.0000 4,000.0000                    4,000.0000   \n",
       "mean            4.6813        0.4123    29.1842                      146.9437   \n",
       "std             4.5497        0.4923     3.2584                       96.3556   \n",
       "min             1.0000        0.0000    18.0000                        0.1482   \n",
       "25%             1.0000        0.0000    27.0000                       68.8688   \n",
       "50%             1.0000        0.0000    29.0000                      136.2202   \n",
       "75%             6.0000        1.0000    31.0000                      210.9496   \n",
       "max            12.0000        1.0000    41.0000                      552.5907   \n",
       "\n",
       "       month_to_end_contract   lifetime  avg_class_frequency_total  \\\n",
       "count             4,000.0000 4,000.0000                 4,000.0000   \n",
       "mean                  4.3228     3.7247                     1.8790   \n",
       "std                   4.1913     3.7493                     0.9722   \n",
       "min                   1.0000     0.0000                     0.0000   \n",
       "25%                   1.0000     1.0000                     1.1809   \n",
       "50%                   1.0000     3.0000                     1.8328   \n",
       "75%                   6.0000     5.0000                     2.5361   \n",
       "max                  12.0000    31.0000                     6.0237   \n",
       "\n",
       "       avg_class_frequency_current_month      churn  \n",
       "count                         4,000.0000 4,000.0000  \n",
       "mean                              1.7671     0.2652  \n",
       "std                               1.0529     0.4415  \n",
       "min                               0.0000     0.0000  \n",
       "25%                               0.9630     0.0000  \n",
       "50%                               1.7196     0.0000  \n",
       "75%                               2.5103     1.0000  \n",
       "max                               6.1468     1.0000  "
      ]
     },
     "execution_count": 7,
     "metadata": {},
     "output_type": "execute_result"
    }
   ],
   "source": [
    " df.describe()"
   ]
  },
  {
   "cell_type": "markdown",
   "metadata": {},
   "source": [
    "**Выводы:**\n",
    "- Распределение по полу среди клиентов фитнес клуба примерно равное\n",
    "- Почти 85 % клиентов живут или работают в непосредственной близости от фитнес-клубов «Культурист-датасаентист»\n",
    "- Почти половина клиентов являются сотрудниками компании-партнёра клуба\n",
    "- Только 31% клиентов  использовали промо-код от знакомого при оплате первого абонемента (по акции \"Приведи друга\")\n",
    "- 10% клиентов отказались давать свой контактный номер телефона\n",
    "- Средняя продолжительность абонемента составляет 4,6 месяца\n",
    "- Имеется сильный разброс продолжительности абонементов, среднеквадратичное отклонение составляет 4,5 месяца\n",
    "- 41% клиетов ходит на групповые занятия\n",
    "- Средний возраст клиентов - 29,2 лет, при этом можно сказать что сильные колебания данного показателя отсутствуют, среднеквадратичное отклонение составляет всего 3,2 года. Самому молодому клиенту - 18 лет, самому возрастному -41 год.\n",
    "- Средняя суммарная выручка от дополнительных услуг на 1 клиента составляет 146$ на человека\n",
    "- Средний лайфтайм наших клиентов составляет 3,7 месяца, при этом у нас есть клиенты, которые пользовались нашими услугами целых 31 месяц\n",
    "- В среднем, каждый клиент посещал наши фитнес-центры 1,8 раз в месяц. Только 25% клиентов посещали нас больше, чем 2,5 раза в месяц, максимальное значение среднего числа посещений - 6,1 раз в месяц\n",
    "- 26,5% клиентов \"ушли\" из нашей сети фитнес-клубов в текущем месяце"
   ]
  },
  {
   "cell_type": "markdown",
   "metadata": {},
   "source": [
    "### Изучение средних значений признаков в группах клиентов"
   ]
  },
  {
   "cell_type": "code",
   "execution_count": 8,
   "metadata": {},
   "outputs": [
    {
     "data": {
      "text/html": [
       "<div>\n",
       "<style scoped>\n",
       "    .dataframe tbody tr th:only-of-type {\n",
       "        vertical-align: middle;\n",
       "    }\n",
       "\n",
       "    .dataframe tbody tr th {\n",
       "        vertical-align: top;\n",
       "    }\n",
       "\n",
       "    .dataframe thead th {\n",
       "        text-align: right;\n",
       "    }\n",
       "</style>\n",
       "<table border=\"1\" class=\"dataframe\">\n",
       "  <thead>\n",
       "    <tr style=\"text-align: right;\">\n",
       "      <th>churn</th>\n",
       "      <th>0</th>\n",
       "      <th>1</th>\n",
       "    </tr>\n",
       "  </thead>\n",
       "  <tbody>\n",
       "    <tr>\n",
       "      <th>gender</th>\n",
       "      <td>0.5100</td>\n",
       "      <td>0.5108</td>\n",
       "    </tr>\n",
       "    <tr>\n",
       "      <th>near_location</th>\n",
       "      <td>0.8731</td>\n",
       "      <td>0.7681</td>\n",
       "    </tr>\n",
       "    <tr>\n",
       "      <th>partner</th>\n",
       "      <td>0.5342</td>\n",
       "      <td>0.3553</td>\n",
       "    </tr>\n",
       "    <tr>\n",
       "      <th>promo_friends</th>\n",
       "      <td>0.3535</td>\n",
       "      <td>0.1838</td>\n",
       "    </tr>\n",
       "    <tr>\n",
       "      <th>phone</th>\n",
       "      <td>0.9037</td>\n",
       "      <td>0.9029</td>\n",
       "    </tr>\n",
       "    <tr>\n",
       "      <th>contract_period</th>\n",
       "      <td>5.7472</td>\n",
       "      <td>1.7286</td>\n",
       "    </tr>\n",
       "    <tr>\n",
       "      <th>group_visits</th>\n",
       "      <td>0.4641</td>\n",
       "      <td>0.2686</td>\n",
       "    </tr>\n",
       "    <tr>\n",
       "      <th>age</th>\n",
       "      <td>29.9765</td>\n",
       "      <td>26.9896</td>\n",
       "    </tr>\n",
       "    <tr>\n",
       "      <th>avg_additional_charges_total</th>\n",
       "      <td>158.4457</td>\n",
       "      <td>115.0829</td>\n",
       "    </tr>\n",
       "    <tr>\n",
       "      <th>month_to_end_contract</th>\n",
       "      <td>5.2831</td>\n",
       "      <td>1.6626</td>\n",
       "    </tr>\n",
       "    <tr>\n",
       "      <th>lifetime</th>\n",
       "      <td>4.7118</td>\n",
       "      <td>0.9906</td>\n",
       "    </tr>\n",
       "    <tr>\n",
       "      <th>avg_class_frequency_total</th>\n",
       "      <td>2.0249</td>\n",
       "      <td>1.4750</td>\n",
       "    </tr>\n",
       "    <tr>\n",
       "      <th>avg_class_frequency_current_month</th>\n",
       "      <td>2.0279</td>\n",
       "      <td>1.0445</td>\n",
       "    </tr>\n",
       "  </tbody>\n",
       "</table>\n",
       "</div>"
      ],
      "text/plain": [
       "churn                                    0        1\n",
       "gender                              0.5100   0.5108\n",
       "near_location                       0.8731   0.7681\n",
       "partner                             0.5342   0.3553\n",
       "promo_friends                       0.3535   0.1838\n",
       "phone                               0.9037   0.9029\n",
       "contract_period                     5.7472   1.7286\n",
       "group_visits                        0.4641   0.2686\n",
       "age                                29.9765  26.9896\n",
       "avg_additional_charges_total      158.4457 115.0829\n",
       "month_to_end_contract               5.2831   1.6626\n",
       "lifetime                            4.7118   0.9906\n",
       "avg_class_frequency_total           2.0249   1.4750\n",
       "avg_class_frequency_current_month   2.0279   1.0445"
      ]
     },
     "execution_count": 8,
     "metadata": {},
     "output_type": "execute_result"
    }
   ],
   "source": [
    "df.groupby(['churn']).mean().T"
   ]
  },
  {
   "cell_type": "markdown",
   "metadata": {},
   "source": [
    "**Выводы:**\n",
    "- среди ушедших поровну мужчин и женщин\n",
    "- клиенты, которые живут или работаю не  в районе, где находится фитнес-центр, чаще на 11% отказываются от наших услуг\n",
    "- в отток клиентов больше попадают люди, не являющиеся сотрудниками компании-партнёры клуба (на 17,88% больше по сравнению с клиентами, решившими остаться с нами)\n",
    "- в отток клиентов больше попадают люди, не воспользовавшиеся промо-кодом от знакомого при оплате первого абонемента (на 16,98% больше по сравнению с клиентами, решившими остаться с нами)\n",
    "- наличие телефона в профайле клиента никак не влияет на шанс его оттока\n",
    "- средняя продолжительность абонемента у \"оставшихся\" клиентов -5,7 месяцев, решивших уйти - 1,7 месяца\n",
    "- ушедшие клиенты меньше в среднем посещают групповые занятия\n",
    "- среди ушедших клиентов ниже средний возраст по сравнению с оставшимися клиентами - 27 лет против 30\n",
    "- среди ушедших меньше средний чек за сопутствующие услуги нашего фитнес-центра\n",
    "- среди ушедших значительно меньше среднее количество месяцев до окончания контракта - 1,7 против 5,2 у оставшихся\n",
    "- средний лайфтайм среди ушедших - 1 месяц. Люди бросают занятия в среднем после 1 месяца занятий\n",
    "- в среднем,  ушедшие клиенты посещали фитнес 1,47 раза в неделю с начала покупки абонемента и 1,05 раз в неделю в последний месяц, в то время как оставшиеся клиенты стабильно ходят по 2 раза в месяц на занятия"
   ]
  },
  {
   "cell_type": "markdown",
   "metadata": {},
   "source": [
    "### Постройка столбчатых гистограмм и распределения признаков по группам клиентов "
   ]
  },
  {
   "cell_type": "markdown",
   "metadata": {},
   "source": [
    "Для анализа поделим датасет на 2: группу оставшихся и группу оттока. Все поля условно разделим на 2: количественные признаки и бинарные данные, для которых возможно только два показателя (1 или 0)"
   ]
  },
  {
   "cell_type": "code",
   "execution_count": 9,
   "metadata": {},
   "outputs": [],
   "source": [
    "quantitative_columns = ['avg_additional_charges_total', 'avg_class_frequency_total', \n",
    "                    'avg_class_frequency_current_month', 'lifetime', 'age', \n",
    "                    'contract_period', 'month_to_end_contract']\n",
    "binary_columns = ['gender', 'near_location', 'partner', 'promo_friends', 'phone', 'group_visits']\n",
    "\n",
    "churn = df.query('churn== 1')\n",
    "stay = df.query('churn== 0')"
   ]
  },
  {
   "cell_type": "code",
   "execution_count": 10,
   "metadata": {},
   "outputs": [
    {
     "data": {
      "image/png": "[encoded data removed]",
      "text/plain": [
       "<Figure size 1440x2880 with 14 Axes>"
      ]
     },
     "metadata": {},
     "output_type": "display_data"
    },
    {
     "data": {
      "text/plain": [
       "<Figure size 720x288 with 0 Axes>"
      ]
     },
     "metadata": {},
     "output_type": "display_data"
    },
    {
     "data": {
      "text/plain": [
       "<Figure size 720x288 with 0 Axes>"
      ]
     },
     "metadata": {},
     "output_type": "display_data"
    },
    {
     "data": {
      "text/plain": [
       "<Figure size 720x288 with 0 Axes>"
      ]
     },
     "metadata": {},
     "output_type": "display_data"
    },
    {
     "data": {
      "text/plain": [
       "<Figure size 720x288 with 0 Axes>"
      ]
     },
     "metadata": {},
     "output_type": "display_data"
    },
    {
     "data": {
      "text/plain": [
       "<Figure size 720x288 with 0 Axes>"
      ]
     },
     "metadata": {},
     "output_type": "display_data"
    },
    {
     "data": {
      "text/plain": [
       "<Figure size 720x288 with 0 Axes>"
      ]
     },
     "metadata": {},
     "output_type": "display_data"
    },
    {
     "data": {
      "text/plain": [
       "<Figure size 720x288 with 0 Axes>"
      ]
     },
     "metadata": {},
     "output_type": "display_data"
    },
    {
     "data": {
      "text/plain": [
       "<Figure size 432x288 with 0 Axes>"
      ]
     },
     "metadata": {},
     "output_type": "display_data"
    }
   ],
   "source": [
    "fig, axs = plt.subplots(7, 2, figsize=(20,40))\n",
    "for idx, ax in enumerate(axs):\n",
    "    \n",
    "    plt.figure(figsize=(10,4)) \n",
    "    column = quantitative_columns[idx]\n",
    "    sns.histplot(data = df, x = column, hue = 'churn' , ax = ax[0] )\n",
    "    sns.boxplot(x = 'churn', y = df[column], data = df, ax = ax[1])\n",
    "\n",
    "plt.show()\n",
    "plt.tight_layout()"
   ]
  },
  {
   "cell_type": "markdown",
   "metadata": {},
   "source": [
    "Данные группы графиков хорошо демонстрируют основные различия между группами оставшихся и ушедших клиентов:\n",
    "- медианное значение дополнительной выручки с клиента ниже и составляет `100$` против `150$` у оставшихся.\n",
    "- среднее число посещений в текущий месяц/неделю ниже у группы оттока. Можно сделать вывод, что если клиент посещает более 3-х занятий в месяц, то он точно \"обезопасен\" от попадания в группу оттока. Так же большинство ушедших клиентов вообще не посещало занятие в последний месяц\n",
    "- наибольший  отток с у клиентов с lifetime в 1-2 месяца и продолжительностью контракта в 1 месяц\n",
    "- медианное значение возраста в группе ушедших ниже"
   ]
  },
  {
   "cell_type": "code",
   "execution_count": 11,
   "metadata": {},
   "outputs": [
    {
     "data": {
      "image/png": "[encoded data removed]",
      "text/plain": [
       "<Figure size 1080x720 with 6 Axes>"
      ]
     },
     "metadata": {},
     "output_type": "display_data"
    }
   ],
   "source": [
    "fig, axs = plt.subplots(2, 3, figsize=(15,10))\n",
    "axs = axs.ravel()\n",
    "for idx, ax in enumerate(axs):\n",
    "    column = binary_columns[idx]\n",
    "    ax.hist(stay[column], label=\"stay\", alpha=0.5)\n",
    "    ax.hist(churn[column], label=\"gone\", alpha=0.5)\n",
    "    ax.set_title(column)\n",
    "    ax.legend()\n",
    "plt.tight_layout()"
   ]
  },
  {
   "cell_type": "markdown",
   "metadata": {},
   "source": [
    "Данная группа графиков в целом подтверждает выводы, сделанные в п.2.2 исследования."
   ]
  },
  {
   "cell_type": "markdown",
   "metadata": {},
   "source": [
    "### Постройка матрицы корреляции"
   ]
  },
  {
   "cell_type": "code",
   "execution_count": 12,
   "metadata": {
    "scrolled": false
   },
   "outputs": [
    {
     "data": {
      "image/png": "[encoded data removed]",
      "text/plain": [
       "<Figure size 1080x720 with 2 Axes>"
      ]
     },
     "metadata": {},
     "output_type": "display_data"
    }
   ],
   "source": [
    "corr_m = df.corr()\n",
    "plt.figure(figsize=(15,10))\n",
    "sns.heatmap(corr_m, square = True, annot = True, fmt = '0.2f', cmap= 'coolwarm')# нарисуем heatmap\n",
    "plt.title('Матрица корреляций')\n",
    "plt.show()"
   ]
  },
  {
   "cell_type": "markdown",
   "metadata": {},
   "source": [
    "Есть две пары мультиколлинеарных признаков (корреляция больше 0,8 по модулю значения): \n",
    "\n",
    "`Contract_period` - `Month_to_end_contract`\n",
    "\n",
    "`Avg_class_frequency_current_month` - `Avg_additional_charges_total`\n",
    "\n",
    "Остальные признаки слабо скоррелированны между собой.\n"
   ]
  },
  {
   "cell_type": "markdown",
   "metadata": {},
   "source": [
    "## Модель прогнозирования оттока клиентов"
   ]
  },
  {
   "cell_type": "code",
   "execution_count": 13,
   "metadata": {},
   "outputs": [],
   "source": [
    "# создадим функцию для вывода метрик \n",
    "def print_all_metrics(y_true, y_pred, y_proba, title = 'Метрики классификации'):\n",
    "    print(title)\n",
    "    print('\\tAccuracy: {:.2f}'.format(accuracy_score(y_true, y_pred)))\n",
    "    print('\\tPrecision: {:.2f}'.format(precision_score(y_true, y_pred)))\n",
    "    print('\\tRecall: {:.2f}'.format(recall_score(y_true, y_pred)))\n",
    "    print('\\tF1: {:.2f}'.format(f1_score(y_true, y_pred)))\n",
    "    print('*'*50)"
   ]
  },
  {
   "cell_type": "code",
   "execution_count": 14,
   "metadata": {},
   "outputs": [
    {
     "name": "stdout",
     "output_type": "stream",
     "text": [
      "Метрики для модели логистической регрессии:\n",
      "\tAccuracy: 0.94\n",
      "\tPrecision: 0.90\n",
      "\tRecall: 0.85\n",
      "\tF1: 0.87\n",
      "**************************************************\n",
      "Метрики для модели случайного леса:\n",
      "\tAccuracy: 0.92\n",
      "\tPrecision: 0.88\n",
      "\tRecall: 0.83\n",
      "\tF1: 0.85\n",
      "**************************************************\n"
     ]
    }
   ],
   "source": [
    "X = df.drop(['churn'], axis = 1)\n",
    "y = df['churn']\n",
    "# разделяем модель на обучающую и валидационную выборки\n",
    "# c добавлением параметра stratify для сохранения пропроций набора данных\n",
    "X_train, X_test, y_train, y_test = train_test_split(X, y, test_size=0.2, random_state=0,  stratify=y)\n",
    "\n",
    "scaler = StandardScaler()\n",
    "X_train_st = scaler.fit_transform(X_train)\n",
    "X_test_st = scaler.transform(X_test)\n",
    "\n",
    "\n",
    "lr_model = LogisticRegression(random_state=0)\n",
    "lr_model.fit(X_train_st, y_train)\n",
    "lr_predictions = lr_model.predict(X_test_st)\n",
    "lr_probabilities = lr_model.predict_proba(X_test_st)[:,1]\n",
    "\n",
    "print_all_metrics(y_test, lr_predictions, lr_probabilities , title='Метрики для модели логистической регрессии:')\n",
    "\n",
    "rf_model = RandomForestClassifier(n_estimators = 100, random_state = 0) \n",
    "rf_model.fit(X_train_st, y_train)\n",
    "rf_predictions = rf_model.predict(X_test_st)\n",
    "rf_probabilities = rf_model.predict_proba(X_test_st)[:,1]\n",
    "\n",
    "print_all_metrics(y_test, rf_predictions, rf_probabilities , title='Метрики для модели случайного леса:')"
   ]
  },
  {
   "cell_type": "markdown",
   "metadata": {},
   "source": [
    "Лучшие результаты показала модель логистической регрессии.\n",
    "\n",
    "Доля правильных ответов - 94%, точность - 90%, полнота - 85%, f1 мера- 87%. Хороший результат."
   ]
  },
  {
   "cell_type": "markdown",
   "metadata": {},
   "source": [
    "## Создание кластеризации клиентов"
   ]
  },
  {
   "cell_type": "code",
   "execution_count": 15,
   "metadata": {},
   "outputs": [
    {
     "data": {
      "image/png": "[encoded data removed]",
      "text/plain": [
       "<Figure size 1080x720 with 1 Axes>"
      ]
     },
     "metadata": {},
     "output_type": "display_data"
    }
   ],
   "source": [
    "X_st = scaler.fit_transform(X)\n",
    "linked = linkage(X_st, method='ward')\n",
    "plt.figure(figsize=(15, 10))\n",
    "dendrogram(linked, orientation='top')\n",
    "plt.title('Иерархическая кластеризация', fontsize=15)\n",
    "plt.show()"
   ]
  },
  {
   "cell_type": "markdown",
   "metadata": {},
   "source": [
    "Согласно дереву иерархической кластеризации оптимальное число кластеризации - 4"
   ]
  },
  {
   "cell_type": "markdown",
   "metadata": {},
   "source": [
    "Согласно условиям задачи обучим модель кластеризации на основании алгоритма K-Means и спрогнозируем кластеры клиентов. Примем  число кластеров равное 5."
   ]
  },
  {
   "cell_type": "code",
   "execution_count": 16,
   "metadata": {},
   "outputs": [],
   "source": [
    "km = KMeans(n_clusters = 5, random_state = 0)\n",
    "labels = km.fit_predict(X_st)\n",
    "df['cluster_km'] = labels"
   ]
  },
  {
   "cell_type": "code",
   "execution_count": 17,
   "metadata": {},
   "outputs": [
    {
     "data": {
      "text/html": [
       "<div>\n",
       "<style scoped>\n",
       "    .dataframe tbody tr th:only-of-type {\n",
       "        vertical-align: middle;\n",
       "    }\n",
       "\n",
       "    .dataframe tbody tr th {\n",
       "        vertical-align: top;\n",
       "    }\n",
       "\n",
       "    .dataframe thead th {\n",
       "        text-align: right;\n",
       "    }\n",
       "</style>\n",
       "<table border=\"1\" class=\"dataframe\">\n",
       "  <thead>\n",
       "    <tr style=\"text-align: right;\">\n",
       "      <th>cluster_km</th>\n",
       "      <th>0</th>\n",
       "      <th>1</th>\n",
       "      <th>2</th>\n",
       "      <th>3</th>\n",
       "      <th>4</th>\n",
       "    </tr>\n",
       "  </thead>\n",
       "  <tbody>\n",
       "    <tr>\n",
       "      <th>gender</th>\n",
       "      <td>0.5030</td>\n",
       "      <td>0.5221</td>\n",
       "      <td>0.4950</td>\n",
       "      <td>0.4857</td>\n",
       "      <td>0.5597</td>\n",
       "    </tr>\n",
       "    <tr>\n",
       "      <th>near_location</th>\n",
       "      <td>0.9594</td>\n",
       "      <td>0.8623</td>\n",
       "      <td>0.0000</td>\n",
       "      <td>1.0000</td>\n",
       "      <td>0.9761</td>\n",
       "    </tr>\n",
       "    <tr>\n",
       "      <th>partner</th>\n",
       "      <td>0.7832</td>\n",
       "      <td>0.4701</td>\n",
       "      <td>0.4634</td>\n",
       "      <td>0.3502</td>\n",
       "      <td>0.3568</td>\n",
       "    </tr>\n",
       "    <tr>\n",
       "      <th>promo_friends</th>\n",
       "      <td>0.5743</td>\n",
       "      <td>0.3065</td>\n",
       "      <td>0.0792</td>\n",
       "      <td>0.2401</td>\n",
       "      <td>0.2303</td>\n",
       "    </tr>\n",
       "    <tr>\n",
       "      <th>phone</th>\n",
       "      <td>1.0000</td>\n",
       "      <td>0.0000</td>\n",
       "      <td>1.0000</td>\n",
       "      <td>1.0000</td>\n",
       "      <td>0.9988</td>\n",
       "    </tr>\n",
       "    <tr>\n",
       "      <th>contract_period</th>\n",
       "      <td>10.8891</td>\n",
       "      <td>4.7870</td>\n",
       "      <td>2.3525</td>\n",
       "      <td>1.9485</td>\n",
       "      <td>2.6695</td>\n",
       "    </tr>\n",
       "    <tr>\n",
       "      <th>group_visits</th>\n",
       "      <td>0.5426</td>\n",
       "      <td>0.4260</td>\n",
       "      <td>0.2158</td>\n",
       "      <td>0.3415</td>\n",
       "      <td>0.4737</td>\n",
       "    </tr>\n",
       "    <tr>\n",
       "      <th>age</th>\n",
       "      <td>29.9822</td>\n",
       "      <td>29.3013</td>\n",
       "      <td>28.4772</td>\n",
       "      <td>28.1680</td>\n",
       "      <td>30.1253</td>\n",
       "    </tr>\n",
       "    <tr>\n",
       "      <th>avg_additional_charges_total</th>\n",
       "      <td>160.7610</td>\n",
       "      <td>143.9577</td>\n",
       "      <td>135.4575</td>\n",
       "      <td>131.6222</td>\n",
       "      <td>161.6579</td>\n",
       "    </tr>\n",
       "    <tr>\n",
       "      <th>month_to_end_contract</th>\n",
       "      <td>9.9545</td>\n",
       "      <td>4.4753</td>\n",
       "      <td>2.1980</td>\n",
       "      <td>1.8566</td>\n",
       "      <td>2.4594</td>\n",
       "    </tr>\n",
       "    <tr>\n",
       "      <th>lifetime</th>\n",
       "      <td>4.7366</td>\n",
       "      <td>3.9247</td>\n",
       "      <td>2.8099</td>\n",
       "      <td>2.4406</td>\n",
       "      <td>4.8986</td>\n",
       "    </tr>\n",
       "    <tr>\n",
       "      <th>avg_class_frequency_total</th>\n",
       "      <td>1.9821</td>\n",
       "      <td>1.8472</td>\n",
       "      <td>1.6605</td>\n",
       "      <td>1.2476</td>\n",
       "      <td>2.8520</td>\n",
       "    </tr>\n",
       "    <tr>\n",
       "      <th>avg_class_frequency_current_month</th>\n",
       "      <td>1.9748</td>\n",
       "      <td>1.7164</td>\n",
       "      <td>1.4773</td>\n",
       "      <td>1.0130</td>\n",
       "      <td>2.8502</td>\n",
       "    </tr>\n",
       "    <tr>\n",
       "      <th>churn</th>\n",
       "      <td>0.0277</td>\n",
       "      <td>0.2675</td>\n",
       "      <td>0.4436</td>\n",
       "      <td>0.5143</td>\n",
       "      <td>0.0680</td>\n",
       "    </tr>\n",
       "  </tbody>\n",
       "</table>\n",
       "</div>"
      ],
      "text/plain": [
       "cluster_km                               0        1        2        3        4\n",
       "gender                              0.5030   0.5221   0.4950   0.4857   0.5597\n",
       "near_location                       0.9594   0.8623   0.0000   1.0000   0.9761\n",
       "partner                             0.7832   0.4701   0.4634   0.3502   0.3568\n",
       "promo_friends                       0.5743   0.3065   0.0792   0.2401   0.2303\n",
       "phone                               1.0000   0.0000   1.0000   1.0000   0.9988\n",
       "contract_period                    10.8891   4.7870   2.3525   1.9485   2.6695\n",
       "group_visits                        0.5426   0.4260   0.2158   0.3415   0.4737\n",
       "age                                29.9822  29.3013  28.4772  28.1680  30.1253\n",
       "avg_additional_charges_total      160.7610 143.9577 135.4575 131.6222 161.6579\n",
       "month_to_end_contract               9.9545   4.4753   2.1980   1.8566   2.4594\n",
       "lifetime                            4.7366   3.9247   2.8099   2.4406   4.8986\n",
       "avg_class_frequency_total           1.9821   1.8472   1.6605   1.2476   2.8520\n",
       "avg_class_frequency_current_month   1.9748   1.7164   1.4773   1.0130   2.8502\n",
       "churn                               0.0277   0.2675   0.4436   0.5143   0.0680"
      ]
     },
     "execution_count": 17,
     "metadata": {},
     "output_type": "execute_result"
    }
   ],
   "source": [
    "df.groupby('cluster_km').mean().T"
   ]
  },
  {
   "cell_type": "code",
   "execution_count": 18,
   "metadata": {
    "scrolled": true
   },
   "outputs": [
    {
     "data": {
      "image/png": "[encoded data removed]",
      "text/plain": [
       "<Figure size 1080x1440 with 6 Axes>"
      ]
     },
     "metadata": {},
     "output_type": "display_data"
    }
   ],
   "source": [
    "column_cluster= ['gender', 'near_location', 'partner', 'promo_friends', \n",
    "                       'group_visits', 'churn']\n",
    "\n",
    "fig, axs = plt.subplots(3, 2, figsize=(15,20))\n",
    "axs = axs.ravel()\n",
    "\n",
    "for idx, ax in enumerate(axs):\n",
    "    column = column_cluster[idx]\n",
    "    sns.countplot(data = df, x = column, hue='cluster_km', ax = ax)\n",
    "plt.tight_layout()"
   ]
  },
  {
   "cell_type": "code",
   "execution_count": 19,
   "metadata": {
    "scrolled": true
   },
   "outputs": [
    {
     "data": {
      "image/png": "[encoded data removed]",
      "text/plain": [
       "<Figure size 1080x1440 with 6 Axes>"
      ]
     },
     "metadata": {},
     "output_type": "display_data"
    },
    {
     "data": {
      "text/plain": [
       "<Figure size 432x288 with 0 Axes>"
      ]
     },
     "metadata": {},
     "output_type": "display_data"
    }
   ],
   "source": [
    "boxplot_columns = ['month_to_end_contract', 'age', 'avg_additional_charges_total', 'lifetime', \n",
    "                   'avg_class_frequency_total', 'avg_class_frequency_current_month']\n",
    "\n",
    "fig, axs = plt.subplots(3, 2, figsize=(15,20))\n",
    "axs = axs.ravel()\n",
    "\n",
    "for idx, ax in enumerate(axs):\n",
    "    column = boxplot_columns[idx]\n",
    "    sns.boxplot(x = 'cluster_km', y = df[column], data = df, ax = ax)\n",
    "\n",
    "plt.show()\n",
    "plt.tight_layout()"
   ]
  },
  {
   "cell_type": "markdown",
   "metadata": {
    "scrolled": true
   },
   "source": [
    "Итак, с помощью модели кластеризации получили 5 кластера:\n",
    "\n",
    "*Кластер 0*\n",
    "- живут и работают рядом с фитнес-центрами\n",
    "- **78% клиентов пришли по партнерской программе** - максимальный результат среди всех класстеров\n",
    "- **57% клиентов пришли по акции \"Приведи друга\"** - максимальный результат среди всех класстеров\n",
    "- в группу входят клиенты с максимальными продолжительностью контрактов, и предмаксимальными значениями по выручке с клиента, лайфтаймом\n",
    "- 54% клиентов посещают групповые занятия\n",
    "- стабильно ходят почти 2 раза в месяц на протяжении всего периода на занятия\n",
    "- **минимальный процент оттока клиентов- всего 2,7%**\n",
    "\n",
    "*Кластер 1*\n",
    "- в основном живут и работаю рядом с фитнес-центрами\n",
    "- нет данных о контактных телефонов\n",
    "- среднестатистические показатели по процентам посещения групповых тренировок, пришедшим по партнерским программам и акции \"Приведи друга\", выручки с 1 клиента, показателям по количеству посещаемых тренировок в месяц\n",
    "- средняя продолжительность контракта в группе - 4,7 месяца, лайфтайм -3,9 месяца\n",
    "- отток - 26%, что довольно много на мой взгляд для показателей данной группы\n",
    "\n",
    "*Кластер 2*\n",
    "- **живут и работают далеко от фитнес-клуба**\n",
    "- **минимальный процент пришедших по акции \"Приведи друга\"**\n",
    "- мало посещают групповые тренировки\n",
    "- средний чек с дополнительных услуг один из самых низких\n",
    "- отток в 44%\n",
    "\n",
    "*Кластер 3*\n",
    "- самое высокое значение оттока клиентов - 51%\n",
    "- **реже всех посещают фитнес-кубы**\n",
    "- наименьшая продолжительность контракта - до 1,9 месяца в среднем\n",
    "- минимальная выручка с дополнительных услуг\n",
    "\n",
    "*Кластер 4* \n",
    "- Процент ушедших клиентов - 6,8%\n",
    "- маленькая доля клиентов пришла по партнерской программе и акции \"Приведи друга\"\n",
    "- средняя продолжительность контракта - 2,6 месяца, лайфиайм 4,8 месяца\n",
    "- большая доля посещающих ходят на групповые занятия\n",
    "- **рекордсмены по количеству посещений   фитнес-центров в последний месяц и в среднем, 2,8 визита**\n",
    "- **наивысшая дополнительная выручка с клиента в данной группе - `161$` в среднем**"
   ]
  },
  {
   "cell_type": "markdown",
   "metadata": {},
   "source": [
    "## Выводы и базовые рекомендации по работе с клиентами"
   ]
  },
  {
   "cell_type": "markdown",
   "metadata": {},
   "source": [
    "**Первоначальный анализ данных показал:**\n",
    "- Распределение по полу среди клиентов фитнес клуба примерно равное\n",
    "- Почти 85 % клиентов живут или работают в непосредственной близости от фитнес-клубов «Культурист-датасаентист»\n",
    "- Почти половина клиентов являются сотрудниками компании-партнёра клуба\n",
    "- Только 31% клиентов  использовали промо-код от знакомого при оплате первого абонемента (по акции \"Приведи друга\")\n",
    "- 10% клиентов отказались давать свой контактный номер телефона\n",
    "- Средняя продолжительность абонемента составляет 4,6 месяца\n",
    "- Имеется сильный разброс продолжительности абонементов, среднеквадратичное отклонение составляет 4,5 месяца\n",
    "- 41% клиентов ходят на групповые занятия\n",
    "- Средний возраст клиентов - 29,2 лет, при этом можно сказать что сильные колебания данного показателя отсутствую, среднеквадратичное отклонение составляет всего 3,2 года. Самому молодому клиенту - 18 лет, самому возрастному -41 год.\n",
    "- Средняя суммарная выручка от дополнительных услуг на 1 клиента составляет `146$` на человека\n",
    "- Средний лайфтайм наших клиентов составляет 3,7 месяца, при этом у нас есть клиенты, которые пользовались нашими услугами целых 31 месяц\n",
    "- В среднем, каждый клиент посещал наши фитнес-центры 1,8 раз в месяц. Только 25% клиентов посещали нас больше, чем 2,5 раза в месяц, максимальное значение среднего числа посещений - 6,1 раз в месяц\n",
    "- 26,5% клиентов \"ушли\" из нашей сети фитнес-клубов в текущем месяце\n",
    "\n",
    "\n",
    "**Анализ клиентов по группам ушедших в отток/оставшихся клиентов:**\n",
    "- среди ушедших поровну мужчин и женщин\n",
    "- клиенты, которые живут или работаю не  в районе, где находится фитнес-центр, чаще на 11% отказываются от наших услуг\n",
    "- в отток клиентов больше попадают люди, не являющиеся сотрудниками компании-партнёры клуба (на 17,88% больше по сравнению с клиентами, решившими остаться с нами)\n",
    "- в отток клиентов больше попадают люди, не воспользовавшиеся промо-кодом от знакомого при оплате первого абонемента (на 16,98% больше по сравнению с клиентами, решившими остаться с нами)\n",
    "- наличие телефона в профайле клиента никак не влияет на шанс его оттока\n",
    "- средняя продолжительность абонемента у \"оставшихся\" клиентов - 5,7 месяца, решивших уйти - 1,7 месяца\n",
    "- ушедшие клиенты меньше в среднем посещают групповые занятия\n",
    "- среди ушедших клиентов ниже средний возраст по сравнению с оставшимися клиентами - 27 лет против 30\n",
    "- среди ушедших меньше средний чек за сопутствующие услуги нашего фитнес-центра\n",
    "- среди ушедших значительно меньше среднее количество месяцев до окончания контракта - 1,7 против 5,2 у оставшихся\n",
    "- средний лайфтайм среди ушедших - 1 месяц. Люди бросают занятия в среднем после 1 месяца занятий\n",
    "- в среднем,  ушедшие клиенты посещали фитнес 1,47 раза в неделю с начала покупки абонемента и 1,05 раз в неделю в последний месяц, в то время как оставшиеся клиенты стабильно ходят по 2 раза в месяц на занятия. Можно сделать вывод, что если клиент посещает более 3-х занятий в месяц, то он точно \"обезопасен\" от попадания в группу оттока. Так же большинство ушедших клиентов вообще не посещало занятие в последний месяц\n",
    "- наибольший  отток с у клиентов с lifetime в 1-2 месяца и продолжительностью контракта в 1 месяц\n",
    "- Явная зависимость между оттоком и остальными признаками отсутствует. Есть две пары мультиколлинеарных признаков(корреляция больше 0,8 по модулю значения): `Contract_period` - `Month_to_end_contract`; `Avg_class_frequency_current_month` - `Avg_additional_charges_total`. Остальные признаки слабо скоррелированны между собой\n",
    "\n",
    "\n",
    "**При построении модели бинарной классификации клиентов, где целевой признак — факт оттока клиента в следующем месяце** лучшие результаты показала модель логистической регрессии. Доля правильных ответов - 94%, точность - 90%, полнота - 85%, f1 мера- 87%. Хороший результат..\n",
    "\n",
    "\n",
    "**Произведена кластеризация пользователей на 5 групп с помощью алгоритма K-Means.** Получены кластеры:\n",
    "\n",
    "*Кластер 0*\n",
    "- живут и работают рядом с фитнес-центрами\n",
    "- **78% клиентов пришли по партнерской программе** - максимальный результат среди всех кластеров\n",
    "- **57% клиентов пришли по акции \"Приведи друга\"** - максимальный результат среди всех кластеров\n",
    "- в группу входят клиенты с максимальными продолжительностью контрактов, и предмаксимальными значениями по выручке с клиента, лайфтаймом\n",
    "- 54% клиентов посещают групповые занятия\n",
    "- стабильно ходят почти 2 раза в месяц на протяжении всего периода на занятия\n",
    "- **минимальный процент оттока клиентов - всего 2,7%**\n",
    "\n",
    "*Кластер 1*\n",
    "- в основном живут и работаю рядом с фитнес-центрами\n",
    "- нет данных о контактных телефонов\n",
    "- среднестатистические показатели по процентам посещения групповых тренировок, пришедшим по партнерским программам и акции \"Приведи друга\", выручки с 1 клиента, показателям по количеству посещаемых тренировок в месяц\n",
    "- средняя продолжительность контракта в группе - 4,7 месяца, лайфтайм -3,9 месяца\n",
    "- отток - 26%, что довольно много на мой взгляд для показателей данной группы\n",
    "\n",
    "*Кластер 2*\n",
    "- **живут и работают далеко от фитнес-клуба**\n",
    "- **минимальный процент пришедших по акции \"Приведи друга\"**\n",
    "- мало посещают групповые тренировки\n",
    "- средний чек с дополнительных услуг один из самых низких\n",
    "- отток в 44%\n",
    "\n",
    "*Кластер 3*\n",
    "- самое высокое значение оттока клиентов - 51%\n",
    "- **реже всех посещают фитнес-кубы**\n",
    "- наименьшая продолжительность контракта - до 1,9 месяца в среднем\n",
    "- минимальная выручка с дополнительных услуг\n",
    "\n",
    "*Кластер 4* \n",
    "- Процент ушедших клиентов - 6,8%\n",
    "- маленькая доля клиентов пришла по партнерской программе и акции \"Приведи друга\"\n",
    "- средняя продолжительность контракта - 2,6 месяца, лайфиайм 4,8 месяца\n",
    "- большая доля посещающих ходят на групповые занятия\n",
    "- **рекордсмены по количеству посещений   фитнес-центров в последний месяц и в среднем, 2,8 визита**\n",
    "- **наивысшая дополнительная выручка с клиента в данной группе - 161$ в среднем**"
   ]
  },
  {
   "cell_type": "markdown",
   "metadata": {},
   "source": [
    "**Рекомендации:**\n",
    "\n",
    "С помощью модели класстеризации было выявлено, что наибольшему оттоку подвержены клиенты с малым количеством посещаемых занятий в месяц, малой продолжительностью абониментов.\n",
    "\n",
    "Поэтому рекомендации очевидны:\n",
    "- сделать акцент на количество посещений клиетов наших фитнес-центров. По статистике наших данных, если клиент посещает более 3-х занятий в месяц, то он почти точно \"обезопасен\" от попадания в группу оттока. Так же большинство ушедших клиентов вообще не посещало занятие в последний месяц\n",
    "- наибольший отток среди клиентов с короткой продолжительностью абониментов - сделать акцент на приобритении контратов с большей продолжительностью\n",
    "- активней привлекать клиентов по партнерской программе и акции \"Приведи друга\" и на посещение групповых тренировок."
   ]
  }
 ],
 "metadata": {
  "ExecuteTimeLog": [
   {
    "duration": 1595,
    "start_time": "2022-07-07T08:41:52.849Z"
   },
   {
    "duration": 278,
    "start_time": "2022-07-07T08:42:30.142Z"
   },
   {
    "duration": 69,
    "start_time": "2022-07-09T08:52:28.971Z"
   },
   {
    "duration": 1701,
    "start_time": "2022-07-09T08:52:32.420Z"
   },
   {
    "duration": 65,
    "start_time": "2022-07-09T08:52:35.220Z"
   },
   {
    "duration": 30,
    "start_time": "2022-07-09T08:52:47.656Z"
   },
   {
    "duration": 82,
    "start_time": "2022-07-09T08:54:11.290Z"
   },
   {
    "duration": 52,
    "start_time": "2022-07-09T08:54:45.308Z"
   },
   {
    "duration": 32,
    "start_time": "2022-07-09T08:56:49.204Z"
   },
   {
    "duration": 24,
    "start_time": "2022-07-09T09:09:05.270Z"
   },
   {
    "duration": 1517,
    "start_time": "2022-07-09T09:45:44.200Z"
   },
   {
    "duration": 1566,
    "start_time": "2022-07-09T09:46:04.369Z"
   },
   {
    "duration": 1394,
    "start_time": "2022-07-09T09:46:27.586Z"
   },
   {
    "duration": 1487,
    "start_time": "2022-07-09T09:46:33.933Z"
   },
   {
    "duration": 1508,
    "start_time": "2022-07-09T09:47:45.418Z"
   },
   {
    "duration": 1743,
    "start_time": "2022-07-09T09:47:57.996Z"
   },
   {
    "duration": 1560,
    "start_time": "2022-07-09T09:48:31.262Z"
   },
   {
    "duration": 1580,
    "start_time": "2022-07-09T09:48:40.878Z"
   },
   {
    "duration": 145,
    "start_time": "2022-07-10T12:09:38.692Z"
   },
   {
    "duration": 1684,
    "start_time": "2022-07-10T12:09:42.988Z"
   },
   {
    "duration": 140,
    "start_time": "2022-07-10T12:09:44.674Z"
   },
   {
    "duration": 17,
    "start_time": "2022-07-10T12:09:44.815Z"
   },
   {
    "duration": 49,
    "start_time": "2022-07-10T12:09:46.172Z"
   },
   {
    "duration": 17,
    "start_time": "2022-07-10T12:09:48.274Z"
   },
   {
    "duration": 82,
    "start_time": "2022-07-10T12:09:52.848Z"
   },
   {
    "duration": 1663,
    "start_time": "2022-07-10T12:10:02.953Z"
   },
   {
    "duration": 1545,
    "start_time": "2022-07-10T12:10:47.808Z"
   },
   {
    "duration": 2625,
    "start_time": "2022-07-10T12:22:27.782Z"
   },
   {
    "duration": 2351,
    "start_time": "2022-07-10T12:22:47.921Z"
   },
   {
    "duration": 2475,
    "start_time": "2022-07-10T12:23:31.458Z"
   },
   {
    "duration": 2521,
    "start_time": "2022-07-10T12:23:38.639Z"
   },
   {
    "duration": 3526,
    "start_time": "2022-07-10T12:23:46.501Z"
   },
   {
    "duration": 2386,
    "start_time": "2022-07-10T12:24:08.716Z"
   },
   {
    "duration": 2438,
    "start_time": "2022-07-10T12:24:59.797Z"
   },
   {
    "duration": 2234,
    "start_time": "2022-07-10T12:25:11.405Z"
   },
   {
    "duration": 2509,
    "start_time": "2022-07-10T12:25:45.423Z"
   },
   {
    "duration": 2425,
    "start_time": "2022-07-10T12:29:43.023Z"
   },
   {
    "duration": 13,
    "start_time": "2022-07-10T12:30:16.670Z"
   },
   {
    "duration": 22,
    "start_time": "2022-07-10T12:30:33.783Z"
   },
   {
    "duration": 2728,
    "start_time": "2022-07-10T12:30:52.105Z"
   },
   {
    "duration": 3141,
    "start_time": "2022-07-10T12:31:25.926Z"
   },
   {
    "duration": 48,
    "start_time": "2022-07-10T16:01:03.944Z"
   },
   {
    "duration": 1539,
    "start_time": "2022-07-10T16:03:10.373Z"
   },
   {
    "duration": 59,
    "start_time": "2022-07-10T16:03:11.914Z"
   },
   {
    "duration": 16,
    "start_time": "2022-07-10T16:03:21.651Z"
   },
   {
    "duration": 45,
    "start_time": "2022-07-10T16:03:23.762Z"
   },
   {
    "duration": 16,
    "start_time": "2022-07-10T16:03:25.040Z"
   },
   {
    "duration": 2878,
    "start_time": "2022-07-10T16:03:25.850Z"
   },
   {
    "duration": 0,
    "start_time": "2022-07-10T16:03:28.730Z"
   },
   {
    "duration": 0,
    "start_time": "2022-07-10T16:03:28.732Z"
   },
   {
    "duration": 19,
    "start_time": "2022-07-10T16:03:34.971Z"
   },
   {
    "duration": 1073,
    "start_time": "2022-07-10T16:03:35.643Z"
   },
   {
    "duration": 928,
    "start_time": "2022-07-10T16:03:58.060Z"
   },
   {
    "duration": 19,
    "start_time": "2022-07-10T16:04:42.819Z"
   },
   {
    "duration": 11,
    "start_time": "2022-07-10T16:05:52.155Z"
   },
   {
    "duration": 9,
    "start_time": "2022-07-10T16:06:59.741Z"
   },
   {
    "duration": 7,
    "start_time": "2022-07-10T16:07:03.083Z"
   },
   {
    "duration": 4,
    "start_time": "2022-07-10T16:07:49.489Z"
   },
   {
    "duration": 9,
    "start_time": "2022-07-10T16:07:49.986Z"
   },
   {
    "duration": 12,
    "start_time": "2022-07-10T16:07:51.482Z"
   },
   {
    "duration": 14,
    "start_time": "2022-07-10T16:08:08.170Z"
   },
   {
    "duration": 1106,
    "start_time": "2022-07-10T16:08:11.434Z"
   },
   {
    "duration": 1958,
    "start_time": "2022-07-10T16:09:34.458Z"
   },
   {
    "duration": 10,
    "start_time": "2022-07-10T16:10:02.651Z"
   },
   {
    "duration": 10,
    "start_time": "2022-07-10T16:11:20.851Z"
   },
   {
    "duration": 13,
    "start_time": "2022-07-10T16:11:24.638Z"
   },
   {
    "duration": 1473,
    "start_time": "2022-07-10T16:11:31.163Z"
   },
   {
    "duration": 10,
    "start_time": "2022-07-10T16:14:45.186Z"
   },
   {
    "duration": 3,
    "start_time": "2022-07-10T16:15:06.953Z"
   },
   {
    "duration": 4,
    "start_time": "2022-07-10T16:15:12.570Z"
   },
   {
    "duration": 10,
    "start_time": "2022-07-10T16:15:23.289Z"
   },
   {
    "duration": 1802,
    "start_time": "2022-07-10T16:22:55.810Z"
   },
   {
    "duration": 1707,
    "start_time": "2022-07-10T16:24:01.307Z"
   },
   {
    "duration": 8,
    "start_time": "2022-07-10T16:24:07.138Z"
   },
   {
    "duration": 3562,
    "start_time": "2022-07-10T16:24:08.883Z"
   },
   {
    "duration": 3369,
    "start_time": "2022-07-10T16:24:49.434Z"
   },
   {
    "duration": 3700,
    "start_time": "2022-07-10T16:26:27.003Z"
   },
   {
    "duration": 3519,
    "start_time": "2022-07-10T16:26:54.187Z"
   },
   {
    "duration": 1826,
    "start_time": "2022-07-10T16:27:28.059Z"
   },
   {
    "duration": 1500,
    "start_time": "2022-07-10T16:29:07.267Z"
   },
   {
    "duration": 1634,
    "start_time": "2022-07-10T16:29:22.394Z"
   },
   {
    "duration": 56,
    "start_time": "2022-07-10T16:30:09.147Z"
   },
   {
    "duration": 45,
    "start_time": "2022-07-10T16:30:24.451Z"
   },
   {
    "duration": 1687,
    "start_time": "2022-07-10T16:30:37.482Z"
   },
   {
    "duration": 1637,
    "start_time": "2022-07-10T16:30:55.307Z"
   },
   {
    "duration": 4080,
    "start_time": "2022-07-10T16:31:30.587Z"
   },
   {
    "duration": 3701,
    "start_time": "2022-07-10T16:32:55.910Z"
   },
   {
    "duration": 3524,
    "start_time": "2022-07-10T16:33:01.372Z"
   },
   {
    "duration": 3719,
    "start_time": "2022-07-10T16:33:36.099Z"
   },
   {
    "duration": 3182,
    "start_time": "2022-07-10T16:34:21.891Z"
   },
   {
    "duration": 3331,
    "start_time": "2022-07-10T16:35:06.471Z"
   },
   {
    "duration": 3322,
    "start_time": "2022-07-10T16:35:32.948Z"
   },
   {
    "duration": 3233,
    "start_time": "2022-07-10T16:35:52.211Z"
   },
   {
    "duration": 3162,
    "start_time": "2022-07-10T16:36:29.132Z"
   },
   {
    "duration": 3240,
    "start_time": "2022-07-10T16:37:00.427Z"
   },
   {
    "duration": 1451,
    "start_time": "2022-07-10T16:46:12.116Z"
   },
   {
    "duration": 3409,
    "start_time": "2022-07-10T16:46:36.365Z"
   },
   {
    "duration": 3577,
    "start_time": "2022-07-10T16:48:32.838Z"
   },
   {
    "duration": 3985,
    "start_time": "2022-07-10T16:49:04.220Z"
   },
   {
    "duration": 3935,
    "start_time": "2022-07-10T16:49:15.893Z"
   },
   {
    "duration": 3,
    "start_time": "2022-07-10T16:51:09.909Z"
   },
   {
    "duration": 4,
    "start_time": "2022-07-10T16:51:13.651Z"
   },
   {
    "duration": 27,
    "start_time": "2022-07-10T16:51:15.036Z"
   },
   {
    "duration": 3,
    "start_time": "2022-07-10T16:51:17.483Z"
   },
   {
    "duration": 8,
    "start_time": "2022-07-10T16:51:17.804Z"
   },
   {
    "duration": 13,
    "start_time": "2022-07-10T16:51:18.158Z"
   },
   {
    "duration": 43,
    "start_time": "2022-07-10T16:51:19.188Z"
   },
   {
    "duration": 13,
    "start_time": "2022-07-10T16:51:19.821Z"
   },
   {
    "duration": 1626,
    "start_time": "2022-07-10T16:51:20.483Z"
   },
   {
    "duration": 0,
    "start_time": "2022-07-10T16:51:22.111Z"
   },
   {
    "duration": 0,
    "start_time": "2022-07-10T16:51:22.113Z"
   },
   {
    "duration": 0,
    "start_time": "2022-07-10T16:51:22.114Z"
   },
   {
    "duration": 19,
    "start_time": "2022-07-10T16:51:44.388Z"
   },
   {
    "duration": 1909,
    "start_time": "2022-07-10T16:51:46.014Z"
   },
   {
    "duration": 0,
    "start_time": "2022-07-10T16:51:47.925Z"
   },
   {
    "duration": 7,
    "start_time": "2022-07-10T16:51:48.443Z"
   },
   {
    "duration": 3796,
    "start_time": "2022-07-10T16:52:09.288Z"
   },
   {
    "duration": 53,
    "start_time": "2022-07-10T16:53:57.581Z"
   },
   {
    "duration": 1182,
    "start_time": "2022-07-10T16:54:00.092Z"
   },
   {
    "duration": 1511,
    "start_time": "2022-07-10T16:54:27.750Z"
   },
   {
    "duration": 1246,
    "start_time": "2022-07-10T16:56:43.638Z"
   },
   {
    "duration": 1095,
    "start_time": "2022-07-10T16:56:58.934Z"
   },
   {
    "duration": 63,
    "start_time": "2022-07-10T16:57:41.061Z"
   },
   {
    "duration": 225,
    "start_time": "2022-07-10T16:57:43.971Z"
   },
   {
    "duration": 2759,
    "start_time": "2022-07-10T16:57:47.116Z"
   },
   {
    "duration": 2912,
    "start_time": "2022-07-10T17:00:33.876Z"
   },
   {
    "duration": 2822,
    "start_time": "2022-07-10T17:01:42.876Z"
   },
   {
    "duration": 10,
    "start_time": "2022-07-10T17:02:36.884Z"
   },
   {
    "duration": 1172,
    "start_time": "2022-07-10T17:02:39.804Z"
   },
   {
    "duration": 3,
    "start_time": "2022-07-10T17:04:11.659Z"
   },
   {
    "duration": 1424,
    "start_time": "2022-07-10T17:05:14.425Z"
   },
   {
    "duration": 3,
    "start_time": "2022-07-10T17:05:15.851Z"
   },
   {
    "duration": 38,
    "start_time": "2022-07-10T17:05:15.861Z"
   },
   {
    "duration": 3,
    "start_time": "2022-07-10T17:05:15.902Z"
   },
   {
    "duration": 11,
    "start_time": "2022-07-10T17:05:15.907Z"
   },
   {
    "duration": 16,
    "start_time": "2022-07-10T17:05:15.920Z"
   },
   {
    "duration": 52,
    "start_time": "2022-07-10T17:05:15.938Z"
   },
   {
    "duration": 17,
    "start_time": "2022-07-10T17:05:15.991Z"
   },
   {
    "duration": 2450,
    "start_time": "2022-07-10T17:05:16.010Z"
   },
   {
    "duration": 0,
    "start_time": "2022-07-10T17:05:18.463Z"
   },
   {
    "duration": 0,
    "start_time": "2022-07-10T17:05:18.465Z"
   },
   {
    "duration": 0,
    "start_time": "2022-07-10T17:05:18.466Z"
   },
   {
    "duration": 0,
    "start_time": "2022-07-10T17:05:18.468Z"
   },
   {
    "duration": 0,
    "start_time": "2022-07-10T17:05:18.469Z"
   },
   {
    "duration": 2,
    "start_time": "2022-07-10T17:05:40.877Z"
   },
   {
    "duration": 8,
    "start_time": "2022-07-10T17:05:46.832Z"
   },
   {
    "duration": 2,
    "start_time": "2022-07-10T17:05:49.362Z"
   },
   {
    "duration": 2936,
    "start_time": "2022-07-10T17:05:52.578Z"
   },
   {
    "duration": 1142,
    "start_time": "2022-07-10T17:06:11.435Z"
   },
   {
    "duration": 2967,
    "start_time": "2022-07-10T17:07:18.231Z"
   },
   {
    "duration": 2439,
    "start_time": "2022-07-10T17:07:41.050Z"
   },
   {
    "duration": 50,
    "start_time": "2022-07-10T17:08:03.210Z"
   },
   {
    "duration": 2393,
    "start_time": "2022-07-10T17:08:15.450Z"
   },
   {
    "duration": 2992,
    "start_time": "2022-07-10T17:08:26.306Z"
   },
   {
    "duration": 2915,
    "start_time": "2022-07-10T17:08:38.698Z"
   },
   {
    "duration": 48,
    "start_time": "2022-07-10T17:09:10.138Z"
   },
   {
    "duration": 62,
    "start_time": "2022-07-10T17:09:16.298Z"
   },
   {
    "duration": 4111,
    "start_time": "2022-07-10T17:09:29.002Z"
   },
   {
    "duration": 495,
    "start_time": "2022-07-10T17:10:30.004Z"
   },
   {
    "duration": 520,
    "start_time": "2022-07-10T17:11:03.859Z"
   },
   {
    "duration": 1242,
    "start_time": "2022-07-10T19:08:32.449Z"
   },
   {
    "duration": 486,
    "start_time": "2022-07-10T19:10:39.312Z"
   },
   {
    "duration": 1151,
    "start_time": "2022-07-10T19:11:16.986Z"
   },
   {
    "duration": 1375,
    "start_time": "2022-07-10T19:11:30.347Z"
   },
   {
    "duration": 1171,
    "start_time": "2022-07-10T19:11:50.001Z"
   },
   {
    "duration": 1286,
    "start_time": "2022-07-10T19:11:56.048Z"
   },
   {
    "duration": 1463,
    "start_time": "2022-07-10T19:12:01.377Z"
   },
   {
    "duration": 1556,
    "start_time": "2022-07-10T19:12:08.746Z"
   },
   {
    "duration": 1246,
    "start_time": "2022-07-10T19:12:57.074Z"
   },
   {
    "duration": 1344,
    "start_time": "2022-07-10T19:13:06.777Z"
   },
   {
    "duration": 1338,
    "start_time": "2022-07-10T19:13:16.573Z"
   },
   {
    "duration": 61,
    "start_time": "2022-07-10T19:17:48.271Z"
   },
   {
    "duration": 1518,
    "start_time": "2022-07-10T19:17:55.739Z"
   },
   {
    "duration": 3,
    "start_time": "2022-07-10T19:32:37.838Z"
   },
   {
    "duration": 4,
    "start_time": "2022-07-10T19:33:19.998Z"
   },
   {
    "duration": 20,
    "start_time": "2022-07-10T19:35:22.607Z"
   },
   {
    "duration": 46,
    "start_time": "2022-07-10T19:37:39.422Z"
   },
   {
    "duration": 319,
    "start_time": "2022-07-10T19:38:03.335Z"
   },
   {
    "duration": 18,
    "start_time": "2022-07-10T19:38:08.111Z"
   },
   {
    "duration": 297,
    "start_time": "2022-07-10T19:38:14.471Z"
   },
   {
    "duration": 6,
    "start_time": "2022-07-10T19:38:48.844Z"
   },
   {
    "duration": 371,
    "start_time": "2022-07-10T19:38:56.304Z"
   },
   {
    "duration": 4,
    "start_time": "2022-07-10T19:39:23.654Z"
   },
   {
    "duration": 3,
    "start_time": "2022-07-10T19:39:30.182Z"
   },
   {
    "duration": 4,
    "start_time": "2022-07-10T19:39:34.974Z"
   },
   {
    "duration": 641,
    "start_time": "2022-07-10T19:39:35.477Z"
   },
   {
    "duration": 114459,
    "start_time": "2022-07-10T19:44:41.215Z"
   },
   {
    "duration": 114757,
    "start_time": "2022-07-10T19:48:29.607Z"
   },
   {
    "duration": 1377,
    "start_time": "2022-07-10T19:51:24.889Z"
   },
   {
    "duration": 105,
    "start_time": "2022-07-10T19:51:26.269Z"
   },
   {
    "duration": 14,
    "start_time": "2022-07-10T19:51:40.206Z"
   },
   {
    "duration": 12,
    "start_time": "2022-07-10T19:58:04.742Z"
   },
   {
    "duration": 4,
    "start_time": "2022-07-10T19:58:07.718Z"
   },
   {
    "duration": 11,
    "start_time": "2022-07-10T19:58:10.279Z"
   },
   {
    "duration": 5,
    "start_time": "2022-07-10T19:58:12.422Z"
   },
   {
    "duration": 5209,
    "start_time": "2022-07-10T19:59:08.679Z"
   },
   {
    "duration": 3195,
    "start_time": "2022-07-10T19:59:55.106Z"
   },
   {
    "duration": 1400,
    "start_time": "2022-07-10T20:03:12.745Z"
   },
   {
    "duration": 3,
    "start_time": "2022-07-10T20:03:14.147Z"
   },
   {
    "duration": 35,
    "start_time": "2022-07-10T20:03:14.151Z"
   },
   {
    "duration": 4,
    "start_time": "2022-07-10T20:03:14.188Z"
   },
   {
    "duration": 14,
    "start_time": "2022-07-10T20:03:14.195Z"
   },
   {
    "duration": 17,
    "start_time": "2022-07-10T20:03:14.211Z"
   },
   {
    "duration": 60,
    "start_time": "2022-07-10T20:03:14.229Z"
   },
   {
    "duration": 17,
    "start_time": "2022-07-10T20:03:14.290Z"
   },
   {
    "duration": 3,
    "start_time": "2022-07-10T20:03:14.309Z"
   },
   {
    "duration": 10,
    "start_time": "2022-07-10T20:03:14.314Z"
   },
   {
    "duration": 5,
    "start_time": "2022-07-10T20:03:14.325Z"
   },
   {
    "duration": 3122,
    "start_time": "2022-07-10T20:03:14.332Z"
   },
   {
    "duration": 623,
    "start_time": "2022-07-10T20:03:17.456Z"
   },
   {
    "duration": 0,
    "start_time": "2022-07-10T20:03:18.081Z"
   },
   {
    "duration": 0,
    "start_time": "2022-07-10T20:03:18.082Z"
   },
   {
    "duration": 0,
    "start_time": "2022-07-10T20:03:18.084Z"
   },
   {
    "duration": 0,
    "start_time": "2022-07-10T20:03:18.085Z"
   },
   {
    "duration": 0,
    "start_time": "2022-07-10T20:03:18.086Z"
   },
   {
    "duration": 0,
    "start_time": "2022-07-10T20:03:18.086Z"
   },
   {
    "duration": 0,
    "start_time": "2022-07-10T20:03:18.088Z"
   },
   {
    "duration": 0,
    "start_time": "2022-07-10T20:03:18.088Z"
   },
   {
    "duration": 0,
    "start_time": "2022-07-10T20:03:18.089Z"
   },
   {
    "duration": 3,
    "start_time": "2022-07-10T20:03:43.252Z"
   },
   {
    "duration": 1386,
    "start_time": "2022-07-10T20:03:43.797Z"
   },
   {
    "duration": 1355,
    "start_time": "2022-07-10T20:03:55.017Z"
   },
   {
    "duration": 4,
    "start_time": "2022-07-10T20:03:56.374Z"
   },
   {
    "duration": 43,
    "start_time": "2022-07-10T20:03:56.381Z"
   },
   {
    "duration": 4,
    "start_time": "2022-07-10T20:03:56.427Z"
   },
   {
    "duration": 17,
    "start_time": "2022-07-10T20:03:56.433Z"
   },
   {
    "duration": 25,
    "start_time": "2022-07-10T20:03:56.452Z"
   },
   {
    "duration": 51,
    "start_time": "2022-07-10T20:03:56.481Z"
   },
   {
    "duration": 31,
    "start_time": "2022-07-10T20:03:56.533Z"
   },
   {
    "duration": 3,
    "start_time": "2022-07-10T20:03:56.565Z"
   },
   {
    "duration": 14,
    "start_time": "2022-07-10T20:03:56.570Z"
   },
   {
    "duration": 2,
    "start_time": "2022-07-10T20:03:56.586Z"
   },
   {
    "duration": 3074,
    "start_time": "2022-07-10T20:03:56.590Z"
   },
   {
    "duration": 2,
    "start_time": "2022-07-10T20:03:59.666Z"
   },
   {
    "duration": 1377,
    "start_time": "2022-07-10T20:03:59.670Z"
   },
   {
    "duration": 1504,
    "start_time": "2022-07-10T20:04:01.049Z"
   },
   {
    "duration": 9,
    "start_time": "2022-07-10T20:04:02.554Z"
   },
   {
    "duration": 659,
    "start_time": "2022-07-10T20:04:02.564Z"
   },
   {
    "duration": 2,
    "start_time": "2022-07-10T20:04:03.225Z"
   },
   {
    "duration": 133,
    "start_time": "2022-07-10T20:04:03.229Z"
   },
   {
    "duration": 0,
    "start_time": "2022-07-10T20:04:03.364Z"
   },
   {
    "duration": 0,
    "start_time": "2022-07-10T20:04:03.365Z"
   },
   {
    "duration": 0,
    "start_time": "2022-07-10T20:04:03.366Z"
   },
   {
    "duration": 7,
    "start_time": "2022-07-10T20:04:25.849Z"
   },
   {
    "duration": 1167,
    "start_time": "2022-07-10T20:04:26.502Z"
   },
   {
    "duration": 101,
    "start_time": "2022-07-10T20:04:27.671Z"
   },
   {
    "duration": 5,
    "start_time": "2022-07-10T20:04:28.509Z"
   },
   {
    "duration": 81,
    "start_time": "2022-07-10T20:04:30.679Z"
   },
   {
    "duration": 3231,
    "start_time": "2022-07-10T20:04:36.081Z"
   },
   {
    "duration": 1308,
    "start_time": "2022-07-10T20:05:43.613Z"
   },
   {
    "duration": 3,
    "start_time": "2022-07-10T20:05:44.923Z"
   },
   {
    "duration": 37,
    "start_time": "2022-07-10T20:05:44.927Z"
   },
   {
    "duration": 2,
    "start_time": "2022-07-10T20:05:44.966Z"
   },
   {
    "duration": 10,
    "start_time": "2022-07-10T20:05:44.970Z"
   },
   {
    "duration": 14,
    "start_time": "2022-07-10T20:05:44.981Z"
   },
   {
    "duration": 42,
    "start_time": "2022-07-10T20:05:44.997Z"
   },
   {
    "duration": 33,
    "start_time": "2022-07-10T20:05:45.041Z"
   },
   {
    "duration": 2,
    "start_time": "2022-07-10T20:05:45.075Z"
   },
   {
    "duration": 10,
    "start_time": "2022-07-10T20:05:45.080Z"
   },
   {
    "duration": 3,
    "start_time": "2022-07-10T20:05:45.091Z"
   },
   {
    "duration": 3309,
    "start_time": "2022-07-10T20:05:45.096Z"
   },
   {
    "duration": 2,
    "start_time": "2022-07-10T20:05:48.407Z"
   },
   {
    "duration": 1402,
    "start_time": "2022-07-10T20:05:48.411Z"
   },
   {
    "duration": 1395,
    "start_time": "2022-07-10T20:05:49.815Z"
   },
   {
    "duration": 4,
    "start_time": "2022-07-10T20:05:51.212Z"
   },
   {
    "duration": 801,
    "start_time": "2022-07-10T20:05:51.217Z"
   },
   {
    "duration": 8,
    "start_time": "2022-07-10T20:05:52.019Z"
   },
   {
    "duration": 1439,
    "start_time": "2022-07-10T20:05:52.029Z"
   },
   {
    "duration": 96,
    "start_time": "2022-07-10T20:05:53.470Z"
   },
   {
    "duration": 6,
    "start_time": "2022-07-10T20:05:53.568Z"
   },
   {
    "duration": 1368,
    "start_time": "2022-07-10T20:07:24.264Z"
   },
   {
    "duration": 3,
    "start_time": "2022-07-10T20:07:25.634Z"
   },
   {
    "duration": 41,
    "start_time": "2022-07-10T20:07:25.638Z"
   },
   {
    "duration": 3,
    "start_time": "2022-07-10T20:07:25.681Z"
   },
   {
    "duration": 9,
    "start_time": "2022-07-10T20:07:25.685Z"
   },
   {
    "duration": 14,
    "start_time": "2022-07-10T20:07:25.695Z"
   },
   {
    "duration": 56,
    "start_time": "2022-07-10T20:07:25.710Z"
   },
   {
    "duration": 15,
    "start_time": "2022-07-10T20:07:25.767Z"
   },
   {
    "duration": 2,
    "start_time": "2022-07-10T20:07:25.783Z"
   },
   {
    "duration": 10,
    "start_time": "2022-07-10T20:07:25.787Z"
   },
   {
    "duration": 5,
    "start_time": "2022-07-10T20:07:25.799Z"
   },
   {
    "duration": 3004,
    "start_time": "2022-07-10T20:07:25.805Z"
   },
   {
    "duration": 3,
    "start_time": "2022-07-10T20:07:28.810Z"
   },
   {
    "duration": 1324,
    "start_time": "2022-07-10T20:07:28.814Z"
   },
   {
    "duration": 1451,
    "start_time": "2022-07-10T20:07:30.140Z"
   },
   {
    "duration": 4,
    "start_time": "2022-07-10T20:07:31.593Z"
   },
   {
    "duration": 715,
    "start_time": "2022-07-10T20:07:31.598Z"
   },
   {
    "duration": 8,
    "start_time": "2022-07-10T20:07:32.315Z"
   },
   {
    "duration": 1436,
    "start_time": "2022-07-10T20:07:32.325Z"
   },
   {
    "duration": 105,
    "start_time": "2022-07-10T20:07:33.763Z"
   },
   {
    "duration": 1457,
    "start_time": "2022-07-10T20:09:54.334Z"
   },
   {
    "duration": 3,
    "start_time": "2022-07-10T20:09:55.794Z"
   },
   {
    "duration": 37,
    "start_time": "2022-07-10T20:09:55.799Z"
   },
   {
    "duration": 3,
    "start_time": "2022-07-10T20:09:55.838Z"
   },
   {
    "duration": 9,
    "start_time": "2022-07-10T20:09:55.843Z"
   },
   {
    "duration": 17,
    "start_time": "2022-07-10T20:09:55.854Z"
   },
   {
    "duration": 43,
    "start_time": "2022-07-10T20:09:55.873Z"
   },
   {
    "duration": 17,
    "start_time": "2022-07-10T20:09:55.918Z"
   },
   {
    "duration": 23,
    "start_time": "2022-07-10T20:09:55.937Z"
   },
   {
    "duration": 9,
    "start_time": "2022-07-10T20:09:55.963Z"
   },
   {
    "duration": 4,
    "start_time": "2022-07-10T20:09:55.973Z"
   },
   {
    "duration": 3168,
    "start_time": "2022-07-10T20:09:55.978Z"
   },
   {
    "duration": 2,
    "start_time": "2022-07-10T20:09:59.148Z"
   },
   {
    "duration": 1396,
    "start_time": "2022-07-10T20:09:59.152Z"
   },
   {
    "duration": 1520,
    "start_time": "2022-07-10T20:10:00.550Z"
   },
   {
    "duration": 5,
    "start_time": "2022-07-10T20:10:02.072Z"
   },
   {
    "duration": 1355,
    "start_time": "2022-07-10T20:10:02.078Z"
   },
   {
    "duration": 7,
    "start_time": "2022-07-10T20:10:03.435Z"
   },
   {
    "duration": 917,
    "start_time": "2022-07-10T20:10:03.444Z"
   },
   {
    "duration": 103,
    "start_time": "2022-07-10T20:10:04.363Z"
   },
   {
    "duration": 210,
    "start_time": "2022-07-10T20:10:04.468Z"
   },
   {
    "duration": 1426,
    "start_time": "2022-07-10T20:12:25.082Z"
   },
   {
    "duration": 5,
    "start_time": "2022-07-10T20:12:26.511Z"
   },
   {
    "duration": 56,
    "start_time": "2022-07-10T20:12:26.518Z"
   },
   {
    "duration": 2,
    "start_time": "2022-07-10T20:12:26.576Z"
   },
   {
    "duration": 24,
    "start_time": "2022-07-10T20:12:26.580Z"
   },
   {
    "duration": 20,
    "start_time": "2022-07-10T20:12:26.606Z"
   },
   {
    "duration": 59,
    "start_time": "2022-07-10T20:12:26.628Z"
   },
   {
    "duration": 14,
    "start_time": "2022-07-10T20:12:26.689Z"
   },
   {
    "duration": 8,
    "start_time": "2022-07-10T20:12:26.705Z"
   },
   {
    "duration": 27,
    "start_time": "2022-07-10T20:12:26.715Z"
   },
   {
    "duration": 17,
    "start_time": "2022-07-10T20:12:26.744Z"
   },
   {
    "duration": 2954,
    "start_time": "2022-07-10T20:12:26.763Z"
   },
   {
    "duration": 2,
    "start_time": "2022-07-10T20:12:29.719Z"
   },
   {
    "duration": 1368,
    "start_time": "2022-07-10T20:12:29.723Z"
   },
   {
    "duration": 1437,
    "start_time": "2022-07-10T20:12:31.094Z"
   },
   {
    "duration": 4,
    "start_time": "2022-07-10T20:12:32.532Z"
   },
   {
    "duration": 883,
    "start_time": "2022-07-10T20:12:32.537Z"
   },
   {
    "duration": 7,
    "start_time": "2022-07-10T20:12:33.421Z"
   },
   {
    "duration": 1436,
    "start_time": "2022-07-10T20:12:33.429Z"
   },
   {
    "duration": 101,
    "start_time": "2022-07-10T20:12:34.867Z"
   },
   {
    "duration": 174,
    "start_time": "2022-07-10T20:12:34.969Z"
   },
   {
    "duration": 1399,
    "start_time": "2022-07-10T20:14:47.362Z"
   },
   {
    "duration": 4,
    "start_time": "2022-07-10T20:14:48.763Z"
   },
   {
    "duration": 31,
    "start_time": "2022-07-10T20:14:48.769Z"
   },
   {
    "duration": 3,
    "start_time": "2022-07-10T20:14:48.802Z"
   },
   {
    "duration": 10,
    "start_time": "2022-07-10T20:14:48.807Z"
   },
   {
    "duration": 15,
    "start_time": "2022-07-10T20:14:48.819Z"
   },
   {
    "duration": 60,
    "start_time": "2022-07-10T20:14:48.835Z"
   },
   {
    "duration": 15,
    "start_time": "2022-07-10T20:14:48.896Z"
   },
   {
    "duration": 3,
    "start_time": "2022-07-10T20:14:48.912Z"
   },
   {
    "duration": 10,
    "start_time": "2022-07-10T20:14:48.917Z"
   },
   {
    "duration": 5,
    "start_time": "2022-07-10T20:14:48.928Z"
   },
   {
    "duration": 2974,
    "start_time": "2022-07-10T20:14:48.960Z"
   },
   {
    "duration": 3,
    "start_time": "2022-07-10T20:14:51.935Z"
   },
   {
    "duration": 1405,
    "start_time": "2022-07-10T20:14:51.939Z"
   },
   {
    "duration": 1458,
    "start_time": "2022-07-10T20:14:53.346Z"
   },
   {
    "duration": 5,
    "start_time": "2022-07-10T20:14:54.805Z"
   },
   {
    "duration": 724,
    "start_time": "2022-07-10T20:14:54.811Z"
   },
   {
    "duration": 8,
    "start_time": "2022-07-10T20:14:55.537Z"
   },
   {
    "duration": 1714,
    "start_time": "2022-07-10T20:14:55.547Z"
   },
   {
    "duration": 15,
    "start_time": "2022-07-10T20:14:57.263Z"
   },
   {
    "duration": 179,
    "start_time": "2022-07-10T20:14:57.280Z"
   },
   {
    "duration": 1362,
    "start_time": "2022-07-10T20:17:10.508Z"
   },
   {
    "duration": 4,
    "start_time": "2022-07-10T20:17:11.872Z"
   },
   {
    "duration": 67,
    "start_time": "2022-07-10T20:17:11.877Z"
   },
   {
    "duration": 4,
    "start_time": "2022-07-10T20:17:11.947Z"
   },
   {
    "duration": 17,
    "start_time": "2022-07-10T20:17:11.952Z"
   },
   {
    "duration": 42,
    "start_time": "2022-07-10T20:17:11.971Z"
   },
   {
    "duration": 47,
    "start_time": "2022-07-10T20:17:12.015Z"
   },
   {
    "duration": 14,
    "start_time": "2022-07-10T20:17:12.064Z"
   },
   {
    "duration": 6,
    "start_time": "2022-07-10T20:17:12.079Z"
   },
   {
    "duration": 23,
    "start_time": "2022-07-10T20:17:12.087Z"
   },
   {
    "duration": 16,
    "start_time": "2022-07-10T20:17:12.112Z"
   },
   {
    "duration": 2944,
    "start_time": "2022-07-10T20:17:12.129Z"
   },
   {
    "duration": 2,
    "start_time": "2022-07-10T20:17:15.075Z"
   },
   {
    "duration": 1368,
    "start_time": "2022-07-10T20:17:15.078Z"
   },
   {
    "duration": 1425,
    "start_time": "2022-07-10T20:17:16.448Z"
   },
   {
    "duration": 4,
    "start_time": "2022-07-10T20:17:17.874Z"
   },
   {
    "duration": 734,
    "start_time": "2022-07-10T20:17:17.879Z"
   },
   {
    "duration": 7,
    "start_time": "2022-07-10T20:17:18.614Z"
   },
   {
    "duration": 1440,
    "start_time": "2022-07-10T20:17:18.623Z"
   },
   {
    "duration": 101,
    "start_time": "2022-07-10T20:17:20.066Z"
   },
   {
    "duration": 176,
    "start_time": "2022-07-10T20:17:20.168Z"
   },
   {
    "duration": 2418,
    "start_time": "2022-07-10T20:17:20.345Z"
   },
   {
    "duration": 3,
    "start_time": "2022-07-10T20:17:22.765Z"
   },
   {
    "duration": 2896,
    "start_time": "2022-07-10T20:18:05.602Z"
   },
   {
    "duration": 8051,
    "start_time": "2022-07-10T20:18:20.249Z"
   },
   {
    "duration": 1356,
    "start_time": "2022-07-10T20:20:35.011Z"
   },
   {
    "duration": 3,
    "start_time": "2022-07-10T20:20:36.369Z"
   },
   {
    "duration": 44,
    "start_time": "2022-07-10T20:20:36.374Z"
   },
   {
    "duration": 4,
    "start_time": "2022-07-10T20:20:36.421Z"
   },
   {
    "duration": 17,
    "start_time": "2022-07-10T20:20:36.427Z"
   },
   {
    "duration": 23,
    "start_time": "2022-07-10T20:20:36.446Z"
   },
   {
    "duration": 66,
    "start_time": "2022-07-10T20:20:36.471Z"
   },
   {
    "duration": 28,
    "start_time": "2022-07-10T20:20:36.540Z"
   },
   {
    "duration": 2,
    "start_time": "2022-07-10T20:20:36.570Z"
   },
   {
    "duration": 12,
    "start_time": "2022-07-10T20:20:36.575Z"
   },
   {
    "duration": 6,
    "start_time": "2022-07-10T20:20:36.588Z"
   },
   {
    "duration": 3106,
    "start_time": "2022-07-10T20:20:36.595Z"
   },
   {
    "duration": 2,
    "start_time": "2022-07-10T20:20:39.703Z"
   },
   {
    "duration": 1318,
    "start_time": "2022-07-10T20:20:39.707Z"
   },
   {
    "duration": 1483,
    "start_time": "2022-07-10T20:20:41.027Z"
   },
   {
    "duration": 4,
    "start_time": "2022-07-10T20:20:42.511Z"
   },
   {
    "duration": 707,
    "start_time": "2022-07-10T20:20:42.517Z"
   },
   {
    "duration": 7,
    "start_time": "2022-07-10T20:20:43.226Z"
   },
   {
    "duration": 1431,
    "start_time": "2022-07-10T20:20:43.235Z"
   },
   {
    "duration": 99,
    "start_time": "2022-07-10T20:20:44.668Z"
   },
   {
    "duration": 180,
    "start_time": "2022-07-10T20:20:44.769Z"
   },
   {
    "duration": 7699,
    "start_time": "2022-07-10T20:20:44.951Z"
   },
   {
    "duration": 3,
    "start_time": "2022-07-10T20:20:52.652Z"
   },
   {
    "duration": 7964,
    "start_time": "2022-07-10T20:22:23.599Z"
   },
   {
    "duration": 9189,
    "start_time": "2022-07-10T20:23:15.872Z"
   },
   {
    "duration": 1849,
    "start_time": "2022-07-11T17:30:56.766Z"
   },
   {
    "duration": 7,
    "start_time": "2022-07-11T17:30:58.617Z"
   },
   {
    "duration": 69,
    "start_time": "2022-07-11T17:30:58.626Z"
   },
   {
    "duration": 4,
    "start_time": "2022-07-11T17:30:58.698Z"
   },
   {
    "duration": 32,
    "start_time": "2022-07-11T17:30:58.704Z"
   },
   {
    "duration": 39,
    "start_time": "2022-07-11T17:30:58.738Z"
   },
   {
    "duration": 56,
    "start_time": "2022-07-11T17:30:58.779Z"
   },
   {
    "duration": 25,
    "start_time": "2022-07-11T17:30:58.837Z"
   },
   {
    "duration": 11,
    "start_time": "2022-07-11T17:30:58.865Z"
   },
   {
    "duration": 32,
    "start_time": "2022-07-11T17:30:58.880Z"
   },
   {
    "duration": 45,
    "start_time": "2022-07-11T17:30:58.914Z"
   },
   {
    "duration": 3999,
    "start_time": "2022-07-11T17:30:58.961Z"
   },
   {
    "duration": 3,
    "start_time": "2022-07-11T17:31:02.962Z"
   },
   {
    "duration": 1903,
    "start_time": "2022-07-11T17:31:02.967Z"
   },
   {
    "duration": 1805,
    "start_time": "2022-07-11T17:31:04.872Z"
   },
   {
    "duration": 5,
    "start_time": "2022-07-11T17:31:06.679Z"
   },
   {
    "duration": 2135,
    "start_time": "2022-07-11T17:31:06.685Z"
   },
   {
    "duration": 12,
    "start_time": "2022-07-11T17:31:08.822Z"
   },
   {
    "duration": 1102,
    "start_time": "2022-07-11T17:31:08.836Z"
   },
   {
    "duration": 22,
    "start_time": "2022-07-11T17:31:10.023Z"
   },
   {
    "duration": 1399,
    "start_time": "2022-07-11T17:31:10.047Z"
   },
   {
    "duration": 0,
    "start_time": "2022-07-11T17:31:11.448Z"
   },
   {
    "duration": 0,
    "start_time": "2022-07-11T17:31:11.450Z"
   },
   {
    "duration": 1175,
    "start_time": "2022-07-11T17:31:55.303Z"
   },
   {
    "duration": 1010,
    "start_time": "2022-07-11T17:34:15.507Z"
   },
   {
    "duration": 1029,
    "start_time": "2022-07-11T17:34:26.740Z"
   },
   {
    "duration": 1133,
    "start_time": "2022-07-11T17:34:36.491Z"
   },
   {
    "duration": 1164,
    "start_time": "2022-07-11T17:34:47.465Z"
   },
   {
    "duration": 1251,
    "start_time": "2022-07-11T17:34:55.635Z"
   },
   {
    "duration": 1090,
    "start_time": "2022-07-11T17:35:03.091Z"
   },
   {
    "duration": 1423,
    "start_time": "2022-07-11T17:36:15.875Z"
   },
   {
    "duration": 1517,
    "start_time": "2022-07-11T17:36:29.275Z"
   },
   {
    "duration": 1308,
    "start_time": "2022-07-11T17:36:37.315Z"
   },
   {
    "duration": 1696,
    "start_time": "2022-07-11T17:40:18.054Z"
   },
   {
    "duration": 5,
    "start_time": "2022-07-11T17:40:19.752Z"
   },
   {
    "duration": 68,
    "start_time": "2022-07-11T17:40:19.759Z"
   },
   {
    "duration": 4,
    "start_time": "2022-07-11T17:40:19.830Z"
   },
   {
    "duration": 39,
    "start_time": "2022-07-11T17:40:19.836Z"
   },
   {
    "duration": 27,
    "start_time": "2022-07-11T17:40:19.878Z"
   },
   {
    "duration": 62,
    "start_time": "2022-07-11T17:40:19.907Z"
   },
   {
    "duration": 12,
    "start_time": "2022-07-11T17:40:19.970Z"
   },
   {
    "duration": 13,
    "start_time": "2022-07-11T17:40:19.984Z"
   },
   {
    "duration": 28,
    "start_time": "2022-07-11T17:40:20.000Z"
   },
   {
    "duration": 5,
    "start_time": "2022-07-11T17:40:20.030Z"
   },
   {
    "duration": 3927,
    "start_time": "2022-07-11T17:40:20.037Z"
   },
   {
    "duration": 5,
    "start_time": "2022-07-11T17:40:23.966Z"
   },
   {
    "duration": 1633,
    "start_time": "2022-07-11T17:40:23.973Z"
   },
   {
    "duration": 1766,
    "start_time": "2022-07-11T17:40:25.609Z"
   },
   {
    "duration": 6,
    "start_time": "2022-07-11T17:40:27.377Z"
   },
   {
    "duration": 884,
    "start_time": "2022-07-11T17:40:27.385Z"
   },
   {
    "duration": 9,
    "start_time": "2022-07-11T17:40:28.271Z"
   },
   {
    "duration": 1046,
    "start_time": "2022-07-11T17:40:28.282Z"
   },
   {
    "duration": 100,
    "start_time": "2022-07-11T17:40:29.337Z"
   },
   {
    "duration": 1714,
    "start_time": "2022-07-11T17:41:51.786Z"
   },
   {
    "duration": 5,
    "start_time": "2022-07-11T17:41:53.503Z"
   },
   {
    "duration": 49,
    "start_time": "2022-07-11T17:41:53.509Z"
   },
   {
    "duration": 4,
    "start_time": "2022-07-11T17:41:53.564Z"
   },
   {
    "duration": 15,
    "start_time": "2022-07-11T17:41:53.570Z"
   },
   {
    "duration": 26,
    "start_time": "2022-07-11T17:41:53.586Z"
   },
   {
    "duration": 66,
    "start_time": "2022-07-11T17:41:53.625Z"
   },
   {
    "duration": 15,
    "start_time": "2022-07-11T17:41:53.693Z"
   },
   {
    "duration": 4,
    "start_time": "2022-07-11T17:41:53.724Z"
   },
   {
    "duration": 16,
    "start_time": "2022-07-11T17:41:53.732Z"
   },
   {
    "duration": 7,
    "start_time": "2022-07-11T17:41:53.750Z"
   },
   {
    "duration": 4285,
    "start_time": "2022-07-11T17:41:53.760Z"
   },
   {
    "duration": 4,
    "start_time": "2022-07-11T17:41:58.047Z"
   },
   {
    "duration": 2076,
    "start_time": "2022-07-11T17:41:58.053Z"
   },
   {
    "duration": 1977,
    "start_time": "2022-07-11T17:42:00.131Z"
   },
   {
    "duration": 15,
    "start_time": "2022-07-11T17:42:02.110Z"
   },
   {
    "duration": 2162,
    "start_time": "2022-07-11T17:42:02.127Z"
   },
   {
    "duration": 12,
    "start_time": "2022-07-11T17:42:04.292Z"
   },
   {
    "duration": 1319,
    "start_time": "2022-07-11T17:42:04.306Z"
   },
   {
    "duration": 19,
    "start_time": "2022-07-11T17:42:05.627Z"
   },
   {
    "duration": 3441,
    "start_time": "2022-07-11T17:42:05.648Z"
   },
   {
    "duration": 0,
    "start_time": "2022-07-11T17:42:09.093Z"
   },
   {
    "duration": 0,
    "start_time": "2022-07-11T17:42:09.095Z"
   },
   {
    "duration": 1498,
    "start_time": "2022-07-11T17:44:43.279Z"
   },
   {
    "duration": 1308,
    "start_time": "2022-07-11T17:44:55.965Z"
   },
   {
    "duration": 1830,
    "start_time": "2022-07-11T17:45:07.805Z"
   },
   {
    "duration": 1572,
    "start_time": "2022-07-11T17:45:24.325Z"
   },
   {
    "duration": 49,
    "start_time": "2022-07-11T17:50:30.566Z"
   },
   {
    "duration": 89,
    "start_time": "2022-07-11T17:50:40.399Z"
   },
   {
    "duration": 1110,
    "start_time": "2022-07-11T17:51:59.910Z"
   },
   {
    "duration": 1678,
    "start_time": "2022-07-11T17:52:20.390Z"
   },
   {
    "duration": 1459,
    "start_time": "2022-07-11T17:52:29.350Z"
   },
   {
    "duration": 1510,
    "start_time": "2022-07-11T17:53:38.939Z"
   },
   {
    "duration": 1553,
    "start_time": "2022-07-11T17:54:53.361Z"
   },
   {
    "duration": 1418,
    "start_time": "2022-07-11T17:55:16.423Z"
   },
   {
    "duration": 1162,
    "start_time": "2022-07-11T17:58:46.742Z"
   },
   {
    "duration": 1351,
    "start_time": "2022-07-11T17:59:17.306Z"
   },
   {
    "duration": 1271,
    "start_time": "2022-07-11T18:00:36.241Z"
   },
   {
    "duration": 1410,
    "start_time": "2022-07-11T18:00:47.687Z"
   },
   {
    "duration": 1480,
    "start_time": "2022-07-11T18:01:25.541Z"
   },
   {
    "duration": 1266,
    "start_time": "2022-07-11T18:01:36.866Z"
   },
   {
    "duration": 1266,
    "start_time": "2022-07-11T18:01:43.168Z"
   },
   {
    "duration": 1349,
    "start_time": "2022-07-11T18:02:34.539Z"
   },
   {
    "duration": 1176,
    "start_time": "2022-07-11T18:02:49.249Z"
   },
   {
    "duration": 1776,
    "start_time": "2022-07-11T18:07:16.195Z"
   },
   {
    "duration": 6,
    "start_time": "2022-07-11T18:07:17.973Z"
   },
   {
    "duration": 62,
    "start_time": "2022-07-11T18:07:17.982Z"
   },
   {
    "duration": 13,
    "start_time": "2022-07-11T18:07:18.047Z"
   },
   {
    "duration": 28,
    "start_time": "2022-07-11T18:07:18.062Z"
   },
   {
    "duration": 38,
    "start_time": "2022-07-11T18:07:18.093Z"
   },
   {
    "duration": 123,
    "start_time": "2022-07-11T18:07:18.134Z"
   },
   {
    "duration": 20,
    "start_time": "2022-07-11T18:07:18.261Z"
   },
   {
    "duration": 16,
    "start_time": "2022-07-11T18:07:18.283Z"
   },
   {
    "duration": 4612,
    "start_time": "2022-07-11T18:07:18.303Z"
   },
   {
    "duration": 2052,
    "start_time": "2022-07-11T18:07:22.917Z"
   },
   {
    "duration": 2064,
    "start_time": "2022-07-11T18:07:24.971Z"
   },
   {
    "duration": 7,
    "start_time": "2022-07-11T18:07:27.041Z"
   },
   {
    "duration": 1043,
    "start_time": "2022-07-11T18:07:27.051Z"
   },
   {
    "duration": 150546,
    "start_time": "2022-07-11T18:07:28.096Z"
   },
   {
    "duration": 985,
    "start_time": "2022-07-11T18:09:58.646Z"
   },
   {
    "duration": 95,
    "start_time": "2022-07-11T18:09:59.637Z"
   },
   {
    "duration": 1591,
    "start_time": "2022-07-11T18:09:59.738Z"
   },
   {
    "duration": 1302,
    "start_time": "2022-07-11T18:10:01.334Z"
   },
   {
    "duration": 58,
    "start_time": "2022-07-11T18:35:55.351Z"
   },
   {
    "duration": 1207,
    "start_time": "2022-07-11T18:38:20.713Z"
   },
   {
    "duration": 952,
    "start_time": "2022-07-11T18:38:28.454Z"
   },
   {
    "duration": 15,
    "start_time": "2022-07-11T18:40:27.890Z"
   },
   {
    "duration": 1182,
    "start_time": "2022-07-11T18:40:41.891Z"
   },
   {
    "duration": 1668,
    "start_time": "2022-07-11T18:42:48.467Z"
   },
   {
    "duration": 4,
    "start_time": "2022-07-11T18:42:50.138Z"
   },
   {
    "duration": 44,
    "start_time": "2022-07-11T18:42:50.144Z"
   },
   {
    "duration": 5,
    "start_time": "2022-07-11T18:42:50.191Z"
   },
   {
    "duration": 12,
    "start_time": "2022-07-11T18:42:50.197Z"
   },
   {
    "duration": 29,
    "start_time": "2022-07-11T18:42:50.211Z"
   },
   {
    "duration": 60,
    "start_time": "2022-07-11T18:42:50.244Z"
   },
   {
    "duration": 32,
    "start_time": "2022-07-11T18:42:50.306Z"
   },
   {
    "duration": 14,
    "start_time": "2022-07-11T18:42:50.342Z"
   },
   {
    "duration": 4181,
    "start_time": "2022-07-11T18:42:50.359Z"
   },
   {
    "duration": 1864,
    "start_time": "2022-07-11T18:42:54.543Z"
   },
   {
    "duration": 1870,
    "start_time": "2022-07-11T18:42:56.409Z"
   },
   {
    "duration": 5,
    "start_time": "2022-07-11T18:42:58.281Z"
   },
   {
    "duration": 1638,
    "start_time": "2022-07-11T18:42:58.288Z"
   },
   {
    "duration": 153484,
    "start_time": "2022-07-11T18:42:59.927Z"
   },
   {
    "duration": 1414,
    "start_time": "2022-07-11T18:45:33.414Z"
   },
   {
    "duration": 101,
    "start_time": "2022-07-11T18:45:34.829Z"
   },
   {
    "duration": 1437,
    "start_time": "2022-07-11T18:45:34.935Z"
   },
   {
    "duration": 1213,
    "start_time": "2022-07-11T18:45:36.375Z"
   },
   {
    "duration": 52,
    "start_time": "2022-07-12T18:35:54.770Z"
   },
   {
    "duration": 50,
    "start_time": "2022-07-12T18:49:39.706Z"
   },
   {
    "duration": 44,
    "start_time": "2022-07-12T18:59:21.256Z"
   },
   {
    "duration": 41,
    "start_time": "2022-07-12T19:05:04.526Z"
   },
   {
    "duration": 1604,
    "start_time": "2022-07-12T19:05:18.554Z"
   },
   {
    "duration": 3,
    "start_time": "2022-07-12T19:05:20.160Z"
   },
   {
    "duration": 60,
    "start_time": "2022-07-12T19:05:20.165Z"
   },
   {
    "duration": 4,
    "start_time": "2022-07-12T19:05:20.227Z"
   },
   {
    "duration": 11,
    "start_time": "2022-07-12T19:05:20.233Z"
   },
   {
    "duration": 14,
    "start_time": "2022-07-12T19:05:20.246Z"
   },
   {
    "duration": 47,
    "start_time": "2022-07-12T19:05:20.262Z"
   },
   {
    "duration": 0,
    "start_time": "2022-07-12T19:05:20.311Z"
   },
   {
    "duration": 0,
    "start_time": "2022-07-12T19:05:20.312Z"
   },
   {
    "duration": 0,
    "start_time": "2022-07-12T19:05:20.313Z"
   },
   {
    "duration": 0,
    "start_time": "2022-07-12T19:05:20.314Z"
   },
   {
    "duration": 0,
    "start_time": "2022-07-12T19:05:20.315Z"
   },
   {
    "duration": 0,
    "start_time": "2022-07-12T19:05:20.316Z"
   },
   {
    "duration": 0,
    "start_time": "2022-07-12T19:05:20.317Z"
   },
   {
    "duration": 0,
    "start_time": "2022-07-12T19:05:20.318Z"
   },
   {
    "duration": 0,
    "start_time": "2022-07-12T19:05:20.319Z"
   },
   {
    "duration": 0,
    "start_time": "2022-07-12T19:05:20.320Z"
   },
   {
    "duration": 0,
    "start_time": "2022-07-12T19:05:20.321Z"
   },
   {
    "duration": 1,
    "start_time": "2022-07-12T19:05:20.321Z"
   },
   {
    "duration": 1,
    "start_time": "2022-07-12T19:05:20.322Z"
   },
   {
    "duration": 0,
    "start_time": "2022-07-12T19:05:20.323Z"
   },
   {
    "duration": 44,
    "start_time": "2022-07-12T19:06:50.554Z"
   },
   {
    "duration": 11,
    "start_time": "2022-07-12T19:06:52.004Z"
   },
   {
    "duration": 10,
    "start_time": "2022-07-12T19:06:54.147Z"
   },
   {
    "duration": 2969,
    "start_time": "2022-07-12T19:06:54.588Z"
   },
   {
    "duration": 1432,
    "start_time": "2022-07-12T19:06:57.559Z"
   },
   {
    "duration": 1425,
    "start_time": "2022-07-12T19:06:58.993Z"
   },
   {
    "duration": 4,
    "start_time": "2022-07-12T19:07:01.780Z"
   },
   {
    "duration": 645,
    "start_time": "2022-07-12T19:07:03.876Z"
   },
   {
    "duration": 118,
    "start_time": "2022-07-12T19:07:35.614Z"
   },
   {
    "duration": 14,
    "start_time": "2022-07-12T19:07:35.996Z"
   },
   {
    "duration": 111765,
    "start_time": "2022-07-12T19:07:39.004Z"
   },
   {
    "duration": 1494,
    "start_time": "2022-07-12T19:09:30.770Z"
   },
   {
    "duration": 15,
    "start_time": "2022-07-12T19:09:32.265Z"
   },
   {
    "duration": 1118,
    "start_time": "2022-07-12T19:09:32.281Z"
   },
   {
    "duration": 891,
    "start_time": "2022-07-12T19:09:33.400Z"
   },
   {
    "duration": 15,
    "start_time": "2022-07-12T19:09:34.293Z"
   },
   {
    "duration": 765,
    "start_time": "2022-07-12T19:31:55.500Z"
   },
   {
    "duration": 5,
    "start_time": "2022-07-12T19:52:31.762Z"
   },
   {
    "duration": 12,
    "start_time": "2022-07-12T19:52:42.567Z"
   },
   {
    "duration": 1404,
    "start_time": "2022-07-12T20:28:21.385Z"
   },
   {
    "duration": 3,
    "start_time": "2022-07-12T20:28:22.791Z"
   },
   {
    "duration": 33,
    "start_time": "2022-07-12T20:28:22.796Z"
   },
   {
    "duration": 4,
    "start_time": "2022-07-12T20:28:22.832Z"
   },
   {
    "duration": 12,
    "start_time": "2022-07-12T20:28:22.837Z"
   },
   {
    "duration": 14,
    "start_time": "2022-07-12T20:28:22.850Z"
   },
   {
    "duration": 44,
    "start_time": "2022-07-12T20:28:22.866Z"
   },
   {
    "duration": 11,
    "start_time": "2022-07-12T20:28:22.911Z"
   },
   {
    "duration": 9,
    "start_time": "2022-07-12T20:28:22.923Z"
   },
   {
    "duration": 3014,
    "start_time": "2022-07-12T20:28:22.935Z"
   },
   {
    "duration": 1411,
    "start_time": "2022-07-12T20:28:25.951Z"
   },
   {
    "duration": 1438,
    "start_time": "2022-07-12T20:28:27.364Z"
   },
   {
    "duration": 4,
    "start_time": "2022-07-12T20:28:28.803Z"
   },
   {
    "duration": 716,
    "start_time": "2022-07-12T20:28:28.809Z"
   },
   {
    "duration": 111038,
    "start_time": "2022-07-12T20:28:29.526Z"
   },
   {
    "duration": 1505,
    "start_time": "2022-07-12T20:30:20.566Z"
   },
   {
    "duration": 100,
    "start_time": "2022-07-12T20:30:22.073Z"
   },
   {
    "duration": 1242,
    "start_time": "2022-07-12T20:30:22.175Z"
   },
   {
    "duration": 939,
    "start_time": "2022-07-12T20:30:23.420Z"
   },
   {
    "duration": 79,
    "start_time": "2022-07-13T16:51:24.014Z"
   },
   {
    "duration": 48,
    "start_time": "2022-07-13T17:07:50.765Z"
   },
   {
    "duration": 1560,
    "start_time": "2022-07-13T17:07:58.140Z"
   },
   {
    "duration": 3,
    "start_time": "2022-07-13T17:07:59.702Z"
   },
   {
    "duration": 157,
    "start_time": "2022-07-13T17:07:59.707Z"
   },
   {
    "duration": 4,
    "start_time": "2022-07-13T17:07:59.867Z"
   },
   {
    "duration": 12,
    "start_time": "2022-07-13T17:07:59.873Z"
   },
   {
    "duration": 14,
    "start_time": "2022-07-13T17:07:59.887Z"
   },
   {
    "duration": 43,
    "start_time": "2022-07-13T17:07:59.902Z"
   },
   {
    "duration": 11,
    "start_time": "2022-07-13T17:07:59.946Z"
   },
   {
    "duration": 10,
    "start_time": "2022-07-13T17:07:59.959Z"
   },
   {
    "duration": 3453,
    "start_time": "2022-07-13T17:07:59.971Z"
   },
   {
    "duration": 1646,
    "start_time": "2022-07-13T17:08:03.425Z"
   },
   {
    "duration": 1581,
    "start_time": "2022-07-13T17:08:05.073Z"
   },
   {
    "duration": 4,
    "start_time": "2022-07-13T17:08:06.656Z"
   },
   {
    "duration": 710,
    "start_time": "2022-07-13T17:08:06.662Z"
   },
   {
    "duration": 119330,
    "start_time": "2022-07-13T17:08:07.374Z"
   },
   {
    "duration": 1108,
    "start_time": "2022-07-13T17:10:06.706Z"
   },
   {
    "duration": 100,
    "start_time": "2022-07-13T17:10:07.816Z"
   },
   {
    "duration": 1334,
    "start_time": "2022-07-13T17:10:07.917Z"
   },
   {
    "duration": 1029,
    "start_time": "2022-07-13T17:10:09.253Z"
   },
   {
    "duration": 74,
    "start_time": "2022-07-13T17:10:53.823Z"
   }
  ],
  "kernelspec": {
   "display_name": "Python 3 (ipykernel)",
   "language": "python",
   "name": "python3"
  },
  "language_info": {
   "codemirror_mode": {
    "name": "ipython",
    "version": 3
   },
   "file_extension": ".py",
   "mimetype": "text/x-python",
   "name": "python",
   "nbconvert_exporter": "python",
   "pygments_lexer": "ipython3",
   "version": "3.9.7"
  },
  "toc": {
   "base_numbering": 1,
   "nav_menu": {},
   "number_sections": true,
   "sideBar": true,
   "skip_h1_title": true,
   "title_cell": "Table of Contents",
   "title_sidebar": "Contents",
   "toc_cell": false,
   "toc_position": {
    "height": "calc(100% - 180px)",
    "left": "10px",
    "top": "150px",
    "width": "212.225px"
   },
   "toc_section_display": true,
   "toc_window_display": true
  }
 },
 "nbformat": 4,
 "nbformat_minor": 2
}
