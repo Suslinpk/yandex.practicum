{
 "cells": [
  {
   "cell_type": "markdown",
   "metadata": {},
   "source": [
    "<h2> Определение перспективного тарифа для телеком-компании «Мегалайн» </h2> \n",
    "    \n",
    "Телеком-компании «Мегалайн» предлагает два тарифных плана: «Смарт» и «Ультра».\n",
    "    \n",
    "Чтобы скорректировать рекламный бюджет, коммерческий департамент хочет понять, какой тариф приносит больше денег.\n",
    "    \n",
    "В данном кейсей проведен предварительный анализ тарифов на небольшой выборке клиентов в 500 пользователей и их активности (количество звонков, смс-сообщений, трафика)  за 2018 год. \n",
    "    \n",
    "Цель анализа - сделать выводы о поведение клиентов и дать заключение — какой тариф лучше, а так же подготовить данные для последующих рекламных компаний. \n",
    "    \n",
    "В ходе анализа для достижения поставленных целей реализовано: проведна по приведению данных к нужно\n",
    "\n",
    "1. Данные приведены к нужным типам, подготовлены для объединения в общую сводную таблицу, сформирован общий сводный датасет по каждому пользователю.\n",
    "2. Для каждого пользователя расчитано количество сделанных звонков и израсходованных минут разговора по месяцам; количество отправленных сообщений по месяцам; объем израсходованного интернет-трафика по месяцам;\n",
    "помесячную выручку с каждого пользователя.\n",
    "3. Проанализированы данные о поведение клиентов оператора, исходя из полученной выборки. Расчитано, сколько минут разговора, сколько сообщений и какой объём интернет-трафика требуется пользователям каждого тарифа в месяц. Расчитано среднее количество, дисперсию и стандартное отклонение. Для всех данных построены графики и приведено их описание \n",
    "4. Проверены 2 гипотезы:\n",
    "средняя выручка пользователей тарифов «Ультра» и «Смарт» различаются;\n",
    "средняя выручка пользователей из Москвы отличается от выручки пользователей из других регионов."
   ]
  },
  {
   "cell_type": "markdown",
   "metadata": {},
   "source": [
    "# 1. Открываем файлы с данными и изучаем общую информацию"
   ]
  },
  {
   "cell_type": "code",
   "execution_count": 1,
   "metadata": {},
   "outputs": [],
   "source": [
    "#Загружаем библиотеки\n",
    "import pandas as pd\n",
    "import numpy as np\n",
    "import seaborn as sns\n",
    "import matplotlib\n",
    "import matplotlib.pyplot as plt\n",
    "from scipy import stats as st\n",
    "%matplotlib inline\n",
    "\n",
    "import warnings\n",
    "warnings.filterwarnings(\"ignore\")"
   ]
  },
  {
   "cell_type": "code",
   "execution_count": 2,
   "metadata": {},
   "outputs": [
    {
     "data": {
      "text/html": [
       "<svg  width=\"440\" height=\"55\"><rect x=\"0\" y=\"0\" width=\"55\" height=\"55\" style=\"fill:#66c2a5;stroke-width:2;stroke:rgb(255,255,255)\"/><rect x=\"55\" y=\"0\" width=\"55\" height=\"55\" style=\"fill:#fc8d62;stroke-width:2;stroke:rgb(255,255,255)\"/><rect x=\"110\" y=\"0\" width=\"55\" height=\"55\" style=\"fill:#8da0cb;stroke-width:2;stroke:rgb(255,255,255)\"/><rect x=\"165\" y=\"0\" width=\"55\" height=\"55\" style=\"fill:#e78ac3;stroke-width:2;stroke:rgb(255,255,255)\"/><rect x=\"220\" y=\"0\" width=\"55\" height=\"55\" style=\"fill:#a6d854;stroke-width:2;stroke:rgb(255,255,255)\"/><rect x=\"275\" y=\"0\" width=\"55\" height=\"55\" style=\"fill:#ffd92f;stroke-width:2;stroke:rgb(255,255,255)\"/><rect x=\"330\" y=\"0\" width=\"55\" height=\"55\" style=\"fill:#e5c494;stroke-width:2;stroke:rgb(255,255,255)\"/><rect x=\"385\" y=\"0\" width=\"55\" height=\"55\" style=\"fill:#b3b3b3;stroke-width:2;stroke:rgb(255,255,255)\"/></svg>"
      ],
      "text/plain": [
       "[(0.4, 0.7607843137254902, 0.6470588235294118),\n",
       " (0.9882352941176471, 0.5529411764705883, 0.3843137254901961),\n",
       " (0.5529411764705883, 0.6274509803921569, 0.796078431372549),\n",
       " (0.9058823529411765, 0.5411764705882353, 0.7647058823529411),\n",
       " (0.6509803921568628, 0.8470588235294118, 0.32941176470588235),\n",
       " (1.0, 0.8509803921568627, 0.1843137254901961),\n",
       " (0.8980392156862745, 0.7686274509803922, 0.5803921568627451),\n",
       " (0.7019607843137254, 0.7019607843137254, 0.7019607843137254)]"
      ]
     },
     "execution_count": 2,
     "metadata": {},
     "output_type": "execute_result"
    }
   ],
   "source": [
    "# Настраиваем библиотеку seaborn\n",
    "sns.set_palette(palette='Set2')\n",
    "sns.set(style='whitegrid')\n",
    "sns.color_palette('Set2')"
   ]
  },
  {
   "cell_type": "code",
   "execution_count": 3,
   "metadata": {},
   "outputs": [],
   "source": [
    "# Грузим наши датафрейм файлы, осматривемся, прикидываем дальнейший ход анализа\n",
    "calls=pd.read_csv('/datasets/calls.csv')\n",
    "inet=pd.read_csv('/datasets/internet.csv')\n",
    "tariffs=pd.read_csv('/datasets/tariffs.csv')\n",
    "users=pd.read_csv('/datasets/users.csv')\n",
    "messages=pd.read_csv('/datasets/messages.csv')\n",
    "\n",
    "#messages.info()\n",
    "#messages.head()"
   ]
  },
  {
   "cell_type": "markdown",
   "metadata": {},
   "source": [
    "**Вывод:** Что можно сказать на данном этапе? 5 датафреймов с различным качеством и количеством данных. Во всех датафреймах в глаза бросается различный тип данных некоторых столбцов, который не сосем им подходит. Будем исправлять. \n",
    "\n",
    "Так же на этапе предпросмотра видим, что исходя из пользовательских id и периодов, можно сделать вывод, что некоторыми услугами пользователи в течении отчетного месяца могли не воспользоваться, в связи с чем по часть id есть информация в одних датафреймах о пользовании услугой, но нет в других. К примеру, пользователь с id 1001 пользовался интернетом, но совсем не совершал звонков  и т.д.\n",
    "\n",
    "На следующем этапе нашего анализа добавим столбец с месяцем использования услуги, а так же наведем порядок с типами данных. Наша основная задача на этом этапе — подготовить датафреймы с данными об использовании отдельных услуг к слиянию в общую таблицу с абонентскими активностями по месяцам по всем пользователям. Приступим."
   ]
  },
  {
   "cell_type": "markdown",
   "metadata": {},
   "source": [
    "# 2. Подготавливаем данные"
   ]
  },
  {
   "cell_type": "code",
   "execution_count": 4,
   "metadata": {},
   "outputs": [
    {
     "name": "stdout",
     "output_type": "stream",
     "text": [
      "Количество явных дубликатов в датафрейме 0\n",
      "\n",
      "<class 'pandas.core.frame.DataFrame'>\n",
      "RangeIndex: 202607 entries, 0 to 202606\n",
      "Data columns (total 5 columns):\n",
      " #   Column       Non-Null Count   Dtype         \n",
      "---  ------       --------------   -----         \n",
      " 0   id           202607 non-null  object        \n",
      " 1   call_date    202607 non-null  datetime64[ns]\n",
      " 2   duration     202607 non-null  float64       \n",
      " 3   user_id      202607 non-null  int64         \n",
      " 4   call_mounth  202607 non-null  int64         \n",
      "dtypes: datetime64[ns](1), float64(1), int64(2), object(1)\n",
      "memory usage: 7.7+ MB\n"
     ]
    },
    {
     "data": {
      "text/html": [
       "<div>\n",
       "<style scoped>\n",
       "    .dataframe tbody tr th:only-of-type {\n",
       "        vertical-align: middle;\n",
       "    }\n",
       "\n",
       "    .dataframe tbody tr th {\n",
       "        vertical-align: top;\n",
       "    }\n",
       "\n",
       "    .dataframe thead th {\n",
       "        text-align: right;\n",
       "    }\n",
       "</style>\n",
       "<table border=\"1\" class=\"dataframe\">\n",
       "  <thead>\n",
       "    <tr style=\"text-align: right;\">\n",
       "      <th></th>\n",
       "      <th>id</th>\n",
       "      <th>call_date</th>\n",
       "      <th>duration</th>\n",
       "      <th>user_id</th>\n",
       "      <th>call_mounth</th>\n",
       "    </tr>\n",
       "  </thead>\n",
       "  <tbody>\n",
       "    <tr>\n",
       "      <th>0</th>\n",
       "      <td>1000_0</td>\n",
       "      <td>2018-07-25</td>\n",
       "      <td>0.0</td>\n",
       "      <td>1000</td>\n",
       "      <td>7</td>\n",
       "    </tr>\n",
       "    <tr>\n",
       "      <th>1</th>\n",
       "      <td>1000_1</td>\n",
       "      <td>2018-08-17</td>\n",
       "      <td>0.0</td>\n",
       "      <td>1000</td>\n",
       "      <td>8</td>\n",
       "    </tr>\n",
       "    <tr>\n",
       "      <th>2</th>\n",
       "      <td>1000_2</td>\n",
       "      <td>2018-06-11</td>\n",
       "      <td>3.0</td>\n",
       "      <td>1000</td>\n",
       "      <td>6</td>\n",
       "    </tr>\n",
       "    <tr>\n",
       "      <th>3</th>\n",
       "      <td>1000_3</td>\n",
       "      <td>2018-09-21</td>\n",
       "      <td>14.0</td>\n",
       "      <td>1000</td>\n",
       "      <td>9</td>\n",
       "    </tr>\n",
       "    <tr>\n",
       "      <th>4</th>\n",
       "      <td>1000_4</td>\n",
       "      <td>2018-12-15</td>\n",
       "      <td>6.0</td>\n",
       "      <td>1000</td>\n",
       "      <td>12</td>\n",
       "    </tr>\n",
       "  </tbody>\n",
       "</table>\n",
       "</div>"
      ],
      "text/plain": [
       "       id  call_date  duration  user_id  call_mounth\n",
       "0  1000_0 2018-07-25       0.0     1000            7\n",
       "1  1000_1 2018-08-17       0.0     1000            8\n",
       "2  1000_2 2018-06-11       3.0     1000            6\n",
       "3  1000_3 2018-09-21      14.0     1000            9\n",
       "4  1000_4 2018-12-15       6.0     1000           12"
      ]
     },
     "metadata": {},
     "output_type": "display_data"
    }
   ],
   "source": [
    "# Первая на очереди - таблица со статистикой звонков. В ней необходимо добавить месяц пользования услугами и произвести \n",
    "# помесячно округление количества звонков, в соответсвии с условиями задачи нам это понадобится в дальнейшей работе\n",
    "\n",
    "calls['call_date']= pd.to_datetime(calls['call_date'], format='%Y-%m-%d') #задаем временной формат данных для столбца call_date\n",
    "calls['call_mounth'] = pd.DatetimeIndex(calls['call_date']).month #извлекаем месяц пользования услугой в отдельный столбец\n",
    "calls['duration'] = np.ceil(calls['duration']) #округляем каждый звонок до целой минуты\n",
    "print('Количество явных дубликатов в датафрейме',calls.duplicated().sum())\n",
    "print()\n",
    "calls.info()\n",
    "display(calls.head(5))"
   ]
  },
  {
   "cell_type": "markdown",
   "metadata": {},
   "source": [
    "Все ок, идем дальше."
   ]
  },
  {
   "cell_type": "code",
   "execution_count": 5,
   "metadata": {},
   "outputs": [
    {
     "name": "stdout",
     "output_type": "stream",
     "text": [
      "0\n",
      "<class 'pandas.core.frame.DataFrame'>\n",
      "RangeIndex: 149396 entries, 0 to 149395\n",
      "Data columns (total 5 columns):\n",
      " #   Column          Non-Null Count   Dtype         \n",
      "---  ------          --------------   -----         \n",
      " 0   id              149396 non-null  object        \n",
      " 1   mb_used         149396 non-null  float64       \n",
      " 2   session_date    149396 non-null  datetime64[ns]\n",
      " 3   user_id         149396 non-null  int64         \n",
      " 4   session_mounth  149396 non-null  int64         \n",
      "dtypes: datetime64[ns](1), float64(1), int64(2), object(1)\n",
      "memory usage: 5.7+ MB\n"
     ]
    },
    {
     "data": {
      "text/html": [
       "<div>\n",
       "<style scoped>\n",
       "    .dataframe tbody tr th:only-of-type {\n",
       "        vertical-align: middle;\n",
       "    }\n",
       "\n",
       "    .dataframe tbody tr th {\n",
       "        vertical-align: top;\n",
       "    }\n",
       "\n",
       "    .dataframe thead th {\n",
       "        text-align: right;\n",
       "    }\n",
       "</style>\n",
       "<table border=\"1\" class=\"dataframe\">\n",
       "  <thead>\n",
       "    <tr style=\"text-align: right;\">\n",
       "      <th></th>\n",
       "      <th>id</th>\n",
       "      <th>mb_used</th>\n",
       "      <th>session_date</th>\n",
       "      <th>user_id</th>\n",
       "      <th>session_mounth</th>\n",
       "    </tr>\n",
       "  </thead>\n",
       "  <tbody>\n",
       "    <tr>\n",
       "      <th>0</th>\n",
       "      <td>1000_0</td>\n",
       "      <td>112.95</td>\n",
       "      <td>2018-11-25</td>\n",
       "      <td>1000</td>\n",
       "      <td>11</td>\n",
       "    </tr>\n",
       "    <tr>\n",
       "      <th>1</th>\n",
       "      <td>1000_1</td>\n",
       "      <td>1052.81</td>\n",
       "      <td>2018-09-07</td>\n",
       "      <td>1000</td>\n",
       "      <td>9</td>\n",
       "    </tr>\n",
       "    <tr>\n",
       "      <th>2</th>\n",
       "      <td>1000_2</td>\n",
       "      <td>1197.26</td>\n",
       "      <td>2018-06-25</td>\n",
       "      <td>1000</td>\n",
       "      <td>6</td>\n",
       "    </tr>\n",
       "    <tr>\n",
       "      <th>3</th>\n",
       "      <td>1000_3</td>\n",
       "      <td>550.27</td>\n",
       "      <td>2018-08-22</td>\n",
       "      <td>1000</td>\n",
       "      <td>8</td>\n",
       "    </tr>\n",
       "    <tr>\n",
       "      <th>4</th>\n",
       "      <td>1000_4</td>\n",
       "      <td>302.56</td>\n",
       "      <td>2018-09-24</td>\n",
       "      <td>1000</td>\n",
       "      <td>9</td>\n",
       "    </tr>\n",
       "  </tbody>\n",
       "</table>\n",
       "</div>"
      ],
      "text/plain": [
       "       id  mb_used session_date  user_id  session_mounth\n",
       "0  1000_0   112.95   2018-11-25     1000              11\n",
       "1  1000_1  1052.81   2018-09-07     1000               9\n",
       "2  1000_2  1197.26   2018-06-25     1000               6\n",
       "3  1000_3   550.27   2018-08-22     1000               8\n",
       "4  1000_4   302.56   2018-09-24     1000               9"
      ]
     },
     "metadata": {},
     "output_type": "display_data"
    }
   ],
   "source": [
    "# Наводим порядок в следующем датафрейме с данными об использовании мобильного интернета. Удалим бесполезный столбец, настроим \n",
    "# тип данных в столбце session_date\n",
    "\n",
    "inet['session_date'] = pd.to_datetime(inet['session_date'], format='%Y-%m-%d') #задаем временной формат данных для столбца\n",
    "inet['session_mounth'] = pd.DatetimeIndex(inet['session_date']).month #извлекаем месяц пользования услугой в отдельный столбец\n",
    "inet = inet.drop(['Unnamed: 0'], axis = 1) #бесполезные столбцы нам не нужны, прощаемся с ними\n",
    "\n",
    "print(inet.duplicated().sum())\n",
    "inet.info() \n",
    "display(inet.head(5))"
   ]
  },
  {
   "cell_type": "markdown",
   "metadata": {},
   "source": [
    "С типами данных все ок, бесполезных столцов нет, едим дальше."
   ]
  },
  {
   "cell_type": "code",
   "execution_count": 6,
   "metadata": {},
   "outputs": [
    {
     "name": "stdout",
     "output_type": "stream",
     "text": [
      "Количество явных дубликатов в датафрейме 0\n",
      "<class 'pandas.core.frame.DataFrame'>\n",
      "RangeIndex: 123036 entries, 0 to 123035\n",
      "Data columns (total 4 columns):\n",
      " #   Column          Non-Null Count   Dtype         \n",
      "---  ------          --------------   -----         \n",
      " 0   id              123036 non-null  object        \n",
      " 1   message_date    123036 non-null  datetime64[ns]\n",
      " 2   user_id         123036 non-null  int64         \n",
      " 3   message_mounth  123036 non-null  int64         \n",
      "dtypes: datetime64[ns](1), int64(2), object(1)\n",
      "memory usage: 3.8+ MB\n"
     ]
    },
    {
     "data": {
      "text/html": [
       "<div>\n",
       "<style scoped>\n",
       "    .dataframe tbody tr th:only-of-type {\n",
       "        vertical-align: middle;\n",
       "    }\n",
       "\n",
       "    .dataframe tbody tr th {\n",
       "        vertical-align: top;\n",
       "    }\n",
       "\n",
       "    .dataframe thead th {\n",
       "        text-align: right;\n",
       "    }\n",
       "</style>\n",
       "<table border=\"1\" class=\"dataframe\">\n",
       "  <thead>\n",
       "    <tr style=\"text-align: right;\">\n",
       "      <th></th>\n",
       "      <th>id</th>\n",
       "      <th>message_date</th>\n",
       "      <th>user_id</th>\n",
       "      <th>message_mounth</th>\n",
       "    </tr>\n",
       "  </thead>\n",
       "  <tbody>\n",
       "    <tr>\n",
       "      <th>0</th>\n",
       "      <td>1000_0</td>\n",
       "      <td>2018-06-27</td>\n",
       "      <td>1000</td>\n",
       "      <td>6</td>\n",
       "    </tr>\n",
       "    <tr>\n",
       "      <th>1</th>\n",
       "      <td>1000_1</td>\n",
       "      <td>2018-10-08</td>\n",
       "      <td>1000</td>\n",
       "      <td>10</td>\n",
       "    </tr>\n",
       "    <tr>\n",
       "      <th>2</th>\n",
       "      <td>1000_2</td>\n",
       "      <td>2018-08-04</td>\n",
       "      <td>1000</td>\n",
       "      <td>8</td>\n",
       "    </tr>\n",
       "    <tr>\n",
       "      <th>3</th>\n",
       "      <td>1000_3</td>\n",
       "      <td>2018-06-16</td>\n",
       "      <td>1000</td>\n",
       "      <td>6</td>\n",
       "    </tr>\n",
       "    <tr>\n",
       "      <th>4</th>\n",
       "      <td>1000_4</td>\n",
       "      <td>2018-12-05</td>\n",
       "      <td>1000</td>\n",
       "      <td>12</td>\n",
       "    </tr>\n",
       "  </tbody>\n",
       "</table>\n",
       "</div>"
      ],
      "text/plain": [
       "       id message_date  user_id  message_mounth\n",
       "0  1000_0   2018-06-27     1000               6\n",
       "1  1000_1   2018-10-08     1000              10\n",
       "2  1000_2   2018-08-04     1000               8\n",
       "3  1000_3   2018-06-16     1000               6\n",
       "4  1000_4   2018-12-05     1000              12"
      ]
     },
     "metadata": {},
     "output_type": "display_data"
    }
   ],
   "source": [
    "# Загляним в файл с данными об использовании СМС, ничего криминального, нужно только дабавить столбец с месяцем\n",
    "\n",
    "messages['message_date']= pd.to_datetime(messages['message_date'], format='%Y-%m-%d')\n",
    "messages['message_mounth'] = pd.DatetimeIndex(messages['message_date']).month\n",
    "\n",
    "print('Количество явных дубликатов в датафрейме',messages.duplicated().sum())\n",
    "messages.info()\n",
    "display(messages.head(5))"
   ]
  },
  {
   "cell_type": "markdown",
   "metadata": {},
   "source": [
    "Все ок, идем дальше."
   ]
  },
  {
   "cell_type": "code",
   "execution_count": 7,
   "metadata": {},
   "outputs": [
    {
     "name": "stdout",
     "output_type": "stream",
     "text": [
      "Количество явных дубликатов в датафрейме 0\n"
     ]
    },
    {
     "data": {
      "text/html": [
       "<div>\n",
       "<style scoped>\n",
       "    .dataframe tbody tr th:only-of-type {\n",
       "        vertical-align: middle;\n",
       "    }\n",
       "\n",
       "    .dataframe tbody tr th {\n",
       "        vertical-align: top;\n",
       "    }\n",
       "\n",
       "    .dataframe thead th {\n",
       "        text-align: right;\n",
       "    }\n",
       "</style>\n",
       "<table border=\"1\" class=\"dataframe\">\n",
       "  <thead>\n",
       "    <tr style=\"text-align: right;\">\n",
       "      <th></th>\n",
       "      <th>user_id</th>\n",
       "      <th>age</th>\n",
       "      <th>churn_date</th>\n",
       "      <th>city</th>\n",
       "      <th>first_name</th>\n",
       "      <th>last_name</th>\n",
       "      <th>reg_date</th>\n",
       "      <th>tariff</th>\n",
       "    </tr>\n",
       "  </thead>\n",
       "  <tbody>\n",
       "    <tr>\n",
       "      <th>0</th>\n",
       "      <td>1000</td>\n",
       "      <td>52</td>\n",
       "      <td>NaT</td>\n",
       "      <td>Краснодар</td>\n",
       "      <td>Рафаил</td>\n",
       "      <td>Верещагин</td>\n",
       "      <td>2018-05-25</td>\n",
       "      <td>ultra</td>\n",
       "    </tr>\n",
       "    <tr>\n",
       "      <th>1</th>\n",
       "      <td>1001</td>\n",
       "      <td>41</td>\n",
       "      <td>NaT</td>\n",
       "      <td>Москва</td>\n",
       "      <td>Иван</td>\n",
       "      <td>Ежов</td>\n",
       "      <td>2018-11-01</td>\n",
       "      <td>smart</td>\n",
       "    </tr>\n",
       "    <tr>\n",
       "      <th>2</th>\n",
       "      <td>1002</td>\n",
       "      <td>59</td>\n",
       "      <td>NaT</td>\n",
       "      <td>Стерлитамак</td>\n",
       "      <td>Евгений</td>\n",
       "      <td>Абрамович</td>\n",
       "      <td>2018-06-17</td>\n",
       "      <td>smart</td>\n",
       "    </tr>\n",
       "    <tr>\n",
       "      <th>3</th>\n",
       "      <td>1003</td>\n",
       "      <td>23</td>\n",
       "      <td>NaT</td>\n",
       "      <td>Москва</td>\n",
       "      <td>Белла</td>\n",
       "      <td>Белякова</td>\n",
       "      <td>2018-08-17</td>\n",
       "      <td>ultra</td>\n",
       "    </tr>\n",
       "    <tr>\n",
       "      <th>4</th>\n",
       "      <td>1004</td>\n",
       "      <td>68</td>\n",
       "      <td>NaT</td>\n",
       "      <td>Новокузнецк</td>\n",
       "      <td>Татьяна</td>\n",
       "      <td>Авдеенко</td>\n",
       "      <td>2018-05-14</td>\n",
       "      <td>ultra</td>\n",
       "    </tr>\n",
       "  </tbody>\n",
       "</table>\n",
       "</div>"
      ],
      "text/plain": [
       "   user_id  age churn_date         city first_name  last_name   reg_date  \\\n",
       "0     1000   52        NaT    Краснодар     Рафаил  Верещагин 2018-05-25   \n",
       "1     1001   41        NaT       Москва       Иван       Ежов 2018-11-01   \n",
       "2     1002   59        NaT  Стерлитамак    Евгений  Абрамович 2018-06-17   \n",
       "3     1003   23        NaT       Москва      Белла   Белякова 2018-08-17   \n",
       "4     1004   68        NaT  Новокузнецк    Татьяна   Авдеенко 2018-05-14   \n",
       "\n",
       "  tariff  \n",
       "0  ultra  \n",
       "1  smart  \n",
       "2  smart  \n",
       "3  ultra  \n",
       "4  ultra  "
      ]
     },
     "metadata": {},
     "output_type": "display_data"
    },
    {
     "name": "stdout",
     "output_type": "stream",
     "text": [
      "<class 'pandas.core.frame.DataFrame'>\n",
      "RangeIndex: 500 entries, 0 to 499\n",
      "Data columns (total 8 columns):\n",
      " #   Column      Non-Null Count  Dtype         \n",
      "---  ------      --------------  -----         \n",
      " 0   user_id     500 non-null    int64         \n",
      " 1   age         500 non-null    int64         \n",
      " 2   churn_date  38 non-null     datetime64[ns]\n",
      " 3   city        500 non-null    object        \n",
      " 4   first_name  500 non-null    object        \n",
      " 5   last_name   500 non-null    object        \n",
      " 6   reg_date    500 non-null    datetime64[ns]\n",
      " 7   tariff      500 non-null    object        \n",
      "dtypes: datetime64[ns](2), int64(2), object(4)\n",
      "memory usage: 31.4+ KB\n",
      "\n",
      "Уникальных записей в таблице = 500\n"
     ]
    }
   ],
   "source": [
    "# Датасет с информацией о пользователях меня порядком заинтересовал, особенно проверкой гипотезы о фактах двойной записи об\n",
    "# юзерах, сменивших тарифный план и внесенных в наш датасет под отдельным новым id. \n",
    "# Чтобы проверить такие случаи, заведем новый столбец с данными, содержащими информацию об имени и фамилии пользователя,\n",
    "# а так же о его городе, и проверим данный столбец на уникальность. \n",
    "# Ну и конечно же не забудем проверить весть датасет на явные дубликаты и поменять формат данных для столбца с датой и \n",
    "# извлечь из него значение месяца\n",
    "\n",
    "\n",
    "users['churn_date']= pd.to_datetime(users['churn_date'], format='%Y-%m-%d')\n",
    "users['reg_date']= pd.to_datetime(users['reg_date'], format='%Y-%m-%d')\n",
    "\n",
    "print('Количество явных дубликатов в датафрейме', users.duplicated().sum())\n",
    "display(users.head())\n",
    "users.info()\n",
    "#users.sort_values('last_name', ascending=False).head(30)\n",
    "\n",
    "#Проверка наличия в датасете пользователей, поменявших тарифный план (двойной записи) и получивших после этого новый id\n",
    "users['test'] = users['last_name'] + users ['first_name'] + users['city']\n",
    "print ()\n",
    "print('Уникальных записей в таблице =', users['test'].nunique())\n",
    "users = users.drop(['test'], axis = 1)\n"
   ]
  },
  {
   "cell_type": "markdown",
   "metadata": {},
   "source": [
    "Никакого задваивания в именах пользователей не обнаруженно, смотрим дальше."
   ]
  },
  {
   "cell_type": "code",
   "execution_count": 8,
   "metadata": {},
   "outputs": [
    {
     "name": "stdout",
     "output_type": "stream",
     "text": [
      "<class 'pandas.core.frame.DataFrame'>\n",
      "RangeIndex: 2 entries, 0 to 1\n",
      "Data columns (total 8 columns):\n",
      " #   Column                 Non-Null Count  Dtype \n",
      "---  ------                 --------------  ----- \n",
      " 0   messages_included      2 non-null      int64 \n",
      " 1   mb_per_month_included  2 non-null      int64 \n",
      " 2   minutes_included       2 non-null      int64 \n",
      " 3   rub_monthly_fee        2 non-null      int64 \n",
      " 4   rub_per_gb             2 non-null      int64 \n",
      " 5   rub_per_message        2 non-null      int64 \n",
      " 6   rub_per_minute         2 non-null      int64 \n",
      " 7   tariff_name            2 non-null      object\n",
      "dtypes: int64(7), object(1)\n",
      "memory usage: 256.0+ bytes\n"
     ]
    },
    {
     "data": {
      "text/html": [
       "<div>\n",
       "<style scoped>\n",
       "    .dataframe tbody tr th:only-of-type {\n",
       "        vertical-align: middle;\n",
       "    }\n",
       "\n",
       "    .dataframe tbody tr th {\n",
       "        vertical-align: top;\n",
       "    }\n",
       "\n",
       "    .dataframe thead th {\n",
       "        text-align: right;\n",
       "    }\n",
       "</style>\n",
       "<table border=\"1\" class=\"dataframe\">\n",
       "  <thead>\n",
       "    <tr style=\"text-align: right;\">\n",
       "      <th></th>\n",
       "      <th>messages_included</th>\n",
       "      <th>mb_per_month_included</th>\n",
       "      <th>minutes_included</th>\n",
       "      <th>rub_monthly_fee</th>\n",
       "      <th>rub_per_gb</th>\n",
       "      <th>rub_per_message</th>\n",
       "      <th>rub_per_minute</th>\n",
       "      <th>tariff</th>\n",
       "    </tr>\n",
       "  </thead>\n",
       "  <tbody>\n",
       "    <tr>\n",
       "      <th>0</th>\n",
       "      <td>50</td>\n",
       "      <td>15360</td>\n",
       "      <td>500</td>\n",
       "      <td>550</td>\n",
       "      <td>200</td>\n",
       "      <td>3</td>\n",
       "      <td>3</td>\n",
       "      <td>smart</td>\n",
       "    </tr>\n",
       "    <tr>\n",
       "      <th>1</th>\n",
       "      <td>1000</td>\n",
       "      <td>30720</td>\n",
       "      <td>3000</td>\n",
       "      <td>1950</td>\n",
       "      <td>150</td>\n",
       "      <td>1</td>\n",
       "      <td>1</td>\n",
       "      <td>ultra</td>\n",
       "    </tr>\n",
       "  </tbody>\n",
       "</table>\n",
       "</div>"
      ],
      "text/plain": [
       "   messages_included  mb_per_month_included  minutes_included  \\\n",
       "0                 50                  15360               500   \n",
       "1               1000                  30720              3000   \n",
       "\n",
       "   rub_monthly_fee  rub_per_gb  rub_per_message  rub_per_minute tariff  \n",
       "0              550         200                3               3  smart  \n",
       "1             1950         150                1               1  ultra  "
      ]
     },
     "execution_count": 8,
     "metadata": {},
     "output_type": "execute_result"
    }
   ],
   "source": [
    "# Посмотрим датасет с информацией о тарифах.\n",
    "\n",
    "# display(tariffs.head()) \n",
    "tariffs.info()\n",
    "tariffs = tariffs.rename(columns={\"tariff_name\": \"tariff\"}) # переименуем столбец с названием тарифа аналогично другим датасетам\n",
    "tariffs"
   ]
  },
  {
   "cell_type": "markdown",
   "metadata": {},
   "source": [
    "Следующим этапом нам необзодимо сгрупировать наши  датасеты по столбам `user_id` и `mounth`, для этого воспользуемся инструментом сводной таблицы. "
   ]
  },
  {
   "cell_type": "code",
   "execution_count": 9,
   "metadata": {},
   "outputs": [
    {
     "name": "stdout",
     "output_type": "stream",
     "text": [
      "<class 'pandas.core.frame.DataFrame'>\n",
      "RangeIndex: 3174 entries, 0 to 3173\n",
      "Data columns (total 4 columns):\n",
      " #   Column      Non-Null Count  Dtype  \n",
      "---  ------      --------------  -----  \n",
      " 0   user_id     3174 non-null   int64  \n",
      " 1   mounth      3174 non-null   int64  \n",
      " 2   count_call  3174 non-null   int64  \n",
      " 3   sum_call    3174 non-null   float64\n",
      "dtypes: float64(1), int64(3)\n",
      "memory usage: 99.3 KB\n"
     ]
    },
    {
     "data": {
      "text/html": [
       "<div>\n",
       "<style scoped>\n",
       "    .dataframe tbody tr th:only-of-type {\n",
       "        vertical-align: middle;\n",
       "    }\n",
       "\n",
       "    .dataframe tbody tr th {\n",
       "        vertical-align: top;\n",
       "    }\n",
       "\n",
       "    .dataframe thead th {\n",
       "        text-align: right;\n",
       "    }\n",
       "</style>\n",
       "<table border=\"1\" class=\"dataframe\">\n",
       "  <thead>\n",
       "    <tr style=\"text-align: right;\">\n",
       "      <th></th>\n",
       "      <th>user_id</th>\n",
       "      <th>mounth</th>\n",
       "      <th>count_call</th>\n",
       "      <th>sum_call</th>\n",
       "    </tr>\n",
       "  </thead>\n",
       "  <tbody>\n",
       "    <tr>\n",
       "      <th>0</th>\n",
       "      <td>1000</td>\n",
       "      <td>5</td>\n",
       "      <td>22</td>\n",
       "      <td>159.0</td>\n",
       "    </tr>\n",
       "    <tr>\n",
       "      <th>1</th>\n",
       "      <td>1000</td>\n",
       "      <td>6</td>\n",
       "      <td>43</td>\n",
       "      <td>172.0</td>\n",
       "    </tr>\n",
       "    <tr>\n",
       "      <th>2</th>\n",
       "      <td>1000</td>\n",
       "      <td>7</td>\n",
       "      <td>47</td>\n",
       "      <td>340.0</td>\n",
       "    </tr>\n",
       "    <tr>\n",
       "      <th>3</th>\n",
       "      <td>1000</td>\n",
       "      <td>8</td>\n",
       "      <td>52</td>\n",
       "      <td>408.0</td>\n",
       "    </tr>\n",
       "    <tr>\n",
       "      <th>4</th>\n",
       "      <td>1000</td>\n",
       "      <td>9</td>\n",
       "      <td>58</td>\n",
       "      <td>466.0</td>\n",
       "    </tr>\n",
       "  </tbody>\n",
       "</table>\n",
       "</div>"
      ],
      "text/plain": [
       "   user_id  mounth  count_call  sum_call\n",
       "0     1000       5          22     159.0\n",
       "1     1000       6          43     172.0\n",
       "2     1000       7          47     340.0\n",
       "3     1000       8          52     408.0\n",
       "4     1000       9          58     466.0"
      ]
     },
     "execution_count": 9,
     "metadata": {},
     "output_type": "execute_result"
    }
   ],
   "source": [
    "# Певый пошел!..\n",
    "\n",
    "calls_pivot = calls.pivot_table(index = ['user_id', 'call_mounth' ],  values = 'duration', aggfunc = ['count', 'sum']).reset_index()\n",
    "calls_pivot.columns=['user_id', 'mounth', 'count_call','sum_call']\n",
    "calls_pivot.info()\n",
    "calls_pivot.head() # Все ок, успешно!"
   ]
  },
  {
   "cell_type": "code",
   "execution_count": 10,
   "metadata": {},
   "outputs": [
    {
     "name": "stdout",
     "output_type": "stream",
     "text": [
      "<class 'pandas.core.frame.DataFrame'>\n",
      "RangeIndex: 2717 entries, 0 to 2716\n",
      "Data columns (total 3 columns):\n",
      " #   Column          Non-Null Count  Dtype\n",
      "---  ------          --------------  -----\n",
      " 0   user_id         2717 non-null   int64\n",
      " 1   mounth          2717 non-null   int64\n",
      " 2   count_messages  2717 non-null   int64\n",
      "dtypes: int64(3)\n",
      "memory usage: 63.8 KB\n"
     ]
    },
    {
     "data": {
      "text/html": [
       "<div>\n",
       "<style scoped>\n",
       "    .dataframe tbody tr th:only-of-type {\n",
       "        vertical-align: middle;\n",
       "    }\n",
       "\n",
       "    .dataframe tbody tr th {\n",
       "        vertical-align: top;\n",
       "    }\n",
       "\n",
       "    .dataframe thead th {\n",
       "        text-align: right;\n",
       "    }\n",
       "</style>\n",
       "<table border=\"1\" class=\"dataframe\">\n",
       "  <thead>\n",
       "    <tr style=\"text-align: right;\">\n",
       "      <th></th>\n",
       "      <th>user_id</th>\n",
       "      <th>mounth</th>\n",
       "      <th>count_messages</th>\n",
       "    </tr>\n",
       "  </thead>\n",
       "  <tbody>\n",
       "    <tr>\n",
       "      <th>0</th>\n",
       "      <td>1000</td>\n",
       "      <td>5</td>\n",
       "      <td>22</td>\n",
       "    </tr>\n",
       "    <tr>\n",
       "      <th>1</th>\n",
       "      <td>1000</td>\n",
       "      <td>6</td>\n",
       "      <td>60</td>\n",
       "    </tr>\n",
       "    <tr>\n",
       "      <th>2</th>\n",
       "      <td>1000</td>\n",
       "      <td>7</td>\n",
       "      <td>75</td>\n",
       "    </tr>\n",
       "    <tr>\n",
       "      <th>3</th>\n",
       "      <td>1000</td>\n",
       "      <td>8</td>\n",
       "      <td>81</td>\n",
       "    </tr>\n",
       "    <tr>\n",
       "      <th>4</th>\n",
       "      <td>1000</td>\n",
       "      <td>9</td>\n",
       "      <td>57</td>\n",
       "    </tr>\n",
       "  </tbody>\n",
       "</table>\n",
       "</div>"
      ],
      "text/plain": [
       "   user_id  mounth  count_messages\n",
       "0     1000       5              22\n",
       "1     1000       6              60\n",
       "2     1000       7              75\n",
       "3     1000       8              81\n",
       "4     1000       9              57"
      ]
     },
     "execution_count": 10,
     "metadata": {},
     "output_type": "execute_result"
    }
   ],
   "source": [
    "#..Второй пошел!\n",
    "messages_pivot = messages.pivot_table(index = ['user_id', 'message_mounth' ], values = 'id', aggfunc = 'count').reset_index()\n",
    "messages_pivot.columns=['user_id', 'mounth', 'count_messages']\n",
    "messages_pivot.info()\n",
    "messages_pivot.head(5) #Красота"
   ]
  },
  {
   "cell_type": "code",
   "execution_count": 11,
   "metadata": {},
   "outputs": [
    {
     "name": "stdout",
     "output_type": "stream",
     "text": [
      "<class 'pandas.core.frame.DataFrame'>\n",
      "RangeIndex: 3203 entries, 0 to 3202\n",
      "Data columns (total 3 columns):\n",
      " #   Column       Non-Null Count  Dtype  \n",
      "---  ------       --------------  -----  \n",
      " 0   user_id      3203 non-null   int64  \n",
      " 1   mounth       3203 non-null   int64  \n",
      " 2   sum_session  3203 non-null   float64\n",
      "dtypes: float64(1), int64(2)\n",
      "memory usage: 75.2 KB\n"
     ]
    },
    {
     "data": {
      "text/html": [
       "<div>\n",
       "<style scoped>\n",
       "    .dataframe tbody tr th:only-of-type {\n",
       "        vertical-align: middle;\n",
       "    }\n",
       "\n",
       "    .dataframe tbody tr th {\n",
       "        vertical-align: top;\n",
       "    }\n",
       "\n",
       "    .dataframe thead th {\n",
       "        text-align: right;\n",
       "    }\n",
       "</style>\n",
       "<table border=\"1\" class=\"dataframe\">\n",
       "  <thead>\n",
       "    <tr style=\"text-align: right;\">\n",
       "      <th></th>\n",
       "      <th>user_id</th>\n",
       "      <th>mounth</th>\n",
       "      <th>sum_session</th>\n",
       "    </tr>\n",
       "  </thead>\n",
       "  <tbody>\n",
       "    <tr>\n",
       "      <th>0</th>\n",
       "      <td>1000</td>\n",
       "      <td>5</td>\n",
       "      <td>2253.49</td>\n",
       "    </tr>\n",
       "    <tr>\n",
       "      <th>1</th>\n",
       "      <td>1000</td>\n",
       "      <td>6</td>\n",
       "      <td>23233.77</td>\n",
       "    </tr>\n",
       "    <tr>\n",
       "      <th>2</th>\n",
       "      <td>1000</td>\n",
       "      <td>7</td>\n",
       "      <td>14003.64</td>\n",
       "    </tr>\n",
       "    <tr>\n",
       "      <th>3</th>\n",
       "      <td>1000</td>\n",
       "      <td>8</td>\n",
       "      <td>14055.93</td>\n",
       "    </tr>\n",
       "    <tr>\n",
       "      <th>4</th>\n",
       "      <td>1000</td>\n",
       "      <td>9</td>\n",
       "      <td>14568.91</td>\n",
       "    </tr>\n",
       "  </tbody>\n",
       "</table>\n",
       "</div>"
      ],
      "text/plain": [
       "   user_id  mounth  sum_session\n",
       "0     1000       5      2253.49\n",
       "1     1000       6     23233.77\n",
       "2     1000       7     14003.64\n",
       "3     1000       8     14055.93\n",
       "4     1000       9     14568.91"
      ]
     },
     "execution_count": 11,
     "metadata": {},
     "output_type": "execute_result"
    }
   ],
   "source": [
    "# На очереди табличка с интернетом, делаем сводную в одном духе с другими таблицами.\n",
    "\n",
    "inet_pivot = inet.pivot_table(index = ['user_id', 'session_mounth'], values = 'mb_used', aggfunc = 'sum').reset_index()\n",
    "inet_pivot.columns=['user_id', 'mounth', 'sum_session']\n",
    "inet_pivot.info()\n",
    "inet_pivot.head(5)"
   ]
  },
  {
   "cell_type": "code",
   "execution_count": 12,
   "metadata": {},
   "outputs": [
    {
     "name": "stdout",
     "output_type": "stream",
     "text": [
      "<class 'pandas.core.frame.DataFrame'>\n",
      "Int64Index: 3216 entries, 0 to 3215\n",
      "Data columns (total 20 columns):\n",
      " #   Column                 Non-Null Count  Dtype         \n",
      "---  ------                 --------------  -----         \n",
      " 0   user_id                3216 non-null   int64         \n",
      " 1   mounth                 3216 non-null   int64         \n",
      " 2   count_call             3216 non-null   int64         \n",
      " 3   sum_call               3216 non-null   int64         \n",
      " 4   count_messages         3216 non-null   int64         \n",
      " 5   sum_session            3216 non-null   float64       \n",
      " 6   age                    3216 non-null   int64         \n",
      " 7   churn_date             189 non-null    datetime64[ns]\n",
      " 8   city                   3216 non-null   object        \n",
      " 9   first_name             3216 non-null   object        \n",
      " 10  last_name              3216 non-null   object        \n",
      " 11  reg_date               3216 non-null   datetime64[ns]\n",
      " 12  tariff                 3216 non-null   object        \n",
      " 13  messages_included      3216 non-null   int64         \n",
      " 14  mb_per_month_included  3216 non-null   int64         \n",
      " 15  minutes_included       3216 non-null   int64         \n",
      " 16  rub_monthly_fee        3216 non-null   int64         \n",
      " 17  rub_per_gb             3216 non-null   int64         \n",
      " 18  rub_per_message        3216 non-null   int64         \n",
      " 19  rub_per_minute         3216 non-null   int64         \n",
      "dtypes: datetime64[ns](2), float64(1), int64(13), object(4)\n",
      "memory usage: 527.6+ KB\n"
     ]
    },
    {
     "data": {
      "text/html": [
       "<div>\n",
       "<style scoped>\n",
       "    .dataframe tbody tr th:only-of-type {\n",
       "        vertical-align: middle;\n",
       "    }\n",
       "\n",
       "    .dataframe tbody tr th {\n",
       "        vertical-align: top;\n",
       "    }\n",
       "\n",
       "    .dataframe thead th {\n",
       "        text-align: right;\n",
       "    }\n",
       "</style>\n",
       "<table border=\"1\" class=\"dataframe\">\n",
       "  <thead>\n",
       "    <tr style=\"text-align: right;\">\n",
       "      <th></th>\n",
       "      <th>user_id</th>\n",
       "      <th>mounth</th>\n",
       "      <th>count_call</th>\n",
       "      <th>sum_call</th>\n",
       "      <th>count_messages</th>\n",
       "      <th>sum_session</th>\n",
       "      <th>age</th>\n",
       "      <th>churn_date</th>\n",
       "      <th>city</th>\n",
       "      <th>first_name</th>\n",
       "      <th>...</th>\n",
       "      <th>reg_date</th>\n",
       "      <th>tariff</th>\n",
       "      <th>messages_included</th>\n",
       "      <th>mb_per_month_included</th>\n",
       "      <th>minutes_included</th>\n",
       "      <th>rub_monthly_fee</th>\n",
       "      <th>rub_per_gb</th>\n",
       "      <th>rub_per_message</th>\n",
       "      <th>rub_per_minute</th>\n",
       "      <th>revenue</th>\n",
       "    </tr>\n",
       "  </thead>\n",
       "  <tbody>\n",
       "    <tr>\n",
       "      <th>1745</th>\n",
       "      <td>1280</td>\n",
       "      <td>10</td>\n",
       "      <td>91</td>\n",
       "      <td>619</td>\n",
       "      <td>44</td>\n",
       "      <td>20183.65</td>\n",
       "      <td>53</td>\n",
       "      <td>NaT</td>\n",
       "      <td>Астрахань</td>\n",
       "      <td>Артемий</td>\n",
       "      <td>...</td>\n",
       "      <td>2018-07-18</td>\n",
       "      <td>smart</td>\n",
       "      <td>50</td>\n",
       "      <td>15360</td>\n",
       "      <td>500</td>\n",
       "      <td>550</td>\n",
       "      <td>200</td>\n",
       "      <td>3</td>\n",
       "      <td>3</td>\n",
       "      <td>1907.0</td>\n",
       "    </tr>\n",
       "    <tr>\n",
       "      <th>29</th>\n",
       "      <td>1004</td>\n",
       "      <td>12</td>\n",
       "      <td>21</td>\n",
       "      <td>130</td>\n",
       "      <td>162</td>\n",
       "      <td>18021.04</td>\n",
       "      <td>68</td>\n",
       "      <td>NaT</td>\n",
       "      <td>Новокузнецк</td>\n",
       "      <td>Татьяна</td>\n",
       "      <td>...</td>\n",
       "      <td>2018-05-14</td>\n",
       "      <td>ultra</td>\n",
       "      <td>1000</td>\n",
       "      <td>30720</td>\n",
       "      <td>3000</td>\n",
       "      <td>1950</td>\n",
       "      <td>150</td>\n",
       "      <td>1</td>\n",
       "      <td>1</td>\n",
       "      <td>1950.0</td>\n",
       "    </tr>\n",
       "    <tr>\n",
       "      <th>1647</th>\n",
       "      <td>1264</td>\n",
       "      <td>9</td>\n",
       "      <td>54</td>\n",
       "      <td>464</td>\n",
       "      <td>26</td>\n",
       "      <td>15890.58</td>\n",
       "      <td>47</td>\n",
       "      <td>NaT</td>\n",
       "      <td>Хабаровск</td>\n",
       "      <td>Саида</td>\n",
       "      <td>...</td>\n",
       "      <td>2018-04-22</td>\n",
       "      <td>smart</td>\n",
       "      <td>50</td>\n",
       "      <td>15360</td>\n",
       "      <td>500</td>\n",
       "      <td>550</td>\n",
       "      <td>200</td>\n",
       "      <td>3</td>\n",
       "      <td>3</td>\n",
       "      <td>750.0</td>\n",
       "    </tr>\n",
       "    <tr>\n",
       "      <th>3119</th>\n",
       "      <td>1490</td>\n",
       "      <td>7</td>\n",
       "      <td>34</td>\n",
       "      <td>250</td>\n",
       "      <td>62</td>\n",
       "      <td>10793.13</td>\n",
       "      <td>30</td>\n",
       "      <td>NaT</td>\n",
       "      <td>Москва</td>\n",
       "      <td>Радомир</td>\n",
       "      <td>...</td>\n",
       "      <td>2018-04-03</td>\n",
       "      <td>smart</td>\n",
       "      <td>50</td>\n",
       "      <td>15360</td>\n",
       "      <td>500</td>\n",
       "      <td>550</td>\n",
       "      <td>200</td>\n",
       "      <td>3</td>\n",
       "      <td>3</td>\n",
       "      <td>586.0</td>\n",
       "    </tr>\n",
       "    <tr>\n",
       "      <th>411</th>\n",
       "      <td>1065</td>\n",
       "      <td>3</td>\n",
       "      <td>65</td>\n",
       "      <td>480</td>\n",
       "      <td>52</td>\n",
       "      <td>19579.45</td>\n",
       "      <td>53</td>\n",
       "      <td>2018-12-09</td>\n",
       "      <td>Москва</td>\n",
       "      <td>Роза</td>\n",
       "      <td>...</td>\n",
       "      <td>2018-03-08</td>\n",
       "      <td>smart</td>\n",
       "      <td>50</td>\n",
       "      <td>15360</td>\n",
       "      <td>500</td>\n",
       "      <td>550</td>\n",
       "      <td>200</td>\n",
       "      <td>3</td>\n",
       "      <td>3</td>\n",
       "      <td>1556.0</td>\n",
       "    </tr>\n",
       "  </tbody>\n",
       "</table>\n",
       "<p>5 rows × 21 columns</p>\n",
       "</div>"
      ],
      "text/plain": [
       "      user_id  mounth  count_call  sum_call  count_messages  sum_session  age  \\\n",
       "1745     1280      10          91       619              44     20183.65   53   \n",
       "29       1004      12          21       130             162     18021.04   68   \n",
       "1647     1264       9          54       464              26     15890.58   47   \n",
       "3119     1490       7          34       250              62     10793.13   30   \n",
       "411      1065       3          65       480              52     19579.45   53   \n",
       "\n",
       "     churn_date         city first_name  ...   reg_date tariff  \\\n",
       "1745        NaT    Астрахань    Артемий  ... 2018-07-18  smart   \n",
       "29          NaT  Новокузнецк    Татьяна  ... 2018-05-14  ultra   \n",
       "1647        NaT    Хабаровск      Саида  ... 2018-04-22  smart   \n",
       "3119        NaT       Москва    Радомир  ... 2018-04-03  smart   \n",
       "411  2018-12-09       Москва       Роза  ... 2018-03-08  smart   \n",
       "\n",
       "     messages_included  mb_per_month_included  minutes_included  \\\n",
       "1745                50                  15360               500   \n",
       "29                1000                  30720              3000   \n",
       "1647                50                  15360               500   \n",
       "3119                50                  15360               500   \n",
       "411                 50                  15360               500   \n",
       "\n",
       "      rub_monthly_fee  rub_per_gb  rub_per_message  rub_per_minute  revenue  \n",
       "1745              550         200                3               3   1907.0  \n",
       "29               1950         150                1               1   1950.0  \n",
       "1647              550         200                3               3    750.0  \n",
       "3119              550         200                3               3    586.0  \n",
       "411               550         200                3               3   1556.0  \n",
       "\n",
       "[5 rows x 21 columns]"
      ]
     },
     "metadata": {},
     "output_type": "display_data"
    },
    {
     "name": "stdout",
     "output_type": "stream",
     "text": [
      "Выручка по всем абонентам  из выборки за год составила  4916951.0\n"
     ]
    }
   ],
   "source": [
    "# Объединяем получившиеся сводные таблицы и считаем в ней выручку помесячно по каждому из абонентов.\n",
    "\n",
    "df = calls_pivot.merge(messages_pivot, how = 'outer', on = ['user_id', 'mounth'])\n",
    "df = df.merge(inet_pivot,how = 'outer', on = ['user_id', 'mounth'])\n",
    "\n",
    "#есть 2 пользователя с нулевой активностью по услугам, не пользовавшихся \n",
    "#услугами разговоров, интернета или смс. Эти пользователи разорвали контракт в первый месяц подключения.  Включаем данные о них \n",
    "# в общую таблицу для учета абонентской платы по ним\n",
    "df = df.merge(users, how = 'outer', on = 'user_id')\n",
    "df = df.merge(tariffs , how = 'left', on = 'tariff')\n",
    "\n",
    "# Видим тип данных float в некоторых столбцах в результате объединения. Это, вероятнее всего, связано с наличием пропусков в \n",
    "# данных столцах, образовавшихся в результате объединения. Уберем пропуски в данных о звонках, смс и трафике на \"0\", так как  \n",
    "# логично сделать вывод - что если данных об использовании нет, то абонент не прибегал к данным видам услуг. Пропуски по \n",
    "# месяцам для двух абонентов без активностей заполним в соответсвии с месяцем регистрации абонетов - декабрем. \n",
    "# За одно наведем порядок с типами данных по столбцам.\n",
    "\n",
    "df['mounth'] = df['mounth'].fillna(12)\n",
    "df[['count_call', 'sum_call', 'count_messages', 'sum_session']] = df[\n",
    "    ['count_call', 'sum_call', 'count_messages','sum_session']].fillna(value=0)\n",
    "df[['mounth','count_call', 'sum_call', 'count_messages']] = df[\n",
    "    ['mounth','count_call', 'sum_call', 'count_messages']].astype('int64')\n",
    "df.info()\n",
    "\n",
    "\n",
    "\n",
    "def money_calc(data):\n",
    "    money = 0\n",
    "    money += data['rub_monthly_fee'] \n",
    "    \n",
    "    message = (data['count_messages'] - data['messages_included'])\n",
    "    minutes = (data['sum_call'] - data['minutes_included'])\n",
    "    session = (data['sum_session'] - data['mb_per_month_included'])\n",
    " \n",
    "\n",
    "    if message > 0:\n",
    "        money += data['rub_per_message']*message \n",
    "    \n",
    "    if minutes > 0:\n",
    "        money += minutes* data['rub_per_minute'] \n",
    "  \n",
    "    if session > 0:\n",
    "        session = session/1024\n",
    "        session = np.ceil(session)\n",
    "        money += session * data['rub_per_gb'] \n",
    "\n",
    "    return money \n",
    "\n",
    "df['revenue'] = df.apply(money_calc, axis = 1)\n",
    "\n",
    "display(df.sample(5)) #смотрим 5 случайных строк из датафрейма\n",
    "\n",
    "print( \"Выручка по всем абонентам  из выборки за год составила \", df['revenue'].sum())"
   ]
  },
  {
   "cell_type": "markdown",
   "metadata": {},
   "source": [
    "Итак, мы сформировали датасет с данными об активности каждого абонента «Мегалайн» по месяцам, заполнили пропуски и посчитали выручку. Приступаем к анализу данных."
   ]
  },
  {
   "cell_type": "code",
   "execution_count": 13,
   "metadata": {},
   "outputs": [
    {
     "data": {
      "text/plain": [
       "smart    0.693408\n",
       "ultra    0.306592\n",
       "Name: tariff, dtype: float64"
      ]
     },
     "execution_count": 13,
     "metadata": {},
     "output_type": "execute_result"
    },
    {
     "data": {
      "image/png": "[encoded data removed]",
      "text/plain": [
       "<Figure size 432x288 with 1 Axes>"
      ]
     },
     "metadata": {},
     "output_type": "display_data"
    }
   ],
   "source": [
    "sns.countplot(df['tariff'])  \n",
    "df['tariff'].value_counts(normalize=True)"
   ]
  },
  {
   "cell_type": "markdown",
   "metadata": {},
   "source": [
    "Более 2/3 наших абонентов, а если быть точным то 69,3 %, пользуются тарифом \"Смарт\". Можно сделать вывод о наличии дисбаланса в датасете."
   ]
  },
  {
   "cell_type": "code",
   "execution_count": 14,
   "metadata": {},
   "outputs": [
    {
     "data": {
      "text/html": [
       "<div>\n",
       "<style scoped>\n",
       "    .dataframe tbody tr th:only-of-type {\n",
       "        vertical-align: middle;\n",
       "    }\n",
       "\n",
       "    .dataframe tbody tr th {\n",
       "        vertical-align: top;\n",
       "    }\n",
       "\n",
       "    .dataframe thead th {\n",
       "        text-align: right;\n",
       "    }\n",
       "</style>\n",
       "<table border=\"1\" class=\"dataframe\">\n",
       "  <thead>\n",
       "    <tr style=\"text-align: right;\">\n",
       "      <th></th>\n",
       "      <th>city</th>\n",
       "      <th>first_name</th>\n",
       "      <th>last_name</th>\n",
       "      <th>tariff</th>\n",
       "    </tr>\n",
       "  </thead>\n",
       "  <tbody>\n",
       "    <tr>\n",
       "      <th>count</th>\n",
       "      <td>3216</td>\n",
       "      <td>3216</td>\n",
       "      <td>3216</td>\n",
       "      <td>3216</td>\n",
       "    </tr>\n",
       "    <tr>\n",
       "      <th>unique</th>\n",
       "      <td>76</td>\n",
       "      <td>246</td>\n",
       "      <td>419</td>\n",
       "      <td>2</td>\n",
       "    </tr>\n",
       "    <tr>\n",
       "      <th>top</th>\n",
       "      <td>Москва</td>\n",
       "      <td>Мариетта</td>\n",
       "      <td>Андреенко</td>\n",
       "      <td>smart</td>\n",
       "    </tr>\n",
       "    <tr>\n",
       "      <th>freq</th>\n",
       "      <td>611</td>\n",
       "      <td>39</td>\n",
       "      <td>35</td>\n",
       "      <td>2230</td>\n",
       "    </tr>\n",
       "  </tbody>\n",
       "</table>\n",
       "</div>"
      ],
      "text/plain": [
       "          city first_name  last_name tariff\n",
       "count     3216       3216       3216   3216\n",
       "unique      76        246        419      2\n",
       "top     Москва   Мариетта  Андреенко  smart\n",
       "freq       611         39         35   2230"
      ]
     },
     "execution_count": 14,
     "metadata": {},
     "output_type": "execute_result"
    }
   ],
   "source": [
    "# Посмотрим, какая информация содержится в текстовых строках нашего датафрейма. С помощью метода describe вызовим\\\n",
    "# описательную статистику по ним\n",
    "df.describe(include=['object'])"
   ]
  },
  {
   "cell_type": "markdown",
   "metadata": {},
   "source": [
    "Фух, сразу полегчало. Типичный абонент в нашей выборки - Мариетта Андреенко из Москвы с тарифом \"Смарт\" =) \n",
    "\n",
    "Ну а если без шуток, то дидим, что в выбоку попали абоненты из 76 городов и самое большое количество находится (или зарегистрированно) в Москве. Почти 19%. "
   ]
  },
  {
   "cell_type": "code",
   "execution_count": 15,
   "metadata": {},
   "outputs": [],
   "source": [
    "# Данные о стоимости трафика, минут и смс сверх тарифных планов нам уже ни к чему, избавимся от них.\n",
    "\n",
    "df = df.drop(['rub_monthly_fee', 'rub_per_gb', 'rub_per_message', 'rub_per_minute'], axis=1)\n"
   ]
  },
  {
   "cell_type": "markdown",
   "metadata": {},
   "source": [
    "**Вывод:** На данном этапе анализа нам  удалось переработать и объединить данные по всем видам услуг помесячно для каждого абонента, а так же расчитать сумму выручки по всем абонентам из выборки. Выручка составила 4 916 951 рублей. Можно переходить к следующему этапу анализа."
   ]
  },
  {
   "cell_type": "markdown",
   "metadata": {},
   "source": [
    "# 3. Анализ данных"
   ]
  },
  {
   "cell_type": "code",
   "execution_count": 16,
   "metadata": {},
   "outputs": [
    {
     "data": {
      "text/html": [
       "<div>\n",
       "<style scoped>\n",
       "    .dataframe tbody tr th:only-of-type {\n",
       "        vertical-align: middle;\n",
       "    }\n",
       "\n",
       "    .dataframe tbody tr th {\n",
       "        vertical-align: top;\n",
       "    }\n",
       "\n",
       "    .dataframe thead th {\n",
       "        text-align: right;\n",
       "    }\n",
       "</style>\n",
       "<table border=\"1\" class=\"dataframe\">\n",
       "  <thead>\n",
       "    <tr style=\"text-align: right;\">\n",
       "      <th></th>\n",
       "      <th>mounth</th>\n",
       "      <th>count_messages_mean</th>\n",
       "      <th>sum_call_mean</th>\n",
       "      <th>sum_session_mean</th>\n",
       "      <th>count_messages_var</th>\n",
       "      <th>sum_call_var</th>\n",
       "      <th>sum_session_var</th>\n",
       "      <th>count_messages_std</th>\n",
       "      <th>sum_call_std</th>\n",
       "      <th>sum_session_std</th>\n",
       "    </tr>\n",
       "  </thead>\n",
       "  <tbody>\n",
       "    <tr>\n",
       "      <th>count</th>\n",
       "      <td>24.000000</td>\n",
       "      <td>24.000000</td>\n",
       "      <td>24.000000</td>\n",
       "      <td>24.000000</td>\n",
       "      <td>24.000000</td>\n",
       "      <td>24.000000</td>\n",
       "      <td>2.400000e+01</td>\n",
       "      <td>24.000000</td>\n",
       "      <td>24.000000</td>\n",
       "      <td>24.000000</td>\n",
       "    </tr>\n",
       "    <tr>\n",
       "      <th>mean</th>\n",
       "      <td>6.500000</td>\n",
       "      <td>37.545833</td>\n",
       "      <td>441.112500</td>\n",
       "      <td>16623.395833</td>\n",
       "      <td>1314.516667</td>\n",
       "      <td>64346.091667</td>\n",
       "      <td>6.549562e+07</td>\n",
       "      <td>34.770833</td>\n",
       "      <td>245.333333</td>\n",
       "      <td>7803.658333</td>\n",
       "    </tr>\n",
       "    <tr>\n",
       "      <th>std</th>\n",
       "      <td>3.526299</td>\n",
       "      <td>11.115480</td>\n",
       "      <td>91.733723</td>\n",
       "      <td>3191.418629</td>\n",
       "      <td>769.752686</td>\n",
       "      <td>32934.362578</td>\n",
       "      <td>3.507605e+07</td>\n",
       "      <td>10.513159</td>\n",
       "      <td>65.841507</td>\n",
       "      <td>2190.523618</td>\n",
       "    </tr>\n",
       "    <tr>\n",
       "      <th>min</th>\n",
       "      <td>1.000000</td>\n",
       "      <td>18.200000</td>\n",
       "      <td>203.900000</td>\n",
       "      <td>8513.700000</td>\n",
       "      <td>262.400000</td>\n",
       "      <td>23787.300000</td>\n",
       "      <td>2.699962e+07</td>\n",
       "      <td>16.200000</td>\n",
       "      <td>154.200000</td>\n",
       "      <td>5196.100000</td>\n",
       "    </tr>\n",
       "    <tr>\n",
       "      <th>25%</th>\n",
       "      <td>3.750000</td>\n",
       "      <td>32.200000</td>\n",
       "      <td>394.225000</td>\n",
       "      <td>15583.450000</td>\n",
       "      <td>775.700000</td>\n",
       "      <td>34789.750000</td>\n",
       "      <td>3.386064e+07</td>\n",
       "      <td>27.825000</td>\n",
       "      <td>186.500000</td>\n",
       "      <td>5818.950000</td>\n",
       "    </tr>\n",
       "    <tr>\n",
       "      <th>50%</th>\n",
       "      <td>6.500000</td>\n",
       "      <td>33.800000</td>\n",
       "      <td>431.950000</td>\n",
       "      <td>16792.600000</td>\n",
       "      <td>887.150000</td>\n",
       "      <td>55956.150000</td>\n",
       "      <td>4.433345e+07</td>\n",
       "      <td>29.800000</td>\n",
       "      <td>234.150000</td>\n",
       "      <td>6655.000000</td>\n",
       "    </tr>\n",
       "    <tr>\n",
       "      <th>75%</th>\n",
       "      <td>9.250000</td>\n",
       "      <td>43.375000</td>\n",
       "      <td>510.425000</td>\n",
       "      <td>19244.025000</td>\n",
       "      <td>2027.950000</td>\n",
       "      <td>94884.250000</td>\n",
       "      <td>9.885029e+07</td>\n",
       "      <td>45.050000</td>\n",
       "      <td>308.025000</td>\n",
       "      <td>9942.150000</td>\n",
       "    </tr>\n",
       "    <tr>\n",
       "      <th>max</th>\n",
       "      <td>12.000000</td>\n",
       "      <td>60.200000</td>\n",
       "      <td>588.600000</td>\n",
       "      <td>21637.500000</td>\n",
       "      <td>2697.200000</td>\n",
       "      <td>118942.800000</td>\n",
       "      <td>1.199416e+08</td>\n",
       "      <td>51.900000</td>\n",
       "      <td>344.900000</td>\n",
       "      <td>10951.800000</td>\n",
       "    </tr>\n",
       "  </tbody>\n",
       "</table>\n",
       "</div>"
      ],
      "text/plain": [
       "          mounth  count_messages_mean  sum_call_mean  sum_session_mean  \\\n",
       "count  24.000000            24.000000      24.000000         24.000000   \n",
       "mean    6.500000            37.545833     441.112500      16623.395833   \n",
       "std     3.526299            11.115480      91.733723       3191.418629   \n",
       "min     1.000000            18.200000     203.900000       8513.700000   \n",
       "25%     3.750000            32.200000     394.225000      15583.450000   \n",
       "50%     6.500000            33.800000     431.950000      16792.600000   \n",
       "75%     9.250000            43.375000     510.425000      19244.025000   \n",
       "max    12.000000            60.200000     588.600000      21637.500000   \n",
       "\n",
       "       count_messages_var   sum_call_var  sum_session_var  count_messages_std  \\\n",
       "count           24.000000      24.000000     2.400000e+01           24.000000   \n",
       "mean          1314.516667   64346.091667     6.549562e+07           34.770833   \n",
       "std            769.752686   32934.362578     3.507605e+07           10.513159   \n",
       "min            262.400000   23787.300000     2.699962e+07           16.200000   \n",
       "25%            775.700000   34789.750000     3.386064e+07           27.825000   \n",
       "50%            887.150000   55956.150000     4.433345e+07           29.800000   \n",
       "75%           2027.950000   94884.250000     9.885029e+07           45.050000   \n",
       "max           2697.200000  118942.800000     1.199416e+08           51.900000   \n",
       "\n",
       "       sum_call_std  sum_session_std  \n",
       "count     24.000000        24.000000  \n",
       "mean     245.333333      7803.658333  \n",
       "std       65.841507      2190.523618  \n",
       "min      154.200000      5196.100000  \n",
       "25%      186.500000      5818.950000  \n",
       "50%      234.150000      6655.000000  \n",
       "75%      308.025000      9942.150000  \n",
       "max      344.900000     10951.800000  "
      ]
     },
     "execution_count": 16,
     "metadata": {},
     "output_type": "execute_result"
    }
   ],
   "source": [
    "# Для  анализа поведения клиентов постороим сводную  таблицу по месяцам и тарифным планам, в которой расчитаем сколько \n",
    "# в среднем минут разговора, сколько сообщений и какой объём интернет-трафика требуется пользователям каждого тарифа в месяц.\n",
    "# Так же в соответсвии с условиями задания расчитаем среднее количество, дисперсию и стандартное отклонение.\n",
    "\n",
    "df_pivot= df.pivot_table(index = ['tariff','mounth'], \n",
    "                     values = ['sum_call','count_messages','sum_session'], aggfunc = ['mean', 'var','std']).round(1).reset_index()\n",
    "df_pivot.columns=['tariff','mounth','count_messages_mean', 'sum_call_mean', 'sum_session_mean', 'count_messages_var',\n",
    "             'sum_call_var','sum_session_var','count_messages_std', 'sum_call_std', 'sum_session_std']\n",
    "\n",
    "df_pivot.describe()"
   ]
  },
  {
   "cell_type": "markdown",
   "metadata": {},
   "source": [
    "Вывод"
   ]
  },
  {
   "cell_type": "code",
   "execution_count": 17,
   "metadata": {},
   "outputs": [
    {
     "data": {
      "text/html": [
       "<div>\n",
       "<style scoped>\n",
       "    .dataframe tbody tr th:only-of-type {\n",
       "        vertical-align: middle;\n",
       "    }\n",
       "\n",
       "    .dataframe tbody tr th {\n",
       "        vertical-align: top;\n",
       "    }\n",
       "\n",
       "    .dataframe thead th {\n",
       "        text-align: right;\n",
       "    }\n",
       "</style>\n",
       "<table border=\"1\" class=\"dataframe\">\n",
       "  <thead>\n",
       "    <tr style=\"text-align: right;\">\n",
       "      <th></th>\n",
       "      <th>mounth</th>\n",
       "      <th>count_messages_mean</th>\n",
       "      <th>sum_call_mean</th>\n",
       "      <th>sum_session_mean</th>\n",
       "      <th>count_messages_var</th>\n",
       "      <th>sum_call_var</th>\n",
       "      <th>sum_session_var</th>\n",
       "      <th>count_messages_std</th>\n",
       "      <th>sum_call_std</th>\n",
       "      <th>sum_session_std</th>\n",
       "    </tr>\n",
       "  </thead>\n",
       "  <tbody>\n",
       "    <tr>\n",
       "      <th>count</th>\n",
       "      <td>12.000000</td>\n",
       "      <td>12.000000</td>\n",
       "      <td>12.000000</td>\n",
       "      <td>12.000000</td>\n",
       "      <td>12.000000</td>\n",
       "      <td>12.000000</td>\n",
       "      <td>1.200000e+01</td>\n",
       "      <td>12.000000</td>\n",
       "      <td>12.000000</td>\n",
       "      <td>12.000000</td>\n",
       "    </tr>\n",
       "    <tr>\n",
       "      <th>mean</th>\n",
       "      <td>6.500000</td>\n",
       "      <td>31.408333</td>\n",
       "      <td>386.650000</td>\n",
       "      <td>15053.950000</td>\n",
       "      <td>715.058333</td>\n",
       "      <td>33766.591667</td>\n",
       "      <td>3.367810e+07</td>\n",
       "      <td>26.475000</td>\n",
       "      <td>183.416667</td>\n",
       "      <td>5793.858333</td>\n",
       "    </tr>\n",
       "    <tr>\n",
       "      <th>std</th>\n",
       "      <td>3.605551</td>\n",
       "      <td>5.105872</td>\n",
       "      <td>72.085335</td>\n",
       "      <td>2665.668535</td>\n",
       "      <td>185.926552</td>\n",
       "      <td>4045.989385</td>\n",
       "      <td>4.019744e+06</td>\n",
       "      <td>3.965791</td>\n",
       "      <td>11.435736</td>\n",
       "      <td>345.347615</td>\n",
       "    </tr>\n",
       "    <tr>\n",
       "      <th>min</th>\n",
       "      <td>1.000000</td>\n",
       "      <td>18.200000</td>\n",
       "      <td>203.900000</td>\n",
       "      <td>8513.700000</td>\n",
       "      <td>262.400000</td>\n",
       "      <td>23787.300000</td>\n",
       "      <td>2.699962e+07</td>\n",
       "      <td>16.200000</td>\n",
       "      <td>154.200000</td>\n",
       "      <td>5196.100000</td>\n",
       "    </tr>\n",
       "    <tr>\n",
       "      <th>25%</th>\n",
       "      <td>3.750000</td>\n",
       "      <td>31.600000</td>\n",
       "      <td>382.325000</td>\n",
       "      <td>14693.700000</td>\n",
       "      <td>689.400000</td>\n",
       "      <td>32089.025000</td>\n",
       "      <td>3.178017e+07</td>\n",
       "      <td>26.225000</td>\n",
       "      <td>179.150000</td>\n",
       "      <td>5637.300000</td>\n",
       "    </tr>\n",
       "    <tr>\n",
       "      <th>50%</th>\n",
       "      <td>6.500000</td>\n",
       "      <td>33.600000</td>\n",
       "      <td>402.000000</td>\n",
       "      <td>15799.900000</td>\n",
       "      <td>795.250000</td>\n",
       "      <td>34785.900000</td>\n",
       "      <td>3.375292e+07</td>\n",
       "      <td>28.200000</td>\n",
       "      <td>186.500000</td>\n",
       "      <td>5809.700000</td>\n",
       "    </tr>\n",
       "    <tr>\n",
       "      <th>75%</th>\n",
       "      <td>9.250000</td>\n",
       "      <td>33.800000</td>\n",
       "      <td>426.725000</td>\n",
       "      <td>16647.300000</td>\n",
       "      <td>809.125000</td>\n",
       "      <td>35647.300000</td>\n",
       "      <td>3.501714e+07</td>\n",
       "      <td>28.450000</td>\n",
       "      <td>188.775000</td>\n",
       "      <td>5917.450000</td>\n",
       "    </tr>\n",
       "    <tr>\n",
       "      <th>max</th>\n",
       "      <td>12.000000</td>\n",
       "      <td>35.900000</td>\n",
       "      <td>477.100000</td>\n",
       "      <td>18060.100000</td>\n",
       "      <td>936.000000</td>\n",
       "      <td>40258.400000</td>\n",
       "      <td>4.153391e+07</td>\n",
       "      <td>30.600000</td>\n",
       "      <td>200.600000</td>\n",
       "      <td>6444.700000</td>\n",
       "    </tr>\n",
       "  </tbody>\n",
       "</table>\n",
       "</div>"
      ],
      "text/plain": [
       "          mounth  count_messages_mean  sum_call_mean  sum_session_mean  \\\n",
       "count  12.000000            12.000000      12.000000         12.000000   \n",
       "mean    6.500000            31.408333     386.650000      15053.950000   \n",
       "std     3.605551             5.105872      72.085335       2665.668535   \n",
       "min     1.000000            18.200000     203.900000       8513.700000   \n",
       "25%     3.750000            31.600000     382.325000      14693.700000   \n",
       "50%     6.500000            33.600000     402.000000      15799.900000   \n",
       "75%     9.250000            33.800000     426.725000      16647.300000   \n",
       "max    12.000000            35.900000     477.100000      18060.100000   \n",
       "\n",
       "       count_messages_var  sum_call_var  sum_session_var  count_messages_std  \\\n",
       "count           12.000000     12.000000     1.200000e+01           12.000000   \n",
       "mean           715.058333  33766.591667     3.367810e+07           26.475000   \n",
       "std            185.926552   4045.989385     4.019744e+06            3.965791   \n",
       "min            262.400000  23787.300000     2.699962e+07           16.200000   \n",
       "25%            689.400000  32089.025000     3.178017e+07           26.225000   \n",
       "50%            795.250000  34785.900000     3.375292e+07           28.200000   \n",
       "75%            809.125000  35647.300000     3.501714e+07           28.450000   \n",
       "max            936.000000  40258.400000     4.153391e+07           30.600000   \n",
       "\n",
       "       sum_call_std  sum_session_std  \n",
       "count     12.000000        12.000000  \n",
       "mean     183.416667      5793.858333  \n",
       "std       11.435736       345.347615  \n",
       "min      154.200000      5196.100000  \n",
       "25%      179.150000      5637.300000  \n",
       "50%      186.500000      5809.700000  \n",
       "75%      188.775000      5917.450000  \n",
       "max      200.600000      6444.700000  "
      ]
     },
     "execution_count": 17,
     "metadata": {},
     "output_type": "execute_result"
    }
   ],
   "source": [
    "# возьмем описательную статистику по тарифу \"Смарт\"\n",
    "df_pivot[df_pivot['tariff']=='smart'].describe()\n"
   ]
  },
  {
   "cell_type": "code",
   "execution_count": 18,
   "metadata": {},
   "outputs": [
    {
     "data": {
      "text/html": [
       "<div>\n",
       "<style scoped>\n",
       "    .dataframe tbody tr th:only-of-type {\n",
       "        vertical-align: middle;\n",
       "    }\n",
       "\n",
       "    .dataframe tbody tr th {\n",
       "        vertical-align: top;\n",
       "    }\n",
       "\n",
       "    .dataframe thead th {\n",
       "        text-align: right;\n",
       "    }\n",
       "</style>\n",
       "<table border=\"1\" class=\"dataframe\">\n",
       "  <thead>\n",
       "    <tr style=\"text-align: right;\">\n",
       "      <th></th>\n",
       "      <th>mounth</th>\n",
       "      <th>count_messages_mean</th>\n",
       "      <th>sum_call_mean</th>\n",
       "      <th>sum_session_mean</th>\n",
       "      <th>count_messages_var</th>\n",
       "      <th>sum_call_var</th>\n",
       "      <th>sum_session_var</th>\n",
       "      <th>count_messages_std</th>\n",
       "      <th>sum_call_std</th>\n",
       "      <th>sum_session_std</th>\n",
       "    </tr>\n",
       "  </thead>\n",
       "  <tbody>\n",
       "    <tr>\n",
       "      <th>count</th>\n",
       "      <td>12.000000</td>\n",
       "      <td>12.000000</td>\n",
       "      <td>12.000000</td>\n",
       "      <td>12.000000</td>\n",
       "      <td>12.00000</td>\n",
       "      <td>12.000000</td>\n",
       "      <td>1.200000e+01</td>\n",
       "      <td>12.000000</td>\n",
       "      <td>12.000000</td>\n",
       "      <td>12.000000</td>\n",
       "    </tr>\n",
       "    <tr>\n",
       "      <th>mean</th>\n",
       "      <td>6.500000</td>\n",
       "      <td>43.683333</td>\n",
       "      <td>495.575000</td>\n",
       "      <td>18192.841667</td>\n",
       "      <td>1913.97500</td>\n",
       "      <td>94925.591667</td>\n",
       "      <td>9.731315e+07</td>\n",
       "      <td>43.066667</td>\n",
       "      <td>307.250000</td>\n",
       "      <td>9813.458333</td>\n",
       "    </tr>\n",
       "    <tr>\n",
       "      <th>std</th>\n",
       "      <td>3.605551</td>\n",
       "      <td>12.250850</td>\n",
       "      <td>76.988525</td>\n",
       "      <td>2969.220810</td>\n",
       "      <td>648.30401</td>\n",
       "      <td>14537.886135</td>\n",
       "      <td>1.864332e+07</td>\n",
       "      <td>8.075815</td>\n",
       "      <td>23.856941</td>\n",
       "      <td>1049.157060</td>\n",
       "    </tr>\n",
       "    <tr>\n",
       "      <th>min</th>\n",
       "      <td>1.000000</td>\n",
       "      <td>22.000000</td>\n",
       "      <td>297.100000</td>\n",
       "      <td>11775.900000</td>\n",
       "      <td>716.80000</td>\n",
       "      <td>71653.900000</td>\n",
       "      <td>4.713299e+07</td>\n",
       "      <td>26.800000</td>\n",
       "      <td>267.700000</td>\n",
       "      <td>6865.300000</td>\n",
       "    </tr>\n",
       "    <tr>\n",
       "      <th>25%</th>\n",
       "      <td>3.750000</td>\n",
       "      <td>33.425000</td>\n",
       "      <td>474.275000</td>\n",
       "      <td>17358.725000</td>\n",
       "      <td>1570.27500</td>\n",
       "      <td>86907.325000</td>\n",
       "      <td>9.333558e+07</td>\n",
       "      <td>39.600000</td>\n",
       "      <td>294.775000</td>\n",
       "      <td>9660.475000</td>\n",
       "    </tr>\n",
       "    <tr>\n",
       "      <th>50%</th>\n",
       "      <td>6.500000</td>\n",
       "      <td>45.050000</td>\n",
       "      <td>510.550000</td>\n",
       "      <td>19283.750000</td>\n",
       "      <td>2069.60000</td>\n",
       "      <td>95446.200000</td>\n",
       "      <td>9.954163e+07</td>\n",
       "      <td>45.500000</td>\n",
       "      <td>308.950000</td>\n",
       "      <td>9976.800000</td>\n",
       "    </tr>\n",
       "    <tr>\n",
       "      <th>75%</th>\n",
       "      <td>9.250000</td>\n",
       "      <td>53.175000</td>\n",
       "      <td>542.500000</td>\n",
       "      <td>19851.425000</td>\n",
       "      <td>2398.22500</td>\n",
       "      <td>105903.750000</td>\n",
       "      <td>1.099008e+08</td>\n",
       "      <td>48.975000</td>\n",
       "      <td>325.400000</td>\n",
       "      <td>10483.375000</td>\n",
       "    </tr>\n",
       "    <tr>\n",
       "      <th>max</th>\n",
       "      <td>12.000000</td>\n",
       "      <td>60.200000</td>\n",
       "      <td>588.600000</td>\n",
       "      <td>21637.500000</td>\n",
       "      <td>2697.20000</td>\n",
       "      <td>118942.800000</td>\n",
       "      <td>1.199416e+08</td>\n",
       "      <td>51.900000</td>\n",
       "      <td>344.900000</td>\n",
       "      <td>10951.800000</td>\n",
       "    </tr>\n",
       "  </tbody>\n",
       "</table>\n",
       "</div>"
      ],
      "text/plain": [
       "          mounth  count_messages_mean  sum_call_mean  sum_session_mean  \\\n",
       "count  12.000000            12.000000      12.000000         12.000000   \n",
       "mean    6.500000            43.683333     495.575000      18192.841667   \n",
       "std     3.605551            12.250850      76.988525       2969.220810   \n",
       "min     1.000000            22.000000     297.100000      11775.900000   \n",
       "25%     3.750000            33.425000     474.275000      17358.725000   \n",
       "50%     6.500000            45.050000     510.550000      19283.750000   \n",
       "75%     9.250000            53.175000     542.500000      19851.425000   \n",
       "max    12.000000            60.200000     588.600000      21637.500000   \n",
       "\n",
       "       count_messages_var   sum_call_var  sum_session_var  count_messages_std  \\\n",
       "count            12.00000      12.000000     1.200000e+01           12.000000   \n",
       "mean           1913.97500   94925.591667     9.731315e+07           43.066667   \n",
       "std             648.30401   14537.886135     1.864332e+07            8.075815   \n",
       "min             716.80000   71653.900000     4.713299e+07           26.800000   \n",
       "25%            1570.27500   86907.325000     9.333558e+07           39.600000   \n",
       "50%            2069.60000   95446.200000     9.954163e+07           45.500000   \n",
       "75%            2398.22500  105903.750000     1.099008e+08           48.975000   \n",
       "max            2697.20000  118942.800000     1.199416e+08           51.900000   \n",
       "\n",
       "       sum_call_std  sum_session_std  \n",
       "count     12.000000        12.000000  \n",
       "mean     307.250000      9813.458333  \n",
       "std       23.856941      1049.157060  \n",
       "min      267.700000      6865.300000  \n",
       "25%      294.775000      9660.475000  \n",
       "50%      308.950000      9976.800000  \n",
       "75%      325.400000     10483.375000  \n",
       "max      344.900000     10951.800000  "
      ]
     },
     "execution_count": 18,
     "metadata": {},
     "output_type": "execute_result"
    }
   ],
   "source": [
    "# посмотрим описательную статистику по тарифу \"Ультра\"\n",
    "df_pivot[df_pivot['tariff']=='ultra'].describe()\n"
   ]
  },
  {
   "cell_type": "code",
   "execution_count": 19,
   "metadata": {
    "scrolled": false
   },
   "outputs": [
    {
     "data": {
      "image/png": "[encoded data removed]",
      "text/plain": [
       "<Figure size 1440x1080 with 9 Axes>"
      ]
     },
     "metadata": {},
     "output_type": "display_data"
    }
   ],
   "source": [
    "# отобразим данные о средних значениях звонков, отправленных смс-сообщений, мобильного трафика, а так же об дисперсии и \n",
    "# стандартных отклонениях на графиках. Построим гистограммы, диаграммы размаха и столбчатые графики и проанализируем их. \n",
    "fig, axs = plt.subplots(3,3, figsize=(20,15))\n",
    "axs = axs.ravel()\n",
    "chart_list = ['count_messages_mean', 'sum_call_mean', 'sum_session_mean', 'count_messages_var',\n",
    "              'sum_call_var','sum_session_var','count_messages_std', 'sum_call_std', 'sum_session_std']\n",
    "for idx,axes in enumerate(axs):\n",
    "    \n",
    "    sns.histplot(ax=axes, data = df_pivot, x=df_pivot[chart_list].iloc[:,idx], hue = 'tariff', alpha = 0.5, bins = 15)\n",
    "    "
   ]
  },
  {
   "cell_type": "code",
   "execution_count": 20,
   "metadata": {},
   "outputs": [
    {
     "data": {
      "image/png": "[encoded data removed]",
      "text/plain": [
       "<Figure size 1440x1080 with 9 Axes>"
      ]
     },
     "metadata": {},
     "output_type": "display_data"
    }
   ],
   "source": [
    "fig, axs = plt.subplots(3,3, figsize=(20,15))\n",
    "axs = axs.ravel()\n",
    "\n",
    "for idx,axes in enumerate(axs):\n",
    "    \n",
    "    sns.barplot(ax=axes, data=df_pivot, x = 'mounth', y=df_pivot[chart_list].iloc[:,idx], hue = 'tariff')"
   ]
  },
  {
   "cell_type": "code",
   "execution_count": 21,
   "metadata": {},
   "outputs": [
    {
     "data": {
      "image/png": "[encoded data removed]",
      "text/plain": [
       "<Figure size 1440x1080 with 9 Axes>"
      ]
     },
     "metadata": {},
     "output_type": "display_data"
    }
   ],
   "source": [
    "fig, axs = plt.subplots(3,3, figsize=(20,15))\n",
    "axs = axs.ravel()\n",
    "\n",
    "for idx,axes in enumerate(axs):\n",
    "    \n",
    "    sns.boxplot(ax=axes,data=df_pivot, x='tariff', y = df_pivot[chart_list].iloc[:,idx], hue = 'tariff')"
   ]
  },
  {
   "cell_type": "markdown",
   "metadata": {},
   "source": [
    "**Вывод:** Каждый пользователь тарифа «Смарт» в месяц отправляет 31 смс-сообщение,  совершает 387 минут разговоров и потребляет 14,7 Гб интернет трафика. Можно сделать вывод о том, что среднестатистический пользователь тарифа «Смарт» предпочитает потреблять телекома в рамках своего тарифного плана, не прибегая к дополнительным услугам. В течении года не зафиксировано превышение средних значений отправленных смс-сообщений и количества использованных минут от входящих в тарифный план. Однако обратим внимание, превышение средних объемов потребляемого трафика зафиксировано в 6 месяцах из года. \n",
    "\n",
    "В целом, если рассуждать об активности пользователей, то мы видим, что самыми  малоактивными месяцами для абонентов тарифа «Смарт» стали  январь и февраль. В данные месяцы пользователи в среднем значительно меньше тратили минут разговора, отправляли смс-сообщений и потребляли трафика по сравнению с остальными месяцами. Так же можно отметить, что в период с марта по ноябрь на тарифе «Смарт» объем потребления услуг проходит без особых всплесков и показывает нам сдержанный рост потребления услуг. А вот декабрь для абонентов «Смарт» становится самым оживленным месяцем, здесь среднестатистический пользователь максимально приближается к верхней планке включенных в тарифный план минут и ставит рекорд по объему потребленного трафика. \n",
    "\n",
    "Рассмотрим среднемесячное  потребление услуг абонентом тарифного плана «Ультра». Среднегодовое потребление услуг на тарифе «Ультра» составило 43,7 смс, 496,6 минут разговора и 18192 Мб интернет-трафика. В отличии от абонентов тарифного плана «Смарт», превышений объемов услуг, входящих в пакет тарифного плана среднестатистическим абонентом «Ультры» не зафиксировано.  Аналогично пользователям тарифа «Смарт», у абонентов «Ультры» самый активный месяц – декабрь с 60 отправленными смс сообщениями, почти 600 минут разговора и почти 21,1 Гб интернет трафика. Самый малоактивный месяц – февраль, когда пользователи выговаривают около 300 минут, отправляют чуть больше 20 смс и скачивают 11,5 ГБ интернет-трафика и по объему потребления услуг в этот месяц сравниваются с тарифом «Смарт».\n",
    "\n",
    "В целом, среднестатистический абонент «Ультры» потребляют в месяц больше смс, трафика, минут разговора по сравнению с абонентом «Смарта».\n",
    "\n",
    "Среднеквадратическое отклонение в нашем кейсе покажет нам, какой дополнительный объем выручки удавалось зарабатывать телекому на абонентах  за предоставление услуг сверх пакетов тарифных планов. В целом мы видим, что на тарифе «Ультра» абонентам присуще больший разброс в объемах потребляемых услуг, однако даже не смотря на это можно сказать что абоненты в основном укладываются в лимит данного тарифного плана. К примеру, учитывая объем предусмотренного в тарифном плане «Ультра»  30 ГБ трафика, при среднегодовом значении среднеквадратического отклонения 9,7 ГБ и средней в 17,7 ГБ, можно сказать, что пользователям в среднем хватало объемов предусмотренного  трафика и докупка абонентами пакетов с трафиком носила разовый характер. \n",
    "\n",
    "С абонентами «Смарт» все гораздо интересней. Учитывая ограниченность по включенным в пакет тарифа услуг (500 минут разговора, 50 сообщений и 15 Гб интернет-трафика), и видя среднеквадратичное отклонение по году 26.4 смс, 183.4 минут и 5793.8 мб трафика делаем вывод при среднегодовом объеме потребления 31 смс-сообщение,  387 минут разговора и потребляет 14,7 ГБ трафика, что более 50% пользователей не умещались в пакет тарифного плана и генерировали нам выручку, приобретая дополнительные минуты, смс и ГБ. Причем видя среднеквадратическое отклонение в 5,6 ГБ ежемесячно, можно сказать что такая доля выручки была для нас существенна.\n",
    "\n",
    "Так же хотелось бы отметить, что 7,6 % абонентов отказались от услуг нашего телекома за год. Чтобы быть объективными в оценки данного показателя, конечно, необходимо больше данных: какая текучка была у абонентов в предыдущие года, сколько в среднем данный показатель составляет по отрасли, что послужило мотивом абонента сменить оператора.  Но все равно, на мой взгляд текучка в 7,6% и сильный перекос (69%) в количестве абонентов на тарифе «Смарт»  может свидетельствовать о наличии определенного дисбаланса нашей абонентской базы.\n",
    "\n",
    "Итак, как поступить с полученными данными. Безусловно, поделиться ими с маркетологами =) На мой взгляд, нашему телекому не хватает промежуточного тарифного плана, включающего в себя пакет услуг с промежуточными объемами по сравнению с тарифом «Ультра». Что-то в духе включенных в тариф 75 смс, 750 минут разговора и 20 Гб интернет-трафика по цене районе 1000 рублей. Наличие такого тарифа будет положительно сказываться на средней выручки нашего телекома, так как денежный поток будет гарантированным, при этом абоненты так же будут простимулированы не ограничивать себя в объемах потребления услуг.\n",
    "Кроме того, как рекомендация «на текущий момент времени», можно предложить в декабре пользователям тарифа «Смарт» переходить в тариф «Ультра», т.к. объемы потребления услуг в этом месяц на двух тарифных планах становятся очень похожи. Ну и самому телекому на январь и февраль  можно рассмотреть возможность запуска дополнительных акций по привлечению новых абонентов, так как нагрузка на мобильного оператора в целом сильно снижается.\n"
   ]
  },
  {
   "cell_type": "markdown",
   "metadata": {},
   "source": [
    "# 4. Проверка гипотез"
   ]
  },
  {
   "cell_type": "markdown",
   "metadata": {},
   "source": [
    "Итак, сформируем гипотезы для проверки.\n",
    "\n",
    "1)\tНулевая гипотеза Н0: Средняя выручка пользователей тарифа «Ультра» и «Смарт» равны. Альтернативная гипотеза Н1: Средняя выручка пользователей тарифа «Ультра» и «Смарт» не равны между собой.\n",
    "\n",
    "2)\tНулевая гипотеза Н0:  Средняя выручка пользователей из Москвы равна средней выручки пользователей из других регионов. Альтернативная гипотеза Н1: Средняя выручка пользователей из Москвы не равна средней выручки пользователей из других регионов.\n",
    "\n",
    "Пороговое значение уровня значимости при проверки двух гипотез пример равной 5%.\n"
   ]
  },
  {
   "cell_type": "code",
   "execution_count": 22,
   "metadata": {},
   "outputs": [
    {
     "name": "stdout",
     "output_type": "stream",
     "text": [
      "p-значение:  1.927011394420941e-250\n",
      "Отвергаем нулевую гипотезу\n"
     ]
    }
   ],
   "source": [
    "# Проверка первой гипотезы:\n",
    "df_smart = df[df['tariff']=='smart']['revenue']\n",
    "df_ultra = df[df['tariff']=='ultra']['revenue']\n",
    "\n",
    "alpha = .05 # критический уровень статистической значимости\n",
    "\n",
    "results = st.ttest_ind(df_smart,df_ultra, equal_var = False)\n",
    "\n",
    "print('p-значение: ', results.pvalue)\n",
    "\n",
    "if results.pvalue < alpha:\n",
    "    print(\"Отвергаем нулевую гипотезу\")\n",
    "else:\n",
    "    print(\"Не получилось отвергнуть нулевую гипотезу\") "
   ]
  },
  {
   "cell_type": "markdown",
   "metadata": {},
   "source": [
    "Нулевая гипотеза не подтвердилась, необходимо отвергнуть Н0. Значения средней выручки и пользователей тарифа «Ультра» и «Смарт» не равны между собой."
   ]
  },
  {
   "cell_type": "code",
   "execution_count": 23,
   "metadata": {},
   "outputs": [
    {
     "name": "stdout",
     "output_type": "stream",
     "text": [
      "Среднее значение  выручки от  абонента тарифа \"Смарт\" составляет 1289.64 рублей\n",
      "Среднее значение  выручки от  абонента тарифа \"Ультра\" составляет 2070.03 рублей\n"
     ]
    }
   ],
   "source": [
    "print (f'Среднее значение  выручки от  абонента тарифа \"Смарт\" составляет { df_smart.mean():.2f} рублей')\n",
    "print (f'Среднее значение  выручки от  абонента тарифа \"Ультра\" составляет { df_ultra.mean():.2f} рублей')"
   ]
  },
  {
   "cell_type": "code",
   "execution_count": 24,
   "metadata": {},
   "outputs": [
    {
     "name": "stdout",
     "output_type": "stream",
     "text": [
      "p-значение:  0.5216952110000279\n",
      "Не получилось отвергнуть нулевую гипотезу\n"
     ]
    }
   ],
   "source": [
    "# Проверка второй гипотезы:\n",
    "\n",
    "df_msk = df[df['city']=='Москва']['revenue']\n",
    "df_other = df[df['city']!='Москва']['revenue']\n",
    "\n",
    "alpha = .05 # критический уровень статистической значимости\n",
    "\n",
    "results = st.ttest_ind(df_msk,df_other, equal_var = False)\n",
    "\n",
    "print('p-значение: ', results.pvalue)\n",
    "\n",
    "if results.pvalue < alpha:\n",
    "    print(\"Отвергаем нулевую гипотезу\")\n",
    "else:\n",
    "    print(\"Не получилось отвергнуть нулевую гипотезу\") "
   ]
  },
  {
   "cell_type": "markdown",
   "metadata": {},
   "source": [
    "Нулевая гипотеза подтвердилась, значит можно с уверенностью сказать, что средняя выручка от абонентов из регионов совпадает со средней выручки пользователей из Москвы. "
   ]
  },
  {
   "cell_type": "markdown",
   "metadata": {},
   "source": [
    "Для второй гипотезы: \n"
   ]
  },
  {
   "cell_type": "code",
   "execution_count": 25,
   "metadata": {},
   "outputs": [
    {
     "name": "stdout",
     "output_type": "stream",
     "text": [
      "Среднее значение  выручки от  абонента тарифа \"Смарт\" составляет 1546.71 рублей\n",
      "Среднее значение  выручки от  абонента тарифа \"Ультра\" составляет 1524.73 рублей\n"
     ]
    }
   ],
   "source": [
    "print (f'Среднее значение  выручки от  абонента тарифа \"Смарт\" составляет { df_msk.mean():.2f} рублей')\n",
    "print (f'Среднее значение  выручки от  абонента тарифа \"Ультра\" составляет { df_other.mean():.2f} рублей')"
   ]
  },
  {
   "cell_type": "markdown",
   "metadata": {},
   "source": [
    "# 5. Общий вывод"
   ]
  },
  {
   "cell_type": "markdown",
   "metadata": {},
   "source": [
    "В ходе анализа было выдвинуто 2 гипотезы, в результате проверок которых мы убедились, что абоненты нашего телекома в Москве и остальных городах  в среднем генерируруют выручку одинаково, при этом средняя выручка тарифных планов «Ультра» и «Смарт» отличается.\n",
    "\n",
    "Поведение абонентов «Смарт» и «Ультра» отличается. \n",
    "\n",
    "Среднестатистический абонент «Смарт» стремиться уложиться в объем пакета тарифного плана, при этом объема потребляемого трафика более половины пользователей зачастую не хватает и абоненты вынуждены докупать ГБ ежемесячно. Пользователи «Ультры» чувствовали себя более комфортно, абонентам хватает предлагаемых тарифом минут, смс и интернета. \n",
    "\n",
    "Самый активный месяц для наших абонентов – декабрь, самая низкая активность абонентов фикисруется в феврале и январе.\n",
    "\n",
    "На мой взгляд, телекому не хватает промежуточного тарифного плана, включающего в себя пакет услуг с промежуточными объемами по сравнению с тарифом «Ультра» :  75 смс, 750 минут разговора и 20 Гб интернет-трафика .\n",
    "\n",
    "Кроме того, можно рассмотреть вопрос проведения  в декабре пользователям тарифа «Смарт» переходить в тариф «Ультра», т.к. объемы потребления услуг в этом месяц на двух тарифных планах становятся очень похожи. Ну и самому телекому на январь и февраль  можно рассмотреть возможность запуска дополнительных акций по привлечению новых абонентов, так как нагрузка на мобильного оператора в целом сильно снижается.\n"
   ]
  },
  {
   "cell_type": "markdown",
   "metadata": {},
   "source": [
    "_**Общий вывод ver 2.0:**_\n",
    "\n",
    "Каждый пользователь тарифа _**«Смарт»**_ в месяц отправляет **31 смс-сообщение, совершает 387 минут разговоров и потребляет 14,7 Гб интернет трафика.** Можно сделать вывод о том, что среднестатистический пользователь тарифа «Смарт» предпочитает потреблять телекома в рамках своего тарифного плана, не прибегая к дополнительным услугам. В течении года не зафиксировано превышение средних значений отправленных смс-сообщений и количества использованных минут от входящих в тарифный план. _Однако, превышение средних объемов потребляемого трафика зафиксировано в 6 месяцах из года._\n",
    "\n",
    "Cамыми *малоактивными месяцами* для абонентов тарифа «Смарт» стали *январь и февраль.* А вот *декабрь* для абонентов «Смарт» становится *самым оживленным месяцем*, здесь среднестатистический пользователь максимально приближается к верхней планке включенных в тарифный план минут и ставит рекорд по объему потребленного трафика.\n",
    "\n",
    "Среднегодовое потребление услуг на тарифе _**«Ультра»**_ составило **43,7 смс, 496,6 минут разговора и 18192 Мб интернет-трафика.** В отличии от абонентов тарифного плана «Смарт», превышений объемов услуг, входящих в пакет тарифного плана среднестатистическим абонентом «Ультры» не зафиксировано. \n",
    "\n",
    "Аналогично пользователям тарифа «Смарт», у абонентов *«Ультры»* самый *активный* месяц – *декабрь* с 60 отправленными смс сообщениями, почти 600 минут разговора и почти 21,1 Гб интернет трафика. *Самый малоактивный месяц – февраль*, когда пользователи выговаривают около 300 минут, отправляют чуть больше 20 смс и скачивают 11,5 ГБ интернет-трафика и по объему потребления услуг в этот месяц сравниваются с тарифом «Смарт».\n",
    "\n",
    "**В целом, среднестатистический абонент «Ультры» потребляют в месяц больше смс, трафика, минут разговора по сравнению с абонентом «Смарта».**\n",
    "\n",
    "Анализ описательной статистики показал, что пользователям *\"Ультры\" в среднем хватало объемов предусмотренного трафика и докупка абонентами пакетов с трафиком носила разовый характер.*\n",
    "\n",
    "Описательная статистика активности абонентов *«Смарт»* показала, что наиболее часто абоненты *приобретают сверх пакета дополнительный интернет-трафик, причем выручка от поставки данных услуг для нас была существенной.* \n",
    "\n",
    "Так же в ходе анализа были выдвинуты 2 статистические гипотезы:\n",
    "\n",
    "1) О равенстве средней выручки пользователей тарифа «Ультра» и «Смарт», которая не подтвердилась равны. средняя выручка от абонентов из регионов совпадает со средней выручки пользователей из Москвы.\n",
    "\n",
    "2)  О равестве средней выручки пользователей из Москвы и средней выручки пользователей из других регионов. Данная гипотеза полностью подтвердилась, средние значения выручки очень схожи. \n",
    "\n",
    "\n",
    "Хотелось бы отметить, что **7,6 %** абонентов отказались от услуг нашего телекома за год. Чтобы быть объективными в оценки данного показателя, конечно, необходимо больше данных: какая текучка была у абонентов в предыдущие года, сколько в среднем данный показатель составляет по отрасли, что послужило мотивом абонента сменить оператора. \n",
    "На мой взгляд, текучка в **7,6%** и сильный перекос (**69%**) в количестве абонентов на тарифе **«Смарт»** может **свидетельствовать о наличии определенного дисбаланса нашей абонентской базы.**\n",
    "\n",
    "На мой взгляд, нашему телекому **не хватает промежуточного тарифного плана**, включающего в себя пакет услуг с промежуточными объемами по сравнению с тарифом «Ультра». Что-то в духе включенных в тариф *75 смс, 750 минут разговора и 20 Гб интернет-трафика по цене районе 1000 рублей.*\n",
    "\n",
    "Кроме того, как рекомендация «на текущий момент времени», можно предложить в декабре пользователям тарифа «Смарт» переходить в тариф «Ультра», т.к. объемы потребления услуг в этом месяц на двух тарифных планах становятся очень похожи. Ну и самому телекому на январь и февраль можно рассмотреть возможность запуска дополнительных акций по привлечению новых абонентов, так как нагрузка на мобильного оператора в целом сильно снижается.\n"
   ]
  }
 ],
 "metadata": {
  "ExecuteTimeLog": [
   {
    "duration": 1660,
    "start_time": "2022-03-25T18:32:43.268Z"
   },
   {
    "duration": 1470,
    "start_time": "2022-03-25T18:34:37.375Z"
   },
   {
    "duration": 805,
    "start_time": "2022-03-25T18:34:48.781Z"
   },
   {
    "duration": 215,
    "start_time": "2022-03-25T18:35:01.767Z"
   },
   {
    "duration": 121,
    "start_time": "2022-03-25T18:35:30.523Z"
   },
   {
    "duration": 104,
    "start_time": "2022-03-25T18:36:28.265Z"
   },
   {
    "duration": 38,
    "start_time": "2022-03-25T18:36:48.804Z"
   },
   {
    "duration": 25,
    "start_time": "2022-03-25T18:37:24.756Z"
   },
   {
    "duration": 56,
    "start_time": "2022-03-25T18:37:41.571Z"
   },
   {
    "duration": 40,
    "start_time": "2022-03-25T18:38:15.130Z"
   },
   {
    "duration": 40,
    "start_time": "2022-03-25T18:38:40.321Z"
   },
   {
    "duration": 188,
    "start_time": "2022-03-25T18:40:07.652Z"
   },
   {
    "duration": 100,
    "start_time": "2022-03-25T18:40:38.493Z"
   },
   {
    "duration": 22,
    "start_time": "2022-03-25T18:41:05.498Z"
   },
   {
    "duration": 38,
    "start_time": "2022-03-25T18:42:58.238Z"
   },
   {
    "duration": 45,
    "start_time": "2022-03-26T16:29:14.572Z"
   },
   {
    "duration": 1785,
    "start_time": "2022-03-26T16:29:25.222Z"
   },
   {
    "duration": 449,
    "start_time": "2022-03-26T16:29:27.010Z"
   },
   {
    "duration": 171,
    "start_time": "2022-03-26T16:29:27.461Z"
   },
   {
    "duration": 103,
    "start_time": "2022-03-26T16:29:27.634Z"
   },
   {
    "duration": 89,
    "start_time": "2022-03-26T16:29:27.740Z"
   },
   {
    "duration": 45,
    "start_time": "2022-03-26T16:29:27.831Z"
   },
   {
    "duration": 22,
    "start_time": "2022-03-26T16:29:27.878Z"
   },
   {
    "duration": 82,
    "start_time": "2022-03-26T16:29:27.902Z"
   },
   {
    "duration": 36,
    "start_time": "2022-03-26T16:29:27.985Z"
   },
   {
    "duration": 50,
    "start_time": "2022-03-26T16:29:28.023Z"
   },
   {
    "duration": 145,
    "start_time": "2022-03-26T16:29:28.075Z"
   },
   {
    "duration": 99,
    "start_time": "2022-03-26T16:29:28.221Z"
   },
   {
    "duration": 18,
    "start_time": "2022-03-26T16:29:28.322Z"
   },
   {
    "duration": 64,
    "start_time": "2022-03-26T16:29:28.343Z"
   },
   {
    "duration": 34,
    "start_time": "2022-03-26T16:29:28.409Z"
   },
   {
    "duration": 144,
    "start_time": "2022-03-26T16:31:51.760Z"
   },
   {
    "duration": 10,
    "start_time": "2022-03-26T16:38:49.559Z"
   },
   {
    "duration": 15,
    "start_time": "2022-03-26T16:40:16.035Z"
   },
   {
    "duration": 132,
    "start_time": "2022-03-26T16:43:45.126Z"
   },
   {
    "duration": 545,
    "start_time": "2022-03-26T16:43:58.890Z"
   },
   {
    "duration": 31,
    "start_time": "2022-03-26T16:45:03.967Z"
   },
   {
    "duration": 29,
    "start_time": "2022-03-26T16:45:12.139Z"
   },
   {
    "duration": 625,
    "start_time": "2022-03-26T16:45:23.368Z"
   },
   {
    "duration": 122,
    "start_time": "2022-03-26T16:45:32.442Z"
   },
   {
    "duration": 130,
    "start_time": "2022-03-26T16:45:43.683Z"
   },
   {
    "duration": 30,
    "start_time": "2022-03-26T16:46:36.357Z"
   },
   {
    "duration": 34,
    "start_time": "2022-03-26T16:47:19.226Z"
   },
   {
    "duration": 30,
    "start_time": "2022-03-26T16:47:39.473Z"
   },
   {
    "duration": 153,
    "start_time": "2022-03-26T16:49:06.735Z"
   },
   {
    "duration": 30,
    "start_time": "2022-03-26T16:49:25.996Z"
   },
   {
    "duration": 136,
    "start_time": "2022-03-26T16:49:52.857Z"
   },
   {
    "duration": 12,
    "start_time": "2022-03-26T16:50:32.023Z"
   },
   {
    "duration": 10,
    "start_time": "2022-03-26T16:50:58.726Z"
   },
   {
    "duration": 149,
    "start_time": "2022-03-26T16:51:10.939Z"
   },
   {
    "duration": 131,
    "start_time": "2022-03-26T16:51:26.272Z"
   },
   {
    "duration": 5,
    "start_time": "2022-03-26T16:53:05.657Z"
   },
   {
    "duration": 131,
    "start_time": "2022-03-26T16:53:52.711Z"
   },
   {
    "duration": 2330,
    "start_time": "2022-03-26T16:55:40.475Z"
   },
   {
    "duration": 135,
    "start_time": "2022-03-26T16:56:07.265Z"
   },
   {
    "duration": 135,
    "start_time": "2022-03-26T16:57:47.237Z"
   },
   {
    "duration": 2156,
    "start_time": "2022-03-26T16:58:34.999Z"
   },
   {
    "duration": 138,
    "start_time": "2022-03-26T16:58:57.587Z"
   },
   {
    "duration": 2224,
    "start_time": "2022-03-26T16:59:48.279Z"
   },
   {
    "duration": 2302,
    "start_time": "2022-03-26T17:00:20.428Z"
   },
   {
    "duration": 137,
    "start_time": "2022-03-26T17:00:42.256Z"
   },
   {
    "duration": 143,
    "start_time": "2022-03-26T17:01:30.081Z"
   },
   {
    "duration": 155,
    "start_time": "2022-03-26T17:02:31.418Z"
   },
   {
    "duration": 143,
    "start_time": "2022-03-26T17:02:57.586Z"
   },
   {
    "duration": 33,
    "start_time": "2022-03-26T17:03:27.218Z"
   },
   {
    "duration": 138,
    "start_time": "2022-03-26T17:08:24.488Z"
   },
   {
    "duration": 134,
    "start_time": "2022-03-26T17:08:43.495Z"
   },
   {
    "duration": 2099,
    "start_time": "2022-03-26T17:09:07.262Z"
   },
   {
    "duration": 142,
    "start_time": "2022-03-26T17:09:27.902Z"
   },
   {
    "duration": 132,
    "start_time": "2022-03-26T17:11:18.235Z"
   },
   {
    "duration": 130,
    "start_time": "2022-03-26T17:11:44.819Z"
   },
   {
    "duration": 27,
    "start_time": "2022-03-26T17:12:52.491Z"
   },
   {
    "duration": 30,
    "start_time": "2022-03-26T18:35:17.971Z"
   },
   {
    "duration": 31,
    "start_time": "2022-03-26T18:35:42.918Z"
   },
   {
    "duration": 9,
    "start_time": "2022-03-26T18:38:00.333Z"
   },
   {
    "duration": 17,
    "start_time": "2022-03-26T18:38:39.352Z"
   },
   {
    "duration": 17,
    "start_time": "2022-03-26T18:39:53.918Z"
   },
   {
    "duration": 33,
    "start_time": "2022-03-26T18:40:07.770Z"
   },
   {
    "duration": 28,
    "start_time": "2022-03-26T18:45:42.310Z"
   },
   {
    "duration": 32,
    "start_time": "2022-03-26T18:46:47.119Z"
   },
   {
    "duration": 44,
    "start_time": "2022-03-26T18:47:31.768Z"
   },
   {
    "duration": 43,
    "start_time": "2022-03-26T18:49:58.743Z"
   },
   {
    "duration": 40,
    "start_time": "2022-03-26T19:02:21.330Z"
   },
   {
    "duration": 108,
    "start_time": "2022-03-26T19:02:53.557Z"
   },
   {
    "duration": 198,
    "start_time": "2022-03-26T19:06:33.718Z"
   },
   {
    "duration": 106,
    "start_time": "2022-03-26T19:09:35.739Z"
   },
   {
    "duration": 111,
    "start_time": "2022-03-26T19:11:00.789Z"
   },
   {
    "duration": 332,
    "start_time": "2022-03-26T19:16:14.557Z"
   },
   {
    "duration": 325,
    "start_time": "2022-03-26T19:17:54.510Z"
   },
   {
    "duration": 144,
    "start_time": "2022-03-26T19:18:55.599Z"
   },
   {
    "duration": 120,
    "start_time": "2022-03-26T19:19:02.855Z"
   },
   {
    "duration": 117,
    "start_time": "2022-03-26T19:19:44.151Z"
   },
   {
    "duration": 110,
    "start_time": "2022-03-26T19:19:57.057Z"
   },
   {
    "duration": 195,
    "start_time": "2022-03-26T19:20:05.981Z"
   },
   {
    "duration": 12,
    "start_time": "2022-03-26T19:20:42.788Z"
   },
   {
    "duration": 302,
    "start_time": "2022-03-26T19:20:49.497Z"
   },
   {
    "duration": 262,
    "start_time": "2022-03-26T19:23:06.922Z"
   },
   {
    "duration": 207,
    "start_time": "2022-03-26T19:23:20.939Z"
   },
   {
    "duration": 49,
    "start_time": "2022-03-26T19:26:24.525Z"
   },
   {
    "duration": 42,
    "start_time": "2022-03-26T19:26:41.010Z"
   },
   {
    "duration": 44,
    "start_time": "2022-03-26T19:26:48.985Z"
   },
   {
    "duration": 194,
    "start_time": "2022-03-26T19:30:11.738Z"
   },
   {
    "duration": 754,
    "start_time": "2022-03-26T19:33:00.756Z"
   },
   {
    "duration": 41,
    "start_time": "2022-03-26T19:33:40.589Z"
   },
   {
    "duration": 648,
    "start_time": "2022-03-26T19:34:17.212Z"
   },
   {
    "duration": 52,
    "start_time": "2022-03-26T19:35:06.186Z"
   },
   {
    "duration": 70,
    "start_time": "2022-03-27T05:30:32.235Z"
   },
   {
    "duration": 1719,
    "start_time": "2022-03-27T05:30:40.822Z"
   },
   {
    "duration": 465,
    "start_time": "2022-03-27T05:30:42.543Z"
   },
   {
    "duration": 238,
    "start_time": "2022-03-27T05:30:43.010Z"
   },
   {
    "duration": 158,
    "start_time": "2022-03-27T05:30:43.251Z"
   },
   {
    "duration": 129,
    "start_time": "2022-03-27T05:30:43.413Z"
   },
   {
    "duration": 58,
    "start_time": "2022-03-27T05:30:43.544Z"
   },
   {
    "duration": 30,
    "start_time": "2022-03-27T05:30:43.604Z"
   },
   {
    "duration": 109,
    "start_time": "2022-03-27T05:30:43.636Z"
   },
   {
    "duration": 68,
    "start_time": "2022-03-27T05:30:43.747Z"
   },
   {
    "duration": 42,
    "start_time": "2022-03-27T05:30:43.817Z"
   },
   {
    "duration": 269,
    "start_time": "2022-03-27T05:30:43.861Z"
   },
   {
    "duration": 174,
    "start_time": "2022-03-27T05:30:44.132Z"
   },
   {
    "duration": 28,
    "start_time": "2022-03-27T05:30:44.308Z"
   },
   {
    "duration": 74,
    "start_time": "2022-03-27T05:30:44.340Z"
   },
   {
    "duration": 37,
    "start_time": "2022-03-27T05:30:44.416Z"
   },
   {
    "duration": 74,
    "start_time": "2022-03-27T05:30:44.474Z"
   },
   {
    "duration": 229,
    "start_time": "2022-03-27T05:30:44.551Z"
   },
   {
    "duration": 323,
    "start_time": "2022-03-27T05:30:44.783Z"
   },
   {
    "duration": 285,
    "start_time": "2022-03-27T05:31:02.380Z"
   },
   {
    "duration": 296,
    "start_time": "2022-03-27T05:31:31.399Z"
   },
   {
    "duration": 287,
    "start_time": "2022-03-27T05:31:52.020Z"
   },
   {
    "duration": 278,
    "start_time": "2022-03-27T05:32:03.597Z"
   },
   {
    "duration": 269,
    "start_time": "2022-03-27T05:32:23.752Z"
   },
   {
    "duration": 277,
    "start_time": "2022-03-27T05:32:57.599Z"
   },
   {
    "duration": 306,
    "start_time": "2022-03-27T05:39:39.473Z"
   },
   {
    "duration": 286,
    "start_time": "2022-03-27T05:40:04.268Z"
   },
   {
    "duration": 428,
    "start_time": "2022-03-27T05:40:42.497Z"
   },
   {
    "duration": 303,
    "start_time": "2022-03-27T05:40:55.941Z"
   },
   {
    "duration": 261,
    "start_time": "2022-03-27T05:41:08.628Z"
   },
   {
    "duration": 149,
    "start_time": "2022-03-27T05:41:31.281Z"
   },
   {
    "duration": 81,
    "start_time": "2022-03-27T05:47:29.359Z"
   },
   {
    "duration": 227,
    "start_time": "2022-03-27T05:47:35.547Z"
   },
   {
    "duration": 741,
    "start_time": "2022-03-27T05:48:14.022Z"
   },
   {
    "duration": 331,
    "start_time": "2022-03-27T06:15:44.008Z"
   },
   {
    "duration": 297,
    "start_time": "2022-03-27T06:15:53.971Z"
   },
   {
    "duration": 508,
    "start_time": "2022-03-27T06:19:24.503Z"
   },
   {
    "duration": 682,
    "start_time": "2022-03-27T06:21:04.236Z"
   },
   {
    "duration": 418,
    "start_time": "2022-03-27T06:21:26.873Z"
   },
   {
    "duration": 390,
    "start_time": "2022-03-27T06:22:17.863Z"
   },
   {
    "duration": 328,
    "start_time": "2022-03-27T06:22:39.769Z"
   },
   {
    "duration": 328,
    "start_time": "2022-03-27T06:22:52.454Z"
   },
   {
    "duration": 460,
    "start_time": "2022-03-27T06:23:02.150Z"
   },
   {
    "duration": 380,
    "start_time": "2022-03-27T06:23:10.332Z"
   },
   {
    "duration": 359,
    "start_time": "2022-03-27T06:23:48.332Z"
   },
   {
    "duration": 71,
    "start_time": "2022-03-27T06:24:55.330Z"
   },
   {
    "duration": 101,
    "start_time": "2022-03-27T06:25:12.764Z"
   },
   {
    "duration": 236,
    "start_time": "2022-03-27T06:26:21.126Z"
   },
   {
    "duration": 234,
    "start_time": "2022-03-27T06:26:39.750Z"
   },
   {
    "duration": 348,
    "start_time": "2022-03-27T06:27:53.789Z"
   },
   {
    "duration": 254,
    "start_time": "2022-03-27T06:28:29.648Z"
   },
   {
    "duration": 389,
    "start_time": "2022-03-27T06:29:52.241Z"
   },
   {
    "duration": 218,
    "start_time": "2022-03-27T06:31:14.761Z"
   },
   {
    "duration": 89,
    "start_time": "2022-03-27T06:34:06.989Z"
   },
   {
    "duration": 237,
    "start_time": "2022-03-27T06:34:19.442Z"
   },
   {
    "duration": 376,
    "start_time": "2022-03-27T06:34:46.990Z"
   },
   {
    "duration": 372,
    "start_time": "2022-03-27T06:35:21.916Z"
   },
   {
    "duration": 529,
    "start_time": "2022-03-27T06:35:38.066Z"
   },
   {
    "duration": 412,
    "start_time": "2022-03-27T06:45:28.956Z"
   },
   {
    "duration": 332,
    "start_time": "2022-03-27T06:46:00.481Z"
   },
   {
    "duration": 376,
    "start_time": "2022-03-27T06:46:26.285Z"
   },
   {
    "duration": 106,
    "start_time": "2022-03-27T06:49:09.579Z"
   },
   {
    "duration": 1088,
    "start_time": "2022-03-27T06:49:16.602Z"
   },
   {
    "duration": 407,
    "start_time": "2022-03-27T06:56:15.582Z"
   },
   {
    "duration": 481,
    "start_time": "2022-03-27T06:57:09.440Z"
   },
   {
    "duration": 429,
    "start_time": "2022-03-27T06:59:42.863Z"
   },
   {
    "duration": 452,
    "start_time": "2022-03-27T07:01:14.538Z"
   },
   {
    "duration": 467,
    "start_time": "2022-03-27T07:02:23.923Z"
   },
   {
    "duration": 417,
    "start_time": "2022-03-27T07:03:08.339Z"
   },
   {
    "duration": 1543,
    "start_time": "2022-03-27T07:10:09.067Z"
   },
   {
    "duration": 3367,
    "start_time": "2022-03-27T07:10:55.333Z"
   },
   {
    "duration": 45,
    "start_time": "2022-03-27T14:45:35.624Z"
   },
   {
    "duration": 1284,
    "start_time": "2022-03-27T14:46:19.847Z"
   },
   {
    "duration": 370,
    "start_time": "2022-03-27T14:46:21.133Z"
   },
   {
    "duration": 188,
    "start_time": "2022-03-27T14:46:21.505Z"
   },
   {
    "duration": 114,
    "start_time": "2022-03-27T14:46:21.695Z"
   },
   {
    "duration": 82,
    "start_time": "2022-03-27T14:46:21.812Z"
   },
   {
    "duration": 29,
    "start_time": "2022-03-27T14:46:21.908Z"
   },
   {
    "duration": 19,
    "start_time": "2022-03-27T14:46:21.939Z"
   },
   {
    "duration": 83,
    "start_time": "2022-03-27T14:46:21.960Z"
   },
   {
    "duration": 34,
    "start_time": "2022-03-27T14:46:22.044Z"
   },
   {
    "duration": 50,
    "start_time": "2022-03-27T14:46:22.080Z"
   },
   {
    "duration": 164,
    "start_time": "2022-03-27T14:46:22.132Z"
   },
   {
    "duration": 92,
    "start_time": "2022-03-27T14:46:22.308Z"
   },
   {
    "duration": 23,
    "start_time": "2022-03-27T14:46:22.401Z"
   },
   {
    "duration": 37,
    "start_time": "2022-03-27T14:46:22.427Z"
   },
   {
    "duration": 47,
    "start_time": "2022-03-27T14:46:22.466Z"
   },
   {
    "duration": 62,
    "start_time": "2022-03-27T14:46:22.515Z"
   },
   {
    "duration": 245,
    "start_time": "2022-03-27T14:46:22.579Z"
   },
   {
    "duration": 169,
    "start_time": "2022-03-27T14:46:22.826Z"
   },
   {
    "duration": 292,
    "start_time": "2022-03-27T14:46:22.997Z"
   },
   {
    "duration": 254,
    "start_time": "2022-03-27T14:46:23.291Z"
   },
   {
    "duration": 1700,
    "start_time": "2022-03-27T14:46:23.546Z"
   },
   {
    "duration": 1881,
    "start_time": "2022-03-27T14:46:59.009Z"
   },
   {
    "duration": 1617,
    "start_time": "2022-03-27T14:47:16.361Z"
   },
   {
    "duration": 1990,
    "start_time": "2022-03-27T14:47:28.918Z"
   },
   {
    "duration": 2204,
    "start_time": "2022-03-27T14:47:38.613Z"
   },
   {
    "duration": 67,
    "start_time": "2022-03-27T14:52:14.916Z"
   },
   {
    "duration": 2081,
    "start_time": "2022-03-27T14:52:20.196Z"
   },
   {
    "duration": 2668,
    "start_time": "2022-03-27T14:53:10.994Z"
   },
   {
    "duration": 1519,
    "start_time": "2022-03-27T14:55:29.083Z"
   },
   {
    "duration": 1422,
    "start_time": "2022-03-27T14:56:11.507Z"
   },
   {
    "duration": 58,
    "start_time": "2022-03-27T18:37:29.677Z"
   },
   {
    "duration": 1245,
    "start_time": "2022-03-27T18:37:39.247Z"
   },
   {
    "duration": 367,
    "start_time": "2022-03-27T18:37:40.494Z"
   },
   {
    "duration": 166,
    "start_time": "2022-03-27T18:37:40.863Z"
   },
   {
    "duration": 109,
    "start_time": "2022-03-27T18:37:41.030Z"
   },
   {
    "duration": 93,
    "start_time": "2022-03-27T18:37:41.142Z"
   },
   {
    "duration": 29,
    "start_time": "2022-03-27T18:37:41.237Z"
   },
   {
    "duration": 46,
    "start_time": "2022-03-27T18:37:41.268Z"
   },
   {
    "duration": 60,
    "start_time": "2022-03-27T18:37:41.315Z"
   },
   {
    "duration": 52,
    "start_time": "2022-03-27T18:37:41.376Z"
   },
   {
    "duration": 31,
    "start_time": "2022-03-27T18:37:41.430Z"
   },
   {
    "duration": 179,
    "start_time": "2022-03-27T18:37:41.463Z"
   },
   {
    "duration": 104,
    "start_time": "2022-03-27T18:37:41.644Z"
   },
   {
    "duration": 16,
    "start_time": "2022-03-27T18:37:41.750Z"
   },
   {
    "duration": 49,
    "start_time": "2022-03-27T18:37:41.769Z"
   },
   {
    "duration": 20,
    "start_time": "2022-03-27T18:37:41.820Z"
   },
   {
    "duration": 72,
    "start_time": "2022-03-27T18:37:41.842Z"
   },
   {
    "duration": 221,
    "start_time": "2022-03-27T18:37:41.915Z"
   },
   {
    "duration": 0,
    "start_time": "2022-03-27T18:37:42.138Z"
   },
   {
    "duration": 0,
    "start_time": "2022-03-27T18:37:42.139Z"
   },
   {
    "duration": 1,
    "start_time": "2022-03-27T18:37:42.139Z"
   },
   {
    "duration": 0,
    "start_time": "2022-03-27T18:37:42.141Z"
   },
   {
    "duration": 0,
    "start_time": "2022-03-27T18:37:42.142Z"
   },
   {
    "duration": 0,
    "start_time": "2022-03-27T18:37:42.143Z"
   },
   {
    "duration": 68,
    "start_time": "2022-03-27T18:38:58.802Z"
   },
   {
    "duration": 1164,
    "start_time": "2022-03-27T18:41:16.034Z"
   },
   {
    "duration": 397,
    "start_time": "2022-03-27T18:41:17.200Z"
   },
   {
    "duration": 197,
    "start_time": "2022-03-27T18:41:17.599Z"
   },
   {
    "duration": 115,
    "start_time": "2022-03-27T18:41:17.797Z"
   },
   {
    "duration": 98,
    "start_time": "2022-03-27T18:41:17.914Z"
   },
   {
    "duration": 31,
    "start_time": "2022-03-27T18:41:18.013Z"
   },
   {
    "duration": 21,
    "start_time": "2022-03-27T18:41:18.046Z"
   },
   {
    "duration": 92,
    "start_time": "2022-03-27T18:41:18.069Z"
   },
   {
    "duration": 51,
    "start_time": "2022-03-27T18:41:18.163Z"
   },
   {
    "duration": 30,
    "start_time": "2022-03-27T18:41:18.215Z"
   },
   {
    "duration": 179,
    "start_time": "2022-03-27T18:41:18.247Z"
   },
   {
    "duration": 112,
    "start_time": "2022-03-27T18:41:18.428Z"
   },
   {
    "duration": 18,
    "start_time": "2022-03-27T18:41:18.541Z"
   },
   {
    "duration": 59,
    "start_time": "2022-03-27T18:41:18.562Z"
   },
   {
    "duration": 24,
    "start_time": "2022-03-27T18:41:18.622Z"
   },
   {
    "duration": 88,
    "start_time": "2022-03-27T18:41:18.647Z"
   },
   {
    "duration": 260,
    "start_time": "2022-03-27T18:41:18.736Z"
   },
   {
    "duration": 179,
    "start_time": "2022-03-27T18:41:18.997Z"
   },
   {
    "duration": 321,
    "start_time": "2022-03-27T18:41:19.177Z"
   },
   {
    "duration": 296,
    "start_time": "2022-03-27T18:41:19.500Z"
   },
   {
    "duration": 2311,
    "start_time": "2022-03-27T18:41:19.798Z"
   },
   {
    "duration": 2654,
    "start_time": "2022-03-27T18:41:22.112Z"
   },
   {
    "duration": 1034,
    "start_time": "2022-03-27T18:41:24.768Z"
   },
   {
    "duration": 1604,
    "start_time": "2022-03-27T18:44:18.022Z"
   },
   {
    "duration": 1120,
    "start_time": "2022-03-27T18:44:28.306Z"
   },
   {
    "duration": 365,
    "start_time": "2022-03-27T18:44:29.427Z"
   },
   {
    "duration": 178,
    "start_time": "2022-03-27T18:44:29.794Z"
   },
   {
    "duration": 108,
    "start_time": "2022-03-27T18:44:29.973Z"
   },
   {
    "duration": 91,
    "start_time": "2022-03-27T18:44:30.083Z"
   },
   {
    "duration": 39,
    "start_time": "2022-03-27T18:44:30.176Z"
   },
   {
    "duration": 20,
    "start_time": "2022-03-27T18:44:30.217Z"
   },
   {
    "duration": 76,
    "start_time": "2022-03-27T18:44:30.238Z"
   },
   {
    "duration": 33,
    "start_time": "2022-03-27T18:44:30.316Z"
   },
   {
    "duration": 28,
    "start_time": "2022-03-27T18:44:30.351Z"
   },
   {
    "duration": 182,
    "start_time": "2022-03-27T18:44:30.381Z"
   },
   {
    "duration": 106,
    "start_time": "2022-03-27T18:44:30.565Z"
   },
   {
    "duration": 17,
    "start_time": "2022-03-27T18:44:30.672Z"
   },
   {
    "duration": 48,
    "start_time": "2022-03-27T18:44:30.692Z"
   },
   {
    "duration": 21,
    "start_time": "2022-03-27T18:44:30.741Z"
   },
   {
    "duration": 77,
    "start_time": "2022-03-27T18:44:30.764Z"
   },
   {
    "duration": 238,
    "start_time": "2022-03-27T18:44:30.843Z"
   },
   {
    "duration": 164,
    "start_time": "2022-03-27T18:44:31.083Z"
   },
   {
    "duration": 279,
    "start_time": "2022-03-27T18:44:31.249Z"
   },
   {
    "duration": 269,
    "start_time": "2022-03-27T18:44:31.530Z"
   },
   {
    "duration": 2152,
    "start_time": "2022-03-27T18:44:31.801Z"
   },
   {
    "duration": 2649,
    "start_time": "2022-03-27T18:44:33.954Z"
   },
   {
    "duration": 1385,
    "start_time": "2022-03-27T18:44:36.605Z"
   },
   {
    "duration": 2129,
    "start_time": "2022-03-27T19:01:49.416Z"
   },
   {
    "duration": 8,
    "start_time": "2022-03-27T19:02:06.595Z"
   },
   {
    "duration": 8,
    "start_time": "2022-03-27T19:02:22.710Z"
   },
   {
    "duration": 9,
    "start_time": "2022-03-27T19:02:53.238Z"
   },
   {
    "duration": 984,
    "start_time": "2022-03-27T19:03:05.772Z"
   },
   {
    "duration": 1083,
    "start_time": "2022-03-27T19:03:44.827Z"
   },
   {
    "duration": 8,
    "start_time": "2022-03-27T19:04:26.598Z"
   },
   {
    "duration": 9,
    "start_time": "2022-03-27T19:21:16.013Z"
   },
   {
    "duration": 1121,
    "start_time": "2022-03-27T19:21:26.042Z"
   },
   {
    "duration": 402,
    "start_time": "2022-03-27T19:21:27.165Z"
   },
   {
    "duration": 203,
    "start_time": "2022-03-27T19:21:27.569Z"
   },
   {
    "duration": 124,
    "start_time": "2022-03-27T19:21:27.773Z"
   },
   {
    "duration": 92,
    "start_time": "2022-03-27T19:21:27.899Z"
   },
   {
    "duration": 39,
    "start_time": "2022-03-27T19:21:27.995Z"
   },
   {
    "duration": 22,
    "start_time": "2022-03-27T19:21:28.036Z"
   },
   {
    "duration": 90,
    "start_time": "2022-03-27T19:21:28.060Z"
   },
   {
    "duration": 37,
    "start_time": "2022-03-27T19:21:28.152Z"
   },
   {
    "duration": 48,
    "start_time": "2022-03-27T19:21:28.191Z"
   },
   {
    "duration": 182,
    "start_time": "2022-03-27T19:21:28.241Z"
   },
   {
    "duration": 107,
    "start_time": "2022-03-27T19:21:28.425Z"
   },
   {
    "duration": 20,
    "start_time": "2022-03-27T19:21:28.534Z"
   },
   {
    "duration": 62,
    "start_time": "2022-03-27T19:21:28.557Z"
   },
   {
    "duration": 25,
    "start_time": "2022-03-27T19:21:28.620Z"
   },
   {
    "duration": 83,
    "start_time": "2022-03-27T19:21:28.647Z"
   },
   {
    "duration": 254,
    "start_time": "2022-03-27T19:21:28.732Z"
   },
   {
    "duration": 166,
    "start_time": "2022-03-27T19:21:28.987Z"
   },
   {
    "duration": 301,
    "start_time": "2022-03-27T19:21:29.154Z"
   },
   {
    "duration": 275,
    "start_time": "2022-03-27T19:21:29.457Z"
   },
   {
    "duration": 2355,
    "start_time": "2022-03-27T19:21:29.734Z"
   },
   {
    "duration": 2832,
    "start_time": "2022-03-27T19:21:32.091Z"
   },
   {
    "duration": 1436,
    "start_time": "2022-03-27T19:21:34.925Z"
   },
   {
    "duration": 6,
    "start_time": "2022-03-27T19:21:36.363Z"
   },
   {
    "duration": 121,
    "start_time": "2022-03-27T19:21:36.370Z"
   },
   {
    "duration": 5,
    "start_time": "2022-03-27T19:27:34.578Z"
   },
   {
    "duration": 11,
    "start_time": "2022-03-27T19:30:10.789Z"
   },
   {
    "duration": 9,
    "start_time": "2022-03-27T19:30:34.193Z"
   },
   {
    "duration": 1404,
    "start_time": "2022-03-28T18:43:12.178Z"
   },
   {
    "duration": 10,
    "start_time": "2022-03-28T18:43:13.708Z"
   },
   {
    "duration": 5,
    "start_time": "2022-03-28T18:44:18.318Z"
   },
   {
    "duration": 419,
    "start_time": "2022-03-28T18:44:22.921Z"
   },
   {
    "duration": 188,
    "start_time": "2022-03-28T18:44:23.902Z"
   },
   {
    "duration": 159,
    "start_time": "2022-03-28T18:44:24.860Z"
   },
   {
    "duration": 87,
    "start_time": "2022-03-28T18:44:25.695Z"
   },
   {
    "duration": 27,
    "start_time": "2022-03-28T18:44:26.550Z"
   },
   {
    "duration": 21,
    "start_time": "2022-03-28T18:44:27.928Z"
   },
   {
    "duration": 60,
    "start_time": "2022-03-28T18:44:28.603Z"
   },
   {
    "duration": 34,
    "start_time": "2022-03-28T18:44:29.333Z"
   },
   {
    "duration": 30,
    "start_time": "2022-03-28T18:44:29.890Z"
   },
   {
    "duration": 140,
    "start_time": "2022-03-28T18:44:31.356Z"
   },
   {
    "duration": 99,
    "start_time": "2022-03-28T18:44:34.497Z"
   },
   {
    "duration": 19,
    "start_time": "2022-03-28T18:44:39.651Z"
   },
   {
    "duration": 37,
    "start_time": "2022-03-28T18:44:41.446Z"
   },
   {
    "duration": 34,
    "start_time": "2022-03-28T18:44:42.302Z"
   },
   {
    "duration": 58,
    "start_time": "2022-03-28T18:44:43.142Z"
   },
   {
    "duration": 222,
    "start_time": "2022-03-28T18:44:45.155Z"
   },
   {
    "duration": 79,
    "start_time": "2022-03-28T19:08:05.716Z"
   },
   {
    "duration": 2188,
    "start_time": "2022-03-28T19:08:15.310Z"
   },
   {
    "duration": 17,
    "start_time": "2022-03-28T19:08:17.503Z"
   },
   {
    "duration": 595,
    "start_time": "2022-03-28T19:08:17.522Z"
   },
   {
    "duration": 259,
    "start_time": "2022-03-28T19:08:18.120Z"
   },
   {
    "duration": 180,
    "start_time": "2022-03-28T19:08:18.382Z"
   },
   {
    "duration": 146,
    "start_time": "2022-03-28T19:08:18.564Z"
   },
   {
    "duration": 63,
    "start_time": "2022-03-28T19:08:18.712Z"
   },
   {
    "duration": 34,
    "start_time": "2022-03-28T19:08:18.778Z"
   },
   {
    "duration": 118,
    "start_time": "2022-03-28T19:08:18.814Z"
   },
   {
    "duration": 56,
    "start_time": "2022-03-28T19:08:18.934Z"
   },
   {
    "duration": 48,
    "start_time": "2022-03-28T19:08:18.992Z"
   },
   {
    "duration": 288,
    "start_time": "2022-03-28T19:08:19.042Z"
   },
   {
    "duration": 189,
    "start_time": "2022-03-28T19:08:19.333Z"
   },
   {
    "duration": 28,
    "start_time": "2022-03-28T19:08:19.528Z"
   },
   {
    "duration": 56,
    "start_time": "2022-03-28T19:08:19.573Z"
   },
   {
    "duration": 57,
    "start_time": "2022-03-28T19:08:19.631Z"
   },
   {
    "duration": 113,
    "start_time": "2022-03-28T19:08:19.690Z"
   },
   {
    "duration": 421,
    "start_time": "2022-03-28T19:08:19.806Z"
   },
   {
    "duration": 256,
    "start_time": "2022-03-28T19:08:20.230Z"
   },
   {
    "duration": 473,
    "start_time": "2022-03-28T19:08:20.488Z"
   },
   {
    "duration": 428,
    "start_time": "2022-03-28T19:08:20.964Z"
   },
   {
    "duration": 3547,
    "start_time": "2022-03-28T19:08:21.395Z"
   },
   {
    "duration": 4447,
    "start_time": "2022-03-28T19:08:24.945Z"
   },
   {
    "duration": 2345,
    "start_time": "2022-03-28T19:08:29.395Z"
   },
   {
    "duration": 12,
    "start_time": "2022-03-28T19:08:31.742Z"
   },
   {
    "duration": 12,
    "start_time": "2022-03-28T19:08:31.774Z"
   },
   {
    "duration": 272,
    "start_time": "2022-03-28T19:10:02.093Z"
   },
   {
    "duration": 251,
    "start_time": "2022-03-28T19:10:11.307Z"
   },
   {
    "duration": 48,
    "start_time": "2022-03-28T19:10:43.861Z"
   },
   {
    "duration": 47,
    "start_time": "2022-03-28T19:10:50.803Z"
   },
   {
    "duration": 104,
    "start_time": "2022-03-28T19:25:18.892Z"
   },
   {
    "duration": 126,
    "start_time": "2022-03-28T19:25:55.320Z"
   },
   {
    "duration": 57,
    "start_time": "2022-03-28T19:41:36.175Z"
   },
   {
    "duration": 367,
    "start_time": "2022-03-28T20:04:46.094Z"
   },
   {
    "duration": 9,
    "start_time": "2022-03-28T20:31:07.130Z"
   },
   {
    "duration": 1729,
    "start_time": "2022-03-28T20:31:28.087Z"
   },
   {
    "duration": 11,
    "start_time": "2022-03-28T20:31:29.819Z"
   },
   {
    "duration": 517,
    "start_time": "2022-03-28T20:31:29.832Z"
   },
   {
    "duration": 283,
    "start_time": "2022-03-28T20:31:30.351Z"
   },
   {
    "duration": 176,
    "start_time": "2022-03-28T20:31:30.636Z"
   },
   {
    "duration": 147,
    "start_time": "2022-03-28T20:31:30.814Z"
   },
   {
    "duration": 53,
    "start_time": "2022-03-28T20:31:30.963Z"
   },
   {
    "duration": 55,
    "start_time": "2022-03-28T20:31:31.018Z"
   },
   {
    "duration": 99,
    "start_time": "2022-03-28T20:31:31.076Z"
   },
   {
    "duration": 52,
    "start_time": "2022-03-28T20:31:31.179Z"
   },
   {
    "duration": 72,
    "start_time": "2022-03-28T20:31:31.234Z"
   },
   {
    "duration": 276,
    "start_time": "2022-03-28T20:31:31.309Z"
   },
   {
    "duration": 193,
    "start_time": "2022-03-28T20:31:31.587Z"
   },
   {
    "duration": 26,
    "start_time": "2022-03-28T20:31:31.783Z"
   },
   {
    "duration": 16,
    "start_time": "2022-03-28T20:31:31.811Z"
   },
   {
    "duration": 71,
    "start_time": "2022-03-28T20:31:31.829Z"
   },
   {
    "duration": 36,
    "start_time": "2022-03-28T20:31:31.902Z"
   },
   {
    "duration": 127,
    "start_time": "2022-03-28T20:31:31.941Z"
   },
   {
    "duration": 439,
    "start_time": "2022-03-28T20:31:32.074Z"
   },
   {
    "duration": 271,
    "start_time": "2022-03-28T20:31:32.515Z"
   },
   {
    "duration": 476,
    "start_time": "2022-03-28T20:31:32.788Z"
   },
   {
    "duration": 431,
    "start_time": "2022-03-28T20:31:33.274Z"
   },
   {
    "duration": 3654,
    "start_time": "2022-03-28T20:31:33.708Z"
   },
   {
    "duration": 4487,
    "start_time": "2022-03-28T20:31:37.365Z"
   },
   {
    "duration": 2380,
    "start_time": "2022-03-28T20:31:41.854Z"
   },
   {
    "duration": 12,
    "start_time": "2022-03-28T20:31:44.237Z"
   },
   {
    "duration": 32,
    "start_time": "2022-03-28T20:31:44.251Z"
   },
   {
    "duration": 5,
    "start_time": "2022-03-28T20:40:39.476Z"
   },
   {
    "duration": 152,
    "start_time": "2022-03-28T20:40:56.630Z"
   },
   {
    "duration": 28,
    "start_time": "2022-03-28T20:41:14.858Z"
   },
   {
    "duration": 49,
    "start_time": "2022-03-28T20:41:42.780Z"
   },
   {
    "duration": 4451,
    "start_time": "2022-03-28T20:45:25.376Z"
   },
   {
    "duration": 3572,
    "start_time": "2022-03-28T20:46:10.164Z"
   },
   {
    "duration": 1313,
    "start_time": "2022-03-29T19:07:53.976Z"
   },
   {
    "duration": 6,
    "start_time": "2022-03-29T19:07:55.291Z"
   },
   {
    "duration": 378,
    "start_time": "2022-03-29T19:07:55.301Z"
   },
   {
    "duration": 158,
    "start_time": "2022-03-29T19:07:55.682Z"
   },
   {
    "duration": 110,
    "start_time": "2022-03-29T19:07:55.842Z"
   },
   {
    "duration": 102,
    "start_time": "2022-03-29T19:07:55.954Z"
   },
   {
    "duration": 45,
    "start_time": "2022-03-29T19:07:56.058Z"
   },
   {
    "duration": 15,
    "start_time": "2022-03-29T19:07:56.105Z"
   },
   {
    "duration": 64,
    "start_time": "2022-03-29T19:07:56.121Z"
   },
   {
    "duration": 41,
    "start_time": "2022-03-29T19:07:56.188Z"
   },
   {
    "duration": 27,
    "start_time": "2022-03-29T19:07:56.231Z"
   },
   {
    "duration": 179,
    "start_time": "2022-03-29T19:07:56.260Z"
   },
   {
    "duration": 125,
    "start_time": "2022-03-29T19:07:56.440Z"
   },
   {
    "duration": 20,
    "start_time": "2022-03-29T19:07:56.567Z"
   },
   {
    "duration": 89,
    "start_time": "2022-03-29T19:07:56.588Z"
   },
   {
    "duration": 39,
    "start_time": "2022-03-29T19:07:56.678Z"
   },
   {
    "duration": 60,
    "start_time": "2022-03-29T19:07:56.719Z"
   },
   {
    "duration": 44,
    "start_time": "2022-03-29T19:07:56.781Z"
   },
   {
    "duration": 2095,
    "start_time": "2022-03-29T19:07:56.827Z"
   },
   {
    "duration": 2490,
    "start_time": "2022-03-29T19:07:58.924Z"
   },
   {
    "duration": 1440,
    "start_time": "2022-03-29T19:08:01.416Z"
   },
   {
    "duration": 7,
    "start_time": "2022-03-29T19:08:02.858Z"
   },
   {
    "duration": 9,
    "start_time": "2022-03-29T19:08:02.867Z"
   },
   {
    "duration": 22,
    "start_time": "2022-03-29T19:23:57.878Z"
   },
   {
    "duration": 1800,
    "start_time": "2022-03-30T04:33:46.997Z"
   },
   {
    "duration": 11,
    "start_time": "2022-03-30T04:33:48.799Z"
   },
   {
    "duration": 511,
    "start_time": "2022-03-30T04:33:48.813Z"
   },
   {
    "duration": 242,
    "start_time": "2022-03-30T04:33:49.326Z"
   },
   {
    "duration": 168,
    "start_time": "2022-03-30T04:33:49.571Z"
   },
   {
    "duration": 123,
    "start_time": "2022-03-30T04:33:49.743Z"
   },
   {
    "duration": 46,
    "start_time": "2022-03-30T04:33:49.868Z"
   },
   {
    "duration": 49,
    "start_time": "2022-03-30T04:33:49.916Z"
   },
   {
    "duration": 105,
    "start_time": "2022-03-30T04:33:49.968Z"
   },
   {
    "duration": 49,
    "start_time": "2022-03-30T04:33:50.075Z"
   },
   {
    "duration": 43,
    "start_time": "2022-03-30T04:33:50.144Z"
   },
   {
    "duration": 255,
    "start_time": "2022-03-30T04:33:50.190Z"
   },
   {
    "duration": 176,
    "start_time": "2022-03-30T04:33:50.448Z"
   },
   {
    "duration": 35,
    "start_time": "2022-03-30T04:33:50.628Z"
   },
   {
    "duration": 6,
    "start_time": "2022-03-30T04:33:50.665Z"
   },
   {
    "duration": 117,
    "start_time": "2022-03-30T04:33:50.673Z"
   },
   {
    "duration": 67,
    "start_time": "2022-03-30T04:33:50.792Z"
   },
   {
    "duration": 53,
    "start_time": "2022-03-30T04:33:50.861Z"
   },
   {
    "duration": 3468,
    "start_time": "2022-03-30T04:33:50.916Z"
   },
   {
    "duration": 3882,
    "start_time": "2022-03-30T04:33:54.386Z"
   },
   {
    "duration": 2260,
    "start_time": "2022-03-30T04:33:58.270Z"
   },
   {
    "duration": 16,
    "start_time": "2022-03-30T04:34:00.532Z"
   },
   {
    "duration": 17,
    "start_time": "2022-03-30T04:34:00.550Z"
   },
   {
    "duration": 1888,
    "start_time": "2022-04-03T19:22:41.222Z"
   },
   {
    "duration": 9,
    "start_time": "2022-04-03T19:22:43.113Z"
   },
   {
    "duration": 427,
    "start_time": "2022-04-03T19:22:43.124Z"
   },
   {
    "duration": 200,
    "start_time": "2022-04-03T19:22:43.554Z"
   },
   {
    "duration": 128,
    "start_time": "2022-04-03T19:22:43.756Z"
   },
   {
    "duration": 115,
    "start_time": "2022-04-03T19:22:43.886Z"
   },
   {
    "duration": 38,
    "start_time": "2022-04-03T19:22:44.003Z"
   },
   {
    "duration": 19,
    "start_time": "2022-04-03T19:22:44.043Z"
   },
   {
    "duration": 96,
    "start_time": "2022-04-03T19:22:44.064Z"
   },
   {
    "duration": 55,
    "start_time": "2022-04-03T19:22:44.163Z"
   },
   {
    "duration": 34,
    "start_time": "2022-04-03T19:22:44.220Z"
   },
   {
    "duration": 182,
    "start_time": "2022-04-03T19:22:44.256Z"
   },
   {
    "duration": 124,
    "start_time": "2022-04-03T19:22:44.440Z"
   },
   {
    "duration": 21,
    "start_time": "2022-04-03T19:22:44.566Z"
   },
   {
    "duration": 5,
    "start_time": "2022-04-03T19:22:44.602Z"
   },
   {
    "duration": 71,
    "start_time": "2022-04-03T19:22:44.609Z"
   },
   {
    "duration": 51,
    "start_time": "2022-04-03T19:22:44.682Z"
   },
   {
    "duration": 36,
    "start_time": "2022-04-03T19:22:44.735Z"
   },
   {
    "duration": 2302,
    "start_time": "2022-04-03T19:22:44.772Z"
   },
   {
    "duration": 2616,
    "start_time": "2022-04-03T19:22:47.076Z"
   },
   {
    "duration": 1543,
    "start_time": "2022-04-03T19:22:49.694Z"
   },
   {
    "duration": 14,
    "start_time": "2022-04-03T19:22:51.239Z"
   },
   {
    "duration": 12,
    "start_time": "2022-04-03T19:22:51.255Z"
   },
   {
    "duration": 1717,
    "start_time": "2022-04-04T08:33:43.424Z"
   },
   {
    "duration": 11,
    "start_time": "2022-04-04T08:33:45.144Z"
   },
   {
    "duration": 503,
    "start_time": "2022-04-04T08:33:45.157Z"
   },
   {
    "duration": 253,
    "start_time": "2022-04-04T08:33:45.663Z"
   },
   {
    "duration": 171,
    "start_time": "2022-04-04T08:33:45.918Z"
   },
   {
    "duration": 134,
    "start_time": "2022-04-04T08:33:46.091Z"
   },
   {
    "duration": 62,
    "start_time": "2022-04-04T08:33:46.227Z"
   },
   {
    "duration": 23,
    "start_time": "2022-04-04T08:33:46.292Z"
   },
   {
    "duration": 103,
    "start_time": "2022-04-04T08:33:46.318Z"
   },
   {
    "duration": 61,
    "start_time": "2022-04-04T08:33:46.425Z"
   },
   {
    "duration": 43,
    "start_time": "2022-04-04T08:33:46.488Z"
   },
   {
    "duration": 269,
    "start_time": "2022-04-04T08:33:46.533Z"
   },
   {
    "duration": 189,
    "start_time": "2022-04-04T08:33:46.805Z"
   },
   {
    "duration": 31,
    "start_time": "2022-04-04T08:33:46.997Z"
   },
   {
    "duration": 16,
    "start_time": "2022-04-04T08:33:47.030Z"
   },
   {
    "duration": 142,
    "start_time": "2022-04-04T08:33:47.049Z"
   },
   {
    "duration": 52,
    "start_time": "2022-04-04T08:33:47.194Z"
   },
   {
    "duration": 72,
    "start_time": "2022-04-04T08:33:47.249Z"
   },
   {
    "duration": 3635,
    "start_time": "2022-04-04T08:33:47.323Z"
   },
   {
    "duration": 4412,
    "start_time": "2022-04-04T08:33:50.961Z"
   },
   {
    "duration": 2279,
    "start_time": "2022-04-04T08:33:55.376Z"
   },
   {
    "duration": 22,
    "start_time": "2022-04-04T08:33:57.658Z"
   },
   {
    "duration": 10,
    "start_time": "2022-04-04T08:33:57.682Z"
   },
   {
    "duration": 93,
    "start_time": "2022-04-04T08:35:12.276Z"
   },
   {
    "duration": 1356,
    "start_time": "2022-04-14T14:18:08.397Z"
   },
   {
    "duration": 7,
    "start_time": "2022-04-14T14:18:09.755Z"
   },
   {
    "duration": 406,
    "start_time": "2022-04-14T14:18:09.764Z"
   },
   {
    "duration": 199,
    "start_time": "2022-04-14T14:18:10.172Z"
   },
   {
    "duration": 116,
    "start_time": "2022-04-14T14:18:10.372Z"
   },
   {
    "duration": 100,
    "start_time": "2022-04-14T14:18:10.490Z"
   },
   {
    "duration": 342,
    "start_time": "2022-04-14T14:18:10.592Z"
   },
   {
    "duration": 16,
    "start_time": "2022-04-14T14:18:10.936Z"
   },
   {
    "duration": 64,
    "start_time": "2022-04-14T14:18:10.954Z"
   },
   {
    "duration": 35,
    "start_time": "2022-04-14T14:18:11.021Z"
   },
   {
    "duration": 31,
    "start_time": "2022-04-14T14:18:11.057Z"
   },
   {
    "duration": 194,
    "start_time": "2022-04-14T14:18:11.090Z"
   },
   {
    "duration": 138,
    "start_time": "2022-04-14T14:18:11.286Z"
   },
   {
    "duration": 19,
    "start_time": "2022-04-14T14:18:11.426Z"
   },
   {
    "duration": 5,
    "start_time": "2022-04-14T14:18:11.447Z"
   },
   {
    "duration": 86,
    "start_time": "2022-04-14T14:18:11.453Z"
   },
   {
    "duration": 34,
    "start_time": "2022-04-14T14:18:11.541Z"
   },
   {
    "duration": 68,
    "start_time": "2022-04-14T14:18:11.577Z"
   },
   {
    "duration": 2326,
    "start_time": "2022-04-14T14:18:11.646Z"
   },
   {
    "duration": 3632,
    "start_time": "2022-04-14T14:18:13.973Z"
   },
   {
    "duration": 2479,
    "start_time": "2022-04-14T14:18:17.608Z"
   },
   {
    "duration": 20,
    "start_time": "2022-04-14T14:18:20.088Z"
   },
   {
    "duration": 10,
    "start_time": "2022-04-14T14:18:20.109Z"
   },
   {
    "duration": 115,
    "start_time": "2022-04-17T15:04:45.501Z"
   },
   {
    "duration": 109,
    "start_time": "2022-04-17T15:04:51.079Z"
   },
   {
    "duration": 109,
    "start_time": "2022-04-17T15:04:53.650Z"
   },
   {
    "duration": 146,
    "start_time": "2022-04-17T15:04:58.726Z"
   },
   {
    "duration": 106,
    "start_time": "2022-04-17T15:26:25.989Z"
   },
   {
    "duration": 42,
    "start_time": "2022-04-17T15:29:46.071Z"
   },
   {
    "duration": 1095,
    "start_time": "2022-04-17T15:29:54.316Z"
   },
   {
    "duration": 7,
    "start_time": "2022-04-17T15:29:55.413Z"
   },
   {
    "duration": 395,
    "start_time": "2022-04-17T15:29:55.422Z"
   },
   {
    "duration": 185,
    "start_time": "2022-04-17T15:29:55.819Z"
   },
   {
    "duration": 111,
    "start_time": "2022-04-17T15:29:56.007Z"
   },
   {
    "duration": 92,
    "start_time": "2022-04-17T15:29:56.120Z"
   },
   {
    "duration": 59,
    "start_time": "2022-04-17T15:29:56.214Z"
   },
   {
    "duration": 16,
    "start_time": "2022-04-17T15:29:56.275Z"
   },
   {
    "duration": 89,
    "start_time": "2022-04-17T15:29:56.293Z"
   },
   {
    "duration": 34,
    "start_time": "2022-04-17T15:29:56.384Z"
   },
   {
    "duration": 67,
    "start_time": "2022-04-17T15:29:56.420Z"
   },
   {
    "duration": 161,
    "start_time": "2022-04-17T15:29:56.489Z"
   },
   {
    "duration": 112,
    "start_time": "2022-04-17T15:29:56.652Z"
   },
   {
    "duration": 18,
    "start_time": "2022-04-17T15:29:56.774Z"
   },
   {
    "duration": 10,
    "start_time": "2022-04-17T15:29:56.794Z"
   },
   {
    "duration": 73,
    "start_time": "2022-04-17T15:29:56.806Z"
   },
   {
    "duration": 33,
    "start_time": "2022-04-17T15:29:56.881Z"
   },
   {
    "duration": 33,
    "start_time": "2022-04-17T15:29:56.916Z"
   },
   {
    "duration": 2121,
    "start_time": "2022-04-17T15:29:56.972Z"
   },
   {
    "duration": 2509,
    "start_time": "2022-04-17T15:29:59.095Z"
   },
   {
    "duration": 1523,
    "start_time": "2022-04-17T15:30:01.606Z"
   },
   {
    "duration": 8,
    "start_time": "2022-04-17T15:30:03.131Z"
   },
   {
    "duration": 6,
    "start_time": "2022-04-17T15:30:03.141Z"
   },
   {
    "duration": 24,
    "start_time": "2022-04-17T15:30:03.149Z"
   },
   {
    "duration": 4,
    "start_time": "2022-04-17T15:33:38.497Z"
   },
   {
    "duration": 4,
    "start_time": "2022-04-17T15:34:04.202Z"
   },
   {
    "duration": 5,
    "start_time": "2022-04-17T15:34:59.879Z"
   },
   {
    "duration": 167,
    "start_time": "2022-04-17T15:35:02.176Z"
   },
   {
    "duration": 109,
    "start_time": "2022-04-17T15:36:51.199Z"
   },
   {
    "duration": 5,
    "start_time": "2022-04-17T15:37:11.896Z"
   },
   {
    "duration": 116,
    "start_time": "2022-04-17T15:57:29.421Z"
   },
   {
    "duration": 1090,
    "start_time": "2022-04-17T15:59:53.328Z"
   },
   {
    "duration": 8,
    "start_time": "2022-04-17T15:59:54.420Z"
   },
   {
    "duration": 388,
    "start_time": "2022-04-17T15:59:54.429Z"
   },
   {
    "duration": 199,
    "start_time": "2022-04-17T15:59:54.819Z"
   },
   {
    "duration": 117,
    "start_time": "2022-04-17T15:59:55.020Z"
   },
   {
    "duration": 97,
    "start_time": "2022-04-17T15:59:55.139Z"
   },
   {
    "duration": 41,
    "start_time": "2022-04-17T15:59:55.237Z"
   },
   {
    "duration": 16,
    "start_time": "2022-04-17T15:59:55.279Z"
   },
   {
    "duration": 88,
    "start_time": "2022-04-17T15:59:55.296Z"
   },
   {
    "duration": 36,
    "start_time": "2022-04-17T15:59:55.387Z"
   },
   {
    "duration": 30,
    "start_time": "2022-04-17T15:59:55.424Z"
   },
   {
    "duration": 166,
    "start_time": "2022-04-17T15:59:55.455Z"
   },
   {
    "duration": 114,
    "start_time": "2022-04-17T15:59:55.622Z"
   },
   {
    "duration": 17,
    "start_time": "2022-04-17T15:59:55.737Z"
   },
   {
    "duration": 9,
    "start_time": "2022-04-17T15:59:55.756Z"
   },
   {
    "duration": 65,
    "start_time": "2022-04-17T15:59:55.767Z"
   },
   {
    "duration": 31,
    "start_time": "2022-04-17T15:59:55.834Z"
   },
   {
    "duration": 39,
    "start_time": "2022-04-17T15:59:55.867Z"
   },
   {
    "duration": 2390,
    "start_time": "2022-04-17T15:59:55.908Z"
   },
   {
    "duration": 2552,
    "start_time": "2022-04-17T15:59:58.299Z"
   },
   {
    "duration": 1636,
    "start_time": "2022-04-17T16:00:00.853Z"
   },
   {
    "duration": 9,
    "start_time": "2022-04-17T16:00:02.491Z"
   },
   {
    "duration": 18,
    "start_time": "2022-04-17T16:00:02.502Z"
   },
   {
    "duration": 95,
    "start_time": "2022-04-17T16:00:02.522Z"
   },
   {
    "duration": 19,
    "start_time": "2022-04-17T16:00:02.619Z"
   },
   {
    "duration": 1180,
    "start_time": "2022-04-17T18:36:32.927Z"
   },
   {
    "duration": 8,
    "start_time": "2022-04-17T18:36:34.109Z"
   },
   {
    "duration": 373,
    "start_time": "2022-04-17T18:36:34.119Z"
   },
   {
    "duration": 406,
    "start_time": "2022-04-17T18:36:34.495Z"
   },
   {
    "duration": 315,
    "start_time": "2022-04-17T18:36:34.903Z"
   },
   {
    "duration": 282,
    "start_time": "2022-04-17T18:36:35.220Z"
   },
   {
    "duration": 31,
    "start_time": "2022-04-17T18:36:35.504Z"
   },
   {
    "duration": 17,
    "start_time": "2022-04-17T18:36:35.592Z"
   },
   {
    "duration": 111,
    "start_time": "2022-04-17T18:36:35.610Z"
   },
   {
    "duration": 88,
    "start_time": "2022-04-17T18:36:35.723Z"
   },
   {
    "duration": 88,
    "start_time": "2022-04-17T18:36:35.813Z"
   },
   {
    "duration": 312,
    "start_time": "2022-04-17T18:36:35.903Z"
   },
   {
    "duration": 208,
    "start_time": "2022-04-17T18:36:36.217Z"
   },
   {
    "duration": 85,
    "start_time": "2022-04-17T18:36:36.427Z"
   },
   {
    "duration": 5,
    "start_time": "2022-04-17T18:36:36.513Z"
   },
   {
    "duration": 205,
    "start_time": "2022-04-17T18:36:36.520Z"
   },
   {
    "duration": 104,
    "start_time": "2022-04-17T18:36:36.727Z"
   },
   {
    "duration": 99,
    "start_time": "2022-04-17T18:36:36.833Z"
   },
   {
    "duration": 2199,
    "start_time": "2022-04-17T18:36:36.934Z"
   },
   {
    "duration": 2464,
    "start_time": "2022-04-17T18:36:39.135Z"
   },
   {
    "duration": 1418,
    "start_time": "2022-04-17T18:36:41.601Z"
   },
   {
    "duration": 8,
    "start_time": "2022-04-17T18:36:43.021Z"
   },
   {
    "duration": 6,
    "start_time": "2022-04-17T18:36:43.030Z"
   },
   {
    "duration": 11,
    "start_time": "2022-04-17T18:36:43.037Z"
   },
   {
    "duration": 4,
    "start_time": "2022-04-17T18:36:43.049Z"
   }
  ],
  "kernelspec": {
   "display_name": "Python 3 (ipykernel)",
   "language": "python",
   "name": "python3"
  },
  "language_info": {
   "codemirror_mode": {
    "name": "ipython",
    "version": 3
   },
   "file_extension": ".py",
   "mimetype": "text/x-python",
   "name": "python",
   "nbconvert_exporter": "python",
   "pygments_lexer": "ipython3",
   "version": "3.9.7"
  },
  "toc": {
   "base_numbering": 1,
   "nav_menu": {},
   "number_sections": true,
   "sideBar": true,
   "skip_h1_title": true,
   "title_cell": "Table of Contents",
   "title_sidebar": "Contents",
   "toc_cell": false,
   "toc_position": {
    "height": "calc(100% - 180px)",
    "left": "10px",
    "top": "150px",
    "width": "366.391px"
   },
   "toc_section_display": true,
   "toc_window_display": true
  }
 },
 "nbformat": 4,
 "nbformat_minor": 2
}
