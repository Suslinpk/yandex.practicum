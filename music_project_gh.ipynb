{
 "cells": [
  {
   "cell_type": "markdown",
   "metadata": {
    "id": "E0vqbgi9ay0H"
   },
   "source": [
    "# Яндекс.Музыка"
   ]
  },
  {
   "cell_type": "markdown",
   "metadata": {
    "id": "VUC88oWjTJw2"
   },
   "source": [
    "Сравнение Москвы и Петербурга окружено мифами. Например:\n",
    " * Москва — мегаполис, подчинённый жёсткому ритму рабочей недели;\n",
    " * Петербург — культурная столица, со своими вкусами.\n",
    "\n",
    "На данных Яндекс.Музыки вы сравните поведение пользователей двух столиц.\n",
    "\n",
    "**Цель исследования** — проверьте три гипотезы:\n",
    "1. Активность пользователей зависит от дня недели. Причём в Москве и Петербурге это проявляется по-разному.\n",
    "2. В понедельник утром в Москве преобладают одни жанры, а в Петербурге — другие. Так же и вечером пятницы преобладают разные жанры — в зависимости от города. \n",
    "3. Москва и Петербург предпочитают разные жанры музыки. В Москве чаще слушают поп-музыку, в Петербурге — русский рэп.\n",
    "\n",
    "**Ход исследования**\n",
    "\n",
    "Данные о поведении пользователей вы получите из файла `yandex_music_project.csv`. О качестве данных ничего не известно. Поэтому перед проверкой гипотез понадобится обзор данных. \n",
    "\n",
    "Вы проверите данные на ошибки и оцените их влияние на исследование. Затем, на этапе предобработки вы поищете возможность исправить самые критичные ошибки данных.\n",
    " \n",
    "Таким образом, исследование пройдёт в три этапа:\n",
    " 1. Обзор данных.\n",
    " 2. Предобработка данных.\n",
    " 3. Проверка гипотез.\n",
    "\n"
   ]
  },
  {
   "cell_type": "markdown",
   "metadata": {
    "id": "Ml1hmfXC_Zcs"
   },
   "source": [
    "## Обзор данных\n",
    "\n",
    "Составьте первое представление о данных Яндекс.Музыки.\n",
    "\n",
    "\n"
   ]
  },
  {
   "cell_type": "markdown",
   "metadata": {
    "id": "57eAOGIz_Zcs"
   },
   "source": [
    "Основной инструмент аналитика — `pandas`. Импортируйте эту библиотеку."
   ]
  },
  {
   "cell_type": "code",
   "execution_count": 1,
   "metadata": {
    "id": "AXN7PHPN_Zcs"
   },
   "outputs": [],
   "source": [
    "import pandas as pd# импорт библиотеки pandas"
   ]
  },
  {
   "cell_type": "markdown",
   "metadata": {
    "id": "SG23P8tt_Zcs"
   },
   "source": [
    "Прочитайте файл `yandex_music_project.csv` из папки `/datasets` и сохраните его в переменной `df`:"
   ]
  },
  {
   "cell_type": "code",
   "execution_count": 2,
   "metadata": {
    "id": "fFVu7vqh_Zct"
   },
   "outputs": [],
   "source": [
    "df = pd.read_csv('/datasets/yandex_music_project.csv')# чтение файла с данными и сохранение в df"
   ]
  },
  {
   "cell_type": "markdown",
   "metadata": {
    "id": "rDoOMd3uTqnZ"
   },
   "source": [
    "Выведите на экран первые десять строк таблицы:"
   ]
  },
  {
   "cell_type": "code",
   "execution_count": 3,
   "metadata": {
    "id": "oWTVX3gW_Zct"
   },
   "outputs": [
    {
     "data": {
      "text/html": [
       "<div>\n",
       "<style scoped>\n",
       "    .dataframe tbody tr th:only-of-type {\n",
       "        vertical-align: middle;\n",
       "    }\n",
       "\n",
       "    .dataframe tbody tr th {\n",
       "        vertical-align: top;\n",
       "    }\n",
       "\n",
       "    .dataframe thead th {\n",
       "        text-align: right;\n",
       "    }\n",
       "</style>\n",
       "<table border=\"1\" class=\"dataframe\">\n",
       "  <thead>\n",
       "    <tr style=\"text-align: right;\">\n",
       "      <th></th>\n",
       "      <th>userID</th>\n",
       "      <th>Track</th>\n",
       "      <th>artist</th>\n",
       "      <th>genre</th>\n",
       "      <th>City</th>\n",
       "      <th>time</th>\n",
       "      <th>Day</th>\n",
       "    </tr>\n",
       "  </thead>\n",
       "  <tbody>\n",
       "    <tr>\n",
       "      <td>0</td>\n",
       "      <td>FFB692EC</td>\n",
       "      <td>Kamigata To Boots</td>\n",
       "      <td>The Mass Missile</td>\n",
       "      <td>rock</td>\n",
       "      <td>Saint-Petersburg</td>\n",
       "      <td>20:28:33</td>\n",
       "      <td>Wednesday</td>\n",
       "    </tr>\n",
       "    <tr>\n",
       "      <td>1</td>\n",
       "      <td>55204538</td>\n",
       "      <td>Delayed Because of Accident</td>\n",
       "      <td>Andreas Rönnberg</td>\n",
       "      <td>rock</td>\n",
       "      <td>Moscow</td>\n",
       "      <td>14:07:09</td>\n",
       "      <td>Friday</td>\n",
       "    </tr>\n",
       "    <tr>\n",
       "      <td>2</td>\n",
       "      <td>20EC38</td>\n",
       "      <td>Funiculì funiculà</td>\n",
       "      <td>Mario Lanza</td>\n",
       "      <td>pop</td>\n",
       "      <td>Saint-Petersburg</td>\n",
       "      <td>20:58:07</td>\n",
       "      <td>Wednesday</td>\n",
       "    </tr>\n",
       "    <tr>\n",
       "      <td>3</td>\n",
       "      <td>A3DD03C9</td>\n",
       "      <td>Dragons in the Sunset</td>\n",
       "      <td>Fire + Ice</td>\n",
       "      <td>folk</td>\n",
       "      <td>Saint-Petersburg</td>\n",
       "      <td>08:37:09</td>\n",
       "      <td>Monday</td>\n",
       "    </tr>\n",
       "    <tr>\n",
       "      <td>4</td>\n",
       "      <td>E2DC1FAE</td>\n",
       "      <td>Soul People</td>\n",
       "      <td>Space Echo</td>\n",
       "      <td>dance</td>\n",
       "      <td>Moscow</td>\n",
       "      <td>08:34:34</td>\n",
       "      <td>Monday</td>\n",
       "    </tr>\n",
       "    <tr>\n",
       "      <td>5</td>\n",
       "      <td>842029A1</td>\n",
       "      <td>Преданная</td>\n",
       "      <td>IMPERVTOR</td>\n",
       "      <td>rusrap</td>\n",
       "      <td>Saint-Petersburg</td>\n",
       "      <td>13:09:41</td>\n",
       "      <td>Friday</td>\n",
       "    </tr>\n",
       "    <tr>\n",
       "      <td>6</td>\n",
       "      <td>4CB90AA5</td>\n",
       "      <td>True</td>\n",
       "      <td>Roman Messer</td>\n",
       "      <td>dance</td>\n",
       "      <td>Moscow</td>\n",
       "      <td>13:00:07</td>\n",
       "      <td>Wednesday</td>\n",
       "    </tr>\n",
       "    <tr>\n",
       "      <td>7</td>\n",
       "      <td>F03E1C1F</td>\n",
       "      <td>Feeling This Way</td>\n",
       "      <td>Polina Griffith</td>\n",
       "      <td>dance</td>\n",
       "      <td>Moscow</td>\n",
       "      <td>20:47:49</td>\n",
       "      <td>Wednesday</td>\n",
       "    </tr>\n",
       "    <tr>\n",
       "      <td>8</td>\n",
       "      <td>8FA1D3BE</td>\n",
       "      <td>И вновь продолжается бой</td>\n",
       "      <td>NaN</td>\n",
       "      <td>ruspop</td>\n",
       "      <td>Moscow</td>\n",
       "      <td>09:17:40</td>\n",
       "      <td>Friday</td>\n",
       "    </tr>\n",
       "    <tr>\n",
       "      <td>9</td>\n",
       "      <td>E772D5C0</td>\n",
       "      <td>Pessimist</td>\n",
       "      <td>NaN</td>\n",
       "      <td>dance</td>\n",
       "      <td>Saint-Petersburg</td>\n",
       "      <td>21:20:49</td>\n",
       "      <td>Wednesday</td>\n",
       "    </tr>\n",
       "  </tbody>\n",
       "</table>\n",
       "</div>"
      ],
      "text/plain": [
       "     userID                        Track            artist   genre  \\\n",
       "0  FFB692EC            Kamigata To Boots  The Mass Missile    rock   \n",
       "1  55204538  Delayed Because of Accident  Andreas Rönnberg    rock   \n",
       "2    20EC38            Funiculì funiculà       Mario Lanza     pop   \n",
       "3  A3DD03C9        Dragons in the Sunset        Fire + Ice    folk   \n",
       "4  E2DC1FAE                  Soul People        Space Echo   dance   \n",
       "5  842029A1                    Преданная         IMPERVTOR  rusrap   \n",
       "6  4CB90AA5                         True      Roman Messer   dance   \n",
       "7  F03E1C1F             Feeling This Way   Polina Griffith   dance   \n",
       "8  8FA1D3BE     И вновь продолжается бой               NaN  ruspop   \n",
       "9  E772D5C0                    Pessimist               NaN   dance   \n",
       "\n",
       "             City        time        Day  \n",
       "0  Saint-Petersburg  20:28:33  Wednesday  \n",
       "1            Moscow  14:07:09     Friday  \n",
       "2  Saint-Petersburg  20:58:07  Wednesday  \n",
       "3  Saint-Petersburg  08:37:09     Monday  \n",
       "4            Moscow  08:34:34     Monday  \n",
       "5  Saint-Petersburg  13:09:41     Friday  \n",
       "6            Moscow  13:00:07  Wednesday  \n",
       "7            Moscow  20:47:49  Wednesday  \n",
       "8            Moscow  09:17:40     Friday  \n",
       "9  Saint-Petersburg  21:20:49  Wednesday  "
      ]
     },
     "execution_count": 3,
     "metadata": {},
     "output_type": "execute_result"
    }
   ],
   "source": [
    "df.head(10) # получение первых 10 строк таблицы df"
   ]
  },
  {
   "cell_type": "markdown",
   "metadata": {
    "id": "EO73Kwic_Zct"
   },
   "source": [
    "Одной командой получить общую информацию о таблице:"
   ]
  },
  {
   "cell_type": "code",
   "execution_count": 4,
   "metadata": {
    "id": "DSf2kIb-_Zct"
   },
   "outputs": [
    {
     "name": "stdout",
     "output_type": "stream",
     "text": [
      "<class 'pandas.core.frame.DataFrame'>\n",
      "RangeIndex: 65079 entries, 0 to 65078\n",
      "Data columns (total 7 columns):\n",
      "  userID    65079 non-null object\n",
      "Track       63848 non-null object\n",
      "artist      57876 non-null object\n",
      "genre       63881 non-null object\n",
      "  City      65079 non-null object\n",
      "time        65079 non-null object\n",
      "Day         65079 non-null object\n",
      "dtypes: object(7)\n",
      "memory usage: 3.5+ MB\n"
     ]
    }
   ],
   "source": [
    "df.info()# получение общей информации о данных в таблице df"
   ]
  },
  {
   "cell_type": "markdown",
   "metadata": {},
   "source": [
    "<div class=\"alert alert-success\">\n",
    "    \n",
    "<b> Комментарий от ревьюера ✔️</b>\n",
    "    \n",
    "Отличный выбор метода - info действительно показывает много информации о датафрейме.\n",
    "</div>"
   ]
  },
  {
   "cell_type": "markdown",
   "metadata": {
    "id": "TaQ2Iwbr_Zct"
   },
   "source": [
    "Итак, в таблице семь столбцов. Тип данных во всех столбцах — `object`.\n",
    "\n",
    "Согласно документации к данным:\n",
    "* `userID` — идентификатор пользователя;\n",
    "* `Track` — название трека;  \n",
    "* `artist` — имя исполнителя;\n",
    "* `genre` — название жанра;\n",
    "* `City` — город пользователя;\n",
    "* `time` — время начала прослушивания;\n",
    "* `Day` — день недели.\n",
    "\n",
    "В названиях колонок видны три нарушения стиля:\n",
    "1. Строчные буквы сочетаются с прописными.\n",
    "2. Встречаются пробелы.\n",
    "3. Найдите ещё одну проблему в названии колонок и опишите её в этом пункте.\n",
    "\n",
    "\n",
    "\n",
    "Количество значений в столбцах различается. Значит, в данных есть пропущенные значения.\n"
   ]
  },
  {
   "cell_type": "markdown",
   "metadata": {
    "id": "MCB6-dXG_Zct"
   },
   "source": [
    "**Выводы**\n",
    "\n",
    "В каждой строке таблицы — данные о прослушанном треке. Часть колонок описывает саму композицию: название, исполнителя и жанр. Остальные данные рассказывают о пользователе: из какого он города, когда он слушал музыку. \n",
    "\n",
    "Предварительно можно утверждать, что, данных достаточно для проверки гипотез. Но встречаются пропуски в данных, а в названиях колонок — расхождения с хорошим стилем.\n",
    "\n",
    "Чтобы двигаться дальше, нужно устранить проблемы в данных."
   ]
  },
  {
   "cell_type": "markdown",
   "metadata": {
    "id": "SjYF6Ub9_Zct"
   },
   "source": [
    "## Предобработка данных\n",
    "Исправьте стиль в заголовках столбцов, исключите пропуски. Затем проверьте данные на дубликаты."
   ]
  },
  {
   "cell_type": "markdown",
   "metadata": {
    "id": "dIaKXr29_Zct"
   },
   "source": [
    "### Стиль заголовков\n",
    "Выведите на экран названия столбцов:"
   ]
  },
  {
   "cell_type": "code",
   "execution_count": 5,
   "metadata": {
    "id": "oKOTdF_Q_Zct"
   },
   "outputs": [
    {
     "data": {
      "text/plain": [
       "Index(['  userID', 'Track', 'artist', 'genre', '  City  ', 'time', 'Day'], dtype='object')"
      ]
     },
     "execution_count": 5,
     "metadata": {},
     "output_type": "execute_result"
    }
   ],
   "source": [
    "df.columns# перечень названий столбцов таблицы df"
   ]
  },
  {
   "cell_type": "markdown",
   "metadata": {
    "id": "zj5534cv_Zct"
   },
   "source": [
    "Приведите названия в соответствие с хорошим стилем:\n",
    "* несколько слов в названии запишите в «змеином_регистре»,\n",
    "* все символы сделайте строчными,\n",
    "* устраните пробелы.\n",
    "\n",
    "Для этого переименуйте колонки так:\n",
    "* `'  userID'` → `'user_id'`;\n",
    "* `'Track'` → `'track'`;\n",
    "* `'  City  '` → `'city'`;\n",
    "* `'Day'` → `'day'`."
   ]
  },
  {
   "cell_type": "code",
   "execution_count": 6,
   "metadata": {
    "id": "ISlFqs5y_Zct"
   },
   "outputs": [],
   "source": [
    "df = df.rename(columns={'  userID':'user_id', 'Track':'track', '  City  ':'city', 'Day': 'day'})# переименование столбцов"
   ]
  },
  {
   "cell_type": "markdown",
   "metadata": {
    "id": "1dqbh00J_Zct"
   },
   "source": [
    "Проверьте результат. Для этого ещё раз выведите на экран названия столбцов:"
   ]
  },
  {
   "cell_type": "code",
   "execution_count": 7,
   "metadata": {
    "id": "d4NOAmTW_Zct"
   },
   "outputs": [
    {
     "data": {
      "text/plain": [
       "Index(['user_id', 'track', 'artist', 'genre', 'city', 'time', 'day'], dtype='object')"
      ]
     },
     "execution_count": 7,
     "metadata": {},
     "output_type": "execute_result"
    }
   ],
   "source": [
    "df.columns# проверка результатов - перечень названий столбцов"
   ]
  },
  {
   "cell_type": "markdown",
   "metadata": {
    "id": "5ISfbcfY_Zct"
   },
   "source": [
    "### Пропуски значений\n",
    "Сначала посчитайте, сколько в таблице пропущенных значений. Для этого достаточно двух методов `pandas`:"
   ]
  },
  {
   "cell_type": "code",
   "execution_count": 8,
   "metadata": {
    "id": "RskX29qr_Zct"
   },
   "outputs": [
    {
     "data": {
      "text/plain": [
       "user_id       0\n",
       "track      1231\n",
       "artist     7203\n",
       "genre      1198\n",
       "city          0\n",
       "time          0\n",
       "day           0\n",
       "dtype: int64"
      ]
     },
     "execution_count": 8,
     "metadata": {},
     "output_type": "execute_result"
    }
   ],
   "source": [
    "df.isna().sum()# подсчёт пропусков"
   ]
  },
  {
   "cell_type": "markdown",
   "metadata": {
    "id": "qubhgnlO_Zct"
   },
   "source": [
    "Не все пропущенные значения влияют на исследование. Так в `track` и `artist` пропуски не важны для вашей работы. Достаточно заменить их явными обозначениями.\n",
    "\n",
    "Но пропуски в `genre` могут помешать сравнению музыкальных вкусов в Москве и Санкт-Петербурге. На практике было бы правильно установить причину пропусков и восстановить данные. Такой возможности нет в учебном проекте. Придётся:\n",
    "* заполнить и эти пропуски явными обозначениями,\n",
    "* оценить, насколько они повредят расчётам. "
   ]
  },
  {
   "cell_type": "markdown",
   "metadata": {
    "id": "fSv2laPA_Zct"
   },
   "source": [
    "Замените пропущенные значения в столбцах `track`, `artist` и `genre` на строку `'unknown'`. Для этого создайте список `columns_to_replace`, переберите его элементы циклом `for` и для каждого столбца выполните замену пропущенных значений:"
   ]
  },
  {
   "cell_type": "code",
   "execution_count": 9,
   "metadata": {
    "id": "KplB5qWs_Zct"
   },
   "outputs": [],
   "source": [
    "columns_to_replace = ['track', 'artist', 'genre']# перебор названий столбцов в цикле и замена пропущенных значений на 'unknown'\n",
    "for column in columns_to_replace:\n",
    "    df[column] = df[column].fillna('unknown') "
   ]
  },
  {
   "cell_type": "markdown",
   "metadata": {
    "id": "Ilsm-MZo_Zct"
   },
   "source": [
    "Убедитесь, что в таблице не осталось пропусков. Для этого ещё раз посчитайте пропущенные значения."
   ]
  },
  {
   "cell_type": "code",
   "execution_count": 10,
   "metadata": {
    "id": "Tq4nYRX4_Zct"
   },
   "outputs": [
    {
     "data": {
      "text/plain": [
       "user_id    0\n",
       "track      0\n",
       "artist     0\n",
       "genre      0\n",
       "city       0\n",
       "time       0\n",
       "day        0\n",
       "dtype: int64"
      ]
     },
     "execution_count": 10,
     "metadata": {},
     "output_type": "execute_result"
    }
   ],
   "source": [
    "df.isna().sum()# подсчёт пропусков"
   ]
  },
  {
   "cell_type": "markdown",
   "metadata": {
    "id": "BWKRtBJ3_Zct"
   },
   "source": [
    "### Дубликаты\n",
    "Посчитайте явные дубликаты в таблице одной командой:"
   ]
  },
  {
   "cell_type": "code",
   "execution_count": 11,
   "metadata": {
    "id": "36eES_S0_Zct"
   },
   "outputs": [
    {
     "data": {
      "text/plain": [
       "3826"
      ]
     },
     "execution_count": 11,
     "metadata": {},
     "output_type": "execute_result"
    }
   ],
   "source": [
    "df.duplicated().sum() # подсчёт явных дубликатов"
   ]
  },
  {
   "cell_type": "markdown",
   "metadata": {
    "id": "Ot25h6XR_Zct"
   },
   "source": [
    "Вызовите специальный метод `pandas`, чтобы удалить явные дубликаты:"
   ]
  },
  {
   "cell_type": "code",
   "execution_count": 12,
   "metadata": {
    "id": "exFHq6tt_Zct"
   },
   "outputs": [],
   "source": [
    "df = df.drop_duplicates().reset_index(drop=True) # удаление явных дубликатов (с удалением старых индексов и формированием новых)"
   ]
  },
  {
   "cell_type": "markdown",
   "metadata": {
    "id": "Im2YwBEG_Zct"
   },
   "source": [
    "Ещё раз посчитайте явные дубликаты в таблице — убедитесь, что полностью от них избавились:"
   ]
  },
  {
   "cell_type": "code",
   "execution_count": 13,
   "metadata": {
    "id": "-8PuNWQ0_Zct"
   },
   "outputs": [
    {
     "data": {
      "text/plain": [
       "0"
      ]
     },
     "execution_count": 13,
     "metadata": {},
     "output_type": "execute_result"
    }
   ],
   "source": [
    "df.duplicated().sum()# проверка на отсутствие дубликатов"
   ]
  },
  {
   "cell_type": "markdown",
   "metadata": {
    "id": "QlFBsxAr_Zct"
   },
   "source": [
    "Теперь избавьтесь от неявных дубликатов в колонке `genre`. Например, название одного и того же жанра может быть записано немного по-разному. Такие ошибки тоже повлияют на результат исследования."
   ]
  },
  {
   "cell_type": "markdown",
   "metadata": {
    "id": "eSjWwsOh_Zct"
   },
   "source": [
    "Выведите на экран список уникальных названий жанров, отсортированный в алфавитном порядке. Для этого:\n",
    "* извлеките нужный столбец датафрейма, \n",
    "* примените к нему метод сортировки,\n",
    "* для отсортированного столбца вызовите метод, который вернёт уникальные значения из столбца."
   ]
  },
  {
   "cell_type": "code",
   "execution_count": 14,
   "metadata": {
    "id": "JIUcqzZN_Zct"
   },
   "outputs": [
    {
     "data": {
      "text/plain": [
       "['acid',\n",
       " 'acoustic',\n",
       " 'action',\n",
       " 'adult',\n",
       " 'africa',\n",
       " 'afrikaans',\n",
       " 'alternative',\n",
       " 'alternativepunk',\n",
       " 'ambient',\n",
       " 'americana',\n",
       " 'animated',\n",
       " 'anime',\n",
       " 'arabesk',\n",
       " 'arabic',\n",
       " 'arena',\n",
       " 'argentinetango',\n",
       " 'art',\n",
       " 'audiobook',\n",
       " 'author',\n",
       " 'avantgarde',\n",
       " 'axé',\n",
       " 'baile',\n",
       " 'balkan',\n",
       " 'beats',\n",
       " 'bigroom',\n",
       " 'black',\n",
       " 'bluegrass',\n",
       " 'blues',\n",
       " 'bollywood',\n",
       " 'bossa',\n",
       " 'brazilian',\n",
       " 'breakbeat',\n",
       " 'breaks',\n",
       " 'broadway',\n",
       " 'cantautori',\n",
       " 'cantopop',\n",
       " 'canzone',\n",
       " 'caribbean',\n",
       " 'caucasian',\n",
       " 'celtic',\n",
       " 'chamber',\n",
       " 'chanson',\n",
       " 'children',\n",
       " 'chill',\n",
       " 'chinese',\n",
       " 'choral',\n",
       " 'christian',\n",
       " 'christmas',\n",
       " 'classical',\n",
       " 'classicmetal',\n",
       " 'club',\n",
       " 'colombian',\n",
       " 'comedy',\n",
       " 'conjazz',\n",
       " 'contemporary',\n",
       " 'country',\n",
       " 'cuban',\n",
       " 'dance',\n",
       " 'dancehall',\n",
       " 'dancepop',\n",
       " 'dark',\n",
       " 'death',\n",
       " 'deep',\n",
       " 'deutschrock',\n",
       " 'deutschspr',\n",
       " 'dirty',\n",
       " 'disco',\n",
       " 'dnb',\n",
       " 'documentary',\n",
       " 'downbeat',\n",
       " 'downtempo',\n",
       " 'drum',\n",
       " 'dub',\n",
       " 'dubstep',\n",
       " 'eastern',\n",
       " 'easy',\n",
       " 'electronic',\n",
       " 'electropop',\n",
       " 'emo',\n",
       " 'entehno',\n",
       " 'epicmetal',\n",
       " 'estrada',\n",
       " 'ethnic',\n",
       " 'eurofolk',\n",
       " 'european',\n",
       " 'experimental',\n",
       " 'extrememetal',\n",
       " 'fado',\n",
       " 'fairytail',\n",
       " 'film',\n",
       " 'fitness',\n",
       " 'flamenco',\n",
       " 'folk',\n",
       " 'folklore',\n",
       " 'folkmetal',\n",
       " 'folkrock',\n",
       " 'folktronica',\n",
       " 'forró',\n",
       " 'frankreich',\n",
       " 'französisch',\n",
       " 'french',\n",
       " 'funk',\n",
       " 'future',\n",
       " 'gangsta',\n",
       " 'garage',\n",
       " 'german',\n",
       " 'ghazal',\n",
       " 'gitarre',\n",
       " 'glitch',\n",
       " 'gospel',\n",
       " 'gothic',\n",
       " 'grime',\n",
       " 'grunge',\n",
       " 'gypsy',\n",
       " 'handsup',\n",
       " \"hard'n'heavy\",\n",
       " 'hardcore',\n",
       " 'hardstyle',\n",
       " 'hardtechno',\n",
       " 'hip',\n",
       " 'hip-hop',\n",
       " 'hiphop',\n",
       " 'historisch',\n",
       " 'holiday',\n",
       " 'hop',\n",
       " 'horror',\n",
       " 'house',\n",
       " 'hymn',\n",
       " 'idm',\n",
       " 'independent',\n",
       " 'indian',\n",
       " 'indie',\n",
       " 'indipop',\n",
       " 'industrial',\n",
       " 'inspirational',\n",
       " 'instrumental',\n",
       " 'international',\n",
       " 'irish',\n",
       " 'jam',\n",
       " 'japanese',\n",
       " 'jazz',\n",
       " 'jewish',\n",
       " 'jpop',\n",
       " 'jungle',\n",
       " 'k-pop',\n",
       " 'karadeniz',\n",
       " 'karaoke',\n",
       " 'kayokyoku',\n",
       " 'korean',\n",
       " 'laiko',\n",
       " 'latin',\n",
       " 'latino',\n",
       " 'leftfield',\n",
       " 'local',\n",
       " 'lounge',\n",
       " 'loungeelectronic',\n",
       " 'lovers',\n",
       " 'malaysian',\n",
       " 'mandopop',\n",
       " 'marschmusik',\n",
       " 'meditative',\n",
       " 'mediterranean',\n",
       " 'melodic',\n",
       " 'metal',\n",
       " 'metalcore',\n",
       " 'mexican',\n",
       " 'middle',\n",
       " 'minimal',\n",
       " 'miscellaneous',\n",
       " 'modern',\n",
       " 'mood',\n",
       " 'mpb',\n",
       " 'muslim',\n",
       " 'native',\n",
       " 'neoklassik',\n",
       " 'neue',\n",
       " 'new',\n",
       " 'newage',\n",
       " 'newwave',\n",
       " 'nu',\n",
       " 'nujazz',\n",
       " 'numetal',\n",
       " 'oceania',\n",
       " 'old',\n",
       " 'opera',\n",
       " 'orchestral',\n",
       " 'other',\n",
       " 'piano',\n",
       " 'podcasts',\n",
       " 'pop',\n",
       " 'popdance',\n",
       " 'popelectronic',\n",
       " 'popeurodance',\n",
       " 'poprussian',\n",
       " 'post',\n",
       " 'posthardcore',\n",
       " 'postrock',\n",
       " 'power',\n",
       " 'progmetal',\n",
       " 'progressive',\n",
       " 'psychedelic',\n",
       " 'punjabi',\n",
       " 'punk',\n",
       " 'quebecois',\n",
       " 'ragga',\n",
       " 'ram',\n",
       " 'rancheras',\n",
       " 'rap',\n",
       " 'rave',\n",
       " 'reggae',\n",
       " 'reggaeton',\n",
       " 'regional',\n",
       " 'relax',\n",
       " 'religious',\n",
       " 'retro',\n",
       " 'rhythm',\n",
       " 'rnb',\n",
       " 'rnr',\n",
       " 'rock',\n",
       " 'rockabilly',\n",
       " 'rockalternative',\n",
       " 'rockindie',\n",
       " 'rockother',\n",
       " 'romance',\n",
       " 'roots',\n",
       " 'ruspop',\n",
       " 'rusrap',\n",
       " 'rusrock',\n",
       " 'russian',\n",
       " 'salsa',\n",
       " 'samba',\n",
       " 'scenic',\n",
       " 'schlager',\n",
       " 'self',\n",
       " 'sertanejo',\n",
       " 'shanson',\n",
       " 'shoegazing',\n",
       " 'showtunes',\n",
       " 'singer',\n",
       " 'ska',\n",
       " 'skarock',\n",
       " 'slow',\n",
       " 'smooth',\n",
       " 'soft',\n",
       " 'soul',\n",
       " 'soulful',\n",
       " 'sound',\n",
       " 'soundtrack',\n",
       " 'southern',\n",
       " 'specialty',\n",
       " 'speech',\n",
       " 'spiritual',\n",
       " 'sport',\n",
       " 'stonerrock',\n",
       " 'surf',\n",
       " 'swing',\n",
       " 'synthpop',\n",
       " 'synthrock',\n",
       " 'sängerportrait',\n",
       " 'tango',\n",
       " 'tanzorchester',\n",
       " 'taraftar',\n",
       " 'tatar',\n",
       " 'tech',\n",
       " 'techno',\n",
       " 'teen',\n",
       " 'thrash',\n",
       " 'top',\n",
       " 'traditional',\n",
       " 'tradjazz',\n",
       " 'trance',\n",
       " 'tribal',\n",
       " 'trip',\n",
       " 'triphop',\n",
       " 'tropical',\n",
       " 'türk',\n",
       " 'türkçe',\n",
       " 'ukrrock',\n",
       " 'unknown',\n",
       " 'urban',\n",
       " 'uzbek',\n",
       " 'variété',\n",
       " 'vi',\n",
       " 'videogame',\n",
       " 'vocal',\n",
       " 'western',\n",
       " 'world',\n",
       " 'worldbeat',\n",
       " 'ïîï',\n",
       " 'электроника']"
      ]
     },
     "execution_count": 14,
     "metadata": {},
     "output_type": "execute_result"
    }
   ],
   "source": [
    "sorted_unique_df_genre=df['genre'].unique()# Просмотр уникальных названий жанров\n",
    "sorted_unique_df_genre=sorted(sorted_unique_df_genre)\n",
    "sorted_unique_df_genre"
   ]
  },
  {
   "cell_type": "markdown",
   "metadata": {
    "id": "qej-Qmuo_Zct"
   },
   "source": [
    "Просмотрите список и найдите неявные дубликаты названия `hiphop`. Это могут быть названия с ошибками или альтернативные названия того же жанра.\n",
    "\n",
    "Вы увидите следующие неявные дубликаты:\n",
    "* *hip*,\n",
    "* *hop*,\n",
    "* *hip-hop*.\n",
    "\n",
    "Чтобы очистить от них таблицу, напишите функцию `replace_wrong_genres()` с двумя параметрами: \n",
    "* `wrong_genres` — список дубликатов,\n",
    "* `correct_genre` — строка с правильным значением.\n",
    "\n",
    "Функция должна исправить колонку `genre` в таблице `df`: заменить каждое значение из списка `wrong_genres` на значение из `correct_genre`.\n",
    "\n"
   ]
  },
  {
   "cell_type": "markdown",
   "metadata": {
    "id": "JIUcqzZN_Zct"
   },
   "source": [
    "**Так же в ходе анализа обнаружены дубликаты к жанрам 'latino','türkçe', 'electronic'. Далее будет предложено 2 варианта решения: с помощью вызова функции и передаче ей списков с неверными значениями, а так же с помощью создания словаря и использования цикла. Вариант с словарем мне больше нравится, так как он в моем исполнении получается более компакным**"
   ]
  },
  {
   "cell_type": "code",
   "execution_count": 15,
   "metadata": {
    "id": "ErNDkmns_Zct"
   },
   "outputs": [],
   "source": [
    "# Функция для замены неявных дубликатов\n",
    "\n",
    "def replace_wrong_genres(wrong_genres, correct_genre): # на вход функции подаются список неправильных значений и строка с правильным значением\n",
    "    for wrong_genre in wrong_genres: # перебираем неправильные имена\n",
    "        df['genre'] = df['genre'].replace(wrong_genre, correct_genre) # и для каждого неправильного имени вызываем метод replace()\n",
    "\n",
    "# в списке жанров, кроме неявных дубликатов названия hiphop, так же имеются дубликаты к жанрам 'latino','türkçe', 'electronic'.\n",
    "# Устранить их можно через создание словаря с неверными жанрами и написание цикла с применением метода replace()\n",
    "\n",
    "# dictionary_wrong_genres = { # создание словаря с парами \"неверное название жанра\" - \"верное название жанра\"\n",
    "#    'hip':'hiphop',\n",
    "#    'hip-hop':'hiphop', \n",
    "#    'hop':'hiphop',\n",
    "#    'latin':'latino',\n",
    "#    'türk':'türkçe',\n",
    "#    'электроника': 'electronic'\n",
    "#}\n",
    "\n",
    "#for wrong_genre in dictionary_wrong_genres: # \n",
    "#    df['genre'] = df['genre'].replace(wrong_genre, dictionary_wrong_genres.get(genre))\n",
    "\n",
    "\n"
   ]
  },
  {
   "cell_type": "markdown",
   "metadata": {
    "id": "aDoBJxbA_Zct"
   },
   "source": [
    "Вызовите `replace_wrong_genres()` и передайте ей такие аргументы, чтобы она устранила неявные дубликаты: вместо `hip`, `hop` и `hip-hop` в таблице должно быть значение `hiphop`:"
   ]
  },
  {
   "cell_type": "code",
   "execution_count": 16,
   "metadata": {
    "id": "YN5i2hpmSo09"
   },
   "outputs": [],
   "source": [
    " # Устранение неявных дубликатов\n",
    " hiphop_wrong_genre = ['hip', 'hop', 'hip-hop']\n",
    " hiphop_right_genre = 'hiphop'\n",
    " replace_wrong_genres (hiphop_wrong_genre, hiphop_right_genre)\n",
    " replace_wrong_genres ('latin', 'latino') # не стал вводить переменные для пар неявных дубликатов, которые сосотоят из 1 пары жанров, \n",
    " replace_wrong_genres ('türk', 'türkçe') # чтобы не перегружать алгоритм. Данные переданы напрямую в параметры функции\n",
    " replace_wrong_genres ('электроника', 'electronic')"
   ]
  },
  {
   "cell_type": "markdown",
   "metadata": {
    "id": "zQKF16_RG15m"
   },
   "source": [
    "Проверьте, что заменили неправильные названия:\n",
    "\n",
    "*   hip\n",
    "*   hop\n",
    "*   hip-hop\n",
    "\n",
    "Выведите отсортированный список уникальных значений столбца `genre`:"
   ]
  },
  {
   "cell_type": "code",
   "execution_count": 17,
   "metadata": {
    "id": "wvixALnFG15m"
   },
   "outputs": [
    {
     "data": {
      "text/plain": [
       "['acid',\n",
       " 'acoustic',\n",
       " 'action',\n",
       " 'adult',\n",
       " 'africa',\n",
       " 'afrikaans',\n",
       " 'alternative',\n",
       " 'alternativepunk',\n",
       " 'ambient',\n",
       " 'americana',\n",
       " 'animated',\n",
       " 'anime',\n",
       " 'arabesk',\n",
       " 'arabic',\n",
       " 'arena',\n",
       " 'argentinetango',\n",
       " 'art',\n",
       " 'audiobook',\n",
       " 'author',\n",
       " 'avantgarde',\n",
       " 'axé',\n",
       " 'baile',\n",
       " 'balkan',\n",
       " 'beats',\n",
       " 'bigroom',\n",
       " 'black',\n",
       " 'bluegrass',\n",
       " 'blues',\n",
       " 'bollywood',\n",
       " 'bossa',\n",
       " 'brazilian',\n",
       " 'breakbeat',\n",
       " 'breaks',\n",
       " 'broadway',\n",
       " 'cantautori',\n",
       " 'cantopop',\n",
       " 'canzone',\n",
       " 'caribbean',\n",
       " 'caucasian',\n",
       " 'celtic',\n",
       " 'chamber',\n",
       " 'chanson',\n",
       " 'children',\n",
       " 'chill',\n",
       " 'chinese',\n",
       " 'choral',\n",
       " 'christian',\n",
       " 'christmas',\n",
       " 'classical',\n",
       " 'classicmetal',\n",
       " 'club',\n",
       " 'colombian',\n",
       " 'comedy',\n",
       " 'conjazz',\n",
       " 'contemporary',\n",
       " 'country',\n",
       " 'cuban',\n",
       " 'dance',\n",
       " 'dancehall',\n",
       " 'dancepop',\n",
       " 'dark',\n",
       " 'death',\n",
       " 'deep',\n",
       " 'deutschrock',\n",
       " 'deutschspr',\n",
       " 'dirty',\n",
       " 'disco',\n",
       " 'dnb',\n",
       " 'documentary',\n",
       " 'downbeat',\n",
       " 'downtempo',\n",
       " 'drum',\n",
       " 'dub',\n",
       " 'dubstep',\n",
       " 'eastern',\n",
       " 'easy',\n",
       " 'electronic',\n",
       " 'electropop',\n",
       " 'emo',\n",
       " 'entehno',\n",
       " 'epicmetal',\n",
       " 'estrada',\n",
       " 'ethnic',\n",
       " 'eurofolk',\n",
       " 'european',\n",
       " 'experimental',\n",
       " 'extrememetal',\n",
       " 'fado',\n",
       " 'fairytail',\n",
       " 'film',\n",
       " 'fitness',\n",
       " 'flamenco',\n",
       " 'folk',\n",
       " 'folklore',\n",
       " 'folkmetal',\n",
       " 'folkrock',\n",
       " 'folktronica',\n",
       " 'forró',\n",
       " 'frankreich',\n",
       " 'französisch',\n",
       " 'french',\n",
       " 'funk',\n",
       " 'future',\n",
       " 'gangsta',\n",
       " 'garage',\n",
       " 'german',\n",
       " 'ghazal',\n",
       " 'gitarre',\n",
       " 'glitch',\n",
       " 'gospel',\n",
       " 'gothic',\n",
       " 'grime',\n",
       " 'grunge',\n",
       " 'gypsy',\n",
       " 'handsup',\n",
       " \"hard'n'heavy\",\n",
       " 'hardcore',\n",
       " 'hardstyle',\n",
       " 'hardtechno',\n",
       " 'hiphop',\n",
       " 'historisch',\n",
       " 'holiday',\n",
       " 'horror',\n",
       " 'house',\n",
       " 'hymn',\n",
       " 'idm',\n",
       " 'independent',\n",
       " 'indian',\n",
       " 'indie',\n",
       " 'indipop',\n",
       " 'industrial',\n",
       " 'inspirational',\n",
       " 'instrumental',\n",
       " 'international',\n",
       " 'irish',\n",
       " 'jam',\n",
       " 'japanese',\n",
       " 'jazz',\n",
       " 'jewish',\n",
       " 'jpop',\n",
       " 'jungle',\n",
       " 'k-pop',\n",
       " 'karadeniz',\n",
       " 'karaoke',\n",
       " 'kayokyoku',\n",
       " 'korean',\n",
       " 'laiko',\n",
       " 'latin',\n",
       " 'latino',\n",
       " 'leftfield',\n",
       " 'local',\n",
       " 'lounge',\n",
       " 'loungeelectronic',\n",
       " 'lovers',\n",
       " 'malaysian',\n",
       " 'mandopop',\n",
       " 'marschmusik',\n",
       " 'meditative',\n",
       " 'mediterranean',\n",
       " 'melodic',\n",
       " 'metal',\n",
       " 'metalcore',\n",
       " 'mexican',\n",
       " 'middle',\n",
       " 'minimal',\n",
       " 'miscellaneous',\n",
       " 'modern',\n",
       " 'mood',\n",
       " 'mpb',\n",
       " 'muslim',\n",
       " 'native',\n",
       " 'neoklassik',\n",
       " 'neue',\n",
       " 'new',\n",
       " 'newage',\n",
       " 'newwave',\n",
       " 'nu',\n",
       " 'nujazz',\n",
       " 'numetal',\n",
       " 'oceania',\n",
       " 'old',\n",
       " 'opera',\n",
       " 'orchestral',\n",
       " 'other',\n",
       " 'piano',\n",
       " 'podcasts',\n",
       " 'pop',\n",
       " 'popdance',\n",
       " 'popelectronic',\n",
       " 'popeurodance',\n",
       " 'poprussian',\n",
       " 'post',\n",
       " 'posthardcore',\n",
       " 'postrock',\n",
       " 'power',\n",
       " 'progmetal',\n",
       " 'progressive',\n",
       " 'psychedelic',\n",
       " 'punjabi',\n",
       " 'punk',\n",
       " 'quebecois',\n",
       " 'ragga',\n",
       " 'ram',\n",
       " 'rancheras',\n",
       " 'rap',\n",
       " 'rave',\n",
       " 'reggae',\n",
       " 'reggaeton',\n",
       " 'regional',\n",
       " 'relax',\n",
       " 'religious',\n",
       " 'retro',\n",
       " 'rhythm',\n",
       " 'rnb',\n",
       " 'rnr',\n",
       " 'rock',\n",
       " 'rockabilly',\n",
       " 'rockalternative',\n",
       " 'rockindie',\n",
       " 'rockother',\n",
       " 'romance',\n",
       " 'roots',\n",
       " 'ruspop',\n",
       " 'rusrap',\n",
       " 'rusrock',\n",
       " 'russian',\n",
       " 'salsa',\n",
       " 'samba',\n",
       " 'scenic',\n",
       " 'schlager',\n",
       " 'self',\n",
       " 'sertanejo',\n",
       " 'shanson',\n",
       " 'shoegazing',\n",
       " 'showtunes',\n",
       " 'singer',\n",
       " 'ska',\n",
       " 'skarock',\n",
       " 'slow',\n",
       " 'smooth',\n",
       " 'soft',\n",
       " 'soul',\n",
       " 'soulful',\n",
       " 'sound',\n",
       " 'soundtrack',\n",
       " 'southern',\n",
       " 'specialty',\n",
       " 'speech',\n",
       " 'spiritual',\n",
       " 'sport',\n",
       " 'stonerrock',\n",
       " 'surf',\n",
       " 'swing',\n",
       " 'synthpop',\n",
       " 'synthrock',\n",
       " 'sängerportrait',\n",
       " 'tango',\n",
       " 'tanzorchester',\n",
       " 'taraftar',\n",
       " 'tatar',\n",
       " 'tech',\n",
       " 'techno',\n",
       " 'teen',\n",
       " 'thrash',\n",
       " 'top',\n",
       " 'traditional',\n",
       " 'tradjazz',\n",
       " 'trance',\n",
       " 'tribal',\n",
       " 'trip',\n",
       " 'triphop',\n",
       " 'tropical',\n",
       " 'türk',\n",
       " 'türkçe',\n",
       " 'ukrrock',\n",
       " 'unknown',\n",
       " 'urban',\n",
       " 'uzbek',\n",
       " 'variété',\n",
       " 'vi',\n",
       " 'videogame',\n",
       " 'vocal',\n",
       " 'western',\n",
       " 'world',\n",
       " 'worldbeat',\n",
       " 'ïîï',\n",
       " 'электроника']"
      ]
     },
     "execution_count": 17,
     "metadata": {},
     "output_type": "execute_result"
    }
   ],
   "source": [
    "# Проверка на неявные дубликаты\n",
    "sorted_unique_df_genre=df['genre'].unique()# Просмотр уникальных названий жанров\n",
    "sorted_unique_df_genre=sorted(sorted_unique_df_genre)\n",
    "sorted_unique_df_genre"
   ]
  },
  {
   "cell_type": "markdown",
   "metadata": {},
   "source": [
    "**Неявные дубликаты устранены**"
   ]
  },
  {
   "cell_type": "markdown",
   "metadata": {
    "id": "jz6a9-7HQUDd"
   },
   "source": [
    "**Выводы**\n",
    "\n",
    "Предобработка обнаружила три проблемы в данных:\n",
    "\n",
    "- нарушения в стиле заголовков,\n",
    "- пропущенные значения,\n",
    "- дубликаты — явные и неявные.\n",
    "\n",
    "Вы исправили заголовки, чтобы упростить работу с таблицей. Без дубликатов исследование станет более точным.\n",
    "\n",
    "Пропущенные значения вы заменили на `'unknown'`. Ещё предстоит увидеть, не повредят ли исследованию пропуски в колонке `genre`.\n",
    "\n",
    "Теперь можно перейти к проверке гипотез. "
   ]
  },
  {
   "cell_type": "markdown",
   "metadata": {
    "id": "WttZHXH0SqKk"
   },
   "source": [
    "## Проверка гипотез"
   ]
  },
  {
   "cell_type": "markdown",
   "metadata": {
    "id": "Im936VVi_Zcu"
   },
   "source": [
    "### Сравнение поведения пользователей двух столиц"
   ]
  },
  {
   "cell_type": "markdown",
   "metadata": {
    "id": "nwt_MuaL_Zcu"
   },
   "source": [
    "Первая гипотеза утверждает, что пользователи по-разному слушают музыку в Москве и Санкт-Петербурге. Проверьте это предположение по данным о трёх днях недели — понедельнике, среде и пятнице. Для этого:\n",
    "\n",
    "* Разделите пользователей Москвы и Санкт-Петербурга\n",
    "* Сравните, сколько треков послушала каждая группа пользователей в понедельник, среду и пятницу.\n"
   ]
  },
  {
   "cell_type": "markdown",
   "metadata": {
    "id": "8Dw_YMmT_Zcu"
   },
   "source": [
    "Для тренировки сначала выполните каждый из расчётов по отдельности. \n",
    "\n",
    "Оцените активность пользователей в каждом городе. Сгруппируйте данные по городу и посчитайте прослушивания в каждой группе.\n",
    "\n"
   ]
  },
  {
   "cell_type": "code",
   "execution_count": 18,
   "metadata": {
    "id": "0_Qs96oh_Zcu"
   },
   "outputs": [
    {
     "data": {
      "text/plain": [
       "city\n",
       "Moscow              42741\n",
       "Saint-Petersburg    18512\n",
       "Name: user_id, dtype: int64"
      ]
     },
     "execution_count": 18,
     "metadata": {},
     "output_type": "execute_result"
    }
   ],
   "source": [
    "df.groupby('city')['user_id'].count() # Подсчёт прослушиваний в каждом городе"
   ]
  },
  {
   "cell_type": "markdown",
   "metadata": {
    "id": "dzli3w8o_Zcu"
   },
   "source": [
    "В Москве прослушиваний больше, чем в Петербурге. Из этого не следует, что московские пользователи чаще слушают музыку. Просто самих пользователей в Москве больше.\n",
    "\n",
    "Теперь сгруппируйте данные по дню недели и подсчитайте прослушивания в понедельник, среду и пятницу. Учтите, что в данных есть информация только о прослушиваниях только за эти дни.\n"
   ]
  },
  {
   "cell_type": "code",
   "execution_count": 19,
   "metadata": {
    "id": "uZMKjiJz_Zcu"
   },
   "outputs": [
    {
     "data": {
      "text/plain": [
       "day\n",
       "Friday       21840\n",
       "Monday       21354\n",
       "Wednesday    18059\n",
       "Name: user_id, dtype: int64"
      ]
     },
     "execution_count": 19,
     "metadata": {},
     "output_type": "execute_result"
    }
   ],
   "source": [
    "df.groupby('day')['user_id'].count()# Подсчёт прослушиваний в каждый из трёх дней"
   ]
  },
  {
   "cell_type": "markdown",
   "metadata": {
    "id": "cC2tNrlL_Zcu"
   },
   "source": [
    "В среднем пользователи из двух городов менее активны по средам. Но картина может измениться, если рассмотреть каждый город в отдельности."
   ]
  },
  {
   "cell_type": "markdown",
   "metadata": {
    "id": "POzs8bGa_Zcu"
   },
   "source": [
    "Вы видели, как работает группировка по городу и по дням недели. Теперь напишите функцию, которая объединит два эти расчёта.\n",
    "\n",
    "Создайте функцию `number_tracks()`, которая посчитает прослушивания для заданного дня и города. Ей понадобятся два параметра:\n",
    "* день недели,\n",
    "* название города.\n",
    "\n",
    "В функции сохраните в переменную строки исходной таблицы, у которых значение:\n",
    "  * в колонке `day` равно параметру `day`,\n",
    "  * в колонке `city` равно параметру `city`.\n",
    "\n",
    "Для этого примените последовательную фильтрацию с логической индексацией.\n",
    "\n",
    "Затем посчитайте значения в столбце `user_id` получившейся таблицы. Результат сохраните в новую переменную. Верните эту переменную из функции."
   ]
  },
  {
   "cell_type": "code",
   "execution_count": 20,
   "metadata": {
    "id": "Nz3GdQB1_Zcu"
   },
   "outputs": [],
   "source": [
    "# <создание функции number_tracks()>\n",
    "# Объявляется функция с двумя параметрами: day, city.\n",
    "# В переменной track_list сохраняются те строки таблицы df, для которых \n",
    "# значение в столбце 'day' равно параметру day и одновременно значение\n",
    "# в столбце 'city' равно параметру city (используйте последовательную фильтрацию\n",
    "# с помощью логической индексации).\n",
    "# В переменной track_list_count сохраняется число значений столбца 'user_id',\n",
    "# рассчитанное методом count() для таблицы track_list.\n",
    "# Функция возвращает число - значение track_list_count.\n",
    "\n",
    "# Функция для подсчёта прослушиваний для конкретного города и дня.\n",
    "# С помощью последовательной фильтрации с логической индексацией она \n",
    "# сначала получит из исходной таблицы строки с нужным днём,\n",
    "# затем из результата отфильтрует строки с нужным городом,\n",
    "# методом count() посчитает количество значений в колонке user_id. \n",
    "# Это количество функция вернёт в качестве результата\n",
    "\n",
    "def number_tracks (day, city):\n",
    "    track_list = df[df['day'] == day]\n",
    "    track_list = track_list[track_list['city'] == city]\n",
    "    track_list_count = track_list['user_id'].count()\n",
    "    return track_list_count"
   ]
  },
  {
   "cell_type": "markdown",
   "metadata": {
    "id": "ytf7xFrFJQ2r"
   },
   "source": [
    "Вызовите `number_tracks()` шесть раз, меняя значение параметров — так, чтобы получить данные для каждого города в каждый из трёх дней."
   ]
  },
  {
   "cell_type": "code",
   "execution_count": 21,
   "metadata": {
    "id": "rJcRATNQ_Zcu"
   },
   "outputs": [
    {
     "data": {
      "text/plain": [
       "15740"
      ]
     },
     "execution_count": 21,
     "metadata": {},
     "output_type": "execute_result"
    }
   ],
   "source": [
    "number_tracks('Monday', 'Moscow')\n",
    "# количество прослушиваний в Москве по понедельникам"
   ]
  },
  {
   "cell_type": "code",
   "execution_count": 22,
   "metadata": {
    "id": "hq_ncZ5T_Zcu"
   },
   "outputs": [
    {
     "data": {
      "text/plain": [
       "5614"
      ]
     },
     "execution_count": 22,
     "metadata": {},
     "output_type": "execute_result"
    }
   ],
   "source": [
    "number_tracks('Monday', 'Saint-Petersburg')\n",
    "# количество прослушиваний в Санкт-Петербурге по понедельникам"
   ]
  },
  {
   "cell_type": "code",
   "execution_count": 23,
   "metadata": {
    "id": "_NTy2VPU_Zcu"
   },
   "outputs": [
    {
     "data": {
      "text/plain": [
       "11056"
      ]
     },
     "execution_count": 23,
     "metadata": {},
     "output_type": "execute_result"
    }
   ],
   "source": [
    "number_tracks('Wednesday', 'Moscow')# количество прослушиваний в Москве по средам"
   ]
  },
  {
   "cell_type": "code",
   "execution_count": 24,
   "metadata": {
    "id": "j2y3TAwo_Zcu"
   },
   "outputs": [
    {
     "data": {
      "text/plain": [
       "7003"
      ]
     },
     "execution_count": 24,
     "metadata": {},
     "output_type": "execute_result"
    }
   ],
   "source": [
    "number_tracks('Wednesday', 'Saint-Petersburg')# количество прослушиваний в Санкт-Петербурге по средам"
   ]
  },
  {
   "cell_type": "code",
   "execution_count": 25,
   "metadata": {
    "id": "vYDw5u_K_Zcu"
   },
   "outputs": [
    {
     "data": {
      "text/plain": [
       "15945"
      ]
     },
     "execution_count": 25,
     "metadata": {},
     "output_type": "execute_result"
    }
   ],
   "source": [
    "number_tracks('Friday', 'Moscow')# количество прослушиваний в Москве по пятницам"
   ]
  },
  {
   "cell_type": "code",
   "execution_count": 26,
   "metadata": {
    "id": "8_yzFtW3_Zcu"
   },
   "outputs": [
    {
     "data": {
      "text/plain": [
       "5895"
      ]
     },
     "execution_count": 26,
     "metadata": {},
     "output_type": "execute_result"
    }
   ],
   "source": [
    "number_tracks('Friday', 'Saint-Petersburg')# количество прослушиваний в Санкт-Петербурге по пятницам"
   ]
  },
  {
   "cell_type": "markdown",
   "metadata": {
    "id": "7QXffbO-_Zcu"
   },
   "source": [
    "Создайте c помощью конструктора `pd.DataFrame` таблицу, где\n",
    "* названия колонок — `['city', 'monday', 'wednesday', 'friday']`;\n",
    "* данные — результаты, которые вы получили с помощью `number_tracks`."
   ]
  },
  {
   "cell_type": "code",
   "execution_count": 27,
   "metadata": {
    "id": "APAcLpOr_Zcu"
   },
   "outputs": [
    {
     "data": {
      "text/html": [
       "<div>\n",
       "<style scoped>\n",
       "    .dataframe tbody tr th:only-of-type {\n",
       "        vertical-align: middle;\n",
       "    }\n",
       "\n",
       "    .dataframe tbody tr th {\n",
       "        vertical-align: top;\n",
       "    }\n",
       "\n",
       "    .dataframe thead th {\n",
       "        text-align: right;\n",
       "    }\n",
       "</style>\n",
       "<table border=\"1\" class=\"dataframe\">\n",
       "  <thead>\n",
       "    <tr style=\"text-align: right;\">\n",
       "      <th></th>\n",
       "      <th>city</th>\n",
       "      <th>monday</th>\n",
       "      <th>wednesday</th>\n",
       "      <th>friday</th>\n",
       "    </tr>\n",
       "  </thead>\n",
       "  <tbody>\n",
       "    <tr>\n",
       "      <td>0</td>\n",
       "      <td>Moscow</td>\n",
       "      <td>15740</td>\n",
       "      <td>11056</td>\n",
       "      <td>15945</td>\n",
       "    </tr>\n",
       "    <tr>\n",
       "      <td>1</td>\n",
       "      <td>Saint-Petersburg</td>\n",
       "      <td>5614</td>\n",
       "      <td>7003</td>\n",
       "      <td>5895</td>\n",
       "    </tr>\n",
       "  </tbody>\n",
       "</table>\n",
       "</div>"
      ],
      "text/plain": [
       "               city  monday  wednesday  friday\n",
       "0            Moscow   15740      11056   15945\n",
       "1  Saint-Petersburg    5614       7003    5895"
      ]
     },
     "execution_count": 27,
     "metadata": {},
     "output_type": "execute_result"
    }
   ],
   "source": [
    "columns_name = ['city', 'monday', 'wednesday', 'friday']\n",
    "number_tracks_results = [['Moscow', 15740, 11056, 15945], ['Saint-Petersburg', 5614, 7003, 5895]]\n",
    "number_tracks_df = pd.DataFrame(data=number_tracks_results, columns=columns_name)\n",
    "number_tracks_df\n",
    "# Таблица с результатами"
   ]
  },
  {
   "cell_type": "markdown",
   "metadata": {
    "id": "-EgPIHYu_Zcu"
   },
   "source": [
    "**Выводы**\n",
    "\n",
    "Данные показывают разницу поведения пользователей:\n",
    "\n",
    "- В Москве пик прослушиваний приходится на понедельник и пятницу, а в среду заметен спад.\n",
    "- В Петербурге, наоборот, больше слушают музыку по средам. Активность в понедельник и пятницу здесь почти в равной мере уступает среде.\n",
    "\n",
    "Значит, данные говорят в пользу первой гипотезы."
   ]
  },
  {
   "cell_type": "markdown",
   "metadata": {
    "id": "atZAxtq4_Zcu"
   },
   "source": [
    "### Музыка в начале и в конце недели"
   ]
  },
  {
   "cell_type": "markdown",
   "metadata": {
    "id": "eXrQqXFH_Zcu"
   },
   "source": [
    "Согласно второй гипотезе, утром в понедельник в Москве преобладают одни жанры, а в Петербурге — другие. Так же и вечером пятницы преобладают разные жанры — в зависимости от города."
   ]
  },
  {
   "cell_type": "markdown",
   "metadata": {
    "id": "S8UcW6Hw_Zcu"
   },
   "source": [
    "Сохраните таблицы с данными в две переменные:\n",
    "* по Москве — в `moscow_general`;\n",
    "* по Санкт-Петербургу — в `spb_general`."
   ]
  },
  {
   "cell_type": "code",
   "execution_count": 28,
   "metadata": {
    "id": "qeaFfM_P_Zcu"
   },
   "outputs": [],
   "source": [
    "# получение таблицы moscow_general из тех строк таблицы df, \n",
    "# для которых значение в столбце 'city' равно 'Moscow'\n",
    "moscow_general = df[df['city'] == 'Moscow']\n"
   ]
  },
  {
   "cell_type": "code",
   "execution_count": 29,
   "metadata": {
    "id": "ORaVRKto_Zcu"
   },
   "outputs": [],
   "source": [
    "# получение таблицы spb_general из тех строк таблицы df,\n",
    "# для которых значение в столбце 'city' равно 'Saint-Petersburg'\n",
    "spb_general = df[df['city'] == 'Saint-Petersburg']"
   ]
  },
  {
   "cell_type": "markdown",
   "metadata": {
    "id": "MEJV-CX2_Zcu"
   },
   "source": [
    "Создайте функцию `genre_weekday()` с четырьмя параметрами:\n",
    "* таблица (датафрейм) с данными,\n",
    "* день недели,\n",
    "* начальная временная метка в формате 'hh:mm', \n",
    "* последняя временная метка в формате 'hh:mm'.\n",
    "\n",
    "Функция должна вернуть информацию о топ-10 жанров тех треков, которые прослушивали в указанный день, в промежутке между двумя отметками времени."
   ]
  },
  {
   "cell_type": "code",
   "execution_count": 30,
   "metadata": {
    "id": "laJT9BYl_Zcu"
   },
   "outputs": [],
   "source": [
    "# Объявление функции genre_weekday() с параметрами table, day, time1, time2,\n",
    "# которая возвращает информацию о самых популярных жанрах в указанный день в\n",
    "# заданное время:\n",
    "# 1) в переменную genre_df сохраняются те строки переданного датафрейма table, для\n",
    "#    которых одновременно:\n",
    "#    - значение в столбце day равно значению аргумента day\n",
    "#    - значение в столбце time больше значения аргумента time1\n",
    "#    - значение в столбце time меньше значения аргумента time2\n",
    "#    Используйте последовательную фильтрацию с помощью логической индексации.\n",
    "# 2) сгруппировать датафрейм genre_df по столбцу genre, взять один из его\n",
    "#    столбцов и посчитать методом count() количество записей для каждого из\n",
    "#    присутствующих жанров, получившийся Series записать в переменную\n",
    "#    genre_df_count\n",
    "# 3) отсортировать genre_df_count по убыванию встречаемости и сохранить\n",
    "#    в переменную genre_df_sorted\n",
    "# 4) вернуть Series из 10 первых значений genre_df_sorted, это будут топ-10\n",
    "#    популярных жанров (в указанный день, в заданное время)\n",
    "def genre_weekday(table, day, time1, time2):\n",
    "    genre_df = table[table['day'] == day]\n",
    "    genre_df = genre_df[genre_df['time'] > time1]\n",
    "    genre_df = genre_df[genre_df['time'] < time2]\n",
    "    genre_df_count = genre_df.groupby('genre')['user_id'].count()\n",
    "    genre_df_sorted = genre_df_count.sort_values(ascending=False) \n",
    "    return genre_df_sorted.head(10)    "
   ]
  },
  {
   "cell_type": "markdown",
   "metadata": {
    "id": "la2s2_PF_Zcu"
   },
   "source": [
    "Cравните результаты функции `genre_weekday()` для Москвы и Санкт-Петербурга в понедельник утром (с 7:00 до 11:00) и в пятницу вечером (с 17:00 до 23:00):"
   ]
  },
  {
   "cell_type": "code",
   "execution_count": 31,
   "metadata": {
    "id": "yz7itPUQ_Zcu"
   },
   "outputs": [
    {
     "data": {
      "text/plain": [
       "genre\n",
       "pop            781\n",
       "dance          549\n",
       "electronic     480\n",
       "rock           474\n",
       "hiphop         286\n",
       "ruspop         186\n",
       "world          181\n",
       "rusrap         175\n",
       "alternative    164\n",
       "unknown        161\n",
       "Name: user_id, dtype: int64"
      ]
     },
     "execution_count": 31,
     "metadata": {},
     "output_type": "execute_result"
    }
   ],
   "source": [
    "# вызов функции для утра понедельника в Москве (вместо df — таблица moscow_general)\n",
    "# объекты, хранящие время, являются строками и сравниваются как строки\n",
    "# пример вызова: genre_weekday(moscow_general, 'Monday', '07:00', '11:00')\n",
    "genre_weekday(moscow_general, 'Monday', '07:00', '11:00')"
   ]
  },
  {
   "cell_type": "code",
   "execution_count": 32,
   "metadata": {
    "id": "kwUcHPdy_Zcu"
   },
   "outputs": [
    {
     "data": {
      "text/plain": [
       "genre\n",
       "pop            218\n",
       "dance          182\n",
       "rock           162\n",
       "electronic     147\n",
       "hiphop          80\n",
       "ruspop          64\n",
       "alternative     58\n",
       "rusrap          55\n",
       "jazz            44\n",
       "classical       40\n",
       "Name: user_id, dtype: int64"
      ]
     },
     "execution_count": 32,
     "metadata": {},
     "output_type": "execute_result"
    }
   ],
   "source": [
    "genre_weekday(spb_general, 'Monday', '07:00', '11:00')# вызов функции для утра понедельника в Петербурге (вместо df — таблица spb_general)"
   ]
  },
  {
   "cell_type": "code",
   "execution_count": 33,
   "metadata": {
    "id": "EzXVRE1o_Zcu"
   },
   "outputs": [
    {
     "data": {
      "text/plain": [
       "genre\n",
       "pop            713\n",
       "rock           517\n",
       "dance          495\n",
       "electronic     482\n",
       "hiphop         273\n",
       "world          208\n",
       "ruspop         170\n",
       "alternative    163\n",
       "classical      163\n",
       "rusrap         142\n",
       "Name: user_id, dtype: int64"
      ]
     },
     "execution_count": 33,
     "metadata": {},
     "output_type": "execute_result"
    }
   ],
   "source": [
    "genre_weekday(moscow_general, 'Friday', '17:00', '23:00') # вызов функции для вечера пятницы в Москве"
   ]
  },
  {
   "cell_type": "code",
   "execution_count": 34,
   "metadata": {
    "id": "JZaEKu5v_Zcu"
   },
   "outputs": [
    {
     "data": {
      "text/plain": [
       "genre\n",
       "pop            256\n",
       "rock           216\n",
       "electronic     216\n",
       "dance          210\n",
       "hiphop          97\n",
       "alternative     63\n",
       "jazz            61\n",
       "classical       60\n",
       "rusrap          59\n",
       "world           54\n",
       "Name: user_id, dtype: int64"
      ]
     },
     "execution_count": 34,
     "metadata": {},
     "output_type": "execute_result"
    }
   ],
   "source": [
    "genre_weekday(spb_general, 'Friday', '17:00', '23:00')# вызов функции для вечера пятницы в Петербурге"
   ]
  },
  {
   "cell_type": "markdown",
   "metadata": {
    "id": "wrCe4MNX_Zcu"
   },
   "source": [
    "**Выводы**\n",
    "\n",
    "Если сравнить топ-10 жанров в понедельник утром, можно сделать такие выводы:\n",
    "\n",
    "1. В Москве и Петербурге слушают похожую музыку. Единственное отличие — в московский рейтинг вошёл жанр “world”, а в петербургский — джаз и классика.\n",
    "\n",
    "2. В Москве пропущенных значений оказалось так много, что значение `'unknown'` заняло десятое место среди самых популярных жанров. Значит, пропущенные значения занимают существенную долю в данных и угрожают достоверности исследования.\n",
    "\n",
    "Вечер пятницы не меняет эту картину. Некоторые жанры поднимаются немного выше, другие спускаются, но в целом топ-10 остаётся тем же самым.\n",
    "\n",
    "Таким образом, вторая гипотеза подтвердилась лишь частично:\n",
    "* Пользователи слушают похожую музыку в начале недели и в конце.\n",
    "* Разница между Москвой и Петербургом не слишком выражена. В Москве чаще слушают русскую популярную музыку, в Петербурге — джаз.\n",
    "\n",
    "Однако пропуски в данных ставят под сомнение этот результат. В Москве их так много, что рейтинг топ-10 мог бы выглядеть иначе, если бы не утерянные  данные о жанрах."
   ]
  },
  {
   "cell_type": "markdown",
   "metadata": {
    "id": "JolODAqr_Zcu"
   },
   "source": [
    "### Жанровые предпочтения в Москве и Петербурге\n",
    "\n",
    "Гипотеза: Петербург — столица рэпа, музыку этого жанра там слушают чаще, чем в Москве.  А Москва — город контрастов, в котором, тем не менее, преобладает поп-музыка."
   ]
  },
  {
   "cell_type": "markdown",
   "metadata": {
    "id": "DlegSvaT_Zcu"
   },
   "source": [
    "Сгруппируйте таблицу `moscow_general` по жанру и посчитайте прослушивания треков каждого жанра методом `count()`. Затем отсортируйте результат в порядке убывания и сохраните его в таблице `moscow_genres`."
   ]
  },
  {
   "cell_type": "code",
   "execution_count": 35,
   "metadata": {
    "id": "r19lIPke_Zcu"
   },
   "outputs": [],
   "source": [
    "# одной строкой: группировка таблицы moscow_general по столбцу 'genre', \n",
    "# подсчёт числа значений 'genre' в этой группировке методом count(), \n",
    "# сортировка получившегося Series в порядке убывания и сохранение в moscow_genres\n",
    "moscow_genres = moscow_general.groupby('genre')['genre'].count().sort_values(ascending=False)"
   ]
  },
  {
   "cell_type": "markdown",
   "metadata": {
    "id": "6kMuomxTiIr8"
   },
   "source": [
    "Выведите на экран первые десять строк `moscow_genres`:"
   ]
  },
  {
   "cell_type": "code",
   "execution_count": 36,
   "metadata": {
    "id": "WhCSooF8_Zcv"
   },
   "outputs": [
    {
     "data": {
      "text/plain": [
       "genre\n",
       "pop            5892\n",
       "dance          4435\n",
       "rock           3965\n",
       "electronic     3786\n",
       "hiphop         2096\n",
       "classical      1616\n",
       "world          1432\n",
       "alternative    1379\n",
       "ruspop         1372\n",
       "rusrap         1161\n",
       "Name: genre, dtype: int64"
      ]
     },
     "execution_count": 36,
     "metadata": {},
     "output_type": "execute_result"
    }
   ],
   "source": [
    "moscow_genres.head(10) # просмотр первых 10 строк moscow_genres"
   ]
  },
  {
   "cell_type": "markdown",
   "metadata": {
    "id": "cnPG2vnN_Zcv"
   },
   "source": [
    "Теперь повторите то же и для Петербурга.\n",
    "\n",
    "Сгруппируйте таблицу `spb_general` по жанру. Посчитайте прослушивания треков каждого жанра. Результат отсортируйте в порядке убывания и сохраните в таблице `spb_genres`:\n"
   ]
  },
  {
   "cell_type": "code",
   "execution_count": 37,
   "metadata": {
    "id": "gluLIpE7_Zcv"
   },
   "outputs": [],
   "source": [
    "# одной строкой: группировка таблицы spb_general по столбцу 'genre', \n",
    "# подсчёт числа значений 'genre' в этой группировке методом count(), \n",
    "# сортировка получившегося Series в порядке убывания и сохранение в spb_genres\n",
    "spb_genres = spb_general.groupby('genre')['genre'].count().sort_values(ascending=False)"
   ]
  },
  {
   "cell_type": "markdown",
   "metadata": {
    "id": "5Doha_ODgyQ8"
   },
   "source": [
    "Выведите на экран первые десять строк `spb_genres`:"
   ]
  },
  {
   "cell_type": "code",
   "execution_count": 38,
   "metadata": {
    "id": "uaGJHjVU_Zcv"
   },
   "outputs": [
    {
     "data": {
      "text/plain": [
       "genre\n",
       "pop            2431\n",
       "dance          1932\n",
       "rock           1879\n",
       "electronic     1736\n",
       "hiphop          960\n",
       "alternative     649\n",
       "classical       646\n",
       "rusrap          564\n",
       "ruspop          538\n",
       "world           515\n",
       "Name: genre, dtype: int64"
      ]
     },
     "execution_count": 38,
     "metadata": {},
     "output_type": "execute_result"
    }
   ],
   "source": [
    "spb_genres.head(10) # просмотр первых 10 строк spb_genres"
   ]
  },
  {
   "cell_type": "markdown",
   "metadata": {
    "id": "RY51YJYu_Zcv"
   },
   "source": [
    "**Выводы**"
   ]
  },
  {
   "cell_type": "markdown",
   "metadata": {
    "id": "nVhnJEm__Zcv"
   },
   "source": [
    "Гипотеза частично подтвердилась:\n",
    "* Поп-музыка — самый популярный жанр в Москве, как и предполагала гипотеза. Более того, в топ-10 жанров встречается близкий жанр — русская популярная музыка.\n",
    "* Вопреки ожиданиям, рэп одинаково популярен в Москве и Петербурге. \n"
   ]
  },
  {
   "cell_type": "markdown",
   "metadata": {
    "id": "ykKQ0N65_Zcv"
   },
   "source": [
    "## Итоги исследования"
   ]
  },
  {
   "cell_type": "markdown",
   "metadata": {
    "id": "tjUwbHb3_Zcv"
   },
   "source": [
    "Вы проверили три гипотезы и установили:\n",
    "\n",
    "1. День недели по-разному влияет на активность пользователей в Москве и Петербурге. \n",
    "\n",
    "Первая гипотеза полностью подтвердилась.\n",
    "\n",
    "2. Музыкальные предпочтения не сильно меняются в течение недели — будь то Москва или Петербург. Небольшие различия заметны в начале недели, по понедельникам:\n",
    "* в Москве слушают музыку жанра “world”,\n",
    "* в Петербурге — джаз и классику.\n",
    "\n",
    "Таким образом, вторая гипотеза подтвердилась лишь отчасти. Этот результат мог оказаться иным, если бы не пропуски в данных.\n",
    "\n",
    "3. Во вкусах пользователей Москвы и Петербурга больше общего чем различий. Вопреки ожиданиям, предпочтения жанров в Петербурге напоминают московские.\n",
    "\n",
    "Третья гипотеза не подтвердилась. Если различия в предпочтениях и существуют, на основной массе пользователей они незаметны.\n",
    "\n",
    "**На практике исследования содержат проверки статистических гипотез.**\n",
    "Из данных одного сервиса не всегда можно сделать вывод о всех жителях города.\n",
    "Проверки статистических гипотез покажут, насколько они достоверны, исходя из имеющихся данных. \n",
    "С методами проверок гипотез вы ещё познакомитесь в следующих темах."
   ]
  }
 ],
 "metadata": {
  "ExecuteTimeLog": [
   {
    "duration": 275,
    "start_time": "2022-01-09T05:42:27.489Z"
   },
   {
    "duration": 549,
    "start_time": "2022-01-09T05:42:39.799Z"
   },
   {
    "duration": 134,
    "start_time": "2022-01-09T05:42:42.763Z"
   },
   {
    "duration": 16,
    "start_time": "2022-01-09T05:43:14.429Z"
   },
   {
    "duration": 25,
    "start_time": "2022-01-09T05:43:58.177Z"
   },
   {
    "duration": 4,
    "start_time": "2022-01-09T05:44:59.020Z"
   },
   {
    "duration": 86,
    "start_time": "2022-01-09T05:48:28.586Z"
   },
   {
    "duration": 22,
    "start_time": "2022-01-09T05:48:49.237Z"
   },
   {
    "duration": 4,
    "start_time": "2022-01-09T05:49:05.709Z"
   },
   {
    "duration": 21,
    "start_time": "2022-01-09T06:01:41.649Z"
   },
   {
    "duration": 101,
    "start_time": "2022-01-09T06:26:56.404Z"
   },
   {
    "duration": 3,
    "start_time": "2022-01-09T06:27:31.949Z"
   },
   {
    "duration": 46,
    "start_time": "2022-01-09T06:30:38.222Z"
   },
   {
    "duration": 18,
    "start_time": "2022-01-09T06:31:03.756Z"
   },
   {
    "duration": 17,
    "start_time": "2022-01-09T06:31:08.182Z"
   },
   {
    "duration": 23,
    "start_time": "2022-01-09T06:31:46.316Z"
   },
   {
    "duration": 54,
    "start_time": "2022-01-09T06:32:52.296Z"
   },
   {
    "duration": 66,
    "start_time": "2022-01-09T06:33:42.743Z"
   },
   {
    "duration": 48,
    "start_time": "2022-01-09T06:33:52.408Z"
   },
   {
    "duration": 7,
    "start_time": "2022-01-09T06:39:17.800Z"
   },
   {
    "duration": 480,
    "start_time": "2022-01-09T06:40:19.060Z"
   },
   {
    "duration": 280,
    "start_time": "2022-01-09T06:41:20.795Z"
   },
   {
    "duration": 251,
    "start_time": "2022-01-09T06:43:01.020Z"
   },
   {
    "duration": 243,
    "start_time": "2022-01-09T06:46:15.751Z"
   },
   {
    "duration": 246,
    "start_time": "2022-01-09T06:46:57.240Z"
   },
   {
    "duration": 77,
    "start_time": "2022-01-09T06:48:13.842Z"
   },
   {
    "duration": 131,
    "start_time": "2022-01-09T06:49:05.783Z"
   },
   {
    "duration": 246,
    "start_time": "2022-01-09T06:51:00.146Z"
   },
   {
    "duration": 267,
    "start_time": "2022-01-09T06:52:21.073Z"
   },
   {
    "duration": 312,
    "start_time": "2022-01-09T06:53:53.515Z"
   },
   {
    "duration": 279,
    "start_time": "2022-01-09T06:53:58.730Z"
   },
   {
    "duration": 5,
    "start_time": "2022-01-09T06:54:40.518Z"
   },
   {
    "duration": 5,
    "start_time": "2022-01-09T06:54:42.985Z"
   },
   {
    "duration": 7,
    "start_time": "2022-01-09T06:55:02.172Z"
   },
   {
    "duration": 6,
    "start_time": "2022-01-09T06:56:33.622Z"
   },
   {
    "duration": 6,
    "start_time": "2022-01-09T06:56:36.109Z"
   },
   {
    "duration": 5,
    "start_time": "2022-01-09T06:56:43.194Z"
   },
   {
    "duration": 5,
    "start_time": "2022-01-09T06:57:04.415Z"
   },
   {
    "duration": 6,
    "start_time": "2022-01-09T06:57:16.916Z"
   },
   {
    "duration": 5,
    "start_time": "2022-01-09T06:57:53.431Z"
   },
   {
    "duration": 10,
    "start_time": "2022-01-09T07:06:34.790Z"
   },
   {
    "duration": 242,
    "start_time": "2022-01-09T07:10:56.790Z"
   },
   {
    "duration": 26,
    "start_time": "2022-01-09T07:12:59.078Z"
   },
   {
    "duration": 24,
    "start_time": "2022-01-09T07:13:38.996Z"
   },
   {
    "duration": 33,
    "start_time": "2022-01-09T07:15:08.414Z"
   },
   {
    "duration": 10,
    "start_time": "2022-01-09T07:40:55.472Z"
   },
   {
    "duration": 34,
    "start_time": "2022-01-09T08:52:30.821Z"
   },
   {
    "duration": 36,
    "start_time": "2022-01-09T08:52:32.576Z"
   },
   {
    "duration": 24,
    "start_time": "2022-01-09T08:53:03.966Z"
   },
   {
    "duration": 22,
    "start_time": "2022-01-09T08:54:09.541Z"
   },
   {
    "duration": 23,
    "start_time": "2022-01-09T08:58:35.678Z"
   },
   {
    "duration": 22,
    "start_time": "2022-01-09T08:59:37.867Z"
   },
   {
    "duration": 23,
    "start_time": "2022-01-09T09:00:28.578Z"
   },
   {
    "duration": 3,
    "start_time": "2022-01-09T09:33:22.098Z"
   },
   {
    "duration": 41,
    "start_time": "2022-01-09T09:52:22.902Z"
   },
   {
    "duration": 10,
    "start_time": "2022-01-09T09:53:17.394Z"
   },
   {
    "duration": 270,
    "start_time": "2022-01-09T12:51:04.788Z"
   },
   {
    "duration": 13,
    "start_time": "2022-01-09T12:51:30.784Z"
   },
   {
    "duration": 241,
    "start_time": "2022-01-09T12:53:11.294Z"
   },
   {
    "duration": 247,
    "start_time": "2022-01-09T12:55:48.934Z"
   },
   {
    "duration": 12,
    "start_time": "2022-01-09T12:56:05.901Z"
   },
   {
    "duration": 270,
    "start_time": "2022-01-09T12:56:37.257Z"
   },
   {
    "duration": 303,
    "start_time": "2022-01-09T12:56:52.942Z"
   },
   {
    "duration": 410,
    "start_time": "2022-01-09T12:57:01.508Z"
   },
   {
    "duration": 261,
    "start_time": "2022-01-09T12:59:06.733Z"
   },
   {
    "duration": 12,
    "start_time": "2022-01-09T12:59:21.435Z"
   },
   {
    "duration": 235,
    "start_time": "2022-01-09T13:03:09.409Z"
   },
   {
    "duration": 32,
    "start_time": "2022-01-09T13:03:38.000Z"
   },
   {
    "duration": 31,
    "start_time": "2022-01-09T13:04:35.187Z"
   },
   {
    "duration": 5,
    "start_time": "2022-01-09T13:33:44.067Z"
   },
   {
    "duration": 7,
    "start_time": "2022-01-09T13:33:46.481Z"
   },
   {
    "duration": 243,
    "start_time": "2022-01-09T13:35:15.480Z"
   },
   {
    "duration": -590,
    "start_time": "2022-01-09T13:36:08.834Z"
   },
   {
    "duration": -465,
    "start_time": "2022-01-09T13:36:40.339Z"
   },
   {
    "duration": 3470,
    "start_time": "2022-01-09T13:37:57.229Z"
   },
   {
    "duration": 3862,
    "start_time": "2022-01-09T13:38:01.271Z"
   },
   {
    "duration": -838,
    "start_time": "2022-01-09T13:38:24.743Z"
   },
   {
    "duration": 4755,
    "start_time": "2022-01-09T13:38:27.240Z"
   },
   {
    "duration": -395,
    "start_time": "2022-01-09T13:38:32.393Z"
   },
   {
    "duration": -398,
    "start_time": "2022-01-09T13:38:32.397Z"
   },
   {
    "duration": -398,
    "start_time": "2022-01-09T13:38:32.399Z"
   },
   {
    "duration": -448,
    "start_time": "2022-01-09T13:40:27.065Z"
   },
   {
    "duration": 3828,
    "start_time": "2022-01-09T13:40:33.404Z"
   },
   {
    "duration": 4,
    "start_time": "2022-01-09T13:41:33.228Z"
   },
   {
    "duration": 4366,
    "start_time": "2022-01-09T13:41:40.433Z"
   },
   {
    "duration": 4,
    "start_time": "2022-01-09T13:43:17.902Z"
   },
   {
    "duration": 18,
    "start_time": "2022-01-09T13:43:26.205Z"
   },
   {
    "duration": 17,
    "start_time": "2022-01-09T14:46:09.174Z"
   },
   {
    "duration": 15,
    "start_time": "2022-01-09T14:47:18.295Z"
   },
   {
    "duration": 17,
    "start_time": "2022-01-09T14:50:06.962Z"
   },
   {
    "duration": 15,
    "start_time": "2022-01-09T14:50:08.156Z"
   },
   {
    "duration": 18,
    "start_time": "2022-01-09T14:50:08.771Z"
   },
   {
    "duration": 18,
    "start_time": "2022-01-09T14:50:09.154Z"
   },
   {
    "duration": 9,
    "start_time": "2022-01-09T14:58:21.146Z"
   },
   {
    "duration": 11,
    "start_time": "2022-01-09T15:02:48.725Z"
   },
   {
    "duration": 23,
    "start_time": "2022-01-09T15:02:56.893Z"
   },
   {
    "duration": 11,
    "start_time": "2022-01-09T15:03:06.728Z"
   },
   {
    "duration": 4,
    "start_time": "2022-01-09T15:13:30.466Z"
   },
   {
    "duration": 3,
    "start_time": "2022-01-09T15:13:42.007Z"
   },
   {
    "duration": 471,
    "start_time": "2022-01-09T15:15:01.000Z"
   },
   {
    "duration": 18,
    "start_time": "2022-01-09T15:22:05.955Z"
   },
   {
    "duration": 25,
    "start_time": "2022-01-09T15:22:14.451Z"
   },
   {
    "duration": 20,
    "start_time": "2022-01-09T15:22:25.290Z"
   },
   {
    "duration": 28,
    "start_time": "2022-01-09T15:22:38.330Z"
   },
   {
    "duration": 25,
    "start_time": "2022-01-09T15:22:45.150Z"
   },
   {
    "duration": 32,
    "start_time": "2022-01-09T15:23:17.227Z"
   },
   {
    "duration": 18,
    "start_time": "2022-01-09T15:23:34.021Z"
   },
   {
    "duration": 25,
    "start_time": "2022-01-09T15:24:07.912Z"
   },
   {
    "duration": 18,
    "start_time": "2022-01-09T15:24:29.475Z"
   },
   {
    "duration": 19,
    "start_time": "2022-01-09T15:24:55.930Z"
   },
   {
    "duration": 12,
    "start_time": "2022-01-09T15:26:14.792Z"
   },
   {
    "duration": 15,
    "start_time": "2022-01-09T15:26:16.964Z"
   },
   {
    "duration": 29,
    "start_time": "2022-01-09T15:26:23.529Z"
   },
   {
    "duration": 21,
    "start_time": "2022-01-09T15:31:38.056Z"
   },
   {
    "duration": 18,
    "start_time": "2022-01-09T15:32:06.665Z"
   },
   {
    "duration": 2,
    "start_time": "2022-01-09T15:32:11.677Z"
   },
   {
    "duration": 3,
    "start_time": "2022-01-09T15:32:12.910Z"
   },
   {
    "duration": 21,
    "start_time": "2022-01-09T15:32:15.655Z"
   },
   {
    "duration": 14,
    "start_time": "2022-01-09T15:35:31.397Z"
   },
   {
    "duration": 18,
    "start_time": "2022-01-09T15:36:13.981Z"
   },
   {
    "duration": 835,
    "start_time": "2022-01-10T20:02:50.507Z"
   },
   {
    "duration": 288,
    "start_time": "2022-01-10T20:02:51.345Z"
   },
   {
    "duration": 45,
    "start_time": "2022-01-10T20:02:51.638Z"
   },
   {
    "duration": 32,
    "start_time": "2022-01-10T20:02:51.686Z"
   },
   {
    "duration": 6,
    "start_time": "2022-01-10T20:02:51.720Z"
   },
   {
    "duration": 60,
    "start_time": "2022-01-10T20:02:51.728Z"
   },
   {
    "duration": 8,
    "start_time": "2022-01-10T20:02:51.790Z"
   },
   {
    "duration": 34,
    "start_time": "2022-01-10T20:02:51.802Z"
   },
   {
    "duration": 26,
    "start_time": "2022-01-10T20:02:51.860Z"
   },
   {
    "duration": 30,
    "start_time": "2022-01-10T20:02:51.889Z"
   },
   {
    "duration": 154,
    "start_time": "2022-01-10T20:02:51.922Z"
   },
   {
    "duration": 170,
    "start_time": "2022-01-10T20:02:52.080Z"
   },
   {
    "duration": 130,
    "start_time": "2022-01-10T20:02:52.253Z"
   },
   {
    "duration": 24,
    "start_time": "2022-01-10T20:02:52.386Z"
   },
   {
    "duration": 5,
    "start_time": "2022-01-10T20:02:52.413Z"
   },
   {
    "duration": 110,
    "start_time": "2022-01-10T20:02:52.421Z"
   },
   {
    "duration": 28,
    "start_time": "2022-01-10T20:02:52.534Z"
   },
   {
    "duration": 49,
    "start_time": "2022-01-10T20:02:52.566Z"
   },
   {
    "duration": 76,
    "start_time": "2022-01-10T20:02:52.618Z"
   },
   {
    "duration": 4,
    "start_time": "2022-01-10T20:02:52.697Z"
   },
   {
    "duration": 25,
    "start_time": "2022-01-10T20:02:52.704Z"
   },
   {
    "duration": 44,
    "start_time": "2022-01-10T20:02:52.732Z"
   },
   {
    "duration": 19,
    "start_time": "2022-01-10T20:02:52.782Z"
   },
   {
    "duration": 17,
    "start_time": "2022-01-10T20:02:52.804Z"
   },
   {
    "duration": 48,
    "start_time": "2022-01-10T20:02:52.823Z"
   },
   {
    "duration": 23,
    "start_time": "2022-01-10T20:02:52.874Z"
   },
   {
    "duration": 12,
    "start_time": "2022-01-10T20:02:52.901Z"
   },
   {
    "duration": 75,
    "start_time": "2022-01-10T20:02:52.916Z"
   },
   {
    "duration": 11,
    "start_time": "2022-01-10T20:02:52.994Z"
   },
   {
    "duration": 22,
    "start_time": "2022-01-10T20:02:53.008Z"
   },
   {
    "duration": 3,
    "start_time": "2022-01-10T20:02:53.033Z"
   },
   {
    "duration": 19,
    "start_time": "2022-01-10T20:02:53.063Z"
   },
   {
    "duration": 4,
    "start_time": "2022-01-10T20:02:53.084Z"
   },
   {
    "duration": 7,
    "start_time": "2022-01-10T20:02:53.091Z"
   },
   {
    "duration": 6,
    "start_time": "2022-01-10T20:02:53.101Z"
   },
   {
    "duration": 7,
    "start_time": "2022-01-10T20:02:53.109Z"
   },
   {
    "duration": 8,
    "start_time": "2022-01-10T20:02:53.118Z"
   },
   {
    "duration": 30,
    "start_time": "2022-01-10T20:02:53.129Z"
   },
   {
    "duration": 509,
    "start_time": "2022-01-10T20:12:39.647Z"
   },
   {
    "duration": 5,
    "start_time": "2022-01-10T20:12:51.301Z"
   },
   {
    "duration": 323,
    "start_time": "2022-01-11T18:33:28.966Z"
   },
   {
    "duration": 259,
    "start_time": "2022-01-11T18:33:40.849Z"
   },
   {
    "duration": 434,
    "start_time": "2022-01-11T18:34:02.350Z"
   },
   {
    "duration": 266,
    "start_time": "2022-01-11T18:34:32.195Z"
   },
   {
    "duration": 240,
    "start_time": "2022-01-11T18:35:26.502Z"
   },
   {
    "duration": 284,
    "start_time": "2022-01-11T18:35:48.597Z"
   },
   {
    "duration": 784,
    "start_time": "2022-01-11T18:36:02.094Z"
   },
   {
    "duration": 195,
    "start_time": "2022-01-11T18:36:02.881Z"
   },
   {
    "duration": 47,
    "start_time": "2022-01-11T18:36:03.080Z"
   },
   {
    "duration": 49,
    "start_time": "2022-01-11T18:36:03.131Z"
   },
   {
    "duration": 17,
    "start_time": "2022-01-11T18:36:03.183Z"
   },
   {
    "duration": 30,
    "start_time": "2022-01-11T18:36:03.203Z"
   },
   {
    "duration": 5,
    "start_time": "2022-01-11T18:36:03.235Z"
   },
   {
    "duration": 31,
    "start_time": "2022-01-11T18:36:03.243Z"
   },
   {
    "duration": 59,
    "start_time": "2022-01-11T18:36:03.278Z"
   },
   {
    "duration": 30,
    "start_time": "2022-01-11T18:36:03.340Z"
   },
   {
    "duration": 108,
    "start_time": "2022-01-11T18:36:03.373Z"
   },
   {
    "duration": 106,
    "start_time": "2022-01-11T18:36:03.484Z"
   },
   {
    "duration": 90,
    "start_time": "2022-01-11T18:36:03.592Z"
   },
   {
    "duration": 14,
    "start_time": "2022-01-11T18:36:03.684Z"
   },
   {
    "duration": 8,
    "start_time": "2022-01-11T18:36:03.717Z"
   },
   {
    "duration": 70,
    "start_time": "2022-01-11T18:36:03.728Z"
   },
   {
    "duration": 35,
    "start_time": "2022-01-11T18:36:03.801Z"
   },
   {
    "duration": 48,
    "start_time": "2022-01-11T18:36:03.839Z"
   },
   {
    "duration": 48,
    "start_time": "2022-01-11T18:36:03.919Z"
   },
   {
    "duration": 4,
    "start_time": "2022-01-11T18:36:03.969Z"
   },
   {
    "duration": 45,
    "start_time": "2022-01-11T18:36:03.976Z"
   },
   {
    "duration": 23,
    "start_time": "2022-01-11T18:36:04.024Z"
   },
   {
    "duration": 20,
    "start_time": "2022-01-11T18:36:04.049Z"
   },
   {
    "duration": 49,
    "start_time": "2022-01-11T18:36:04.071Z"
   },
   {
    "duration": 26,
    "start_time": "2022-01-11T18:36:04.122Z"
   },
   {
    "duration": 19,
    "start_time": "2022-01-11T18:36:04.150Z"
   },
   {
    "duration": 12,
    "start_time": "2022-01-11T18:36:04.173Z"
   },
   {
    "duration": 33,
    "start_time": "2022-01-11T18:36:04.220Z"
   },
   {
    "duration": 12,
    "start_time": "2022-01-11T18:36:04.255Z"
   },
   {
    "duration": 55,
    "start_time": "2022-01-11T18:36:04.269Z"
   },
   {
    "duration": 4,
    "start_time": "2022-01-11T18:36:04.326Z"
   },
   {
    "duration": 9,
    "start_time": "2022-01-11T18:36:04.332Z"
   },
   {
    "duration": 6,
    "start_time": "2022-01-11T18:36:04.344Z"
   },
   {
    "duration": 6,
    "start_time": "2022-01-11T18:36:04.352Z"
   },
   {
    "duration": 7,
    "start_time": "2022-01-11T18:36:04.360Z"
   },
   {
    "duration": 5,
    "start_time": "2022-01-11T18:36:04.370Z"
   },
   {
    "duration": 5,
    "start_time": "2022-01-11T18:36:04.378Z"
   },
   {
    "duration": 6,
    "start_time": "2022-01-11T18:36:04.386Z"
   },
   {
    "duration": 16,
    "start_time": "2022-01-11T18:49:35.032Z"
   },
   {
    "duration": 23,
    "start_time": "2022-01-11T18:50:22.458Z"
   },
   {
    "duration": 16,
    "start_time": "2022-01-11T18:52:05.511Z"
   },
   {
    "duration": 5,
    "start_time": "2022-01-11T18:52:34.548Z"
   },
   {
    "duration": 5,
    "start_time": "2022-01-11T18:52:37.168Z"
   },
   {
    "duration": 23,
    "start_time": "2022-01-11T18:52:52.446Z"
   },
   {
    "duration": 24,
    "start_time": "2022-01-11T18:53:03.383Z"
   },
   {
    "duration": 23,
    "start_time": "2022-01-11T18:53:11.972Z"
   },
   {
    "duration": 22,
    "start_time": "2022-01-11T18:54:02.606Z"
   },
   {
    "duration": 822,
    "start_time": "2022-01-11T18:54:21.992Z"
   },
   {
    "duration": 193,
    "start_time": "2022-01-11T18:54:22.817Z"
   },
   {
    "duration": 27,
    "start_time": "2022-01-11T18:54:23.013Z"
   },
   {
    "duration": 34,
    "start_time": "2022-01-11T18:54:23.042Z"
   },
   {
    "duration": 41,
    "start_time": "2022-01-11T18:54:23.078Z"
   },
   {
    "duration": 26,
    "start_time": "2022-01-11T18:54:23.121Z"
   },
   {
    "duration": 7,
    "start_time": "2022-01-11T18:54:23.150Z"
   },
   {
    "duration": 67,
    "start_time": "2022-01-11T18:54:23.161Z"
   },
   {
    "duration": 22,
    "start_time": "2022-01-11T18:54:23.231Z"
   },
   {
    "duration": 30,
    "start_time": "2022-01-11T18:54:23.256Z"
   },
   {
    "duration": 132,
    "start_time": "2022-01-11T18:54:23.288Z"
   },
   {
    "duration": 119,
    "start_time": "2022-01-11T18:54:23.422Z"
   },
   {
    "duration": 99,
    "start_time": "2022-01-11T18:54:23.543Z"
   },
   {
    "duration": 14,
    "start_time": "2022-01-11T18:54:23.644Z"
   },
   {
    "duration": 6,
    "start_time": "2022-01-11T18:54:23.660Z"
   },
   {
    "duration": 108,
    "start_time": "2022-01-11T18:54:23.669Z"
   },
   {
    "duration": 15,
    "start_time": "2022-01-11T18:54:23.779Z"
   },
   {
    "duration": 32,
    "start_time": "2022-01-11T18:54:23.797Z"
   },
   {
    "duration": 77,
    "start_time": "2022-01-11T18:54:23.832Z"
   },
   {
    "duration": -373940,
    "start_time": "2022-01-11T19:00:37.852Z"
   },
   {
    "duration": -373942,
    "start_time": "2022-01-11T19:00:37.855Z"
   },
   {
    "duration": -373944,
    "start_time": "2022-01-11T19:00:37.859Z"
   },
   {
    "duration": -373946,
    "start_time": "2022-01-11T19:00:37.862Z"
   },
   {
    "duration": -373958,
    "start_time": "2022-01-11T19:00:37.876Z"
   },
   {
    "duration": -373965,
    "start_time": "2022-01-11T19:00:37.884Z"
   },
   {
    "duration": -373966,
    "start_time": "2022-01-11T19:00:37.886Z"
   },
   {
    "duration": -373967,
    "start_time": "2022-01-11T19:00:37.889Z"
   },
   {
    "duration": -373968,
    "start_time": "2022-01-11T19:00:37.891Z"
   },
   {
    "duration": -373970,
    "start_time": "2022-01-11T19:00:37.894Z"
   },
   {
    "duration": -373970,
    "start_time": "2022-01-11T19:00:37.896Z"
   },
   {
    "duration": -373971,
    "start_time": "2022-01-11T19:00:37.898Z"
   },
   {
    "duration": -373973,
    "start_time": "2022-01-11T19:00:37.901Z"
   },
   {
    "duration": -373974,
    "start_time": "2022-01-11T19:00:37.903Z"
   },
   {
    "duration": -373975,
    "start_time": "2022-01-11T19:00:37.905Z"
   },
   {
    "duration": -373976,
    "start_time": "2022-01-11T19:00:37.908Z"
   },
   {
    "duration": -373977,
    "start_time": "2022-01-11T19:00:37.910Z"
   },
   {
    "duration": -373982,
    "start_time": "2022-01-11T19:00:37.917Z"
   },
   {
    "duration": -373983,
    "start_time": "2022-01-11T19:00:37.919Z"
   },
   {
    "duration": -373985,
    "start_time": "2022-01-11T19:00:37.922Z"
   },
   {
    "duration": 447,
    "start_time": "2022-01-11T18:54:43.933Z"
   },
   {
    "duration": 5,
    "start_time": "2022-01-11T19:03:41.228Z"
   },
   {
    "duration": 214,
    "start_time": "2022-01-11T19:03:48.338Z"
   },
   {
    "duration": 734,
    "start_time": "2022-01-11T19:03:58.611Z"
   },
   {
    "duration": 181,
    "start_time": "2022-01-11T19:03:59.348Z"
   },
   {
    "duration": 25,
    "start_time": "2022-01-11T19:03:59.532Z"
   },
   {
    "duration": 35,
    "start_time": "2022-01-11T19:03:59.560Z"
   },
   {
    "duration": 5,
    "start_time": "2022-01-11T19:03:59.617Z"
   },
   {
    "duration": 25,
    "start_time": "2022-01-11T19:03:59.625Z"
   },
   {
    "duration": 5,
    "start_time": "2022-01-11T19:03:59.652Z"
   },
   {
    "duration": 61,
    "start_time": "2022-01-11T19:03:59.661Z"
   },
   {
    "duration": 22,
    "start_time": "2022-01-11T19:03:59.724Z"
   },
   {
    "duration": 29,
    "start_time": "2022-01-11T19:03:59.748Z"
   },
   {
    "duration": 109,
    "start_time": "2022-01-11T19:03:59.779Z"
   },
   {
    "duration": 104,
    "start_time": "2022-01-11T19:03:59.890Z"
   },
   {
    "duration": 81,
    "start_time": "2022-01-11T19:03:59.997Z"
   },
   {
    "duration": 16,
    "start_time": "2022-01-11T19:04:00.080Z"
   },
   {
    "duration": 5,
    "start_time": "2022-01-11T19:04:00.117Z"
   },
   {
    "duration": 74,
    "start_time": "2022-01-11T19:04:00.124Z"
   },
   {
    "duration": 26,
    "start_time": "2022-01-11T19:04:00.200Z"
   },
   {
    "duration": 14,
    "start_time": "2022-01-11T19:04:00.228Z"
   },
   {
    "duration": 14,
    "start_time": "2022-01-11T19:04:00.244Z"
   },
   {
    "duration": 4,
    "start_time": "2022-01-11T19:04:00.261Z"
   },
   {
    "duration": 66,
    "start_time": "2022-01-11T19:04:00.267Z"
   },
   {
    "duration": 29,
    "start_time": "2022-01-11T19:04:00.335Z"
   },
   {
    "duration": 33,
    "start_time": "2022-01-11T19:04:00.368Z"
   },
   {
    "duration": 25,
    "start_time": "2022-01-11T19:04:00.403Z"
   },
   {
    "duration": 22,
    "start_time": "2022-01-11T19:04:00.430Z"
   },
   {
    "duration": 19,
    "start_time": "2022-01-11T19:04:00.455Z"
   },
   {
    "duration": 45,
    "start_time": "2022-01-11T19:04:00.477Z"
   },
   {
    "duration": 18,
    "start_time": "2022-01-11T19:04:00.524Z"
   },
   {
    "duration": 14,
    "start_time": "2022-01-11T19:04:00.544Z"
   },
   {
    "duration": 5,
    "start_time": "2022-01-11T19:04:00.561Z"
   },
   {
    "duration": 52,
    "start_time": "2022-01-11T19:04:00.568Z"
   },
   {
    "duration": 3,
    "start_time": "2022-01-11T19:04:00.622Z"
   },
   {
    "duration": 27,
    "start_time": "2022-01-11T19:04:00.627Z"
   },
   {
    "duration": 3,
    "start_time": "2022-01-11T19:04:00.656Z"
   },
   {
    "duration": 10,
    "start_time": "2022-01-11T19:04:00.661Z"
   },
   {
    "duration": 8,
    "start_time": "2022-01-11T19:04:00.673Z"
   },
   {
    "duration": 34,
    "start_time": "2022-01-11T19:04:00.683Z"
   },
   {
    "duration": 14,
    "start_time": "2022-01-11T19:04:00.720Z"
   },
   {
    "duration": 23,
    "start_time": "2022-01-11T19:05:29.987Z"
   },
   {
    "duration": 17,
    "start_time": "2022-01-11T19:06:47.045Z"
   },
   {
    "duration": 26,
    "start_time": "2022-01-11T19:06:48.214Z"
   },
   {
    "duration": 357,
    "start_time": "2022-01-11T19:10:22.519Z"
   },
   {
    "duration": 16,
    "start_time": "2022-01-11T19:11:57.010Z"
   },
   {
    "duration": 16,
    "start_time": "2022-01-11T19:12:01.828Z"
   },
   {
    "duration": 6,
    "start_time": "2022-01-11T19:12:23.623Z"
   },
   {
    "duration": 657,
    "start_time": "2022-01-11T19:12:58.307Z"
   },
   {
    "duration": 8,
    "start_time": "2022-01-11T19:13:00.647Z"
   },
   {
    "duration": 781,
    "start_time": "2022-01-11T19:13:21.337Z"
   },
   {
    "duration": 12,
    "start_time": "2022-01-11T19:13:40.582Z"
   },
   {
    "duration": 33,
    "start_time": "2022-01-11T19:14:48.925Z"
   },
   {
    "duration": 13,
    "start_time": "2022-01-11T19:14:51.075Z"
   },
   {
    "duration": 14,
    "start_time": "2022-01-11T19:15:38.409Z"
   },
   {
    "duration": 6,
    "start_time": "2022-01-11T19:15:40.559Z"
   },
   {
    "duration": 8,
    "start_time": "2022-01-11T19:16:26.780Z"
   },
   {
    "duration": 7,
    "start_time": "2022-01-11T19:16:44.176Z"
   },
   {
    "duration": 7,
    "start_time": "2022-01-11T19:16:53.136Z"
   },
   {
    "duration": 722,
    "start_time": "2022-01-11T19:17:19.545Z"
   },
   {
    "duration": 185,
    "start_time": "2022-01-11T19:17:20.270Z"
   },
   {
    "duration": 24,
    "start_time": "2022-01-11T19:17:20.459Z"
   },
   {
    "duration": 41,
    "start_time": "2022-01-11T19:17:20.486Z"
   },
   {
    "duration": 5,
    "start_time": "2022-01-11T19:17:20.530Z"
   },
   {
    "duration": 26,
    "start_time": "2022-01-11T19:17:20.537Z"
   },
   {
    "duration": 8,
    "start_time": "2022-01-11T19:17:20.566Z"
   },
   {
    "duration": 63,
    "start_time": "2022-01-11T19:17:20.576Z"
   },
   {
    "duration": 22,
    "start_time": "2022-01-11T19:17:20.645Z"
   },
   {
    "duration": 50,
    "start_time": "2022-01-11T19:17:20.670Z"
   },
   {
    "duration": 97,
    "start_time": "2022-01-11T19:17:20.723Z"
   },
   {
    "duration": 108,
    "start_time": "2022-01-11T19:17:20.823Z"
   },
   {
    "duration": 87,
    "start_time": "2022-01-11T19:17:20.938Z"
   },
   {
    "duration": 15,
    "start_time": "2022-01-11T19:17:21.027Z"
   },
   {
    "duration": 4,
    "start_time": "2022-01-11T19:17:21.045Z"
   },
   {
    "duration": 99,
    "start_time": "2022-01-11T19:17:21.052Z"
   },
   {
    "duration": 14,
    "start_time": "2022-01-11T19:17:21.153Z"
   },
   {
    "duration": 16,
    "start_time": "2022-01-11T19:17:21.169Z"
   },
   {
    "duration": 40,
    "start_time": "2022-01-11T19:17:21.187Z"
   },
   {
    "duration": 6,
    "start_time": "2022-01-11T19:17:21.230Z"
   },
   {
    "duration": 24,
    "start_time": "2022-01-11T19:17:21.239Z"
   },
   {
    "duration": 58,
    "start_time": "2022-01-11T19:17:21.266Z"
   },
   {
    "duration": 22,
    "start_time": "2022-01-11T19:17:21.327Z"
   },
   {
    "duration": 19,
    "start_time": "2022-01-11T19:17:21.352Z"
   },
   {
    "duration": 56,
    "start_time": "2022-01-11T19:17:21.373Z"
   },
   {
    "duration": 19,
    "start_time": "2022-01-11T19:17:21.432Z"
   },
   {
    "duration": 12,
    "start_time": "2022-01-11T19:17:21.456Z"
   },
   {
    "duration": 46,
    "start_time": "2022-01-11T19:17:21.471Z"
   },
   {
    "duration": 13,
    "start_time": "2022-01-11T19:17:21.519Z"
   },
   {
    "duration": 6,
    "start_time": "2022-01-11T19:17:21.534Z"
   },
   {
    "duration": 35,
    "start_time": "2022-01-11T19:17:21.542Z"
   },
   {
    "duration": 39,
    "start_time": "2022-01-11T19:17:21.579Z"
   },
   {
    "duration": 22,
    "start_time": "2022-01-11T19:17:21.621Z"
   },
   {
    "duration": 16,
    "start_time": "2022-01-11T19:17:21.645Z"
   },
   {
    "duration": 11,
    "start_time": "2022-01-11T19:17:21.663Z"
   },
   {
    "duration": 41,
    "start_time": "2022-01-11T19:17:21.676Z"
   },
   {
    "duration": 9,
    "start_time": "2022-01-11T19:17:21.719Z"
   },
   {
    "duration": 9,
    "start_time": "2022-01-11T19:17:21.730Z"
   },
   {
    "duration": 347,
    "start_time": "2022-01-11T19:20:59.018Z"
   },
   {
    "duration": 31,
    "start_time": "2022-01-11T19:21:31.590Z"
   },
   {
    "duration": 13,
    "start_time": "2022-01-11T19:21:33.591Z"
   },
   {
    "duration": 9,
    "start_time": "2022-01-11T19:21:37.921Z"
   },
   {
    "duration": 7,
    "start_time": "2022-01-11T19:21:39.591Z"
   },
   {
    "duration": 308,
    "start_time": "2022-01-11T19:23:37.838Z"
   },
   {
    "duration": 10,
    "start_time": "2022-01-11T19:23:58.864Z"
   },
   {
    "duration": 7,
    "start_time": "2022-01-11T19:24:00.719Z"
   },
   {
    "duration": 7,
    "start_time": "2022-01-11T19:24:07.044Z"
   },
   {
    "duration": 7,
    "start_time": "2022-01-11T19:24:09.203Z"
   },
   {
    "duration": 802,
    "start_time": "2022-01-12T13:41:28.381Z"
   },
   {
    "duration": 198,
    "start_time": "2022-01-12T13:41:29.186Z"
   },
   {
    "duration": 27,
    "start_time": "2022-01-12T13:41:29.393Z"
   },
   {
    "duration": 53,
    "start_time": "2022-01-12T13:41:29.422Z"
   },
   {
    "duration": 5,
    "start_time": "2022-01-12T13:41:29.478Z"
   },
   {
    "duration": 28,
    "start_time": "2022-01-12T13:41:29.486Z"
   },
   {
    "duration": 6,
    "start_time": "2022-01-12T13:41:29.517Z"
   },
   {
    "duration": 32,
    "start_time": "2022-01-12T13:41:29.567Z"
   },
   {
    "duration": 25,
    "start_time": "2022-01-12T13:41:29.602Z"
   },
   {
    "duration": 61,
    "start_time": "2022-01-12T13:41:29.630Z"
   },
   {
    "duration": 111,
    "start_time": "2022-01-12T13:41:29.694Z"
   },
   {
    "duration": 118,
    "start_time": "2022-01-12T13:41:29.807Z"
   },
   {
    "duration": 90,
    "start_time": "2022-01-12T13:41:29.928Z"
   },
   {
    "duration": 16,
    "start_time": "2022-01-12T13:41:30.020Z"
   },
   {
    "duration": 7,
    "start_time": "2022-01-12T13:41:30.039Z"
   },
   {
    "duration": 99,
    "start_time": "2022-01-12T13:41:30.048Z"
   },
   {
    "duration": 29,
    "start_time": "2022-01-12T13:41:30.150Z"
   },
   {
    "duration": 16,
    "start_time": "2022-01-12T13:41:30.182Z"
   },
   {
    "duration": 16,
    "start_time": "2022-01-12T13:41:30.200Z"
   },
   {
    "duration": 48,
    "start_time": "2022-01-12T13:41:30.219Z"
   },
   {
    "duration": 24,
    "start_time": "2022-01-12T13:41:30.269Z"
   },
   {
    "duration": 20,
    "start_time": "2022-01-12T13:41:30.297Z"
   },
   {
    "duration": 54,
    "start_time": "2022-01-12T13:41:30.321Z"
   },
   {
    "duration": 19,
    "start_time": "2022-01-12T13:41:30.377Z"
   },
   {
    "duration": 25,
    "start_time": "2022-01-12T13:41:30.399Z"
   },
   {
    "duration": 53,
    "start_time": "2022-01-12T13:41:30.427Z"
   },
   {
    "duration": 14,
    "start_time": "2022-01-12T13:41:30.482Z"
   },
   {
    "duration": 28,
    "start_time": "2022-01-12T13:41:30.498Z"
   },
   {
    "duration": 41,
    "start_time": "2022-01-12T13:41:30.528Z"
   },
   {
    "duration": 6,
    "start_time": "2022-01-12T13:41:30.571Z"
   },
   {
    "duration": 61,
    "start_time": "2022-01-12T13:41:30.579Z"
   },
   {
    "duration": 21,
    "start_time": "2022-01-12T13:41:30.643Z"
   },
   {
    "duration": 29,
    "start_time": "2022-01-12T13:41:30.666Z"
   },
   {
    "duration": 17,
    "start_time": "2022-01-12T13:41:30.698Z"
   },
   {
    "duration": 19,
    "start_time": "2022-01-12T13:41:30.717Z"
   },
   {
    "duration": 33,
    "start_time": "2022-01-12T13:41:30.738Z"
   },
   {
    "duration": 18,
    "start_time": "2022-01-12T13:41:30.774Z"
   },
   {
    "duration": 30,
    "start_time": "2022-01-12T13:41:30.795Z"
   }
  ],
  "colab": {
   "collapsed_sections": [
    "E0vqbgi9ay0H",
    "VUC88oWjTJw2"
   ],
   "name": "yandex_music_project_2021.2.ipynb",
   "provenance": []
  },
  "kernelspec": {
   "display_name": "Python 3 (ipykernel)",
   "language": "python",
   "name": "python3"
  },
  "language_info": {
   "codemirror_mode": {
    "name": "ipython",
    "version": 3
   },
   "file_extension": ".py",
   "mimetype": "text/x-python",
   "name": "python",
   "nbconvert_exporter": "python",
   "pygments_lexer": "ipython3",
   "version": "3.9.5"
  },
  "toc": {
   "base_numbering": 1,
   "nav_menu": {},
   "number_sections": true,
   "sideBar": true,
   "skip_h1_title": true,
   "title_cell": "Table of Contents",
   "title_sidebar": "Contents",
   "toc_cell": false,
   "toc_position": {
    "height": "calc(100% - 180px)",
    "left": "10px",
    "top": "150px",
    "width": "197.6px"
   },
   "toc_section_display": true,
   "toc_window_display": false
  }
 },
 "nbformat": 4,
 "nbformat_minor": 1
}
