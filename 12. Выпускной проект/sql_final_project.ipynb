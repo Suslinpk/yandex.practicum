{
 "cells": [
  {
   "cell_type": "markdown",
   "metadata": {},
   "source": [
    "# Проект по SQL"
   ]
  },
  {
   "cell_type": "markdown",
   "metadata": {},
   "source": [
    "Коронавирус застал мир врасплох, изменив привычный порядок вещей. В свободное время жители городов больше не выходят на улицу, не посещают кафе и торговые центры. Зато стало больше времени для книг. Это заметили стартаперы — и бросились создавать приложения для тех, кто любит читать.\n",
    "\n",
    "Наша компания решила быть на волне и купила крупный сервис для чтения книг по подписке. \n",
    "\n",
    "**Задача** — пороизвети анализ базы данных книг. В ней — информация о книгах, издательствах, авторах, а также пользовательские обзоры книг. Эти данные помогут сформулировать ценностное предложение для нового продукта.\n",
    "\n",
    "**Описание данных** \n",
    "\n",
    "Таблица `books` cодержит данные о книгах:\n",
    "- `book_id` — идентификатор книги;\n",
    "- `author_id` — идентификатор автора;\n",
    "- `title` — название книги;\n",
    "- `num_pages` — количество страниц;\n",
    "- `publication_date` — дата публикации книги;\n",
    "- `publisher_id` — идентификатор издателя.\n",
    "\n",
    "Таблица `authors` cодержит данные об авторах:\n",
    "- `author_id` — идентификатор автора;\n",
    "- `author` — имя автора.\n",
    "\n",
    "Таблица `publishers` cодержит данные об издательствах:\n",
    "- `publisher_id` — идентификатор издательства;\n",
    "- `publisher` — название издательства;\n",
    "\n",
    "Таблица `ratings`cодержит данные о пользовательских оценках книг:\n",
    "- `rating_id` — идентификатор оценки;\n",
    "- `book_id` — идентификатор книги;\n",
    "- `username` — имя пользователя, оставившего оценку;\n",
    "- `rating` — оценка книги.\n",
    "\n",
    "Таблица `reviews`содержит данные о пользовательских обзорах:\n",
    "- `review_id` — идентификатор обзора;\n",
    "- `book_id` — идентификатор книги;\n",
    "- `username` — имя автора обзора;\n",
    "- `text` — текст обзора."
   ]
  },
  {
   "cell_type": "markdown",
   "metadata": {},
   "source": [
    "**Задания**\n",
    "- Посчитайте, сколько книг вышло после 1 января 2000 года;\n",
    "- Для каждой книги посчитать количество обзоров и среднюю оценку;\n",
    "- Определить издательство, которое выпустило наибольшее число книг толще 50 страниц — так вы исключите из анализа брошюры;\n",
    "- Определить автора с самой высокой средней оценкой книг — учитывайте только книги с 50 и более оценками;\n",
    "- Посчитайть среднее количество обзоров от пользователей, которые поставили больше 50 оценок."
   ]
  },
  {
   "cell_type": "markdown",
   "metadata": {},
   "source": [
    "## Настройка окружения, загрузка и исследование данных"
   ]
  },
  {
   "cell_type": "code",
   "execution_count": 1,
   "metadata": {},
   "outputs": [],
   "source": [
    "import pandas as pd\n",
    "from sqlalchemy import create_engine\n",
    "\n",
    "# устанавливаем параметры\n",
    "db_config = {'user': 'praktikum_student', # имя пользователя\n",
    " 'pwd': 'Sdf4$2;d-d30pp', # пароль\n",
    " 'host': 'rc1b-wcoijxj3yxfsf3fs.mdb.yandexcloud.net',\n",
    " 'port': 6432, # порт подключения\n",
    " 'db': 'data-analyst-final-project-db'} # название базы данных\n",
    "connection_string = 'postgresql://{}:{}@{}:{}/{}'.format(db_config['user'],\n",
    " db_config['pwd'],\n",
    " db_config['host'],\n",
    " db_config['port'],\n",
    " db_config['db'])\n",
    "# сохраняем коннектор\n",
    "engine = create_engine(connection_string, connect_args={'sslmode':'require'})\n"
   ]
  },
  {
   "cell_type": "code",
   "execution_count": 2,
   "metadata": {},
   "outputs": [],
   "source": [
    "def table_head(table):\n",
    "    query = '''\n",
    "    SELECT * \n",
    "    FROM {}\n",
    "    '''.format(table) \n",
    "    \n",
    "    df = pd.io.sql.read_sql(query, con = engine)\n",
    "    \n",
    "    display(df.head())"
   ]
  },
  {
   "cell_type": "code",
   "execution_count": 3,
   "metadata": {},
   "outputs": [
    {
     "data": {
      "text/html": [
       "<div>\n",
       "<style scoped>\n",
       "    .dataframe tbody tr th:only-of-type {\n",
       "        vertical-align: middle;\n",
       "    }\n",
       "\n",
       "    .dataframe tbody tr th {\n",
       "        vertical-align: top;\n",
       "    }\n",
       "\n",
       "    .dataframe thead th {\n",
       "        text-align: right;\n",
       "    }\n",
       "</style>\n",
       "<table border=\"1\" class=\"dataframe\">\n",
       "  <thead>\n",
       "    <tr style=\"text-align: right;\">\n",
       "      <th></th>\n",
       "      <th>book_id</th>\n",
       "      <th>author_id</th>\n",
       "      <th>title</th>\n",
       "      <th>num_pages</th>\n",
       "      <th>publication_date</th>\n",
       "      <th>publisher_id</th>\n",
       "    </tr>\n",
       "  </thead>\n",
       "  <tbody>\n",
       "    <tr>\n",
       "      <th>0</th>\n",
       "      <td>1</td>\n",
       "      <td>546</td>\n",
       "      <td>'Salem's Lot</td>\n",
       "      <td>594</td>\n",
       "      <td>2005-11-01</td>\n",
       "      <td>93</td>\n",
       "    </tr>\n",
       "    <tr>\n",
       "      <th>1</th>\n",
       "      <td>2</td>\n",
       "      <td>465</td>\n",
       "      <td>1 000 Places to See Before You Die</td>\n",
       "      <td>992</td>\n",
       "      <td>2003-05-22</td>\n",
       "      <td>336</td>\n",
       "    </tr>\n",
       "    <tr>\n",
       "      <th>2</th>\n",
       "      <td>3</td>\n",
       "      <td>407</td>\n",
       "      <td>13 Little Blue Envelopes (Little Blue Envelope...</td>\n",
       "      <td>322</td>\n",
       "      <td>2010-12-21</td>\n",
       "      <td>135</td>\n",
       "    </tr>\n",
       "    <tr>\n",
       "      <th>3</th>\n",
       "      <td>4</td>\n",
       "      <td>82</td>\n",
       "      <td>1491: New Revelations of the Americas Before C...</td>\n",
       "      <td>541</td>\n",
       "      <td>2006-10-10</td>\n",
       "      <td>309</td>\n",
       "    </tr>\n",
       "    <tr>\n",
       "      <th>4</th>\n",
       "      <td>5</td>\n",
       "      <td>125</td>\n",
       "      <td>1776</td>\n",
       "      <td>386</td>\n",
       "      <td>2006-07-04</td>\n",
       "      <td>268</td>\n",
       "    </tr>\n",
       "  </tbody>\n",
       "</table>\n",
       "</div>"
      ],
      "text/plain": [
       "   book_id  author_id                                              title  \\\n",
       "0        1        546                                       'Salem's Lot   \n",
       "1        2        465                 1 000 Places to See Before You Die   \n",
       "2        3        407  13 Little Blue Envelopes (Little Blue Envelope...   \n",
       "3        4         82  1491: New Revelations of the Americas Before C...   \n",
       "4        5        125                                               1776   \n",
       "\n",
       "   num_pages publication_date  publisher_id  \n",
       "0        594       2005-11-01            93  \n",
       "1        992       2003-05-22           336  \n",
       "2        322       2010-12-21           135  \n",
       "3        541       2006-10-10           309  \n",
       "4        386       2006-07-04           268  "
      ]
     },
     "metadata": {},
     "output_type": "display_data"
    }
   ],
   "source": [
    "table_head('books')"
   ]
  },
  {
   "cell_type": "code",
   "execution_count": 4,
   "metadata": {},
   "outputs": [
    {
     "data": {
      "text/html": [
       "<div>\n",
       "<style scoped>\n",
       "    .dataframe tbody tr th:only-of-type {\n",
       "        vertical-align: middle;\n",
       "    }\n",
       "\n",
       "    .dataframe tbody tr th {\n",
       "        vertical-align: top;\n",
       "    }\n",
       "\n",
       "    .dataframe thead th {\n",
       "        text-align: right;\n",
       "    }\n",
       "</style>\n",
       "<table border=\"1\" class=\"dataframe\">\n",
       "  <thead>\n",
       "    <tr style=\"text-align: right;\">\n",
       "      <th></th>\n",
       "      <th>review_id</th>\n",
       "      <th>book_id</th>\n",
       "      <th>username</th>\n",
       "      <th>text</th>\n",
       "    </tr>\n",
       "  </thead>\n",
       "  <tbody>\n",
       "    <tr>\n",
       "      <th>0</th>\n",
       "      <td>1</td>\n",
       "      <td>1</td>\n",
       "      <td>brandtandrea</td>\n",
       "      <td>Mention society tell send professor analysis. ...</td>\n",
       "    </tr>\n",
       "    <tr>\n",
       "      <th>1</th>\n",
       "      <td>2</td>\n",
       "      <td>1</td>\n",
       "      <td>ryanfranco</td>\n",
       "      <td>Foot glass pretty audience hit themselves. Amo...</td>\n",
       "    </tr>\n",
       "    <tr>\n",
       "      <th>2</th>\n",
       "      <td>3</td>\n",
       "      <td>2</td>\n",
       "      <td>lorichen</td>\n",
       "      <td>Listen treat keep worry. Miss husband tax but ...</td>\n",
       "    </tr>\n",
       "    <tr>\n",
       "      <th>3</th>\n",
       "      <td>4</td>\n",
       "      <td>3</td>\n",
       "      <td>johnsonamanda</td>\n",
       "      <td>Finally month interesting blue could nature cu...</td>\n",
       "    </tr>\n",
       "    <tr>\n",
       "      <th>4</th>\n",
       "      <td>5</td>\n",
       "      <td>3</td>\n",
       "      <td>scotttamara</td>\n",
       "      <td>Nation purpose heavy give wait song will. List...</td>\n",
       "    </tr>\n",
       "  </tbody>\n",
       "</table>\n",
       "</div>"
      ],
      "text/plain": [
       "   review_id  book_id       username  \\\n",
       "0          1        1   brandtandrea   \n",
       "1          2        1     ryanfranco   \n",
       "2          3        2       lorichen   \n",
       "3          4        3  johnsonamanda   \n",
       "4          5        3    scotttamara   \n",
       "\n",
       "                                                text  \n",
       "0  Mention society tell send professor analysis. ...  \n",
       "1  Foot glass pretty audience hit themselves. Amo...  \n",
       "2  Listen treat keep worry. Miss husband tax but ...  \n",
       "3  Finally month interesting blue could nature cu...  \n",
       "4  Nation purpose heavy give wait song will. List...  "
      ]
     },
     "metadata": {},
     "output_type": "display_data"
    }
   ],
   "source": [
    "table_head('reviews')"
   ]
  },
  {
   "cell_type": "code",
   "execution_count": 5,
   "metadata": {},
   "outputs": [
    {
     "data": {
      "text/html": [
       "<div>\n",
       "<style scoped>\n",
       "    .dataframe tbody tr th:only-of-type {\n",
       "        vertical-align: middle;\n",
       "    }\n",
       "\n",
       "    .dataframe tbody tr th {\n",
       "        vertical-align: top;\n",
       "    }\n",
       "\n",
       "    .dataframe thead th {\n",
       "        text-align: right;\n",
       "    }\n",
       "</style>\n",
       "<table border=\"1\" class=\"dataframe\">\n",
       "  <thead>\n",
       "    <tr style=\"text-align: right;\">\n",
       "      <th></th>\n",
       "      <th>rating_id</th>\n",
       "      <th>book_id</th>\n",
       "      <th>username</th>\n",
       "      <th>rating</th>\n",
       "    </tr>\n",
       "  </thead>\n",
       "  <tbody>\n",
       "    <tr>\n",
       "      <th>0</th>\n",
       "      <td>1</td>\n",
       "      <td>1</td>\n",
       "      <td>ryanfranco</td>\n",
       "      <td>4</td>\n",
       "    </tr>\n",
       "    <tr>\n",
       "      <th>1</th>\n",
       "      <td>2</td>\n",
       "      <td>1</td>\n",
       "      <td>grantpatricia</td>\n",
       "      <td>2</td>\n",
       "    </tr>\n",
       "    <tr>\n",
       "      <th>2</th>\n",
       "      <td>3</td>\n",
       "      <td>1</td>\n",
       "      <td>brandtandrea</td>\n",
       "      <td>5</td>\n",
       "    </tr>\n",
       "    <tr>\n",
       "      <th>3</th>\n",
       "      <td>4</td>\n",
       "      <td>2</td>\n",
       "      <td>lorichen</td>\n",
       "      <td>3</td>\n",
       "    </tr>\n",
       "    <tr>\n",
       "      <th>4</th>\n",
       "      <td>5</td>\n",
       "      <td>2</td>\n",
       "      <td>mariokeller</td>\n",
       "      <td>2</td>\n",
       "    </tr>\n",
       "  </tbody>\n",
       "</table>\n",
       "</div>"
      ],
      "text/plain": [
       "   rating_id  book_id       username  rating\n",
       "0          1        1     ryanfranco       4\n",
       "1          2        1  grantpatricia       2\n",
       "2          3        1   brandtandrea       5\n",
       "3          4        2       lorichen       3\n",
       "4          5        2    mariokeller       2"
      ]
     },
     "metadata": {},
     "output_type": "display_data"
    }
   ],
   "source": [
    "table_head('ratings')"
   ]
  },
  {
   "cell_type": "code",
   "execution_count": 6,
   "metadata": {},
   "outputs": [
    {
     "data": {
      "text/html": [
       "<div>\n",
       "<style scoped>\n",
       "    .dataframe tbody tr th:only-of-type {\n",
       "        vertical-align: middle;\n",
       "    }\n",
       "\n",
       "    .dataframe tbody tr th {\n",
       "        vertical-align: top;\n",
       "    }\n",
       "\n",
       "    .dataframe thead th {\n",
       "        text-align: right;\n",
       "    }\n",
       "</style>\n",
       "<table border=\"1\" class=\"dataframe\">\n",
       "  <thead>\n",
       "    <tr style=\"text-align: right;\">\n",
       "      <th></th>\n",
       "      <th>author_id</th>\n",
       "      <th>author</th>\n",
       "    </tr>\n",
       "  </thead>\n",
       "  <tbody>\n",
       "    <tr>\n",
       "      <th>0</th>\n",
       "      <td>1</td>\n",
       "      <td>A.S. Byatt</td>\n",
       "    </tr>\n",
       "    <tr>\n",
       "      <th>1</th>\n",
       "      <td>2</td>\n",
       "      <td>Aesop/Laura Harris/Laura Gibbs</td>\n",
       "    </tr>\n",
       "    <tr>\n",
       "      <th>2</th>\n",
       "      <td>3</td>\n",
       "      <td>Agatha Christie</td>\n",
       "    </tr>\n",
       "    <tr>\n",
       "      <th>3</th>\n",
       "      <td>4</td>\n",
       "      <td>Alan Brennert</td>\n",
       "    </tr>\n",
       "    <tr>\n",
       "      <th>4</th>\n",
       "      <td>5</td>\n",
       "      <td>Alan Moore/David   Lloyd</td>\n",
       "    </tr>\n",
       "  </tbody>\n",
       "</table>\n",
       "</div>"
      ],
      "text/plain": [
       "   author_id                          author\n",
       "0          1                      A.S. Byatt\n",
       "1          2  Aesop/Laura Harris/Laura Gibbs\n",
       "2          3                 Agatha Christie\n",
       "3          4                   Alan Brennert\n",
       "4          5        Alan Moore/David   Lloyd"
      ]
     },
     "metadata": {},
     "output_type": "display_data"
    }
   ],
   "source": [
    "table_head('authors')"
   ]
  },
  {
   "cell_type": "code",
   "execution_count": 7,
   "metadata": {},
   "outputs": [
    {
     "data": {
      "text/html": [
       "<div>\n",
       "<style scoped>\n",
       "    .dataframe tbody tr th:only-of-type {\n",
       "        vertical-align: middle;\n",
       "    }\n",
       "\n",
       "    .dataframe tbody tr th {\n",
       "        vertical-align: top;\n",
       "    }\n",
       "\n",
       "    .dataframe thead th {\n",
       "        text-align: right;\n",
       "    }\n",
       "</style>\n",
       "<table border=\"1\" class=\"dataframe\">\n",
       "  <thead>\n",
       "    <tr style=\"text-align: right;\">\n",
       "      <th></th>\n",
       "      <th>publisher_id</th>\n",
       "      <th>publisher</th>\n",
       "    </tr>\n",
       "  </thead>\n",
       "  <tbody>\n",
       "    <tr>\n",
       "      <th>0</th>\n",
       "      <td>1</td>\n",
       "      <td>Ace</td>\n",
       "    </tr>\n",
       "    <tr>\n",
       "      <th>1</th>\n",
       "      <td>2</td>\n",
       "      <td>Ace Book</td>\n",
       "    </tr>\n",
       "    <tr>\n",
       "      <th>2</th>\n",
       "      <td>3</td>\n",
       "      <td>Ace Books</td>\n",
       "    </tr>\n",
       "    <tr>\n",
       "      <th>3</th>\n",
       "      <td>4</td>\n",
       "      <td>Ace Hardcover</td>\n",
       "    </tr>\n",
       "    <tr>\n",
       "      <th>4</th>\n",
       "      <td>5</td>\n",
       "      <td>Addison Wesley Publishing Company</td>\n",
       "    </tr>\n",
       "  </tbody>\n",
       "</table>\n",
       "</div>"
      ],
      "text/plain": [
       "   publisher_id                          publisher\n",
       "0             1                                Ace\n",
       "1             2                           Ace Book\n",
       "2             3                          Ace Books\n",
       "3             4                      Ace Hardcover\n",
       "4             5  Addison Wesley Publishing Company"
      ]
     },
     "metadata": {},
     "output_type": "display_data"
    }
   ],
   "source": [
    "table_head('publishers')"
   ]
  },
  {
   "cell_type": "markdown",
   "metadata": {},
   "source": [
    "## Расчет, сколько книг вышло после 1 января 2000 года"
   ]
  },
  {
   "cell_type": "code",
   "execution_count": 8,
   "metadata": {},
   "outputs": [
    {
     "data": {
      "text/html": [
       "<div>\n",
       "<style scoped>\n",
       "    .dataframe tbody tr th:only-of-type {\n",
       "        vertical-align: middle;\n",
       "    }\n",
       "\n",
       "    .dataframe tbody tr th {\n",
       "        vertical-align: top;\n",
       "    }\n",
       "\n",
       "    .dataframe thead th {\n",
       "        text-align: right;\n",
       "    }\n",
       "</style>\n",
       "<table border=\"1\" class=\"dataframe\">\n",
       "  <thead>\n",
       "    <tr style=\"text-align: right;\">\n",
       "      <th></th>\n",
       "      <th>books_count</th>\n",
       "    </tr>\n",
       "  </thead>\n",
       "  <tbody>\n",
       "    <tr>\n",
       "      <th>0</th>\n",
       "      <td>819</td>\n",
       "    </tr>\n",
       "  </tbody>\n",
       "</table>\n",
       "</div>"
      ],
      "text/plain": [
       "   books_count\n",
       "0          819"
      ]
     },
     "execution_count": 8,
     "metadata": {},
     "output_type": "execute_result"
    }
   ],
   "source": [
    "query = ''' \n",
    "SELECT COUNT (*) AS books_count\n",
    "  FROM books\n",
    " WHERE publication_date > '2000-01-01'\n",
    " '''\n",
    "pd.io.sql.read_sql(query, con = engine) "
   ]
  },
  {
   "cell_type": "markdown",
   "metadata": {},
   "source": [
    "**Вывод:** после 1 января 2000 года вышло 819 книг."
   ]
  },
  {
   "cell_type": "markdown",
   "metadata": {},
   "source": [
    "## Для каждой книги посчитайте количество обзоров и среднюю оценку"
   ]
  },
  {
   "cell_type": "code",
   "execution_count": 9,
   "metadata": {},
   "outputs": [
    {
     "data": {
      "text/html": [
       "<div>\n",
       "<style scoped>\n",
       "    .dataframe tbody tr th:only-of-type {\n",
       "        vertical-align: middle;\n",
       "    }\n",
       "\n",
       "    .dataframe tbody tr th {\n",
       "        vertical-align: top;\n",
       "    }\n",
       "\n",
       "    .dataframe thead th {\n",
       "        text-align: right;\n",
       "    }\n",
       "</style>\n",
       "<table border=\"1\" class=\"dataframe\">\n",
       "  <thead>\n",
       "    <tr style=\"text-align: right;\">\n",
       "      <th></th>\n",
       "      <th>book_id</th>\n",
       "      <th>title</th>\n",
       "      <th>reviews_count</th>\n",
       "      <th>rating_mean</th>\n",
       "    </tr>\n",
       "  </thead>\n",
       "  <tbody>\n",
       "    <tr>\n",
       "      <th>0</th>\n",
       "      <td>948</td>\n",
       "      <td>Twilight (Twilight  #1)</td>\n",
       "      <td>7</td>\n",
       "      <td>3.662500</td>\n",
       "    </tr>\n",
       "    <tr>\n",
       "      <th>1</th>\n",
       "      <td>963</td>\n",
       "      <td>Water for Elephants</td>\n",
       "      <td>6</td>\n",
       "      <td>3.977273</td>\n",
       "    </tr>\n",
       "    <tr>\n",
       "      <th>2</th>\n",
       "      <td>734</td>\n",
       "      <td>The Glass Castle</td>\n",
       "      <td>6</td>\n",
       "      <td>4.206897</td>\n",
       "    </tr>\n",
       "    <tr>\n",
       "      <th>3</th>\n",
       "      <td>302</td>\n",
       "      <td>Harry Potter and the Prisoner of Azkaban (Harr...</td>\n",
       "      <td>6</td>\n",
       "      <td>4.414634</td>\n",
       "    </tr>\n",
       "    <tr>\n",
       "      <th>4</th>\n",
       "      <td>695</td>\n",
       "      <td>The Curious Incident of the Dog in the Night-Time</td>\n",
       "      <td>6</td>\n",
       "      <td>4.081081</td>\n",
       "    </tr>\n",
       "    <tr>\n",
       "      <th>...</th>\n",
       "      <td>...</td>\n",
       "      <td>...</td>\n",
       "      <td>...</td>\n",
       "      <td>...</td>\n",
       "    </tr>\n",
       "    <tr>\n",
       "      <th>995</th>\n",
       "      <td>83</td>\n",
       "      <td>Anne Rice's The Vampire Lestat: A Graphic Novel</td>\n",
       "      <td>0</td>\n",
       "      <td>3.666667</td>\n",
       "    </tr>\n",
       "    <tr>\n",
       "      <th>996</th>\n",
       "      <td>808</td>\n",
       "      <td>The Natural Way to Draw</td>\n",
       "      <td>0</td>\n",
       "      <td>3.000000</td>\n",
       "    </tr>\n",
       "    <tr>\n",
       "      <th>997</th>\n",
       "      <td>672</td>\n",
       "      <td>The Cat in the Hat and Other Dr. Seuss Favorites</td>\n",
       "      <td>0</td>\n",
       "      <td>5.000000</td>\n",
       "    </tr>\n",
       "    <tr>\n",
       "      <th>998</th>\n",
       "      <td>221</td>\n",
       "      <td>Essential Tales and Poems</td>\n",
       "      <td>0</td>\n",
       "      <td>4.000000</td>\n",
       "    </tr>\n",
       "    <tr>\n",
       "      <th>999</th>\n",
       "      <td>191</td>\n",
       "      <td>Disney's Beauty and the Beast (A Little Golden...</td>\n",
       "      <td>0</td>\n",
       "      <td>4.000000</td>\n",
       "    </tr>\n",
       "  </tbody>\n",
       "</table>\n",
       "<p>1000 rows × 4 columns</p>\n",
       "</div>"
      ],
      "text/plain": [
       "     book_id                                              title  \\\n",
       "0        948                            Twilight (Twilight  #1)   \n",
       "1        963                                Water for Elephants   \n",
       "2        734                                   The Glass Castle   \n",
       "3        302  Harry Potter and the Prisoner of Azkaban (Harr...   \n",
       "4        695  The Curious Incident of the Dog in the Night-Time   \n",
       "..       ...                                                ...   \n",
       "995       83    Anne Rice's The Vampire Lestat: A Graphic Novel   \n",
       "996      808                            The Natural Way to Draw   \n",
       "997      672   The Cat in the Hat and Other Dr. Seuss Favorites   \n",
       "998      221                          Essential Tales and Poems   \n",
       "999      191  Disney's Beauty and the Beast (A Little Golden...   \n",
       "\n",
       "     reviews_count  rating_mean  \n",
       "0                7     3.662500  \n",
       "1                6     3.977273  \n",
       "2                6     4.206897  \n",
       "3                6     4.414634  \n",
       "4                6     4.081081  \n",
       "..             ...          ...  \n",
       "995              0     3.666667  \n",
       "996              0     3.000000  \n",
       "997              0     5.000000  \n",
       "998              0     4.000000  \n",
       "999              0     4.000000  \n",
       "\n",
       "[1000 rows x 4 columns]"
      ]
     },
     "execution_count": 9,
     "metadata": {},
     "output_type": "execute_result"
    }
   ],
   "source": [
    "query = '''\n",
    "SELECT b.book_id,\n",
    "       b.title,\n",
    "       COUNT (DISTINCT  rew.text) AS reviews_count,\n",
    "       AVG (rat.rating) AS rating_mean\n",
    "FROM books as b\n",
    "LEFT JOIN ratings AS rat ON b.book_id = rat.book_id\n",
    "LEFT JOIN reviews AS rew ON b.book_id = rew.book_id\n",
    "GROUP BY b.book_id, \n",
    "         b.title\n",
    "ORDER BY reviews_count DESC\n",
    "            '''\n",
    "pd.io.sql.read_sql(query, con = engine) "
   ]
  },
  {
   "cell_type": "markdown",
   "metadata": {},
   "source": [
    "**Вывод:** книга с наибольшим количеством обзоров - Twilight, получила 7 обзоров со средним рейтингом 3,66 балла."
   ]
  },
  {
   "cell_type": "markdown",
   "metadata": {},
   "source": [
    "## Определите издательство, которое выпустило наибольшее число книг толще 50 страниц — так вы исключите из анализа брошюры"
   ]
  },
  {
   "cell_type": "code",
   "execution_count": 10,
   "metadata": {},
   "outputs": [
    {
     "data": {
      "text/html": [
       "<div>\n",
       "<style scoped>\n",
       "    .dataframe tbody tr th:only-of-type {\n",
       "        vertical-align: middle;\n",
       "    }\n",
       "\n",
       "    .dataframe tbody tr th {\n",
       "        vertical-align: top;\n",
       "    }\n",
       "\n",
       "    .dataframe thead th {\n",
       "        text-align: right;\n",
       "    }\n",
       "</style>\n",
       "<table border=\"1\" class=\"dataframe\">\n",
       "  <thead>\n",
       "    <tr style=\"text-align: right;\">\n",
       "      <th></th>\n",
       "      <th>publisher</th>\n",
       "      <th>published_books</th>\n",
       "    </tr>\n",
       "  </thead>\n",
       "  <tbody>\n",
       "    <tr>\n",
       "      <th>0</th>\n",
       "      <td>Penguin Books</td>\n",
       "      <td>42</td>\n",
       "    </tr>\n",
       "  </tbody>\n",
       "</table>\n",
       "</div>"
      ],
      "text/plain": [
       "       publisher  published_books\n",
       "0  Penguin Books               42"
      ]
     },
     "execution_count": 10,
     "metadata": {},
     "output_type": "execute_result"
    }
   ],
   "source": [
    "query = ''' \n",
    "SELECT \n",
    "    p.publisher,\n",
    "    COUNT (b.title) as published_books\n",
    "FROM books as b\n",
    "LEFT JOIN  publishers as p ON b.publisher_id = p.publisher_id\n",
    "WHERE b.num_pages > 50\n",
    "GROUP BY p.publisher\n",
    "ORDER BY published_books DESC\n",
    "LIMIT 1\n",
    "'''\n",
    "pd.io.sql.read_sql(query, con = engine) "
   ]
  },
  {
   "cell_type": "markdown",
   "metadata": {},
   "source": [
    "**Вывод:** Издательство Penguin Books выпустило наибольше число книг толще 50 страниц. Всего 42 книги."
   ]
  },
  {
   "cell_type": "markdown",
   "metadata": {},
   "source": [
    "## Определите автора с самой высокой средней оценкой книг — учитывайте только книги с 50 и более оценками\n"
   ]
  },
  {
   "cell_type": "code",
   "execution_count": 12,
   "metadata": {},
   "outputs": [
    {
     "data": {
      "text/html": [
       "<div>\n",
       "<style scoped>\n",
       "    .dataframe tbody tr th:only-of-type {\n",
       "        vertical-align: middle;\n",
       "    }\n",
       "\n",
       "    .dataframe tbody tr th {\n",
       "        vertical-align: top;\n",
       "    }\n",
       "\n",
       "    .dataframe thead th {\n",
       "        text-align: right;\n",
       "    }\n",
       "</style>\n",
       "<table border=\"1\" class=\"dataframe\">\n",
       "  <thead>\n",
       "    <tr style=\"text-align: right;\">\n",
       "      <th></th>\n",
       "      <th>author_id</th>\n",
       "      <th>author</th>\n",
       "      <th>avg_rating_total</th>\n",
       "    </tr>\n",
       "  </thead>\n",
       "  <tbody>\n",
       "    <tr>\n",
       "      <th>0</th>\n",
       "      <td>236</td>\n",
       "      <td>J.K. Rowling/Mary GrandPré</td>\n",
       "      <td>4.287097</td>\n",
       "    </tr>\n",
       "  </tbody>\n",
       "</table>\n",
       "</div>"
      ],
      "text/plain": [
       "   author_id                      author  avg_rating_total\n",
       "0        236  J.K. Rowling/Mary GrandPré          4.287097"
      ]
     },
     "execution_count": 12,
     "metadata": {},
     "output_type": "execute_result"
    }
   ],
   "source": [
    "query = ''' \n",
    "SELECT\n",
    "    b.author_id,\n",
    "    authors.author,\n",
    "    AVG(ratings.rating) as avg_rating_total\n",
    "FROM books as b\n",
    "LEFT JOIN authors ON b.author_id = authors.author_id\n",
    "LEFT JOIN ratings ON ratings.book_id = b.book_id\n",
    "WHERE b.book_id IN (SELECT book_id \n",
    "                        FROM ratings\n",
    "                        GROUP BY book_id\n",
    "                        having COUNT(rating) >= 50)\n",
    "\n",
    "GROUP BY authors.author,\n",
    "         b.author_id\n",
    "ORDER BY avg_rating_total DESC\n",
    "LIMIT 1\n",
    "\n",
    "'''\n",
    "pd.io.sql.read_sql(query, con = engine) "
   ]
  },
  {
   "cell_type": "markdown",
   "metadata": {},
   "source": [
    "**Вывод:** Автор с самой высокой средней оценкой книг (среди книг с 50 и более оценками)  - J.K. Rowling/Mary GrandPré"
   ]
  },
  {
   "cell_type": "markdown",
   "metadata": {},
   "source": [
    "## Посчитайте среднее количество обзоров от пользователей, которые поставили больше 50 оценок"
   ]
  },
  {
   "cell_type": "code",
   "execution_count": 13,
   "metadata": {},
   "outputs": [
    {
     "data": {
      "text/html": [
       "<div>\n",
       "<style scoped>\n",
       "    .dataframe tbody tr th:only-of-type {\n",
       "        vertical-align: middle;\n",
       "    }\n",
       "\n",
       "    .dataframe tbody tr th {\n",
       "        vertical-align: top;\n",
       "    }\n",
       "\n",
       "    .dataframe thead th {\n",
       "        text-align: right;\n",
       "    }\n",
       "</style>\n",
       "<table border=\"1\" class=\"dataframe\">\n",
       "  <thead>\n",
       "    <tr style=\"text-align: right;\">\n",
       "      <th></th>\n",
       "      <th>avg_count_rewiew</th>\n",
       "    </tr>\n",
       "  </thead>\n",
       "  <tbody>\n",
       "    <tr>\n",
       "      <th>0</th>\n",
       "      <td>24.0</td>\n",
       "    </tr>\n",
       "  </tbody>\n",
       "</table>\n",
       "</div>"
      ],
      "text/plain": [
       "   avg_count_rewiew\n",
       "0              24.0"
      ]
     },
     "execution_count": 13,
     "metadata": {},
     "output_type": "execute_result"
    }
   ],
   "source": [
    "query = ''' \n",
    "SELECT ROUND(AVG(count)) AS avg_count_rewiew  \n",
    "FROM\n",
    "     (SELECT COUNT(text)\n",
    "      FROM reviews\n",
    "      FULL OUTER JOIN (SELECT username,\n",
    "                COUNT(rating_id) as cnt\n",
    "    FROM ratings\n",
    "    GROUP BY username) AS cnt_rating\n",
    "ON cnt_rating.username = reviews.username\n",
    "WHERE cnt > 50\n",
    "GROUP BY reviews.username) as count;                                  \n",
    "                                  \n",
    "'''\n",
    "pd.io.sql.read_sql(query, con = engine)"
   ]
  },
  {
   "cell_type": "markdown",
   "metadata": {},
   "source": [
    "**Вывод:** в среднем пользователи, поставившие более 50 оценок, оставляют 24 отзыва."
   ]
  },
  {
   "cell_type": "markdown",
   "metadata": {},
   "source": [
    "## Общий вывод"
   ]
  },
  {
   "cell_type": "markdown",
   "metadata": {},
   "source": [
    "В ходе решения заданий получены следующие результаты:\n",
    "- после 1 января 2000 года вышло 819 книг\n",
    "- книга с наибольшим количеством обзоров - Twilight, получила 7 обзоров со средним рейтингом 3,66 балла\n",
    "- Издательство Penguin Books выпустило наибольше число книг толще 50 страниц. Всего 42 книги\n",
    "- Автор с самой высокой средней оценкой книг (среди книг с 50 и более оценками) - J.K. Rowling/Mary GrandPré\n",
    "- в среднем пользователи, поставившие более 50 оценок, оставляют 24 отзыва"
   ]
  }
 ],
 "metadata": {
  "ExecuteTimeLog": [
   {
    "duration": 8404,
    "start_time": "2022-08-03T18:33:30.193Z"
   },
   {
    "duration": 3,
    "start_time": "2022-08-03T18:35:44.744Z"
   },
   {
    "duration": 59,
    "start_time": "2022-08-03T18:36:05.598Z"
   },
   {
    "duration": 73,
    "start_time": "2022-08-03T18:37:07.918Z"
   },
   {
    "duration": 22,
    "start_time": "2022-08-03T18:38:42.813Z"
   },
   {
    "duration": 22,
    "start_time": "2022-08-03T18:39:10.375Z"
   },
   {
    "duration": 93,
    "start_time": "2022-08-03T18:39:53.455Z"
   },
   {
    "duration": 12,
    "start_time": "2022-08-03T18:40:04.456Z"
   },
   {
    "duration": 12,
    "start_time": "2022-08-03T18:40:30.776Z"
   },
   {
    "duration": 11,
    "start_time": "2022-08-03T18:41:33.095Z"
   },
   {
    "duration": 29,
    "start_time": "2022-08-03T18:45:49.352Z"
   },
   {
    "duration": 27,
    "start_time": "2022-08-03T19:22:36.159Z"
   },
   {
    "duration": 95,
    "start_time": "2022-08-03T19:23:39.948Z"
   },
   {
    "duration": 11,
    "start_time": "2022-08-03T19:23:57.560Z"
   },
   {
    "duration": 6,
    "start_time": "2022-08-03T19:25:09.456Z"
   },
   {
    "duration": 110,
    "start_time": "2022-08-03T19:33:55.059Z"
   },
   {
    "duration": 95,
    "start_time": "2022-08-03T19:34:16.776Z"
   },
   {
    "duration": 110,
    "start_time": "2022-08-03T19:34:40.064Z"
   },
   {
    "duration": 94,
    "start_time": "2022-08-03T19:34:49.477Z"
   },
   {
    "duration": 522,
    "start_time": "2022-08-03T19:35:02.691Z"
   },
   {
    "duration": 105,
    "start_time": "2022-08-03T19:38:57.759Z"
   },
   {
    "duration": 105,
    "start_time": "2022-08-03T19:39:14.682Z"
   },
   {
    "duration": 72,
    "start_time": "2022-08-03T19:39:57.568Z"
   },
   {
    "duration": 73,
    "start_time": "2022-08-03T19:44:15.125Z"
   },
   {
    "duration": 71,
    "start_time": "2022-08-03T19:46:58.464Z"
   },
   {
    "duration": 29,
    "start_time": "2022-08-03T19:49:56.595Z"
   },
   {
    "duration": 85,
    "start_time": "2022-08-03T19:53:26.171Z"
   },
   {
    "duration": 77,
    "start_time": "2022-08-03T19:53:44.595Z"
   },
   {
    "duration": 75,
    "start_time": "2022-08-03T19:59:28.467Z"
   },
   {
    "duration": 80,
    "start_time": "2022-08-03T20:00:38.563Z"
   },
   {
    "duration": 80,
    "start_time": "2022-08-03T20:01:12.162Z"
   },
   {
    "duration": 28,
    "start_time": "2022-08-03T20:02:05.746Z"
   },
   {
    "duration": 83,
    "start_time": "2022-08-03T20:02:13.690Z"
   },
   {
    "duration": 13,
    "start_time": "2022-08-03T20:02:31.473Z"
   },
   {
    "duration": 95,
    "start_time": "2022-08-03T20:37:54.064Z"
   },
   {
    "duration": 94,
    "start_time": "2022-08-03T20:38:45.790Z"
   },
   {
    "duration": 91,
    "start_time": "2022-08-03T20:39:54.542Z"
   },
   {
    "duration": 109,
    "start_time": "2022-08-03T20:54:30.105Z"
   },
   {
    "duration": 88,
    "start_time": "2022-08-03T20:54:41.297Z"
   },
   {
    "duration": 108,
    "start_time": "2022-08-03T20:55:06.849Z"
   },
   {
    "duration": 87,
    "start_time": "2022-08-03T20:55:13.434Z"
   },
   {
    "duration": 106,
    "start_time": "2022-08-03T20:55:26.244Z"
   },
   {
    "duration": 98,
    "start_time": "2022-08-03T20:55:51.800Z"
   },
   {
    "duration": 105,
    "start_time": "2022-08-03T20:57:17.489Z"
   },
   {
    "duration": 107,
    "start_time": "2022-08-03T20:57:22.168Z"
   },
   {
    "duration": 113,
    "start_time": "2022-08-03T20:59:02.142Z"
   },
   {
    "duration": 92,
    "start_time": "2022-08-03T21:01:44.185Z"
   },
   {
    "duration": 90,
    "start_time": "2022-08-03T21:01:52.466Z"
   },
   {
    "duration": 107,
    "start_time": "2022-08-03T21:02:45.938Z"
   },
   {
    "duration": 94,
    "start_time": "2022-08-03T21:03:54.993Z"
   },
   {
    "duration": 18,
    "start_time": "2022-08-03T21:04:27.777Z"
   },
   {
    "duration": 106,
    "start_time": "2022-08-03T21:05:12.837Z"
   },
   {
    "duration": 124,
    "start_time": "2022-08-03T21:06:18.941Z"
   },
   {
    "duration": 15,
    "start_time": "2022-08-03T21:06:45.937Z"
   },
   {
    "duration": 90,
    "start_time": "2022-08-03T21:07:04.249Z"
   },
   {
    "duration": 14,
    "start_time": "2022-08-03T21:07:31.978Z"
   },
   {
    "duration": 101,
    "start_time": "2022-08-03T21:08:24.969Z"
   },
   {
    "duration": 15,
    "start_time": "2022-08-03T21:08:47.706Z"
   },
   {
    "duration": 17,
    "start_time": "2022-08-03T21:10:20.362Z"
   },
   {
    "duration": 112,
    "start_time": "2022-08-03T21:11:31.489Z"
   },
   {
    "duration": 15,
    "start_time": "2022-08-03T21:11:46.956Z"
   },
   {
    "duration": 92,
    "start_time": "2022-08-03T21:25:01.469Z"
   },
   {
    "duration": 3,
    "start_time": "2022-08-03T21:28:44.763Z"
   },
   {
    "duration": 13,
    "start_time": "2022-08-03T21:28:51.737Z"
   },
   {
    "duration": 104,
    "start_time": "2022-08-03T21:29:46.749Z"
   },
   {
    "duration": 102,
    "start_time": "2022-08-03T21:29:57.341Z"
   },
   {
    "duration": 91,
    "start_time": "2022-08-03T21:30:06.434Z"
   },
   {
    "duration": 114,
    "start_time": "2022-08-03T21:30:45.150Z"
   },
   {
    "duration": 95,
    "start_time": "2022-08-03T21:32:18.349Z"
   },
   {
    "duration": 108,
    "start_time": "2022-08-03T21:32:32.930Z"
   },
   {
    "duration": 111,
    "start_time": "2022-08-03T21:33:01.573Z"
   },
   {
    "duration": 102,
    "start_time": "2022-08-03T21:33:15.069Z"
   },
   {
    "duration": 94,
    "start_time": "2022-08-03T21:33:22.395Z"
   },
   {
    "duration": 101,
    "start_time": "2022-08-03T21:33:49.542Z"
   },
   {
    "duration": 12,
    "start_time": "2022-08-03T21:33:54.885Z"
   },
   {
    "duration": 111,
    "start_time": "2022-08-03T21:34:09.643Z"
   },
   {
    "duration": 142,
    "start_time": "2022-08-03T21:34:32.573Z"
   },
   {
    "duration": 90,
    "start_time": "2022-08-03T21:34:35.733Z"
   },
   {
    "duration": 14,
    "start_time": "2022-08-03T21:36:57.972Z"
   },
   {
    "duration": 94,
    "start_time": "2022-08-03T21:37:12.678Z"
   },
   {
    "duration": 13,
    "start_time": "2022-08-03T21:38:06.440Z"
   },
   {
    "duration": 13,
    "start_time": "2022-08-03T21:39:24.091Z"
   },
   {
    "duration": 14,
    "start_time": "2022-08-03T21:40:20.954Z"
   },
   {
    "duration": 12,
    "start_time": "2022-08-03T21:42:00.028Z"
   },
   {
    "duration": 95,
    "start_time": "2022-08-03T21:54:39.582Z"
   },
   {
    "duration": 30,
    "start_time": "2022-08-03T21:55:03.335Z"
   },
   {
    "duration": 27,
    "start_time": "2022-08-03T21:56:39.260Z"
   },
   {
    "duration": 31,
    "start_time": "2022-08-03T21:57:56.932Z"
   },
   {
    "duration": 9352,
    "start_time": "2022-08-03T22:02:26.536Z"
   },
   {
    "duration": 3,
    "start_time": "2022-08-03T22:02:35.890Z"
   },
   {
    "duration": 66,
    "start_time": "2022-08-03T22:02:35.895Z"
   },
   {
    "duration": 18,
    "start_time": "2022-08-03T22:02:35.962Z"
   },
   {
    "duration": 23,
    "start_time": "2022-08-03T22:02:35.981Z"
   },
   {
    "duration": 10,
    "start_time": "2022-08-03T22:02:36.005Z"
   },
   {
    "duration": 10,
    "start_time": "2022-08-03T22:02:36.016Z"
   },
   {
    "duration": 9,
    "start_time": "2022-08-03T22:02:36.027Z"
   },
   {
    "duration": 29,
    "start_time": "2022-08-03T22:02:36.037Z"
   },
   {
    "duration": 11,
    "start_time": "2022-08-03T22:02:36.067Z"
   },
   {
    "duration": 15,
    "start_time": "2022-08-03T22:02:36.079Z"
   },
   {
    "duration": 10,
    "start_time": "2022-08-03T22:02:36.095Z"
   },
   {
    "duration": 8174,
    "start_time": "2022-08-03T22:18:13.152Z"
   },
   {
    "duration": 2,
    "start_time": "2022-08-03T22:18:21.328Z"
   },
   {
    "duration": 67,
    "start_time": "2022-08-03T22:18:21.332Z"
   },
   {
    "duration": 16,
    "start_time": "2022-08-03T22:18:21.401Z"
   },
   {
    "duration": 20,
    "start_time": "2022-08-03T22:18:21.418Z"
   },
   {
    "duration": 10,
    "start_time": "2022-08-03T22:18:21.440Z"
   },
   {
    "duration": 11,
    "start_time": "2022-08-03T22:18:21.452Z"
   },
   {
    "duration": 9,
    "start_time": "2022-08-03T22:18:21.464Z"
   },
   {
    "duration": 31,
    "start_time": "2022-08-03T22:18:21.475Z"
   },
   {
    "duration": 11,
    "start_time": "2022-08-03T22:18:21.508Z"
   },
   {
    "duration": 14,
    "start_time": "2022-08-03T22:18:21.521Z"
   },
   {
    "duration": 11,
    "start_time": "2022-08-03T22:18:21.537Z"
   },
   {
    "duration": 15366,
    "start_time": "2022-08-04T05:28:01.742Z"
   },
   {
    "duration": 4,
    "start_time": "2022-08-04T05:28:17.111Z"
   },
   {
    "duration": 122,
    "start_time": "2022-08-04T05:28:17.119Z"
   },
   {
    "duration": 20,
    "start_time": "2022-08-04T05:28:17.244Z"
   },
   {
    "duration": 25,
    "start_time": "2022-08-04T05:28:17.266Z"
   },
   {
    "duration": 62,
    "start_time": "2022-08-04T05:28:17.293Z"
   },
   {
    "duration": 12,
    "start_time": "2022-08-04T05:28:17.358Z"
   },
   {
    "duration": 53,
    "start_time": "2022-08-04T05:28:17.372Z"
   },
   {
    "duration": 37,
    "start_time": "2022-08-04T05:28:17.427Z"
   },
   {
    "duration": 13,
    "start_time": "2022-08-04T05:28:17.467Z"
   },
   {
    "duration": 53,
    "start_time": "2022-08-04T05:28:17.482Z"
   },
   {
    "duration": 15,
    "start_time": "2022-08-04T05:28:17.537Z"
   },
   {
    "duration": 69,
    "start_time": "2022-08-04T15:25:58.334Z"
   },
   {
    "duration": 5969,
    "start_time": "2022-08-04T15:26:06.392Z"
   },
   {
    "duration": 369,
    "start_time": "2022-08-04T15:26:18.175Z"
   },
   {
    "duration": 137,
    "start_time": "2022-08-04T15:26:50.090Z"
   },
   {
    "duration": 288,
    "start_time": "2022-08-04T15:27:27.697Z"
   },
   {
    "duration": 139,
    "start_time": "2022-08-04T15:28:43.122Z"
   },
   {
    "duration": 172,
    "start_time": "2022-08-04T15:29:02.178Z"
   },
   {
    "duration": 150,
    "start_time": "2022-08-04T15:29:12.822Z"
   },
   {
    "duration": 153,
    "start_time": "2022-08-04T15:29:38.906Z"
   },
   {
    "duration": 223,
    "start_time": "2022-08-04T15:30:13.666Z"
   },
   {
    "duration": 147,
    "start_time": "2022-08-04T15:31:41.641Z"
   },
   {
    "duration": 184,
    "start_time": "2022-08-04T15:44:01.503Z"
   },
   {
    "duration": 141,
    "start_time": "2022-08-04T15:45:19.132Z"
   },
   {
    "duration": 145,
    "start_time": "2022-08-04T15:45:41.268Z"
   },
   {
    "duration": 138,
    "start_time": "2022-08-04T15:46:05.940Z"
   },
   {
    "duration": 149,
    "start_time": "2022-08-04T15:50:14.404Z"
   },
   {
    "duration": 171,
    "start_time": "2022-08-04T15:50:43.101Z"
   },
   {
    "duration": 150,
    "start_time": "2022-08-04T15:55:30.701Z"
   },
   {
    "duration": 68,
    "start_time": "2022-08-04T15:56:45.189Z"
   },
   {
    "duration": 46,
    "start_time": "2022-08-04T15:56:59.727Z"
   },
   {
    "duration": 183,
    "start_time": "2022-08-04T15:57:05.026Z"
   },
   {
    "duration": 170,
    "start_time": "2022-08-04T15:57:15.128Z"
   },
   {
    "duration": 154,
    "start_time": "2022-08-04T15:57:47.523Z"
   },
   {
    "duration": 102,
    "start_time": "2022-08-04T15:58:27.528Z"
   },
   {
    "duration": 223,
    "start_time": "2022-08-04T15:58:41.054Z"
   },
   {
    "duration": 88,
    "start_time": "2022-08-04T15:58:50.302Z"
   },
   {
    "duration": 90,
    "start_time": "2022-08-04T15:59:57.552Z"
   },
   {
    "duration": 159,
    "start_time": "2022-08-04T16:01:17.854Z"
   },
   {
    "duration": 140,
    "start_time": "2022-08-04T16:01:37.350Z"
   },
   {
    "duration": 92,
    "start_time": "2022-08-04T16:01:46.836Z"
   },
   {
    "duration": 90,
    "start_time": "2022-08-04T16:02:09.740Z"
   },
   {
    "duration": 176,
    "start_time": "2022-08-04T16:02:48.652Z"
   },
   {
    "duration": 89,
    "start_time": "2022-08-04T16:03:26.728Z"
   },
   {
    "duration": 4,
    "start_time": "2022-08-04T16:08:57.002Z"
   },
   {
    "duration": 23,
    "start_time": "2022-08-04T16:08:57.007Z"
   },
   {
    "duration": 294,
    "start_time": "2022-08-04T16:08:57.031Z"
   },
   {
    "duration": 117,
    "start_time": "2022-08-04T16:08:57.327Z"
   },
   {
    "duration": 102,
    "start_time": "2022-08-04T16:08:57.446Z"
   },
   {
    "duration": 80,
    "start_time": "2022-08-04T16:08:57.550Z"
   },
   {
    "duration": 91,
    "start_time": "2022-08-04T16:08:57.632Z"
   },
   {
    "duration": 72,
    "start_time": "2022-08-04T16:08:57.725Z"
   },
   {
    "duration": 118,
    "start_time": "2022-08-04T16:08:57.798Z"
   },
   {
    "duration": 75,
    "start_time": "2022-08-04T16:08:57.925Z"
   },
   {
    "duration": 92,
    "start_time": "2022-08-04T16:08:58.002Z"
   },
   {
    "duration": 85,
    "start_time": "2022-08-04T16:08:58.096Z"
   },
   {
    "duration": 79,
    "start_time": "2022-08-04T16:08:58.183Z"
   },
   {
    "duration": 9292,
    "start_time": "2022-08-05T05:47:58.845Z"
   },
   {
    "duration": 4,
    "start_time": "2022-08-05T05:48:08.140Z"
   },
   {
    "duration": 292,
    "start_time": "2022-08-05T05:48:08.146Z"
   },
   {
    "duration": 100,
    "start_time": "2022-08-05T05:48:08.441Z"
   },
   {
    "duration": 86,
    "start_time": "2022-08-05T05:48:08.543Z"
   },
   {
    "duration": 74,
    "start_time": "2022-08-05T05:48:08.632Z"
   },
   {
    "duration": 73,
    "start_time": "2022-08-05T05:48:08.708Z"
   },
   {
    "duration": 72,
    "start_time": "2022-08-05T05:48:08.783Z"
   },
   {
    "duration": 97,
    "start_time": "2022-08-05T05:48:08.857Z"
   },
   {
    "duration": 74,
    "start_time": "2022-08-05T05:48:08.957Z"
   },
   {
    "duration": 76,
    "start_time": "2022-08-05T05:48:09.033Z"
   },
   {
    "duration": 77,
    "start_time": "2022-08-05T05:48:09.111Z"
   },
   {
    "duration": 75,
    "start_time": "2022-08-05T05:48:09.191Z"
   }
  ],
  "kernelspec": {
   "display_name": "Python 3 (ipykernel)",
   "language": "python",
   "name": "python3"
  },
  "language_info": {
   "codemirror_mode": {
    "name": "ipython",
    "version": 3
   },
   "file_extension": ".py",
   "mimetype": "text/x-python",
   "name": "python",
   "nbconvert_exporter": "python",
   "pygments_lexer": "ipython3",
   "version": "3.9.7"
  },
  "toc": {
   "base_numbering": 1,
   "nav_menu": {},
   "number_sections": true,
   "sideBar": true,
   "skip_h1_title": true,
   "title_cell": "Table of Contents",
   "title_sidebar": "Contents",
   "toc_cell": false,
   "toc_position": {},
   "toc_section_display": true,
   "toc_window_display": false
  }
 },
 "nbformat": 4,
 "nbformat_minor": 2
}
