{
 "cells": [
  {
   "cell_type": "markdown",
   "id": "70d18f59",
   "metadata": {},
   "source": [
    "# Исследование надежности заемщиков."
   ]
  },
  {
   "cell_type": "markdown",
   "id": "96dc2b60",
   "metadata": {},
   "source": [
    "### Шаг 1. Обзор данных"
   ]
  },
  {
   "cell_type": "code",
   "execution_count": 1,
   "id": "5178c62c",
   "metadata": {},
   "outputs": [
    {
     "name": "stdout",
     "output_type": "stream",
     "text": [
      "<class 'pandas.core.frame.DataFrame'>\n",
      "RangeIndex: 21525 entries, 0 to 21524\n",
      "Data columns (total 12 columns):\n",
      "children            21525 non-null int64\n",
      "days_employed       19351 non-null float64\n",
      "dob_years           21525 non-null int64\n",
      "education           21525 non-null object\n",
      "education_id        21525 non-null int64\n",
      "family_status       21525 non-null object\n",
      "family_status_id    21525 non-null int64\n",
      "gender              21525 non-null object\n",
      "income_type         21525 non-null object\n",
      "debt                21525 non-null int64\n",
      "total_income        19351 non-null float64\n",
      "purpose             21525 non-null object\n",
      "dtypes: float64(2), int64(5), object(5)\n",
      "memory usage: 2.0+ MB\n",
      " 0     14149\n",
      " 1      4818\n",
      " 2      2055\n",
      " 3       330\n",
      " 20       76\n",
      "-1        47\n",
      " 4        41\n",
      " 5         9\n",
      "Name: children, dtype: int64\n",
      "-986.927316     1\n",
      "-7026.359174    1\n",
      "-4236.274243    1\n",
      "-6620.396473    1\n",
      "-1238.560080    1\n",
      "               ..\n",
      "-2849.351119    1\n",
      "-5619.328204    1\n",
      "-448.829898     1\n",
      "-1687.038672    1\n",
      "-582.538413     1\n",
      "Name: days_employed, Length: 19351, dtype: int64\n",
      "35    617\n",
      "40    609\n",
      "41    607\n",
      "34    603\n",
      "38    598\n",
      "42    597\n",
      "33    581\n",
      "39    573\n",
      "31    560\n",
      "36    555\n",
      "44    547\n",
      "29    545\n",
      "30    540\n",
      "48    538\n",
      "37    537\n",
      "50    514\n",
      "43    513\n",
      "32    510\n",
      "49    508\n",
      "28    503\n",
      "45    497\n",
      "27    493\n",
      "56    487\n",
      "52    484\n",
      "47    480\n",
      "54    479\n",
      "46    475\n",
      "58    461\n",
      "57    460\n",
      "53    459\n",
      "51    448\n",
      "59    444\n",
      "55    443\n",
      "26    408\n",
      "60    377\n",
      "25    357\n",
      "61    355\n",
      "62    352\n",
      "63    269\n",
      "64    265\n",
      "24    264\n",
      "23    254\n",
      "65    194\n",
      "66    183\n",
      "22    183\n",
      "67    167\n",
      "21    111\n",
      "0     101\n",
      "68     99\n",
      "69     85\n",
      "70     65\n",
      "71     58\n",
      "20     51\n",
      "72     33\n",
      "19     14\n",
      "73      8\n",
      "74      6\n",
      "75      1\n",
      "Name: dob_years, dtype: int64\n",
      "среднее                13750\n",
      "высшее                  4718\n",
      "СРЕДНЕЕ                  772\n",
      "Среднее                  711\n",
      "неоконченное высшее      668\n",
      "ВЫСШЕЕ                   274\n",
      "Высшее                   268\n",
      "начальное                250\n",
      "Неоконченное высшее       47\n",
      "НЕОКОНЧЕННОЕ ВЫСШЕЕ       29\n",
      "НАЧАЛЬНОЕ                 17\n",
      "Начальное                 15\n",
      "ученая степень             4\n",
      "Ученая степень             1\n",
      "УЧЕНАЯ СТЕПЕНЬ             1\n",
      "Name: education, dtype: int64\n",
      "1    15233\n",
      "0     5260\n",
      "2      744\n",
      "3      282\n",
      "4        6\n",
      "Name: education_id, dtype: int64\n",
      "женат / замужем          12380\n",
      "гражданский брак          4177\n",
      "Не женат / не замужем     2813\n",
      "в разводе                 1195\n",
      "вдовец / вдова             960\n",
      "Name: family_status, dtype: int64\n",
      "0    12380\n",
      "1     4177\n",
      "4     2813\n",
      "3     1195\n",
      "2      960\n",
      "Name: family_status_id, dtype: int64\n",
      "F      14236\n",
      "M       7288\n",
      "XNA        1\n",
      "Name: gender, dtype: int64\n",
      "сотрудник          11119\n",
      "компаньон           5085\n",
      "пенсионер           3856\n",
      "госслужащий         1459\n",
      "предприниматель        2\n",
      "безработный            2\n",
      "в декрете              1\n",
      "студент                1\n",
      "Name: income_type, dtype: int64\n",
      "0    19784\n",
      "1     1741\n",
      "Name: debt, dtype: int64\n",
      "112874.418757    1\n",
      "133912.272223    1\n",
      "182036.676828    1\n",
      "122421.963500    1\n",
      "198271.837248    1\n",
      "                ..\n",
      "133299.194693    1\n",
      "115080.782380    1\n",
      "84896.781597     1\n",
      "153838.839212    1\n",
      "150014.128510    1\n",
      "Name: total_income, Length: 19351, dtype: int64\n",
      "свадьба                                   797\n",
      "на проведение свадьбы                     777\n",
      "сыграть свадьбу                           774\n",
      "операции с недвижимостью                  676\n",
      "покупка коммерческой недвижимости         664\n",
      "покупка жилья для сдачи                   653\n",
      "операции с жильем                         653\n",
      "операции с коммерческой недвижимостью     651\n",
      "жилье                                     647\n",
      "покупка жилья                             647\n",
      "покупка жилья для семьи                   641\n",
      "строительство собственной недвижимости    635\n",
      "недвижимость                              634\n",
      "операции со своей недвижимостью           630\n",
      "строительство жилой недвижимости          626\n",
      "покупка недвижимости                      624\n",
      "строительство недвижимости                620\n",
      "покупка своего жилья                      620\n",
      "ремонт жилью                              612\n",
      "покупка жилой недвижимости                607\n",
      "на покупку своего автомобиля              505\n",
      "заняться высшим образованием              496\n",
      "автомобиль                                495\n",
      "сделка с подержанным автомобилем          489\n",
      "свой автомобиль                           480\n",
      "на покупку подержанного автомобиля        479\n",
      "автомобили                                478\n",
      "на покупку автомобиля                     472\n",
      "приобретение автомобиля                   462\n",
      "дополнительное образование                462\n",
      "сделка с автомобилем                      455\n",
      "высшее образование                        453\n",
      "образование                               447\n",
      "получение дополнительного образования     447\n",
      "получение образования                     443\n",
      "профильное образование                    436\n",
      "получение высшего образования             426\n",
      "заняться образованием                     412\n",
      "Name: purpose, dtype: int64\n"
     ]
    },
    {
     "data": {
      "text/plain": [
       "54"
      ]
     },
     "execution_count": 1,
     "metadata": {},
     "output_type": "execute_result"
    }
   ],
   "source": [
    "import pandas as pd\n",
    "import seaborn as sns\n",
    "data = pd.read_csv('/datasets/data.csv') #открытие файла с данными\n",
    "\n",
    "data.info()#просмотр общей информации о датафрейме\n",
    "\n",
    "columns = data.columns #Экспресс-анализ данных в таблице для поиска артефактов данных\n",
    "for column in columns:\n",
    "    print (data[column].value_counts())\n",
    "\n",
    "    \n",
    "data.duplicated().sum() #поиск наличия явных дубликатов данных\n"
   ]
  },
  {
   "cell_type": "markdown",
   "id": "3bd3e2b8",
   "metadata": {},
   "source": [
    "Получили таблицу с данными и провели анализ качества данных. Видим что таблица состоит из 12 колонок с различным качеством данных, в некоторых столбцах имеются пропуски данных. В начальном виде таблица имеет **54** явных дубликата.  \n",
    "\n",
    "В столбце `children` имеется явные артефакты: 47 раз ввели количество детей -1, чего быть не может, а так же 76 раз ввели значение 20, что тоже является сомнительными данными. Предполагаю, что эти артефакты в данных данной строки связаны с человеческим фактором при заполнении форм сотрудниками, откуда эти данные тянутся.  \n",
    "\n",
    "Столбец `days_employed` содержит 19351 уникальных, но, увы, бесполезных для нашего исследования данных. Во-первых, в столбце содержатся как положительные, так и отрицательные(!) значения. И если отбросить гипотезу, что отрицательные значения — это количества дней в загробной жизни, которые человек отрабатывает выданный кредит, то наличие таких значений, как 400281 дней трудового стажа (или 1096 лет) говорит нам, что данные в таком виде не пригодны для анализа. Во-вторых, имеются пропуски в данных (NaN). Согласно условиям задания, нам не требуется знать количество дней стажа для анализа, поэтому со столбцом `days_employed` можно смело прощаться, удалив его.  \n",
    "\n",
    "Столбец `education` содержит данные об образовании клиентов, но они записаны с применением разных регистров. Приведем к единому знаменателю, преобразовав данные в строчный формат. После преобразования количество повторений значений `education` совпадет с количеством повторений значения `education_id`. В дальнейшем данные могут при необходимости лечь в словарь категорий.\n",
    "\n",
    "Столбцы `education_id` и `family_status_id` содержат корректные значения, дополняющие друг друга. Их можно будет легко сгруппировать в отдельный словарь категорий для упрощения датафрейма.  \n",
    "\n",
    "В столбце `gender` имеется 1 артефакт — значение **\"XNA\"**. Возможно, это ошибка сотрудника, заполнявшего данные в анкете, возможно это дань современных тенденциям в отказе от биполярных гендеров. Не думаю, что данное значение способно повлиять на дальнейший анализ, оставим его. \n",
    "\n",
    "К столбцу `debt` нет вопросов о качестве данных. \n",
    "\n",
    "В столбце `total_income` у данных имеется две проблемы. Во-первых, пропуски, в таком объеме, что мы не можем их удалить, так как сильно исказится исходный сет данных **(2174 пропуска или почти 11% данных)**. Во-вторых, большое количество чисел после запятой, такого быть не может. Будем далее исправлять данные проблемы. Замену пропущенных значений будем производить на медианные значения, найденные по  аналогичной группе заемщиков. **Использование медианного значения дохода, найденной по группе заемщиков - наиболее точный способ заполнить пропуски в данных о доходе, так как она будет наиболее точно интерпретировать \"среднее\" значение в группе заемщиков, учтя возможный разброс в доходах. \n",
    "\n",
    "В столбце `purpose` одинаковые данные записаны с помощью разных слов (\"Образование\", \"получение образования\", \"получение дополнитьного образования\"). С помощью лемматизации можно будет составить топ целей получения кредита.\n"
   ]
  },
  {
   "cell_type": "markdown",
   "id": "f466d5df",
   "metadata": {},
   "source": [
    "### Шаг 2.1 Заполнение пропусков"
   ]
  },
  {
   "cell_type": "code",
   "execution_count": 2,
   "id": "b5b5b096",
   "metadata": {
    "scrolled": true
   },
   "outputs": [
    {
     "name": "stdout",
     "output_type": "stream",
     "text": [
      "<class 'pandas.core.frame.DataFrame'>\n",
      "RangeIndex: 21525 entries, 0 to 21524\n",
      "Data columns (total 12 columns):\n",
      "children            21525 non-null int64\n",
      "days_employed       19351 non-null float64\n",
      "dob_years           21525 non-null int64\n",
      "education           21525 non-null object\n",
      "education_id        21525 non-null int64\n",
      "family_status       21525 non-null object\n",
      "family_status_id    21525 non-null int64\n",
      "gender              21525 non-null object\n",
      "income_type         21525 non-null object\n",
      "debt                21525 non-null int64\n",
      "total_income        21525 non-null float64\n",
      "purpose             21525 non-null object\n",
      "dtypes: float64(2), int64(5), object(5)\n",
      "memory usage: 2.0+ MB\n"
     ]
    }
   ],
   "source": [
    "data['education'] = data['education'].str.lower() #приведение значений столбца к строчной записи\n",
    "#заполнение пропусков исходя из группировки данных по типу заемщиков и их уровне образования\n",
    "data_transformed = data.groupby(['income_type', 'education'])['total_income'].transform('median') \n",
    "data['total_income'] = data['total_income'].fillna(data_transformed)\n",
    "data.info() #проверка данных о результате операций, пропуски заполненны\n"
   ]
  },
  {
   "cell_type": "markdown",
   "id": "58c7509c",
   "metadata": {},
   "source": [
    "### Шаг 2.2 Проверка данных на аномалии и исправления."
   ]
  },
  {
   "cell_type": "code",
   "execution_count": 3,
   "id": "dbb3475c",
   "metadata": {
    "scrolled": true
   },
   "outputs": [],
   "source": [
    "data = data.drop(columns ='days_employed',axis=1) #удаление ненужного столбца\n",
    "data ['children'] = data['children'].replace([20, -1], [2, 1]) #замена ошибочно введенных значений в столбце с количесвом детей\n"
   ]
  },
  {
   "cell_type": "markdown",
   "id": "0261c5e7",
   "metadata": {},
   "source": [
    "### Шаг 2.3. Изменение типов данных."
   ]
  },
  {
   "cell_type": "code",
   "execution_count": 4,
   "id": "66f5f943",
   "metadata": {},
   "outputs": [],
   "source": [
    "data ['total_income'] = data['total_income'].astype('int') \n",
    "# присвоение столбцу total_income типа данных integer для устранения ненужных чисел после запятой \n"
   ]
  },
  {
   "cell_type": "markdown",
   "id": "0f9bcd92",
   "metadata": {},
   "source": [
    "### Шаг 2.4. Удаление дубликатов."
   ]
  },
  {
   "cell_type": "code",
   "execution_count": 5,
   "id": "63846f9f",
   "metadata": {
    "scrolled": true
   },
   "outputs": [
    {
     "name": "stdout",
     "output_type": "stream",
     "text": [
      "71\n",
      "<class 'pandas.core.frame.DataFrame'>\n",
      "RangeIndex: 21454 entries, 0 to 21453\n",
      "Data columns (total 11 columns):\n",
      "children            21454 non-null int64\n",
      "dob_years           21454 non-null int64\n",
      "education           21454 non-null object\n",
      "education_id        21454 non-null int64\n",
      "family_status       21454 non-null object\n",
      "family_status_id    21454 non-null int64\n",
      "gender              21454 non-null object\n",
      "income_type         21454 non-null object\n",
      "debt                21454 non-null int64\n",
      "total_income        21454 non-null int64\n",
      "purpose             21454 non-null object\n",
      "dtypes: int64(6), object(5)\n",
      "memory usage: 1.8+ MB\n"
     ]
    }
   ],
   "source": [
    "print(data.duplicated().sum()) \n",
    "#Пересчет явных дубликатов после приведения столбца  'education' к строчной записи и обработки данных от  неявных дубликатов \n",
    "#и избавления от чисел после запятой в столбце 'total_income' \n",
    "data = data.drop_duplicates().reset_index(drop=True)\n",
    "data.info() # проверка результата, дубликаты устранены"
   ]
  },
  {
   "cell_type": "markdown",
   "id": "72513c3a",
   "metadata": {},
   "source": [
    "Удаление дубликатов произведено по схеме — обнаружение явных дубликатов — исправление данных для выявления неявных дубликатов — удаление дубликатов с помощью специальной функции Pandas. Этот способ позволяет получить на выходе \"чистые\" данные без всякого \"шума\" и приступить к дальнейшему их анализу.  \n",
    "\n",
    "Причиной появления данных дубликатов является человеческий фактор и несовершенность системы, с помощью которой производится анкетирование или создание анкеты заёмщика.  Система не проверяет ввод данных за пользователем при первоначально их вводе, явно отсутствует выбор данных при вводе из заранее использованных пресетов (о чем свидетельствует разные формы записи данных об образовании) и позволяет человеку ввести данные используя разный регистр. Так же при вводе данных происходят опечатки, т.е. возникает человеческий фактор."
   ]
  },
  {
   "cell_type": "markdown",
   "id": "176a76de",
   "metadata": {},
   "source": [
    "### Шаг 2.5. Формирование дополнительных датафреймов словарей, декомпозиция исходного датафрейма."
   ]
  },
  {
   "cell_type": "code",
   "execution_count": 6,
   "id": "489f94c7",
   "metadata": {},
   "outputs": [
    {
     "data": {
      "text/html": [
       "<div>\n",
       "<style scoped>\n",
       "    .dataframe tbody tr th:only-of-type {\n",
       "        vertical-align: middle;\n",
       "    }\n",
       "\n",
       "    .dataframe tbody tr th {\n",
       "        vertical-align: top;\n",
       "    }\n",
       "\n",
       "    .dataframe thead th {\n",
       "        text-align: right;\n",
       "    }\n",
       "</style>\n",
       "<table border=\"1\" class=\"dataframe\">\n",
       "  <thead>\n",
       "    <tr style=\"text-align: right;\">\n",
       "      <th></th>\n",
       "      <th>family_status</th>\n",
       "      <th>family_status_id</th>\n",
       "    </tr>\n",
       "  </thead>\n",
       "  <tbody>\n",
       "    <tr>\n",
       "      <td>0</td>\n",
       "      <td>женат / замужем</td>\n",
       "      <td>0</td>\n",
       "    </tr>\n",
       "    <tr>\n",
       "      <td>1</td>\n",
       "      <td>гражданский брак</td>\n",
       "      <td>1</td>\n",
       "    </tr>\n",
       "    <tr>\n",
       "      <td>2</td>\n",
       "      <td>вдовец / вдова</td>\n",
       "      <td>2</td>\n",
       "    </tr>\n",
       "    <tr>\n",
       "      <td>3</td>\n",
       "      <td>в разводе</td>\n",
       "      <td>3</td>\n",
       "    </tr>\n",
       "    <tr>\n",
       "      <td>4</td>\n",
       "      <td>Не женат / не замужем</td>\n",
       "      <td>4</td>\n",
       "    </tr>\n",
       "  </tbody>\n",
       "</table>\n",
       "</div>"
      ],
      "text/plain": [
       "           family_status  family_status_id\n",
       "0        женат / замужем                 0\n",
       "1       гражданский брак                 1\n",
       "2         вдовец / вдова                 2\n",
       "3              в разводе                 3\n",
       "4  Не женат / не замужем                 4"
      ]
     },
     "metadata": {},
     "output_type": "display_data"
    },
    {
     "data": {
      "text/html": [
       "<div>\n",
       "<style scoped>\n",
       "    .dataframe tbody tr th:only-of-type {\n",
       "        vertical-align: middle;\n",
       "    }\n",
       "\n",
       "    .dataframe tbody tr th {\n",
       "        vertical-align: top;\n",
       "    }\n",
       "\n",
       "    .dataframe thead th {\n",
       "        text-align: right;\n",
       "    }\n",
       "</style>\n",
       "<table border=\"1\" class=\"dataframe\">\n",
       "  <thead>\n",
       "    <tr style=\"text-align: right;\">\n",
       "      <th></th>\n",
       "      <th>education</th>\n",
       "      <th>education_id</th>\n",
       "    </tr>\n",
       "  </thead>\n",
       "  <tbody>\n",
       "    <tr>\n",
       "      <td>0</td>\n",
       "      <td>высшее</td>\n",
       "      <td>0</td>\n",
       "    </tr>\n",
       "    <tr>\n",
       "      <td>1</td>\n",
       "      <td>среднее</td>\n",
       "      <td>1</td>\n",
       "    </tr>\n",
       "    <tr>\n",
       "      <td>2</td>\n",
       "      <td>неоконченное высшее</td>\n",
       "      <td>2</td>\n",
       "    </tr>\n",
       "    <tr>\n",
       "      <td>3</td>\n",
       "      <td>начальное</td>\n",
       "      <td>3</td>\n",
       "    </tr>\n",
       "    <tr>\n",
       "      <td>4</td>\n",
       "      <td>ученая степень</td>\n",
       "      <td>4</td>\n",
       "    </tr>\n",
       "  </tbody>\n",
       "</table>\n",
       "</div>"
      ],
      "text/plain": [
       "             education  education_id\n",
       "0               высшее             0\n",
       "1              среднее             1\n",
       "2  неоконченное высшее             2\n",
       "3            начальное             3\n",
       "4       ученая степень             4"
      ]
     },
     "metadata": {},
     "output_type": "display_data"
    }
   ],
   "source": [
    "education_dict = data [['education', 'education_id']] #формирование словаря с данными об образовании, удаление дубликатов строк в словаре\n",
    "education_dict = education_dict.drop_duplicates().reset_index(drop=True)\n",
    "\n",
    "\n",
    "family_status_dict = data [['family_status', 'family_status_id']] #формирование словаря с данными о статусе семьи, удаление дубликатов строк в словаре\n",
    "family_status_dict = family_status_dict.drop_duplicates().reset_index(drop=True)\n",
    "\n",
    "data = data.drop(columns = ['family_status', 'education'],axis=1) #декомпозиция исхоного датасета\n",
    "\n",
    "display(family_status_dict)\n",
    "display(education_dict)"
   ]
  },
  {
   "cell_type": "markdown",
   "id": "1f7c03d7",
   "metadata": {},
   "source": [
    "### Шаг 2.6. Категоризация дохода."
   ]
  },
  {
   "cell_type": "code",
   "execution_count": 7,
   "id": "4215559f",
   "metadata": {},
   "outputs": [
    {
     "data": {
      "text/plain": [
       "C    15829\n",
       "B     5228\n",
       "D      350\n",
       "A       25\n",
       "E       22\n",
       "Name: total_income_category, dtype: int64"
      ]
     },
     "execution_count": 7,
     "metadata": {},
     "output_type": "execute_result"
    }
   ],
   "source": [
    "#написание функции по категоризации дохода и вывод результатов о категорий на экран\n",
    "def income_grouped (income):\n",
    "    if income <= 30000:\n",
    "        return 'E'\n",
    "    if income >= 30001 and income <=50000:\n",
    "        return 'D'\n",
    "    if income >= 50001 and income <= 200000:\n",
    "        return 'C'\n",
    "    if income >=200001 and income <=1000000:\n",
    "        return 'B'\n",
    "    return 'A'\n",
    "\n",
    "data['total_income_category'] = data['total_income'].apply(income_grouped)\n",
    "data['total_income_category'].value_counts()"
   ]
  },
  {
   "cell_type": "code",
   "execution_count": 8,
   "id": "16231f03",
   "metadata": {
    "scrolled": false
   },
   "outputs": [
    {
     "data": {
      "text/html": [
       "<div>\n",
       "<style scoped>\n",
       "    .dataframe tbody tr th:only-of-type {\n",
       "        vertical-align: middle;\n",
       "    }\n",
       "\n",
       "    .dataframe tbody tr th {\n",
       "        vertical-align: top;\n",
       "    }\n",
       "\n",
       "    .dataframe thead th {\n",
       "        text-align: right;\n",
       "    }\n",
       "</style>\n",
       "<table border=\"1\" class=\"dataframe\">\n",
       "  <thead>\n",
       "    <tr style=\"text-align: right;\">\n",
       "      <th></th>\n",
       "      <th>children</th>\n",
       "      <th>dob_years</th>\n",
       "      <th>education_id</th>\n",
       "      <th>family_status_id</th>\n",
       "      <th>gender</th>\n",
       "      <th>income_type</th>\n",
       "      <th>debt</th>\n",
       "      <th>total_income</th>\n",
       "      <th>purpose</th>\n",
       "      <th>total_income_category</th>\n",
       "      <th>purpose_category</th>\n",
       "    </tr>\n",
       "  </thead>\n",
       "  <tbody>\n",
       "    <tr>\n",
       "      <td>0</td>\n",
       "      <td>1</td>\n",
       "      <td>42</td>\n",
       "      <td>0</td>\n",
       "      <td>0</td>\n",
       "      <td>F</td>\n",
       "      <td>сотрудник</td>\n",
       "      <td>0</td>\n",
       "      <td>253875</td>\n",
       "      <td>покупка жилья</td>\n",
       "      <td>B</td>\n",
       "      <td>операции с недвижимостью</td>\n",
       "    </tr>\n",
       "    <tr>\n",
       "      <td>1</td>\n",
       "      <td>1</td>\n",
       "      <td>36</td>\n",
       "      <td>1</td>\n",
       "      <td>0</td>\n",
       "      <td>F</td>\n",
       "      <td>сотрудник</td>\n",
       "      <td>0</td>\n",
       "      <td>112080</td>\n",
       "      <td>приобретение автомобиля</td>\n",
       "      <td>C</td>\n",
       "      <td>операции с автомобилем</td>\n",
       "    </tr>\n",
       "    <tr>\n",
       "      <td>2</td>\n",
       "      <td>0</td>\n",
       "      <td>33</td>\n",
       "      <td>1</td>\n",
       "      <td>0</td>\n",
       "      <td>M</td>\n",
       "      <td>сотрудник</td>\n",
       "      <td>0</td>\n",
       "      <td>145885</td>\n",
       "      <td>покупка жилья</td>\n",
       "      <td>C</td>\n",
       "      <td>операции с недвижимостью</td>\n",
       "    </tr>\n",
       "    <tr>\n",
       "      <td>3</td>\n",
       "      <td>3</td>\n",
       "      <td>32</td>\n",
       "      <td>1</td>\n",
       "      <td>0</td>\n",
       "      <td>M</td>\n",
       "      <td>сотрудник</td>\n",
       "      <td>0</td>\n",
       "      <td>267628</td>\n",
       "      <td>дополнительное образование</td>\n",
       "      <td>B</td>\n",
       "      <td>получение образования</td>\n",
       "    </tr>\n",
       "    <tr>\n",
       "      <td>4</td>\n",
       "      <td>0</td>\n",
       "      <td>53</td>\n",
       "      <td>1</td>\n",
       "      <td>1</td>\n",
       "      <td>F</td>\n",
       "      <td>пенсионер</td>\n",
       "      <td>0</td>\n",
       "      <td>158616</td>\n",
       "      <td>сыграть свадьбу</td>\n",
       "      <td>C</td>\n",
       "      <td>проведение свадьбы</td>\n",
       "    </tr>\n",
       "    <tr>\n",
       "      <td>5</td>\n",
       "      <td>0</td>\n",
       "      <td>27</td>\n",
       "      <td>0</td>\n",
       "      <td>1</td>\n",
       "      <td>M</td>\n",
       "      <td>компаньон</td>\n",
       "      <td>0</td>\n",
       "      <td>255763</td>\n",
       "      <td>покупка жилья</td>\n",
       "      <td>B</td>\n",
       "      <td>операции с недвижимостью</td>\n",
       "    </tr>\n",
       "    <tr>\n",
       "      <td>6</td>\n",
       "      <td>0</td>\n",
       "      <td>43</td>\n",
       "      <td>0</td>\n",
       "      <td>0</td>\n",
       "      <td>F</td>\n",
       "      <td>компаньон</td>\n",
       "      <td>0</td>\n",
       "      <td>240525</td>\n",
       "      <td>операции с жильем</td>\n",
       "      <td>B</td>\n",
       "      <td>операции с недвижимостью</td>\n",
       "    </tr>\n",
       "    <tr>\n",
       "      <td>7</td>\n",
       "      <td>0</td>\n",
       "      <td>50</td>\n",
       "      <td>1</td>\n",
       "      <td>0</td>\n",
       "      <td>M</td>\n",
       "      <td>сотрудник</td>\n",
       "      <td>0</td>\n",
       "      <td>135823</td>\n",
       "      <td>образование</td>\n",
       "      <td>C</td>\n",
       "      <td>получение образования</td>\n",
       "    </tr>\n",
       "    <tr>\n",
       "      <td>8</td>\n",
       "      <td>2</td>\n",
       "      <td>35</td>\n",
       "      <td>0</td>\n",
       "      <td>1</td>\n",
       "      <td>F</td>\n",
       "      <td>сотрудник</td>\n",
       "      <td>0</td>\n",
       "      <td>95856</td>\n",
       "      <td>на проведение свадьбы</td>\n",
       "      <td>C</td>\n",
       "      <td>проведение свадьбы</td>\n",
       "    </tr>\n",
       "    <tr>\n",
       "      <td>9</td>\n",
       "      <td>0</td>\n",
       "      <td>41</td>\n",
       "      <td>1</td>\n",
       "      <td>0</td>\n",
       "      <td>M</td>\n",
       "      <td>сотрудник</td>\n",
       "      <td>0</td>\n",
       "      <td>144425</td>\n",
       "      <td>покупка жилья для семьи</td>\n",
       "      <td>C</td>\n",
       "      <td>операции с недвижимостью</td>\n",
       "    </tr>\n",
       "  </tbody>\n",
       "</table>\n",
       "</div>"
      ],
      "text/plain": [
       "   children  dob_years  education_id  family_status_id gender income_type  \\\n",
       "0         1         42             0                 0      F   сотрудник   \n",
       "1         1         36             1                 0      F   сотрудник   \n",
       "2         0         33             1                 0      M   сотрудник   \n",
       "3         3         32             1                 0      M   сотрудник   \n",
       "4         0         53             1                 1      F   пенсионер   \n",
       "5         0         27             0                 1      M   компаньон   \n",
       "6         0         43             0                 0      F   компаньон   \n",
       "7         0         50             1                 0      M   сотрудник   \n",
       "8         2         35             0                 1      F   сотрудник   \n",
       "9         0         41             1                 0      M   сотрудник   \n",
       "\n",
       "   debt  total_income                     purpose total_income_category  \\\n",
       "0     0        253875               покупка жилья                     B   \n",
       "1     0        112080     приобретение автомобиля                     C   \n",
       "2     0        145885               покупка жилья                     C   \n",
       "3     0        267628  дополнительное образование                     B   \n",
       "4     0        158616             сыграть свадьбу                     C   \n",
       "5     0        255763               покупка жилья                     B   \n",
       "6     0        240525           операции с жильем                     B   \n",
       "7     0        135823                 образование                     C   \n",
       "8     0         95856       на проведение свадьбы                     C   \n",
       "9     0        144425     покупка жилья для семьи                     C   \n",
       "\n",
       "           purpose_category  \n",
       "0  операции с недвижимостью  \n",
       "1    операции с автомобилем  \n",
       "2  операции с недвижимостью  \n",
       "3     получение образования  \n",
       "4        проведение свадьбы  \n",
       "5  операции с недвижимостью  \n",
       "6  операции с недвижимостью  \n",
       "7     получение образования  \n",
       "8        проведение свадьбы  \n",
       "9  операции с недвижимостью  "
      ]
     },
     "execution_count": 8,
     "metadata": {},
     "output_type": "execute_result"
    }
   ],
   "source": [
    "#написание функции по категризации данных о целей кредита с примением Лемматизации для сортировки данных  \n",
    "\n",
    "from pymystem3 import Mystem\n",
    "m = Mystem() \n",
    "data['lemmas'] = data['purpose'].apply(m.lemmatize)\n",
    "def purpose_grouped(lemmas):\n",
    "    \n",
    "    if 'образование' in lemmas:\n",
    "        return 'получение образования'\n",
    "    if 'свадьба' in lemmas:\n",
    "        return 'проведение свадьбы'\n",
    "    if 'автомобиль' in lemmas:\n",
    "        return 'операции с автомобилем'\n",
    "    if 'жилье' in lemmas or 'недвижимость' in lemmas:\n",
    "        return 'операции с недвижимостью'\n",
    "    return 'опять косяк'\n",
    "\n",
    "data['purpose_category'] = data['lemmas'].apply(purpose_grouped)\n",
    "data = data.drop(columns = 'lemmas', axis = 1)\n",
    "\n",
    "data.head(10) #вывод 10 первых индексов итогового варианта датасета для визуального контроля дататсета \n"
   ]
  },
  {
   "cell_type": "markdown",
   "id": "b76e2141",
   "metadata": {},
   "source": [
    "### Ответы на вопросы."
   ]
  },
  {
   "cell_type": "markdown",
   "id": "f0008b05",
   "metadata": {},
   "source": [
    "##### Вопрос 1: Есть ли зависимость между количеством детей и возвратом кредита в срок?"
   ]
  },
  {
   "cell_type": "code",
   "execution_count": 9,
   "id": "207a1896",
   "metadata": {},
   "outputs": [
    {
     "data": {
      "text/html": [
       "<div>\n",
       "<style scoped>\n",
       "    .dataframe tbody tr th:only-of-type {\n",
       "        vertical-align: middle;\n",
       "    }\n",
       "\n",
       "    .dataframe tbody tr th {\n",
       "        vertical-align: top;\n",
       "    }\n",
       "\n",
       "    .dataframe thead th {\n",
       "        text-align: right;\n",
       "    }\n",
       "</style>\n",
       "<table border=\"1\" class=\"dataframe\">\n",
       "  <thead>\n",
       "    <tr style=\"text-align: right;\">\n",
       "      <th>debt</th>\n",
       "      <th>0</th>\n",
       "      <th>1</th>\n",
       "      <th>debt_percentage</th>\n",
       "    </tr>\n",
       "    <tr>\n",
       "      <th>children_group</th>\n",
       "      <th></th>\n",
       "      <th></th>\n",
       "      <th></th>\n",
       "    </tr>\n",
       "  </thead>\n",
       "  <tbody>\n",
       "    <tr>\n",
       "      <td>c детьми</td>\n",
       "      <td>6685</td>\n",
       "      <td>678</td>\n",
       "      <td>9.208203</td>\n",
       "    </tr>\n",
       "    <tr>\n",
       "      <td>без детей</td>\n",
       "      <td>13028</td>\n",
       "      <td>1063</td>\n",
       "      <td>7.543822</td>\n",
       "    </tr>\n",
       "  </tbody>\n",
       "</table>\n",
       "</div>"
      ],
      "text/plain": [
       "debt                0     1  debt_percentage\n",
       "children_group                              \n",
       "c детьми         6685   678         9.208203\n",
       "без детей       13028  1063         7.543822"
      ]
     },
     "execution_count": 9,
     "metadata": {},
     "output_type": "execute_result"
    }
   ],
   "source": [
    "def data_clildren_group (children):\n",
    "    if children == 0:\n",
    "        return 'без детей'\n",
    "    return 'c детьми'\n",
    "\n",
    "data['children_group'] = data['children'].apply(data_clildren_group)\n",
    "data_pivot_children_group = data.pivot_table(index = ['children_group'], columns = 'debt', values = 'children', aggfunc = 'count')\n",
    "data_pivot_children_group['debt_percentage'] = data_pivot_children_group[1]/(data_pivot_children_group [0] + data_pivot_children_group [1])*100\n",
    "data_pivot_children_group\n"
   ]
  },
  {
   "cell_type": "code",
   "execution_count": 10,
   "id": "46f5a802",
   "metadata": {},
   "outputs": [
    {
     "data": {
      "text/html": [
       "<div>\n",
       "<style scoped>\n",
       "    .dataframe tbody tr th:only-of-type {\n",
       "        vertical-align: middle;\n",
       "    }\n",
       "\n",
       "    .dataframe tbody tr th {\n",
       "        vertical-align: top;\n",
       "    }\n",
       "\n",
       "    .dataframe thead th {\n",
       "        text-align: right;\n",
       "    }\n",
       "</style>\n",
       "<table border=\"1\" class=\"dataframe\">\n",
       "  <thead>\n",
       "    <tr style=\"text-align: right;\">\n",
       "      <th>debt</th>\n",
       "      <th>0</th>\n",
       "      <th>1</th>\n",
       "      <th>debt_percentage</th>\n",
       "    </tr>\n",
       "    <tr>\n",
       "      <th>children</th>\n",
       "      <th></th>\n",
       "      <th></th>\n",
       "      <th></th>\n",
       "    </tr>\n",
       "  </thead>\n",
       "  <tbody>\n",
       "    <tr>\n",
       "      <td>0</td>\n",
       "      <td>13028.0</td>\n",
       "      <td>1063.0</td>\n",
       "      <td>7.543822</td>\n",
       "    </tr>\n",
       "    <tr>\n",
       "      <td>1</td>\n",
       "      <td>4410.0</td>\n",
       "      <td>445.0</td>\n",
       "      <td>9.165808</td>\n",
       "    </tr>\n",
       "    <tr>\n",
       "      <td>2</td>\n",
       "      <td>1926.0</td>\n",
       "      <td>202.0</td>\n",
       "      <td>9.492481</td>\n",
       "    </tr>\n",
       "    <tr>\n",
       "      <td>3</td>\n",
       "      <td>303.0</td>\n",
       "      <td>27.0</td>\n",
       "      <td>8.181818</td>\n",
       "    </tr>\n",
       "    <tr>\n",
       "      <td>4</td>\n",
       "      <td>37.0</td>\n",
       "      <td>4.0</td>\n",
       "      <td>9.756098</td>\n",
       "    </tr>\n",
       "    <tr>\n",
       "      <td>5</td>\n",
       "      <td>9.0</td>\n",
       "      <td>NaN</td>\n",
       "      <td>NaN</td>\n",
       "    </tr>\n",
       "  </tbody>\n",
       "</table>\n",
       "</div>"
      ],
      "text/plain": [
       "debt            0       1  debt_percentage\n",
       "children                                  \n",
       "0         13028.0  1063.0         7.543822\n",
       "1          4410.0   445.0         9.165808\n",
       "2          1926.0   202.0         9.492481\n",
       "3           303.0    27.0         8.181818\n",
       "4            37.0     4.0         9.756098\n",
       "5             9.0     NaN              NaN"
      ]
     },
     "execution_count": 10,
     "metadata": {},
     "output_type": "execute_result"
    }
   ],
   "source": [
    "data_pivot_children = data.pivot_table(index = ['children'], columns = 'debt', values = 'total_income', aggfunc = 'count')\n",
    "data_pivot_children['debt_percentage'] = data_pivot_children[1]/(data_pivot_children [0] + data_pivot_children [1])*100\n",
    "data_pivot_children\n"
   ]
  },
  {
   "cell_type": "markdown",
   "id": "9f507ea6",
   "metadata": {},
   "source": [
    "**Вывод:** Из 2-х сводных таблиц видно, что заемщики с детьми чаще на 1,7% имеют вероятность несвоевременных платежей по кредитам.  При этом анализ по количеству детей не показал сильной закономерности в своевременности возврата заемных средств от количества детей. \n",
    "\n",
    "Статистически, чаще всего несвоевременно возвращали кредиты заёмщики с 4-мя детьми (9,75% от зафиксированных случаев не возвратов), далее следуют заемщики с 2-мя детьми (202 случая или 9,49% от случаев просрочки), на третьем месте идут родители 1-го ребенка (9,16%). Реже всего возникают проблемы с возвратом кредитов у родителей 3-х детей (8,18%), а так же у родителей 5-рых детей (на 9 наблюдений не было зафиксировано ни одной проблемы с возвратом заемных средств, но следует отметить что выборка не достаточна для полной оценки данного параметра)."
   ]
  },
  {
   "cell_type": "markdown",
   "id": "21dd673f",
   "metadata": {},
   "source": [
    "##### Вопрос 2: Есть ли зависимость между семейным положением и возвратом кредита в срок?"
   ]
  },
  {
   "cell_type": "code",
   "execution_count": 11,
   "id": "dcb01970",
   "metadata": {},
   "outputs": [
    {
     "data": {
      "text/html": [
       "<div>\n",
       "<style scoped>\n",
       "    .dataframe tbody tr th:only-of-type {\n",
       "        vertical-align: middle;\n",
       "    }\n",
       "\n",
       "    .dataframe tbody tr th {\n",
       "        vertical-align: top;\n",
       "    }\n",
       "\n",
       "    .dataframe thead th {\n",
       "        text-align: right;\n",
       "    }\n",
       "</style>\n",
       "<table border=\"1\" class=\"dataframe\">\n",
       "  <thead>\n",
       "    <tr style=\"text-align: right;\">\n",
       "      <th></th>\n",
       "      <th>family_status_id</th>\n",
       "      <th>0</th>\n",
       "      <th>1</th>\n",
       "      <th>debt_percentage</th>\n",
       "      <th>family_status</th>\n",
       "    </tr>\n",
       "  </thead>\n",
       "  <tbody>\n",
       "    <tr>\n",
       "      <td>0</td>\n",
       "      <td>0</td>\n",
       "      <td>11408</td>\n",
       "      <td>931</td>\n",
       "      <td>7.545182</td>\n",
       "      <td>женат / замужем</td>\n",
       "    </tr>\n",
       "    <tr>\n",
       "      <td>1</td>\n",
       "      <td>1</td>\n",
       "      <td>3763</td>\n",
       "      <td>388</td>\n",
       "      <td>9.347145</td>\n",
       "      <td>гражданский брак</td>\n",
       "    </tr>\n",
       "    <tr>\n",
       "      <td>2</td>\n",
       "      <td>2</td>\n",
       "      <td>896</td>\n",
       "      <td>63</td>\n",
       "      <td>6.569343</td>\n",
       "      <td>вдовец / вдова</td>\n",
       "    </tr>\n",
       "    <tr>\n",
       "      <td>3</td>\n",
       "      <td>3</td>\n",
       "      <td>1110</td>\n",
       "      <td>85</td>\n",
       "      <td>7.112971</td>\n",
       "      <td>в разводе</td>\n",
       "    </tr>\n",
       "    <tr>\n",
       "      <td>4</td>\n",
       "      <td>4</td>\n",
       "      <td>2536</td>\n",
       "      <td>274</td>\n",
       "      <td>9.750890</td>\n",
       "      <td>Не женат / не замужем</td>\n",
       "    </tr>\n",
       "  </tbody>\n",
       "</table>\n",
       "</div>"
      ],
      "text/plain": [
       "   family_status_id      0    1  debt_percentage          family_status\n",
       "0                 0  11408  931         7.545182        женат / замужем\n",
       "1                 1   3763  388         9.347145       гражданский брак\n",
       "2                 2    896   63         6.569343         вдовец / вдова\n",
       "3                 3   1110   85         7.112971              в разводе\n",
       "4                 4   2536  274         9.750890  Не женат / не замужем"
      ]
     },
     "execution_count": 11,
     "metadata": {},
     "output_type": "execute_result"
    }
   ],
   "source": [
    "data_pivot_family= data.pivot_table(index = ['family_status_id'], columns = 'debt', values = 'total_income', aggfunc = 'count')\n",
    "data_pivot_family['debt_percentage'] = data_pivot_family[1]/(data_pivot_family [0] + data_pivot_family [1])*100\n",
    "data_pivot_family = data_pivot_family.merge(family_status_dict, on = 'family_status_id', how = 'right') #объединение с таблицей-справочником family_status_dict для более удобного анализа \n",
    "data_pivot_family"
   ]
  },
  {
   "cell_type": "markdown",
   "id": "eb39db34",
   "metadata": {},
   "source": [
    "**Вывод:** Из данных анализа видно, что самые надежные заемщики — вдовцы или вдовы — среди данной группы всего лишь  6,6% случаев просрочек по платежам. Далее следуют заемщики в разводе и женатые/замужние (7,1% и 7,5% соответственно). Хуже всего с возвратом заемных средств у людей, находящихся в гражданском браке и не женатых и не замужних, среди них вероятность неплатежей составляет более 9,3% и 9,75% соответственно."
   ]
  },
  {
   "cell_type": "markdown",
   "id": "e795be35",
   "metadata": {},
   "source": [
    "##### Вопрос 3: Есть ли зависимость между уровнем дохода и возвратом кредита в срок?"
   ]
  },
  {
   "cell_type": "code",
   "execution_count": 12,
   "id": "449589a5",
   "metadata": {},
   "outputs": [
    {
     "data": {
      "text/html": [
       "<div>\n",
       "<style scoped>\n",
       "    .dataframe tbody tr th:only-of-type {\n",
       "        vertical-align: middle;\n",
       "    }\n",
       "\n",
       "    .dataframe tbody tr th {\n",
       "        vertical-align: top;\n",
       "    }\n",
       "\n",
       "    .dataframe thead th {\n",
       "        text-align: right;\n",
       "    }\n",
       "</style>\n",
       "<table border=\"1\" class=\"dataframe\">\n",
       "  <thead>\n",
       "    <tr style=\"text-align: right;\">\n",
       "      <th>debt</th>\n",
       "      <th>0</th>\n",
       "      <th>1</th>\n",
       "      <th>debt_percentage</th>\n",
       "    </tr>\n",
       "    <tr>\n",
       "      <th>total_income_category</th>\n",
       "      <th></th>\n",
       "      <th></th>\n",
       "      <th></th>\n",
       "    </tr>\n",
       "  </thead>\n",
       "  <tbody>\n",
       "    <tr>\n",
       "      <td>A</td>\n",
       "      <td>23</td>\n",
       "      <td>2</td>\n",
       "      <td>8.000000</td>\n",
       "    </tr>\n",
       "    <tr>\n",
       "      <td>B</td>\n",
       "      <td>4864</td>\n",
       "      <td>364</td>\n",
       "      <td>6.962510</td>\n",
       "    </tr>\n",
       "    <tr>\n",
       "      <td>C</td>\n",
       "      <td>14477</td>\n",
       "      <td>1352</td>\n",
       "      <td>8.541285</td>\n",
       "    </tr>\n",
       "    <tr>\n",
       "      <td>D</td>\n",
       "      <td>329</td>\n",
       "      <td>21</td>\n",
       "      <td>6.000000</td>\n",
       "    </tr>\n",
       "    <tr>\n",
       "      <td>E</td>\n",
       "      <td>20</td>\n",
       "      <td>2</td>\n",
       "      <td>9.090909</td>\n",
       "    </tr>\n",
       "  </tbody>\n",
       "</table>\n",
       "</div>"
      ],
      "text/plain": [
       "debt                       0     1  debt_percentage\n",
       "total_income_category                              \n",
       "A                         23     2         8.000000\n",
       "B                       4864   364         6.962510\n",
       "C                      14477  1352         8.541285\n",
       "D                        329    21         6.000000\n",
       "E                         20     2         9.090909"
      ]
     },
     "execution_count": 12,
     "metadata": {},
     "output_type": "execute_result"
    }
   ],
   "source": [
    "data_pivot_income= data.pivot_table(index = ['total_income_category'], columns = 'debt', values = 'total_income', aggfunc = 'count')\n",
    "data_pivot_income['debt_percentage'] = data_pivot_income[1]/(data_pivot_income [0] + data_pivot_income [1])*100\n",
    "data_pivot_income"
   ]
  },
  {
   "cell_type": "markdown",
   "id": "1c0cd6fc",
   "metadata": {},
   "source": [
    "**Вывод:** Самые надежные заемщики —  люди с доходом от 30001 до 50000 и 200 001 до 1 000 000. Среди данных групп вероятность неплатежей варьируется от 6 до почти 7%%. Самые ненадежные заемщики — люди с доходом до 30000, вероятность несвоевременных платежей в данной группе составляет 9,09%.\n",
    "Удивительно, что самая массовая группа заемщиков - с доходом от 50 до 200 тысяч — так же оказалась в группе риска по несвоевременным платежам по кредитам - 8,5% от числа выданных кредитов имели проблемы с возвратом."
   ]
  },
  {
   "cell_type": "markdown",
   "id": "f991909e",
   "metadata": {},
   "source": [
    "##### Вопрос 4: Как разные цели кредита влияют на его возврат в срок?"
   ]
  },
  {
   "cell_type": "code",
   "execution_count": 13,
   "id": "d4e2cccd",
   "metadata": {},
   "outputs": [
    {
     "data": {
      "text/html": [
       "<div>\n",
       "<style scoped>\n",
       "    .dataframe tbody tr th:only-of-type {\n",
       "        vertical-align: middle;\n",
       "    }\n",
       "\n",
       "    .dataframe tbody tr th {\n",
       "        vertical-align: top;\n",
       "    }\n",
       "\n",
       "    .dataframe thead th {\n",
       "        text-align: right;\n",
       "    }\n",
       "</style>\n",
       "<table border=\"1\" class=\"dataframe\">\n",
       "  <thead>\n",
       "    <tr style=\"text-align: right;\">\n",
       "      <th>debt</th>\n",
       "      <th>0</th>\n",
       "      <th>1</th>\n",
       "      <th>debt_percentage</th>\n",
       "    </tr>\n",
       "    <tr>\n",
       "      <th>purpose_category</th>\n",
       "      <th></th>\n",
       "      <th></th>\n",
       "      <th></th>\n",
       "    </tr>\n",
       "  </thead>\n",
       "  <tbody>\n",
       "    <tr>\n",
       "      <td>операции с автомобилем</td>\n",
       "      <td>3903</td>\n",
       "      <td>403</td>\n",
       "      <td>9.359034</td>\n",
       "    </tr>\n",
       "    <tr>\n",
       "      <td>операции с недвижимостью</td>\n",
       "      <td>10029</td>\n",
       "      <td>782</td>\n",
       "      <td>7.233373</td>\n",
       "    </tr>\n",
       "    <tr>\n",
       "      <td>получение образования</td>\n",
       "      <td>3643</td>\n",
       "      <td>370</td>\n",
       "      <td>9.220035</td>\n",
       "    </tr>\n",
       "    <tr>\n",
       "      <td>проведение свадьбы</td>\n",
       "      <td>2138</td>\n",
       "      <td>186</td>\n",
       "      <td>8.003442</td>\n",
       "    </tr>\n",
       "  </tbody>\n",
       "</table>\n",
       "</div>"
      ],
      "text/plain": [
       "debt                          0    1  debt_percentage\n",
       "purpose_category                                     \n",
       "операции с автомобилем     3903  403         9.359034\n",
       "операции с недвижимостью  10029  782         7.233373\n",
       "получение образования      3643  370         9.220035\n",
       "проведение свадьбы         2138  186         8.003442"
      ]
     },
     "execution_count": 13,
     "metadata": {},
     "output_type": "execute_result"
    }
   ],
   "source": [
    "data_pivot_purpose= data.pivot_table(index = ['purpose_category'], columns = 'debt', values = 'total_income', aggfunc = 'count')\n",
    "data_pivot_purpose['debt_percentage'] = data_pivot_purpose[1]/(data_pivot_purpose [0] + data_pivot_purpose [1])*100\n",
    "data_pivot_purpose\n"
   ]
  },
  {
   "cell_type": "markdown",
   "id": "7f91a99b",
   "metadata": {},
   "source": [
    "**Вывод:** Самые надежные заемщики - люди, взявшие кредит на операции с недвижимостью. Оно и понятно, жить/вести бизнесс где-то нужно =). Всего 7,2% проблемных займов. \n",
    "Хуже всего платили за кредиты, взятые для операций с автомобилем и получение образования - более 9% займов выданных на эти цели испытывали трудности с возвратом."
   ]
  },
  {
   "cell_type": "markdown",
   "id": "68c48034",
   "metadata": {},
   "source": [
    "## Общий вывод:"
   ]
  },
  {
   "cell_type": "code",
   "execution_count": 14,
   "id": "6bc1de4e",
   "metadata": {},
   "outputs": [
    {
     "data": {
      "text/plain": [
       "<matplotlib.axes._subplots.AxesSubplot at 0x7f9e1ff16890>"
      ]
     },
     "execution_count": 14,
     "metadata": {},
     "output_type": "execute_result"
    },
    {
     "data": {
      "image/png": "[encoded data removed]",
      "text/plain": [
       "<Figure size 432x288 with 1 Axes>"
      ]
     },
     "metadata": {
      "needs_background": "light"
     },
     "output_type": "display_data"
    }
   ],
   "source": [
    "# для визуализации построем датафрем со всеми полученными результами и постоим по ним гистограмму\n",
    "debt_percentage = pd.DataFrame([['операции с автомобилем', 9.35903],\n",
    "                  ['операции с недвижимостью', 7.233373],\n",
    "                  ['получение образования', 9.220035],\n",
    "                  ['проведение свадьбы', 8.003442],\n",
    "                  ['A', 8.000000],\n",
    "                   ['B', 6.962510],\n",
    "                   ['C', 8.541285],\n",
    "                   ['D', 6.000000],\n",
    "                   ['E', 9.090909],\n",
    "                   ['женат / замужем', 7.545182],\n",
    "                   ['гражданский брак', 9.347145],\n",
    "                   ['вдовец / вдова' , 6.569343],\n",
    "                   ['в разводе', 7.112971],\n",
    "                   ['Не женат / не замужем', 9.750890],\n",
    "                   ['c детьми', 9.208203],\n",
    "                   ['без детей', 7.543822]],\n",
    "                 columns=['категория заемщика', 'процент невозврата'])\n",
    "sns.barplot(\n",
    "    y=\"категория заемщика\", \n",
    "    x=\"процент невозврата\",  \n",
    "    data=debt_percentage)"
   ]
  },
  {
   "cell_type": "markdown",
   "id": "dadaf0dd",
   "metadata": {},
   "source": [
    " **Вывод:** Полученные результаты позволяют в дальнейшем провести более глубокий факторный анализ влияния каждого фактора на негативный вариант возврата заемных средств, построить математическую модель, расчесывающую вероятность не возврата по кредиту и т.д. \n",
    "Полученные данные по каждой группе говорят нам, что самыми беспроблемными являются заемщики в статусе вдова или вдовец, не имеющие детей, с доходом от 30 до 50 тысяч, берущие займ на операции с недвижимостью.\n",
    "А так же можно выдвинуть гипотезу, что самый проблемный заемщик — это человек с детьми, берущий кредит на проведение операции с автомобилем, обладающий доходом до 30 тысяч и при этом не состоящий в браке."
   ]
  }
 ],
 "metadata": {
  "ExecuteTimeLog": [
   {
    "duration": 932,
    "start_time": "2022-02-03T19:43:21.520Z"
   },
   {
    "duration": 681,
    "start_time": "2022-02-03T19:48:11.356Z"
   },
   {
    "duration": 612,
    "start_time": "2022-02-03T19:48:19.671Z"
   },
   {
    "duration": 584,
    "start_time": "2022-02-03T19:49:49.197Z"
   },
   {
    "duration": 496,
    "start_time": "2022-02-03T19:51:32.899Z"
   },
   {
    "duration": -389483,
    "start_time": "2022-02-03T19:58:40.971Z"
   },
   {
    "duration": 25956,
    "start_time": "2022-02-03T19:52:47.923Z"
   },
   {
    "duration": 127,
    "start_time": "2022-02-03T19:54:46.705Z"
   },
   {
    "duration": 585,
    "start_time": "2022-02-03T19:55:11.644Z"
   },
   {
    "duration": 612,
    "start_time": "2022-02-03T19:55:17.048Z"
   },
   {
    "duration": 618,
    "start_time": "2022-02-03T19:55:51.544Z"
   },
   {
    "duration": 594,
    "start_time": "2022-02-03T19:57:14.121Z"
   },
   {
    "duration": 405,
    "start_time": "2022-02-04T19:08:06.704Z"
   },
   {
    "duration": 547,
    "start_time": "2022-02-04T19:09:02.766Z"
   },
   {
    "duration": 822,
    "start_time": "2022-02-04T19:09:10.684Z"
   },
   {
    "duration": 1029,
    "start_time": "2022-02-04T19:09:31.783Z"
   },
   {
    "duration": 363,
    "start_time": "2022-02-04T19:09:51.688Z"
   },
   {
    "duration": 455,
    "start_time": "2022-02-04T19:10:41.881Z"
   },
   {
    "duration": 376,
    "start_time": "2022-02-04T19:14:28.492Z"
   },
   {
    "duration": 339,
    "start_time": "2022-02-04T19:14:49.719Z"
   },
   {
    "duration": 87,
    "start_time": "2022-02-04T19:15:03.330Z"
   },
   {
    "duration": 7,
    "start_time": "2022-02-04T19:15:20.437Z"
   },
   {
    "duration": 10,
    "start_time": "2022-02-04T19:20:20.404Z"
   },
   {
    "duration": -389269,
    "start_time": "2022-02-04T19:27:44.729Z"
   },
   {
    "duration": 9813,
    "start_time": "2022-02-04T19:21:18.818Z"
   },
   {
    "duration": 954,
    "start_time": "2022-02-04T19:22:14.074Z"
   },
   {
    "duration": 362,
    "start_time": "2022-02-04T19:22:29.521Z"
   },
   {
    "duration": 434,
    "start_time": "2022-02-04T19:33:08.978Z"
   },
   {
    "duration": 347,
    "start_time": "2022-02-04T19:54:07.434Z"
   },
   {
    "duration": 727,
    "start_time": "2022-02-04T19:54:51.350Z"
   },
   {
    "duration": 13,
    "start_time": "2022-02-04T19:54:56.073Z"
   },
   {
    "duration": 919,
    "start_time": "2022-02-04T19:55:52.484Z"
   },
   {
    "duration": 387,
    "start_time": "2022-02-04T19:56:54.598Z"
   },
   {
    "duration": 354,
    "start_time": "2022-02-04T19:57:26.323Z"
   },
   {
    "duration": 327,
    "start_time": "2022-02-04T19:57:52.678Z"
   },
   {
    "duration": 330,
    "start_time": "2022-02-04T19:57:58.669Z"
   },
   {
    "duration": 337,
    "start_time": "2022-02-04T19:59:32.865Z"
   },
   {
    "duration": 391,
    "start_time": "2022-02-04T19:59:43.860Z"
   },
   {
    "duration": 337,
    "start_time": "2022-02-04T20:00:32.905Z"
   },
   {
    "duration": 334,
    "start_time": "2022-02-04T20:01:01.549Z"
   },
   {
    "duration": 369,
    "start_time": "2022-02-04T20:03:55.191Z"
   },
   {
    "duration": 108,
    "start_time": "2022-02-04T20:04:33.493Z"
   },
   {
    "duration": 330,
    "start_time": "2022-02-04T20:04:42.071Z"
   },
   {
    "duration": 87,
    "start_time": "2022-02-04T20:05:34.214Z"
   },
   {
    "duration": 7,
    "start_time": "2022-02-04T20:05:47.517Z"
   },
   {
    "duration": 7,
    "start_time": "2022-02-04T20:05:56.194Z"
   },
   {
    "duration": 822,
    "start_time": "2022-02-04T20:06:27.449Z"
   },
   {
    "duration": 351,
    "start_time": "2022-02-04T20:06:42.029Z"
   },
   {
    "duration": 379,
    "start_time": "2022-02-04T20:07:22.565Z"
   },
   {
    "duration": 331,
    "start_time": "2022-02-04T20:07:29.272Z"
   },
   {
    "duration": 683,
    "start_time": "2022-02-04T20:07:42.163Z"
   },
   {
    "duration": 903,
    "start_time": "2022-02-04T20:07:42.848Z"
   },
   {
    "duration": 11,
    "start_time": "2022-02-04T20:07:59.864Z"
   },
   {
    "duration": 397,
    "start_time": "2022-02-04T20:08:30.865Z"
   },
   {
    "duration": 345,
    "start_time": "2022-02-04T20:08:36.825Z"
   },
   {
    "duration": 339,
    "start_time": "2022-02-04T20:09:02.803Z"
   },
   {
    "duration": 13,
    "start_time": "2022-02-04T20:09:19.991Z"
   },
   {
    "duration": 33,
    "start_time": "2022-02-04T20:09:51.948Z"
   },
   {
    "duration": 320,
    "start_time": "2022-02-04T20:11:43.909Z"
   },
   {
    "duration": 626,
    "start_time": "2022-02-04T20:11:53.729Z"
   },
   {
    "duration": 956,
    "start_time": "2022-02-04T20:11:54.357Z"
   },
   {
    "duration": 32,
    "start_time": "2022-02-04T20:11:55.315Z"
   },
   {
    "duration": 713,
    "start_time": "2022-02-04T20:13:03.841Z"
   },
   {
    "duration": 9712,
    "start_time": "2022-02-04T20:13:04.556Z"
   },
   {
    "duration": -389246,
    "start_time": "2022-02-04T20:19:43.516Z"
   },
   {
    "duration": 656,
    "start_time": "2022-02-04T20:15:35.577Z"
   },
   {
    "duration": 368,
    "start_time": "2022-02-04T20:15:36.235Z"
   },
   {
    "duration": 26,
    "start_time": "2022-02-04T20:15:36.607Z"
   },
   {
    "duration": 683,
    "start_time": "2022-02-04T20:19:33.961Z"
   },
   {
    "duration": 7,
    "start_time": "2022-02-04T20:19:34.646Z"
   },
   {
    "duration": 35,
    "start_time": "2022-02-04T20:19:34.655Z"
   },
   {
    "duration": 218,
    "start_time": "2022-02-05T15:55:15.224Z"
   },
   {
    "duration": 624,
    "start_time": "2022-02-05T15:55:21.888Z"
   },
   {
    "duration": 244,
    "start_time": "2022-02-05T15:55:22.514Z"
   },
   {
    "duration": 326,
    "start_time": "2022-02-05T15:55:42.359Z"
   },
   {
    "duration": 14,
    "start_time": "2022-02-05T15:55:50.804Z"
   },
   {
    "duration": 26,
    "start_time": "2022-02-05T15:56:26.065Z"
   },
   {
    "duration": 8,
    "start_time": "2022-02-05T17:25:26.132Z"
   },
   {
    "duration": 190,
    "start_time": "2022-02-05T17:25:58.072Z"
   },
   {
    "duration": 15,
    "start_time": "2022-02-05T17:26:17.583Z"
   },
   {
    "duration": 702,
    "start_time": "2022-02-05T17:26:35.443Z"
   },
   {
    "duration": 23,
    "start_time": "2022-02-05T17:26:36.147Z"
   },
   {
    "duration": 274,
    "start_time": "2022-02-05T17:27:40.945Z"
   },
   {
    "duration": 202,
    "start_time": "2022-02-05T17:32:24.754Z"
   },
   {
    "duration": 22,
    "start_time": "2022-02-05T17:33:41.354Z"
   },
   {
    "duration": 177,
    "start_time": "2022-02-05T17:47:07.761Z"
   },
   {
    "duration": 258,
    "start_time": "2022-02-05T17:47:15.074Z"
   },
   {
    "duration": 182,
    "start_time": "2022-02-05T17:47:44.066Z"
   },
   {
    "duration": 341,
    "start_time": "2022-02-05T17:48:14.132Z"
   },
   {
    "duration": 180,
    "start_time": "2022-02-05T17:52:28.188Z"
   },
   {
    "duration": 175,
    "start_time": "2022-02-05T17:52:45.846Z"
   },
   {
    "duration": 682,
    "start_time": "2022-02-05T17:52:56.784Z"
   },
   {
    "duration": 17,
    "start_time": "2022-02-05T17:52:57.468Z"
   },
   {
    "duration": 2426,
    "start_time": "2022-02-05T17:52:57.487Z"
   },
   {
    "duration": 184,
    "start_time": "2022-02-05T17:57:34.260Z"
   },
   {
    "duration": 227,
    "start_time": "2022-02-05T17:57:54.807Z"
   },
   {
    "duration": 641,
    "start_time": "2022-02-05T17:58:16.226Z"
   },
   {
    "duration": 15,
    "start_time": "2022-02-05T17:58:16.869Z"
   },
   {
    "duration": 2376,
    "start_time": "2022-02-05T17:58:16.885Z"
   },
   {
    "duration": 176,
    "start_time": "2022-02-05T17:59:56.221Z"
   },
   {
    "duration": 647,
    "start_time": "2022-02-05T18:00:11.513Z"
   },
   {
    "duration": 17,
    "start_time": "2022-02-05T18:00:12.162Z"
   },
   {
    "duration": 11,
    "start_time": "2022-02-05T18:00:12.183Z"
   },
   {
    "duration": 252,
    "start_time": "2022-02-05T18:09:06.760Z"
   },
   {
    "duration": 2590,
    "start_time": "2022-02-05T18:12:55.573Z"
   },
   {
    "duration": 181,
    "start_time": "2022-02-05T18:13:20.084Z"
   },
   {
    "duration": 614,
    "start_time": "2022-02-05T18:13:34.098Z"
   },
   {
    "duration": 14,
    "start_time": "2022-02-05T18:13:34.714Z"
   },
   {
    "duration": 9,
    "start_time": "2022-02-05T18:13:34.729Z"
   },
   {
    "duration": 2389,
    "start_time": "2022-02-05T18:13:34.739Z"
   },
   {
    "duration": 250,
    "start_time": "2022-02-05T18:14:03.149Z"
   },
   {
    "duration": 692,
    "start_time": "2022-02-05T18:14:16.346Z"
   },
   {
    "duration": 19,
    "start_time": "2022-02-05T18:14:17.040Z"
   },
   {
    "duration": 22,
    "start_time": "2022-02-05T18:14:17.060Z"
   },
   {
    "duration": 240,
    "start_time": "2022-02-05T18:14:17.084Z"
   },
   {
    "duration": 55,
    "start_time": "2022-02-05T18:16:16.944Z"
   },
   {
    "duration": 611,
    "start_time": "2022-02-05T18:16:49.103Z"
   },
   {
    "duration": 15,
    "start_time": "2022-02-05T18:16:49.716Z"
   },
   {
    "duration": 34,
    "start_time": "2022-02-05T18:16:49.733Z"
   },
   {
    "duration": 241,
    "start_time": "2022-02-05T18:16:49.769Z"
   },
   {
    "duration": 13,
    "start_time": "2022-02-05T18:17:11.789Z"
   },
   {
    "duration": 26,
    "start_time": "2022-02-05T18:17:53.093Z"
   },
   {
    "duration": 57,
    "start_time": "2022-02-05T18:18:13.083Z"
   },
   {
    "duration": 15,
    "start_time": "2022-02-05T18:18:18.973Z"
   },
   {
    "duration": 14,
    "start_time": "2022-02-05T18:20:08.710Z"
   },
   {
    "duration": 14,
    "start_time": "2022-02-05T18:20:27.793Z"
   },
   {
    "duration": 186,
    "start_time": "2022-02-05T18:20:40.077Z"
   },
   {
    "duration": 223,
    "start_time": "2022-02-05T18:25:26.916Z"
   },
   {
    "duration": 663,
    "start_time": "2022-02-05T18:25:56.052Z"
   },
   {
    "duration": 16,
    "start_time": "2022-02-05T18:25:56.717Z"
   },
   {
    "duration": 45,
    "start_time": "2022-02-05T18:25:56.734Z"
   },
   {
    "duration": 294,
    "start_time": "2022-02-05T18:25:56.780Z"
   },
   {
    "duration": 4707,
    "start_time": "2022-02-05T18:28:14.935Z"
   },
   {
    "duration": 661,
    "start_time": "2022-02-05T18:28:32.257Z"
   },
   {
    "duration": 26,
    "start_time": "2022-02-05T18:28:32.920Z"
   },
   {
    "duration": 38,
    "start_time": "2022-02-05T18:28:32.948Z"
   },
   {
    "duration": 234,
    "start_time": "2022-02-05T18:28:32.988Z"
   },
   {
    "duration": 4340,
    "start_time": "2022-02-05T18:31:37.283Z"
   },
   {
    "duration": 659,
    "start_time": "2022-02-05T18:31:53.371Z"
   },
   {
    "duration": 56,
    "start_time": "2022-02-05T18:31:54.032Z"
   },
   {
    "duration": 29,
    "start_time": "2022-02-05T18:31:54.090Z"
   },
   {
    "duration": 256,
    "start_time": "2022-02-05T18:31:54.120Z"
   },
   {
    "duration": 27,
    "start_time": "2022-02-05T18:32:06.896Z"
   },
   {
    "duration": 27,
    "start_time": "2022-02-05T18:32:11.792Z"
   },
   {
    "duration": 214,
    "start_time": "2022-02-05T18:32:24.103Z"
   },
   {
    "duration": 685,
    "start_time": "2022-02-05T18:32:31.851Z"
   },
   {
    "duration": 38,
    "start_time": "2022-02-05T18:32:32.538Z"
   },
   {
    "duration": 31,
    "start_time": "2022-02-05T18:32:32.578Z"
   },
   {
    "duration": 247,
    "start_time": "2022-02-05T18:32:32.611Z"
   },
   {
    "duration": 653,
    "start_time": "2022-02-05T18:33:13.365Z"
   },
   {
    "duration": 40,
    "start_time": "2022-02-05T18:33:14.020Z"
   },
   {
    "duration": 7,
    "start_time": "2022-02-05T18:33:14.062Z"
   },
   {
    "duration": 28,
    "start_time": "2022-02-05T18:33:14.071Z"
   },
   {
    "duration": 258,
    "start_time": "2022-02-05T18:33:14.100Z"
   },
   {
    "duration": 181,
    "start_time": "2022-02-05T18:34:26.363Z"
   },
   {
    "duration": 661,
    "start_time": "2022-02-05T18:34:33.229Z"
   },
   {
    "duration": 9,
    "start_time": "2022-02-05T18:34:33.891Z"
   },
   {
    "duration": 14,
    "start_time": "2022-02-05T18:34:33.901Z"
   },
   {
    "duration": 299,
    "start_time": "2022-02-05T18:34:33.917Z"
   },
   {
    "duration": 650,
    "start_time": "2022-02-05T18:45:48.612Z"
   },
   {
    "duration": 7,
    "start_time": "2022-02-05T18:45:49.264Z"
   },
   {
    "duration": 16,
    "start_time": "2022-02-05T18:45:49.273Z"
   },
   {
    "duration": 266,
    "start_time": "2022-02-05T18:45:49.291Z"
   },
   {
    "duration": 181,
    "start_time": "2022-02-05T18:47:08.059Z"
   },
   {
    "duration": 609,
    "start_time": "2022-02-05T18:47:16.399Z"
   },
   {
    "duration": 26,
    "start_time": "2022-02-05T18:47:17.009Z"
   },
   {
    "duration": 28,
    "start_time": "2022-02-05T18:47:17.037Z"
   },
   {
    "duration": 245,
    "start_time": "2022-02-05T18:47:17.067Z"
   },
   {
    "duration": 178,
    "start_time": "2022-02-05T18:49:28.570Z"
   },
   {
    "duration": 670,
    "start_time": "2022-02-05T18:49:33.845Z"
   },
   {
    "duration": 23,
    "start_time": "2022-02-05T18:49:34.517Z"
   },
   {
    "duration": 253,
    "start_time": "2022-02-05T18:49:34.542Z"
   },
   {
    "duration": -79,
    "start_time": "2022-02-05T18:49:34.876Z"
   },
   {
    "duration": 182,
    "start_time": "2022-02-05T18:49:47.242Z"
   },
   {
    "duration": 181,
    "start_time": "2022-02-05T18:49:57.165Z"
   },
   {
    "duration": 679,
    "start_time": "2022-02-05T18:50:11.768Z"
   },
   {
    "duration": 35,
    "start_time": "2022-02-05T18:50:12.449Z"
   },
   {
    "duration": 9,
    "start_time": "2022-02-05T18:50:12.488Z"
   },
   {
    "duration": 243,
    "start_time": "2022-02-05T18:50:12.499Z"
   },
   {
    "duration": 661,
    "start_time": "2022-02-05T18:50:48.751Z"
   },
   {
    "duration": 25,
    "start_time": "2022-02-05T18:50:49.414Z"
   },
   {
    "duration": 4475,
    "start_time": "2022-02-05T18:50:49.441Z"
   },
   {
    "duration": -164,
    "start_time": "2022-02-05T18:50:54.082Z"
   },
   {
    "duration": 16,
    "start_time": "2022-02-05T18:51:39.585Z"
   },
   {
    "duration": 197,
    "start_time": "2022-02-05T18:52:08.699Z"
   },
   {
    "duration": 200,
    "start_time": "2022-02-05T18:52:11.441Z"
   },
   {
    "duration": 14,
    "start_time": "2022-02-05T18:52:23.203Z"
   },
   {
    "duration": 182,
    "start_time": "2022-02-05T18:54:23.219Z"
   },
   {
    "duration": 11,
    "start_time": "2022-02-05T18:56:25.559Z"
   },
   {
    "duration": 189,
    "start_time": "2022-02-05T18:58:23.934Z"
   },
   {
    "duration": 10,
    "start_time": "2022-02-05T19:02:38.713Z"
   },
   {
    "duration": 9,
    "start_time": "2022-02-05T19:10:50.781Z"
   },
   {
    "duration": 10,
    "start_time": "2022-02-05T19:11:37.375Z"
   },
   {
    "duration": 10,
    "start_time": "2022-02-05T19:12:49.125Z"
   },
   {
    "duration": 614,
    "start_time": "2022-02-05T19:12:57.424Z"
   },
   {
    "duration": 7,
    "start_time": "2022-02-05T19:12:58.040Z"
   },
   {
    "duration": 58,
    "start_time": "2022-02-05T19:12:58.049Z"
   },
   {
    "duration": -62,
    "start_time": "2022-02-05T19:12:58.171Z"
   },
   {
    "duration": 14,
    "start_time": "2022-02-05T19:13:14.085Z"
   },
   {
    "duration": 314,
    "start_time": "2022-02-05T19:13:42.301Z"
   },
   {
    "duration": 608,
    "start_time": "2022-02-05T19:15:36.119Z"
   },
   {
    "duration": 14,
    "start_time": "2022-02-05T19:15:36.729Z"
   },
   {
    "duration": 52,
    "start_time": "2022-02-05T19:15:36.759Z"
   },
   {
    "duration": -53,
    "start_time": "2022-02-05T19:15:36.866Z"
   },
   {
    "duration": 18,
    "start_time": "2022-02-05T19:16:23.510Z"
   },
   {
    "duration": 12,
    "start_time": "2022-02-05T19:18:50.150Z"
   },
   {
    "duration": 14,
    "start_time": "2022-02-05T19:19:11.747Z"
   },
   {
    "duration": 21,
    "start_time": "2022-02-05T19:19:32.243Z"
   },
   {
    "duration": 35,
    "start_time": "2022-02-05T19:20:07.323Z"
   },
   {
    "duration": 11,
    "start_time": "2022-02-05T19:20:49.997Z"
   },
   {
    "duration": 8,
    "start_time": "2022-02-05T19:30:15.083Z"
   },
   {
    "duration": 668,
    "start_time": "2022-02-05T19:30:21.936Z"
   },
   {
    "duration": 7,
    "start_time": "2022-02-05T19:30:22.606Z"
   },
   {
    "duration": 58,
    "start_time": "2022-02-05T19:30:22.617Z"
   },
   {
    "duration": -52,
    "start_time": "2022-02-05T19:30:22.729Z"
   },
   {
    "duration": 15,
    "start_time": "2022-02-05T19:31:58.402Z"
   },
   {
    "duration": 33,
    "start_time": "2022-02-05T19:33:46.412Z"
   },
   {
    "duration": 702,
    "start_time": "2022-02-05T19:34:02.346Z"
   },
   {
    "duration": 43,
    "start_time": "2022-02-05T19:34:03.050Z"
   },
   {
    "duration": 8,
    "start_time": "2022-02-05T19:34:03.095Z"
   },
   {
    "duration": 6,
    "start_time": "2022-02-05T19:34:03.105Z"
   },
   {
    "duration": 291,
    "start_time": "2022-02-05T19:34:03.112Z"
   },
   {
    "duration": 622,
    "start_time": "2022-02-05T19:34:42.896Z"
   },
   {
    "duration": 9,
    "start_time": "2022-02-05T19:34:43.519Z"
   },
   {
    "duration": 28,
    "start_time": "2022-02-05T19:34:43.532Z"
   },
   {
    "duration": 6,
    "start_time": "2022-02-05T19:34:43.562Z"
   },
   {
    "duration": 249,
    "start_time": "2022-02-05T19:34:43.569Z"
   },
   {
    "duration": 4569,
    "start_time": "2022-02-05T19:35:49.121Z"
   },
   {
    "duration": 6,
    "start_time": "2022-02-05T19:36:04.657Z"
   },
   {
    "duration": 13,
    "start_time": "2022-02-05T19:36:18.437Z"
   },
   {
    "duration": 664,
    "start_time": "2022-02-05T19:37:07.432Z"
   },
   {
    "duration": 22,
    "start_time": "2022-02-05T19:37:08.098Z"
   },
   {
    "duration": 8,
    "start_time": "2022-02-05T19:37:08.122Z"
   },
   {
    "duration": 28,
    "start_time": "2022-02-05T19:37:08.131Z"
   },
   {
    "duration": 241,
    "start_time": "2022-02-05T19:37:08.160Z"
   },
   {
    "duration": 670,
    "start_time": "2022-02-05T19:37:33.230Z"
   },
   {
    "duration": 21,
    "start_time": "2022-02-05T19:37:33.902Z"
   },
   {
    "duration": 16,
    "start_time": "2022-02-05T19:37:33.925Z"
   },
   {
    "duration": 7,
    "start_time": "2022-02-05T19:37:33.959Z"
   },
   {
    "duration": 236,
    "start_time": "2022-02-05T19:37:33.968Z"
   },
   {
    "duration": 2211,
    "start_time": "2022-02-05T19:38:28.392Z"
   },
   {
    "duration": 9,
    "start_time": "2022-02-05T19:38:49.411Z"
   },
   {
    "duration": 600,
    "start_time": "2022-02-05T19:38:58.609Z"
   },
   {
    "duration": 21,
    "start_time": "2022-02-05T19:38:59.211Z"
   },
   {
    "duration": 9,
    "start_time": "2022-02-05T19:38:59.234Z"
   },
   {
    "duration": 20,
    "start_time": "2022-02-05T19:38:59.244Z"
   },
   {
    "duration": 231,
    "start_time": "2022-02-05T19:38:59.265Z"
   },
   {
    "duration": 12,
    "start_time": "2022-02-05T19:39:26.114Z"
   },
   {
    "duration": 5,
    "start_time": "2022-02-05T19:41:19.838Z"
   },
   {
    "duration": 5,
    "start_time": "2022-02-05T19:41:43.604Z"
   },
   {
    "duration": 5,
    "start_time": "2022-02-05T19:41:49.565Z"
   },
   {
    "duration": 609,
    "start_time": "2022-02-05T19:42:41.018Z"
   },
   {
    "duration": 31,
    "start_time": "2022-02-05T19:42:41.629Z"
   },
   {
    "duration": 4,
    "start_time": "2022-02-05T19:42:41.662Z"
   },
   {
    "duration": 14,
    "start_time": "2022-02-05T19:42:41.668Z"
   },
   {
    "duration": 258,
    "start_time": "2022-02-05T19:42:41.684Z"
   },
   {
    "duration": 3,
    "start_time": "2022-02-05T19:44:41.124Z"
   },
   {
    "duration": 3,
    "start_time": "2022-02-05T19:44:45.123Z"
   },
   {
    "duration": 666,
    "start_time": "2022-02-05T19:45:21.147Z"
   },
   {
    "duration": 22,
    "start_time": "2022-02-05T19:45:21.814Z"
   },
   {
    "duration": 3,
    "start_time": "2022-02-05T19:45:21.838Z"
   },
   {
    "duration": 21,
    "start_time": "2022-02-05T19:45:21.842Z"
   },
   {
    "duration": 245,
    "start_time": "2022-02-05T19:45:21.865Z"
   },
   {
    "duration": 664,
    "start_time": "2022-02-05T19:45:44.371Z"
   },
   {
    "duration": 24,
    "start_time": "2022-02-05T19:45:45.037Z"
   },
   {
    "duration": 4,
    "start_time": "2022-02-05T19:45:45.063Z"
   },
   {
    "duration": 11,
    "start_time": "2022-02-05T19:45:45.068Z"
   },
   {
    "duration": 241,
    "start_time": "2022-02-05T19:45:45.081Z"
   },
   {
    "duration": 5,
    "start_time": "2022-02-05T19:46:06.988Z"
   },
   {
    "duration": 15,
    "start_time": "2022-02-05T19:48:10.392Z"
   },
   {
    "duration": 60,
    "start_time": "2022-02-05T19:57:55.552Z"
   },
   {
    "duration": 24,
    "start_time": "2022-02-05T19:58:01.640Z"
   },
   {
    "duration": 25,
    "start_time": "2022-02-05T19:58:26.041Z"
   },
   {
    "duration": 724,
    "start_time": "2022-02-05T19:58:37.244Z"
   },
   {
    "duration": 21,
    "start_time": "2022-02-05T19:58:37.970Z"
   },
   {
    "duration": 24,
    "start_time": "2022-02-05T19:58:37.993Z"
   },
   {
    "duration": 5,
    "start_time": "2022-02-05T19:58:38.019Z"
   },
   {
    "duration": 34,
    "start_time": "2022-02-05T19:58:38.025Z"
   },
   {
    "duration": 6,
    "start_time": "2022-02-05T19:58:53.750Z"
   },
   {
    "duration": 6,
    "start_time": "2022-02-05T19:59:09.720Z"
   },
   {
    "duration": 8,
    "start_time": "2022-02-05T19:59:18.671Z"
   },
   {
    "duration": 15,
    "start_time": "2022-02-05T20:01:23.283Z"
   },
   {
    "duration": 13,
    "start_time": "2022-02-05T20:01:37.890Z"
   },
   {
    "duration": 26,
    "start_time": "2022-02-05T20:01:58.054Z"
   },
   {
    "duration": 40,
    "start_time": "2022-02-05T20:02:33.976Z"
   },
   {
    "duration": 611,
    "start_time": "2022-02-05T20:02:52.509Z"
   },
   {
    "duration": 21,
    "start_time": "2022-02-05T20:02:53.122Z"
   },
   {
    "duration": 25,
    "start_time": "2022-02-05T20:02:53.159Z"
   },
   {
    "duration": 6,
    "start_time": "2022-02-05T20:02:53.186Z"
   },
   {
    "duration": 6,
    "start_time": "2022-02-05T20:02:53.194Z"
   },
   {
    "duration": 64,
    "start_time": "2022-02-05T20:02:53.202Z"
   },
   {
    "duration": 29,
    "start_time": "2022-02-05T20:04:11.898Z"
   },
   {
    "duration": 643,
    "start_time": "2022-02-05T20:04:20.598Z"
   },
   {
    "duration": 28,
    "start_time": "2022-02-05T20:04:21.243Z"
   },
   {
    "duration": 26,
    "start_time": "2022-02-05T20:04:21.272Z"
   },
   {
    "duration": 6,
    "start_time": "2022-02-05T20:04:21.299Z"
   },
   {
    "duration": 5,
    "start_time": "2022-02-05T20:04:21.306Z"
   },
   {
    "duration": 63,
    "start_time": "2022-02-05T20:04:21.313Z"
   },
   {
    "duration": 3282,
    "start_time": "2022-02-05T20:19:33.823Z"
   },
   {
    "duration": 1381,
    "start_time": "2022-02-05T20:22:19.353Z"
   },
   {
    "duration": 653,
    "start_time": "2022-02-05T20:22:32.113Z"
   },
   {
    "duration": 23,
    "start_time": "2022-02-05T20:22:32.768Z"
   },
   {
    "duration": 28,
    "start_time": "2022-02-05T20:22:32.793Z"
   },
   {
    "duration": 6,
    "start_time": "2022-02-05T20:22:32.823Z"
   },
   {
    "duration": 4,
    "start_time": "2022-02-05T20:22:32.859Z"
   },
   {
    "duration": 31,
    "start_time": "2022-02-05T20:22:32.864Z"
   },
   {
    "duration": 3435,
    "start_time": "2022-02-05T20:22:32.897Z"
   },
   {
    "duration": 1335,
    "start_time": "2022-02-05T20:22:58.441Z"
   },
   {
    "duration": 1321,
    "start_time": "2022-02-05T20:25:41.356Z"
   },
   {
    "duration": 670,
    "start_time": "2022-02-05T20:25:46.860Z"
   },
   {
    "duration": 29,
    "start_time": "2022-02-05T20:25:47.532Z"
   },
   {
    "duration": 26,
    "start_time": "2022-02-05T20:25:47.563Z"
   },
   {
    "duration": 5,
    "start_time": "2022-02-05T20:25:47.591Z"
   },
   {
    "duration": 7,
    "start_time": "2022-02-05T20:25:47.597Z"
   },
   {
    "duration": 25,
    "start_time": "2022-02-05T20:25:47.606Z"
   },
   {
    "duration": 3276,
    "start_time": "2022-02-05T20:25:47.632Z"
   },
   {
    "duration": 5931,
    "start_time": "2022-02-05T20:39:20.800Z"
   },
   {
    "duration": 82,
    "start_time": "2022-02-05T20:41:47.595Z"
   },
   {
    "duration": 3337,
    "start_time": "2022-02-05T20:42:12.528Z"
   },
   {
    "duration": 3443,
    "start_time": "2022-02-05T20:43:43.930Z"
   },
   {
    "duration": 3478,
    "start_time": "2022-02-05T20:45:01.533Z"
   },
   {
    "duration": 3342,
    "start_time": "2022-02-05T20:48:23.899Z"
   },
   {
    "duration": 65,
    "start_time": "2022-02-05T20:55:33.600Z"
   },
   {
    "duration": 3367,
    "start_time": "2022-02-05T20:55:39.157Z"
   },
   {
    "duration": 3352,
    "start_time": "2022-02-05T20:57:31.068Z"
   },
   {
    "duration": 3262,
    "start_time": "2022-02-05T20:59:24.924Z"
   },
   {
    "duration": 3371,
    "start_time": "2022-02-05T20:59:42.750Z"
   },
   {
    "duration": 3397,
    "start_time": "2022-02-05T21:05:19.766Z"
   },
   {
    "duration": 3361,
    "start_time": "2022-02-05T21:05:41.001Z"
   },
   {
    "duration": 3494,
    "start_time": "2022-02-05T21:07:00.177Z"
   },
   {
    "duration": 3364,
    "start_time": "2022-02-05T21:10:11.835Z"
   },
   {
    "duration": 3370,
    "start_time": "2022-02-05T21:11:03.040Z"
   },
   {
    "duration": 3628,
    "start_time": "2022-02-05T21:11:49.867Z"
   },
   {
    "duration": 3634,
    "start_time": "2022-02-05T21:11:56.314Z"
   },
   {
    "duration": 3504,
    "start_time": "2022-02-05T21:13:21.510Z"
   },
   {
    "duration": 3566,
    "start_time": "2022-02-05T21:13:43.164Z"
   },
   {
    "duration": 196,
    "start_time": "2022-02-05T21:20:40.421Z"
   },
   {
    "duration": 3245,
    "start_time": "2022-02-05T21:20:56.969Z"
   },
   {
    "duration": 4343,
    "start_time": "2022-02-05T21:21:30.662Z"
   },
   {
    "duration": 3355,
    "start_time": "2022-02-05T21:22:32.541Z"
   },
   {
    "duration": 3379,
    "start_time": "2022-02-05T21:23:18.826Z"
   },
   {
    "duration": 208,
    "start_time": "2022-02-05T21:23:46.433Z"
   },
   {
    "duration": 64,
    "start_time": "2022-02-05T21:23:56.393Z"
   },
   {
    "duration": 3702,
    "start_time": "2022-02-05T21:24:17.551Z"
   },
   {
    "duration": 3325,
    "start_time": "2022-02-05T21:25:14.287Z"
   },
   {
    "duration": 3222,
    "start_time": "2022-02-05T21:25:27.599Z"
   },
   {
    "duration": 62,
    "start_time": "2022-02-05T21:32:11.074Z"
   },
   {
    "duration": 3550,
    "start_time": "2022-02-05T21:32:27.712Z"
   },
   {
    "duration": 60,
    "start_time": "2022-02-05T21:33:30.211Z"
   },
   {
    "duration": 3444,
    "start_time": "2022-02-05T21:33:35.622Z"
   },
   {
    "duration": 3354,
    "start_time": "2022-02-05T21:34:57.396Z"
   },
   {
    "duration": 3418,
    "start_time": "2022-02-05T21:38:41.148Z"
   },
   {
    "duration": 13,
    "start_time": "2022-02-05T21:52:51.181Z"
   },
   {
    "duration": 14,
    "start_time": "2022-02-05T21:53:25.831Z"
   },
   {
    "duration": 4452,
    "start_time": "2022-02-05T22:04:18.311Z"
   },
   {
    "duration": 21,
    "start_time": "2022-02-05T22:05:09.291Z"
   },
   {
    "duration": 71,
    "start_time": "2022-02-05T22:09:09.935Z"
   },
   {
    "duration": 27,
    "start_time": "2022-02-05T22:09:21.743Z"
   },
   {
    "duration": 686,
    "start_time": "2022-02-05T22:09:44.337Z"
   },
   {
    "duration": 41,
    "start_time": "2022-02-05T22:09:45.024Z"
   },
   {
    "duration": 6,
    "start_time": "2022-02-05T22:09:45.067Z"
   },
   {
    "duration": 9,
    "start_time": "2022-02-05T22:09:45.074Z"
   },
   {
    "duration": 29,
    "start_time": "2022-02-05T22:09:45.085Z"
   },
   {
    "duration": 22,
    "start_time": "2022-02-05T22:09:45.115Z"
   },
   {
    "duration": 31,
    "start_time": "2022-02-05T22:09:45.139Z"
   },
   {
    "duration": 8029,
    "start_time": "2022-02-05T22:09:45.172Z"
   },
   {
    "duration": 5807,
    "start_time": "2022-02-05T22:10:59.889Z"
   },
   {
    "duration": 7630,
    "start_time": "2022-02-05T22:12:31.462Z"
   },
   {
    "duration": 3407,
    "start_time": "2022-02-05T22:12:58.971Z"
   },
   {
    "duration": 3225,
    "start_time": "2022-02-05T22:14:38.626Z"
   },
   {
    "duration": 3474,
    "start_time": "2022-02-05T22:14:53.710Z"
   },
   {
    "duration": 183,
    "start_time": "2022-02-05T22:29:58.044Z"
   },
   {
    "duration": 668,
    "start_time": "2022-02-05T22:30:35.641Z"
   },
   {
    "duration": 26,
    "start_time": "2022-02-05T22:30:36.310Z"
   },
   {
    "duration": 21,
    "start_time": "2022-02-05T22:30:36.338Z"
   },
   {
    "duration": 3,
    "start_time": "2022-02-05T22:30:36.361Z"
   },
   {
    "duration": 35,
    "start_time": "2022-02-05T22:30:36.366Z"
   },
   {
    "duration": 17,
    "start_time": "2022-02-05T22:30:36.403Z"
   },
   {
    "duration": 22,
    "start_time": "2022-02-05T22:30:36.422Z"
   },
   {
    "duration": 3174,
    "start_time": "2022-02-05T22:30:36.447Z"
   },
   {
    "duration": 243,
    "start_time": "2022-02-05T22:31:12.461Z"
   },
   {
    "duration": 678,
    "start_time": "2022-02-05T22:31:37.844Z"
   },
   {
    "duration": 35,
    "start_time": "2022-02-05T22:31:38.524Z"
   },
   {
    "duration": 6,
    "start_time": "2022-02-05T22:31:38.563Z"
   },
   {
    "duration": 5,
    "start_time": "2022-02-05T22:31:38.571Z"
   },
   {
    "duration": 31,
    "start_time": "2022-02-05T22:31:38.577Z"
   },
   {
    "duration": 16,
    "start_time": "2022-02-05T22:31:38.609Z"
   },
   {
    "duration": 36,
    "start_time": "2022-02-05T22:31:38.626Z"
   },
   {
    "duration": 3278,
    "start_time": "2022-02-05T22:31:38.664Z"
   },
   {
    "duration": 400,
    "start_time": "2022-02-06T08:09:32.320Z"
   },
   {
    "duration": 929,
    "start_time": "2022-02-06T08:09:50.675Z"
   },
   {
    "duration": 69,
    "start_time": "2022-02-06T08:09:51.608Z"
   },
   {
    "duration": 11,
    "start_time": "2022-02-06T08:09:51.681Z"
   },
   {
    "duration": 8,
    "start_time": "2022-02-06T08:09:51.695Z"
   },
   {
    "duration": 79,
    "start_time": "2022-02-06T08:09:51.706Z"
   },
   {
    "duration": 34,
    "start_time": "2022-02-06T08:09:51.788Z"
   },
   {
    "duration": 50,
    "start_time": "2022-02-06T08:09:51.826Z"
   },
   {
    "duration": 5482,
    "start_time": "2022-02-06T08:09:51.881Z"
   },
   {
    "duration": 530,
    "start_time": "2022-02-06T08:11:26.571Z"
   },
   {
    "duration": 404,
    "start_time": "2022-02-06T08:11:54.499Z"
   },
   {
    "duration": 388,
    "start_time": "2022-02-06T08:24:01.049Z"
   },
   {
    "duration": 8,
    "start_time": "2022-02-06T08:25:18.139Z"
   },
   {
    "duration": 403,
    "start_time": "2022-02-06T08:31:31.783Z"
   },
   {
    "duration": 871,
    "start_time": "2022-02-06T08:34:28.785Z"
   },
   {
    "duration": 35,
    "start_time": "2022-02-06T08:34:29.659Z"
   },
   {
    "duration": 8,
    "start_time": "2022-02-06T08:34:29.697Z"
   },
   {
    "duration": 5,
    "start_time": "2022-02-06T08:34:29.707Z"
   },
   {
    "duration": 69,
    "start_time": "2022-02-06T08:34:29.715Z"
   },
   {
    "duration": 23,
    "start_time": "2022-02-06T08:34:29.786Z"
   },
   {
    "duration": 23,
    "start_time": "2022-02-06T08:34:29.811Z"
   },
   {
    "duration": 5002,
    "start_time": "2022-02-06T08:34:29.859Z"
   },
   {
    "duration": 8,
    "start_time": "2022-02-06T08:34:34.863Z"
   },
   {
    "duration": 484,
    "start_time": "2022-02-06T08:34:34.873Z"
   },
   {
    "duration": 3889,
    "start_time": "2022-02-06T08:35:06.108Z"
   },
   {
    "duration": 386,
    "start_time": "2022-02-06T08:46:16.300Z"
   },
   {
    "duration": 421,
    "start_time": "2022-02-06T08:47:23.862Z"
   },
   {
    "duration": 20,
    "start_time": "2022-02-06T08:51:14.322Z"
   },
   {
    "duration": 21,
    "start_time": "2022-02-06T08:51:22.403Z"
   },
   {
    "duration": 26,
    "start_time": "2022-02-06T08:51:35.043Z"
   },
   {
    "duration": 366,
    "start_time": "2022-02-06T08:51:55.344Z"
   },
   {
    "duration": 28,
    "start_time": "2022-02-06T08:52:29.116Z"
   },
   {
    "duration": 27,
    "start_time": "2022-02-06T09:09:58.779Z"
   },
   {
    "duration": 28,
    "start_time": "2022-02-06T09:10:21.663Z"
   },
   {
    "duration": 30,
    "start_time": "2022-02-06T09:11:40.264Z"
   },
   {
    "duration": 9065,
    "start_time": "2022-02-06T09:13:45.930Z"
   },
   {
    "duration": 30,
    "start_time": "2022-02-06T09:14:40.744Z"
   },
   {
    "duration": 9573,
    "start_time": "2022-02-06T09:15:22.187Z"
   },
   {
    "duration": 47,
    "start_time": "2022-02-06T09:16:07.160Z"
   },
   {
    "duration": 27,
    "start_time": "2022-02-06T09:18:03.332Z"
   },
   {
    "duration": 45,
    "start_time": "2022-02-06T09:18:07.973Z"
   },
   {
    "duration": 124,
    "start_time": "2022-02-06T09:27:41.328Z"
   },
   {
    "duration": 117,
    "start_time": "2022-02-06T09:28:40.618Z"
   },
   {
    "duration": 117,
    "start_time": "2022-02-06T09:29:13.248Z"
   },
   {
    "duration": 366,
    "start_time": "2022-02-06T09:29:46.707Z"
   },
   {
    "duration": 492,
    "start_time": "2022-02-06T09:30:38.813Z"
   },
   {
    "duration": 388,
    "start_time": "2022-02-06T09:38:12.756Z"
   },
   {
    "duration": 7324,
    "start_time": "2022-02-06T09:41:20.718Z"
   },
   {
    "duration": 7231,
    "start_time": "2022-02-06T09:42:57.521Z"
   },
   {
    "duration": 6620,
    "start_time": "2022-02-06T09:43:51.754Z"
   },
   {
    "duration": 9067,
    "start_time": "2022-02-06T09:44:17.858Z"
   },
   {
    "duration": 9293,
    "start_time": "2022-02-06T09:45:18.551Z"
   },
   {
    "duration": 9750,
    "start_time": "2022-02-06T09:45:35.026Z"
   },
   {
    "duration": 7291,
    "start_time": "2022-02-06T09:46:48.867Z"
   },
   {
    "duration": 9361,
    "start_time": "2022-02-06T09:47:32.464Z"
   },
   {
    "duration": 32,
    "start_time": "2022-02-06T09:48:30.211Z"
   },
   {
    "duration": 31,
    "start_time": "2022-02-06T09:49:13.491Z"
   },
   {
    "duration": 32,
    "start_time": "2022-02-06T09:50:05.445Z"
   },
   {
    "duration": 40,
    "start_time": "2022-02-06T09:52:11.116Z"
   },
   {
    "duration": 390,
    "start_time": "2022-02-06T09:53:24.848Z"
   },
   {
    "duration": 7095,
    "start_time": "2022-02-06T09:53:41.175Z"
   },
   {
    "duration": 1772,
    "start_time": "2022-02-06T10:06:37.080Z"
   },
   {
    "duration": 1418,
    "start_time": "2022-02-06T10:07:07.678Z"
   },
   {
    "duration": 917,
    "start_time": "2022-02-06T10:07:43.131Z"
   },
   {
    "duration": 42,
    "start_time": "2022-02-06T10:07:44.050Z"
   },
   {
    "duration": 8,
    "start_time": "2022-02-06T10:07:44.095Z"
   },
   {
    "duration": 5,
    "start_time": "2022-02-06T10:07:44.106Z"
   },
   {
    "duration": 71,
    "start_time": "2022-02-06T10:07:44.113Z"
   },
   {
    "duration": 24,
    "start_time": "2022-02-06T10:07:44.186Z"
   },
   {
    "duration": 47,
    "start_time": "2022-02-06T10:07:44.212Z"
   },
   {
    "duration": 4889,
    "start_time": "2022-02-06T10:07:44.261Z"
   },
   {
    "duration": 8,
    "start_time": "2022-02-06T10:07:49.160Z"
   },
   {
    "duration": 1478,
    "start_time": "2022-02-06T10:07:49.171Z"
   },
   {
    "duration": 401,
    "start_time": "2022-02-06T10:08:36.108Z"
   },
   {
    "duration": 369,
    "start_time": "2022-02-06T10:08:54.843Z"
   },
   {
    "duration": 50,
    "start_time": "2022-02-06T10:09:28.596Z"
   },
   {
    "duration": 373,
    "start_time": "2022-02-06T10:11:47.946Z"
   },
   {
    "duration": 408,
    "start_time": "2022-02-06T10:13:05.715Z"
   },
   {
    "duration": 436,
    "start_time": "2022-02-06T10:23:38.334Z"
   },
   {
    "duration": 939,
    "start_time": "2022-02-06T10:23:46.103Z"
   },
   {
    "duration": 45,
    "start_time": "2022-02-06T10:23:47.045Z"
   },
   {
    "duration": 8,
    "start_time": "2022-02-06T10:23:47.093Z"
   },
   {
    "duration": 5,
    "start_time": "2022-02-06T10:23:47.104Z"
   },
   {
    "duration": 71,
    "start_time": "2022-02-06T10:23:47.111Z"
   },
   {
    "duration": 22,
    "start_time": "2022-02-06T10:23:47.184Z"
   },
   {
    "duration": 22,
    "start_time": "2022-02-06T10:23:47.208Z"
   },
   {
    "duration": 5105,
    "start_time": "2022-02-06T10:23:47.233Z"
   },
   {
    "duration": 540,
    "start_time": "2022-02-06T10:23:52.341Z"
   },
   {
    "duration": 669,
    "start_time": "2022-02-06T10:23:52.216Z"
   },
   {
    "duration": 44,
    "start_time": "2022-02-06T10:24:45.506Z"
   },
   {
    "duration": 31,
    "start_time": "2022-02-06T10:25:01.334Z"
   },
   {
    "duration": 28,
    "start_time": "2022-02-06T10:32:34.763Z"
   },
   {
    "duration": 391,
    "start_time": "2022-02-06T10:36:57.001Z"
   },
   {
    "duration": 35,
    "start_time": "2022-02-06T10:37:29.054Z"
   },
   {
    "duration": 885,
    "start_time": "2022-02-06T10:42:06.712Z"
   },
   {
    "duration": 38,
    "start_time": "2022-02-06T10:42:07.600Z"
   },
   {
    "duration": 21,
    "start_time": "2022-02-06T10:42:07.642Z"
   },
   {
    "duration": 5,
    "start_time": "2022-02-06T10:42:07.667Z"
   },
   {
    "duration": 37,
    "start_time": "2022-02-06T10:42:07.674Z"
   },
   {
    "duration": 57,
    "start_time": "2022-02-06T10:42:07.713Z"
   },
   {
    "duration": 22,
    "start_time": "2022-02-06T10:42:07.772Z"
   },
   {
    "duration": 4797,
    "start_time": "2022-02-06T10:42:07.797Z"
   },
   {
    "duration": 45,
    "start_time": "2022-02-06T10:42:12.597Z"
   },
   {
    "duration": 41,
    "start_time": "2022-02-06T10:42:12.645Z"
   },
   {
    "duration": 33,
    "start_time": "2022-02-06T10:42:12.688Z"
   },
   {
    "duration": 50,
    "start_time": "2022-02-06T10:42:12.724Z"
   },
   {
    "duration": 28,
    "start_time": "2022-02-06T10:55:11.498Z"
   },
   {
    "duration": 30,
    "start_time": "2022-02-06T10:59:07.289Z"
   },
   {
    "duration": 30,
    "start_time": "2022-02-06T10:59:20.101Z"
   },
   {
    "duration": 29,
    "start_time": "2022-02-06T11:00:24.875Z"
   },
   {
    "duration": 9465,
    "start_time": "2022-02-06T11:44:45.814Z"
   },
   {
    "duration": 389,
    "start_time": "2022-02-06T11:45:08.897Z"
   },
   {
    "duration": 32,
    "start_time": "2022-02-06T11:45:38.266Z"
   },
   {
    "duration": 369,
    "start_time": "2022-02-06T11:51:02.326Z"
   },
   {
    "duration": 1860,
    "start_time": "2022-02-06T11:51:18.763Z"
   },
   {
    "duration": 46,
    "start_time": "2022-02-06T11:51:20.625Z"
   },
   {
    "duration": 8,
    "start_time": "2022-02-06T11:51:20.674Z"
   },
   {
    "duration": 10,
    "start_time": "2022-02-06T11:51:20.685Z"
   },
   {
    "duration": 41,
    "start_time": "2022-02-06T11:51:20.697Z"
   },
   {
    "duration": 39,
    "start_time": "2022-02-06T11:51:20.740Z"
   },
   {
    "duration": 21,
    "start_time": "2022-02-06T11:51:20.781Z"
   },
   {
    "duration": 4756,
    "start_time": "2022-02-06T11:51:20.805Z"
   },
   {
    "duration": 44,
    "start_time": "2022-02-06T11:51:25.564Z"
   },
   {
    "duration": 28,
    "start_time": "2022-02-06T11:51:25.610Z"
   },
   {
    "duration": 34,
    "start_time": "2022-02-06T11:51:25.660Z"
   },
   {
    "duration": 25,
    "start_time": "2022-02-06T11:51:25.697Z"
   },
   {
    "duration": 9081,
    "start_time": "2022-02-06T11:51:25.725Z"
   },
   {
    "duration": 218,
    "start_time": "2022-02-06T11:51:47.699Z"
   },
   {
    "duration": 208,
    "start_time": "2022-02-06T11:52:32.167Z"
   },
   {
    "duration": 220,
    "start_time": "2022-02-06T11:52:43.123Z"
   },
   {
    "duration": 379,
    "start_time": "2022-02-06T11:59:48.408Z"
   },
   {
    "duration": 384,
    "start_time": "2022-02-06T12:04:46.683Z"
   },
   {
    "duration": 26,
    "start_time": "2022-02-06T12:05:49.319Z"
   },
   {
    "duration": 32,
    "start_time": "2022-02-06T12:12:46.035Z"
   },
   {
    "duration": 9,
    "start_time": "2022-02-06T12:19:29.559Z"
   },
   {
    "duration": 11,
    "start_time": "2022-02-06T12:19:37.301Z"
   },
   {
    "duration": 261,
    "start_time": "2022-02-06T12:21:04.860Z"
   },
   {
    "duration": 347,
    "start_time": "2022-02-06T12:26:42.425Z"
   },
   {
    "duration": 432,
    "start_time": "2022-02-06T12:36:09.171Z"
   },
   {
    "duration": 537,
    "start_time": "2022-02-06T12:36:30.645Z"
   },
   {
    "duration": 416,
    "start_time": "2022-02-06T12:36:52.105Z"
   },
   {
    "duration": 420,
    "start_time": "2022-02-06T12:38:09.982Z"
   },
   {
    "duration": 1941,
    "start_time": "2022-02-06T12:44:10.370Z"
   },
   {
    "duration": 63,
    "start_time": "2022-02-06T12:44:12.314Z"
   },
   {
    "duration": 10,
    "start_time": "2022-02-06T12:44:12.380Z"
   },
   {
    "duration": 8,
    "start_time": "2022-02-06T12:44:12.392Z"
   },
   {
    "duration": 39,
    "start_time": "2022-02-06T12:44:12.402Z"
   },
   {
    "duration": 45,
    "start_time": "2022-02-06T12:44:12.443Z"
   },
   {
    "duration": 24,
    "start_time": "2022-02-06T12:44:12.491Z"
   },
   {
    "duration": 5334,
    "start_time": "2022-02-06T12:44:12.518Z"
   },
   {
    "duration": 54,
    "start_time": "2022-02-06T12:44:17.855Z"
   },
   {
    "duration": 50,
    "start_time": "2022-02-06T12:44:17.911Z"
   },
   {
    "duration": 39,
    "start_time": "2022-02-06T12:44:17.964Z"
   },
   {
    "duration": 63,
    "start_time": "2022-02-06T12:44:18.006Z"
   },
   {
    "duration": 32,
    "start_time": "2022-02-06T12:44:18.072Z"
   },
   {
    "duration": 484,
    "start_time": "2022-02-06T12:44:18.106Z"
   },
   {
    "duration": 541,
    "start_time": "2022-02-06T12:45:50.628Z"
   },
   {
    "duration": 1637,
    "start_time": "2022-02-06T12:46:07.130Z"
   },
   {
    "duration": 42,
    "start_time": "2022-02-06T12:46:08.770Z"
   },
   {
    "duration": 10,
    "start_time": "2022-02-06T12:46:08.816Z"
   },
   {
    "duration": 38,
    "start_time": "2022-02-06T12:46:08.829Z"
   },
   {
    "duration": 39,
    "start_time": "2022-02-06T12:46:08.872Z"
   },
   {
    "duration": 60,
    "start_time": "2022-02-06T12:46:08.913Z"
   },
   {
    "duration": 24,
    "start_time": "2022-02-06T12:46:08.977Z"
   },
   {
    "duration": 5625,
    "start_time": "2022-02-06T12:46:09.005Z"
   },
   {
    "duration": 67,
    "start_time": "2022-02-06T12:46:14.633Z"
   },
   {
    "duration": 31,
    "start_time": "2022-02-06T12:46:14.702Z"
   },
   {
    "duration": 58,
    "start_time": "2022-02-06T12:46:14.737Z"
   },
   {
    "duration": 31,
    "start_time": "2022-02-06T12:46:14.798Z"
   },
   {
    "duration": 61,
    "start_time": "2022-02-06T12:46:14.831Z"
   },
   {
    "duration": 488,
    "start_time": "2022-02-06T12:46:14.894Z"
   },
   {
    "duration": 53,
    "start_time": "2022-02-06T14:19:35.216Z"
   },
   {
    "duration": 52,
    "start_time": "2022-02-06T14:19:55.693Z"
   },
   {
    "duration": 1912,
    "start_time": "2022-02-06T14:20:02.421Z"
   },
   {
    "duration": 50,
    "start_time": "2022-02-06T14:20:04.336Z"
   },
   {
    "duration": 244,
    "start_time": "2022-02-06T14:20:04.390Z"
   },
   {
    "duration": 588,
    "start_time": "2022-02-06T14:20:04.050Z"
   },
   {
    "duration": 584,
    "start_time": "2022-02-06T14:20:04.056Z"
   },
   {
    "duration": 584,
    "start_time": "2022-02-06T14:20:04.058Z"
   },
   {
    "duration": 584,
    "start_time": "2022-02-06T14:20:04.060Z"
   },
   {
    "duration": 583,
    "start_time": "2022-02-06T14:20:04.062Z"
   },
   {
    "duration": 582,
    "start_time": "2022-02-06T14:20:04.064Z"
   },
   {
    "duration": 579,
    "start_time": "2022-02-06T14:20:04.069Z"
   },
   {
    "duration": 579,
    "start_time": "2022-02-06T14:20:04.070Z"
   },
   {
    "duration": 578,
    "start_time": "2022-02-06T14:20:04.073Z"
   },
   {
    "duration": 573,
    "start_time": "2022-02-06T14:20:04.079Z"
   },
   {
    "duration": 573,
    "start_time": "2022-02-06T14:20:04.080Z"
   },
   {
    "duration": 157,
    "start_time": "2022-02-06T14:20:49.048Z"
   },
   {
    "duration": 12,
    "start_time": "2022-02-06T14:21:05.054Z"
   },
   {
    "duration": 1797,
    "start_time": "2022-02-06T14:21:12.453Z"
   },
   {
    "duration": 38,
    "start_time": "2022-02-06T14:21:14.260Z"
   },
   {
    "duration": 8,
    "start_time": "2022-02-06T14:21:14.301Z"
   },
   {
    "duration": 5,
    "start_time": "2022-02-06T14:21:14.312Z"
   },
   {
    "duration": 87,
    "start_time": "2022-02-06T14:21:14.320Z"
   },
   {
    "duration": 62,
    "start_time": "2022-02-06T14:21:14.409Z"
   },
   {
    "duration": 22,
    "start_time": "2022-02-06T14:21:14.474Z"
   },
   {
    "duration": 5751,
    "start_time": "2022-02-06T14:21:14.499Z"
   },
   {
    "duration": 64,
    "start_time": "2022-02-06T14:21:20.261Z"
   },
   {
    "duration": 62,
    "start_time": "2022-02-06T14:21:20.328Z"
   },
   {
    "duration": 68,
    "start_time": "2022-02-06T14:21:20.393Z"
   },
   {
    "duration": 28,
    "start_time": "2022-02-06T14:21:20.464Z"
   },
   {
    "duration": 28,
    "start_time": "2022-02-06T14:21:20.495Z"
   },
   {
    "duration": 439,
    "start_time": "2022-02-06T14:21:20.526Z"
   },
   {
    "duration": 239,
    "start_time": "2022-02-06T17:44:37.536Z"
   },
   {
    "duration": 1235,
    "start_time": "2022-02-06T17:44:52.190Z"
   },
   {
    "duration": 31,
    "start_time": "2022-02-06T17:44:53.427Z"
   },
   {
    "duration": 6,
    "start_time": "2022-02-06T17:44:53.460Z"
   },
   {
    "duration": 3,
    "start_time": "2022-02-06T17:44:53.468Z"
   },
   {
    "duration": 59,
    "start_time": "2022-02-06T17:44:53.473Z"
   },
   {
    "duration": 21,
    "start_time": "2022-02-06T17:44:53.534Z"
   },
   {
    "duration": 15,
    "start_time": "2022-02-06T17:44:53.557Z"
   },
   {
    "duration": 3411,
    "start_time": "2022-02-06T17:44:53.575Z"
   },
   {
    "duration": 41,
    "start_time": "2022-02-06T17:44:56.988Z"
   },
   {
    "duration": 19,
    "start_time": "2022-02-06T17:44:57.031Z"
   },
   {
    "duration": 21,
    "start_time": "2022-02-06T17:44:57.051Z"
   },
   {
    "duration": 43,
    "start_time": "2022-02-06T17:44:57.074Z"
   },
   {
    "duration": 20,
    "start_time": "2022-02-06T17:44:57.119Z"
   },
   {
    "duration": 283,
    "start_time": "2022-02-06T17:44:57.141Z"
   },
   {
    "duration": 3554,
    "start_time": "2022-02-06T17:54:44.231Z"
   },
   {
    "duration": 26,
    "start_time": "2022-02-06T17:59:33.034Z"
   },
   {
    "duration": 22,
    "start_time": "2022-02-06T18:00:27.040Z"
   },
   {
    "duration": 1186,
    "start_time": "2022-02-06T18:02:08.380Z"
   },
   {
    "duration": 28,
    "start_time": "2022-02-06T18:02:09.568Z"
   },
   {
    "duration": 7,
    "start_time": "2022-02-06T18:02:09.612Z"
   },
   {
    "duration": 6,
    "start_time": "2022-02-06T18:02:09.624Z"
   },
   {
    "duration": 35,
    "start_time": "2022-02-06T18:02:09.633Z"
   },
   {
    "duration": 50,
    "start_time": "2022-02-06T18:02:09.670Z"
   },
   {
    "duration": 17,
    "start_time": "2022-02-06T18:02:09.723Z"
   },
   {
    "duration": 3834,
    "start_time": "2022-02-06T18:02:09.742Z"
   },
   {
    "duration": 42,
    "start_time": "2022-02-06T18:02:13.578Z"
   },
   {
    "duration": 20,
    "start_time": "2022-02-06T18:02:13.621Z"
   },
   {
    "duration": 35,
    "start_time": "2022-02-06T18:02:13.643Z"
   },
   {
    "duration": 50,
    "start_time": "2022-02-06T18:02:13.679Z"
   },
   {
    "duration": 23,
    "start_time": "2022-02-06T18:02:13.730Z"
   },
   {
    "duration": 324,
    "start_time": "2022-02-06T18:02:13.755Z"
   },
   {
    "duration": 1216,
    "start_time": "2022-02-06T18:21:51.928Z"
   },
   {
    "duration": 30,
    "start_time": "2022-02-06T18:21:53.146Z"
   },
   {
    "duration": 6,
    "start_time": "2022-02-06T18:21:53.177Z"
   },
   {
    "duration": 28,
    "start_time": "2022-02-06T18:21:53.185Z"
   },
   {
    "duration": 37,
    "start_time": "2022-02-06T18:21:53.215Z"
   },
   {
    "duration": 20,
    "start_time": "2022-02-06T18:21:53.254Z"
   },
   {
    "duration": 40,
    "start_time": "2022-02-06T18:21:53.276Z"
   },
   {
    "duration": 3369,
    "start_time": "2022-02-06T18:21:53.318Z"
   },
   {
    "duration": 42,
    "start_time": "2022-02-06T18:21:56.689Z"
   },
   {
    "duration": 20,
    "start_time": "2022-02-06T18:21:56.733Z"
   },
   {
    "duration": 25,
    "start_time": "2022-02-06T18:21:56.755Z"
   },
   {
    "duration": 41,
    "start_time": "2022-02-06T18:21:56.781Z"
   },
   {
    "duration": 21,
    "start_time": "2022-02-06T18:21:56.824Z"
   },
   {
    "duration": 311,
    "start_time": "2022-02-06T18:21:56.847Z"
   },
   {
    "duration": 3814,
    "start_time": "2022-02-06T18:23:18.167Z"
   },
   {
    "duration": 1261,
    "start_time": "2022-02-06T18:23:27.222Z"
   },
   {
    "duration": 35,
    "start_time": "2022-02-06T18:23:28.485Z"
   },
   {
    "duration": 6,
    "start_time": "2022-02-06T18:23:28.522Z"
   },
   {
    "duration": 5,
    "start_time": "2022-02-06T18:23:28.530Z"
   },
   {
    "duration": 38,
    "start_time": "2022-02-06T18:23:28.537Z"
   },
   {
    "duration": 46,
    "start_time": "2022-02-06T18:23:28.577Z"
   },
   {
    "duration": 16,
    "start_time": "2022-02-06T18:23:28.625Z"
   },
   {
    "duration": 3646,
    "start_time": "2022-02-06T18:23:28.644Z"
   },
   {
    "duration": 42,
    "start_time": "2022-02-06T18:23:32.293Z"
   },
   {
    "duration": 21,
    "start_time": "2022-02-06T18:23:32.337Z"
   },
   {
    "duration": 22,
    "start_time": "2022-02-06T18:23:32.360Z"
   },
   {
    "duration": 45,
    "start_time": "2022-02-06T18:23:32.384Z"
   },
   {
    "duration": 20,
    "start_time": "2022-02-06T18:23:32.431Z"
   },
   {
    "duration": 302,
    "start_time": "2022-02-06T18:23:32.453Z"
   },
   {
    "duration": 270,
    "start_time": "2022-02-06T18:44:07.140Z"
   },
   {
    "duration": 35,
    "start_time": "2022-02-06T18:50:24.780Z"
   },
   {
    "duration": 27,
    "start_time": "2022-02-06T18:51:28.833Z"
   },
   {
    "duration": 1269,
    "start_time": "2022-02-06T19:01:30.168Z"
   },
   {
    "duration": 27,
    "start_time": "2022-02-06T19:01:31.439Z"
   },
   {
    "duration": 6,
    "start_time": "2022-02-06T19:01:31.470Z"
   },
   {
    "duration": 4,
    "start_time": "2022-02-06T19:01:31.478Z"
   },
   {
    "duration": 60,
    "start_time": "2022-02-06T19:01:31.483Z"
   },
   {
    "duration": 22,
    "start_time": "2022-02-06T19:01:31.544Z"
   },
   {
    "duration": 15,
    "start_time": "2022-02-06T19:01:31.567Z"
   },
   {
    "duration": 3473,
    "start_time": "2022-02-06T19:01:31.584Z"
   },
   {
    "duration": 29,
    "start_time": "2022-02-06T19:01:35.059Z"
   },
   {
    "duration": 35,
    "start_time": "2022-02-06T19:01:35.089Z"
   },
   {
    "duration": 23,
    "start_time": "2022-02-06T19:01:35.125Z"
   },
   {
    "duration": 20,
    "start_time": "2022-02-06T19:01:35.149Z"
   },
   {
    "duration": 45,
    "start_time": "2022-02-06T19:01:35.171Z"
   },
   {
    "duration": 283,
    "start_time": "2022-02-06T19:01:35.218Z"
   },
   {
    "duration": 1261,
    "start_time": "2022-02-13T06:48:10.303Z"
   },
   {
    "duration": 29,
    "start_time": "2022-02-13T06:48:11.566Z"
   },
   {
    "duration": 5,
    "start_time": "2022-02-13T06:48:11.597Z"
   },
   {
    "duration": 3,
    "start_time": "2022-02-13T06:48:11.619Z"
   },
   {
    "duration": 37,
    "start_time": "2022-02-13T06:48:11.624Z"
   },
   {
    "duration": 20,
    "start_time": "2022-02-13T06:48:11.663Z"
   },
   {
    "duration": 37,
    "start_time": "2022-02-13T06:48:11.685Z"
   },
   {
    "duration": 3633,
    "start_time": "2022-02-13T06:48:11.723Z"
   },
   {
    "duration": 34,
    "start_time": "2022-02-13T06:48:15.359Z"
   },
   {
    "duration": 35,
    "start_time": "2022-02-13T06:48:15.395Z"
   },
   {
    "duration": 23,
    "start_time": "2022-02-13T06:48:15.432Z"
   },
   {
    "duration": 20,
    "start_time": "2022-02-13T06:48:15.456Z"
   },
   {
    "duration": 46,
    "start_time": "2022-02-13T06:48:15.477Z"
   },
   {
    "duration": 253,
    "start_time": "2022-02-13T06:48:15.524Z"
   },
   {
    "duration": 14,
    "start_time": "2022-02-13T06:49:02.341Z"
   },
   {
    "duration": 121,
    "start_time": "2022-02-16T19:11:46.028Z"
   },
   {
    "duration": 123,
    "start_time": "2022-02-16T19:11:48.880Z"
   },
   {
    "duration": 2276,
    "start_time": "2022-02-16T19:20:28.569Z"
   },
   {
    "duration": 68,
    "start_time": "2022-02-16T19:20:30.848Z"
   },
   {
    "duration": 11,
    "start_time": "2022-02-16T19:20:30.920Z"
   },
   {
    "duration": 11,
    "start_time": "2022-02-16T19:20:30.935Z"
   },
   {
    "duration": 107,
    "start_time": "2022-02-16T19:20:30.949Z"
   },
   {
    "duration": 33,
    "start_time": "2022-02-16T19:20:31.058Z"
   },
   {
    "duration": 25,
    "start_time": "2022-02-16T19:20:31.110Z"
   },
   {
    "duration": 5386,
    "start_time": "2022-02-16T19:20:31.138Z"
   },
   {
    "duration": 65,
    "start_time": "2022-02-16T19:20:36.527Z"
   },
   {
    "duration": 35,
    "start_time": "2022-02-16T19:20:36.594Z"
   },
   {
    "duration": 37,
    "start_time": "2022-02-16T19:20:36.631Z"
   },
   {
    "duration": 59,
    "start_time": "2022-02-16T19:20:36.671Z"
   },
   {
    "duration": 29,
    "start_time": "2022-02-16T19:20:36.733Z"
   },
   {
    "duration": 452,
    "start_time": "2022-02-16T19:20:36.765Z"
   }
  ],
  "kernelspec": {
   "display_name": "Python 3 (ipykernel)",
   "language": "python",
   "name": "python3"
  },
  "language_info": {
   "codemirror_mode": {
    "name": "ipython",
    "version": 3
   },
   "file_extension": ".py",
   "mimetype": "text/x-python",
   "name": "python",
   "nbconvert_exporter": "python",
   "pygments_lexer": "ipython3",
   "version": "3.9.7"
  },
  "toc": {
   "base_numbering": 1,
   "nav_menu": {},
   "number_sections": true,
   "sideBar": true,
   "skip_h1_title": true,
   "title_cell": "Table of Contents",
   "title_sidebar": "Contents",
   "toc_cell": false,
   "toc_position": {},
   "toc_section_display": true,
   "toc_window_display": false
  }
 },
 "nbformat": 4,
 "nbformat_minor": 5
}
